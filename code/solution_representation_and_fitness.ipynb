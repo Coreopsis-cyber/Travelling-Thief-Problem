{
 "cells": [
  {
   "cell_type": "code",
   "execution_count": 3,
   "metadata": {},
   "outputs": [],
   "source": [
    "# Imports\n",
    "from ypstruct import structure\n",
    "import numpy as np\n",
    "import random\n",
    "import math\n",
    "import matplotlib.pyplot as plt\n",
    "from scipy.spatial import distance_matrix\n",
    "from scipy.spatial.distance import pdist, squareform\n",
    "import re\n",
    "import seaborn as sns"
   ]
  },
  {
   "cell_type": "code",
   "execution_count": 4,
   "metadata": {},
   "outputs": [],
   "source": [
    "def read_TTP_instance_data(file_path):\n",
    "    nb_items = int(file_path.split(\"-\")[1].strip(\"n\").split(\".txt\")[0])\n",
    "    nb_cities = int(re.sub(\"\\D\", \"\", file_path.split(\"-\")[0].split(\"/\")[2]))\n",
    "    # Read node coordinates from the file\n",
    "    with open(file_path, 'r') as file:\n",
    "        lines = file.readlines()\n",
    "\n",
    "    # Initialize variables\n",
    "    node_coordinates = []\n",
    "    item_values = []\n",
    "    item_weights= []\n",
    "    in_node_section = False\n",
    "    in_item_section = False\n",
    "    item_to_city_mapping_dict = {}\n",
    "    v_min = None\n",
    "    v_max = None\n",
    "    max_capacity = None\n",
    "    renting_ratio = None\n",
    "\n",
    "    for i in range(nb_cities):\n",
    "        item_to_city_mapping_dict[i] = []\n",
    "\n",
    "    # Extract node coordinates and item data\n",
    "    for line in lines:\n",
    "        if line.startswith(\"CAPACITY OF KNAPSACK\"):\n",
    "            max_capacity = int(line.strip().split()[3])\n",
    "            continue\n",
    "        elif line.startswith(\"MIN SPEED\"):\n",
    "            v_min = float(line.strip().split()[2])\n",
    "        elif line.startswith(\"MAX SPEED\"):\n",
    "            v_max = float(line.strip().split()[2])\n",
    "        elif line.startswith(\"RENTING RATIO\"):\n",
    "            renting_ratio = float(line.strip().split()[2])\n",
    "        elif line.startswith('NODE_COORD_SECTION'):\n",
    "            in_node_section = True\n",
    "            in_item_section = False\n",
    "            continue\n",
    "        elif line.startswith('ITEMS SECTION'):\n",
    "            in_node_section = False\n",
    "            in_item_section = True\n",
    "            continue\n",
    "        elif line.startswith('EOF'):\n",
    "            break\n",
    "        \n",
    "        if in_node_section:\n",
    "            _, x, y = map(int, line.strip().split())\n",
    "            node_coordinates.append((x, y))\n",
    "        elif in_item_section:\n",
    "            item_id, profit, weight, node_number = map(int, line.strip().split())\n",
    "            item_to_city_mapping_dict[node_number - 1].append(item_id-1) # re-index to 0\n",
    "            item_values.append(profit)\n",
    "            item_weights.append(weight)\n",
    "    \n",
    "    value_to_weight_ratio = np.array(item_values) / np.array(item_weights)\n",
    "    value_to_weight_ratio_dict = dict(zip(list(range(len(value_to_weight_ratio))), value_to_weight_ratio))\n",
    "    # for i in range(len(value_to_weight_ratio)):\n",
    "    #     value_to_weight_ratio_dict[i] = value_to_weight_ratio[i]\n",
    "    \n",
    "    return {\"nb_cities\": nb_cities,\n",
    "            \"nb_items\": nb_items,\n",
    "            \"Q\": max_capacity, \n",
    "            \"v_min\": v_min, \n",
    "            \"v_max\": v_max, \n",
    "            \"R\": renting_ratio, \n",
    "            \"pairwise_distances\": pdist(node_coordinates), \n",
    "            \"item_to_city_mapping_dict\":item_to_city_mapping_dict,\n",
    "            \"item_weights\": np.array(item_weights),\n",
    "            \"item_values\": np.array(item_values),\n",
    "            \"value_to_weight_ratio_dict\": value_to_weight_ratio_dict\n",
    "            }"
   ]
  },
  {
   "cell_type": "markdown",
   "metadata": {},
   "source": [
    "#### Replicating the example evaluation of a candidate solution found in as found https://link.springer.com/chapter/10.1007/978-3-319-54157-0_4"
   ]
  },
  {
   "cell_type": "markdown",
   "metadata": {},
   "source": [
    "Setting up the problem example"
   ]
  },
  {
   "cell_type": "code",
   "execution_count": 5,
   "metadata": {},
   "outputs": [],
   "source": [
    "item_values = np.array([30, 34, 40, 25])\n",
    "item_weights = np.array([25, 30, 40, 21])\n",
    "\n",
    "item_to_city_mapping_dict = {0:[0], 1:[1], 2:[2], 3:[3]}\n",
    "distance_matrix = np.array(\n",
    "    [\n",
    "    [0, 4, 9, 3],\n",
    "    [4, 0, 5, 5],\n",
    "    [9, 5, 0, 8],\n",
    "    [3, 5, 8, 0]\n",
    "    ]\n",
    ").astype(float)\n",
    "\n",
    "vmax = 1.0\n",
    "vmin = 0.1\n",
    "Q = 80"
   ]
  },
  {
   "cell_type": "code",
   "execution_count": 6,
   "metadata": {},
   "outputs": [],
   "source": [
    "ex_node_coords = [(5, 5), (9, 5), (13, 2), (5, 2)]"
   ]
  },
  {
   "cell_type": "code",
   "execution_count": 7,
   "metadata": {},
   "outputs": [
    {
     "data": {
      "text/plain": [
       "array([[0.        , 4.        , 8.54400375, 3.        ],\n",
       "       [4.        , 0.        , 5.        , 5.        ],\n",
       "       [8.54400375, 5.        , 0.        , 8.        ],\n",
       "       [3.        , 5.        , 8.        , 0.        ]])"
      ]
     },
     "execution_count": 7,
     "metadata": {},
     "output_type": "execute_result"
    }
   ],
   "source": [
    "dist_mat = squareform(pdist(ex_node_coords))\n",
    "dist_mat"
   ]
  },
  {
   "cell_type": "markdown",
   "metadata": {},
   "source": [
    "Cost function for the knapsack, as given by:\n",
    "$$\n",
    "  \\sum^m_{j = 1} z_j * b_j\n",
    "$$\n",
    "where $z_j$ is the a binary vector where each index corresponds to an item and is 0 if the item is not picked and 1 if it is and $b_j$ is the values vector."
   ]
  },
  {
   "cell_type": "code",
   "execution_count": 8,
   "metadata": {},
   "outputs": [],
   "source": [
    "def knapsack_cost(candidate_solution, item_values):\n",
    "    return np.sum(np.array(candidate_solution.packing_plan) * item_values)"
   ]
  },
  {
   "cell_type": "markdown",
   "metadata": {},
   "source": [
    "Cost function for the tour, taking into account velocity, as given by:\n",
    "$$\n",
    "    f(\\pi, z) = \\frac{d_{\\pi_1, \\pi_{n}} * R}{v(w(\\pi_{n}))} + \\sum^{n-1}_{i = 1} \\frac{d_{\\pi_i, \\pi_{i+1}} * R}{v(w(\\pi_{i}))}\n",
    "$$ \n",
    "where \n",
    "$$\n",
    "    w(\\pi_i) = \\sum^{i}_{k=1}\\sum^{m}_{j=1} z_j * b_j * a_{j, \\pi_i}\n",
    "$$ \n",
    "\n",
    "and \n",
    "$$\n",
    "    v(q) = v_{max} - \\frac{q}{Q} * (v_{max} - v_{min})\n",
    "$$ \n",
    "\n",
    "where $d_{\\pi_i, \\pi_{i+1}}$ is the distance between city $i$ and $i+1$, obtained from the distance matrix $d$ and $a$ is the item mapping matrix and R is the renting ratio"
   ]
  },
  {
   "cell_type": "code",
   "execution_count": 9,
   "metadata": {},
   "outputs": [],
   "source": [
    "def tour_cost(candidate_solution, distance_matrix, item_to_city_mapping_dict, item_weights, vmax, vmin, Q, renting_ratio):\n",
    "    tour = candidate_solution.tour\n",
    "    \n",
    "    # calculate the weight picked up at each city\n",
    "    weight_at_city_i = []\n",
    "    for city in tour:\n",
    "        # Create a row filled with zeros for the selected item\n",
    "        items_in_city = item_to_city_mapping_dict[city]\n",
    "        # Fill in the row based on the item to city mapping for the selected item\n",
    "\n",
    "        weight_at_city_i.append(sum(np.array(candidate_solution.packing_plan)[items_in_city] * item_weights[items_in_city]))\n",
    "    # calculate the total weight that the thief has when leaving each city using the cumulative sum \n",
    "    weight_at_city_i = np.array(np.cumsum(weight_at_city_i))\n",
    "    # calculate the velocity of the thief when leaving each city\n",
    "    velocity_at_city_i = vmax - weight_at_city_i / Q * (vmax - vmin)\n",
    "    # retrieve the distance between the cities \n",
    "    distance_between_cities = []\n",
    "\n",
    "\n",
    "    for i in range(0, len(tour)-1):\n",
    "\n",
    "        distance_between_cities.append(distance_matrix[tour[i]][tour[i+1]])\n",
    "    distance_between_cities.append(distance_matrix[tour[0]][tour[-1]])\n",
    "    distance_between_cities = np.array(distance_between_cities)\n",
    "    \n",
    "    # return the total completion time\n",
    "    return np.sum(distance_between_cities / velocity_at_city_i) * renting_ratio"
   ]
  },
  {
   "cell_type": "code",
   "execution_count": 10,
   "metadata": {},
   "outputs": [],
   "source": [
    "def evaluate_candidate_solution_cost(candidate_solution, distance_matrix, item_to_city_mapping_dict, item_weights, item_values, vmax, vmin, Q, renting_ratio):\n",
    "    candidate_solution.tour_cost = tour_cost(candidate_solution, distance_matrix, item_to_city_mapping_dict, item_weights, vmax, vmin, Q, renting_ratio)\n",
    "    candidate_solution.packing_plan_cost = knapsack_cost(candidate_solution, item_values)\n",
    "    return candidate_solution"
   ]
  },
  {
   "cell_type": "code",
   "execution_count": 11,
   "metadata": {},
   "outputs": [],
   "source": [
    "def get_pdist_distance(pairwise_distances, i, j, nb_cities):\n",
    "     if i < j:\n",
    "        return pairwise_distances[nb_cities * i + j - ((i + 2) * (i + 1)) // 2]\n",
    "     elif i > j:\n",
    "        return pairwise_distances[nb_cities * j + i - ((j + 2) * (j + 1)) // 2]\n"
   ]
  },
  {
   "cell_type": "code",
   "execution_count": 12,
   "metadata": {},
   "outputs": [],
   "source": [
    "def tour_cost_pdist(candidate_solution, pairwise_distances, item_to_city_mapping_dict, item_weights, vmax, vmin, Q, renting_ratio):\n",
    "    tour = candidate_solution.tour\n",
    "    nb_cities = len(tour)\n",
    "    # calculate the weight picked up at each city\n",
    "    # weight_at_city_i = [\n",
    "    #     sum(np.array(candidate_solution.packing_plan)[item_to_city_mapping_dict[city]] * item_weights[item_to_city_mapping_dict[city]]) for city in tour\n",
    "    # ]\n",
    "\n",
    "    weight = 0\n",
    "    distance = 0\n",
    "    for i in range(len(tour) - 1):\n",
    "        weight +=  sum(np.array(candidate_solution.packing_plan)[item_to_city_mapping_dict[tour[i]]] * item_weights[item_to_city_mapping_dict[tour[i]]])\n",
    "        velocity = vmax - weight / Q * (vmax - vmin)\n",
    "        distance += get_pdist_distance(pairwise_distances, tour[i], tour[i+1], nb_cities) / velocity\n",
    "    weight += sum(np.array(candidate_solution.packing_plan)[item_to_city_mapping_dict[tour[-1]]] * item_weights[item_to_city_mapping_dict[tour[-1]]])\n",
    "    velocity = vmax - weight / Q * (vmax - vmin)\n",
    "    distance += get_pdist_distance(pairwise_distances, tour[0], tour[-1], nb_cities) / velocity\n",
    "    # print(velocity)\n",
    "    # print(distance)\n",
    "\n",
    "    # # calculate the total weight that the thief has when leaving each city using the cumulative sum \n",
    "    # weight_at_city_i = np.cumsum(weight_at_city_i)\n",
    "    # # calculate the velocity of the thief when leaving each city\n",
    "    # velocity_at_city_i = vmax - weight_at_city_i / Q * (vmax - vmin)\n",
    "    # # retrieve the distance between the cities \n",
    "    # distance_between_cities = []\n",
    "\n",
    "    # print(velocity_at_city_i)\n",
    "\n",
    "    # distance_between_cities = [get_pdist_distance(pairwise_distances, tour[i], tour[i+1], nb_cities) for i in range(0, len(tour) - 1)]\n",
    "    # distance_between_cities.append(get_pdist_distance(pairwise_distances, tour[0], tour[-1], nb_cities))\n",
    "    # distance_between_cities = np.array(distance_between_cities)\n",
    "    \n",
    "    # print(np.cumsum(distance_between_cities / velocity_at_city_i))\n",
    "\n",
    "    # # return the total completion time\n",
    "    return distance * renting_ratio"
   ]
  },
  {
   "cell_type": "code",
   "execution_count": 13,
   "metadata": {},
   "outputs": [],
   "source": [
    "def evaluate_candidate_solution_cost_pdist(candidate_solution, pairwise_distances, item_to_city_mapping_dict, item_weights, item_values, vmax, vmin, Q, renting_ratio):\n",
    "    candidate_solution.tour_cost = tour_cost_pdist(candidate_solution, pairwise_distances, item_to_city_mapping_dict, item_weights, vmax, vmin, Q, renting_ratio)\n",
    "    candidate_solution.packing_plan_cost = knapsack_cost(candidate_solution, item_values)\n",
    "    return candidate_solution"
   ]
  },
  {
   "cell_type": "markdown",
   "metadata": {},
   "source": [
    "Setting up the example candidate solutions and evaluating them using the previously defined function"
   ]
  },
  {
   "cell_type": "code",
   "execution_count": 14,
   "metadata": {},
   "outputs": [],
   "source": [
    "ex_tours = [[1, 2, 3, 4], [1, 4, 3, 2], [1, 2, 3, 4], [1, 4, 3, 2], [1, 4, 3, 2], [1, 3, 2, 4],  [1, 4, 3, 2], [1, 2, 3, 4], [1, 4, 3, 2], [1, 3, 2, 4]]\n",
    "ex_packing_plans = [[0, 0, 0, 0], [0, 0, 0, 0], [0, 0, 0, 1], [0, 1, 0, 0], [0, 0, 1, 0], [0, 1, 0, 1], [1, 1, 0, 0], [0, 0, 1, 1], [0, 1, 1, 0], [1, 1, 0, 1]]"
   ]
  },
  {
   "cell_type": "code",
   "execution_count": 15,
   "metadata": {},
   "outputs": [
    {
     "data": {
      "text/plain": [
       "[struct({'tour': [0, 1, 2, 3], 'packing_plan': [0, 0, 0, 0], 'tour_cost': 20.0, 'packing_plan_cost': 0}),\n",
       " struct({'tour': [0, 3, 2, 1], 'packing_plan': [0, 0, 0, 0], 'tour_cost': 20.0, 'packing_plan_cost': 0}),\n",
       " struct({'tour': [0, 1, 2, 3], 'packing_plan': [0, 0, 0, 1], 'tour_cost': 20.927986906710313, 'packing_plan_cost': 25}),\n",
       " struct({'tour': [0, 3, 2, 1], 'packing_plan': [0, 1, 0, 0], 'tour_cost': 22.037735849056602, 'packing_plan_cost': 34}),\n",
       " struct({'tour': [0, 3, 2, 1], 'packing_plan': [0, 0, 1, 0], 'tour_cost': 27.363636363636363, 'packing_plan_cost': 40}),\n",
       " struct({'tour': [0, 2, 1, 3], 'packing_plan': [0, 1, 0, 1], 'tour_cost': 28.12929672379371, 'packing_plan_cost': 59}),\n",
       " struct({'tour': [0, 3, 2, 1], 'packing_plan': [1, 1, 0, 0], 'tour_cost': 32.75267284390591, 'packing_plan_cost': 64}),\n",
       " struct({'tour': [0, 1, 2, 3], 'packing_plan': [0, 0, 1, 1], 'tour_cost': 33.107207533502354, 'packing_plan_cost': 65}),\n",
       " struct({'tour': [0, 3, 2, 1], 'packing_plan': [0, 1, 1, 0], 'tour_cost': 38.91443850267379, 'packing_plan_cost': 74}),\n",
       " struct({'tour': [0, 2, 1, 3], 'packing_plan': [1, 1, 0, 1], 'tour_cost': 52.648240568607534, 'packing_plan_cost': 89})]"
      ]
     },
     "execution_count": 15,
     "metadata": {},
     "output_type": "execute_result"
    }
   ],
   "source": [
    "ex_init_pop = []\n",
    "for i in range(len(ex_tours)):\n",
    "    candidate_solution = structure()\n",
    "    candidate_solution.tour = list(np.array(ex_tours[i])-1)\n",
    "    candidate_solution.packing_plan = ex_packing_plans[i]\n",
    "    evaluate_candidate_solution_cost_pdist(candidate_solution, pdist(ex_node_coords), item_to_city_mapping_dict, item_weights, item_values, vmax, vmin, Q, 1)\n",
    "    ex_init_pop.append(candidate_solution)\n",
    "ex_init_pop"
   ]
  },
  {
   "cell_type": "code",
   "execution_count": 16,
   "metadata": {},
   "outputs": [
    {
     "data": {
      "text/plain": [
       "[struct({'tour': [0, 1, 2, 3], 'packing_plan': [0, 0, 0, 0], 'tour_cost': 20.0, 'packing_plan_cost': 0}),\n",
       " struct({'tour': [0, 3, 2, 1], 'packing_plan': [0, 0, 0, 0], 'tour_cost': 20.0, 'packing_plan_cost': 0}),\n",
       " struct({'tour': [0, 1, 2, 3], 'packing_plan': [0, 0, 0, 1], 'tour_cost': 20.927986906710313, 'packing_plan_cost': 25}),\n",
       " struct({'tour': [0, 3, 2, 1], 'packing_plan': [0, 1, 0, 0], 'tour_cost': 22.037735849056602, 'packing_plan_cost': 34}),\n",
       " struct({'tour': [0, 3, 2, 1], 'packing_plan': [0, 0, 1, 0], 'tour_cost': 27.363636363636363, 'packing_plan_cost': 40}),\n",
       " struct({'tour': [0, 2, 1, 3], 'packing_plan': [0, 1, 0, 1], 'tour_cost': 28.585292978476183, 'packing_plan_cost': 59}),\n",
       " struct({'tour': [0, 3, 2, 1], 'packing_plan': [1, 1, 0, 0], 'tour_cost': 32.75267284390591, 'packing_plan_cost': 64}),\n",
       " struct({'tour': [0, 1, 2, 3], 'packing_plan': [0, 0, 1, 1], 'tour_cost': 33.107207533502354, 'packing_plan_cost': 65}),\n",
       " struct({'tour': [0, 3, 2, 1], 'packing_plan': [0, 1, 1, 0], 'tour_cost': 38.91443850267379, 'packing_plan_cost': 74}),\n",
       " struct({'tour': [0, 2, 1, 3], 'packing_plan': [1, 1, 0, 1], 'tour_cost': 53.28267014033966, 'packing_plan_cost': 89})]"
      ]
     },
     "execution_count": 16,
     "metadata": {},
     "output_type": "execute_result"
    }
   ],
   "source": [
    "ex_init_pop = []\n",
    "for i in range(len(ex_tours)):\n",
    "    candidate_solution = structure()\n",
    "    candidate_solution.tour = list(np.array(ex_tours[i])-1)\n",
    "    candidate_solution.packing_plan = ex_packing_plans[i]\n",
    "    evaluate_candidate_solution_cost(candidate_solution, distance_matrix, item_to_city_mapping_dict, item_weights, item_values, vmax, vmin, Q, 1)\n",
    "    ex_init_pop.append(candidate_solution)\n",
    "ex_init_pop"
   ]
  },
  {
   "cell_type": "code",
   "execution_count": 17,
   "metadata": {},
   "outputs": [],
   "source": [
    "def random_tour(nb_cities):\n",
    "    return random.sample(list(range(nb_cities)), k = nb_cities)"
   ]
  },
  {
   "cell_type": "code",
   "execution_count": 18,
   "metadata": {},
   "outputs": [],
   "source": [
    "def pack_one(init_pop, nb_items):\n",
    "    for candidate_solution in init_pop:\n",
    "        packing_plan = np.zeros(nb_items)\n",
    "        chosen_item = random.sample(list(range(nb_items)), k = 1)\n",
    "        packing_plan[chosen_item] = 1\n",
    "        candidate_solution.packing_plan = list(packing_plan)\n",
    "    return init_pop"
   ]
  },
  {
   "cell_type": "code",
   "execution_count": 80,
   "metadata": {},
   "outputs": [],
   "source": [
    "def repair_packing_plan(candidate_solution, Q, item_weights):\n",
    "    \n",
    "    packing_plan = np.array(candidate_solution.packing_plan.copy())\n",
    "    selected_items = list(np.nonzero(packing_plan))\n",
    "    selected_items_weights = item_weights[selected_items]\n",
    "    while np.sum(selected_items_weights) > Q:\n",
    "        candidate_solution.packing_plan[random.sample(list(selected_items[0]), k = 1)[0]] = 0\n",
    "        packing_plan = np.array(candidate_solution.packing_plan.copy())\n",
    "        selected_items = list(np.nonzero(packing_plan))\n",
    "        selected_items_weights = item_weights[selected_items]"
   ]
  },
  {
   "cell_type": "code",
   "execution_count": 81,
   "metadata": {},
   "outputs": [],
   "source": [
    "def pack_random(init_pop, Q, item_weights):\n",
    "    nb_items = len(item_weights)\n",
    "    for candidate_solution in init_pop:\n",
    "        packing_plan = [random.choice(list(range(2))) for _ in range(nb_items)]\n",
    "        candidate_solution.packing_plan = packing_plan\n",
    "        repair_packing_plan(candidate_solution, Q, item_weights)\n",
    "    return init_pop"
   ]
  },
  {
   "cell_type": "code",
   "execution_count": 82,
   "metadata": {},
   "outputs": [],
   "source": [
    "def pack_optimal(init_pop, Q, value_to_weight_ratio_dict, item_weights):\n",
    "\n",
    "    number_of_items = len(item_weights)\n",
    "    \n",
    "    sorted_value_to_weight_ratio_dict = dict(sorted(value_to_weight_ratio_dict.items(), key=lambda x:x[1], reverse = True))\n",
    "    keys_list = list(sorted_value_to_weight_ratio_dict.keys())\n",
    "\n",
    "    for candidate_solution in init_pop:\n",
    "        Q_prime = np.random.randint(low = 0, high = Q, size = 1)\n",
    "        packing_plan = np.zeros(number_of_items)\n",
    "        weight  = 0\n",
    "        for i in range(number_of_items):\n",
    "            if weight + item_weights[keys_list[i]] < Q_prime:\n",
    "\n",
    "                packing_plan[keys_list[i]] = 1\n",
    "                weight += item_weights[keys_list[i]]\n",
    "            else:\n",
    "                break\n",
    "        candidate_solution.packing_plan = list(packing_plan)\n",
    "    return init_pop"
   ]
  },
  {
   "cell_type": "code",
   "execution_count": 22,
   "metadata": {},
   "outputs": [],
   "source": [
    "def generate_initial_population(pop_size, nb_cities, pack_init_method, tour_init_method = \"random\", Q = None, value_to_weight_ratio_dict = None, item_weights = None): # Jack\n",
    "\n",
    "    init_pop = []\n",
    "    if tour_init_method == \"random\":\n",
    "        for _ in range(pop_size):\n",
    "            candidate_solution = structure()\n",
    "            candidate_solution.tour = random_tour(nb_cities)\n",
    "            init_pop.append(candidate_solution)\n",
    "\n",
    "    if pack_init_method == \"pack_random\":\n",
    "        pack_random(init_pop, Q, item_weights)\n",
    "    elif pack_init_method == \"pack_one\":\n",
    "        pack_one(init_pop, len(item_weights))\n",
    "    elif pack_init_method == \"pack_optimal\":    \n",
    "        pack_optimal(init_pop, Q, value_to_weight_ratio_dict, item_weights)\n",
    "    return init_pop"
   ]
  },
  {
   "cell_type": "code",
   "execution_count": 23,
   "metadata": {},
   "outputs": [],
   "source": [
    "def packing_plan_crossover(parent1: structure, parent2: structure, crossover_type: str) -> tuple: # Jack\n",
    "\n",
    "    \"\"\"\n",
    "    Implement single point or two point crossover on the packing plans of the parents selected by tournament selection in order to \n",
    "    produce the children.\n",
    "\n",
    "    Parameters:\n",
    "    - parent1 (ypstruct.structure): A candidate solution represented as a structure\n",
    "      from the ypstruct library with the following attributes:\n",
    "        - tour (list): An array representing the sequence of cities visited.\n",
    "        - packing_plan (list): A binary array indicating items picked (1) or not (0).\n",
    "        - packing_plan_cost (float): The total value of the knapsack\n",
    "        - tour_cost (float): The total length of the tour\n",
    "        - rank (integer): The NSGA-II rank of the candidate solution\n",
    "        - crowding_distance (float): the NSGA-II crowding distance of the candidate solution\n",
    "    - parent2 (ypstruct.structure): same as parent1\n",
    "    - crossover_type (str): defines the crossover type to be used. Can be either \"single_point\" or \"two_point\".\n",
    "\n",
    "    Return:\n",
    "    ypstruct.Struct: the first child candidate solution produced by the crossover operation. Same structure as parents but with the crossed\n",
    "    over packing plans.\n",
    "    ypstruct.Struct: the second child candidate solution produced by the crossover operation. Same structure as parents but with the crossed\n",
    "    over placking plans.\n",
    "    \"\"\"\n",
    "    \n",
    "    child1 = parent1.copy()\n",
    "    child2 = parent2.copy()\n",
    "\n",
    "    child1_packing_plan = np.array(child1.packing_plan)\n",
    "    child2_packing_plan = np.array(child2.packing_plan)\n",
    "\n",
    "    # perform single point crossover \n",
    "    if crossover_type == \"single_point\":\n",
    "        # randomly select the crossover point\n",
    "        crossover_point = random.sample(range(len(parent1.packing_plan)), k = 1)[0]\n",
    "        child1.packing_plan[0:crossover_point] = child2_packing_plan[0:crossover_point]\n",
    "        child2.packing_plan[0:crossover_point] = child1_packing_plan[0:crossover_point]\n",
    "\n",
    "    # perform two point crossover\n",
    "    elif crossover_type == \"two_point\":\n",
    "        # randomly select the two crossover points\n",
    "        crossover_points = random.sample(range(len(parent1.packing_plan)), k = 2)\n",
    "        crossover_points = sorted(crossover_points)\n",
    "        first_cross_point = crossover_points[0]\n",
    "        second_cross_point = crossover_points[1]     \n",
    "        child1.packing_plan[first_cross_point:second_cross_point] = child2_packing_plan[first_cross_point:second_cross_point]\n",
    "        child2.packing_plan[first_cross_point:second_cross_point] = child1_packing_plan[first_cross_point:second_cross_point]\n",
    "\n",
    "    return child1, child2\n",
    "\n",
    "\n"
   ]
  },
  {
   "cell_type": "code",
   "execution_count": 24,
   "metadata": {},
   "outputs": [
    {
     "name": "stdout",
     "output_type": "stream",
     "text": [
      "struct({'packing_plan': array([4, 6, 2, 9, 0, 7, 3, 8, 5, 1])})\n",
      "struct({'packing_plan': array([5, 9, 7, 3, 8, 2, 6, 0, 1, 4])})\n"
     ]
    },
    {
     "data": {
      "text/plain": [
       "(struct({'packing_plan': array([5, 9, 7, 3, 8, 2, 3, 8, 5, 1])}),\n",
       " struct({'packing_plan': array([4, 6, 2, 9, 0, 7, 6, 0, 1, 4])}))"
      ]
     },
     "execution_count": 24,
     "metadata": {},
     "output_type": "execute_result"
    }
   ],
   "source": [
    "c1 = structure()\n",
    "c2 = structure()\n",
    "\n",
    "c1.packing_plan = np.array(random.sample(list(range(10)), k = 10))\n",
    "c2.packing_plan = np.array(random.sample(list(range(10)), k = 10))\n",
    "\n",
    "print(c1)\n",
    "print(c2)\n",
    "packing_plan_crossover(c1, c2, \"single_point\")"
   ]
  },
  {
   "cell_type": "code",
   "execution_count": 25,
   "metadata": {},
   "outputs": [],
   "source": [
    "def OX1_tour_crossover(parent1, parent2): # Kanchan\n",
    "\n",
    "    \"\"\"\n",
    "    Implement single-point ordered crossover (OX1 Crossover) on the tours of the parents selected by tournament selection in order to \n",
    "    produce the children.\n",
    "\n",
    "    Parameters:\n",
    "    - parent1 (ypstruct.structure): A candidate solution represented as a structure\n",
    "      from the ypstruct library with the following attributes:\n",
    "        - tour (list): An array representing the sequence of cities visited.\n",
    "        - packing_plan (list): A binary array indicating items picked (1) or not (0).\n",
    "        - packing_plan_cost (float): The total value of the knapsack\n",
    "        - tour_cost (float): The total length of the tour\n",
    "        - rank (integer): The NSGA-II rank of the candidate solution\n",
    "        - crowding_distance (float): the NSGA-II crowding distance of the candidate solution\n",
    "    - parent2 (ypstruct.structure): same as parent1\n",
    "\n",
    "    Perform single-point ordered crossover on the tours contained in the parent structures.\n",
    "\n",
    "    Return:\n",
    "    ypstruct.structure: the first child candidate solution produced by the crossover operation. Same structure as parents but with the crossed\n",
    "    over tours.\n",
    "    ypstruct.structure: the second child candidate solution produced by the crossover operation. Same structure as parents but with the crossed\n",
    "    over tours.\n",
    "\n",
    "\n",
    "    \"\"\"\n",
    "    child1 = parent1.copy()\n",
    "    child2 = parent2.copy()\n",
    "    \n",
    "    crossover_point = np.random.randint(1, len(parent1.tour))\n",
    "    \n",
    "    child1.tour = parent1.tour[:crossover_point] + [x for x in parent2.tour if x not in parent1.tour[:crossover_point]]\n",
    "    child2.tour = parent2.tour[:crossover_point] + [x for x in parent1.tour if x not in parent2.tour[:crossover_point]]\n",
    "    \n",
    "    return child1, child2\n",
    "    \n",
    "    "
   ]
  },
  {
   "cell_type": "code",
   "execution_count": 26,
   "metadata": {},
   "outputs": [
    {
     "name": "stdout",
     "output_type": "stream",
     "text": [
      "struct({'tour': [8, 6, 5, 7, 3, 1, 0, 9, 2, 4]}) struct({'tour': [0, 7, 5, 9, 4, 8, 3, 6, 2, 1]})\n"
     ]
    },
    {
     "data": {
      "text/plain": [
       "(struct({'tour': [8, 6, 5, 7, 3, 1, 0, 9, 4, 2]}),\n",
       " struct({'tour': [0, 7, 5, 9, 4, 8, 3, 6, 1, 2]}))"
      ]
     },
     "execution_count": 26,
     "metadata": {},
     "output_type": "execute_result"
    }
   ],
   "source": [
    "c1 = structure()\n",
    "c2 = structure()\n",
    "\n",
    "c1.tour = random.sample(list(range(10)), k = 10)\n",
    "c2.tour = random.sample(list(range(10)), k = 10)\n",
    "\n",
    "print(c1, c2)\n",
    "OX1_tour_crossover(c1, c2)"
   ]
  },
  {
   "cell_type": "code",
   "execution_count": 27,
   "metadata": {},
   "outputs": [],
   "source": [
    "# def derive_packing_plan_from_tour(candidate_solution, Q, sorted_value_to_weight_ratio_dict, item_weights):\n",
    "#     packing_plan = np.array(candidate_solution.packing_plan)\n",
    "#     selected_items = list(np.nonzero(packing_plan))\n",
    "#     selected_items_weights = item_weights[selected_items]\n",
    "#     keys_list = list(sorted_value_to_weight_ratio_dict.keys())\n",
    "#     selected_items_values_to_weight_ratios = [sorted_value_to_weight_ratio_dict[x] for x in keys_list]\n",
    "#     i = -1\n",
    "#     while np.sum(selected_items_weights) > Q:\n",
    "#         candidate_solution.packing_plan[list(selected_items_values_to_weight_ratios.keys())[i]] = 0\n",
    "#         packing_plan = np.array(candidate_solution.packing_plan)\n",
    "#         selected_items = list(np.nonzero(packing_plan))\n",
    "#         selected_items_weights = item_weights[selected_items]\n",
    "#         i -= 1\n",
    "    \n"
   ]
  },
  {
   "cell_type": "code",
   "execution_count": null,
   "metadata": {},
   "outputs": [],
   "source": []
  },
  {
   "cell_type": "code",
   "execution_count": 28,
   "metadata": {},
   "outputs": [],
   "source": [
    "a280_n1395 = read_TTP_instance_data(\"../data/a280-n2790.txt\")"
   ]
  },
  {
   "cell_type": "code",
   "execution_count": 29,
   "metadata": {},
   "outputs": [],
   "source": [
    "sorted_value_to_weight_ratio_dict = dict(sorted(a280_n1395[\"value_to_weight_ratio_dict\"].items(), key=lambda x:x[1], reverse = True))"
   ]
  },
  {
   "cell_type": "code",
   "execution_count": 30,
   "metadata": {},
   "outputs": [
    {
     "data": {
      "text/plain": [
       "{1665: 529.0,\n",
       " 2087: 316.5,\n",
       " 2538: 223.25,\n",
       " 2060: 160.2,\n",
       " 367: 157.6,\n",
       " 249: 156.0,\n",
       " 2413: 146.0,\n",
       " 1743: 138.66666666666666,\n",
       " 2665: 120.85714285714286,\n",
       " 0: 119.0,\n",
       " 827: 117.57142857142857,\n",
       " 76: 117.0,\n",
       " 2157: 111.125,\n",
       " 631: 109.8,\n",
       " 805: 108.14285714285714,\n",
       " 1173: 105.5,\n",
       " 874: 90.0,\n",
       " 1229: 79.08333333333333,\n",
       " 720: 75.61538461538461,\n",
       " 1535: 73.08333333333333,\n",
       " 989: 63.833333333333336,\n",
       " 170: 48.76470588235294,\n",
       " 2522: 45.111111111111114,\n",
       " 514: 40.13333333333333,\n",
       " 160: 39.95454545454545,\n",
       " 1563: 39.82608695652174,\n",
       " 2623: 37.81818181818182,\n",
       " 2635: 36.65217391304348,\n",
       " 1182: 36.61538461538461,\n",
       " 496: 36.4,\n",
       " 2708: 34.3125,\n",
       " 1325: 33.72222222222222,\n",
       " 1499: 32.07692307692308,\n",
       " 1212: 31.275862068965516,\n",
       " 536: 31.047619047619047,\n",
       " 1650: 30.857142857142858,\n",
       " 1529: 30.724137931034484,\n",
       " 226: 30.5,\n",
       " 1367: 30.448275862068964,\n",
       " 2621: 30.303030303030305,\n",
       " 261: 29.606060606060606,\n",
       " 574: 29.0625,\n",
       " 2141: 28.615384615384617,\n",
       " 1582: 28.444444444444443,\n",
       " 2560: 28.125,\n",
       " 436: 27.36,\n",
       " 1929: 27.23076923076923,\n",
       " 1424: 26.666666666666668,\n",
       " 1186: 26.5,\n",
       " 1097: 24.75862068965517,\n",
       " 1517: 24.73076923076923,\n",
       " 1981: 24.11764705882353,\n",
       " 646: 23.075,\n",
       " 1782: 22.804878048780488,\n",
       " 2729: 22.696969696969695,\n",
       " 2679: 22.53488372093023,\n",
       " 2579: 22.266666666666666,\n",
       " 1761: 22.210526315789473,\n",
       " 2019: 21.973684210526315,\n",
       " 488: 21.8,\n",
       " 1210: 20.45,\n",
       " 1402: 20.03448275862069,\n",
       " 2051: 19.615384615384617,\n",
       " 410: 19.53191489361702,\n",
       " 35: 18.838709677419356,\n",
       " 960: 18.761904761904763,\n",
       " 2156: 18.580645161290324,\n",
       " 1545: 18.53191489361702,\n",
       " 2556: 17.89090909090909,\n",
       " 1872: 17.75,\n",
       " 2392: 17.705882352941178,\n",
       " 906: 17.696969696969695,\n",
       " 1104: 17.5,\n",
       " 463: 17.352941176470587,\n",
       " 2280: 16.896551724137932,\n",
       " 836: 16.866666666666667,\n",
       " 1002: 16.863636363636363,\n",
       " 2396: 16.7,\n",
       " 1935: 16.603448275862068,\n",
       " 205: 16.536585365853657,\n",
       " 471: 16.076923076923077,\n",
       " 990: 15.516666666666667,\n",
       " 1738: 15.290322580645162,\n",
       " 317: 14.597014925373134,\n",
       " 2643: 14.488888888888889,\n",
       " 191: 14.306451612903226,\n",
       " 1454: 14.061224489795919,\n",
       " 879: 13.625,\n",
       " 1311: 13.431372549019608,\n",
       " 992: 13.364864864864865,\n",
       " 151: 13.305555555555555,\n",
       " 1309: 13.226415094339623,\n",
       " 1944: 13.14516129032258,\n",
       " 1181: 13.131578947368421,\n",
       " 2174: 13.020408163265307,\n",
       " 2385: 12.893617021276595,\n",
       " 289: 12.84375,\n",
       " 125: 12.710526315789474,\n",
       " 2114: 12.681818181818182,\n",
       " 2353: 12.620689655172415,\n",
       " 1047: 12.558823529411764,\n",
       " 260: 12.487804878048781,\n",
       " 349: 12.48076923076923,\n",
       " 1968: 12.285714285714286,\n",
       " 2695: 12.17142857142857,\n",
       " 159: 12.039473684210526,\n",
       " 1426: 11.367647058823529,\n",
       " 776: 11.322033898305085,\n",
       " 2369: 11.290322580645162,\n",
       " 2768: 11.183098591549296,\n",
       " 2653: 11.154929577464788,\n",
       " 1123: 11.075471698113208,\n",
       " 626: 10.931506849315069,\n",
       " 1646: 10.885714285714286,\n",
       " 396: 10.585714285714285,\n",
       " 1991: 10.585714285714285,\n",
       " 959: 10.4375,\n",
       " 546: 10.4,\n",
       " 2634: 10.366666666666667,\n",
       " 1629: 10.341463414634147,\n",
       " 614: 10.16,\n",
       " 1332: 10.123076923076923,\n",
       " 1774: 9.952380952380953,\n",
       " 1926: 9.875,\n",
       " 2597: 9.715686274509803,\n",
       " 2478: 9.616438356164384,\n",
       " 1187: 9.538461538461538,\n",
       " 1201: 9.53191489361702,\n",
       " 2523: 9.493333333333334,\n",
       " 1220: 9.411764705882353,\n",
       " 2217: 9.368421052631579,\n",
       " 1910: 9.35,\n",
       " 711: 9.339622641509434,\n",
       " 2742: 9.271739130434783,\n",
       " 1965: 9.233333333333333,\n",
       " 17: 9.085106382978724,\n",
       " 2619: 9.01063829787234,\n",
       " 521: 8.915492957746478,\n",
       " 987: 8.896907216494846,\n",
       " 1417: 8.722222222222221,\n",
       " 1559: 8.584905660377359,\n",
       " 2745: 8.53061224489796,\n",
       " 124: 8.530434782608696,\n",
       " 2242: 8.432203389830509,\n",
       " 22: 8.38,\n",
       " 2279: 8.362637362637363,\n",
       " 828: 8.338709677419354,\n",
       " 1174: 8.303921568627452,\n",
       " 2047: 8.293333333333333,\n",
       " 217: 8.292682926829269,\n",
       " 2725: 8.23404255319149,\n",
       " 1245: 8.156521739130435,\n",
       " 699: 8.142857142857142,\n",
       " 62: 8.126582278481013,\n",
       " 2263: 7.964285714285714,\n",
       " 1856: 7.86,\n",
       " 116: 7.7109375,\n",
       " 366: 7.7105263157894735,\n",
       " 2300: 7.681818181818182,\n",
       " 669: 7.666666666666667,\n",
       " 2605: 7.647058823529412,\n",
       " 1814: 7.614035087719298,\n",
       " 2209: 7.603305785123967,\n",
       " 645: 7.580645161290323,\n",
       " 1209: 7.5606060606060606,\n",
       " 337: 7.515151515151516,\n",
       " 2104: 7.511904761904762,\n",
       " 2221: 7.426086956521739,\n",
       " 2189: 7.380952380952381,\n",
       " 1552: 7.36231884057971,\n",
       " 1033: 7.326315789473684,\n",
       " 1371: 7.304347826086956,\n",
       " 2714: 7.290909090909091,\n",
       " 2120: 7.254545454545455,\n",
       " 2531: 7.247422680412371,\n",
       " 1770: 7.225806451612903,\n",
       " 304: 7.165137614678899,\n",
       " 208: 7.1525423728813555,\n",
       " 2782: 7.038834951456311,\n",
       " 352: 7.010989010989011,\n",
       " 1294: 6.926470588235294,\n",
       " 1590: 6.890625,\n",
       " 2432: 6.843373493975903,\n",
       " 275: 6.839285714285714,\n",
       " 254: 6.816901408450704,\n",
       " 651: 6.788732394366197,\n",
       " 2137: 6.777777777777778,\n",
       " 2787: 6.722689075630252,\n",
       " 1199: 6.7,\n",
       " 2783: 6.662790697674419,\n",
       " 950: 6.65,\n",
       " 2409: 6.575,\n",
       " 715: 6.542553191489362,\n",
       " 1793: 6.485981308411215,\n",
       " 198: 6.358208955223881,\n",
       " 1374: 6.346938775510204,\n",
       " 2355: 6.336633663366337,\n",
       " 2620: 6.328571428571428,\n",
       " 2721: 6.315789473684211,\n",
       " 478: 6.287581699346405,\n",
       " 1512: 6.260416666666667,\n",
       " 2520: 6.258064516129032,\n",
       " 1022: 6.213483146067416,\n",
       " 443: 6.138461538461539,\n",
       " 1858: 6.088235294117647,\n",
       " 512: 6.0479452054794525,\n",
       " 2123: 6.03680981595092,\n",
       " 2223: 6.033333333333333,\n",
       " 2191: 6.03125,\n",
       " 2629: 6.011627906976744,\n",
       " 2572: 6.0,\n",
       " 491: 5.988888888888889,\n",
       " 1025: 5.985611510791367,\n",
       " 6: 5.983606557377049,\n",
       " 1364: 5.9491525423728815,\n",
       " 2698: 5.923076923076923,\n",
       " 1703: 5.922413793103448,\n",
       " 1939: 5.922413793103448,\n",
       " 561: 5.915584415584416,\n",
       " 655: 5.875912408759124,\n",
       " 667: 5.854166666666667,\n",
       " 1305: 5.849056603773585,\n",
       " 562: 5.837398373983739,\n",
       " 2709: 5.836065573770492,\n",
       " 2255: 5.833333333333333,\n",
       " 1486: 5.810344827586207,\n",
       " 1727: 5.72972972972973,\n",
       " 1111: 5.7272727272727275,\n",
       " 1740: 5.723214285714286,\n",
       " 2324: 5.6938775510204085,\n",
       " 2121: 5.69172932330827,\n",
       " 1780: 5.67175572519084,\n",
       " 1779: 5.615384615384615,\n",
       " 462: 5.6125,\n",
       " 2233: 5.607361963190184,\n",
       " 886: 5.598130841121495,\n",
       " 2751: 5.595238095238095,\n",
       " 1264: 5.553191489361702,\n",
       " 2743: 5.55,\n",
       " 2201: 5.53416149068323,\n",
       " 1751: 5.517647058823529,\n",
       " 1138: 5.505813953488372,\n",
       " 826: 5.483333333333333,\n",
       " 1693: 5.481927710843373,\n",
       " 1188: 5.408163265306122,\n",
       " 1641: 5.407407407407407,\n",
       " 2524: 5.39751552795031,\n",
       " 1618: 5.368421052631579,\n",
       " 86: 5.335260115606936,\n",
       " 1331: 5.311111111111111,\n",
       " 382: 5.278409090909091,\n",
       " 1045: 5.244897959183674,\n",
       " 1974: 5.230769230769231,\n",
       " 2642: 5.230769230769231,\n",
       " 873: 5.217391304347826,\n",
       " 1871: 5.213114754098361,\n",
       " 2232: 5.186046511627907,\n",
       " 402: 5.175675675675675,\n",
       " 2315: 5.15,\n",
       " 1555: 5.134715025906735,\n",
       " 1437: 5.130952380952381,\n",
       " 1411: 5.120481927710843,\n",
       " 593: 5.115384615384615,\n",
       " 1108: 5.115384615384615,\n",
       " 1291: 5.1022727272727275,\n",
       " 1065: 5.095890410958904,\n",
       " 1271: 5.095238095238095,\n",
       " 2669: 5.0875,\n",
       " 399: 5.079754601226994,\n",
       " 1356: 5.052238805970149,\n",
       " 2160: 4.989690721649485,\n",
       " 2583: 4.989189189189189,\n",
       " 1806: 4.968085106382978,\n",
       " 74: 4.954954954954955,\n",
       " 2776: 4.931818181818182,\n",
       " 2077: 4.920792079207921,\n",
       " 1326: 4.914285714285715,\n",
       " 1971: 4.908108108108108,\n",
       " 2103: 4.895287958115183,\n",
       " 50: 4.848039215686274,\n",
       " 1995: 4.837037037037037,\n",
       " 296: 4.836734693877551,\n",
       " 223: 4.8,\n",
       " 1657: 4.72027972027972,\n",
       " 2364: 4.712418300653595,\n",
       " 1117: 4.6875,\n",
       " 87: 4.660714285714286,\n",
       " 1134: 4.641414141414141,\n",
       " 2290: 4.597222222222222,\n",
       " 2503: 4.584905660377358,\n",
       " 2029: 4.580952380952381,\n",
       " 500: 4.576923076923077,\n",
       " 1682: 4.562790697674418,\n",
       " 2062: 4.561576354679803,\n",
       " 2580: 4.560344827586207,\n",
       " 1081: 4.531578947368421,\n",
       " 2066: 4.524390243902439,\n",
       " 2733: 4.516908212560386,\n",
       " 2613: 4.516556291390729,\n",
       " 490: 4.512345679012346,\n",
       " 1035: 4.5,\n",
       " 1720: 4.454545454545454,\n",
       " 1107: 4.433497536945813,\n",
       " 1366: 4.410256410256411,\n",
       " 1768: 4.4033613445378155,\n",
       " 1373: 4.335135135135135,\n",
       " 840: 4.321167883211679,\n",
       " 172: 4.24031007751938,\n",
       " 2212: 4.236111111111111,\n",
       " 2673: 4.230769230769231,\n",
       " 315: 4.215909090909091,\n",
       " 1353: 4.20125786163522,\n",
       " 426: 4.1891891891891895,\n",
       " 852: 4.183006535947713,\n",
       " 499: 4.163461538461538,\n",
       " 2102: 4.142857142857143,\n",
       " 1788: 4.121212121212121,\n",
       " 1966: 4.10091743119266,\n",
       " 231: 4.100478468899522,\n",
       " 2600: 4.0964912280701755,\n",
       " 1619: 4.0945273631840795,\n",
       " 73: 4.085106382978723,\n",
       " 32: 4.0625,\n",
       " 2558: 4.051724137931035,\n",
       " 712: 4.0,\n",
       " 2731: 3.974747474747475,\n",
       " 1048: 3.9716981132075473,\n",
       " 1766: 3.932,\n",
       " 430: 3.9313304721030042,\n",
       " 448: 3.923076923076923,\n",
       " 1907: 3.9210526315789473,\n",
       " 1032: 3.8974358974358974,\n",
       " 2614: 3.8932806324110674,\n",
       " 1152: 3.8898678414096914,\n",
       " 934: 3.880952380952381,\n",
       " 799: 3.870646766169154,\n",
       " 1811: 3.8533333333333335,\n",
       " 1091: 3.8484848484848486,\n",
       " 752: 3.8395061728395063,\n",
       " 618: 3.8297872340425534,\n",
       " 1279: 3.8285714285714287,\n",
       " 803: 3.820388349514563,\n",
       " 1686: 3.8132530120481927,\n",
       " 739: 3.807017543859649,\n",
       " 485: 3.8034934497816595,\n",
       " 1403: 3.776470588235294,\n",
       " 853: 3.761290322580645,\n",
       " 2198: 3.7489177489177488,\n",
       " 109: 3.7433155080213902,\n",
       " 783: 3.727272727272727,\n",
       " 1921: 3.710227272727273,\n",
       " 2607: 3.7022900763358777,\n",
       " 1145: 3.683333333333333,\n",
       " 2381: 3.6666666666666665,\n",
       " 2227: 3.6588235294117646,\n",
       " 2194: 3.6547619047619047,\n",
       " 880: 3.6506024096385543,\n",
       " 2749: 3.6315789473684212,\n",
       " 1442: 3.6141732283464565,\n",
       " 2126: 3.5950413223140494,\n",
       " 998: 3.5725806451612905,\n",
       " 1471: 3.5708955223880596,\n",
       " 1760: 3.563380281690141,\n",
       " 2074: 3.5517241379310347,\n",
       " 385: 3.5508982035928143,\n",
       " 1125: 3.5494505494505493,\n",
       " 510: 3.5277777777777777,\n",
       " 2164: 3.5232974910394264,\n",
       " 334: 3.516,\n",
       " 1607: 3.5076335877862594,\n",
       " 849: 3.505050505050505,\n",
       " 1855: 3.5,\n",
       " 2253: 3.4980392156862745,\n",
       " 2127: 3.493723849372385,\n",
       " 101: 3.4918032786885247,\n",
       " 698: 3.4814814814814814,\n",
       " 893: 3.47787610619469,\n",
       " 2028: 3.4714285714285715,\n",
       " 1370: 3.4583333333333335,\n",
       " 979: 3.456043956043956,\n",
       " 1511: 3.456043956043956,\n",
       " 2418: 3.4510869565217392,\n",
       " 2382: 3.4358974358974357,\n",
       " 1157: 3.4324324324324325,\n",
       " 1120: 3.4216867469879517,\n",
       " 2072: 3.395121951219512,\n",
       " 1262: 3.390697674418605,\n",
       " 1298: 3.389830508474576,\n",
       " 1956: 3.388235294117647,\n",
       " 2720: 3.3846153846153846,\n",
       " 2357: 3.3836206896551726,\n",
       " 2577: 3.3815789473684212,\n",
       " 1258: 3.3771626297577853,\n",
       " 1739: 3.3766233766233764,\n",
       " 2421: 3.3430232558139537,\n",
       " 1175: 3.318385650224215,\n",
       " 2065: 3.309917355371901,\n",
       " 1787: 3.309322033898305,\n",
       " 2173: 3.297071129707113,\n",
       " 278: 3.2958333333333334,\n",
       " 1255: 3.292079207920792,\n",
       " 1163: 3.2911877394636013,\n",
       " 814: 3.276595744680851,\n",
       " 274: 3.273076923076923,\n",
       " 2534: 3.255813953488372,\n",
       " 1833: 3.25,\n",
       " 1348: 3.243362831858407,\n",
       " 2510: 3.2276785714285716,\n",
       " 2501: 3.2216981132075473,\n",
       " 900: 3.2095808383233533,\n",
       " 1802: 3.206896551724138,\n",
       " 1282: 3.1757322175732217,\n",
       " 843: 3.1754966887417218,\n",
       " 2135: 3.1690647482014387,\n",
       " 643: 3.162303664921466,\n",
       " 860: 3.1591695501730106,\n",
       " 1611: 3.1531531531531534,\n",
       " 1984: 3.1481481481481484,\n",
       " 1515: 3.1451612903225805,\n",
       " 2627: 3.1390728476821192,\n",
       " 1154: 3.13265306122449,\n",
       " 516: 3.1296296296296298,\n",
       " 1993: 3.126984126984127,\n",
       " 1052: 3.1066666666666665,\n",
       " 943: 3.1,\n",
       " 782: 3.0952380952380953,\n",
       " 847: 3.09375,\n",
       " 1526: 3.0913978494623655,\n",
       " 180: 3.0779220779220777,\n",
       " 251: 3.0760233918128654,\n",
       " 714: 3.0677966101694913,\n",
       " 575: 3.0634920634920637,\n",
       " 2375: 3.0625,\n",
       " 1297: 3.0530973451327434,\n",
       " 2636: 3.0517241379310347,\n",
       " 1459: 3.0513833992094863,\n",
       " 314: 3.0371517027863777,\n",
       " 1100: 3.0140350877192983,\n",
       " 2379: 3.010989010989011,\n",
       " 831: 3.003787878787879,\n",
       " 802: 3.0,\n",
       " 2401: 3.0,\n",
       " 2481: 2.993006993006993,\n",
       " 2035: 2.9901639344262296,\n",
       " 697: 2.9894736842105263,\n",
       " 540: 2.989051094890511,\n",
       " 11: 2.9846153846153847,\n",
       " 1532: 2.9840637450199203,\n",
       " 967: 2.982300884955752,\n",
       " 2188: 2.9814814814814814,\n",
       " 329: 2.9780564263322886,\n",
       " 2509: 2.972049689440994,\n",
       " 2384: 2.971223021582734,\n",
       " 460: 2.9682539682539684,\n",
       " 1674: 2.967741935483871,\n",
       " 1407: 2.965367965367965,\n",
       " 901: 2.964664310954064,\n",
       " 761: 2.959016393442623,\n",
       " 765: 2.958904109589041,\n",
       " 736: 2.9454545454545453,\n",
       " 1062: 2.9432624113475176,\n",
       " 2578: 2.931899641577061,\n",
       " 2285: 2.923444976076555,\n",
       " 785: 2.923076923076923,\n",
       " 2113: 2.9084249084249083,\n",
       " 1576: 2.90625,\n",
       " 2267: 2.877813504823151,\n",
       " 1092: 2.8728813559322033,\n",
       " 523: 2.8679245283018866,\n",
       " 2672: 2.867403314917127,\n",
       " 2490: 2.8551401869158877,\n",
       " 2171: 2.8430769230769233,\n",
       " 185: 2.84251968503937,\n",
       " 794: 2.8404255319148937,\n",
       " 2187: 2.831223628691983,\n",
       " 204: 2.8282208588957056,\n",
       " 995: 2.8255813953488373,\n",
       " 409: 2.8244274809160306,\n",
       " 1184: 2.821656050955414,\n",
       " 920: 2.8095238095238093,\n",
       " 2755: 2.808219178082192,\n",
       " 577: 2.799382716049383,\n",
       " 107: 2.797752808988764,\n",
       " 305: 2.793002915451895,\n",
       " 456: 2.761467889908257,\n",
       " 2026: 2.7613636363636362,\n",
       " 1463: 2.75,\n",
       " 2133: 2.748792270531401,\n",
       " 1096: 2.7455197132616487,\n",
       " 1901: 2.7434944237918217,\n",
       " 1169: 2.7393162393162394,\n",
       " 569: 2.737609329446064,\n",
       " 1318: 2.7333333333333334,\n",
       " 2040: 2.733118971061093,\n",
       " 2617: 2.731958762886598,\n",
       " 2689: 2.7285714285714286,\n",
       " 1836: 2.7253886010362693,\n",
       " 2: 2.7166212534059944,\n",
       " 2762: 2.7058823529411766,\n",
       " 333: 2.705426356589147,\n",
       " 2435: 2.6956521739130435,\n",
       " 1260: 2.693798449612403,\n",
       " 14: 2.6910569105691056,\n",
       " 2554: 2.68978102189781,\n",
       " 207: 2.6875,\n",
       " 1283: 2.6865671641791047,\n",
       " 503: 2.684931506849315,\n",
       " 1438: 2.6836158192090394,\n",
       " 1343: 2.663978494623656,\n",
       " 955: 2.6588921282798834,\n",
       " 675: 2.658753709198813,\n",
       " 1726: 2.6584615384615384,\n",
       " 1783: 2.6557377049180326,\n",
       " 2702: 2.6552795031055902,\n",
       " 343: 2.642857142857143,\n",
       " 1369: 2.642857142857143,\n",
       " 1613: 2.641711229946524,\n",
       " 52: 2.6415929203539825,\n",
       " 1585: 2.6361185983827493,\n",
       " 20: 2.6315789473684212,\n",
       " 1010: 2.6197916666666665,\n",
       " 16: 2.6163934426229507,\n",
       " 373: 2.6157205240174672,\n",
       " 1208: 2.6146341463414635,\n",
       " 2220: 2.6085626911314983,\n",
       " 2138: 2.6062717770034842,\n",
       " 550: 2.6058981233243967,\n",
       " 1610: 2.6036036036036037,\n",
       " 1747: 2.5967302452316074,\n",
       " 379: 2.596078431372549,\n",
       " 882: 2.595744680851064,\n",
       " 2482: 2.591304347826087,\n",
       " 1749: 2.590625,\n",
       " 2292: 2.5893719806763285,\n",
       " 1434: 2.587378640776699,\n",
       " 1014: 2.5842696629213484,\n",
       " 518: 2.572519083969466,\n",
       " 2610: 2.567934782608696,\n",
       " 585: 2.5642023346303504,\n",
       " 2661: 2.5561643835616437,\n",
       " 982: 2.556,\n",
       " 2139: 2.553125,\n",
       " 2539: 2.5358090185676394,\n",
       " 937: 2.5353535353535355,\n",
       " 1423: 2.526813880126183,\n",
       " 582: 2.523076923076923,\n",
       " 1781: 2.514851485148515,\n",
       " 587: 2.5056818181818183,\n",
       " 163: 2.5,\n",
       " 2582: 2.490322580645161,\n",
       " 1713: 2.4787644787644787,\n",
       " 1771: 2.4690721649484537,\n",
       " 673: 2.4690265486725664,\n",
       " 1715: 2.4646464646464645,\n",
       " 372: 2.4637305699481864,\n",
       " 556: 2.4634146341463414,\n",
       " 1360: 2.4589665653495443,\n",
       " 1860: 2.458823529411765,\n",
       " 2246: 2.457627118644068,\n",
       " 996: 2.4571428571428573,\n",
       " 2008: 2.4567567567567568,\n",
       " 1648: 2.4561855670103094,\n",
       " 2027: 2.454183266932271,\n",
       " 1963: 2.4537037037037037,\n",
       " 2277: 2.4503311258278146,\n",
       " 741: 2.45,\n",
       " 1595: 2.4439834024896268,\n",
       " 2545: 2.439189189189189,\n",
       " 1118: 2.4365671641791047,\n",
       " 924: 2.4248554913294798,\n",
       " 777: 2.424,\n",
       " 2736: 2.409556313993174,\n",
       " 1155: 2.4076923076923076,\n",
       " 1914: 2.4072289156626505,\n",
       " 2273: 2.4057142857142857,\n",
       " 570: 2.402439024390244,\n",
       " 2045: 2.401985111662531,\n",
       " 2166: 2.4010695187165774,\n",
       " 1018: 2.3973799126637556,\n",
       " 2295: 2.3925619834710745,\n",
       " 1233: 2.391304347826087,\n",
       " 1333: 2.384020618556701,\n",
       " 2774: 2.378531073446328,\n",
       " 1247: 2.370879120879121,\n",
       " 1256: 2.369077306733167,\n",
       " 1266: 2.3666666666666667,\n",
       " 732: 2.3642857142857143,\n",
       " 2390: 2.3624595469255665,\n",
       " 2219: 2.36104513064133,\n",
       " 1234: 2.352517985611511,\n",
       " 707: 2.3513513513513513,\n",
       " 708: 2.3465703971119134,\n",
       " 1654: 2.3393939393939394,\n",
       " 47: 2.3369272237196768,\n",
       " 1292: 2.3350785340314135,\n",
       " 2406: 2.330383480825959,\n",
       " 1222: 2.328025477707006,\n",
       " 2169: 2.324561403508772,\n",
       " 477: 2.324074074074074,\n",
       " 2331: 2.323529411764706,\n",
       " 2076: 2.3210526315789473,\n",
       " 1663: 2.32,\n",
       " 1119: 2.3130434782608695,\n",
       " 1698: 2.3112745098039214,\n",
       " 1476: 2.307377049180328,\n",
       " 1800: 2.303225806451613,\n",
       " 1159: 2.301694915254237,\n",
       " 1888: 2.3,\n",
       " 2262: 2.292263610315186,\n",
       " 1455: 2.2915531335149866,\n",
       " 520: 2.2830626450116007,\n",
       " 1142: 2.2814207650273226,\n",
       " 889: 2.28110599078341,\n",
       " 1462: 2.2777777777777777,\n",
       " 716: 2.271062271062271,\n",
       " 2540: 2.27,\n",
       " 53: 2.269911504424779,\n",
       " 299: 2.269406392694064,\n",
       " 279: 2.2666666666666666,\n",
       " 2475: 2.2651006711409396,\n",
       " 1823: 2.2639405204460967,\n",
       " 2486: 2.263157894736842,\n",
       " 1868: 2.260377358490566,\n",
       " 596: 2.2527472527472527,\n",
       " 2149: 2.25,\n",
       " 1034: 2.2485207100591715,\n",
       " 848: 2.2426778242677825,\n",
       " 321: 2.2351097178683386,\n",
       " 1909: 2.2315436241610738,\n",
       " 1700: 2.2264150943396226,\n",
       " 791: 2.220720720720721,\n",
       " 755: 2.2205882352941178,\n",
       " 1228: 2.2191358024691357,\n",
       " 1795: 2.2142857142857144,\n",
       " 884: 2.2113821138211383,\n",
       " 440: 2.2111111111111112,\n",
       " 2427: 2.2111111111111112,\n",
       " 2716: 2.210526315789474,\n",
       " 2437: 2.2015209125475286,\n",
       " 2472: 2.200589970501475,\n",
       " 1568: 2.199556541019956,\n",
       " 1381: 2.1985559566787005,\n",
       " 395: 2.197674418604651,\n",
       " 2628: 2.196078431372549,\n",
       " 936: 2.1936758893280635,\n",
       " 1690: 2.1931818181818183,\n",
       " 1920: 2.1911111111111112,\n",
       " 2084: 2.190909090909091,\n",
       " 40: 2.1902439024390246,\n",
       " 2644: 2.188925081433225,\n",
       " 1043: 2.188340807174888,\n",
       " 2542: 2.18609865470852,\n",
       " 2018: 2.1820809248554913,\n",
       " 1807: 2.1805225653206652,\n",
       " 1328: 2.1801566579634466,\n",
       " 760: 2.1800947867298577,\n",
       " 135: 2.1779661016949152,\n",
       " 451: 2.1749049429657794,\n",
       " 468: 2.1721311475409837,\n",
       " 245: 2.1703703703703705,\n",
       " 29: 2.167259786476868,\n",
       " 1039: 2.1659192825112106,\n",
       " 152: 2.161993769470405,\n",
       " 578: 2.152354570637119,\n",
       " 1024: 2.15,\n",
       " 1594: 2.1465201465201464,\n",
       " 525: 2.1453287197231834,\n",
       " 694: 2.1443298969072164,\n",
       " 2594: 2.1443298969072164,\n",
       " 1419: 2.141280353200883,\n",
       " 1461: 2.1330798479087454,\n",
       " 1464: 2.1306818181818183,\n",
       " 370: 2.1297709923664123,\n",
       " 1122: 2.1267605633802815,\n",
       " 2403: 2.1230283911671926,\n",
       " 2430: 2.121037463976945,\n",
       " 131: 2.111111111111111,\n",
       " 1427: 2.10752688172043,\n",
       " 2429: 2.106951871657754,\n",
       " 2758: 2.106818181818182,\n",
       " 1688: 2.1036585365853657,\n",
       " 812: 2.1030150753768844,\n",
       " 165: 2.102880658436214,\n",
       " 240: 2.102639296187683,\n",
       " 2728: 2.1017441860465116,\n",
       " 1001: 2.1015625,\n",
       " 956: 2.0993377483443707,\n",
       " 181: 2.090909090909091,\n",
       " 502: 2.0888252148997135,\n",
       " 591: 2.0842105263157893,\n",
       " 272: 2.0833333333333335,\n",
       " 835: 2.08,\n",
       " 139: 2.0793650793650795,\n",
       " 473: 2.0788732394366196,\n",
       " 2488: 2.0784313725490198,\n",
       " 2365: 2.0775862068965516,\n",
       " 2601: 2.074725274725275,\n",
       " 1997: 2.0737704918032787,\n",
       " 2537: 2.066666666666667,\n",
       " 2473: 2.0595238095238093,\n",
       " 26: 2.056842105263158,\n",
       " 1361: 2.056701030927835,\n",
       " 657: 2.0548245614035086,\n",
       " 1058: 2.048,\n",
       " 58: 2.045918367346939,\n",
       " 2737: 2.0445205479452055,\n",
       " 2575: 2.042696629213483,\n",
       " 613: 2.041095890410959,\n",
       " 1103: 2.04,\n",
       " 344: 2.0395348837209304,\n",
       " 787: 2.0384615384615383,\n",
       " 1605: 2.035377358490566,\n",
       " 356: 2.033707865168539,\n",
       " 2151: 2.0330188679245285,\n",
       " 2773: 2.0325,\n",
       " 1076: 2.0274841437632136,\n",
       " 1015: 2.0217391304347827,\n",
       " 1880: 2.0206896551724136,\n",
       " 923: 2.019607843137255,\n",
       " 2116: 2.0170575692963753,\n",
       " 1614: 2.011904761904762,\n",
       " 1036: 2.0,\n",
       " 1189: 2.0,\n",
       " 1383: 2.0,\n",
       " 1938: 2.0,\n",
       " 375: 1.994609164420485,\n",
       " 301: 1.988235294117647,\n",
       " 1757: 1.986784140969163,\n",
       " 1764: 1.9840637450199203,\n",
       " 740: 1.9830028328611897,\n",
       " 283: 1.9813953488372094,\n",
       " 1088: 1.9793577981651376,\n",
       " 2471: 1.976510067114094,\n",
       " 1554: 1.9696312364425164,\n",
       " 1735: 1.9602385685884691,\n",
       " 422: 1.9580419580419581,\n",
       " 1784: 1.9556786703601108,\n",
       " 1494: 1.9518072289156627,\n",
       " 197: 1.947867298578199,\n",
       " 292: 1.9473684210526316,\n",
       " 113: 1.9464285714285714,\n",
       " 1952: 1.9426877470355732,\n",
       " 1551: 1.937888198757764,\n",
       " 420: 1.9301310043668123,\n",
       " 2412: 1.9296187683284458,\n",
       " 2291: 1.9292035398230087,\n",
       " 2311: 1.9289940828402368,\n",
       " 1521: 1.9285714285714286,\n",
       " 1009: 1.9273743016759777,\n",
       " 2458: 1.9182156133828996,\n",
       " 1177: 1.9177489177489178,\n",
       " 704: 1.9174603174603175,\n",
       " 1662: 1.915137614678899,\n",
       " 1193: 1.912280701754386,\n",
       " 1053: 1.9120603015075377,\n",
       " 2041: 1.9107142857142858,\n",
       " 2330: 1.9104477611940298,\n",
       " 1004: 1.9090909090909092,\n",
       " 1488: 1.901639344262295,\n",
       " 2079: 1.8994708994708995,\n",
       " 1011: 1.8984375,\n",
       " 2088: 1.8983402489626555,\n",
       " 2704: 1.896,\n",
       " 753: 1.888086642599278,\n",
       " 2344: 1.8876404494382022,\n",
       " 1346: 1.8859649122807018,\n",
       " 2461: 1.885135135135135,\n",
       " 361: 1.8845401174168297,\n",
       " 2517: 1.8799019607843137,\n",
       " 1996: 1.8789808917197452,\n",
       " 2784: 1.8771186440677967,\n",
       " 564: 1.8754716981132076,\n",
       " 875: 1.8733850129198966,\n",
       " 2130: 1.8733766233766234,\n",
       " 2732: 1.8728070175438596,\n",
       " 2363: 1.869179600886918,\n",
       " 2468: 1.8613861386138615,\n",
       " 2131: 1.8551532033426184,\n",
       " 1074: 1.8549848942598188,\n",
       " 759: 1.8523489932885906,\n",
       " 2387: 1.846613545816733,\n",
       " 1098: 1.845890410958904,\n",
       " 2038: 1.8458333333333334,\n",
       " 997: 1.8454935622317596,\n",
       " 2498: 1.8426966292134832,\n",
       " 2270: 1.8364197530864197,\n",
       " 2684: 1.8342857142857143,\n",
       " 2358: 1.8269230769230769,\n",
       " 2512: 1.8253012048192772,\n",
       " 1273: 1.8235294117647058,\n",
       " 1725: 1.821515892420538,\n",
       " 871: 1.819935691318328,\n",
       " 284: 1.818390804597701,\n",
       " 82: 1.8172484599589322,\n",
       " 985: 1.8170731707317074,\n",
       " 412: 1.8165938864628821,\n",
       " 891: 1.8137254901960784,\n",
       " 2161: 1.811284046692607,\n",
       " 2441: 1.811284046692607,\n",
       " 179: 1.8085106382978724,\n",
       " 1027: 1.804945054945055,\n",
       " 1776: 1.7995780590717299,\n",
       " 896: 1.7913907284768211,\n",
       " 1057: 1.7846153846153847,\n",
       " 2235: 1.7827102803738317,\n",
       " 2463: 1.7798165137614679,\n",
       " 2154: 1.778169014084507,\n",
       " 1290: 1.7770961145194275,\n",
       " 167: 1.7760736196319018,\n",
       " 105: 1.769736842105263,\n",
       " 1388: 1.7665198237885462,\n",
       " 1876: 1.7605042016806722,\n",
       " 898: 1.7564575645756457,\n",
       " 1819: 1.7560386473429952,\n",
       " 2224: 1.7549407114624507,\n",
       " 1922: 1.7531305903398926,\n",
       " 2442: 1.7522441651705565,\n",
       " 494: 1.7443946188340806,\n",
       " 112: 1.74373795761079,\n",
       " 1460: 1.742063492063492,\n",
       " 1087: 1.7391304347826086,\n",
       " 380: 1.7386363636363635,\n",
       " 2148: 1.7358870967741935,\n",
       " 2567: 1.7351351351351352,\n",
       " 1553: 1.732181425485961,\n",
       " 2657: 1.7314049586776858,\n",
       " 2341: 1.7275922671353252,\n",
       " 543: 1.7246376811594204,\n",
       " 1980: 1.722753346080306,\n",
       " 1842: 1.722735674676525,\n",
       " 954: 1.720524017467249,\n",
       " 1000: 1.7135231316725978,\n",
       " 276: 1.7133333333333334,\n",
       " 377: 1.713131313131313,\n",
       " 535: 1.7130620985010707,\n",
       " 218: 1.7017543859649122,\n",
       " 341: 1.699443413729128,\n",
       " 2048: 1.6981132075471699,\n",
       " 929: 1.697142857142857,\n",
       " 1697: 1.6968911917098446,\n",
       " 1724: 1.6966666666666668,\n",
       " 2485: 1.694736842105263,\n",
       " 1150: 1.6881720430107527,\n",
       " 537: 1.68659793814433,\n",
       " 388: 1.6861924686192469,\n",
       " 2480: 1.6839186691312384,\n",
       " 2371: 1.6835443037974684,\n",
       " 748: 1.683168316831683,\n",
       " 2204: 1.6797752808988764,\n",
       " 1513: 1.6790123456790123,\n",
       " 1875: 1.6777777777777778,\n",
       " 437: 1.676416819012797,\n",
       " 1602: 1.6759656652360515,\n",
       " 394: 1.6747967479674797,\n",
       " 1652: 1.6690997566909975,\n",
       " 411: 1.6637630662020906,\n",
       " 1237: 1.6633064516129032,\n",
       " 622: 1.6587677725118484,\n",
       " 287: 1.6581196581196582,\n",
       " 209: 1.6534090909090908,\n",
       " 2598: 1.6528301886792454,\n",
       " 2760: 1.6509186351706038,\n",
       " 2514: 1.65,\n",
       " 2592: 1.6491228070175439,\n",
       " 963: 1.6485507246376812,\n",
       " 1905: 1.645484949832776,\n",
       " 2241: 1.6451612903225807,\n",
       " 1930: 1.644808743169399,\n",
       " 2484: 1.6388888888888888,\n",
       " 1945: 1.6358490566037736,\n",
       " 1829: 1.6346153846153846,\n",
       " 1324: 1.6291390728476822,\n",
       " 1453: 1.6288659793814433,\n",
       " 1304: 1.6282527881040891,\n",
       " 1567: 1.6229166666666666,\n",
       " 1593: 1.622823984526112,\n",
       " 2654: 1.6196943972835314,\n",
       " 2301: 1.6181102362204725,\n",
       " 751: 1.6158940397350994,\n",
       " 2136: 1.615664845173042,\n",
       " 155: 1.6153846153846154,\n",
       " 1818: 1.614963503649635,\n",
       " 700: 1.614814814814815,\n",
       " 862: 1.6135593220338984,\n",
       " 2145: 1.6127659574468085,\n",
       " 1217: 1.61003861003861,\n",
       " 2626: 1.6067961165048543,\n",
       " 1398: 1.6067415730337078,\n",
       " 1931: 1.6051779935275081,\n",
       " 137: 1.603448275862069,\n",
       " 1484: 1.601423487544484,\n",
       " 555: 1.6005154639175259,\n",
       " 306: 1.599025974025974,\n",
       " 487: 1.5970149253731343,\n",
       " 1439: 1.596964586846543,\n",
       " 310: 1.593385214007782,\n",
       " 2378: 1.5928449744463373,\n",
       " 41: 1.5923566878980893,\n",
       " 408: 1.5874125874125875,\n",
       " 2581: 1.5869565217391304,\n",
       " 991: 1.5835411471321696,\n",
       " 717: 1.5805626598465474,\n",
       " 1967: 1.5760456273764258,\n",
       " 2692: 1.5746887966804979,\n",
       " 1533: 1.5736040609137056,\n",
       " 1589: 1.5716535433070866,\n",
       " 1320: 1.5709570957095709,\n",
       " 2308: 1.5702479338842976,\n",
       " 2111: 1.566914498141264,\n",
       " 1951: 1.565587734241908,\n",
       " 2765: 1.5652866242038217,\n",
       " 1447: 1.5604982206405693,\n",
       " 386: 1.56,\n",
       " 1069: 1.5582822085889572,\n",
       " 1609: 1.5570934256055364,\n",
       " 2700: 1.5555555555555556,\n",
       " 2706: 1.5521628498727735,\n",
       " 1620: 1.5496688741721854,\n",
       " 1556: 1.5491071428571428,\n",
       " 2411: 1.5478806907378335,\n",
       " 369: 1.543859649122807,\n",
       " 256: 1.5433962264150944,\n",
       " 2532: 1.5424164524421593,\n",
       " 2053: 1.5415384615384615,\n",
       " 294: 1.5398671096345515,\n",
       " 771: 1.5380710659898478,\n",
       " 1540: 1.53551912568306,\n",
       " 806: 1.5354166666666667,\n",
       " 1651: 1.535,\n",
       " 2043: 1.5330112721417068,\n",
       " 1578: 1.532994923857868,\n",
       " 439: 1.5322033898305085,\n",
       " 96: 1.5308988764044944,\n",
       " 2778: 1.5285171102661597,\n",
       " 1300: 1.528268551236749,\n",
       " 64: 1.5263157894736843,\n",
       " 855: 1.5205047318611988,\n",
       " 2454: 1.5204359673024523,\n",
       " 2271: 1.5171232876712328,\n",
       " 842: 1.5161290322580645,\n",
       " 2056: 1.516030534351145,\n",
       " 1522: 1.5118829981718465,\n",
       " 542: 1.5104895104895104,\n",
       " 2394: 1.508716323296355,\n",
       " 441: 1.507905138339921,\n",
       " 2637: 1.5072727272727273,\n",
       " 432: 1.5071283095723014,\n",
       " 1642: 1.5041186161449753,\n",
       " 1895: 1.5035211267605635,\n",
       " 1005: 1.502664298401421,\n",
       " 2050: 1.5,\n",
       " 1627: 1.4988814317673378,\n",
       " 2561: 1.4968152866242037,\n",
       " 2495: 1.4945054945054945,\n",
       " 144: 1.4935064935064934,\n",
       " 2272: 1.4916943521594683,\n",
       " 364: 1.489795918367347,\n",
       " 964: 1.4889705882352942,\n",
       " 1887: 1.4844517184942716,\n",
       " 1342: 1.4838709677419355,\n",
       " 1831: 1.4833333333333334,\n",
       " 557: 1.4816753926701571,\n",
       " 2058: 1.481012658227848,\n",
       " 175: 1.478021978021978,\n",
       " 2349: 1.4754829123328381,\n",
       " 1978: 1.4754464285714286,\n",
       " 1448: 1.4747663551401868,\n",
       " 1973: 1.4747320061255742,\n",
       " 465: 1.4707259953161593,\n",
       " 1769: 1.4706766917293232,\n",
       " 2203: 1.4697674418604652,\n",
       " 1571: 1.4693572496263079,\n",
       " 2660: 1.4686940966010733,\n",
       " 2771: 1.4649122807017543,\n",
       " 586: 1.4634146341463414,\n",
       " 590: 1.4634146341463414,\n",
       " 458: 1.4615384615384615,\n",
       " 381: 1.4591836734693877,\n",
       " 2281: 1.4558404558404558,\n",
       " 2570: 1.4523809523809523,\n",
       " 632: 1.4517453798767967,\n",
       " 7: 1.4506172839506173,\n",
       " 497: 1.4505494505494505,\n",
       " 539: 1.4497907949790796,\n",
       " 1429: 1.4490291262135921,\n",
       " 1176: 1.448210922787194,\n",
       " 2761: 1.4471947194719472,\n",
       " 1675: 1.4469914040114613,\n",
       " 721: 1.4453441295546559,\n",
       " 1917: 1.4444444444444444,\n",
       " 416: 1.44375,\n",
       " 2307: 1.441941074523397,\n",
       " 706: 1.4412811387900355,\n",
       " 1798: 1.4408284023668638,\n",
       " 2337: 1.4404255319148935,\n",
       " 2016: 1.4396728016359919,\n",
       " 2373: 1.4387351778656126,\n",
       " 1099: 1.4387096774193548,\n",
       " 2067: 1.4381443298969072,\n",
       " 2230: 1.4376854599406528,\n",
       " ...}"
      ]
     },
     "execution_count": 30,
     "metadata": {},
     "output_type": "execute_result"
    }
   ],
   "source": [
    "sorted_value_to_weight_ratio_dict"
   ]
  },
  {
   "cell_type": "code",
   "execution_count": 31,
   "metadata": {},
   "outputs": [],
   "source": [
    "init_pop = generate_initial_population(2,\n",
    "                                       280,\n",
    "                                       \"pack_optimal\", \n",
    "                                       \"random\", \n",
    "                                       a280_n1395[\"Q\"], \n",
    "                                       sorted_value_to_weight_ratio_dict,\n",
    "                                       a280_n1395[\"item_weights\"])"
   ]
  },
  {
   "cell_type": "code",
   "execution_count": 32,
   "metadata": {},
   "outputs": [
    {
     "data": {
      "text/plain": [
       "[struct({'tour': [15, 195, 224, 10, 252, 60, 150, 237, 183, 18, 120, 82, 145, 182, 118, 268, 75, 234, 3, 203, 125, 98, 86, 114, 133, 93, 45, 207, 161, 210, 53, 4, 153, 112, 219, 119, 246, 138, 59, 32, 56, 131, 14, 164, 170, 212, 238, 105, 2, 261, 257, 192, 156, 16, 137, 231, 220, 122, 8, 17, 25, 223, 102, 24, 263, 108, 95, 62, 52, 259, 256, 97, 48, 229, 67, 249, 176, 55, 84, 117, 258, 254, 199, 169, 43, 103, 92, 242, 181, 33, 121, 275, 101, 34, 184, 239, 110, 46, 278, 152, 201, 180, 87, 194, 179, 198, 272, 264, 27, 271, 189, 127, 5, 23, 13, 155, 168, 113, 51, 171, 68, 240, 191, 151, 28, 165, 74, 80, 107, 44, 162, 123, 202, 88, 173, 109, 128, 22, 241, 147, 245, 218, 262, 236, 9, 136, 134, 19, 247, 216, 115, 78, 172, 96, 91, 100, 226, 66, 274, 185, 126, 196, 1, 204, 265, 166, 39, 129, 213, 63, 154, 135, 111, 72, 47, 71, 73, 251, 209, 141, 174, 255, 54, 248, 190, 90, 30, 160, 132, 187, 83, 188, 225, 193, 211, 146, 243, 142, 40, 50, 197, 253, 49, 222, 221, 208, 233, 206, 31, 227, 163, 21, 167, 276, 69, 124, 36, 279, 250, 244, 20, 186, 0, 76, 99, 64, 140, 94, 81, 70, 61, 85, 57, 159, 158, 266, 215, 277, 41, 232, 200, 12, 139, 42, 38, 58, 270, 267, 178, 148, 157, 116, 217, 230, 65, 273, 269, 235, 6, 29, 77, 175, 130, 106, 26, 260, 177, 214, 228, 7, 35, 104, 37, 143, 144, 149, 205, 79, 89, 11], 'packing_plan': [1.0, 0.0, 1.0, 0.0, 0.0, 0.0, 1.0, 1.0, 0.0, 1.0, 1.0, 1.0, 0.0, 0.0, 1.0, 1.0, 1.0, 1.0, 0.0, 0.0, 1.0, 0.0, 1.0, 1.0, 1.0, 0.0, 1.0, 1.0, 1.0, 1.0, 1.0, 0.0, 1.0, 1.0, 0.0, 1.0, 0.0, 0.0, 0.0, 1.0, 1.0, 1.0, 0.0, 0.0, 1.0, 0.0, 1.0, 1.0, 0.0, 0.0, 1.0, 0.0, 1.0, 1.0, 0.0, 0.0, 1.0, 0.0, 1.0, 1.0, 1.0, 1.0, 1.0, 0.0, 1.0, 1.0, 0.0, 0.0, 1.0, 0.0, 1.0, 1.0, 1.0, 1.0, 1.0, 1.0, 1.0, 0.0, 0.0, 1.0, 0.0, 0.0, 1.0, 0.0, 0.0, 1.0, 1.0, 1.0, 1.0, 0.0, 0.0, 0.0, 0.0, 1.0, 0.0, 1.0, 1.0, 0.0, 1.0, 1.0, 0.0, 1.0, 1.0, 1.0, 1.0, 1.0, 0.0, 1.0, 0.0, 1.0, 0.0, 0.0, 1.0, 1.0, 1.0, 1.0, 1.0, 1.0, 0.0, 1.0, 0.0, 1.0, 0.0, 1.0, 1.0, 1.0, 0.0, 1.0, 1.0, 0.0, 1.0, 1.0, 0.0, 1.0, 1.0, 1.0, 1.0, 1.0, 0.0, 1.0, 1.0, 1.0, 0.0, 0.0, 1.0, 0.0, 0.0, 0.0, 0.0, 1.0, 0.0, 1.0, 1.0, 0.0, 0.0, 1.0, 1.0, 1.0, 0.0, 1.0, 1.0, 0.0, 1.0, 1.0, 1.0, 1.0, 1.0, 1.0, 0.0, 0.0, 1.0, 1.0, 1.0, 1.0, 0.0, 1.0, 0.0, 0.0, 0.0, 1.0, 1.0, 1.0, 0.0, 0.0, 1.0, 1.0, 1.0, 0.0, 1.0, 1.0, 0.0, 1.0, 1.0, 1.0, 1.0, 1.0, 0.0, 1.0, 1.0, 0.0, 0.0, 1.0, 0.0, 0.0, 1.0, 1.0, 0.0, 1.0, 1.0, 1.0, 0.0, 0.0, 0.0, 1.0, 0.0, 0.0, 0.0, 1.0, 1.0, 1.0, 1.0, 0.0, 0.0, 1.0, 1.0, 0.0, 1.0, 0.0, 0.0, 1.0, 0.0, 1.0, 1.0, 0.0, 0.0, 1.0, 0.0, 0.0, 0.0, 0.0, 1.0, 0.0, 0.0, 0.0, 1.0, 1.0, 0.0, 0.0, 1.0, 1.0, 0.0, 1.0, 1.0, 0.0, 1.0, 1.0, 1.0, 1.0, 1.0, 1.0, 1.0, 1.0, 1.0, 1.0, 0.0, 0.0, 0.0, 1.0, 0.0, 0.0, 1.0, 0.0, 1.0, 1.0, 1.0, 1.0, 1.0, 0.0, 1.0, 1.0, 0.0, 1.0, 0.0, 1.0, 1.0, 0.0, 0.0, 1.0, 0.0, 1.0, 1.0, 0.0, 1.0, 1.0, 1.0, 1.0, 1.0, 0.0, 0.0, 1.0, 1.0, 1.0, 0.0, 0.0, 1.0, 1.0, 1.0, 1.0, 1.0, 0.0, 1.0, 0.0, 1.0, 0.0, 1.0, 1.0, 1.0, 1.0, 0.0, 0.0, 0.0, 1.0, 0.0, 1.0, 0.0, 0.0, 1.0, 0.0, 1.0, 1.0, 1.0, 0.0, 0.0, 1.0, 1.0, 0.0, 0.0, 1.0, 1.0, 0.0, 0.0, 1.0, 1.0, 1.0, 1.0, 1.0, 0.0, 1.0, 1.0, 1.0, 0.0, 0.0, 1.0, 1.0, 1.0, 0.0, 1.0, 1.0, 0.0, 1.0, 1.0, 1.0, 1.0, 0.0, 1.0, 0.0, 1.0, 1.0, 1.0, 1.0, 1.0, 1.0, 1.0, 1.0, 1.0, 1.0, 1.0, 1.0, 0.0, 1.0, 1.0, 1.0, 1.0, 0.0, 0.0, 1.0, 1.0, 1.0, 1.0, 1.0, 0.0, 0.0, 1.0, 0.0, 1.0, 1.0, 1.0, 0.0, 1.0, 1.0, 0.0, 0.0, 1.0, 0.0, 0.0, 1.0, 1.0, 1.0, 1.0, 1.0, 1.0, 1.0, 1.0, 1.0, 0.0, 1.0, 1.0, 0.0, 1.0, 0.0, 1.0, 0.0, 1.0, 0.0, 0.0, 0.0, 1.0, 1.0, 1.0, 1.0, 1.0, 1.0, 1.0, 1.0, 0.0, 0.0, 1.0, 1.0, 0.0, 1.0, 1.0, 1.0, 0.0, 1.0, 0.0, 0.0, 1.0, 1.0, 1.0, 1.0, 1.0, 1.0, 1.0, 0.0, 0.0, 1.0, 1.0, 1.0, 1.0, 0.0, 1.0, 1.0, 1.0, 1.0, 1.0, 1.0, 0.0, 0.0, 1.0, 1.0, 0.0, 1.0, 0.0, 1.0, 1.0, 1.0, 0.0, 1.0, 1.0, 1.0, 0.0, 1.0, 1.0, 1.0, 0.0, 1.0, 1.0, 1.0, 1.0, 1.0, 1.0, 1.0, 0.0, 1.0, 1.0, 0.0, 1.0, 1.0, 0.0, 1.0, 1.0, 0.0, 1.0, 1.0, 0.0, 1.0, 0.0, 0.0, 1.0, 1.0, 1.0, 1.0, 1.0, 0.0, 1.0, 0.0, 1.0, 0.0, 1.0, 0.0, 1.0, 1.0, 1.0, 1.0, 1.0, 1.0, 0.0, 1.0, 0.0, 1.0, 1.0, 0.0, 1.0, 0.0, 0.0, 1.0, 1.0, 1.0, 1.0, 1.0, 1.0, 1.0, 1.0, 1.0, 0.0, 1.0, 1.0, 1.0, 1.0, 0.0, 1.0, 0.0, 0.0, 1.0, 0.0, 1.0, 1.0, 1.0, 1.0, 0.0, 1.0, 1.0, 1.0, 0.0, 1.0, 1.0, 0.0, 1.0, 0.0, 1.0, 1.0, 1.0, 0.0, 1.0, 1.0, 1.0, 0.0, 1.0, 1.0, 1.0, 1.0, 1.0, 1.0, 0.0, 1.0, 1.0, 1.0, 1.0, 0.0, 0.0, 1.0, 1.0, 1.0, 1.0, 0.0, 0.0, 1.0, 0.0, 0.0, 0.0, 1.0, 1.0, 1.0, 1.0, 0.0, 0.0, 0.0, 1.0, 1.0, 0.0, 0.0, 0.0, 1.0, 1.0, 1.0, 0.0, 1.0, 0.0, 1.0, 1.0, 1.0, 0.0, 1.0, 0.0, 0.0, 0.0, 1.0, 1.0, 0.0, 0.0, 0.0, 1.0, 1.0, 1.0, 0.0, 0.0, 0.0, 0.0, 1.0, 0.0, 1.0, 1.0, 1.0, 1.0, 0.0, 1.0, 1.0, 0.0, 0.0, 0.0, 0.0, 1.0, 0.0, 1.0, 1.0, 1.0, 1.0, 1.0, 1.0, 0.0, 0.0, 0.0, 1.0, 1.0, 1.0, 0.0, 1.0, 1.0, 1.0, 1.0, 1.0, 0.0, 1.0, 1.0, 1.0, 1.0, 0.0, 0.0, 1.0, 1.0, 1.0, 1.0, 0.0, 1.0, 0.0, 0.0, 0.0, 0.0, 0.0, 0.0, 1.0, 0.0, 1.0, 1.0, 1.0, 0.0, 1.0, 1.0, 1.0, 1.0, 1.0, 1.0, 1.0, 0.0, 1.0, 0.0, 1.0, 1.0, 1.0, 1.0, 0.0, 1.0, 1.0, 1.0, 1.0, 1.0, 1.0, 1.0, 0.0, 0.0, 1.0, 1.0, 0.0, 0.0, 0.0, 0.0, 0.0, 0.0, 0.0, 1.0, 0.0, 0.0, 1.0, 1.0, 0.0, 1.0, 1.0, 0.0, 1.0, 1.0, 1.0, 1.0, 1.0, 1.0, 0.0, 1.0, 1.0, 1.0, 1.0, 0.0, 0.0, 1.0, 1.0, 1.0, 0.0, 1.0, 1.0, 0.0, 0.0, 1.0, 1.0, 1.0, 1.0, 1.0, 1.0, 1.0, 1.0, 1.0, 0.0, 1.0, 1.0, 1.0, 0.0, 1.0, 1.0, 0.0, 1.0, 1.0, 1.0, 1.0, 1.0, 0.0, 1.0, 1.0, 0.0, 1.0, 1.0, 1.0, 0.0, 0.0, 0.0, 1.0, 0.0, 0.0, 1.0, 0.0, 0.0, 0.0, 0.0, 1.0, 0.0, 0.0, 1.0, 1.0, 0.0, 1.0, 1.0, 0.0, 0.0, 0.0, 1.0, 0.0, 1.0, 0.0, 1.0, 0.0, 1.0, 0.0, 0.0, 0.0, 1.0, 0.0, 0.0, 1.0, 1.0, 0.0, 1.0, 1.0, 1.0, 0.0, 0.0, 1.0, 0.0, 0.0, 0.0, 1.0, 1.0, 0.0, 1.0, 1.0, 1.0, 0.0, 1.0, 1.0, 1.0, 1.0, 1.0, 1.0, 1.0, 1.0, 0.0, 1.0, 1.0, 1.0, 0.0, 1.0, 0.0, 0.0, 1.0, 1.0, 1.0, 0.0, 1.0, 0.0, 1.0, 1.0, 0.0, 0.0, 0.0, 0.0, 0.0, 1.0, 1.0, 1.0, 1.0, 1.0, 0.0, 0.0, 1.0, 1.0, 1.0, 1.0, 1.0, 1.0, 1.0, 0.0, 1.0, 0.0, 1.0, 1.0, 0.0, 1.0, 0.0, 1.0, 0.0, 0.0, 1.0, 0.0, 1.0, 0.0, 1.0, 1.0, 0.0, 0.0, 1.0, 1.0, 1.0, 0.0, 1.0, 0.0, 0.0, 0.0, 0.0, 1.0, 1.0, 0.0, 0.0, 0.0, 0.0, 1.0, 1.0, 1.0, 0.0, 1.0, 1.0, 0.0, 1.0, 1.0, 1.0, 1.0, 1.0, 0.0, 0.0, 1.0, 1.0, 0.0, 1.0, 1.0, 0.0, 0.0, 0.0, 0.0, 1.0, 1.0, 1.0, 0.0, 0.0, 0.0, 1.0, 1.0, 1.0, 1.0, 0.0, 0.0, 1.0, 1.0, 1.0, 1.0, 0.0, 1.0, 1.0, 0.0, 0.0, 1.0, 1.0, 0.0, 1.0, 1.0, 0.0, 0.0, 1.0, 0.0, 0.0, 0.0, 0.0, 0.0, 0.0, 0.0, 1.0, 1.0, 0.0, 1.0, 1.0, 0.0, 1.0, 1.0, 1.0, 1.0, 0.0, 1.0, 1.0, 1.0, 1.0, 1.0, 1.0, 1.0, 1.0, 1.0, 1.0, 0.0, 1.0, 1.0, 1.0, 1.0, 1.0, 1.0, 0.0, 1.0, 0.0, 1.0, 1.0, 1.0, 0.0, 0.0, 1.0, 1.0, 0.0, 1.0, 1.0, 0.0, 1.0, 1.0, 1.0, 0.0, 1.0, 1.0, 1.0, 1.0, 0.0, 1.0, 1.0, 0.0, 1.0, 1.0, 1.0, 1.0, 1.0, 1.0, 1.0, 1.0, 1.0, 0.0, 0.0, 1.0, 0.0, 1.0, 0.0, 1.0, 1.0, 1.0, 0.0, 0.0, 1.0, 1.0, 1.0, 0.0, 0.0, 1.0, 1.0, 0.0, 1.0, 0.0, 1.0, 0.0, 0.0, 1.0, 0.0, 0.0, 0.0, 1.0, 1.0, 0.0, 1.0, 0.0, 1.0, 0.0, 1.0, 1.0, 0.0, 0.0, 1.0, 1.0, 0.0, 0.0, 0.0, 1.0, 1.0, 1.0, 1.0, 1.0, 0.0, 1.0, 1.0, 0.0, 1.0, 0.0, 1.0, 1.0, 1.0, 1.0, 1.0, 1.0, 1.0, 1.0, 1.0, 0.0, 1.0, 1.0, 1.0, 1.0, 0.0, 1.0, 0.0, 0.0, 0.0, 1.0, 0.0, 1.0, 1.0, 1.0, 1.0, 0.0, 1.0, 1.0, 0.0, 1.0, 0.0, 1.0, 1.0, 0.0, 0.0, 1.0, 0.0, 1.0, 1.0, 0.0, 1.0, 0.0, 1.0, 0.0, 1.0, 0.0, 1.0, 0.0, 1.0, 1.0, 0.0, 1.0, 1.0, 0.0, 1.0, 0.0, 1.0, 1.0, 1.0, 1.0, 1.0, 1.0, 0.0, 1.0, 0.0, 1.0, 0.0, 1.0, 0.0, 0.0, 0.0, 0.0, 1.0, 1.0, 1.0, 1.0, 1.0, 1.0, 1.0, 1.0, 1.0, 1.0, 1.0, 0.0, 1.0, 1.0, 1.0, 0.0, 1.0, 1.0, 1.0, 1.0, 1.0, 1.0, 0.0, 0.0, 0.0, 1.0, 0.0, 0.0, 0.0, 1.0, 0.0, 1.0, 1.0, 1.0, 0.0, 0.0, 1.0, 0.0, 1.0, 0.0, 1.0, 1.0, 1.0, 0.0, 1.0, 0.0, 0.0, 0.0, 1.0, 1.0, 0.0, 0.0, 1.0, 0.0, 1.0, 0.0, 1.0, 0.0, 0.0, 1.0, 1.0, 1.0, 0.0, 0.0, 0.0, 1.0, 1.0, 1.0, 0.0, 1.0, 1.0, 0.0, 1.0, 0.0, 0.0, 0.0, 1.0, 1.0, 0.0, 1.0, 0.0, 0.0, 0.0, 0.0, 1.0, 0.0, 1.0, 1.0, 1.0, 1.0, 1.0, 0.0, 1.0, 1.0, 1.0, 1.0, 1.0, 0.0, 1.0, 0.0, 1.0, 1.0, 1.0, 1.0, 0.0, 1.0, 0.0, 0.0, 1.0, 0.0, 1.0, 1.0, 0.0, 1.0, 1.0, 1.0, 0.0, 0.0, 0.0, 0.0, 1.0, 1.0, 1.0, 1.0, 1.0, 0.0, 1.0, 1.0, 1.0, 1.0, 1.0, 0.0, 1.0, 0.0, 0.0, 1.0, 1.0, 1.0, 1.0, 0.0, 0.0, 1.0, 0.0, 1.0, 0.0, 0.0, 0.0, 1.0, 1.0, 0.0, 1.0, 1.0, 1.0, 0.0, 0.0, 1.0, 1.0, 1.0, 1.0, 1.0, 1.0, 0.0, 0.0, 1.0, 1.0, 1.0, 0.0, 0.0, 1.0, 0.0, 0.0, 0.0, 1.0, 1.0, 1.0, 1.0, 0.0, 0.0, 1.0, 1.0, 1.0, 0.0, 0.0, 1.0, 1.0, 1.0, 1.0, 1.0, 1.0, 1.0, 1.0, 1.0, 1.0, 1.0, 1.0, 0.0, 1.0, 0.0, 1.0, 1.0, 1.0, 1.0, 1.0, 1.0, 1.0, 1.0, 1.0, 1.0, 1.0, 1.0, 1.0, 0.0, 0.0, 1.0, 0.0, 1.0, 1.0, 1.0, 0.0, 1.0, 1.0, 0.0, 0.0, 1.0, 1.0, 1.0, 0.0, 0.0, 1.0, 1.0, 1.0, 1.0, 0.0, 1.0, 1.0, 1.0, 1.0, 1.0, 1.0, 1.0, 1.0, 0.0, 0.0, 1.0, 1.0, 1.0, 1.0, 0.0, 0.0, 1.0, 1.0, 1.0, 1.0, 0.0, 0.0, 1.0, 1.0, 1.0, 1.0, 1.0, 0.0, 1.0, 1.0, 0.0, 1.0, 0.0, 1.0, 1.0, 1.0, 1.0, 1.0, 1.0, 0.0, 0.0, 1.0, 1.0, 1.0, 0.0, 0.0, 1.0, 1.0, 0.0, 1.0, 1.0, 0.0, 1.0, 1.0, 1.0, 0.0, 0.0, 1.0, 1.0, 1.0, 1.0, 1.0, 1.0, 1.0, 1.0, 1.0, 0.0, 1.0, 0.0, 0.0, 1.0, 0.0, 0.0, 1.0, 1.0, 1.0, 0.0, 0.0, 1.0, 0.0, 1.0, 1.0, 0.0, 1.0, 0.0, 1.0, 1.0, 1.0, 1.0, 0.0, 0.0, 1.0, 0.0, 1.0, 0.0, 1.0, 0.0, 0.0, 1.0, 1.0, 1.0, 0.0, 1.0, 0.0, 0.0, 1.0, 0.0, 1.0, 0.0, 0.0, 1.0, 1.0, 1.0, 1.0, 1.0, 0.0, 1.0, 0.0, 1.0, 1.0, 1.0, 1.0, 0.0, 0.0, 0.0, 1.0, 0.0, 1.0, 1.0, 1.0, 1.0, 1.0, 1.0, 1.0, 1.0, 0.0, 0.0, 0.0, 1.0, 1.0, 0.0, 1.0, 1.0, 0.0, 1.0, 1.0, 0.0, 0.0, 1.0, 1.0, 1.0, 1.0, 1.0, 1.0, 1.0, 1.0, 0.0, 0.0, 1.0, 0.0, 0.0, 0.0, 1.0, 1.0, 1.0, 1.0, 1.0, 1.0, 0.0, 1.0, 1.0, 0.0, 1.0, 1.0, 0.0, 1.0, 0.0, 1.0, 1.0, 1.0, 0.0, 1.0, 1.0, 0.0, 1.0, 0.0, 0.0, 0.0, 1.0, 1.0, 1.0, 0.0, 1.0, 1.0, 1.0, 0.0, 0.0, 0.0, 0.0, 0.0, 0.0, 1.0, 1.0, 0.0, 1.0, 0.0, 1.0, 0.0, 1.0, 1.0, 1.0, 1.0, 1.0, 1.0, 0.0, 1.0, 1.0, 1.0, 1.0, 1.0, 1.0, 1.0, 0.0, 1.0, 1.0, 0.0, 1.0, 0.0, 1.0, 1.0, 1.0, 0.0, 1.0, 1.0, 1.0, 1.0, 0.0, 0.0, 0.0, 1.0, 1.0, 1.0, 0.0, 1.0, 0.0, 1.0, 1.0, 1.0, 0.0, 1.0, 1.0, 1.0, 0.0, 1.0, 1.0, 0.0, 1.0, 0.0, 1.0, 1.0, 1.0, 1.0, 1.0, 1.0, 1.0, 0.0, 1.0, 0.0, 0.0, 0.0, 0.0, 1.0, 0.0, 1.0, 1.0, 1.0, 0.0, 1.0, 1.0, 0.0, 0.0, 1.0, 0.0, 0.0, 1.0, 1.0, 0.0, 1.0, 0.0, 1.0, 1.0, 1.0, 1.0, 0.0, 1.0, 1.0, 1.0, 1.0, 0.0, 1.0, 1.0, 0.0, 1.0, 0.0, 0.0, 0.0, 0.0, 0.0, 0.0, 1.0, 1.0, 0.0, 1.0, 0.0, 1.0, 1.0, 1.0, 0.0, 1.0, 1.0, 0.0, 1.0, 0.0, 1.0, 1.0, 1.0, 1.0, 0.0, 1.0, 1.0, 0.0, 1.0, 0.0, 0.0, 1.0, 0.0, 0.0, 1.0, 1.0, 1.0, 0.0, 1.0, 1.0, 0.0, 1.0, 0.0, 1.0, 0.0, 1.0, 1.0, 1.0, 0.0, 1.0, 0.0, 1.0, 1.0, 1.0, 0.0, 0.0, 1.0, 1.0, 0.0, 1.0, 1.0, 0.0, 1.0, 1.0, 1.0, 1.0, 1.0, 1.0, 0.0, 0.0, 1.0, 1.0, 1.0, 0.0, 1.0, 1.0, 1.0, 1.0, 1.0, 1.0, 1.0, 0.0, 1.0, 1.0, 1.0, 1.0, 0.0, 1.0, 1.0, 1.0, 1.0, 1.0, 1.0, 1.0, 1.0, 1.0, 1.0, 1.0, 1.0, 1.0, 0.0, 1.0, 1.0, 1.0, 0.0, 0.0, 1.0, 1.0, 1.0, 0.0, 1.0, 1.0, 0.0, 0.0, 1.0, 1.0, 0.0, 1.0, 0.0, 1.0, 1.0, 0.0, 1.0, 1.0, 1.0, 1.0, 0.0, 1.0, 1.0, 1.0, 0.0, 0.0, 1.0, 0.0, 0.0, 1.0, 1.0, 1.0, 1.0, 1.0, 1.0, 1.0, 1.0, 1.0, 0.0, 0.0, 1.0, 0.0, 1.0, 1.0, 1.0, 1.0, 1.0, 0.0, 1.0, 0.0, 1.0, 0.0, 0.0, 1.0, 1.0, 0.0, 0.0, 0.0, 1.0, 0.0, 1.0, 1.0, 1.0, 1.0, 1.0, 1.0, 1.0, 1.0, 1.0, 0.0, 1.0, 0.0, 1.0, 0.0, 1.0, 1.0, 0.0, 1.0, 1.0, 0.0, 1.0, 1.0, 0.0, 0.0, 1.0, 1.0, 0.0, 1.0, 0.0, 1.0, 0.0, 1.0, 0.0, 0.0, 0.0, 1.0, 1.0, 1.0, 0.0, 1.0, 1.0, 1.0, 1.0, 0.0, 1.0, 1.0, 0.0, 1.0, 0.0, 0.0, 1.0, 1.0, 1.0, 1.0, 0.0, 0.0, 1.0, 1.0, 1.0, 1.0, 1.0, 1.0, 0.0, 1.0, 0.0, 1.0, 0.0, 0.0, 1.0, 1.0, 0.0, 0.0, 1.0, 1.0, 1.0, 1.0, 0.0, 1.0, 0.0, 0.0, 1.0, 1.0, 1.0, 1.0, 0.0, 0.0, 1.0, 0.0, 0.0, 0.0, 1.0, 0.0, 1.0, 1.0, 1.0, 1.0, 1.0, 1.0, 1.0, 0.0, 0.0, 1.0, 0.0, 1.0, 1.0, 0.0, 0.0, 0.0, 1.0, 1.0, 1.0, 1.0, 0.0, 1.0, 1.0, 0.0, 1.0, 0.0, 0.0, 0.0, 0.0, 1.0, 0.0, 1.0, 0.0, 1.0, 1.0, 1.0, 1.0, 0.0, 0.0, 0.0, 0.0, 0.0, 0.0, 0.0, 1.0, 0.0, 1.0, 0.0, 0.0, 0.0, 0.0, 0.0, 1.0, 1.0, 1.0, 0.0, 1.0, 1.0, 1.0, 1.0, 0.0, 1.0, 0.0, 1.0, 1.0, 1.0, 1.0, 1.0, 1.0, 0.0, 0.0, 0.0, 0.0, 1.0, 1.0, 0.0, 1.0, 0.0, 1.0, 1.0, 0.0, 1.0, 1.0, 1.0, 1.0, 1.0, 1.0, 1.0, 1.0, 1.0, 1.0, 1.0, 0.0, 0.0, 1.0, 1.0, 1.0, 0.0, 1.0, 0.0, 1.0, 0.0, 1.0, 1.0, 1.0, 1.0, 0.0, 0.0, 0.0, 1.0, 1.0, 1.0, 1.0, 0.0, 1.0, 1.0, 0.0, 1.0, 0.0, 0.0, 1.0, 0.0, 1.0, 0.0, 0.0, 1.0, 1.0, 1.0, 0.0, 1.0, 1.0, 1.0, 0.0, 0.0, 0.0, 0.0, 1.0, 1.0, 0.0, 1.0, 1.0, 1.0, 1.0, 1.0, 0.0, 0.0, 0.0, 1.0, 1.0, 1.0, 1.0, 1.0, 1.0, 1.0, 1.0, 1.0, 0.0, 0.0, 1.0, 1.0, 0.0, 1.0, 0.0, 1.0, 1.0, 1.0, 1.0, 1.0, 1.0, 1.0, 1.0, 1.0, 1.0, 1.0, 1.0, 1.0, 1.0, 1.0, 0.0, 1.0, 0.0, 0.0, 0.0, 1.0, 1.0, 0.0, 1.0, 1.0, 0.0, 1.0, 0.0, 1.0, 1.0, 1.0, 1.0, 1.0, 1.0, 0.0, 1.0, 1.0, 1.0, 0.0, 1.0, 0.0, 1.0, 0.0, 1.0, 1.0, 0.0, 1.0, 1.0, 1.0, 1.0, 0.0, 0.0, 0.0, 0.0, 0.0, 0.0, 1.0, 0.0, 0.0, 0.0, 1.0, 1.0, 1.0, 1.0, 1.0, 1.0, 1.0, 1.0, 1.0, 1.0, 0.0, 0.0, 1.0, 1.0, 1.0, 1.0, 1.0, 0.0, 1.0, 1.0, 1.0, 0.0, 0.0, 1.0, 1.0, 1.0, 0.0, 1.0, 0.0, 0.0, 0.0, 0.0, 1.0, 1.0, 1.0, 1.0, 1.0, 1.0, 1.0, 1.0, 1.0, 0.0, 1.0, 0.0, 0.0, 1.0, 0.0, 1.0, 1.0, 1.0, 1.0, 1.0, 1.0, 0.0, 0.0, 1.0, 1.0, 1.0, 0.0, 0.0, 0.0, 1.0, 0.0, 1.0, 1.0, 0.0, 1.0, 0.0, 1.0, 1.0, 1.0, 0.0, 1.0, 0.0, 1.0, 0.0, 0.0, 1.0, 1.0, 0.0, 0.0, 0.0, 1.0, 0.0, 1.0, 1.0, 1.0, 1.0, 1.0, 1.0, 1.0, 0.0, 1.0, 0.0, 1.0, 1.0, 1.0, 1.0, 0.0, 0.0, 1.0, 1.0, 1.0, 0.0, 1.0, 1.0, 1.0, 1.0, 0.0, 0.0, 1.0, 1.0, 1.0, 1.0, 1.0, 1.0, 1.0, 1.0, 0.0, 0.0, 1.0, 0.0, 1.0, 1.0, 0.0, 1.0, 1.0, 0.0, 0.0, 0.0, 1.0, 1.0, 1.0, 1.0, 1.0, 1.0, 1.0, 1.0, 0.0, 1.0, 1.0, 1.0, 0.0, 0.0, 1.0, 1.0, 1.0, 1.0, 1.0, 1.0, 1.0, 0.0, 1.0, 1.0, 1.0, 0.0, 1.0, 0.0, 0.0, 1.0, 0.0, 0.0, 1.0, 0.0, 1.0, 1.0, 0.0, 0.0, 1.0, 1.0, 1.0, 0.0, 1.0, 1.0, 1.0, 0.0, 0.0, 0.0, 1.0, 1.0, 1.0, 0.0, 1.0, 1.0, 1.0, 0.0, 1.0, 0.0, 1.0, 0.0, 1.0, 0.0, 0.0, 1.0, 1.0, 0.0, 1.0, 1.0, 0.0, 1.0, 1.0, 0.0, 1.0, 1.0, 1.0, 1.0, 0.0, 1.0, 0.0, 1.0, 0.0, 1.0, 1.0, 0.0, 0.0, 0.0, 1.0, 1.0, 1.0, 1.0, 0.0, 1.0, 0.0, 1.0, 1.0, 0.0, 1.0, 1.0, 1.0, 1.0, 0.0, 0.0, 1.0, 1.0, 0.0, 1.0, 1.0, 1.0, 1.0, 1.0, 0.0, 0.0, 1.0, 1.0, 1.0, 1.0, 1.0, 1.0, 0.0, 0.0, 1.0, 1.0, 1.0, 1.0, 0.0, 1.0, 1.0, 1.0, 0.0, 1.0, 1.0, 0.0, 1.0, 1.0, 1.0, 0.0, 1.0, 0.0, 0.0, 1.0, 0.0, 0.0, 0.0, 1.0, 0.0, 1.0, 1.0, 1.0, 1.0, 0.0, 0.0, 0.0, 0.0, 1.0, 1.0, 0.0, 1.0, 1.0, 1.0, 0.0, 1.0, 0.0, 0.0, 1.0, 0.0, 1.0, 1.0, 1.0, 0.0, 1.0, 1.0, 1.0, 1.0, 1.0, 1.0, 1.0, 0.0, 0.0, 0.0, 1.0, 1.0, 1.0, 0.0, 1.0, 1.0, 1.0, 1.0, 1.0, 1.0, 0.0, 1.0, 0.0, 0.0, 0.0, 1.0, 1.0, 0.0, 1.0, 1.0, 1.0, 1.0, 0.0, 1.0, 0.0, 0.0, 1.0, 1.0, 1.0, 1.0, 1.0, 0.0, 0.0, 1.0, 0.0, 0.0, 0.0, 1.0, 1.0, 0.0, 1.0, 0.0, 0.0, 1.0, 1.0, 1.0, 1.0, 0.0, 1.0, 0.0, 0.0, 1.0, 0.0, 0.0, 1.0, 1.0, 0.0, 1.0, 0.0, 1.0, 1.0, 1.0, 1.0, 0.0, 1.0, 0.0, 1.0, 1.0, 1.0, 0.0, 0.0, 0.0, 1.0, 1.0, 1.0, 0.0, 1.0, 1.0, 1.0, 1.0, 0.0, 1.0, 1.0, 1.0, 1.0, 1.0, 1.0, 1.0, 1.0, 1.0, 0.0, 1.0, 0.0, 0.0, 0.0, 0.0, 1.0, 0.0, 1.0, 0.0, 1.0, 0.0, 1.0, 1.0, 1.0, 0.0, 1.0, 1.0, 1.0, 0.0, 1.0, 1.0, 0.0, 1.0, 0.0, 1.0, 1.0, 0.0, 0.0, 1.0, 1.0, 1.0, 1.0, 1.0, 0.0, 1.0, 1.0, 1.0, 1.0, 1.0, 1.0, 0.0, 1.0, 1.0, 1.0, 1.0, 0.0, 1.0, 1.0, 0.0, 1.0, 1.0, 1.0, 1.0, 1.0, 0.0, 0.0, 0.0, 1.0, 1.0, 1.0, 0.0, 1.0, 1.0, 0.0, 0.0, 1.0, 0.0, 0.0, 1.0, 1.0, 0.0, 0.0, 1.0, 0.0, 0.0, 1.0, 1.0, 1.0, 1.0, 1.0, 1.0, 0.0, 0.0, 0.0, 1.0, 0.0, 1.0, 1.0, 1.0, 0.0, 0.0, 0.0, 0.0, 0.0, 1.0, 0.0, 0.0, 0.0, 1.0, 1.0, 1.0, 1.0, 0.0, 1.0, 1.0, 1.0, 0.0, 1.0, 1.0, 0.0, 1.0, 0.0, 1.0, 1.0, 1.0, 1.0, 0.0, 1.0, 1.0, 1.0, 1.0, 1.0, 0.0, 1.0, 1.0, 0.0, 0.0, 1.0, 0.0, 1.0, 1.0, 1.0, 0.0, 0.0, 1.0, 1.0, 1.0, 1.0, 1.0, 1.0, 1.0, 0.0, 0.0, 1.0, 1.0, 0.0, 1.0, 1.0, 1.0, 0.0, 0.0, 1.0, 1.0, 0.0, 1.0, 1.0, 0.0, 1.0, 1.0, 1.0, 1.0, 1.0, 0.0, 1.0, 1.0, 1.0, 1.0, 0.0, 1.0, 0.0, 1.0, 0.0, 0.0, 1.0, 1.0, 1.0, 1.0, 1.0, 1.0, 0.0, 1.0, 1.0, 1.0, 1.0, 0.0, 0.0, 1.0, 0.0, 1.0, 1.0, 0.0, 1.0, 0.0, 1.0, 0.0, 0.0, 1.0, 1.0, 1.0, 1.0, 0.0, 0.0, 1.0, 0.0, 0.0], 'tour_cost': 9132860.66130788, 'packing_plan_cost': 1137558.0}),\n",
       " struct({'tour': [181, 97, 93, 256, 95, 197, 156, 38, 28, 172, 50, 15, 247, 145, 9, 198, 266, 111, 58, 42, 99, 277, 246, 126, 20, 166, 37, 239, 249, 169, 87, 224, 26, 31, 22, 106, 62, 211, 53, 65, 148, 152, 122, 44, 7, 228, 149, 41, 178, 116, 171, 74, 235, 12, 66, 173, 255, 219, 205, 186, 209, 0, 63, 120, 218, 68, 158, 18, 232, 90, 229, 30, 13, 40, 137, 23, 257, 108, 98, 132, 10, 248, 170, 214, 4, 80, 254, 182, 231, 260, 206, 153, 253, 212, 136, 138, 39, 54, 233, 1, 161, 236, 200, 49, 180, 271, 193, 222, 105, 265, 133, 32, 226, 227, 96, 107, 123, 71, 274, 64, 85, 103, 144, 2, 225, 237, 244, 56, 252, 217, 17, 70, 125, 16, 134, 35, 11, 101, 112, 163, 67, 47, 86, 189, 183, 118, 75, 234, 264, 139, 104, 48, 115, 190, 76, 164, 192, 131, 29, 6, 14, 262, 174, 203, 100, 199, 207, 185, 5, 60, 162, 259, 3, 102, 245, 196, 59, 261, 52, 187, 69, 130, 129, 121, 270, 258, 215, 55, 250, 191, 179, 117, 188, 240, 155, 147, 221, 275, 241, 263, 91, 167, 141, 201, 142, 208, 73, 269, 83, 79, 57, 124, 72, 81, 150, 159, 146, 184, 45, 8, 272, 151, 46, 223, 88, 25, 92, 21, 220, 109, 160, 43, 267, 78, 27, 94, 276, 243, 36, 165, 113, 242, 135, 110, 278, 33, 82, 273, 61, 279, 19, 204, 34, 177, 119, 24, 128, 168, 143, 202, 238, 230, 51, 84, 213, 268, 127, 114, 77, 195, 89, 251, 140, 157, 216, 154, 175, 210, 176, 194], 'packing_plan': [1.0, 0.0, 1.0, 0.0, 0.0, 0.0, 1.0, 1.0, 0.0, 1.0, 1.0, 1.0, 0.0, 0.0, 1.0, 0.0, 1.0, 1.0, 0.0, 0.0, 1.0, 0.0, 1.0, 1.0, 1.0, 0.0, 1.0, 0.0, 0.0, 1.0, 1.0, 0.0, 1.0, 0.0, 0.0, 1.0, 0.0, 0.0, 0.0, 0.0, 1.0, 1.0, 0.0, 0.0, 1.0, 0.0, 0.0, 1.0, 0.0, 0.0, 1.0, 0.0, 1.0, 1.0, 0.0, 0.0, 0.0, 0.0, 1.0, 0.0, 0.0, 0.0, 1.0, 0.0, 1.0, 0.0, 0.0, 0.0, 0.0, 0.0, 1.0, 1.0, 1.0, 1.0, 1.0, 0.0, 1.0, 0.0, 0.0, 1.0, 0.0, 0.0, 1.0, 0.0, 0.0, 1.0, 1.0, 1.0, 0.0, 0.0, 0.0, 0.0, 0.0, 0.0, 0.0, 0.0, 1.0, 0.0, 0.0, 1.0, 0.0, 1.0, 1.0, 0.0, 0.0, 1.0, 0.0, 1.0, 0.0, 1.0, 0.0, 0.0, 1.0, 1.0, 0.0, 0.0, 1.0, 0.0, 0.0, 1.0, 0.0, 1.0, 0.0, 1.0, 1.0, 1.0, 0.0, 0.0, 1.0, 0.0, 0.0, 1.0, 0.0, 1.0, 1.0, 1.0, 1.0, 1.0, 0.0, 1.0, 1.0, 1.0, 0.0, 0.0, 1.0, 0.0, 0.0, 0.0, 0.0, 0.0, 0.0, 1.0, 1.0, 0.0, 0.0, 1.0, 0.0, 1.0, 0.0, 1.0, 1.0, 0.0, 1.0, 1.0, 0.0, 1.0, 0.0, 1.0, 0.0, 0.0, 1.0, 1.0, 1.0, 1.0, 0.0, 1.0, 0.0, 0.0, 0.0, 1.0, 1.0, 1.0, 0.0, 0.0, 0.0, 1.0, 0.0, 0.0, 0.0, 0.0, 0.0, 1.0, 1.0, 0.0, 0.0, 0.0, 0.0, 1.0, 1.0, 0.0, 0.0, 0.0, 0.0, 0.0, 1.0, 1.0, 0.0, 1.0, 1.0, 1.0, 0.0, 0.0, 0.0, 0.0, 0.0, 0.0, 0.0, 1.0, 1.0, 0.0, 0.0, 0.0, 0.0, 1.0, 0.0, 0.0, 1.0, 0.0, 0.0, 1.0, 0.0, 1.0, 0.0, 0.0, 0.0, 0.0, 0.0, 0.0, 0.0, 0.0, 1.0, 0.0, 0.0, 0.0, 0.0, 1.0, 0.0, 0.0, 0.0, 1.0, 0.0, 1.0, 0.0, 0.0, 1.0, 0.0, 1.0, 0.0, 1.0, 1.0, 1.0, 1.0, 1.0, 1.0, 0.0, 0.0, 0.0, 0.0, 0.0, 0.0, 1.0, 0.0, 1.0, 1.0, 1.0, 1.0, 1.0, 0.0, 1.0, 1.0, 0.0, 0.0, 0.0, 1.0, 1.0, 0.0, 0.0, 1.0, 0.0, 1.0, 1.0, 0.0, 1.0, 0.0, 1.0, 1.0, 1.0, 0.0, 0.0, 1.0, 1.0, 1.0, 0.0, 0.0, 1.0, 1.0, 1.0, 0.0, 1.0, 0.0, 1.0, 0.0, 0.0, 0.0, 1.0, 1.0, 0.0, 1.0, 0.0, 0.0, 0.0, 1.0, 0.0, 0.0, 0.0, 0.0, 1.0, 0.0, 1.0, 1.0, 0.0, 0.0, 0.0, 1.0, 1.0, 0.0, 0.0, 1.0, 0.0, 0.0, 0.0, 1.0, 1.0, 1.0, 1.0, 0.0, 0.0, 0.0, 0.0, 1.0, 0.0, 0.0, 1.0, 0.0, 0.0, 0.0, 1.0, 1.0, 0.0, 1.0, 0.0, 1.0, 0.0, 0.0, 1.0, 0.0, 1.0, 1.0, 0.0, 1.0, 1.0, 0.0, 1.0, 1.0, 1.0, 1.0, 1.0, 1.0, 0.0, 1.0, 1.0, 1.0, 1.0, 0.0, 0.0, 1.0, 1.0, 1.0, 1.0, 0.0, 0.0, 0.0, 0.0, 0.0, 1.0, 1.0, 1.0, 0.0, 1.0, 1.0, 0.0, 0.0, 1.0, 0.0, 0.0, 1.0, 0.0, 0.0, 1.0, 1.0, 1.0, 1.0, 1.0, 1.0, 0.0, 0.0, 1.0, 0.0, 0.0, 0.0, 1.0, 0.0, 1.0, 0.0, 0.0, 0.0, 1.0, 1.0, 1.0, 0.0, 1.0, 0.0, 1.0, 0.0, 0.0, 0.0, 1.0, 1.0, 0.0, 1.0, 1.0, 1.0, 0.0, 1.0, 0.0, 0.0, 0.0, 0.0, 1.0, 1.0, 0.0, 1.0, 0.0, 0.0, 0.0, 1.0, 1.0, 1.0, 1.0, 0.0, 1.0, 1.0, 1.0, 1.0, 0.0, 1.0, 0.0, 0.0, 1.0, 0.0, 0.0, 1.0, 0.0, 1.0, 1.0, 0.0, 0.0, 1.0, 1.0, 1.0, 0.0, 0.0, 0.0, 0.0, 0.0, 1.0, 0.0, 1.0, 1.0, 1.0, 1.0, 1.0, 0.0, 1.0, 1.0, 0.0, 1.0, 1.0, 0.0, 1.0, 1.0, 0.0, 1.0, 1.0, 0.0, 1.0, 0.0, 0.0, 1.0, 1.0, 1.0, 0.0, 1.0, 0.0, 1.0, 0.0, 1.0, 0.0, 1.0, 0.0, 1.0, 1.0, 0.0, 1.0, 0.0, 1.0, 0.0, 0.0, 0.0, 0.0, 1.0, 0.0, 0.0, 0.0, 0.0, 1.0, 1.0, 1.0, 0.0, 1.0, 1.0, 0.0, 1.0, 1.0, 0.0, 1.0, 1.0, 1.0, 0.0, 0.0, 1.0, 0.0, 0.0, 0.0, 0.0, 1.0, 1.0, 1.0, 0.0, 0.0, 0.0, 1.0, 1.0, 0.0, 1.0, 0.0, 0.0, 1.0, 0.0, 1.0, 1.0, 0.0, 0.0, 0.0, 1.0, 1.0, 0.0, 1.0, 1.0, 1.0, 1.0, 0.0, 1.0, 0.0, 0.0, 1.0, 1.0, 1.0, 0.0, 0.0, 1.0, 1.0, 0.0, 1.0, 0.0, 0.0, 1.0, 0.0, 0.0, 0.0, 1.0, 0.0, 0.0, 1.0, 0.0, 0.0, 0.0, 1.0, 1.0, 0.0, 0.0, 0.0, 0.0, 1.0, 1.0, 0.0, 1.0, 0.0, 1.0, 0.0, 0.0, 0.0, 1.0, 0.0, 0.0, 0.0, 1.0, 1.0, 0.0, 0.0, 0.0, 1.0, 1.0, 0.0, 0.0, 0.0, 0.0, 0.0, 1.0, 0.0, 1.0, 0.0, 0.0, 1.0, 0.0, 1.0, 1.0, 0.0, 0.0, 0.0, 0.0, 1.0, 0.0, 0.0, 0.0, 1.0, 0.0, 1.0, 0.0, 0.0, 0.0, 0.0, 1.0, 0.0, 1.0, 0.0, 0.0, 1.0, 0.0, 1.0, 0.0, 0.0, 1.0, 1.0, 1.0, 1.0, 0.0, 0.0, 0.0, 0.0, 1.0, 0.0, 0.0, 1.0, 0.0, 0.0, 0.0, 0.0, 0.0, 0.0, 1.0, 0.0, 0.0, 1.0, 1.0, 0.0, 0.0, 1.0, 1.0, 1.0, 1.0, 0.0, 1.0, 0.0, 1.0, 0.0, 1.0, 1.0, 1.0, 1.0, 0.0, 1.0, 1.0, 0.0, 1.0, 1.0, 1.0, 1.0, 0.0, 0.0, 1.0, 1.0, 0.0, 0.0, 0.0, 0.0, 0.0, 0.0, 0.0, 0.0, 0.0, 0.0, 1.0, 0.0, 0.0, 1.0, 1.0, 0.0, 0.0, 1.0, 1.0, 1.0, 0.0, 0.0, 0.0, 1.0, 0.0, 0.0, 1.0, 0.0, 0.0, 1.0, 1.0, 1.0, 0.0, 1.0, 1.0, 0.0, 0.0, 1.0, 1.0, 1.0, 1.0, 0.0, 0.0, 1.0, 0.0, 1.0, 0.0, 0.0, 1.0, 1.0, 0.0, 1.0, 1.0, 0.0, 1.0, 1.0, 0.0, 0.0, 1.0, 0.0, 1.0, 1.0, 0.0, 1.0, 1.0, 1.0, 0.0, 0.0, 0.0, 1.0, 0.0, 0.0, 1.0, 0.0, 0.0, 0.0, 0.0, 1.0, 0.0, 0.0, 1.0, 1.0, 0.0, 1.0, 1.0, 0.0, 0.0, 0.0, 0.0, 0.0, 1.0, 0.0, 1.0, 0.0, 0.0, 0.0, 0.0, 0.0, 0.0, 0.0, 0.0, 0.0, 0.0, 0.0, 1.0, 1.0, 1.0, 0.0, 0.0, 1.0, 0.0, 0.0, 0.0, 1.0, 1.0, 0.0, 1.0, 0.0, 1.0, 0.0, 1.0, 1.0, 0.0, 1.0, 1.0, 1.0, 1.0, 1.0, 0.0, 0.0, 1.0, 1.0, 0.0, 1.0, 0.0, 0.0, 1.0, 1.0, 1.0, 0.0, 1.0, 0.0, 0.0, 1.0, 0.0, 0.0, 0.0, 0.0, 0.0, 1.0, 0.0, 1.0, 1.0, 1.0, 0.0, 0.0, 0.0, 1.0, 1.0, 0.0, 1.0, 0.0, 1.0, 0.0, 1.0, 0.0, 0.0, 1.0, 0.0, 1.0, 0.0, 1.0, 0.0, 0.0, 1.0, 0.0, 1.0, 0.0, 1.0, 1.0, 0.0, 0.0, 0.0, 0.0, 1.0, 0.0, 1.0, 0.0, 0.0, 0.0, 0.0, 1.0, 0.0, 0.0, 0.0, 0.0, 0.0, 1.0, 1.0, 1.0, 0.0, 1.0, 1.0, 0.0, 1.0, 1.0, 1.0, 1.0, 1.0, 0.0, 0.0, 0.0, 1.0, 0.0, 1.0, 1.0, 0.0, 0.0, 0.0, 0.0, 1.0, 1.0, 0.0, 0.0, 0.0, 0.0, 1.0, 0.0, 1.0, 1.0, 0.0, 0.0, 1.0, 1.0, 1.0, 0.0, 0.0, 1.0, 1.0, 0.0, 0.0, 1.0, 1.0, 0.0, 0.0, 1.0, 0.0, 0.0, 1.0, 0.0, 0.0, 0.0, 0.0, 0.0, 0.0, 0.0, 0.0, 1.0, 0.0, 1.0, 1.0, 0.0, 1.0, 1.0, 0.0, 1.0, 0.0, 1.0, 1.0, 1.0, 1.0, 0.0, 0.0, 1.0, 1.0, 1.0, 1.0, 0.0, 1.0, 1.0, 1.0, 1.0, 1.0, 1.0, 0.0, 1.0, 0.0, 1.0, 1.0, 1.0, 0.0, 0.0, 1.0, 1.0, 0.0, 0.0, 1.0, 0.0, 0.0, 0.0, 1.0, 0.0, 1.0, 1.0, 1.0, 1.0, 0.0, 0.0, 0.0, 0.0, 1.0, 1.0, 1.0, 1.0, 1.0, 0.0, 0.0, 1.0, 0.0, 0.0, 0.0, 1.0, 0.0, 1.0, 0.0, 1.0, 1.0, 0.0, 0.0, 0.0, 1.0, 1.0, 1.0, 0.0, 0.0, 1.0, 1.0, 0.0, 1.0, 0.0, 1.0, 0.0, 0.0, 1.0, 0.0, 0.0, 0.0, 1.0, 0.0, 0.0, 1.0, 0.0, 1.0, 0.0, 1.0, 1.0, 0.0, 0.0, 0.0, 1.0, 0.0, 0.0, 0.0, 1.0, 1.0, 1.0, 1.0, 1.0, 0.0, 1.0, 1.0, 0.0, 1.0, 0.0, 1.0, 1.0, 1.0, 1.0, 1.0, 0.0, 0.0, 1.0, 1.0, 0.0, 1.0, 1.0, 1.0, 0.0, 0.0, 1.0, 0.0, 0.0, 0.0, 0.0, 0.0, 1.0, 1.0, 1.0, 1.0, 0.0, 1.0, 1.0, 0.0, 1.0, 0.0, 1.0, 0.0, 0.0, 0.0, 0.0, 0.0, 0.0, 1.0, 0.0, 1.0, 0.0, 1.0, 0.0, 0.0, 0.0, 1.0, 0.0, 1.0, 1.0, 0.0, 1.0, 0.0, 0.0, 1.0, 0.0, 1.0, 0.0, 1.0, 1.0, 1.0, 1.0, 0.0, 1.0, 0.0, 0.0, 0.0, 1.0, 0.0, 0.0, 0.0, 0.0, 0.0, 1.0, 0.0, 1.0, 0.0, 1.0, 1.0, 1.0, 1.0, 1.0, 0.0, 0.0, 0.0, 1.0, 1.0, 0.0, 1.0, 0.0, 1.0, 1.0, 1.0, 1.0, 0.0, 0.0, 0.0, 1.0, 0.0, 0.0, 0.0, 1.0, 0.0, 1.0, 0.0, 1.0, 0.0, 0.0, 0.0, 0.0, 0.0, 0.0, 1.0, 1.0, 1.0, 0.0, 1.0, 0.0, 0.0, 0.0, 0.0, 1.0, 0.0, 0.0, 1.0, 0.0, 1.0, 0.0, 0.0, 0.0, 0.0, 1.0, 1.0, 1.0, 0.0, 0.0, 0.0, 1.0, 1.0, 1.0, 0.0, 1.0, 1.0, 0.0, 1.0, 0.0, 0.0, 0.0, 1.0, 1.0, 0.0, 1.0, 0.0, 0.0, 0.0, 0.0, 1.0, 0.0, 0.0, 1.0, 1.0, 0.0, 1.0, 0.0, 1.0, 1.0, 1.0, 1.0, 1.0, 0.0, 1.0, 0.0, 0.0, 1.0, 1.0, 1.0, 0.0, 1.0, 0.0, 0.0, 1.0, 0.0, 0.0, 1.0, 0.0, 0.0, 1.0, 1.0, 0.0, 0.0, 0.0, 0.0, 1.0, 1.0, 1.0, 1.0, 1.0, 0.0, 1.0, 1.0, 0.0, 1.0, 1.0, 0.0, 1.0, 0.0, 0.0, 1.0, 1.0, 1.0, 1.0, 0.0, 0.0, 1.0, 0.0, 1.0, 0.0, 0.0, 0.0, 0.0, 0.0, 0.0, 1.0, 1.0, 1.0, 0.0, 0.0, 0.0, 1.0, 1.0, 1.0, 1.0, 1.0, 0.0, 0.0, 1.0, 1.0, 1.0, 0.0, 0.0, 1.0, 0.0, 0.0, 0.0, 1.0, 0.0, 1.0, 1.0, 0.0, 0.0, 1.0, 0.0, 1.0, 0.0, 0.0, 0.0, 1.0, 1.0, 0.0, 0.0, 1.0, 1.0, 0.0, 1.0, 1.0, 1.0, 0.0, 0.0, 1.0, 0.0, 1.0, 1.0, 0.0, 1.0, 1.0, 1.0, 0.0, 1.0, 1.0, 1.0, 1.0, 1.0, 1.0, 0.0, 0.0, 1.0, 0.0, 1.0, 1.0, 0.0, 0.0, 0.0, 1.0, 0.0, 0.0, 1.0, 0.0, 1.0, 0.0, 0.0, 1.0, 1.0, 1.0, 0.0, 0.0, 0.0, 1.0, 1.0, 1.0, 0.0, 1.0, 1.0, 0.0, 0.0, 0.0, 1.0, 1.0, 0.0, 0.0, 0.0, 0.0, 1.0, 1.0, 1.0, 1.0, 0.0, 0.0, 1.0, 1.0, 0.0, 1.0, 1.0, 0.0, 1.0, 0.0, 0.0, 0.0, 0.0, 1.0, 1.0, 1.0, 1.0, 1.0, 1.0, 0.0, 0.0, 1.0, 0.0, 1.0, 0.0, 0.0, 1.0, 1.0, 0.0, 0.0, 0.0, 0.0, 1.0, 1.0, 1.0, 0.0, 0.0, 1.0, 1.0, 1.0, 1.0, 1.0, 1.0, 1.0, 1.0, 0.0, 0.0, 0.0, 0.0, 0.0, 1.0, 0.0, 0.0, 0.0, 1.0, 1.0, 0.0, 0.0, 0.0, 0.0, 0.0, 1.0, 0.0, 1.0, 0.0, 1.0, 0.0, 1.0, 0.0, 0.0, 0.0, 0.0, 0.0, 1.0, 0.0, 0.0, 0.0, 0.0, 1.0, 0.0, 1.0, 0.0, 1.0, 0.0, 0.0, 1.0, 0.0, 1.0, 0.0, 0.0, 1.0, 1.0, 1.0, 1.0, 1.0, 0.0, 1.0, 0.0, 0.0, 0.0, 1.0, 1.0, 0.0, 0.0, 0.0, 1.0, 0.0, 0.0, 1.0, 1.0, 1.0, 1.0, 1.0, 0.0, 1.0, 0.0, 0.0, 0.0, 0.0, 1.0, 0.0, 1.0, 1.0, 0.0, 1.0, 0.0, 0.0, 0.0, 0.0, 1.0, 1.0, 1.0, 1.0, 1.0, 1.0, 1.0, 0.0, 0.0, 1.0, 0.0, 0.0, 0.0, 1.0, 1.0, 1.0, 0.0, 1.0, 1.0, 0.0, 1.0, 1.0, 0.0, 0.0, 0.0, 0.0, 1.0, 0.0, 1.0, 0.0, 0.0, 0.0, 1.0, 0.0, 0.0, 1.0, 0.0, 0.0, 0.0, 1.0, 1.0, 1.0, 0.0, 1.0, 1.0, 1.0, 0.0, 0.0, 0.0, 0.0, 0.0, 0.0, 1.0, 0.0, 0.0, 1.0, 0.0, 1.0, 0.0, 1.0, 1.0, 1.0, 0.0, 1.0, 1.0, 0.0, 0.0, 0.0, 1.0, 1.0, 1.0, 0.0, 1.0, 0.0, 0.0, 0.0, 0.0, 1.0, 0.0, 1.0, 1.0, 0.0, 0.0, 1.0, 1.0, 1.0, 0.0, 0.0, 0.0, 0.0, 1.0, 1.0, 1.0, 0.0, 1.0, 0.0, 1.0, 0.0, 1.0, 0.0, 1.0, 1.0, 1.0, 0.0, 1.0, 1.0, 0.0, 1.0, 0.0, 1.0, 1.0, 0.0, 1.0, 1.0, 1.0, 1.0, 0.0, 1.0, 0.0, 0.0, 0.0, 0.0, 1.0, 0.0, 1.0, 1.0, 1.0, 0.0, 1.0, 1.0, 0.0, 0.0, 1.0, 0.0, 0.0, 1.0, 1.0, 0.0, 1.0, 0.0, 1.0, 1.0, 0.0, 1.0, 0.0, 1.0, 1.0, 1.0, 1.0, 0.0, 1.0, 0.0, 0.0, 1.0, 0.0, 0.0, 0.0, 0.0, 0.0, 0.0, 0.0, 1.0, 0.0, 1.0, 0.0, 1.0, 1.0, 1.0, 0.0, 1.0, 1.0, 0.0, 0.0, 0.0, 1.0, 1.0, 1.0, 1.0, 0.0, 1.0, 1.0, 0.0, 0.0, 0.0, 0.0, 1.0, 0.0, 0.0, 1.0, 1.0, 1.0, 0.0, 0.0, 1.0, 0.0, 0.0, 0.0, 1.0, 0.0, 1.0, 0.0, 1.0, 0.0, 0.0, 0.0, 0.0, 1.0, 1.0, 0.0, 0.0, 1.0, 1.0, 0.0, 1.0, 1.0, 0.0, 1.0, 0.0, 1.0, 1.0, 1.0, 1.0, 0.0, 0.0, 1.0, 0.0, 1.0, 0.0, 0.0, 1.0, 1.0, 1.0, 1.0, 1.0, 1.0, 0.0, 1.0, 1.0, 1.0, 0.0, 0.0, 0.0, 0.0, 1.0, 0.0, 1.0, 0.0, 1.0, 1.0, 0.0, 1.0, 0.0, 1.0, 0.0, 0.0, 0.0, 1.0, 1.0, 0.0, 0.0, 1.0, 1.0, 1.0, 0.0, 1.0, 1.0, 0.0, 0.0, 1.0, 1.0, 0.0, 0.0, 0.0, 1.0, 1.0, 0.0, 0.0, 0.0, 0.0, 1.0, 0.0, 1.0, 0.0, 1.0, 0.0, 0.0, 1.0, 0.0, 0.0, 0.0, 0.0, 0.0, 1.0, 0.0, 0.0, 1.0, 0.0, 0.0, 0.0, 0.0, 1.0, 0.0, 1.0, 0.0, 0.0, 1.0, 1.0, 0.0, 1.0, 0.0, 1.0, 0.0, 0.0, 1.0, 0.0, 0.0, 0.0, 0.0, 1.0, 0.0, 0.0, 1.0, 1.0, 1.0, 0.0, 1.0, 1.0, 1.0, 0.0, 0.0, 1.0, 0.0, 1.0, 0.0, 1.0, 0.0, 0.0, 1.0, 1.0, 0.0, 0.0, 0.0, 0.0, 0.0, 1.0, 1.0, 0.0, 1.0, 0.0, 0.0, 0.0, 1.0, 0.0, 0.0, 0.0, 1.0, 1.0, 1.0, 0.0, 1.0, 1.0, 0.0, 1.0, 0.0, 1.0, 1.0, 0.0, 1.0, 0.0, 0.0, 1.0, 1.0, 1.0, 1.0, 0.0, 0.0, 1.0, 0.0, 1.0, 1.0, 1.0, 1.0, 0.0, 1.0, 0.0, 1.0, 0.0, 0.0, 1.0, 1.0, 0.0, 0.0, 0.0, 0.0, 1.0, 1.0, 0.0, 0.0, 0.0, 0.0, 0.0, 1.0, 1.0, 1.0, 0.0, 0.0, 1.0, 0.0, 0.0, 0.0, 0.0, 0.0, 0.0, 1.0, 0.0, 1.0, 1.0, 1.0, 1.0, 0.0, 0.0, 1.0, 0.0, 1.0, 1.0, 0.0, 0.0, 0.0, 1.0, 1.0, 1.0, 1.0, 0.0, 1.0, 1.0, 0.0, 1.0, 0.0, 0.0, 0.0, 0.0, 1.0, 0.0, 1.0, 0.0, 1.0, 1.0, 1.0, 1.0, 0.0, 0.0, 0.0, 0.0, 0.0, 0.0, 0.0, 0.0, 0.0, 1.0, 0.0, 0.0, 0.0, 0.0, 0.0, 1.0, 0.0, 1.0, 0.0, 1.0, 1.0, 0.0, 1.0, 0.0, 1.0, 0.0, 0.0, 1.0, 1.0, 1.0, 1.0, 0.0, 0.0, 0.0, 0.0, 0.0, 1.0, 0.0, 0.0, 1.0, 0.0, 1.0, 1.0, 0.0, 1.0, 0.0, 1.0, 1.0, 1.0, 1.0, 0.0, 1.0, 1.0, 0.0, 1.0, 0.0, 0.0, 1.0, 1.0, 1.0, 0.0, 1.0, 0.0, 1.0, 0.0, 1.0, 1.0, 1.0, 1.0, 0.0, 0.0, 0.0, 1.0, 1.0, 1.0, 1.0, 0.0, 1.0, 1.0, 0.0, 1.0, 0.0, 0.0, 1.0, 0.0, 1.0, 0.0, 0.0, 1.0, 1.0, 1.0, 0.0, 0.0, 1.0, 1.0, 0.0, 0.0, 0.0, 0.0, 0.0, 1.0, 0.0, 1.0, 1.0, 1.0, 1.0, 0.0, 0.0, 0.0, 0.0, 0.0, 0.0, 1.0, 1.0, 1.0, 1.0, 1.0, 1.0, 1.0, 0.0, 0.0, 1.0, 1.0, 0.0, 1.0, 0.0, 0.0, 1.0, 1.0, 0.0, 0.0, 1.0, 1.0, 0.0, 1.0, 0.0, 1.0, 1.0, 1.0, 1.0, 1.0, 0.0, 1.0, 0.0, 0.0, 0.0, 1.0, 0.0, 0.0, 1.0, 1.0, 0.0, 1.0, 0.0, 0.0, 1.0, 0.0, 1.0, 1.0, 0.0, 0.0, 1.0, 1.0, 0.0, 0.0, 1.0, 0.0, 1.0, 0.0, 1.0, 1.0, 0.0, 1.0, 1.0, 1.0, 1.0, 0.0, 0.0, 0.0, 0.0, 0.0, 0.0, 1.0, 0.0, 0.0, 0.0, 1.0, 1.0, 1.0, 1.0, 1.0, 0.0, 1.0, 1.0, 1.0, 1.0, 0.0, 0.0, 1.0, 1.0, 1.0, 0.0, 1.0, 0.0, 1.0, 1.0, 1.0, 0.0, 0.0, 0.0, 1.0, 1.0, 0.0, 1.0, 0.0, 0.0, 0.0, 0.0, 1.0, 1.0, 1.0, 1.0, 1.0, 1.0, 1.0, 1.0, 1.0, 0.0, 1.0, 0.0, 0.0, 1.0, 0.0, 1.0, 1.0, 1.0, 1.0, 1.0, 0.0, 0.0, 0.0, 0.0, 1.0, 1.0, 0.0, 0.0, 0.0, 1.0, 0.0, 1.0, 1.0, 0.0, 1.0, 0.0, 1.0, 0.0, 1.0, 0.0, 1.0, 0.0, 0.0, 0.0, 0.0, 1.0, 1.0, 0.0, 0.0, 0.0, 1.0, 0.0, 0.0, 1.0, 1.0, 1.0, 1.0, 1.0, 0.0, 0.0, 1.0, 0.0, 1.0, 1.0, 1.0, 0.0, 0.0, 0.0, 1.0, 1.0, 0.0, 0.0, 1.0, 1.0, 1.0, 1.0, 0.0, 0.0, 1.0, 1.0, 0.0, 0.0, 0.0, 1.0, 1.0, 1.0, 0.0, 0.0, 0.0, 0.0, 1.0, 1.0, 0.0, 1.0, 1.0, 0.0, 0.0, 0.0, 1.0, 1.0, 1.0, 1.0, 0.0, 1.0, 0.0, 1.0, 0.0, 1.0, 1.0, 0.0, 0.0, 0.0, 0.0, 1.0, 1.0, 1.0, 0.0, 1.0, 0.0, 0.0, 1.0, 0.0, 0.0, 0.0, 1.0, 0.0, 0.0, 1.0, 0.0, 0.0, 1.0, 0.0, 1.0, 1.0, 0.0, 0.0, 1.0, 1.0, 1.0, 0.0, 1.0, 1.0, 0.0, 0.0, 0.0, 0.0, 1.0, 1.0, 1.0, 0.0, 0.0, 0.0, 1.0, 0.0, 1.0, 0.0, 1.0, 0.0, 1.0, 0.0, 0.0, 1.0, 1.0, 0.0, 1.0, 1.0, 0.0, 1.0, 1.0, 0.0, 1.0, 0.0, 0.0, 1.0, 0.0, 1.0, 0.0, 1.0, 0.0, 1.0, 1.0, 0.0, 0.0, 0.0, 1.0, 0.0, 1.0, 0.0, 0.0, 1.0, 0.0, 1.0, 1.0, 0.0, 1.0, 1.0, 1.0, 1.0, 0.0, 0.0, 1.0, 1.0, 0.0, 0.0, 1.0, 1.0, 0.0, 0.0, 0.0, 0.0, 1.0, 1.0, 1.0, 1.0, 1.0, 1.0, 0.0, 0.0, 1.0, 0.0, 1.0, 1.0, 0.0, 1.0, 1.0, 1.0, 0.0, 1.0, 0.0, 0.0, 1.0, 0.0, 0.0, 0.0, 0.0, 0.0, 0.0, 1.0, 0.0, 0.0, 0.0, 1.0, 0.0, 0.0, 1.0, 0.0, 1.0, 0.0, 0.0, 0.0, 0.0, 1.0, 0.0, 0.0, 1.0, 1.0, 1.0, 0.0, 1.0, 0.0, 0.0, 1.0, 0.0, 1.0, 1.0, 1.0, 0.0, 1.0, 1.0, 1.0, 0.0, 1.0, 1.0, 1.0, 0.0, 0.0, 0.0, 0.0, 1.0, 0.0, 0.0, 1.0, 1.0, 0.0, 1.0, 0.0, 1.0, 0.0, 0.0, 0.0, 0.0, 0.0, 1.0, 1.0, 0.0, 1.0, 0.0, 1.0, 1.0, 0.0, 1.0, 0.0, 0.0, 1.0, 0.0, 1.0, 1.0, 1.0, 0.0, 0.0, 0.0, 0.0, 0.0, 0.0, 1.0, 1.0, 0.0, 1.0, 0.0, 0.0, 1.0, 1.0, 1.0, 1.0, 0.0, 1.0, 0.0, 0.0, 1.0, 0.0, 0.0, 0.0, 1.0, 0.0, 0.0, 0.0, 0.0, 1.0, 0.0, 1.0, 0.0, 1.0, 0.0, 1.0, 1.0, 0.0, 0.0, 0.0, 0.0, 0.0, 1.0, 1.0, 0.0, 1.0, 0.0, 1.0, 0.0, 0.0, 1.0, 1.0, 1.0, 1.0, 1.0, 1.0, 1.0, 1.0, 1.0, 0.0, 1.0, 0.0, 0.0, 0.0, 0.0, 1.0, 0.0, 1.0, 0.0, 1.0, 0.0, 1.0, 1.0, 1.0, 0.0, 1.0, 1.0, 0.0, 0.0, 0.0, 1.0, 0.0, 1.0, 0.0, 0.0, 1.0, 0.0, 0.0, 1.0, 1.0, 0.0, 0.0, 1.0, 0.0, 1.0, 1.0, 1.0, 0.0, 1.0, 1.0, 0.0, 1.0, 1.0, 1.0, 1.0, 0.0, 0.0, 1.0, 0.0, 1.0, 1.0, 1.0, 1.0, 1.0, 0.0, 0.0, 0.0, 1.0, 1.0, 1.0, 0.0, 0.0, 0.0, 0.0, 0.0, 0.0, 0.0, 0.0, 1.0, 1.0, 0.0, 0.0, 1.0, 0.0, 0.0, 1.0, 1.0, 1.0, 1.0, 1.0, 1.0, 0.0, 0.0, 0.0, 1.0, 0.0, 1.0, 1.0, 1.0, 0.0, 0.0, 0.0, 0.0, 0.0, 1.0, 0.0, 0.0, 0.0, 0.0, 1.0, 1.0, 1.0, 0.0, 0.0, 1.0, 0.0, 0.0, 1.0, 0.0, 0.0, 1.0, 0.0, 1.0, 1.0, 1.0, 1.0, 0.0, 1.0, 0.0, 1.0, 0.0, 1.0, 0.0, 1.0, 1.0, 0.0, 0.0, 0.0, 0.0, 1.0, 0.0, 1.0, 0.0, 0.0, 1.0, 1.0, 1.0, 0.0, 0.0, 0.0, 1.0, 0.0, 0.0, 1.0, 1.0, 0.0, 1.0, 1.0, 1.0, 0.0, 0.0, 1.0, 1.0, 0.0, 1.0, 1.0, 0.0, 1.0, 1.0, 1.0, 1.0, 0.0, 0.0, 0.0, 1.0, 1.0, 1.0, 0.0, 0.0, 0.0, 1.0, 0.0, 0.0, 1.0, 1.0, 1.0, 1.0, 1.0, 0.0, 0.0, 1.0, 1.0, 0.0, 1.0, 0.0, 0.0, 1.0, 0.0, 1.0, 1.0, 0.0, 1.0, 0.0, 1.0, 0.0, 0.0, 0.0, 1.0, 1.0, 1.0, 0.0, 0.0, 1.0, 0.0, 0.0], 'tour_cost': 8233769.501128477, 'packing_plan_cost': 882292.0})]"
      ]
     },
     "execution_count": 32,
     "metadata": {},
     "output_type": "execute_result"
    }
   ],
   "source": [
    "evaled_pop = []\n",
    "i = 0\n",
    "for candidate_solution in init_pop:\n",
    "    evaluate_candidate_solution_cost_pdist(candidate_solution,\n",
    "                                     a280_n1395[\"pairwise_distances\"],\n",
    "                                     a280_n1395[\"item_to_city_mapping_dict\"],\n",
    "                                     a280_n1395[\"item_weights\"],\n",
    "                                     a280_n1395[\"item_values\"],\n",
    "                                     a280_n1395[\"v_max\"],\n",
    "                                     a280_n1395[\"v_min\"],\n",
    "                                     a280_n1395[\"Q\"],\n",
    "                                     a280_n1395[\"R\"])\n",
    "    i += 1 \n",
    "    evaled_pop.append(candidate_solution)\n",
    "evaled_pop"
   ]
  },
  {
   "cell_type": "code",
   "execution_count": 33,
   "metadata": {},
   "outputs": [],
   "source": [
    "c1, c2 = OX1_tour_crossover(init_pop[0], init_pop[1])"
   ]
  },
  {
   "cell_type": "code",
   "execution_count": 34,
   "metadata": {},
   "outputs": [
    {
     "data": {
      "text/plain": [
       "[struct({'tour': [15, 195, 224, 10, 252, 60, 150, 237, 183, 18, 120, 82, 145, 182, 118, 268, 75, 234, 3, 203, 125, 98, 86, 114, 133, 93, 45, 207, 161, 210, 53, 4, 153, 112, 219, 119, 246, 138, 59, 32, 56, 131, 14, 164, 170, 212, 238, 105, 2, 261, 257, 192, 156, 16, 137, 231, 220, 122, 8, 17, 25, 223, 102, 24, 263, 108, 95, 62, 52, 259, 256, 97, 48, 229, 67, 249, 176, 55, 84, 117, 258, 254, 199, 169, 43, 103, 92, 242, 181, 33, 121, 275, 101, 34, 184, 239, 110, 46, 278, 152, 201, 180, 87, 194, 179, 198, 272, 264, 27, 271, 189, 127, 5, 23, 13, 155, 168, 113, 51, 171, 68, 240, 191, 151, 28, 165, 74, 80, 107, 44, 162, 123, 202, 88, 173, 109, 128, 22, 241, 147, 245, 218, 262, 236, 9, 136, 134, 19, 247, 216, 115, 78, 172, 96, 91, 100, 226, 66, 274, 185, 126, 196, 1, 204, 265, 166, 39, 129, 213, 197, 38, 50, 266, 111, 58, 42, 99, 277, 20, 37, 26, 31, 106, 211, 65, 148, 7, 228, 149, 41, 178, 116, 235, 12, 255, 205, 186, 209, 0, 63, 158, 232, 90, 30, 40, 132, 248, 214, 260, 206, 253, 54, 233, 200, 49, 193, 222, 227, 71, 64, 85, 144, 225, 244, 217, 70, 35, 11, 163, 47, 139, 104, 190, 76, 29, 6, 174, 187, 69, 130, 270, 215, 250, 188, 221, 167, 141, 142, 208, 73, 269, 83, 79, 57, 124, 72, 81, 159, 146, 21, 160, 267, 94, 276, 243, 36, 135, 273, 61, 279, 177, 143, 230, 77, 89, 251, 140, 157, 154, 175], 'packing_plan': [1.0, 0.0, 1.0, 0.0, 0.0, 0.0, 1.0, 1.0, 0.0, 1.0, 1.0, 1.0, 0.0, 0.0, 1.0, 1.0, 1.0, 1.0, 0.0, 0.0, 1.0, 0.0, 1.0, 1.0, 1.0, 0.0, 1.0, 1.0, 1.0, 1.0, 1.0, 0.0, 1.0, 1.0, 0.0, 1.0, 0.0, 0.0, 0.0, 1.0, 1.0, 1.0, 0.0, 0.0, 1.0, 0.0, 1.0, 1.0, 0.0, 0.0, 1.0, 0.0, 1.0, 1.0, 0.0, 0.0, 1.0, 0.0, 1.0, 1.0, 1.0, 1.0, 1.0, 0.0, 1.0, 1.0, 0.0, 0.0, 1.0, 0.0, 1.0, 1.0, 1.0, 1.0, 1.0, 1.0, 1.0, 0.0, 0.0, 1.0, 0.0, 0.0, 1.0, 0.0, 0.0, 1.0, 1.0, 1.0, 1.0, 0.0, 0.0, 0.0, 0.0, 1.0, 0.0, 1.0, 1.0, 0.0, 1.0, 1.0, 0.0, 1.0, 1.0, 1.0, 1.0, 1.0, 0.0, 1.0, 0.0, 1.0, 0.0, 0.0, 1.0, 1.0, 1.0, 1.0, 1.0, 1.0, 0.0, 1.0, 0.0, 1.0, 0.0, 1.0, 1.0, 1.0, 0.0, 1.0, 1.0, 0.0, 1.0, 1.0, 0.0, 1.0, 1.0, 1.0, 1.0, 1.0, 0.0, 1.0, 1.0, 1.0, 0.0, 0.0, 1.0, 0.0, 0.0, 0.0, 0.0, 1.0, 0.0, 1.0, 1.0, 0.0, 0.0, 1.0, 1.0, 1.0, 0.0, 1.0, 1.0, 0.0, 1.0, 1.0, 1.0, 1.0, 1.0, 1.0, 0.0, 0.0, 1.0, 1.0, 1.0, 1.0, 0.0, 1.0, 0.0, 0.0, 0.0, 1.0, 1.0, 1.0, 0.0, 0.0, 1.0, 1.0, 1.0, 0.0, 1.0, 1.0, 0.0, 1.0, 1.0, 1.0, 1.0, 1.0, 0.0, 1.0, 1.0, 0.0, 0.0, 1.0, 0.0, 0.0, 1.0, 1.0, 0.0, 1.0, 1.0, 1.0, 0.0, 0.0, 0.0, 1.0, 0.0, 0.0, 0.0, 1.0, 1.0, 1.0, 1.0, 0.0, 0.0, 1.0, 1.0, 0.0, 1.0, 0.0, 0.0, 1.0, 0.0, 1.0, 1.0, 0.0, 0.0, 1.0, 0.0, 0.0, 0.0, 0.0, 1.0, 0.0, 0.0, 0.0, 1.0, 1.0, 0.0, 0.0, 1.0, 1.0, 0.0, 1.0, 1.0, 0.0, 1.0, 1.0, 1.0, 1.0, 1.0, 1.0, 1.0, 1.0, 1.0, 1.0, 0.0, 0.0, 0.0, 1.0, 0.0, 0.0, 1.0, 0.0, 1.0, 1.0, 1.0, 1.0, 1.0, 0.0, 1.0, 1.0, 0.0, 1.0, 0.0, 1.0, 1.0, 0.0, 0.0, 1.0, 0.0, 1.0, 1.0, 0.0, 1.0, 1.0, 1.0, 1.0, 1.0, 0.0, 0.0, 1.0, 1.0, 1.0, 0.0, 0.0, 1.0, 1.0, 1.0, 1.0, 1.0, 0.0, 1.0, 0.0, 1.0, 0.0, 1.0, 1.0, 1.0, 1.0, 0.0, 0.0, 0.0, 1.0, 0.0, 1.0, 0.0, 0.0, 1.0, 0.0, 1.0, 1.0, 1.0, 0.0, 0.0, 1.0, 1.0, 0.0, 0.0, 1.0, 1.0, 0.0, 0.0, 1.0, 1.0, 1.0, 1.0, 1.0, 0.0, 1.0, 1.0, 1.0, 0.0, 0.0, 1.0, 1.0, 1.0, 0.0, 1.0, 1.0, 0.0, 1.0, 1.0, 1.0, 1.0, 0.0, 1.0, 0.0, 1.0, 1.0, 1.0, 1.0, 1.0, 1.0, 1.0, 1.0, 1.0, 1.0, 1.0, 1.0, 0.0, 1.0, 1.0, 1.0, 1.0, 0.0, 0.0, 1.0, 1.0, 1.0, 1.0, 1.0, 0.0, 0.0, 1.0, 0.0, 1.0, 1.0, 1.0, 0.0, 1.0, 1.0, 0.0, 0.0, 1.0, 0.0, 0.0, 1.0, 1.0, 1.0, 1.0, 1.0, 1.0, 1.0, 1.0, 1.0, 0.0, 1.0, 1.0, 0.0, 1.0, 0.0, 1.0, 0.0, 1.0, 0.0, 0.0, 0.0, 1.0, 1.0, 1.0, 1.0, 1.0, 1.0, 1.0, 1.0, 0.0, 0.0, 1.0, 1.0, 0.0, 1.0, 1.0, 1.0, 0.0, 1.0, 0.0, 0.0, 1.0, 1.0, 1.0, 1.0, 1.0, 1.0, 1.0, 0.0, 0.0, 1.0, 1.0, 1.0, 1.0, 0.0, 1.0, 1.0, 1.0, 1.0, 1.0, 1.0, 0.0, 0.0, 1.0, 1.0, 0.0, 1.0, 0.0, 1.0, 1.0, 1.0, 0.0, 1.0, 1.0, 1.0, 0.0, 1.0, 1.0, 1.0, 0.0, 1.0, 1.0, 1.0, 1.0, 1.0, 1.0, 1.0, 0.0, 1.0, 1.0, 0.0, 1.0, 1.0, 0.0, 1.0, 1.0, 0.0, 1.0, 1.0, 0.0, 1.0, 0.0, 0.0, 1.0, 1.0, 1.0, 1.0, 1.0, 0.0, 1.0, 0.0, 1.0, 0.0, 1.0, 0.0, 1.0, 1.0, 1.0, 1.0, 1.0, 1.0, 0.0, 1.0, 0.0, 1.0, 1.0, 0.0, 1.0, 0.0, 0.0, 1.0, 1.0, 1.0, 1.0, 1.0, 1.0, 1.0, 1.0, 1.0, 0.0, 1.0, 1.0, 1.0, 1.0, 0.0, 1.0, 0.0, 0.0, 1.0, 0.0, 1.0, 1.0, 1.0, 1.0, 0.0, 1.0, 1.0, 1.0, 0.0, 1.0, 1.0, 0.0, 1.0, 0.0, 1.0, 1.0, 1.0, 0.0, 1.0, 1.0, 1.0, 0.0, 1.0, 1.0, 1.0, 1.0, 1.0, 1.0, 0.0, 1.0, 1.0, 1.0, 1.0, 0.0, 0.0, 1.0, 1.0, 1.0, 1.0, 0.0, 0.0, 1.0, 0.0, 0.0, 0.0, 1.0, 1.0, 1.0, 1.0, 0.0, 0.0, 0.0, 1.0, 1.0, 0.0, 0.0, 0.0, 1.0, 1.0, 1.0, 0.0, 1.0, 0.0, 1.0, 1.0, 1.0, 0.0, 1.0, 0.0, 0.0, 0.0, 1.0, 1.0, 0.0, 0.0, 0.0, 1.0, 1.0, 1.0, 0.0, 0.0, 0.0, 0.0, 1.0, 0.0, 1.0, 1.0, 1.0, 1.0, 0.0, 1.0, 1.0, 0.0, 0.0, 0.0, 0.0, 1.0, 0.0, 1.0, 1.0, 1.0, 1.0, 1.0, 1.0, 0.0, 0.0, 0.0, 1.0, 1.0, 1.0, 0.0, 1.0, 1.0, 1.0, 1.0, 1.0, 0.0, 1.0, 1.0, 1.0, 1.0, 0.0, 0.0, 1.0, 1.0, 1.0, 1.0, 0.0, 1.0, 0.0, 0.0, 0.0, 0.0, 0.0, 0.0, 1.0, 0.0, 1.0, 1.0, 1.0, 0.0, 1.0, 1.0, 1.0, 1.0, 1.0, 1.0, 1.0, 0.0, 1.0, 0.0, 1.0, 1.0, 1.0, 1.0, 0.0, 1.0, 1.0, 1.0, 1.0, 1.0, 1.0, 1.0, 0.0, 0.0, 1.0, 1.0, 0.0, 0.0, 0.0, 0.0, 0.0, 0.0, 0.0, 1.0, 0.0, 0.0, 1.0, 1.0, 0.0, 1.0, 1.0, 0.0, 1.0, 1.0, 1.0, 1.0, 1.0, 1.0, 0.0, 1.0, 1.0, 1.0, 1.0, 0.0, 0.0, 1.0, 1.0, 1.0, 0.0, 1.0, 1.0, 0.0, 0.0, 1.0, 1.0, 1.0, 1.0, 1.0, 1.0, 1.0, 1.0, 1.0, 0.0, 1.0, 1.0, 1.0, 0.0, 1.0, 1.0, 0.0, 1.0, 1.0, 1.0, 1.0, 1.0, 0.0, 1.0, 1.0, 0.0, 1.0, 1.0, 1.0, 0.0, 0.0, 0.0, 1.0, 0.0, 0.0, 1.0, 0.0, 0.0, 0.0, 0.0, 1.0, 0.0, 0.0, 1.0, 1.0, 0.0, 1.0, 1.0, 0.0, 0.0, 0.0, 1.0, 0.0, 1.0, 0.0, 1.0, 0.0, 1.0, 0.0, 0.0, 0.0, 1.0, 0.0, 0.0, 1.0, 1.0, 0.0, 1.0, 1.0, 1.0, 0.0, 0.0, 1.0, 0.0, 0.0, 0.0, 1.0, 1.0, 0.0, 1.0, 1.0, 1.0, 0.0, 1.0, 1.0, 1.0, 1.0, 1.0, 1.0, 1.0, 1.0, 0.0, 1.0, 1.0, 1.0, 0.0, 1.0, 0.0, 0.0, 1.0, 1.0, 1.0, 0.0, 1.0, 0.0, 1.0, 1.0, 0.0, 0.0, 0.0, 0.0, 0.0, 1.0, 1.0, 1.0, 1.0, 1.0, 0.0, 0.0, 1.0, 1.0, 1.0, 1.0, 1.0, 1.0, 1.0, 0.0, 1.0, 0.0, 1.0, 1.0, 0.0, 1.0, 0.0, 1.0, 0.0, 0.0, 1.0, 0.0, 1.0, 0.0, 1.0, 1.0, 0.0, 0.0, 1.0, 1.0, 1.0, 0.0, 1.0, 0.0, 0.0, 0.0, 0.0, 1.0, 1.0, 0.0, 0.0, 0.0, 0.0, 1.0, 1.0, 1.0, 0.0, 1.0, 1.0, 0.0, 1.0, 1.0, 1.0, 1.0, 1.0, 0.0, 0.0, 1.0, 1.0, 0.0, 1.0, 1.0, 0.0, 0.0, 0.0, 0.0, 1.0, 1.0, 1.0, 0.0, 0.0, 0.0, 1.0, 1.0, 1.0, 1.0, 0.0, 0.0, 1.0, 1.0, 1.0, 1.0, 0.0, 1.0, 1.0, 0.0, 0.0, 1.0, 1.0, 0.0, 1.0, 1.0, 0.0, 0.0, 1.0, 0.0, 0.0, 0.0, 0.0, 0.0, 0.0, 0.0, 1.0, 1.0, 0.0, 1.0, 1.0, 0.0, 1.0, 1.0, 1.0, 1.0, 0.0, 1.0, 1.0, 1.0, 1.0, 1.0, 1.0, 1.0, 1.0, 1.0, 1.0, 0.0, 1.0, 1.0, 1.0, 1.0, 1.0, 1.0, 0.0, 1.0, 0.0, 1.0, 1.0, 1.0, 0.0, 0.0, 1.0, 1.0, 0.0, 1.0, 1.0, 0.0, 1.0, 1.0, 1.0, 0.0, 1.0, 1.0, 1.0, 1.0, 0.0, 1.0, 1.0, 0.0, 1.0, 1.0, 1.0, 1.0, 1.0, 1.0, 1.0, 1.0, 1.0, 0.0, 0.0, 1.0, 0.0, 1.0, 0.0, 1.0, 1.0, 1.0, 0.0, 0.0, 1.0, 1.0, 1.0, 0.0, 0.0, 1.0, 1.0, 0.0, 1.0, 0.0, 1.0, 0.0, 0.0, 1.0, 0.0, 0.0, 0.0, 1.0, 1.0, 0.0, 1.0, 0.0, 1.0, 0.0, 1.0, 1.0, 0.0, 0.0, 1.0, 1.0, 0.0, 0.0, 0.0, 1.0, 1.0, 1.0, 1.0, 1.0, 0.0, 1.0, 1.0, 0.0, 1.0, 0.0, 1.0, 1.0, 1.0, 1.0, 1.0, 1.0, 1.0, 1.0, 1.0, 0.0, 1.0, 1.0, 1.0, 1.0, 0.0, 1.0, 0.0, 0.0, 0.0, 1.0, 0.0, 1.0, 1.0, 1.0, 1.0, 0.0, 1.0, 1.0, 0.0, 1.0, 0.0, 1.0, 1.0, 0.0, 0.0, 1.0, 0.0, 1.0, 1.0, 0.0, 1.0, 0.0, 1.0, 0.0, 1.0, 0.0, 1.0, 0.0, 1.0, 1.0, 0.0, 1.0, 1.0, 0.0, 1.0, 0.0, 1.0, 1.0, 1.0, 1.0, 1.0, 1.0, 0.0, 1.0, 0.0, 1.0, 0.0, 1.0, 0.0, 0.0, 0.0, 0.0, 1.0, 1.0, 1.0, 1.0, 1.0, 1.0, 1.0, 1.0, 1.0, 1.0, 1.0, 0.0, 1.0, 1.0, 1.0, 0.0, 1.0, 1.0, 1.0, 1.0, 1.0, 1.0, 0.0, 0.0, 0.0, 1.0, 0.0, 0.0, 0.0, 1.0, 0.0, 1.0, 1.0, 1.0, 0.0, 0.0, 1.0, 0.0, 1.0, 0.0, 1.0, 1.0, 1.0, 0.0, 1.0, 0.0, 0.0, 0.0, 1.0, 1.0, 0.0, 0.0, 1.0, 0.0, 1.0, 0.0, 1.0, 0.0, 0.0, 1.0, 1.0, 1.0, 0.0, 0.0, 0.0, 1.0, 1.0, 1.0, 0.0, 1.0, 1.0, 0.0, 1.0, 0.0, 0.0, 0.0, 1.0, 1.0, 0.0, 1.0, 0.0, 0.0, 0.0, 0.0, 1.0, 0.0, 1.0, 1.0, 1.0, 1.0, 1.0, 0.0, 1.0, 1.0, 1.0, 1.0, 1.0, 0.0, 1.0, 0.0, 1.0, 1.0, 1.0, 1.0, 0.0, 1.0, 0.0, 0.0, 1.0, 0.0, 1.0, 1.0, 0.0, 1.0, 1.0, 1.0, 0.0, 0.0, 0.0, 0.0, 1.0, 1.0, 1.0, 1.0, 1.0, 0.0, 1.0, 1.0, 1.0, 1.0, 1.0, 0.0, 1.0, 0.0, 0.0, 1.0, 1.0, 1.0, 1.0, 0.0, 0.0, 1.0, 0.0, 1.0, 0.0, 0.0, 0.0, 1.0, 1.0, 0.0, 1.0, 1.0, 1.0, 0.0, 0.0, 1.0, 1.0, 1.0, 1.0, 1.0, 1.0, 0.0, 0.0, 1.0, 1.0, 1.0, 0.0, 0.0, 1.0, 0.0, 0.0, 0.0, 1.0, 1.0, 1.0, 1.0, 0.0, 0.0, 1.0, 1.0, 1.0, 0.0, 0.0, 1.0, 1.0, 1.0, 1.0, 1.0, 1.0, 1.0, 1.0, 1.0, 1.0, 1.0, 1.0, 0.0, 1.0, 0.0, 1.0, 1.0, 1.0, 1.0, 1.0, 1.0, 1.0, 1.0, 1.0, 1.0, 1.0, 1.0, 1.0, 0.0, 0.0, 1.0, 0.0, 1.0, 1.0, 1.0, 0.0, 1.0, 1.0, 0.0, 0.0, 1.0, 1.0, 1.0, 0.0, 0.0, 1.0, 1.0, 1.0, 1.0, 0.0, 1.0, 1.0, 1.0, 1.0, 1.0, 1.0, 1.0, 1.0, 0.0, 0.0, 1.0, 1.0, 1.0, 1.0, 0.0, 0.0, 1.0, 1.0, 1.0, 1.0, 0.0, 0.0, 1.0, 1.0, 1.0, 1.0, 1.0, 0.0, 1.0, 1.0, 0.0, 1.0, 0.0, 1.0, 1.0, 1.0, 1.0, 1.0, 1.0, 0.0, 0.0, 1.0, 1.0, 1.0, 0.0, 0.0, 1.0, 1.0, 0.0, 1.0, 1.0, 0.0, 1.0, 1.0, 1.0, 0.0, 0.0, 1.0, 1.0, 1.0, 1.0, 1.0, 1.0, 1.0, 1.0, 1.0, 0.0, 1.0, 0.0, 0.0, 1.0, 0.0, 0.0, 1.0, 1.0, 1.0, 0.0, 0.0, 1.0, 0.0, 1.0, 1.0, 0.0, 1.0, 0.0, 1.0, 1.0, 1.0, 1.0, 0.0, 0.0, 1.0, 0.0, 1.0, 0.0, 1.0, 0.0, 0.0, 1.0, 1.0, 1.0, 0.0, 1.0, 0.0, 0.0, 1.0, 0.0, 1.0, 0.0, 0.0, 1.0, 1.0, 1.0, 1.0, 1.0, 0.0, 1.0, 0.0, 1.0, 1.0, 1.0, 1.0, 0.0, 0.0, 0.0, 1.0, 0.0, 1.0, 1.0, 1.0, 1.0, 1.0, 1.0, 1.0, 1.0, 0.0, 0.0, 0.0, 1.0, 1.0, 0.0, 1.0, 1.0, 0.0, 1.0, 1.0, 0.0, 0.0, 1.0, 1.0, 1.0, 1.0, 1.0, 1.0, 1.0, 1.0, 0.0, 0.0, 1.0, 0.0, 0.0, 0.0, 1.0, 1.0, 1.0, 1.0, 1.0, 1.0, 0.0, 1.0, 1.0, 0.0, 1.0, 1.0, 0.0, 1.0, 0.0, 1.0, 1.0, 1.0, 0.0, 1.0, 1.0, 0.0, 1.0, 0.0, 0.0, 0.0, 1.0, 1.0, 1.0, 0.0, 1.0, 1.0, 1.0, 0.0, 0.0, 0.0, 0.0, 0.0, 0.0, 1.0, 1.0, 0.0, 1.0, 0.0, 1.0, 0.0, 1.0, 1.0, 1.0, 1.0, 1.0, 1.0, 0.0, 1.0, 1.0, 1.0, 1.0, 1.0, 1.0, 1.0, 0.0, 1.0, 1.0, 0.0, 1.0, 0.0, 1.0, 1.0, 1.0, 0.0, 1.0, 1.0, 1.0, 1.0, 0.0, 0.0, 0.0, 1.0, 1.0, 1.0, 0.0, 1.0, 0.0, 1.0, 1.0, 1.0, 0.0, 1.0, 1.0, 1.0, 0.0, 1.0, 1.0, 0.0, 1.0, 0.0, 1.0, 1.0, 1.0, 1.0, 1.0, 1.0, 1.0, 0.0, 1.0, 0.0, 0.0, 0.0, 0.0, 1.0, 0.0, 1.0, 1.0, 1.0, 0.0, 1.0, 1.0, 0.0, 0.0, 1.0, 0.0, 0.0, 1.0, 1.0, 0.0, 1.0, 0.0, 1.0, 1.0, 1.0, 1.0, 0.0, 1.0, 1.0, 1.0, 1.0, 0.0, 1.0, 1.0, 0.0, 1.0, 0.0, 0.0, 0.0, 0.0, 0.0, 0.0, 1.0, 1.0, 0.0, 1.0, 0.0, 1.0, 1.0, 1.0, 0.0, 1.0, 1.0, 0.0, 1.0, 0.0, 1.0, 1.0, 1.0, 1.0, 0.0, 1.0, 1.0, 0.0, 1.0, 0.0, 0.0, 1.0, 0.0, 0.0, 1.0, 1.0, 1.0, 0.0, 1.0, 1.0, 0.0, 1.0, 0.0, 1.0, 0.0, 1.0, 1.0, 1.0, 0.0, 1.0, 0.0, 1.0, 1.0, 1.0, 0.0, 0.0, 1.0, 1.0, 0.0, 1.0, 1.0, 0.0, 1.0, 1.0, 1.0, 1.0, 1.0, 1.0, 0.0, 0.0, 1.0, 1.0, 1.0, 0.0, 1.0, 1.0, 1.0, 1.0, 1.0, 1.0, 1.0, 0.0, 1.0, 1.0, 1.0, 1.0, 0.0, 1.0, 1.0, 1.0, 1.0, 1.0, 1.0, 1.0, 1.0, 1.0, 1.0, 1.0, 1.0, 1.0, 0.0, 1.0, 1.0, 1.0, 0.0, 0.0, 1.0, 1.0, 1.0, 0.0, 1.0, 1.0, 0.0, 0.0, 1.0, 1.0, 0.0, 1.0, 0.0, 1.0, 1.0, 0.0, 1.0, 1.0, 1.0, 1.0, 0.0, 1.0, 1.0, 1.0, 0.0, 0.0, 1.0, 0.0, 0.0, 1.0, 1.0, 1.0, 1.0, 1.0, 1.0, 1.0, 1.0, 1.0, 0.0, 0.0, 1.0, 0.0, 1.0, 1.0, 1.0, 1.0, 1.0, 0.0, 1.0, 0.0, 1.0, 0.0, 0.0, 1.0, 1.0, 0.0, 0.0, 0.0, 1.0, 0.0, 1.0, 1.0, 1.0, 1.0, 1.0, 1.0, 1.0, 1.0, 1.0, 0.0, 1.0, 0.0, 1.0, 0.0, 1.0, 1.0, 0.0, 1.0, 1.0, 0.0, 1.0, 1.0, 0.0, 0.0, 1.0, 1.0, 0.0, 1.0, 0.0, 1.0, 0.0, 1.0, 0.0, 0.0, 0.0, 1.0, 1.0, 1.0, 0.0, 1.0, 1.0, 1.0, 1.0, 0.0, 1.0, 1.0, 0.0, 1.0, 0.0, 0.0, 1.0, 1.0, 1.0, 1.0, 0.0, 0.0, 1.0, 1.0, 1.0, 1.0, 1.0, 1.0, 0.0, 1.0, 0.0, 1.0, 0.0, 0.0, 1.0, 1.0, 0.0, 0.0, 1.0, 1.0, 1.0, 1.0, 0.0, 1.0, 0.0, 0.0, 1.0, 1.0, 1.0, 1.0, 0.0, 0.0, 1.0, 0.0, 0.0, 0.0, 1.0, 0.0, 1.0, 1.0, 1.0, 1.0, 1.0, 1.0, 1.0, 0.0, 0.0, 1.0, 0.0, 1.0, 1.0, 0.0, 0.0, 0.0, 1.0, 1.0, 1.0, 1.0, 0.0, 1.0, 1.0, 0.0, 1.0, 0.0, 0.0, 0.0, 0.0, 1.0, 0.0, 1.0, 0.0, 1.0, 1.0, 1.0, 1.0, 0.0, 0.0, 0.0, 0.0, 0.0, 0.0, 0.0, 1.0, 0.0, 1.0, 0.0, 0.0, 0.0, 0.0, 0.0, 1.0, 1.0, 1.0, 0.0, 1.0, 1.0, 1.0, 1.0, 0.0, 1.0, 0.0, 1.0, 1.0, 1.0, 1.0, 1.0, 1.0, 0.0, 0.0, 0.0, 0.0, 1.0, 1.0, 0.0, 1.0, 0.0, 1.0, 1.0, 0.0, 1.0, 1.0, 1.0, 1.0, 1.0, 1.0, 1.0, 1.0, 1.0, 1.0, 1.0, 0.0, 0.0, 1.0, 1.0, 1.0, 0.0, 1.0, 0.0, 1.0, 0.0, 1.0, 1.0, 1.0, 1.0, 0.0, 0.0, 0.0, 1.0, 1.0, 1.0, 1.0, 0.0, 1.0, 1.0, 0.0, 1.0, 0.0, 0.0, 1.0, 0.0, 1.0, 0.0, 0.0, 1.0, 1.0, 1.0, 0.0, 1.0, 1.0, 1.0, 0.0, 0.0, 0.0, 0.0, 1.0, 1.0, 0.0, 1.0, 1.0, 1.0, 1.0, 1.0, 0.0, 0.0, 0.0, 1.0, 1.0, 1.0, 1.0, 1.0, 1.0, 1.0, 1.0, 1.0, 0.0, 0.0, 1.0, 1.0, 0.0, 1.0, 0.0, 1.0, 1.0, 1.0, 1.0, 1.0, 1.0, 1.0, 1.0, 1.0, 1.0, 1.0, 1.0, 1.0, 1.0, 1.0, 0.0, 1.0, 0.0, 0.0, 0.0, 1.0, 1.0, 0.0, 1.0, 1.0, 0.0, 1.0, 0.0, 1.0, 1.0, 1.0, 1.0, 1.0, 1.0, 0.0, 1.0, 1.0, 1.0, 0.0, 1.0, 0.0, 1.0, 0.0, 1.0, 1.0, 0.0, 1.0, 1.0, 1.0, 1.0, 0.0, 0.0, 0.0, 0.0, 0.0, 0.0, 1.0, 0.0, 0.0, 0.0, 1.0, 1.0, 1.0, 1.0, 1.0, 1.0, 1.0, 1.0, 1.0, 1.0, 0.0, 0.0, 1.0, 1.0, 1.0, 1.0, 1.0, 0.0, 1.0, 1.0, 1.0, 0.0, 0.0, 1.0, 1.0, 1.0, 0.0, 1.0, 0.0, 0.0, 0.0, 0.0, 1.0, 1.0, 1.0, 1.0, 1.0, 1.0, 1.0, 1.0, 1.0, 0.0, 1.0, 0.0, 0.0, 1.0, 0.0, 1.0, 1.0, 1.0, 1.0, 1.0, 1.0, 0.0, 0.0, 1.0, 1.0, 1.0, 0.0, 0.0, 0.0, 1.0, 0.0, 1.0, 1.0, 0.0, 1.0, 0.0, 1.0, 1.0, 1.0, 0.0, 1.0, 0.0, 1.0, 0.0, 0.0, 1.0, 1.0, 0.0, 0.0, 0.0, 1.0, 0.0, 1.0, 1.0, 1.0, 1.0, 1.0, 1.0, 1.0, 0.0, 1.0, 0.0, 1.0, 1.0, 1.0, 1.0, 0.0, 0.0, 1.0, 1.0, 1.0, 0.0, 1.0, 1.0, 1.0, 1.0, 0.0, 0.0, 1.0, 1.0, 1.0, 1.0, 1.0, 1.0, 1.0, 1.0, 0.0, 0.0, 1.0, 0.0, 1.0, 1.0, 0.0, 1.0, 1.0, 0.0, 0.0, 0.0, 1.0, 1.0, 1.0, 1.0, 1.0, 1.0, 1.0, 1.0, 0.0, 1.0, 1.0, 1.0, 0.0, 0.0, 1.0, 1.0, 1.0, 1.0, 1.0, 1.0, 1.0, 0.0, 1.0, 1.0, 1.0, 0.0, 1.0, 0.0, 0.0, 1.0, 0.0, 0.0, 1.0, 0.0, 1.0, 1.0, 0.0, 0.0, 1.0, 1.0, 1.0, 0.0, 1.0, 1.0, 1.0, 0.0, 0.0, 0.0, 1.0, 1.0, 1.0, 0.0, 1.0, 1.0, 1.0, 0.0, 1.0, 0.0, 1.0, 0.0, 1.0, 0.0, 0.0, 1.0, 1.0, 0.0, 1.0, 1.0, 0.0, 1.0, 1.0, 0.0, 1.0, 1.0, 1.0, 1.0, 0.0, 1.0, 0.0, 1.0, 0.0, 1.0, 1.0, 0.0, 0.0, 0.0, 1.0, 1.0, 1.0, 1.0, 0.0, 1.0, 0.0, 1.0, 1.0, 0.0, 1.0, 1.0, 1.0, 1.0, 0.0, 0.0, 1.0, 1.0, 0.0, 1.0, 1.0, 1.0, 1.0, 1.0, 0.0, 0.0, 1.0, 1.0, 1.0, 1.0, 1.0, 1.0, 0.0, 0.0, 1.0, 1.0, 1.0, 1.0, 0.0, 1.0, 1.0, 1.0, 0.0, 1.0, 1.0, 0.0, 1.0, 1.0, 1.0, 0.0, 1.0, 0.0, 0.0, 1.0, 0.0, 0.0, 0.0, 1.0, 0.0, 1.0, 1.0, 1.0, 1.0, 0.0, 0.0, 0.0, 0.0, 1.0, 1.0, 0.0, 1.0, 1.0, 1.0, 0.0, 1.0, 0.0, 0.0, 1.0, 0.0, 1.0, 1.0, 1.0, 0.0, 1.0, 1.0, 1.0, 1.0, 1.0, 1.0, 1.0, 0.0, 0.0, 0.0, 1.0, 1.0, 1.0, 0.0, 1.0, 1.0, 1.0, 1.0, 1.0, 1.0, 0.0, 1.0, 0.0, 0.0, 0.0, 1.0, 1.0, 0.0, 1.0, 1.0, 1.0, 1.0, 0.0, 1.0, 0.0, 0.0, 1.0, 1.0, 1.0, 1.0, 1.0, 0.0, 0.0, 1.0, 0.0, 0.0, 0.0, 1.0, 1.0, 0.0, 1.0, 0.0, 0.0, 1.0, 1.0, 1.0, 1.0, 0.0, 1.0, 0.0, 0.0, 1.0, 0.0, 0.0, 1.0, 1.0, 0.0, 1.0, 0.0, 1.0, 1.0, 1.0, 1.0, 0.0, 1.0, 0.0, 1.0, 1.0, 1.0, 0.0, 0.0, 0.0, 1.0, 1.0, 1.0, 0.0, 1.0, 1.0, 1.0, 1.0, 0.0, 1.0, 1.0, 1.0, 1.0, 1.0, 1.0, 1.0, 1.0, 1.0, 0.0, 1.0, 0.0, 0.0, 0.0, 0.0, 1.0, 0.0, 1.0, 0.0, 1.0, 0.0, 1.0, 1.0, 1.0, 0.0, 1.0, 1.0, 1.0, 0.0, 1.0, 1.0, 0.0, 1.0, 0.0, 1.0, 1.0, 0.0, 0.0, 1.0, 1.0, 1.0, 1.0, 1.0, 0.0, 1.0, 1.0, 1.0, 1.0, 1.0, 1.0, 0.0, 1.0, 1.0, 1.0, 1.0, 0.0, 1.0, 1.0, 0.0, 1.0, 1.0, 1.0, 1.0, 1.0, 0.0, 0.0, 0.0, 1.0, 1.0, 1.0, 0.0, 1.0, 1.0, 0.0, 0.0, 1.0, 0.0, 0.0, 1.0, 1.0, 0.0, 0.0, 1.0, 0.0, 0.0, 1.0, 1.0, 1.0, 1.0, 1.0, 1.0, 0.0, 0.0, 0.0, 1.0, 0.0, 1.0, 1.0, 1.0, 0.0, 0.0, 0.0, 0.0, 0.0, 1.0, 0.0, 0.0, 0.0, 1.0, 1.0, 1.0, 1.0, 0.0, 1.0, 1.0, 1.0, 0.0, 1.0, 1.0, 0.0, 1.0, 0.0, 1.0, 1.0, 1.0, 1.0, 0.0, 1.0, 1.0, 1.0, 1.0, 1.0, 0.0, 1.0, 1.0, 0.0, 0.0, 1.0, 0.0, 1.0, 1.0, 1.0, 0.0, 0.0, 1.0, 1.0, 1.0, 1.0, 1.0, 1.0, 1.0, 0.0, 0.0, 1.0, 1.0, 0.0, 1.0, 1.0, 1.0, 0.0, 0.0, 1.0, 1.0, 0.0, 1.0, 1.0, 0.0, 1.0, 1.0, 1.0, 1.0, 1.0, 0.0, 1.0, 1.0, 1.0, 1.0, 0.0, 1.0, 0.0, 1.0, 0.0, 0.0, 1.0, 1.0, 1.0, 1.0, 1.0, 1.0, 0.0, 1.0, 1.0, 1.0, 1.0, 0.0, 0.0, 1.0, 0.0, 1.0, 1.0, 0.0, 1.0, 0.0, 1.0, 0.0, 0.0, 1.0, 1.0, 1.0, 1.0, 0.0, 0.0, 1.0, 0.0, 0.0], 'tour_cost': 9391436.600702604, 'packing_plan_cost': 1137558.0}),\n",
       " struct({'tour': [181, 97, 93, 256, 95, 197, 156, 38, 28, 172, 50, 15, 247, 145, 9, 198, 266, 111, 58, 42, 99, 277, 246, 126, 20, 166, 37, 239, 249, 169, 87, 224, 26, 31, 22, 106, 62, 211, 53, 65, 148, 152, 122, 44, 7, 228, 149, 41, 178, 116, 171, 74, 235, 12, 66, 173, 255, 219, 205, 186, 209, 0, 63, 120, 218, 68, 158, 18, 232, 90, 229, 30, 13, 40, 137, 23, 257, 108, 98, 132, 10, 248, 170, 214, 4, 80, 254, 182, 231, 260, 206, 153, 253, 212, 136, 138, 39, 54, 233, 1, 161, 236, 200, 49, 180, 271, 193, 222, 105, 265, 133, 32, 226, 227, 96, 107, 123, 71, 274, 64, 85, 103, 144, 2, 225, 237, 244, 56, 252, 217, 17, 70, 125, 16, 134, 35, 11, 101, 112, 163, 67, 47, 86, 189, 183, 118, 75, 234, 264, 139, 104, 48, 115, 190, 76, 164, 192, 131, 29, 6, 14, 262, 174, 203, 100, 199, 207, 185, 5, 195, 60, 150, 82, 268, 3, 114, 45, 210, 119, 59, 238, 261, 220, 8, 25, 223, 102, 24, 263, 52, 259, 176, 55, 84, 117, 258, 43, 92, 242, 33, 121, 275, 34, 184, 110, 46, 278, 201, 194, 179, 272, 27, 127, 155, 168, 113, 51, 240, 191, 151, 165, 162, 202, 88, 109, 128, 241, 147, 245, 19, 216, 78, 91, 196, 204, 129, 213, 154, 135, 72, 73, 251, 141, 160, 187, 83, 188, 146, 243, 142, 221, 208, 21, 167, 276, 69, 124, 36, 279, 250, 140, 94, 81, 61, 57, 159, 215, 270, 267, 157, 230, 273, 269, 77, 175, 130, 177, 143, 79, 89], 'packing_plan': [1.0, 0.0, 1.0, 0.0, 0.0, 0.0, 1.0, 1.0, 0.0, 1.0, 1.0, 1.0, 0.0, 0.0, 1.0, 0.0, 1.0, 1.0, 0.0, 0.0, 1.0, 0.0, 1.0, 1.0, 1.0, 0.0, 1.0, 0.0, 0.0, 1.0, 1.0, 0.0, 1.0, 0.0, 0.0, 1.0, 0.0, 0.0, 0.0, 0.0, 1.0, 1.0, 0.0, 0.0, 1.0, 0.0, 0.0, 1.0, 0.0, 0.0, 1.0, 0.0, 1.0, 1.0, 0.0, 0.0, 0.0, 0.0, 1.0, 0.0, 0.0, 0.0, 1.0, 0.0, 1.0, 0.0, 0.0, 0.0, 0.0, 0.0, 1.0, 1.0, 1.0, 1.0, 1.0, 0.0, 1.0, 0.0, 0.0, 1.0, 0.0, 0.0, 1.0, 0.0, 0.0, 1.0, 1.0, 1.0, 0.0, 0.0, 0.0, 0.0, 0.0, 0.0, 0.0, 0.0, 1.0, 0.0, 0.0, 1.0, 0.0, 1.0, 1.0, 0.0, 0.0, 1.0, 0.0, 1.0, 0.0, 1.0, 0.0, 0.0, 1.0, 1.0, 0.0, 0.0, 1.0, 0.0, 0.0, 1.0, 0.0, 1.0, 0.0, 1.0, 1.0, 1.0, 0.0, 0.0, 1.0, 0.0, 0.0, 1.0, 0.0, 1.0, 1.0, 1.0, 1.0, 1.0, 0.0, 1.0, 1.0, 1.0, 0.0, 0.0, 1.0, 0.0, 0.0, 0.0, 0.0, 0.0, 0.0, 1.0, 1.0, 0.0, 0.0, 1.0, 0.0, 1.0, 0.0, 1.0, 1.0, 0.0, 1.0, 1.0, 0.0, 1.0, 0.0, 1.0, 0.0, 0.0, 1.0, 1.0, 1.0, 1.0, 0.0, 1.0, 0.0, 0.0, 0.0, 1.0, 1.0, 1.0, 0.0, 0.0, 0.0, 1.0, 0.0, 0.0, 0.0, 0.0, 0.0, 1.0, 1.0, 0.0, 0.0, 0.0, 0.0, 1.0, 1.0, 0.0, 0.0, 0.0, 0.0, 0.0, 1.0, 1.0, 0.0, 1.0, 1.0, 1.0, 0.0, 0.0, 0.0, 0.0, 0.0, 0.0, 0.0, 1.0, 1.0, 0.0, 0.0, 0.0, 0.0, 1.0, 0.0, 0.0, 1.0, 0.0, 0.0, 1.0, 0.0, 1.0, 0.0, 0.0, 0.0, 0.0, 0.0, 0.0, 0.0, 0.0, 1.0, 0.0, 0.0, 0.0, 0.0, 1.0, 0.0, 0.0, 0.0, 1.0, 0.0, 1.0, 0.0, 0.0, 1.0, 0.0, 1.0, 0.0, 1.0, 1.0, 1.0, 1.0, 1.0, 1.0, 0.0, 0.0, 0.0, 0.0, 0.0, 0.0, 1.0, 0.0, 1.0, 1.0, 1.0, 1.0, 1.0, 0.0, 1.0, 1.0, 0.0, 0.0, 0.0, 1.0, 1.0, 0.0, 0.0, 1.0, 0.0, 1.0, 1.0, 0.0, 1.0, 0.0, 1.0, 1.0, 1.0, 0.0, 0.0, 1.0, 1.0, 1.0, 0.0, 0.0, 1.0, 1.0, 1.0, 0.0, 1.0, 0.0, 1.0, 0.0, 0.0, 0.0, 1.0, 1.0, 0.0, 1.0, 0.0, 0.0, 0.0, 1.0, 0.0, 0.0, 0.0, 0.0, 1.0, 0.0, 1.0, 1.0, 0.0, 0.0, 0.0, 1.0, 1.0, 0.0, 0.0, 1.0, 0.0, 0.0, 0.0, 1.0, 1.0, 1.0, 1.0, 0.0, 0.0, 0.0, 0.0, 1.0, 0.0, 0.0, 1.0, 0.0, 0.0, 0.0, 1.0, 1.0, 0.0, 1.0, 0.0, 1.0, 0.0, 0.0, 1.0, 0.0, 1.0, 1.0, 0.0, 1.0, 1.0, 0.0, 1.0, 1.0, 1.0, 1.0, 1.0, 1.0, 0.0, 1.0, 1.0, 1.0, 1.0, 0.0, 0.0, 1.0, 1.0, 1.0, 1.0, 0.0, 0.0, 0.0, 0.0, 0.0, 1.0, 1.0, 1.0, 0.0, 1.0, 1.0, 0.0, 0.0, 1.0, 0.0, 0.0, 1.0, 0.0, 0.0, 1.0, 1.0, 1.0, 1.0, 1.0, 1.0, 0.0, 0.0, 1.0, 0.0, 0.0, 0.0, 1.0, 0.0, 1.0, 0.0, 0.0, 0.0, 1.0, 1.0, 1.0, 0.0, 1.0, 0.0, 1.0, 0.0, 0.0, 0.0, 1.0, 1.0, 0.0, 1.0, 1.0, 1.0, 0.0, 1.0, 0.0, 0.0, 0.0, 0.0, 1.0, 1.0, 0.0, 1.0, 0.0, 0.0, 0.0, 1.0, 1.0, 1.0, 1.0, 0.0, 1.0, 1.0, 1.0, 1.0, 0.0, 1.0, 0.0, 0.0, 1.0, 0.0, 0.0, 1.0, 0.0, 1.0, 1.0, 0.0, 0.0, 1.0, 1.0, 1.0, 0.0, 0.0, 0.0, 0.0, 0.0, 1.0, 0.0, 1.0, 1.0, 1.0, 1.0, 1.0, 0.0, 1.0, 1.0, 0.0, 1.0, 1.0, 0.0, 1.0, 1.0, 0.0, 1.0, 1.0, 0.0, 1.0, 0.0, 0.0, 1.0, 1.0, 1.0, 0.0, 1.0, 0.0, 1.0, 0.0, 1.0, 0.0, 1.0, 0.0, 1.0, 1.0, 0.0, 1.0, 0.0, 1.0, 0.0, 0.0, 0.0, 0.0, 1.0, 0.0, 0.0, 0.0, 0.0, 1.0, 1.0, 1.0, 0.0, 1.0, 1.0, 0.0, 1.0, 1.0, 0.0, 1.0, 1.0, 1.0, 0.0, 0.0, 1.0, 0.0, 0.0, 0.0, 0.0, 1.0, 1.0, 1.0, 0.0, 0.0, 0.0, 1.0, 1.0, 0.0, 1.0, 0.0, 0.0, 1.0, 0.0, 1.0, 1.0, 0.0, 0.0, 0.0, 1.0, 1.0, 0.0, 1.0, 1.0, 1.0, 1.0, 0.0, 1.0, 0.0, 0.0, 1.0, 1.0, 1.0, 0.0, 0.0, 1.0, 1.0, 0.0, 1.0, 0.0, 0.0, 1.0, 0.0, 0.0, 0.0, 1.0, 0.0, 0.0, 1.0, 0.0, 0.0, 0.0, 1.0, 1.0, 0.0, 0.0, 0.0, 0.0, 1.0, 1.0, 0.0, 1.0, 0.0, 1.0, 0.0, 0.0, 0.0, 1.0, 0.0, 0.0, 0.0, 1.0, 1.0, 0.0, 0.0, 0.0, 1.0, 1.0, 0.0, 0.0, 0.0, 0.0, 0.0, 1.0, 0.0, 1.0, 0.0, 0.0, 1.0, 0.0, 1.0, 1.0, 0.0, 0.0, 0.0, 0.0, 1.0, 0.0, 0.0, 0.0, 1.0, 0.0, 1.0, 0.0, 0.0, 0.0, 0.0, 1.0, 0.0, 1.0, 0.0, 0.0, 1.0, 0.0, 1.0, 0.0, 0.0, 1.0, 1.0, 1.0, 1.0, 0.0, 0.0, 0.0, 0.0, 1.0, 0.0, 0.0, 1.0, 0.0, 0.0, 0.0, 0.0, 0.0, 0.0, 1.0, 0.0, 0.0, 1.0, 1.0, 0.0, 0.0, 1.0, 1.0, 1.0, 1.0, 0.0, 1.0, 0.0, 1.0, 0.0, 1.0, 1.0, 1.0, 1.0, 0.0, 1.0, 1.0, 0.0, 1.0, 1.0, 1.0, 1.0, 0.0, 0.0, 1.0, 1.0, 0.0, 0.0, 0.0, 0.0, 0.0, 0.0, 0.0, 0.0, 0.0, 0.0, 1.0, 0.0, 0.0, 1.0, 1.0, 0.0, 0.0, 1.0, 1.0, 1.0, 0.0, 0.0, 0.0, 1.0, 0.0, 0.0, 1.0, 0.0, 0.0, 1.0, 1.0, 1.0, 0.0, 1.0, 1.0, 0.0, 0.0, 1.0, 1.0, 1.0, 1.0, 0.0, 0.0, 1.0, 0.0, 1.0, 0.0, 0.0, 1.0, 1.0, 0.0, 1.0, 1.0, 0.0, 1.0, 1.0, 0.0, 0.0, 1.0, 0.0, 1.0, 1.0, 0.0, 1.0, 1.0, 1.0, 0.0, 0.0, 0.0, 1.0, 0.0, 0.0, 1.0, 0.0, 0.0, 0.0, 0.0, 1.0, 0.0, 0.0, 1.0, 1.0, 0.0, 1.0, 1.0, 0.0, 0.0, 0.0, 0.0, 0.0, 1.0, 0.0, 1.0, 0.0, 0.0, 0.0, 0.0, 0.0, 0.0, 0.0, 0.0, 0.0, 0.0, 0.0, 1.0, 1.0, 1.0, 0.0, 0.0, 1.0, 0.0, 0.0, 0.0, 1.0, 1.0, 0.0, 1.0, 0.0, 1.0, 0.0, 1.0, 1.0, 0.0, 1.0, 1.0, 1.0, 1.0, 1.0, 0.0, 0.0, 1.0, 1.0, 0.0, 1.0, 0.0, 0.0, 1.0, 1.0, 1.0, 0.0, 1.0, 0.0, 0.0, 1.0, 0.0, 0.0, 0.0, 0.0, 0.0, 1.0, 0.0, 1.0, 1.0, 1.0, 0.0, 0.0, 0.0, 1.0, 1.0, 0.0, 1.0, 0.0, 1.0, 0.0, 1.0, 0.0, 0.0, 1.0, 0.0, 1.0, 0.0, 1.0, 0.0, 0.0, 1.0, 0.0, 1.0, 0.0, 1.0, 1.0, 0.0, 0.0, 0.0, 0.0, 1.0, 0.0, 1.0, 0.0, 0.0, 0.0, 0.0, 1.0, 0.0, 0.0, 0.0, 0.0, 0.0, 1.0, 1.0, 1.0, 0.0, 1.0, 1.0, 0.0, 1.0, 1.0, 1.0, 1.0, 1.0, 0.0, 0.0, 0.0, 1.0, 0.0, 1.0, 1.0, 0.0, 0.0, 0.0, 0.0, 1.0, 1.0, 0.0, 0.0, 0.0, 0.0, 1.0, 0.0, 1.0, 1.0, 0.0, 0.0, 1.0, 1.0, 1.0, 0.0, 0.0, 1.0, 1.0, 0.0, 0.0, 1.0, 1.0, 0.0, 0.0, 1.0, 0.0, 0.0, 1.0, 0.0, 0.0, 0.0, 0.0, 0.0, 0.0, 0.0, 0.0, 1.0, 0.0, 1.0, 1.0, 0.0, 1.0, 1.0, 0.0, 1.0, 0.0, 1.0, 1.0, 1.0, 1.0, 0.0, 0.0, 1.0, 1.0, 1.0, 1.0, 0.0, 1.0, 1.0, 1.0, 1.0, 1.0, 1.0, 0.0, 1.0, 0.0, 1.0, 1.0, 1.0, 0.0, 0.0, 1.0, 1.0, 0.0, 0.0, 1.0, 0.0, 0.0, 0.0, 1.0, 0.0, 1.0, 1.0, 1.0, 1.0, 0.0, 0.0, 0.0, 0.0, 1.0, 1.0, 1.0, 1.0, 1.0, 0.0, 0.0, 1.0, 0.0, 0.0, 0.0, 1.0, 0.0, 1.0, 0.0, 1.0, 1.0, 0.0, 0.0, 0.0, 1.0, 1.0, 1.0, 0.0, 0.0, 1.0, 1.0, 0.0, 1.0, 0.0, 1.0, 0.0, 0.0, 1.0, 0.0, 0.0, 0.0, 1.0, 0.0, 0.0, 1.0, 0.0, 1.0, 0.0, 1.0, 1.0, 0.0, 0.0, 0.0, 1.0, 0.0, 0.0, 0.0, 1.0, 1.0, 1.0, 1.0, 1.0, 0.0, 1.0, 1.0, 0.0, 1.0, 0.0, 1.0, 1.0, 1.0, 1.0, 1.0, 0.0, 0.0, 1.0, 1.0, 0.0, 1.0, 1.0, 1.0, 0.0, 0.0, 1.0, 0.0, 0.0, 0.0, 0.0, 0.0, 1.0, 1.0, 1.0, 1.0, 0.0, 1.0, 1.0, 0.0, 1.0, 0.0, 1.0, 0.0, 0.0, 0.0, 0.0, 0.0, 0.0, 1.0, 0.0, 1.0, 0.0, 1.0, 0.0, 0.0, 0.0, 1.0, 0.0, 1.0, 1.0, 0.0, 1.0, 0.0, 0.0, 1.0, 0.0, 1.0, 0.0, 1.0, 1.0, 1.0, 1.0, 0.0, 1.0, 0.0, 0.0, 0.0, 1.0, 0.0, 0.0, 0.0, 0.0, 0.0, 1.0, 0.0, 1.0, 0.0, 1.0, 1.0, 1.0, 1.0, 1.0, 0.0, 0.0, 0.0, 1.0, 1.0, 0.0, 1.0, 0.0, 1.0, 1.0, 1.0, 1.0, 0.0, 0.0, 0.0, 1.0, 0.0, 0.0, 0.0, 1.0, 0.0, 1.0, 0.0, 1.0, 0.0, 0.0, 0.0, 0.0, 0.0, 0.0, 1.0, 1.0, 1.0, 0.0, 1.0, 0.0, 0.0, 0.0, 0.0, 1.0, 0.0, 0.0, 1.0, 0.0, 1.0, 0.0, 0.0, 0.0, 0.0, 1.0, 1.0, 1.0, 0.0, 0.0, 0.0, 1.0, 1.0, 1.0, 0.0, 1.0, 1.0, 0.0, 1.0, 0.0, 0.0, 0.0, 1.0, 1.0, 0.0, 1.0, 0.0, 0.0, 0.0, 0.0, 1.0, 0.0, 0.0, 1.0, 1.0, 0.0, 1.0, 0.0, 1.0, 1.0, 1.0, 1.0, 1.0, 0.0, 1.0, 0.0, 0.0, 1.0, 1.0, 1.0, 0.0, 1.0, 0.0, 0.0, 1.0, 0.0, 0.0, 1.0, 0.0, 0.0, 1.0, 1.0, 0.0, 0.0, 0.0, 0.0, 1.0, 1.0, 1.0, 1.0, 1.0, 0.0, 1.0, 1.0, 0.0, 1.0, 1.0, 0.0, 1.0, 0.0, 0.0, 1.0, 1.0, 1.0, 1.0, 0.0, 0.0, 1.0, 0.0, 1.0, 0.0, 0.0, 0.0, 0.0, 0.0, 0.0, 1.0, 1.0, 1.0, 0.0, 0.0, 0.0, 1.0, 1.0, 1.0, 1.0, 1.0, 0.0, 0.0, 1.0, 1.0, 1.0, 0.0, 0.0, 1.0, 0.0, 0.0, 0.0, 1.0, 0.0, 1.0, 1.0, 0.0, 0.0, 1.0, 0.0, 1.0, 0.0, 0.0, 0.0, 1.0, 1.0, 0.0, 0.0, 1.0, 1.0, 0.0, 1.0, 1.0, 1.0, 0.0, 0.0, 1.0, 0.0, 1.0, 1.0, 0.0, 1.0, 1.0, 1.0, 0.0, 1.0, 1.0, 1.0, 1.0, 1.0, 1.0, 0.0, 0.0, 1.0, 0.0, 1.0, 1.0, 0.0, 0.0, 0.0, 1.0, 0.0, 0.0, 1.0, 0.0, 1.0, 0.0, 0.0, 1.0, 1.0, 1.0, 0.0, 0.0, 0.0, 1.0, 1.0, 1.0, 0.0, 1.0, 1.0, 0.0, 0.0, 0.0, 1.0, 1.0, 0.0, 0.0, 0.0, 0.0, 1.0, 1.0, 1.0, 1.0, 0.0, 0.0, 1.0, 1.0, 0.0, 1.0, 1.0, 0.0, 1.0, 0.0, 0.0, 0.0, 0.0, 1.0, 1.0, 1.0, 1.0, 1.0, 1.0, 0.0, 0.0, 1.0, 0.0, 1.0, 0.0, 0.0, 1.0, 1.0, 0.0, 0.0, 0.0, 0.0, 1.0, 1.0, 1.0, 0.0, 0.0, 1.0, 1.0, 1.0, 1.0, 1.0, 1.0, 1.0, 1.0, 0.0, 0.0, 0.0, 0.0, 0.0, 1.0, 0.0, 0.0, 0.0, 1.0, 1.0, 0.0, 0.0, 0.0, 0.0, 0.0, 1.0, 0.0, 1.0, 0.0, 1.0, 0.0, 1.0, 0.0, 0.0, 0.0, 0.0, 0.0, 1.0, 0.0, 0.0, 0.0, 0.0, 1.0, 0.0, 1.0, 0.0, 1.0, 0.0, 0.0, 1.0, 0.0, 1.0, 0.0, 0.0, 1.0, 1.0, 1.0, 1.0, 1.0, 0.0, 1.0, 0.0, 0.0, 0.0, 1.0, 1.0, 0.0, 0.0, 0.0, 1.0, 0.0, 0.0, 1.0, 1.0, 1.0, 1.0, 1.0, 0.0, 1.0, 0.0, 0.0, 0.0, 0.0, 1.0, 0.0, 1.0, 1.0, 0.0, 1.0, 0.0, 0.0, 0.0, 0.0, 1.0, 1.0, 1.0, 1.0, 1.0, 1.0, 1.0, 0.0, 0.0, 1.0, 0.0, 0.0, 0.0, 1.0, 1.0, 1.0, 0.0, 1.0, 1.0, 0.0, 1.0, 1.0, 0.0, 0.0, 0.0, 0.0, 1.0, 0.0, 1.0, 0.0, 0.0, 0.0, 1.0, 0.0, 0.0, 1.0, 0.0, 0.0, 0.0, 1.0, 1.0, 1.0, 0.0, 1.0, 1.0, 1.0, 0.0, 0.0, 0.0, 0.0, 0.0, 0.0, 1.0, 0.0, 0.0, 1.0, 0.0, 1.0, 0.0, 1.0, 1.0, 1.0, 0.0, 1.0, 1.0, 0.0, 0.0, 0.0, 1.0, 1.0, 1.0, 0.0, 1.0, 0.0, 0.0, 0.0, 0.0, 1.0, 0.0, 1.0, 1.0, 0.0, 0.0, 1.0, 1.0, 1.0, 0.0, 0.0, 0.0, 0.0, 1.0, 1.0, 1.0, 0.0, 1.0, 0.0, 1.0, 0.0, 1.0, 0.0, 1.0, 1.0, 1.0, 0.0, 1.0, 1.0, 0.0, 1.0, 0.0, 1.0, 1.0, 0.0, 1.0, 1.0, 1.0, 1.0, 0.0, 1.0, 0.0, 0.0, 0.0, 0.0, 1.0, 0.0, 1.0, 1.0, 1.0, 0.0, 1.0, 1.0, 0.0, 0.0, 1.0, 0.0, 0.0, 1.0, 1.0, 0.0, 1.0, 0.0, 1.0, 1.0, 0.0, 1.0, 0.0, 1.0, 1.0, 1.0, 1.0, 0.0, 1.0, 0.0, 0.0, 1.0, 0.0, 0.0, 0.0, 0.0, 0.0, 0.0, 0.0, 1.0, 0.0, 1.0, 0.0, 1.0, 1.0, 1.0, 0.0, 1.0, 1.0, 0.0, 0.0, 0.0, 1.0, 1.0, 1.0, 1.0, 0.0, 1.0, 1.0, 0.0, 0.0, 0.0, 0.0, 1.0, 0.0, 0.0, 1.0, 1.0, 1.0, 0.0, 0.0, 1.0, 0.0, 0.0, 0.0, 1.0, 0.0, 1.0, 0.0, 1.0, 0.0, 0.0, 0.0, 0.0, 1.0, 1.0, 0.0, 0.0, 1.0, 1.0, 0.0, 1.0, 1.0, 0.0, 1.0, 0.0, 1.0, 1.0, 1.0, 1.0, 0.0, 0.0, 1.0, 0.0, 1.0, 0.0, 0.0, 1.0, 1.0, 1.0, 1.0, 1.0, 1.0, 0.0, 1.0, 1.0, 1.0, 0.0, 0.0, 0.0, 0.0, 1.0, 0.0, 1.0, 0.0, 1.0, 1.0, 0.0, 1.0, 0.0, 1.0, 0.0, 0.0, 0.0, 1.0, 1.0, 0.0, 0.0, 1.0, 1.0, 1.0, 0.0, 1.0, 1.0, 0.0, 0.0, 1.0, 1.0, 0.0, 0.0, 0.0, 1.0, 1.0, 0.0, 0.0, 0.0, 0.0, 1.0, 0.0, 1.0, 0.0, 1.0, 0.0, 0.0, 1.0, 0.0, 0.0, 0.0, 0.0, 0.0, 1.0, 0.0, 0.0, 1.0, 0.0, 0.0, 0.0, 0.0, 1.0, 0.0, 1.0, 0.0, 0.0, 1.0, 1.0, 0.0, 1.0, 0.0, 1.0, 0.0, 0.0, 1.0, 0.0, 0.0, 0.0, 0.0, 1.0, 0.0, 0.0, 1.0, 1.0, 1.0, 0.0, 1.0, 1.0, 1.0, 0.0, 0.0, 1.0, 0.0, 1.0, 0.0, 1.0, 0.0, 0.0, 1.0, 1.0, 0.0, 0.0, 0.0, 0.0, 0.0, 1.0, 1.0, 0.0, 1.0, 0.0, 0.0, 0.0, 1.0, 0.0, 0.0, 0.0, 1.0, 1.0, 1.0, 0.0, 1.0, 1.0, 0.0, 1.0, 0.0, 1.0, 1.0, 0.0, 1.0, 0.0, 0.0, 1.0, 1.0, 1.0, 1.0, 0.0, 0.0, 1.0, 0.0, 1.0, 1.0, 1.0, 1.0, 0.0, 1.0, 0.0, 1.0, 0.0, 0.0, 1.0, 1.0, 0.0, 0.0, 0.0, 0.0, 1.0, 1.0, 0.0, 0.0, 0.0, 0.0, 0.0, 1.0, 1.0, 1.0, 0.0, 0.0, 1.0, 0.0, 0.0, 0.0, 0.0, 0.0, 0.0, 1.0, 0.0, 1.0, 1.0, 1.0, 1.0, 0.0, 0.0, 1.0, 0.0, 1.0, 1.0, 0.0, 0.0, 0.0, 1.0, 1.0, 1.0, 1.0, 0.0, 1.0, 1.0, 0.0, 1.0, 0.0, 0.0, 0.0, 0.0, 1.0, 0.0, 1.0, 0.0, 1.0, 1.0, 1.0, 1.0, 0.0, 0.0, 0.0, 0.0, 0.0, 0.0, 0.0, 0.0, 0.0, 1.0, 0.0, 0.0, 0.0, 0.0, 0.0, 1.0, 0.0, 1.0, 0.0, 1.0, 1.0, 0.0, 1.0, 0.0, 1.0, 0.0, 0.0, 1.0, 1.0, 1.0, 1.0, 0.0, 0.0, 0.0, 0.0, 0.0, 1.0, 0.0, 0.0, 1.0, 0.0, 1.0, 1.0, 0.0, 1.0, 0.0, 1.0, 1.0, 1.0, 1.0, 0.0, 1.0, 1.0, 0.0, 1.0, 0.0, 0.0, 1.0, 1.0, 1.0, 0.0, 1.0, 0.0, 1.0, 0.0, 1.0, 1.0, 1.0, 1.0, 0.0, 0.0, 0.0, 1.0, 1.0, 1.0, 1.0, 0.0, 1.0, 1.0, 0.0, 1.0, 0.0, 0.0, 1.0, 0.0, 1.0, 0.0, 0.0, 1.0, 1.0, 1.0, 0.0, 0.0, 1.0, 1.0, 0.0, 0.0, 0.0, 0.0, 0.0, 1.0, 0.0, 1.0, 1.0, 1.0, 1.0, 0.0, 0.0, 0.0, 0.0, 0.0, 0.0, 1.0, 1.0, 1.0, 1.0, 1.0, 1.0, 1.0, 0.0, 0.0, 1.0, 1.0, 0.0, 1.0, 0.0, 0.0, 1.0, 1.0, 0.0, 0.0, 1.0, 1.0, 0.0, 1.0, 0.0, 1.0, 1.0, 1.0, 1.0, 1.0, 0.0, 1.0, 0.0, 0.0, 0.0, 1.0, 0.0, 0.0, 1.0, 1.0, 0.0, 1.0, 0.0, 0.0, 1.0, 0.0, 1.0, 1.0, 0.0, 0.0, 1.0, 1.0, 0.0, 0.0, 1.0, 0.0, 1.0, 0.0, 1.0, 1.0, 0.0, 1.0, 1.0, 1.0, 1.0, 0.0, 0.0, 0.0, 0.0, 0.0, 0.0, 1.0, 0.0, 0.0, 0.0, 1.0, 1.0, 1.0, 1.0, 1.0, 0.0, 1.0, 1.0, 1.0, 1.0, 0.0, 0.0, 1.0, 1.0, 1.0, 0.0, 1.0, 0.0, 1.0, 1.0, 1.0, 0.0, 0.0, 0.0, 1.0, 1.0, 0.0, 1.0, 0.0, 0.0, 0.0, 0.0, 1.0, 1.0, 1.0, 1.0, 1.0, 1.0, 1.0, 1.0, 1.0, 0.0, 1.0, 0.0, 0.0, 1.0, 0.0, 1.0, 1.0, 1.0, 1.0, 1.0, 0.0, 0.0, 0.0, 0.0, 1.0, 1.0, 0.0, 0.0, 0.0, 1.0, 0.0, 1.0, 1.0, 0.0, 1.0, 0.0, 1.0, 0.0, 1.0, 0.0, 1.0, 0.0, 0.0, 0.0, 0.0, 1.0, 1.0, 0.0, 0.0, 0.0, 1.0, 0.0, 0.0, 1.0, 1.0, 1.0, 1.0, 1.0, 0.0, 0.0, 1.0, 0.0, 1.0, 1.0, 1.0, 0.0, 0.0, 0.0, 1.0, 1.0, 0.0, 0.0, 1.0, 1.0, 1.0, 1.0, 0.0, 0.0, 1.0, 1.0, 0.0, 0.0, 0.0, 1.0, 1.0, 1.0, 0.0, 0.0, 0.0, 0.0, 1.0, 1.0, 0.0, 1.0, 1.0, 0.0, 0.0, 0.0, 1.0, 1.0, 1.0, 1.0, 0.0, 1.0, 0.0, 1.0, 0.0, 1.0, 1.0, 0.0, 0.0, 0.0, 0.0, 1.0, 1.0, 1.0, 0.0, 1.0, 0.0, 0.0, 1.0, 0.0, 0.0, 0.0, 1.0, 0.0, 0.0, 1.0, 0.0, 0.0, 1.0, 0.0, 1.0, 1.0, 0.0, 0.0, 1.0, 1.0, 1.0, 0.0, 1.0, 1.0, 0.0, 0.0, 0.0, 0.0, 1.0, 1.0, 1.0, 0.0, 0.0, 0.0, 1.0, 0.0, 1.0, 0.0, 1.0, 0.0, 1.0, 0.0, 0.0, 1.0, 1.0, 0.0, 1.0, 1.0, 0.0, 1.0, 1.0, 0.0, 1.0, 0.0, 0.0, 1.0, 0.0, 1.0, 0.0, 1.0, 0.0, 1.0, 1.0, 0.0, 0.0, 0.0, 1.0, 0.0, 1.0, 0.0, 0.0, 1.0, 0.0, 1.0, 1.0, 0.0, 1.0, 1.0, 1.0, 1.0, 0.0, 0.0, 1.0, 1.0, 0.0, 0.0, 1.0, 1.0, 0.0, 0.0, 0.0, 0.0, 1.0, 1.0, 1.0, 1.0, 1.0, 1.0, 0.0, 0.0, 1.0, 0.0, 1.0, 1.0, 0.0, 1.0, 1.0, 1.0, 0.0, 1.0, 0.0, 0.0, 1.0, 0.0, 0.0, 0.0, 0.0, 0.0, 0.0, 1.0, 0.0, 0.0, 0.0, 1.0, 0.0, 0.0, 1.0, 0.0, 1.0, 0.0, 0.0, 0.0, 0.0, 1.0, 0.0, 0.0, 1.0, 1.0, 1.0, 0.0, 1.0, 0.0, 0.0, 1.0, 0.0, 1.0, 1.0, 1.0, 0.0, 1.0, 1.0, 1.0, 0.0, 1.0, 1.0, 1.0, 0.0, 0.0, 0.0, 0.0, 1.0, 0.0, 0.0, 1.0, 1.0, 0.0, 1.0, 0.0, 1.0, 0.0, 0.0, 0.0, 0.0, 0.0, 1.0, 1.0, 0.0, 1.0, 0.0, 1.0, 1.0, 0.0, 1.0, 0.0, 0.0, 1.0, 0.0, 1.0, 1.0, 1.0, 0.0, 0.0, 0.0, 0.0, 0.0, 0.0, 1.0, 1.0, 0.0, 1.0, 0.0, 0.0, 1.0, 1.0, 1.0, 1.0, 0.0, 1.0, 0.0, 0.0, 1.0, 0.0, 0.0, 0.0, 1.0, 0.0, 0.0, 0.0, 0.0, 1.0, 0.0, 1.0, 0.0, 1.0, 0.0, 1.0, 1.0, 0.0, 0.0, 0.0, 0.0, 0.0, 1.0, 1.0, 0.0, 1.0, 0.0, 1.0, 0.0, 0.0, 1.0, 1.0, 1.0, 1.0, 1.0, 1.0, 1.0, 1.0, 1.0, 0.0, 1.0, 0.0, 0.0, 0.0, 0.0, 1.0, 0.0, 1.0, 0.0, 1.0, 0.0, 1.0, 1.0, 1.0, 0.0, 1.0, 1.0, 0.0, 0.0, 0.0, 1.0, 0.0, 1.0, 0.0, 0.0, 1.0, 0.0, 0.0, 1.0, 1.0, 0.0, 0.0, 1.0, 0.0, 1.0, 1.0, 1.0, 0.0, 1.0, 1.0, 0.0, 1.0, 1.0, 1.0, 1.0, 0.0, 0.0, 1.0, 0.0, 1.0, 1.0, 1.0, 1.0, 1.0, 0.0, 0.0, 0.0, 1.0, 1.0, 1.0, 0.0, 0.0, 0.0, 0.0, 0.0, 0.0, 0.0, 0.0, 1.0, 1.0, 0.0, 0.0, 1.0, 0.0, 0.0, 1.0, 1.0, 1.0, 1.0, 1.0, 1.0, 0.0, 0.0, 0.0, 1.0, 0.0, 1.0, 1.0, 1.0, 0.0, 0.0, 0.0, 0.0, 0.0, 1.0, 0.0, 0.0, 0.0, 0.0, 1.0, 1.0, 1.0, 0.0, 0.0, 1.0, 0.0, 0.0, 1.0, 0.0, 0.0, 1.0, 0.0, 1.0, 1.0, 1.0, 1.0, 0.0, 1.0, 0.0, 1.0, 0.0, 1.0, 0.0, 1.0, 1.0, 0.0, 0.0, 0.0, 0.0, 1.0, 0.0, 1.0, 0.0, 0.0, 1.0, 1.0, 1.0, 0.0, 0.0, 0.0, 1.0, 0.0, 0.0, 1.0, 1.0, 0.0, 1.0, 1.0, 1.0, 0.0, 0.0, 1.0, 1.0, 0.0, 1.0, 1.0, 0.0, 1.0, 1.0, 1.0, 1.0, 0.0, 0.0, 0.0, 1.0, 1.0, 1.0, 0.0, 0.0, 0.0, 1.0, 0.0, 0.0, 1.0, 1.0, 1.0, 1.0, 1.0, 0.0, 0.0, 1.0, 1.0, 0.0, 1.0, 0.0, 0.0, 1.0, 0.0, 1.0, 1.0, 0.0, 1.0, 0.0, 1.0, 0.0, 0.0, 0.0, 1.0, 1.0, 1.0, 0.0, 0.0, 1.0, 0.0, 0.0], 'tour_cost': 7918682.387904857, 'packing_plan_cost': 882292.0})]"
      ]
     },
     "execution_count": 34,
     "metadata": {},
     "output_type": "execute_result"
    }
   ],
   "source": [
    "evaled_pop = []\n",
    "i = 0\n",
    "for candidate_solution in [c1, c2]:\n",
    "    evaluate_candidate_solution_cost_pdist(candidate_solution,\n",
    "                                     a280_n1395[\"pairwise_distances\"],\n",
    "                                     a280_n1395[\"item_to_city_mapping_dict\"],\n",
    "                                     a280_n1395[\"item_weights\"],\n",
    "                                     a280_n1395[\"item_values\"],\n",
    "                                     a280_n1395[\"v_max\"],\n",
    "                                     a280_n1395[\"v_min\"],\n",
    "                                     a280_n1395[\"Q\"],\n",
    "                                     a280_n1395[\"R\"])\n",
    "    i += 1 \n",
    "    evaled_pop.append(candidate_solution)\n",
    "evaled_pop"
   ]
  },
  {
   "cell_type": "code",
   "execution_count": 35,
   "metadata": {},
   "outputs": [
    {
     "data": {
      "text/plain": [
       "[struct({'tour': [15, 195, 224, 10, 252, 60, 150, 237, 183, 18, 120, 82, 145, 182, 118, 268, 75, 234, 3, 203, 125, 98, 86, 114, 133, 93, 45, 207, 161, 210, 53, 4, 153, 112, 219, 119, 246, 138, 59, 32, 56, 131, 14, 164, 170, 212, 238, 105, 2, 261, 257, 192, 156, 16, 137, 231, 220, 122, 8, 17, 25, 223, 102, 24, 263, 108, 95, 62, 52, 259, 256, 97, 48, 229, 67, 249, 176, 55, 84, 117, 258, 254, 199, 169, 43, 103, 92, 242, 181, 33, 121, 275, 101, 34, 184, 239, 110, 46, 278, 152, 201, 180, 87, 194, 179, 198, 272, 264, 27, 271, 189, 127, 5, 23, 13, 155, 168, 113, 51, 171, 68, 240, 191, 151, 28, 165, 74, 80, 107, 44, 162, 123, 202, 88, 173, 109, 128, 22, 241, 147, 245, 218, 262, 236, 9, 136, 134, 19, 247, 216, 115, 78, 172, 96, 91, 100, 226, 66, 274, 185, 126, 196, 1, 204, 265, 166, 39, 129, 213, 197, 38, 50, 266, 111, 58, 42, 99, 277, 20, 37, 26, 31, 106, 211, 65, 148, 7, 228, 149, 41, 178, 116, 235, 12, 255, 205, 186, 209, 0, 63, 158, 232, 90, 30, 40, 132, 248, 214, 260, 206, 253, 54, 233, 200, 49, 193, 222, 227, 71, 64, 85, 144, 225, 244, 217, 70, 35, 11, 163, 47, 139, 104, 190, 76, 29, 6, 174, 187, 69, 130, 270, 215, 250, 188, 221, 167, 141, 142, 208, 73, 269, 83, 79, 57, 124, 72, 81, 159, 146, 21, 160, 267, 94, 276, 243, 36, 135, 273, 61, 279, 177, 143, 230, 77, 89, 251, 140, 157, 154, 175], 'packing_plan': [1.0, 0.0, 1.0, 0.0, 1.0, 1.0, 1.0, 1.0, 0.0, 1.0, 1.0, 1.0, 1.0, 1.0, 1.0, 1.0, 1.0, 1.0, 1.0, 1.0, 1.0, 0.0, 1.0, 1.0, 1.0, 0.0, 1.0, 1.0, 1.0, 1.0, 1.0, 0.0, 1.0, 1.0, 1.0, 1.0, 1.0, 1.0, 1.0, 1.0, 1.0, 1.0, 1.0, 1.0, 1.0, 0.0, 1.0, 1.0, 0.0, 1.0, 1.0, 0.0, 1.0, 1.0, 0.0, 1.0, 1.0, 1.0, 1.0, 1.0, 1.0, 1.0, 1.0, 0.0, 1.0, 1.0, 1.0, 0.0, 1.0, 1.0, 1.0, 1.0, 1.0, 1.0, 1.0, 1.0, 1.0, 0.0, 0.0, 1.0, 0.0, 1.0, 1.0, 1.0, 0.0, 1.0, 1.0, 1.0, 1.0, 0.0, 1.0, 0.0, 1.0, 1.0, 0.0, 1.0, 1.0, 0.0, 1.0, 1.0, 1.0, 1.0, 1.0, 1.0, 1.0, 1.0, 0.0, 1.0, 1.0, 1.0, 1.0, 1.0, 1.0, 1.0, 1.0, 1.0, 1.0, 1.0, 0.0, 1.0, 1.0, 1.0, 0.0, 1.0, 1.0, 1.0, 1.0, 1.0, 1.0, 1.0, 1.0, 1.0, 0.0, 1.0, 1.0, 1.0, 1.0, 1.0, 1.0, 1.0, 1.0, 1.0, 1.0, 1.0, 1.0, 1.0, 1.0, 1.0, 1.0, 1.0, 1.0, 1.0, 1.0, 1.0, 0.0, 1.0, 1.0, 1.0, 1.0, 1.0, 1.0, 0.0, 1.0, 1.0, 1.0, 1.0, 1.0, 1.0, 1.0, 0.0, 1.0, 1.0, 1.0, 1.0, 0.0, 1.0, 0.0, 1.0, 1.0, 1.0, 1.0, 1.0, 0.0, 0.0, 1.0, 1.0, 1.0, 0.0, 1.0, 1.0, 0.0, 1.0, 1.0, 1.0, 1.0, 1.0, 0.0, 1.0, 1.0, 0.0, 1.0, 1.0, 1.0, 1.0, 1.0, 1.0, 1.0, 1.0, 1.0, 1.0, 1.0, 0.0, 1.0, 1.0, 1.0, 1.0, 1.0, 1.0, 1.0, 1.0, 1.0, 1.0, 1.0, 1.0, 1.0, 1.0, 1.0, 1.0, 1.0, 1.0, 1.0, 1.0, 1.0, 0.0, 0.0, 1.0, 0.0, 1.0, 1.0, 1.0, 1.0, 0.0, 0.0, 1.0, 1.0, 1.0, 0.0, 1.0, 1.0, 1.0, 0.0, 1.0, 1.0, 1.0, 1.0, 1.0, 1.0, 1.0, 1.0, 1.0, 1.0, 1.0, 1.0, 1.0, 0.0, 1.0, 1.0, 1.0, 1.0, 0.0, 1.0, 0.0, 1.0, 1.0, 1.0, 1.0, 1.0, 1.0, 1.0, 1.0, 1.0, 1.0, 0.0, 1.0, 1.0, 0.0, 1.0, 1.0, 0.0, 1.0, 1.0, 0.0, 1.0, 1.0, 1.0, 1.0, 1.0, 1.0, 0.0, 1.0, 1.0, 1.0, 0.0, 0.0, 1.0, 1.0, 1.0, 1.0, 1.0, 1.0, 1.0, 1.0, 1.0, 1.0, 1.0, 1.0, 1.0, 1.0, 1.0, 1.0, 0.0, 1.0, 0.0, 1.0, 1.0, 1.0, 1.0, 1.0, 1.0, 1.0, 1.0, 0.0, 0.0, 1.0, 1.0, 0.0, 0.0, 1.0, 1.0, 1.0, 0.0, 1.0, 1.0, 1.0, 1.0, 1.0, 1.0, 1.0, 1.0, 1.0, 1.0, 0.0, 1.0, 1.0, 1.0, 1.0, 1.0, 1.0, 1.0, 1.0, 1.0, 1.0, 1.0, 0.0, 1.0, 1.0, 1.0, 1.0, 1.0, 1.0, 1.0, 1.0, 1.0, 1.0, 1.0, 1.0, 1.0, 1.0, 1.0, 1.0, 1.0, 1.0, 1.0, 1.0, 0.0, 1.0, 1.0, 1.0, 1.0, 1.0, 0.0, 1.0, 1.0, 0.0, 1.0, 1.0, 1.0, 0.0, 1.0, 1.0, 1.0, 1.0, 1.0, 0.0, 1.0, 1.0, 1.0, 1.0, 1.0, 1.0, 1.0, 1.0, 1.0, 1.0, 0.0, 1.0, 1.0, 1.0, 1.0, 0.0, 1.0, 1.0, 1.0, 0.0, 0.0, 1.0, 1.0, 1.0, 1.0, 1.0, 1.0, 1.0, 1.0, 1.0, 1.0, 0.0, 1.0, 1.0, 0.0, 1.0, 1.0, 1.0, 1.0, 1.0, 0.0, 1.0, 1.0, 1.0, 1.0, 1.0, 1.0, 1.0, 1.0, 1.0, 0.0, 1.0, 1.0, 1.0, 1.0, 1.0, 1.0, 1.0, 1.0, 1.0, 1.0, 1.0, 1.0, 1.0, 1.0, 1.0, 1.0, 1.0, 0.0, 1.0, 1.0, 1.0, 1.0, 1.0, 1.0, 1.0, 1.0, 1.0, 1.0, 1.0, 1.0, 1.0, 1.0, 1.0, 1.0, 1.0, 1.0, 1.0, 1.0, 1.0, 1.0, 1.0, 1.0, 1.0, 0.0, 1.0, 1.0, 1.0, 1.0, 1.0, 1.0, 1.0, 1.0, 1.0, 1.0, 1.0, 1.0, 1.0, 1.0, 1.0, 1.0, 0.0, 1.0, 0.0, 1.0, 1.0, 1.0, 1.0, 1.0, 1.0, 1.0, 1.0, 1.0, 1.0, 1.0, 1.0, 1.0, 0.0, 1.0, 1.0, 1.0, 1.0, 1.0, 1.0, 1.0, 1.0, 1.0, 1.0, 1.0, 1.0, 0.0, 1.0, 1.0, 1.0, 1.0, 1.0, 1.0, 1.0, 1.0, 1.0, 1.0, 1.0, 1.0, 1.0, 1.0, 0.0, 1.0, 1.0, 1.0, 0.0, 1.0, 1.0, 0.0, 1.0, 1.0, 1.0, 1.0, 1.0, 0.0, 1.0, 1.0, 1.0, 1.0, 1.0, 1.0, 1.0, 1.0, 1.0, 1.0, 1.0, 1.0, 1.0, 1.0, 1.0, 0.0, 1.0, 1.0, 1.0, 1.0, 1.0, 0.0, 1.0, 1.0, 1.0, 1.0, 1.0, 1.0, 1.0, 1.0, 1.0, 1.0, 1.0, 1.0, 1.0, 1.0, 0.0, 0.0, 1.0, 1.0, 1.0, 1.0, 0.0, 1.0, 0.0, 1.0, 1.0, 1.0, 1.0, 1.0, 1.0, 1.0, 1.0, 1.0, 1.0, 1.0, 1.0, 0.0, 1.0, 1.0, 1.0, 0.0, 0.0, 1.0, 0.0, 1.0, 0.0, 1.0, 1.0, 1.0, 1.0, 1.0, 1.0, 1.0, 0.0, 0.0, 0.0, 1.0, 1.0, 0.0, 1.0, 1.0, 1.0, 1.0, 1.0, 1.0, 1.0, 1.0, 1.0, 1.0, 1.0, 1.0, 1.0, 1.0, 1.0, 1.0, 1.0, 1.0, 1.0, 1.0, 1.0, 1.0, 1.0, 1.0, 0.0, 1.0, 1.0, 1.0, 1.0, 1.0, 1.0, 0.0, 0.0, 1.0, 1.0, 0.0, 1.0, 1.0, 1.0, 1.0, 1.0, 1.0, 0.0, 1.0, 1.0, 1.0, 1.0, 1.0, 1.0, 1.0, 1.0, 1.0, 1.0, 1.0, 1.0, 1.0, 1.0, 1.0, 1.0, 1.0, 1.0, 1.0, 1.0, 1.0, 1.0, 1.0, 1.0, 1.0, 1.0, 1.0, 1.0, 0.0, 1.0, 1.0, 1.0, 1.0, 1.0, 1.0, 1.0, 1.0, 1.0, 0.0, 1.0, 1.0, 0.0, 1.0, 1.0, 1.0, 1.0, 1.0, 1.0, 1.0, 1.0, 1.0, 1.0, 1.0, 1.0, 0.0, 1.0, 1.0, 1.0, 0.0, 1.0, 1.0, 1.0, 1.0, 1.0, 1.0, 1.0, 1.0, 1.0, 1.0, 1.0, 1.0, 1.0, 0.0, 1.0, 1.0, 1.0, 1.0, 1.0, 1.0, 0.0, 1.0, 1.0, 1.0, 1.0, 1.0, 1.0, 1.0, 1.0, 0.0, 1.0, 1.0, 1.0, 1.0, 1.0, 1.0, 1.0, 0.0, 1.0, 1.0, 1.0, 1.0, 1.0, 0.0, 1.0, 1.0, 0.0, 1.0, 1.0, 1.0, 1.0, 1.0, 1.0, 1.0, 1.0, 1.0, 0.0, 1.0, 1.0, 1.0, 1.0, 1.0, 0.0, 1.0, 0.0, 1.0, 0.0, 1.0, 1.0, 1.0, 0.0, 1.0, 1.0, 1.0, 1.0, 1.0, 1.0, 1.0, 1.0, 1.0, 1.0, 1.0, 0.0, 1.0, 1.0, 1.0, 1.0, 1.0, 1.0, 1.0, 1.0, 1.0, 1.0, 1.0, 1.0, 1.0, 1.0, 1.0, 1.0, 1.0, 1.0, 1.0, 1.0, 1.0, 1.0, 1.0, 1.0, 1.0, 1.0, 1.0, 1.0, 1.0, 0.0, 0.0, 1.0, 1.0, 1.0, 1.0, 1.0, 1.0, 1.0, 0.0, 0.0, 1.0, 1.0, 1.0, 1.0, 1.0, 1.0, 1.0, 1.0, 1.0, 0.0, 1.0, 1.0, 0.0, 1.0, 1.0, 1.0, 1.0, 0.0, 1.0, 0.0, 1.0, 1.0, 1.0, 1.0, 0.0, 1.0, 1.0, 1.0, 1.0, 0.0, 1.0, 0.0, 0.0, 0.0, 0.0, 1.0, 1.0, 0.0, 1.0, 1.0, 1.0, 1.0, 1.0, 1.0, 1.0, 1.0, 1.0, 1.0, 1.0, 1.0, 1.0, 1.0, 1.0, 1.0, 1.0, 1.0, 1.0, 1.0, 1.0, 1.0, 1.0, 1.0, 1.0, 0.0, 1.0, 1.0, 1.0, 1.0, 1.0, 0.0, 1.0, 1.0, 1.0, 1.0, 0.0, 0.0, 1.0, 1.0, 1.0, 1.0, 1.0, 1.0, 1.0, 1.0, 1.0, 1.0, 1.0, 0.0, 1.0, 1.0, 0.0, 0.0, 1.0, 0.0, 0.0, 1.0, 0.0, 1.0, 1.0, 1.0, 1.0, 1.0, 1.0, 1.0, 1.0, 0.0, 1.0, 1.0, 1.0, 1.0, 0.0, 1.0, 1.0, 1.0, 1.0, 1.0, 1.0, 1.0, 1.0, 1.0, 1.0, 1.0, 1.0, 1.0, 1.0, 1.0, 1.0, 1.0, 1.0, 1.0, 1.0, 1.0, 1.0, 1.0, 0.0, 1.0, 1.0, 1.0, 0.0, 1.0, 1.0, 0.0, 1.0, 1.0, 1.0, 0.0, 1.0, 1.0, 1.0, 1.0, 1.0, 1.0, 1.0, 1.0, 1.0, 1.0, 1.0, 1.0, 1.0, 1.0, 1.0, 1.0, 1.0, 1.0, 0.0, 1.0, 0.0, 1.0, 1.0, 1.0, 1.0, 1.0, 0.0, 0.0, 1.0, 1.0, 1.0, 1.0, 0.0, 1.0, 1.0, 1.0, 1.0, 1.0, 1.0, 1.0, 0.0, 1.0, 1.0, 1.0, 1.0, 1.0, 1.0, 0.0, 1.0, 1.0, 1.0, 1.0, 1.0, 1.0, 1.0, 0.0, 1.0, 1.0, 0.0, 0.0, 0.0, 1.0, 1.0, 1.0, 1.0, 1.0, 0.0, 1.0, 1.0, 0.0, 1.0, 1.0, 1.0, 1.0, 1.0, 1.0, 1.0, 1.0, 1.0, 1.0, 1.0, 1.0, 1.0, 1.0, 1.0, 1.0, 1.0, 1.0, 1.0, 1.0, 1.0, 1.0, 1.0, 1.0, 1.0, 1.0, 1.0, 0.0, 1.0, 1.0, 0.0, 1.0, 1.0, 1.0, 1.0, 1.0, 0.0, 1.0, 0.0, 1.0, 1.0, 1.0, 1.0, 0.0, 1.0, 1.0, 1.0, 1.0, 1.0, 1.0, 1.0, 1.0, 1.0, 1.0, 1.0, 0.0, 1.0, 1.0, 1.0, 1.0, 1.0, 1.0, 1.0, 1.0, 0.0, 1.0, 1.0, 1.0, 1.0, 1.0, 1.0, 1.0, 1.0, 0.0, 1.0, 1.0, 1.0, 1.0, 1.0, 1.0, 1.0, 1.0, 1.0, 1.0, 1.0, 0.0, 1.0, 1.0, 1.0, 1.0, 1.0, 1.0, 1.0, 1.0, 1.0, 1.0, 1.0, 1.0, 0.0, 1.0, 1.0, 1.0, 1.0, 1.0, 0.0, 1.0, 1.0, 1.0, 1.0, 0.0, 1.0, 0.0, 1.0, 0.0, 1.0, 1.0, 1.0, 0.0, 1.0, 0.0, 1.0, 0.0, 1.0, 1.0, 0.0, 1.0, 1.0, 0.0, 1.0, 1.0, 1.0, 0.0, 1.0, 1.0, 1.0, 1.0, 1.0, 1.0, 1.0, 1.0, 1.0, 1.0, 0.0, 1.0, 1.0, 1.0, 1.0, 1.0, 1.0, 0.0, 1.0, 1.0, 0.0, 1.0, 1.0, 0.0, 1.0, 0.0, 1.0, 0.0, 1.0, 1.0, 1.0, 1.0, 1.0, 1.0, 1.0, 1.0, 1.0, 1.0, 1.0, 1.0, 1.0, 1.0, 1.0, 1.0, 1.0, 1.0, 1.0, 1.0, 0.0, 0.0, 1.0, 1.0, 1.0, 1.0, 0.0, 1.0, 1.0, 1.0, 0.0, 1.0, 1.0, 1.0, 1.0, 1.0, 1.0, 1.0, 1.0, 0.0, 1.0, 1.0, 1.0, 1.0, 1.0, 1.0, 1.0, 0.0, 1.0, 1.0, 1.0, 1.0, 1.0, 0.0, 0.0, 1.0, 0.0, 1.0, 1.0, 1.0, 1.0, 1.0, 1.0, 1.0, 1.0, 1.0, 1.0, 1.0, 1.0, 1.0, 1.0, 1.0, 1.0, 1.0, 1.0, 0.0, 1.0, 1.0, 1.0, 1.0, 1.0, 1.0, 1.0, 0.0, 1.0, 1.0, 1.0, 1.0, 1.0, 1.0, 0.0, 1.0, 1.0, 1.0, 1.0, 1.0, 0.0, 1.0, 1.0, 1.0, 1.0, 1.0, 1.0, 1.0, 1.0, 1.0, 1.0, 1.0, 1.0, 0.0, 1.0, 0.0, 1.0, 1.0, 1.0, 1.0, 1.0, 1.0, 1.0, 1.0, 1.0, 1.0, 1.0, 1.0, 1.0, 1.0, 1.0, 1.0, 1.0, 1.0, 1.0, 1.0, 1.0, 1.0, 1.0, 0.0, 1.0, 1.0, 1.0, 1.0, 0.0, 1.0, 1.0, 1.0, 1.0, 1.0, 0.0, 1.0, 1.0, 1.0, 1.0, 1.0, 1.0, 1.0, 1.0, 1.0, 0.0, 1.0, 1.0, 1.0, 1.0, 1.0, 1.0, 1.0, 1.0, 1.0, 1.0, 0.0, 0.0, 1.0, 1.0, 1.0, 1.0, 1.0, 0.0, 1.0, 1.0, 0.0, 1.0, 0.0, 1.0, 1.0, 1.0, 1.0, 1.0, 1.0, 1.0, 0.0, 1.0, 1.0, 1.0, 0.0, 1.0, 1.0, 1.0, 1.0, 1.0, 1.0, 1.0, 1.0, 1.0, 1.0, 1.0, 0.0, 1.0, 1.0, 1.0, 1.0, 1.0, 1.0, 1.0, 1.0, 1.0, 1.0, 1.0, 0.0, 0.0, 1.0, 1.0, 1.0, 1.0, 1.0, 1.0, 1.0, 1.0, 1.0, 0.0, 1.0, 1.0, 1.0, 1.0, 0.0, 1.0, 1.0, 1.0, 1.0, 0.0, 1.0, 1.0, 1.0, 1.0, 1.0, 1.0, 1.0, 1.0, 1.0, 1.0, 1.0, 0.0, 1.0, 1.0, 1.0, 1.0, 0.0, 1.0, 1.0, 0.0, 1.0, 1.0, 1.0, 1.0, 1.0, 0.0, 1.0, 1.0, 1.0, 1.0, 1.0, 1.0, 1.0, 1.0, 0.0, 1.0, 0.0, 1.0, 1.0, 1.0, 1.0, 1.0, 1.0, 1.0, 1.0, 1.0, 0.0, 1.0, 1.0, 1.0, 0.0, 1.0, 1.0, 0.0, 1.0, 1.0, 1.0, 0.0, 1.0, 1.0, 1.0, 1.0, 1.0, 1.0, 1.0, 1.0, 1.0, 0.0, 1.0, 1.0, 1.0, 0.0, 1.0, 1.0, 1.0, 1.0, 1.0, 1.0, 0.0, 1.0, 1.0, 1.0, 1.0, 1.0, 1.0, 1.0, 0.0, 1.0, 1.0, 1.0, 1.0, 1.0, 1.0, 1.0, 1.0, 1.0, 0.0, 0.0, 1.0, 1.0, 1.0, 1.0, 1.0, 1.0, 1.0, 1.0, 1.0, 0.0, 1.0, 1.0, 1.0, 1.0, 1.0, 0.0, 1.0, 0.0, 1.0, 1.0, 1.0, 1.0, 1.0, 1.0, 1.0, 1.0, 1.0, 1.0, 1.0, 1.0, 1.0, 1.0, 1.0, 1.0, 0.0, 1.0, 1.0, 0.0, 1.0, 1.0, 1.0, 1.0, 1.0, 1.0, 1.0, 1.0, 1.0, 1.0, 1.0, 1.0, 1.0, 1.0, 1.0, 1.0, 1.0, 1.0, 0.0, 1.0, 1.0, 1.0, 1.0, 1.0, 1.0, 1.0, 1.0, 1.0, 1.0, 0.0, 1.0, 0.0, 1.0, 1.0, 1.0, 1.0, 1.0, 1.0, 1.0, 0.0, 1.0, 0.0, 1.0, 0.0, 0.0, 1.0, 1.0, 1.0, 1.0, 1.0, 0.0, 1.0, 1.0, 0.0, 0.0, 1.0, 1.0, 1.0, 1.0, 1.0, 1.0, 1.0, 1.0, 1.0, 1.0, 1.0, 1.0, 1.0, 1.0, 1.0, 1.0, 1.0, 0.0, 1.0, 1.0, 1.0, 1.0, 1.0, 1.0, 0.0, 0.0, 1.0, 1.0, 1.0, 1.0, 1.0, 1.0, 1.0, 1.0, 1.0, 1.0, 1.0, 1.0, 1.0, 1.0, 1.0, 1.0, 1.0, 1.0, 1.0, 1.0, 0.0, 1.0, 1.0, 0.0, 1.0, 0.0, 1.0, 1.0, 1.0, 1.0, 1.0, 1.0, 1.0, 1.0, 1.0, 1.0, 1.0, 1.0, 0.0, 1.0, 0.0, 1.0, 1.0, 1.0, 0.0, 1.0, 0.0, 1.0, 1.0, 1.0, 1.0, 1.0, 1.0, 1.0, 0.0, 1.0, 1.0, 0.0, 1.0, 1.0, 1.0, 1.0, 1.0, 1.0, 1.0, 1.0, 1.0, 1.0, 1.0, 1.0, 1.0, 1.0, 1.0, 1.0, 1.0, 1.0, 1.0, 0.0, 1.0, 1.0, 1.0, 1.0, 0.0, 1.0, 1.0, 1.0, 1.0, 1.0, 1.0, 1.0, 1.0, 1.0, 1.0, 1.0, 1.0, 1.0, 1.0, 1.0, 1.0, 1.0, 0.0, 1.0, 1.0, 1.0, 1.0, 0.0, 1.0, 1.0, 0.0, 1.0, 1.0, 1.0, 1.0, 1.0, 1.0, 1.0, 1.0, 0.0, 1.0, 1.0, 1.0, 1.0, 0.0, 1.0, 1.0, 1.0, 0.0, 1.0, 1.0, 1.0, 1.0, 1.0, 1.0, 1.0, 1.0, 1.0, 1.0, 1.0, 1.0, 1.0, 0.0, 1.0, 1.0, 1.0, 1.0, 1.0, 1.0, 1.0, 1.0, 1.0, 1.0, 0.0, 1.0, 1.0, 0.0, 1.0, 1.0, 1.0, 0.0, 0.0, 1.0, 0.0, 1.0, 1.0, 1.0, 1.0, 1.0, 1.0, 1.0, 1.0, 1.0, 0.0, 1.0, 1.0, 1.0, 1.0, 1.0, 1.0, 1.0, 1.0, 1.0, 1.0, 1.0, 1.0, 1.0, 0.0, 1.0, 1.0, 1.0, 1.0, 1.0, 1.0, 1.0, 1.0, 1.0, 1.0, 1.0, 1.0, 1.0, 1.0, 0.0, 1.0, 1.0, 1.0, 1.0, 1.0, 1.0, 1.0, 1.0, 1.0, 0.0, 0.0, 1.0, 1.0, 1.0, 1.0, 0.0, 0.0, 1.0, 1.0, 1.0, 1.0, 1.0, 1.0, 0.0, 1.0, 1.0, 1.0, 0.0, 1.0, 1.0, 1.0, 1.0, 0.0, 1.0, 1.0, 1.0, 1.0, 1.0, 1.0, 1.0, 1.0, 1.0, 1.0, 1.0, 1.0, 0.0, 1.0, 1.0, 0.0, 1.0, 0.0, 1.0, 1.0, 1.0, 1.0, 1.0, 1.0, 1.0, 1.0, 1.0, 1.0, 1.0, 1.0, 0.0, 1.0, 1.0, 0.0, 1.0, 0.0, 1.0, 1.0, 1.0, 1.0, 1.0, 1.0, 1.0, 0.0, 1.0, 1.0, 0.0, 1.0, 0.0, 1.0, 0.0, 1.0, 1.0, 1.0, 1.0, 1.0, 1.0, 0.0, 1.0, 0.0, 1.0, 0.0, 1.0, 1.0, 1.0, 1.0, 1.0, 1.0, 1.0, 1.0, 0.0, 1.0, 1.0, 1.0, 1.0, 0.0, 1.0, 1.0, 1.0, 1.0, 0.0, 1.0, 1.0, 1.0, 1.0, 1.0, 1.0, 1.0, 1.0, 1.0, 0.0, 0.0, 1.0, 1.0, 1.0, 0.0, 1.0, 1.0, 1.0, 1.0, 1.0, 1.0, 1.0, 1.0, 1.0, 1.0, 1.0, 1.0, 1.0, 1.0, 1.0, 1.0, 0.0, 1.0, 1.0, 1.0, 1.0, 1.0, 1.0, 0.0, 1.0, 1.0, 1.0, 1.0, 1.0, 1.0, 1.0, 1.0, 0.0, 1.0, 1.0, 1.0, 1.0, 0.0, 1.0, 1.0, 0.0, 1.0, 1.0, 0.0, 1.0, 1.0, 1.0, 0.0, 1.0, 1.0, 1.0, 1.0, 1.0, 1.0, 1.0, 1.0, 1.0, 0.0, 0.0, 1.0, 1.0, 1.0, 0.0, 1.0, 1.0, 1.0, 1.0, 1.0, 1.0, 1.0, 0.0, 1.0, 1.0, 1.0, 1.0, 1.0, 1.0, 1.0, 1.0, 1.0, 1.0, 1.0, 1.0, 1.0, 0.0, 1.0, 1.0, 1.0, 1.0, 1.0, 1.0, 1.0, 1.0, 1.0, 1.0, 1.0, 1.0, 1.0, 1.0, 1.0, 1.0, 1.0, 1.0, 1.0, 0.0, 0.0, 1.0, 1.0, 1.0, 0.0, 1.0, 1.0, 1.0, 1.0, 1.0, 1.0, 1.0, 1.0, 1.0, 1.0, 1.0, 1.0, 1.0, 1.0, 1.0, 0.0, 1.0, 0.0, 1.0, 1.0, 1.0, 1.0, 0.0, 1.0, 1.0, 1.0, 1.0, 0.0, 1.0, 0.0, 1.0, 1.0, 1.0, 1.0, 0.0, 1.0, 0.0, 1.0, 1.0, 1.0, 1.0, 1.0, 1.0, 1.0, 1.0, 1.0, 1.0, 1.0, 1.0, 1.0, 1.0, 1.0, 1.0, 1.0, 1.0, 1.0, 1.0, 1.0, 1.0, 1.0, 1.0, 1.0, 1.0, 0.0, 1.0, 1.0, 0.0, 0.0, 0.0, 1.0, 1.0, 1.0, 1.0, 1.0, 1.0, 1.0, 1.0, 1.0, 1.0, 1.0, 1.0, 1.0, 1.0, 0.0, 1.0, 1.0, 1.0, 1.0, 1.0, 1.0, 1.0, 0.0, 1.0, 1.0, 1.0, 1.0, 1.0, 1.0, 1.0, 1.0, 1.0, 1.0, 1.0, 1.0, 0.0, 1.0, 1.0, 1.0, 1.0, 1.0, 1.0, 1.0, 1.0, 1.0, 1.0, 1.0, 1.0, 1.0, 1.0, 1.0, 0.0, 1.0, 1.0, 1.0, 1.0, 1.0, 1.0, 1.0, 0.0, 1.0, 0.0, 1.0, 1.0, 1.0, 1.0, 1.0, 0.0, 1.0, 1.0, 1.0, 1.0, 1.0, 1.0, 1.0, 1.0, 1.0, 0.0, 1.0, 1.0, 1.0, 1.0, 1.0, 1.0, 1.0, 1.0, 1.0, 0.0, 1.0, 0.0, 1.0, 1.0, 1.0, 1.0, 1.0, 0.0, 0.0, 1.0, 1.0, 1.0, 1.0, 1.0, 1.0, 1.0, 1.0, 1.0, 1.0, 1.0, 1.0, 1.0, 1.0, 1.0, 1.0, 1.0, 1.0, 1.0, 1.0, 1.0, 1.0, 1.0, 1.0, 1.0, 1.0, 1.0, 1.0, 0.0, 0.0, 1.0, 1.0, 0.0, 1.0, 1.0, 1.0, 1.0, 1.0, 1.0, 1.0, 1.0, 1.0, 1.0, 1.0, 1.0, 1.0, 1.0, 0.0, 0.0, 1.0, 1.0, 1.0, 0.0, 1.0, 1.0, 1.0, 1.0, 1.0, 0.0, 1.0, 0.0, 1.0, 1.0, 1.0, 1.0, 1.0, 0.0, 1.0, 1.0, 0.0, 1.0, 1.0, 0.0, 1.0, 1.0, 1.0, 1.0, 1.0, 1.0, 0.0, 1.0, 0.0, 1.0, 1.0, 1.0, 0.0, 0.0, 1.0, 1.0, 1.0, 1.0, 0.0, 1.0, 0.0, 1.0, 1.0, 1.0, 1.0, 1.0, 1.0, 1.0, 0.0, 1.0, 1.0, 1.0, 1.0, 1.0, 1.0, 1.0, 1.0, 1.0, 1.0, 1.0, 1.0, 1.0, 1.0, 1.0, 1.0, 1.0, 0.0, 1.0, 1.0, 1.0, 1.0, 1.0, 0.0, 1.0, 1.0, 1.0, 0.0, 1.0, 1.0, 0.0, 1.0, 1.0, 1.0, 1.0, 1.0, 1.0, 0.0, 1.0, 1.0, 0.0, 1.0, 1.0, 0.0, 1.0, 1.0, 1.0, 1.0, 1.0, 1.0, 0.0, 1.0, 1.0, 1.0, 0.0, 1.0, 1.0, 1.0, 0.0, 1.0, 1.0, 0.0, 1.0, 1.0, 1.0, 1.0, 1.0, 1.0, 1.0, 1.0, 1.0, 1.0, 1.0, 1.0, 1.0, 0.0, 1.0, 1.0, 1.0, 1.0, 1.0, 1.0, 1.0, 1.0, 1.0, 1.0, 1.0, 1.0, 1.0, 1.0, 1.0, 0.0, 1.0, 1.0, 1.0, 1.0, 1.0, 1.0, 1.0, 1.0, 1.0, 1.0, 1.0, 1.0, 1.0, 1.0, 1.0, 1.0, 1.0, 1.0, 1.0, 1.0, 0.0, 0.0, 0.0, 1.0, 1.0, 1.0, 1.0, 0.0, 0.0, 1.0, 1.0, 1.0, 1.0, 1.0, 1.0, 0.0, 0.0, 1.0, 1.0, 0.0, 1.0, 1.0, 1.0, 1.0, 1.0, 1.0, 1.0, 1.0, 1.0, 1.0, 1.0, 0.0, 1.0, 1.0, 1.0, 1.0, 1.0, 1.0, 1.0, 1.0, 1.0, 0.0, 1.0, 1.0, 1.0, 1.0, 0.0, 1.0, 1.0, 1.0, 1.0, 1.0, 1.0, 1.0, 1.0, 1.0, 0.0, 1.0, 1.0, 0.0, 1.0, 1.0, 1.0, 1.0, 1.0, 1.0, 1.0, 1.0, 1.0, 1.0, 1.0, 0.0, 1.0, 1.0, 1.0, 1.0, 1.0, 1.0, 0.0, 1.0, 0.0, 1.0, 1.0, 1.0, 1.0, 1.0, 1.0, 1.0, 1.0, 1.0, 1.0, 1.0, 1.0, 1.0, 1.0, 1.0, 1.0, 1.0, 1.0, 1.0, 1.0, 1.0, 1.0, 1.0, 1.0, 1.0, 1.0, 1.0, 1.0, 1.0, 1.0, 1.0, 0.0, 1.0, 1.0, 1.0, 1.0, 1.0, 1.0, 1.0, 0.0, 1.0, 1.0, 0.0, 1.0, 1.0, 1.0, 1.0, 1.0, 1.0, 1.0, 0.0, 1.0, 1.0, 1.0, 1.0, 1.0, 1.0, 0.0, 1.0, 1.0, 1.0, 1.0, 1.0, 1.0, 1.0, 0.0, 1.0, 1.0, 1.0, 1.0, 1.0, 0.0, 1.0, 1.0, 1.0, 1.0, 1.0, 1.0, 0.0, 1.0, 1.0, 1.0, 0.0, 1.0, 1.0, 1.0, 1.0, 1.0, 1.0, 1.0, 1.0, 1.0, 1.0, 1.0, 1.0, 1.0, 1.0, 1.0, 1.0, 1.0, 1.0, 1.0, 0.0, 1.0, 1.0, 1.0, 1.0, 1.0, 0.0, 1.0, 1.0, 1.0, 1.0, 1.0, 1.0, 1.0, 1.0, 1.0, 1.0, 1.0, 1.0, 1.0, 1.0, 1.0, 1.0, 1.0, 1.0, 1.0, 1.0, 0.0, 1.0, 1.0, 1.0, 1.0, 1.0, 1.0, 1.0, 1.0, 0.0, 1.0, 1.0, 1.0, 1.0, 1.0, 1.0, 1.0, 1.0, 1.0, 0.0, 1.0, 1.0, 1.0, 1.0, 1.0, 1.0, 0.0, 1.0, 1.0, 1.0, 1.0, 0.0, 1.0, 1.0, 0.0, 1.0, 1.0, 0.0, 1.0, 0.0, 1.0, 0.0, 0.0, 1.0, 1.0, 1.0, 1.0, 1.0, 1.0, 1.0, 0.0, 1.0], 'tour_cost': 9391436.600702604, 'packing_plan_cost': 1137558.0}),\n",
       " struct({'tour': [181, 97, 93, 256, 95, 197, 156, 38, 28, 172, 50, 15, 247, 145, 9, 198, 266, 111, 58, 42, 99, 277, 246, 126, 20, 166, 37, 239, 249, 169, 87, 224, 26, 31, 22, 106, 62, 211, 53, 65, 148, 152, 122, 44, 7, 228, 149, 41, 178, 116, 171, 74, 235, 12, 66, 173, 255, 219, 205, 186, 209, 0, 63, 120, 218, 68, 158, 18, 232, 90, 229, 30, 13, 40, 137, 23, 257, 108, 98, 132, 10, 248, 170, 214, 4, 80, 254, 182, 231, 260, 206, 153, 253, 212, 136, 138, 39, 54, 233, 1, 161, 236, 200, 49, 180, 271, 193, 222, 105, 265, 133, 32, 226, 227, 96, 107, 123, 71, 274, 64, 85, 103, 144, 2, 225, 237, 244, 56, 252, 217, 17, 70, 125, 16, 134, 35, 11, 101, 112, 163, 67, 47, 86, 189, 183, 118, 75, 234, 264, 139, 104, 48, 115, 190, 76, 164, 192, 131, 29, 6, 14, 262, 174, 203, 100, 199, 207, 185, 5, 195, 60, 150, 82, 268, 3, 114, 45, 210, 119, 59, 238, 261, 220, 8, 25, 223, 102, 24, 263, 52, 259, 176, 55, 84, 117, 258, 43, 92, 242, 33, 121, 275, 34, 184, 110, 46, 278, 201, 194, 179, 272, 27, 127, 155, 168, 113, 51, 240, 191, 151, 165, 162, 202, 88, 109, 128, 241, 147, 245, 19, 216, 78, 91, 196, 204, 129, 213, 154, 135, 72, 73, 251, 141, 160, 187, 83, 188, 146, 243, 142, 221, 208, 21, 167, 276, 69, 124, 36, 279, 250, 140, 94, 81, 61, 57, 159, 215, 270, 267, 157, 230, 273, 269, 77, 175, 130, 177, 143, 79, 89], 'packing_plan': [1.0, 0.0, 1.0, 0.0, 0.0, 0.0, 1.0, 1.0, 0.0, 1.0, 1.0, 1.0, 0.0, 0.0, 1.0, 1.0, 1.0, 1.0, 0.0, 0.0, 1.0, 0.0, 1.0, 1.0, 1.0, 0.0, 1.0, 1.0, 1.0, 1.0, 1.0, 0.0, 1.0, 1.0, 0.0, 1.0, 0.0, 0.0, 0.0, 1.0, 1.0, 1.0, 0.0, 0.0, 1.0, 0.0, 1.0, 1.0, 0.0, 0.0, 1.0, 0.0, 1.0, 1.0, 0.0, 0.0, 1.0, 0.0, 1.0, 1.0, 1.0, 1.0, 1.0, 0.0, 1.0, 1.0, 0.0, 0.0, 1.0, 1.0, 1.0, 1.0, 1.0, 1.0, 1.0, 1.0, 1.0, 0.0, 0.0, 1.0, 0.0, 1.0, 1.0, 0.0, 0.0, 1.0, 1.0, 1.0, 1.0, 0.0, 0.0, 0.0, 0.0, 1.0, 0.0, 1.0, 1.0, 0.0, 1.0, 1.0, 0.0, 1.0, 1.0, 1.0, 1.0, 1.0, 0.0, 1.0, 0.0, 1.0, 0.0, 0.0, 1.0, 1.0, 1.0, 1.0, 1.0, 1.0, 0.0, 1.0, 0.0, 1.0, 0.0, 1.0, 1.0, 1.0, 0.0, 1.0, 1.0, 0.0, 1.0, 1.0, 0.0, 1.0, 1.0, 1.0, 1.0, 1.0, 0.0, 1.0, 1.0, 1.0, 0.0, 0.0, 1.0, 0.0, 0.0, 0.0, 0.0, 1.0, 1.0, 1.0, 1.0, 0.0, 0.0, 1.0, 1.0, 1.0, 1.0, 1.0, 1.0, 0.0, 1.0, 1.0, 1.0, 1.0, 1.0, 1.0, 1.0, 0.0, 1.0, 1.0, 1.0, 1.0, 0.0, 1.0, 0.0, 0.0, 0.0, 1.0, 1.0, 1.0, 0.0, 0.0, 1.0, 1.0, 1.0, 0.0, 1.0, 1.0, 0.0, 1.0, 1.0, 1.0, 1.0, 1.0, 0.0, 1.0, 1.0, 0.0, 0.0, 1.0, 0.0, 0.0, 1.0, 1.0, 0.0, 1.0, 1.0, 1.0, 0.0, 0.0, 0.0, 1.0, 0.0, 0.0, 0.0, 1.0, 1.0, 1.0, 1.0, 0.0, 0.0, 1.0, 1.0, 0.0, 1.0, 0.0, 0.0, 1.0, 0.0, 1.0, 1.0, 0.0, 0.0, 1.0, 0.0, 0.0, 0.0, 0.0, 1.0, 0.0, 0.0, 0.0, 1.0, 1.0, 0.0, 0.0, 1.0, 1.0, 0.0, 1.0, 1.0, 0.0, 1.0, 1.0, 1.0, 1.0, 1.0, 1.0, 1.0, 1.0, 1.0, 1.0, 0.0, 0.0, 0.0, 1.0, 0.0, 0.0, 1.0, 0.0, 1.0, 1.0, 1.0, 1.0, 1.0, 0.0, 1.0, 1.0, 1.0, 1.0, 0.0, 1.0, 1.0, 0.0, 0.0, 1.0, 0.0, 1.0, 1.0, 0.0, 1.0, 1.0, 1.0, 1.0, 1.0, 0.0, 0.0, 1.0, 1.0, 1.0, 0.0, 0.0, 1.0, 1.0, 1.0, 1.0, 1.0, 0.0, 1.0, 0.0, 1.0, 0.0, 1.0, 1.0, 1.0, 1.0, 0.0, 0.0, 0.0, 1.0, 0.0, 1.0, 0.0, 0.0, 1.0, 1.0, 1.0, 1.0, 1.0, 0.0, 0.0, 1.0, 1.0, 0.0, 0.0, 1.0, 1.0, 0.0, 0.0, 1.0, 1.0, 1.0, 1.0, 1.0, 0.0, 1.0, 1.0, 1.0, 0.0, 0.0, 1.0, 1.0, 1.0, 0.0, 1.0, 1.0, 0.0, 1.0, 1.0, 1.0, 1.0, 0.0, 1.0, 0.0, 1.0, 1.0, 1.0, 1.0, 1.0, 1.0, 1.0, 1.0, 1.0, 1.0, 1.0, 1.0, 1.0, 1.0, 1.0, 1.0, 1.0, 0.0, 0.0, 1.0, 1.0, 1.0, 1.0, 1.0, 0.0, 0.0, 1.0, 0.0, 1.0, 1.0, 1.0, 0.0, 1.0, 1.0, 0.0, 0.0, 1.0, 0.0, 0.0, 1.0, 1.0, 1.0, 1.0, 1.0, 1.0, 1.0, 1.0, 1.0, 0.0, 1.0, 1.0, 0.0, 1.0, 0.0, 1.0, 0.0, 1.0, 0.0, 0.0, 1.0, 1.0, 1.0, 1.0, 1.0, 1.0, 1.0, 1.0, 1.0, 0.0, 0.0, 1.0, 1.0, 0.0, 1.0, 1.0, 1.0, 0.0, 1.0, 0.0, 0.0, 1.0, 1.0, 1.0, 1.0, 1.0, 1.0, 1.0, 0.0, 0.0, 1.0, 1.0, 1.0, 1.0, 0.0, 1.0, 1.0, 1.0, 1.0, 1.0, 1.0, 0.0, 0.0, 1.0, 1.0, 0.0, 1.0, 0.0, 1.0, 1.0, 1.0, 0.0, 1.0, 1.0, 1.0, 1.0, 1.0, 1.0, 1.0, 1.0, 1.0, 1.0, 1.0, 1.0, 1.0, 1.0, 1.0, 0.0, 1.0, 1.0, 0.0, 1.0, 1.0, 0.0, 1.0, 1.0, 0.0, 1.0, 1.0, 1.0, 1.0, 0.0, 0.0, 1.0, 1.0, 1.0, 1.0, 1.0, 1.0, 1.0, 0.0, 1.0, 0.0, 1.0, 0.0, 1.0, 1.0, 1.0, 1.0, 1.0, 1.0, 0.0, 1.0, 0.0, 1.0, 1.0, 0.0, 1.0, 0.0, 0.0, 1.0, 1.0, 1.0, 1.0, 1.0, 1.0, 1.0, 1.0, 1.0, 0.0, 1.0, 1.0, 1.0, 1.0, 0.0, 1.0, 0.0, 0.0, 1.0, 0.0, 1.0, 1.0, 1.0, 1.0, 0.0, 1.0, 1.0, 1.0, 0.0, 1.0, 1.0, 0.0, 1.0, 0.0, 1.0, 1.0, 1.0, 0.0, 1.0, 1.0, 1.0, 0.0, 1.0, 1.0, 1.0, 1.0, 1.0, 1.0, 0.0, 1.0, 1.0, 1.0, 1.0, 0.0, 0.0, 1.0, 1.0, 1.0, 1.0, 0.0, 0.0, 1.0, 0.0, 0.0, 0.0, 1.0, 1.0, 1.0, 1.0, 1.0, 0.0, 0.0, 1.0, 1.0, 0.0, 0.0, 0.0, 1.0, 1.0, 1.0, 0.0, 1.0, 0.0, 1.0, 1.0, 1.0, 0.0, 1.0, 0.0, 0.0, 0.0, 1.0, 1.0, 0.0, 0.0, 0.0, 1.0, 1.0, 1.0, 0.0, 0.0, 0.0, 0.0, 1.0, 0.0, 1.0, 1.0, 1.0, 1.0, 0.0, 1.0, 1.0, 0.0, 0.0, 0.0, 0.0, 1.0, 0.0, 1.0, 1.0, 1.0, 1.0, 1.0, 1.0, 0.0, 0.0, 0.0, 1.0, 1.0, 1.0, 0.0, 1.0, 1.0, 1.0, 1.0, 1.0, 0.0, 1.0, 1.0, 1.0, 1.0, 0.0, 0.0, 1.0, 1.0, 1.0, 1.0, 0.0, 1.0, 0.0, 0.0, 0.0, 1.0, 0.0, 0.0, 1.0, 0.0, 1.0, 1.0, 1.0, 0.0, 1.0, 1.0, 1.0, 1.0, 1.0, 1.0, 1.0, 0.0, 1.0, 1.0, 1.0, 1.0, 1.0, 1.0, 0.0, 1.0, 1.0, 1.0, 1.0, 1.0, 1.0, 1.0, 0.0, 0.0, 1.0, 1.0, 0.0, 0.0, 0.0, 0.0, 0.0, 0.0, 0.0, 1.0, 0.0, 0.0, 1.0, 1.0, 0.0, 1.0, 1.0, 0.0, 1.0, 1.0, 1.0, 1.0, 1.0, 1.0, 0.0, 1.0, 1.0, 1.0, 1.0, 0.0, 0.0, 1.0, 1.0, 1.0, 0.0, 1.0, 1.0, 0.0, 0.0, 1.0, 1.0, 1.0, 1.0, 1.0, 1.0, 1.0, 1.0, 1.0, 0.0, 1.0, 1.0, 1.0, 0.0, 1.0, 1.0, 0.0, 1.0, 1.0, 1.0, 1.0, 1.0, 0.0, 1.0, 1.0, 0.0, 1.0, 1.0, 1.0, 0.0, 1.0, 1.0, 1.0, 0.0, 0.0, 1.0, 0.0, 0.0, 0.0, 0.0, 1.0, 0.0, 0.0, 1.0, 1.0, 0.0, 1.0, 1.0, 0.0, 0.0, 0.0, 1.0, 0.0, 1.0, 0.0, 1.0, 0.0, 1.0, 0.0, 0.0, 0.0, 1.0, 0.0, 1.0, 1.0, 1.0, 0.0, 1.0, 1.0, 1.0, 0.0, 0.0, 1.0, 0.0, 0.0, 0.0, 1.0, 1.0, 0.0, 1.0, 1.0, 1.0, 0.0, 1.0, 1.0, 1.0, 1.0, 1.0, 1.0, 1.0, 1.0, 0.0, 1.0, 1.0, 1.0, 0.0, 1.0, 0.0, 0.0, 1.0, 1.0, 1.0, 0.0, 1.0, 0.0, 1.0, 1.0, 0.0, 0.0, 0.0, 0.0, 0.0, 1.0, 1.0, 1.0, 1.0, 1.0, 0.0, 0.0, 1.0, 1.0, 1.0, 1.0, 1.0, 1.0, 1.0, 1.0, 1.0, 0.0, 1.0, 1.0, 0.0, 1.0, 0.0, 1.0, 0.0, 0.0, 1.0, 0.0, 1.0, 0.0, 1.0, 1.0, 0.0, 0.0, 1.0, 1.0, 1.0, 0.0, 1.0, 0.0, 0.0, 0.0, 0.0, 1.0, 1.0, 0.0, 0.0, 0.0, 1.0, 1.0, 1.0, 1.0, 0.0, 1.0, 1.0, 0.0, 1.0, 1.0, 1.0, 1.0, 1.0, 0.0, 0.0, 1.0, 1.0, 1.0, 1.0, 1.0, 0.0, 0.0, 0.0, 0.0, 1.0, 1.0, 1.0, 0.0, 1.0, 0.0, 1.0, 1.0, 1.0, 1.0, 0.0, 0.0, 1.0, 1.0, 1.0, 1.0, 0.0, 1.0, 1.0, 0.0, 0.0, 1.0, 1.0, 0.0, 1.0, 1.0, 0.0, 0.0, 1.0, 0.0, 0.0, 0.0, 0.0, 0.0, 0.0, 1.0, 1.0, 1.0, 0.0, 1.0, 1.0, 0.0, 1.0, 1.0, 1.0, 1.0, 0.0, 1.0, 1.0, 1.0, 1.0, 1.0, 1.0, 1.0, 1.0, 1.0, 1.0, 0.0, 1.0, 1.0, 1.0, 1.0, 1.0, 1.0, 0.0, 1.0, 0.0, 1.0, 1.0, 1.0, 0.0, 0.0, 1.0, 1.0, 0.0, 1.0, 1.0, 0.0, 1.0, 1.0, 1.0, 0.0, 1.0, 1.0, 1.0, 1.0, 0.0, 1.0, 1.0, 0.0, 1.0, 1.0, 1.0, 1.0, 1.0, 1.0, 1.0, 1.0, 1.0, 0.0, 0.0, 1.0, 0.0, 1.0, 0.0, 1.0, 1.0, 1.0, 0.0, 0.0, 1.0, 1.0, 1.0, 0.0, 0.0, 1.0, 1.0, 0.0, 1.0, 0.0, 1.0, 0.0, 0.0, 1.0, 0.0, 0.0, 0.0, 1.0, 1.0, 0.0, 1.0, 0.0, 1.0, 0.0, 1.0, 1.0, 0.0, 0.0, 1.0, 1.0, 0.0, 0.0, 0.0, 1.0, 1.0, 1.0, 1.0, 1.0, 0.0, 1.0, 1.0, 0.0, 1.0, 0.0, 1.0, 1.0, 1.0, 1.0, 1.0, 1.0, 1.0, 1.0, 1.0, 0.0, 1.0, 1.0, 1.0, 1.0, 0.0, 1.0, 0.0, 0.0, 0.0, 1.0, 0.0, 1.0, 1.0, 1.0, 1.0, 0.0, 1.0, 1.0, 0.0, 1.0, 0.0, 1.0, 1.0, 0.0, 0.0, 1.0, 0.0, 1.0, 1.0, 0.0, 1.0, 0.0, 1.0, 0.0, 1.0, 0.0, 1.0, 0.0, 1.0, 1.0, 0.0, 1.0, 1.0, 0.0, 1.0, 0.0, 1.0, 1.0, 1.0, 1.0, 1.0, 1.0, 0.0, 1.0, 0.0, 1.0, 0.0, 1.0, 0.0, 0.0, 0.0, 0.0, 1.0, 1.0, 1.0, 1.0, 1.0, 1.0, 1.0, 1.0, 1.0, 1.0, 1.0, 0.0, 1.0, 1.0, 1.0, 0.0, 1.0, 1.0, 1.0, 1.0, 1.0, 1.0, 0.0, 0.0, 0.0, 1.0, 0.0, 0.0, 0.0, 1.0, 0.0, 1.0, 1.0, 1.0, 0.0, 0.0, 1.0, 0.0, 1.0, 0.0, 1.0, 1.0, 1.0, 0.0, 1.0, 0.0, 1.0, 0.0, 1.0, 1.0, 0.0, 0.0, 1.0, 0.0, 1.0, 0.0, 1.0, 0.0, 0.0, 1.0, 1.0, 1.0, 0.0, 0.0, 0.0, 1.0, 1.0, 1.0, 0.0, 1.0, 1.0, 1.0, 1.0, 0.0, 0.0, 0.0, 1.0, 1.0, 0.0, 1.0, 0.0, 0.0, 0.0, 0.0, 1.0, 0.0, 1.0, 1.0, 1.0, 1.0, 1.0, 0.0, 1.0, 1.0, 1.0, 1.0, 1.0, 0.0, 1.0, 0.0, 1.0, 1.0, 1.0, 1.0, 0.0, 1.0, 0.0, 0.0, 1.0, 0.0, 1.0, 1.0, 0.0, 1.0, 1.0, 1.0, 0.0, 1.0, 0.0, 0.0, 1.0, 1.0, 1.0, 1.0, 1.0, 0.0, 1.0, 1.0, 1.0, 1.0, 1.0, 0.0, 1.0, 0.0, 1.0, 1.0, 1.0, 1.0, 1.0, 0.0, 0.0, 1.0, 0.0, 1.0, 0.0, 0.0, 0.0, 1.0, 1.0, 0.0, 1.0, 1.0, 1.0, 0.0, 0.0, 1.0, 1.0, 1.0, 1.0, 1.0, 1.0, 0.0, 0.0, 1.0, 1.0, 1.0, 0.0, 0.0, 1.0, 0.0, 0.0, 0.0, 1.0, 1.0, 1.0, 1.0, 0.0, 0.0, 1.0, 1.0, 1.0, 0.0, 0.0, 1.0, 1.0, 1.0, 1.0, 1.0, 1.0, 1.0, 1.0, 1.0, 1.0, 1.0, 1.0, 0.0, 1.0, 0.0, 1.0, 1.0, 1.0, 1.0, 1.0, 1.0, 1.0, 1.0, 1.0, 1.0, 1.0, 1.0, 1.0, 0.0, 0.0, 1.0, 0.0, 1.0, 1.0, 1.0, 0.0, 1.0, 1.0, 0.0, 0.0, 1.0, 1.0, 1.0, 0.0, 0.0, 1.0, 1.0, 1.0, 1.0, 0.0, 1.0, 1.0, 1.0, 1.0, 1.0, 1.0, 1.0, 1.0, 0.0, 0.0, 1.0, 1.0, 1.0, 1.0, 0.0, 0.0, 1.0, 1.0, 1.0, 1.0, 0.0, 0.0, 1.0, 1.0, 1.0, 1.0, 1.0, 0.0, 1.0, 1.0, 0.0, 1.0, 0.0, 1.0, 1.0, 1.0, 1.0, 1.0, 1.0, 0.0, 0.0, 1.0, 1.0, 1.0, 0.0, 1.0, 1.0, 1.0, 0.0, 1.0, 1.0, 0.0, 1.0, 1.0, 1.0, 0.0, 0.0, 1.0, 1.0, 1.0, 1.0, 1.0, 1.0, 1.0, 1.0, 1.0, 0.0, 1.0, 0.0, 0.0, 1.0, 0.0, 0.0, 1.0, 1.0, 1.0, 0.0, 0.0, 1.0, 0.0, 1.0, 1.0, 0.0, 1.0, 0.0, 1.0, 1.0, 1.0, 1.0, 0.0, 0.0, 1.0, 1.0, 1.0, 0.0, 1.0, 0.0, 0.0, 1.0, 1.0, 1.0, 0.0, 1.0, 0.0, 0.0, 1.0, 0.0, 1.0, 0.0, 0.0, 1.0, 1.0, 1.0, 1.0, 1.0, 0.0, 1.0, 0.0, 1.0, 1.0, 1.0, 1.0, 1.0, 0.0, 0.0, 1.0, 0.0, 1.0, 1.0, 1.0, 1.0, 1.0, 1.0, 1.0, 1.0, 0.0, 0.0, 0.0, 1.0, 1.0, 0.0, 1.0, 1.0, 0.0, 1.0, 1.0, 0.0, 0.0, 1.0, 1.0, 1.0, 1.0, 1.0, 1.0, 1.0, 1.0, 1.0, 0.0, 1.0, 0.0, 0.0, 0.0, 1.0, 1.0, 1.0, 1.0, 1.0, 1.0, 0.0, 1.0, 1.0, 0.0, 1.0, 1.0, 0.0, 1.0, 0.0, 1.0, 1.0, 1.0, 0.0, 1.0, 1.0, 0.0, 1.0, 0.0, 0.0, 0.0, 1.0, 1.0, 1.0, 0.0, 1.0, 1.0, 1.0, 0.0, 0.0, 0.0, 0.0, 0.0, 0.0, 1.0, 1.0, 0.0, 1.0, 0.0, 1.0, 1.0, 1.0, 1.0, 1.0, 1.0, 1.0, 1.0, 0.0, 1.0, 1.0, 1.0, 1.0, 1.0, 1.0, 1.0, 0.0, 1.0, 1.0, 0.0, 1.0, 0.0, 1.0, 1.0, 1.0, 0.0, 1.0, 1.0, 1.0, 1.0, 0.0, 0.0, 0.0, 1.0, 1.0, 1.0, 0.0, 1.0, 0.0, 1.0, 1.0, 1.0, 0.0, 1.0, 1.0, 1.0, 0.0, 1.0, 1.0, 0.0, 1.0, 0.0, 1.0, 1.0, 1.0, 1.0, 1.0, 1.0, 1.0, 0.0, 1.0, 0.0, 0.0, 0.0, 0.0, 1.0, 0.0, 1.0, 1.0, 1.0, 0.0, 1.0, 1.0, 0.0, 0.0, 1.0, 0.0, 0.0, 1.0, 1.0, 0.0, 1.0, 0.0, 1.0, 1.0, 1.0, 1.0, 0.0, 1.0, 1.0, 1.0, 1.0, 0.0, 1.0, 1.0, 0.0, 1.0, 1.0, 0.0, 0.0, 0.0, 0.0, 1.0, 1.0, 1.0, 0.0, 1.0, 0.0, 1.0, 1.0, 1.0, 0.0, 1.0, 1.0, 0.0, 1.0, 1.0, 1.0, 1.0, 1.0, 1.0, 0.0, 1.0, 1.0, 0.0, 1.0, 0.0, 0.0, 1.0, 0.0, 0.0, 1.0, 1.0, 1.0, 0.0, 1.0, 1.0, 0.0, 1.0, 0.0, 1.0, 0.0, 1.0, 1.0, 1.0, 0.0, 1.0, 0.0, 1.0, 1.0, 1.0, 0.0, 0.0, 1.0, 1.0, 0.0, 1.0, 1.0, 0.0, 1.0, 1.0, 1.0, 1.0, 1.0, 1.0, 0.0, 0.0, 1.0, 1.0, 1.0, 0.0, 1.0, 1.0, 1.0, 1.0, 1.0, 1.0, 1.0, 0.0, 1.0, 1.0, 1.0, 1.0, 0.0, 1.0, 1.0, 1.0, 1.0, 1.0, 1.0, 1.0, 1.0, 1.0, 1.0, 1.0, 1.0, 1.0, 0.0, 1.0, 1.0, 1.0, 0.0, 0.0, 1.0, 1.0, 1.0, 0.0, 1.0, 1.0, 0.0, 0.0, 1.0, 1.0, 0.0, 1.0, 0.0, 1.0, 1.0, 0.0, 1.0, 1.0, 1.0, 1.0, 0.0, 1.0, 1.0, 1.0, 0.0, 0.0, 1.0, 0.0, 0.0, 1.0, 1.0, 1.0, 1.0, 1.0, 1.0, 1.0, 1.0, 1.0, 0.0, 0.0, 1.0, 0.0, 1.0, 1.0, 1.0, 1.0, 1.0, 0.0, 1.0, 0.0, 1.0, 0.0, 0.0, 1.0, 1.0, 0.0, 0.0, 0.0, 1.0, 0.0, 1.0, 1.0, 1.0, 1.0, 1.0, 1.0, 1.0, 1.0, 1.0, 0.0, 1.0, 1.0, 1.0, 0.0, 1.0, 1.0, 0.0, 1.0, 1.0, 0.0, 1.0, 1.0, 0.0, 0.0, 1.0, 1.0, 0.0, 1.0, 0.0, 1.0, 0.0, 1.0, 0.0, 0.0, 0.0, 1.0, 1.0, 1.0, 0.0, 1.0, 1.0, 1.0, 1.0, 0.0, 1.0, 1.0, 0.0, 1.0, 0.0, 0.0, 1.0, 1.0, 1.0, 1.0, 0.0, 0.0, 1.0, 1.0, 1.0, 1.0, 1.0, 1.0, 0.0, 1.0, 0.0, 1.0, 0.0, 0.0, 1.0, 1.0, 0.0, 0.0, 1.0, 1.0, 1.0, 1.0, 0.0, 1.0, 0.0, 0.0, 1.0, 1.0, 1.0, 1.0, 0.0, 0.0, 1.0, 0.0, 0.0, 0.0, 1.0, 0.0, 1.0, 1.0, 1.0, 1.0, 1.0, 1.0, 1.0, 0.0, 0.0, 1.0, 0.0, 1.0, 1.0, 0.0, 0.0, 0.0, 1.0, 1.0, 1.0, 1.0, 0.0, 1.0, 1.0, 0.0, 1.0, 0.0, 0.0, 0.0, 0.0, 1.0, 0.0, 1.0, 0.0, 1.0, 1.0, 1.0, 1.0, 0.0, 0.0, 0.0, 0.0, 0.0, 1.0, 0.0, 1.0, 0.0, 1.0, 0.0, 0.0, 0.0, 0.0, 1.0, 1.0, 1.0, 1.0, 0.0, 1.0, 1.0, 1.0, 1.0, 0.0, 1.0, 0.0, 1.0, 1.0, 1.0, 1.0, 1.0, 1.0, 1.0, 0.0, 0.0, 0.0, 1.0, 1.0, 0.0, 1.0, 0.0, 1.0, 1.0, 0.0, 1.0, 1.0, 1.0, 1.0, 1.0, 1.0, 1.0, 1.0, 1.0, 1.0, 1.0, 0.0, 0.0, 1.0, 1.0, 1.0, 0.0, 1.0, 0.0, 1.0, 0.0, 1.0, 1.0, 1.0, 1.0, 0.0, 0.0, 0.0, 1.0, 1.0, 1.0, 1.0, 0.0, 1.0, 1.0, 0.0, 1.0, 0.0, 0.0, 1.0, 0.0, 1.0, 0.0, 0.0, 1.0, 1.0, 1.0, 0.0, 1.0, 1.0, 1.0, 0.0, 0.0, 0.0, 0.0, 1.0, 1.0, 0.0, 1.0, 1.0, 1.0, 1.0, 1.0, 1.0, 0.0, 0.0, 1.0, 1.0, 1.0, 1.0, 1.0, 1.0, 1.0, 1.0, 1.0, 0.0, 0.0, 1.0, 1.0, 0.0, 1.0, 0.0, 1.0, 1.0, 1.0, 1.0, 1.0, 1.0, 1.0, 1.0, 1.0, 1.0, 1.0, 1.0, 1.0, 1.0, 1.0, 0.0, 1.0, 0.0, 0.0, 1.0, 1.0, 1.0, 0.0, 1.0, 1.0, 0.0, 1.0, 0.0, 1.0, 1.0, 1.0, 1.0, 1.0, 1.0, 0.0, 1.0, 1.0, 1.0, 0.0, 1.0, 0.0, 1.0, 0.0, 1.0, 1.0, 0.0, 1.0, 1.0, 1.0, 1.0, 0.0, 0.0, 0.0, 0.0, 0.0, 0.0, 1.0, 0.0, 0.0, 0.0, 1.0, 1.0, 1.0, 1.0, 1.0, 1.0, 1.0, 1.0, 1.0, 1.0, 0.0, 0.0, 1.0, 1.0, 1.0, 1.0, 1.0, 0.0, 1.0, 1.0, 1.0, 0.0, 0.0, 1.0, 1.0, 1.0, 0.0, 1.0, 0.0, 0.0, 0.0, 0.0, 1.0, 1.0, 1.0, 1.0, 1.0, 1.0, 1.0, 1.0, 1.0, 0.0, 1.0, 0.0, 0.0, 1.0, 0.0, 1.0, 1.0, 1.0, 1.0, 1.0, 1.0, 0.0, 0.0, 1.0, 1.0, 1.0, 0.0, 0.0, 1.0, 1.0, 0.0, 1.0, 1.0, 0.0, 1.0, 0.0, 1.0, 1.0, 1.0, 0.0, 1.0, 0.0, 1.0, 0.0, 0.0, 1.0, 1.0, 0.0, 0.0, 0.0, 1.0, 0.0, 1.0, 1.0, 1.0, 1.0, 1.0, 1.0, 1.0, 0.0, 1.0, 0.0, 1.0, 1.0, 1.0, 1.0, 0.0, 0.0, 1.0, 1.0, 1.0, 0.0, 1.0, 1.0, 1.0, 1.0, 0.0, 0.0, 1.0, 1.0, 1.0, 1.0, 1.0, 1.0, 1.0, 1.0, 0.0, 0.0, 1.0, 0.0, 1.0, 1.0, 0.0, 1.0, 1.0, 0.0, 0.0, 1.0, 1.0, 1.0, 1.0, 1.0, 1.0, 1.0, 1.0, 1.0, 0.0, 1.0, 1.0, 1.0, 0.0, 0.0, 1.0, 1.0, 1.0, 1.0, 1.0, 1.0, 1.0, 0.0, 1.0, 1.0, 1.0, 1.0, 1.0, 0.0, 0.0, 1.0, 1.0, 0.0, 1.0, 0.0, 1.0, 1.0, 0.0, 0.0, 1.0, 1.0, 1.0, 0.0, 1.0, 1.0, 1.0, 0.0, 0.0, 0.0, 1.0, 1.0, 1.0, 0.0, 1.0, 1.0, 1.0, 0.0, 1.0, 0.0, 1.0, 0.0, 1.0, 0.0, 0.0, 1.0, 1.0, 0.0, 1.0, 1.0, 0.0, 1.0, 1.0, 0.0, 1.0, 1.0, 1.0, 1.0, 0.0, 1.0, 0.0, 1.0, 0.0, 1.0, 1.0, 0.0, 0.0, 0.0, 1.0, 1.0, 1.0, 1.0, 0.0, 1.0, 0.0, 1.0, 1.0, 0.0, 1.0, 1.0, 1.0, 1.0, 0.0, 0.0, 1.0, 1.0, 0.0, 1.0, 1.0, 1.0, 1.0, 1.0, 0.0, 0.0, 1.0, 1.0, 1.0, 1.0, 1.0, 1.0, 0.0, 0.0, 1.0, 1.0, 1.0, 1.0, 0.0, 1.0, 1.0, 1.0, 0.0, 1.0, 1.0, 0.0, 1.0, 1.0, 1.0, 0.0, 1.0, 0.0, 0.0, 1.0, 0.0, 0.0, 0.0, 1.0, 0.0, 1.0, 1.0, 1.0, 1.0, 0.0, 0.0, 0.0, 0.0, 1.0, 1.0, 0.0, 1.0, 1.0, 1.0, 0.0, 1.0, 0.0, 0.0, 1.0, 0.0, 1.0, 1.0, 1.0, 0.0, 1.0, 1.0, 1.0, 1.0, 1.0, 1.0, 1.0, 0.0, 0.0, 0.0, 1.0, 1.0, 1.0, 0.0, 1.0, 1.0, 1.0, 1.0, 1.0, 1.0, 0.0, 1.0, 0.0, 0.0, 0.0, 1.0, 1.0, 0.0, 1.0, 1.0, 1.0, 1.0, 0.0, 1.0, 0.0, 0.0, 1.0, 1.0, 1.0, 1.0, 1.0, 0.0, 0.0, 1.0, 0.0, 0.0, 0.0, 1.0, 1.0, 0.0, 1.0, 0.0, 0.0, 1.0, 1.0, 1.0, 1.0, 0.0, 1.0, 0.0, 0.0, 1.0, 0.0, 0.0, 1.0, 1.0, 0.0, 1.0, 0.0, 1.0, 1.0, 1.0, 1.0, 0.0, 1.0, 0.0, 1.0, 1.0, 1.0, 0.0, 0.0, 0.0, 1.0, 1.0, 1.0, 0.0, 1.0, 1.0, 1.0, 1.0, 0.0, 1.0, 1.0, 1.0, 1.0, 1.0, 1.0, 1.0, 1.0, 1.0, 0.0, 1.0, 0.0, 0.0, 0.0, 0.0, 1.0, 0.0, 1.0, 0.0, 1.0, 0.0, 1.0, 1.0, 1.0, 0.0, 1.0, 1.0, 1.0, 0.0, 1.0, 1.0, 0.0, 1.0, 0.0, 1.0, 1.0, 1.0, 0.0, 1.0, 1.0, 1.0, 1.0, 1.0, 0.0, 1.0, 1.0, 1.0, 1.0, 1.0, 1.0, 0.0, 1.0, 1.0, 1.0, 1.0, 0.0, 1.0, 1.0, 0.0, 1.0, 1.0, 1.0, 1.0, 1.0, 0.0, 0.0, 0.0, 1.0, 1.0, 1.0, 0.0, 1.0, 1.0, 0.0, 0.0, 1.0, 0.0, 0.0, 1.0, 1.0, 0.0, 0.0, 1.0, 0.0, 0.0, 1.0, 1.0, 1.0, 1.0, 1.0, 1.0, 0.0, 0.0, 0.0, 1.0, 0.0, 1.0, 1.0, 1.0, 0.0, 0.0, 0.0, 0.0, 0.0, 1.0, 0.0, 0.0, 0.0, 1.0, 1.0, 1.0, 1.0, 0.0, 1.0, 1.0, 1.0, 0.0, 1.0, 1.0, 0.0, 1.0, 0.0, 1.0, 1.0, 1.0, 1.0, 0.0, 1.0, 1.0, 1.0, 1.0, 1.0, 1.0, 1.0, 1.0, 0.0, 0.0, 1.0, 0.0, 1.0, 1.0, 1.0, 0.0, 0.0, 1.0, 1.0, 1.0, 1.0, 1.0, 1.0, 1.0, 0.0, 0.0, 1.0, 1.0, 0.0, 1.0, 1.0, 1.0, 0.0, 1.0, 1.0, 1.0, 0.0, 1.0, 1.0, 0.0, 1.0, 1.0, 1.0, 1.0, 1.0, 0.0, 1.0, 1.0, 1.0, 1.0, 0.0, 1.0, 0.0, 1.0, 0.0, 0.0, 1.0, 1.0, 1.0, 1.0, 1.0, 1.0, 0.0, 1.0, 1.0, 1.0, 1.0, 0.0, 0.0, 1.0, 0.0, 1.0, 1.0, 0.0, 1.0, 0.0, 1.0, 0.0, 0.0, 1.0, 1.0, 1.0, 1.0, 0.0, 0.0, 1.0, 0.0, 0.0], 'tour_cost': 7918682.387904857, 'packing_plan_cost': 882292.0})]"
      ]
     },
     "execution_count": 35,
     "metadata": {},
     "output_type": "execute_result"
    }
   ],
   "source": [
    "pack_optimal([c1, c2], a280_n1395[\"Q\"], sorted_value_to_weight_ratio_dict, a280_n1395[\"item_weights\"])"
   ]
  },
  {
   "cell_type": "code",
   "execution_count": null,
   "metadata": {},
   "outputs": [],
   "source": []
  },
  {
   "cell_type": "code",
   "execution_count": null,
   "metadata": {},
   "outputs": [],
   "source": []
  },
  {
   "cell_type": "code",
   "execution_count": 36,
   "metadata": {},
   "outputs": [],
   "source": [
    "init_pop = generate_initial_population(50,\n",
    "                                       a280_n1395[\"nb_cities\"], \n",
    "                                       \"pack_random\", \n",
    "                                       \"random\", \n",
    "                                       a280_n1395[\"Q\"], \n",
    "                                       a280_n1395[\"value_to_weight_ratio_dict\"],\n",
    "                                       a280_n1395[\"item_weights\"])"
   ]
  },
  {
   "cell_type": "code",
   "execution_count": 37,
   "metadata": {},
   "outputs": [],
   "source": [
    "evaled_pop = []\n",
    "i = 0\n",
    "for candidate_solution in init_pop:\n",
    "    evaluate_candidate_solution_cost_pdist(candidate_solution,\n",
    "                                     a280_n1395[\"pairwise_distances\"],\n",
    "                                     a280_n1395[\"item_to_city_mapping_dict\"],\n",
    "                                     a280_n1395[\"item_weights\"],\n",
    "                                     a280_n1395[\"item_values\"],\n",
    "                                     a280_n1395[\"v_max\"],\n",
    "                                     a280_n1395[\"v_min\"],\n",
    "                                     a280_n1395[\"Q\"],\n",
    "                                     a280_n1395[\"R\"])\n",
    "    i += 1 \n",
    "    evaled_pop.append(candidate_solution)"
   ]
  },
  {
   "cell_type": "code",
   "execution_count": 38,
   "metadata": {},
   "outputs": [],
   "source": [
    "def get_ranks(population): # Ursula\n",
    "    # return (rank, structure()) or candidate solution object as represented above with an additional \"rank\" attribute\n",
    "    # doesn't need to return anything if only adding \"rank\" attribute to candidate solution.\n",
    "    # Probs easier for later functions if just add crowding_distance attribute to candidate solution\n",
    "    #Current front set\n",
    "    f = []\n",
    "    #Sets for the entire population\n",
    "    big_s = []\n",
    "    #dominant individuals for the entire population\n",
    "    big_np = []\n",
    "    for p in population:\n",
    "        #S is the set of individuals that are dominated by p\n",
    "        s = []\n",
    "        #np = the number of individuals that dominate p\n",
    "        np = 0\n",
    "        for q in population:\n",
    "            if q.packing_plan_cost < p.packing_plan_cost and q.tour_cost >= p.tour_cost:\n",
    "                s.append(q)\n",
    "            elif q.packing_plan_cost <= p.packing_plan_cost and q.tour_cost > p.tour_cost:\n",
    "                s.append(q)\n",
    "            elif q.packing_plan_cost > p.packing_plan_cost and q.tour_cost <= p.tour_cost:\n",
    "                np +=1\n",
    "            elif q.packing_plan_cost >= p.packing_plan_cost and q.tour_cost < p.tour_cost:\n",
    "                np +=1\n",
    "        if np == 0:\n",
    "            p.rank = 1\n",
    "            f.append(p)\n",
    "    \n",
    "        big_s.append(s)\n",
    "        big_np.append(np)\n",
    "    front_counter = 1\n",
    "    while len(f) != 0:\n",
    "        #individuals from the i+1 front\n",
    "        q = []\n",
    "        for y in f:\n",
    "            for x in big_s[population.index(y)]:\n",
    "                big_np[population.index(x)] -= 1\n",
    "                if big_np[population.index(x)] == 0:\n",
    "                    x.rank = front_counter+1\n",
    "                    q.append(x)\n",
    "        front_counter += 1\n",
    "        f = q\n",
    "    return None"
   ]
  },
  {
   "cell_type": "code",
   "execution_count": 39,
   "metadata": {},
   "outputs": [],
   "source": [
    "get_ranks(evaled_pop)"
   ]
  },
  {
   "cell_type": "code",
   "execution_count": 40,
   "metadata": {},
   "outputs": [],
   "source": [
    "def get_crowding_distance(population): # Ursula\n",
    "    \n",
    "    ranks = [p.rank for p in population]\n",
    "    max_rank = max(ranks)\n",
    "    dist = []\n",
    "    fronts = []\n",
    "    for i in range(1, max_rank+1):\n",
    "        front = []\n",
    "        distance = []\n",
    "        for q in population:\n",
    "            if q.rank == i:\n",
    "                front.append(q)\n",
    "                distance.append(0)\n",
    "        fronts.append(front)\n",
    "        dist.append(distance)\n",
    "    for i in range(len(fronts)):\n",
    "        fronts[i] = sorted(fronts[i], key=lambda x: x.tour_cost)\n",
    "        dist[i][0] = float('inf')\n",
    "        dist[i][-1] = float('inf')\n",
    "        length = len(fronts[i])\n",
    "        for j in range(1,length-1):\n",
    "            dist[i][j] += (fronts[i][j+1].tour_cost - fronts[i][j-1].tour_cost)/(fronts[i][-1].tour_cost - fronts[i][0].tour_cost)\n",
    "    for i in range(len(fronts)):\n",
    "        fronts[i] = sorted(fronts[i], key=lambda x: x.packing_plan_cost)\n",
    "        dist[i][0] = float('inf')\n",
    "        dist[i][-1] = float('inf')\n",
    "        length = len(fronts[i])\n",
    "        for j in range(1,length-1):\n",
    "            dist[i][j] += (fronts[i][j+1].packing_plan_cost - fronts[i][j-1].packing_plan_cost)/(fronts[i][-1].packing_plan_cost - fronts[i][0].packing_plan_cost)\n",
    "            #Need to update fronts to one list, list to population\n",
    "    for i in range(len(fronts)):\n",
    "        for j in range(len(fronts[i])):\n",
    "            fronts[i][j].crowding_distance = dist[i][j]\n",
    "    new_pop = [item for sublist in fronts for item in sublist]\n",
    "    assert len(new_pop) == len(population)\n",
    "    return population"
   ]
  },
  {
   "cell_type": "code",
   "execution_count": 41,
   "metadata": {},
   "outputs": [],
   "source": [
    "pop = get_crowding_distance(evaled_pop)"
   ]
  },
  {
   "cell_type": "code",
   "execution_count": 42,
   "metadata": {},
   "outputs": [
    {
     "data": {
      "text/plain": [
       "<matplotlib.collections.PathCollection at 0x179754bbb90>"
      ]
     },
     "execution_count": 42,
     "metadata": {},
     "output_type": "execute_result"
    },
    {
     "data": {
      "image/png": "[encoded data removed]",
      "text/plain": [
       "<Figure size 640x480 with 1 Axes>"
      ]
     },
     "metadata": {},
     "output_type": "display_data"
    }
   ],
   "source": [
    "plt.scatter([sol.tour_cost for sol in evaled_pop], [-1 * sol.packing_plan_cost for sol in evaled_pop])"
   ]
  },
  {
   "cell_type": "code",
   "execution_count": 43,
   "metadata": {},
   "outputs": [
    {
     "name": "stdout",
     "output_type": "stream",
     "text": [
      "       tour_cost  packing_plan_cost  rank\n",
      "0   9.425421e+06            -700968     2\n",
      "1   9.821357e+06            -709805     2\n",
      "2   9.425093e+06            -665724     2\n",
      "3   9.823761e+06            -691849     7\n",
      "4   9.842182e+06            -641532     8\n",
      "5   9.394581e+06            -705896     1\n",
      "6   9.697502e+06            -700384     3\n",
      "7   9.473452e+06            -693863     3\n",
      "8   1.028037e+07            -677237    11\n",
      "9   1.004583e+07            -703262     4\n",
      "10  9.795006e+06            -701327     4\n",
      "11  9.670798e+06            -663922     7\n",
      "12  9.991274e+06            -679882    10\n",
      "13  9.523834e+06            -703610     2\n",
      "14  9.625572e+06            -694500     3\n",
      "15  1.001051e+07            -668328    11\n",
      "16  1.023048e+07            -703025     5\n",
      "17  9.804125e+06            -700662     5\n",
      "18  9.723467e+06            -694883     4\n",
      "19  9.705582e+06            -691746     4\n",
      "20  1.031892e+07            -686059     9\n",
      "21  9.541550e+06            -681123     4\n",
      "22  9.762363e+06            -703284     3\n",
      "23  1.013790e+07            -699249     6\n",
      "24  9.627719e+06            -697163     3\n",
      "25  9.546627e+06            -694294     3\n",
      "26  9.940007e+06            -698218     6\n",
      "27  9.346388e+06            -696397     1\n",
      "28  1.031960e+07            -723860     2\n",
      "29  9.945779e+06            -673881     9\n",
      "30  9.808738e+06            -686288     7\n",
      "31  9.733422e+06            -693941     5\n",
      "32  9.736665e+06            -686841     6\n",
      "33  1.003913e+07            -685601     9\n",
      "34  9.850285e+06            -684594     8\n",
      "35  9.585784e+06            -667720     5\n",
      "36  9.637030e+06            -672577     6\n",
      "37  9.937688e+06            -662410     9\n",
      "38  1.000870e+07            -698739     6\n",
      "39  9.704035e+06            -718092     1\n",
      "40  9.808142e+06            -697639     6\n",
      "41  1.019446e+07            -700745     5\n",
      "42  9.913489e+06            -710196     2\n",
      "43  9.871555e+06            -685182     8\n",
      "44  9.950345e+06            -685089     9\n",
      "45  9.930199e+06            -687637     8\n",
      "46  9.800046e+06            -726370     1\n",
      "47  1.056273e+07            -697466     7\n",
      "48  9.999294e+06            -689966     8\n",
      "49  9.594478e+06            -672993     5\n"
     ]
    }
   ],
   "source": [
    "import pandas as pd\n",
    "df = pd.DataFrame()\n",
    "df['tour_cost'] = [sol.tour_cost for sol in evaled_pop]\n",
    "df['packing_plan_cost'] = [-1 * sol.packing_plan_cost for sol in evaled_pop]\n",
    "df[\"rank\"] = [sol.rank for sol in evaled_pop]\n",
    "print(df)"
   ]
  },
  {
   "cell_type": "code",
   "execution_count": 44,
   "metadata": {},
   "outputs": [
    {
     "data": {
      "text/plain": [
       "<Axes: xlabel='tour_cost', ylabel='packing_plan_cost'>"
      ]
     },
     "execution_count": 44,
     "metadata": {},
     "output_type": "execute_result"
    },
    {
     "data": {
      "image/png": "[encoded data removed]",
      "text/plain": [
       "<Figure size 1170x827 with 1 Axes>"
      ]
     },
     "metadata": {},
     "output_type": "display_data"
    }
   ],
   "source": [
    "import seaborn as sns\n",
    "sns.set(rc={'figure.figsize':(11.7,8.27)})\n",
    "sns.scatterplot(x='tour_cost', y='packing_plan_cost', data=df, hue='rank',palette = \"viridis\")"
   ]
  },
  {
   "cell_type": "code",
   "execution_count": 45,
   "metadata": {},
   "outputs": [
    {
     "data": {
      "text/plain": [
       "<matplotlib.collections.PathCollection at 0x17975641c50>"
      ]
     },
     "execution_count": 45,
     "metadata": {},
     "output_type": "execute_result"
    },
    {
     "data": {
      "image/png": "[encoded data removed]",
      "text/plain": [
       "<Figure size 1170x827 with 1 Axes>"
      ]
     },
     "metadata": {},
     "output_type": "display_data"
    }
   ],
   "source": [
    "plt.scatter([sol.tour_cost for sol in evaled_pop], [-1 * sol.packing_plan_cost for sol in evaled_pop])"
   ]
  },
  {
   "cell_type": "code",
   "execution_count": null,
   "metadata": {},
   "outputs": [],
   "source": []
  },
  {
   "cell_type": "code",
   "execution_count": 46,
   "metadata": {},
   "outputs": [],
   "source": [
    "def tournament_selection(population): # Swaroop\n",
    "    \n",
    "    \"\"\"\n",
    "      .\n",
    "\n",
    "    Parameters:\n",
    "    - population (list): list of candidate solutions represented as structures\n",
    "      from the ypstruct library with the following attributes:\n",
    "        - tour (numpy.ndarray): An array representing the sequence of cities visited.\n",
    "        - knapsack (numpy.ndarray): A binary array indicating items picked (1) or not (0).\n",
    "        - knapsack_cost (float): The total value of the knapsack\n",
    "        - tour_cost (float): The total length of the tour\n",
    "        - rank (integer): The NSGA-II rank of the candidate solution\n",
    "        - crowding_distance (float): the NSGA-II crowding distance of the candidate solution\n",
    "    \n",
    "    Randomly select 2 candidate solutions from the population (without replacement) compare first their rank (return) the one with the lowest \n",
    "    rank. If they have the same rank, return solution with greater crowding distance.\n",
    "\n",
    "    Return: \n",
    "    ypstruct.Struct: candidate solution represented in the same way as the candidate solutions in the population\n",
    "    \"\"\"\n",
    "\n",
    "  # Randomly select 2 candidate solutions from the population (without replacement)\n",
    "    candidates = random.sample(population, k=2)\n",
    "    # Compare their ranks\n",
    "    if candidates[0].rank < candidates[1].rank:\n",
    "        return candidates[0]  # Return the solution with lower rank\n",
    "    elif candidates[0].rank > candidates[1].rank:\n",
    "        return candidates[1]  # Return the solution with lower rank\n",
    "    else:  # If ranks are equal, choose the one with greater crowding distance\n",
    "        if candidates[0].crowding_distance > candidates[1].crowding_distance:\n",
    "            return candidates[0]  # Return the solution with greater crowding distance\n",
    "        else:\n",
    "            return candidates[1]  # Return the solution with greater crowding distance"
   ]
  },
  {
   "cell_type": "code",
   "execution_count": 47,
   "metadata": {},
   "outputs": [],
   "source": [
    "for candidate_solution in ex_init_pop:\n",
    "    candidate_solution.rank = random.sample(list(range(1, 4)), k = 1)[0]\n",
    "    candidate_solution.crowding_distance = np.random.random(1)[0]"
   ]
  },
  {
   "cell_type": "code",
   "execution_count": 48,
   "metadata": {},
   "outputs": [
    {
     "data": {
      "text/plain": [
       "[struct({'tour': [0, 1, 2, 3], 'packing_plan': [0, 0, 0, 0], 'tour_cost': 20.0, 'packing_plan_cost': 0, 'rank': 1, 'crowding_distance': 0.8695285014098789}),\n",
       " struct({'tour': [0, 3, 2, 1], 'packing_plan': [0, 0, 0, 0], 'tour_cost': 20.0, 'packing_plan_cost': 0, 'rank': 2, 'crowding_distance': 0.16990350150272748}),\n",
       " struct({'tour': [0, 1, 2, 3], 'packing_plan': [0, 0, 0, 1], 'tour_cost': 20.927986906710313, 'packing_plan_cost': 25, 'rank': 1, 'crowding_distance': 0.1594958361013903}),\n",
       " struct({'tour': [0, 3, 2, 1], 'packing_plan': [0, 1, 0, 0], 'tour_cost': 22.037735849056602, 'packing_plan_cost': 34, 'rank': 2, 'crowding_distance': 0.14830250120813715}),\n",
       " struct({'tour': [0, 3, 2, 1], 'packing_plan': [0, 0, 1, 0], 'tour_cost': 27.363636363636363, 'packing_plan_cost': 40, 'rank': 1, 'crowding_distance': 0.8542990762140269}),\n",
       " struct({'tour': [0, 2, 1, 3], 'packing_plan': [0, 1, 0, 1], 'tour_cost': 28.585292978476183, 'packing_plan_cost': 59, 'rank': 3, 'crowding_distance': 0.14688654800123047}),\n",
       " struct({'tour': [0, 3, 2, 1], 'packing_plan': [1, 1, 0, 0], 'tour_cost': 32.75267284390591, 'packing_plan_cost': 64, 'rank': 3, 'crowding_distance': 0.1691759544500916}),\n",
       " struct({'tour': [0, 1, 2, 3], 'packing_plan': [0, 0, 1, 1], 'tour_cost': 33.107207533502354, 'packing_plan_cost': 65, 'rank': 2, 'crowding_distance': 0.6485029249292112}),\n",
       " struct({'tour': [0, 3, 2, 1], 'packing_plan': [0, 1, 1, 0], 'tour_cost': 38.91443850267379, 'packing_plan_cost': 74, 'rank': 1, 'crowding_distance': 0.11154455714623046}),\n",
       " struct({'tour': [0, 2, 1, 3], 'packing_plan': [1, 1, 0, 1], 'tour_cost': 53.28267014033966, 'packing_plan_cost': 89, 'rank': 1, 'crowding_distance': 0.8991345986616402})]"
      ]
     },
     "execution_count": 48,
     "metadata": {},
     "output_type": "execute_result"
    }
   ],
   "source": [
    "ex_init_pop"
   ]
  },
  {
   "cell_type": "code",
   "execution_count": 49,
   "metadata": {},
   "outputs": [],
   "source": [
    "def derive_tour_from_packing_plan(candidate_solution, item_to_city_mapping_dict, item_weights):\n",
    "    weight_at_city_i = [\n",
    "            sum(np.array(candidate_solution.packing_plan)[item_to_city_mapping_dict[city]] * item_weights[item_to_city_mapping_dict[city]]) for city in candidate_solution.tour\n",
    "        ]\n",
    "    weight_at_city_i_dict = dict(zip(candidate_solution.tour, weight_at_city_i))\n",
    "    sorted_weight_at_city_i_dict = dict(sorted(weight_at_city_i_dict.items(), key=lambda x:x[1], reverse = False))\n",
    "    return list(sorted_weight_at_city_i_dict)"
   ]
  },
  {
   "cell_type": "code",
   "execution_count": 127,
   "metadata": {},
   "outputs": [],
   "source": [
    "def tour_mutation(c1, c2, mutation_type):\n",
    "    # perform an inversion mutation\n",
    "    child1 = c1.copy()\n",
    "    child2 = c2.copy()\n",
    "    if mutation_type == \"inversion\":\n",
    "      # select two random positions, the cities between both positions will be inverted\n",
    "      pos1, pos2 = random.sample(range(len(child1.tour)), 2)\n",
    "      start, end = min(pos1, pos2), max(pos1, pos2)\n",
    "      # reverse the segment between the selected positions\n",
    "      child1.tour[start:end + 1] = child1.tour[start:end + 1][::-1]\n",
    "\n",
    "      pos1, pos2 = random.sample(range(len(child2.tour)), 2)\n",
    "      start, end = min(pos1, pos2), max(pos1, pos2)\n",
    "      child2.tour[start:end + 1] = child2.tour[start:end + 1][::-1]\n",
    "\n",
    "      return child1, child2\n",
    "  \n",
    "    elif mutation_type == \"single_swap\":\n",
    "      idx = range(len(child1.tour))\n",
    "      # randomly select what two positions will be swapped in the chromosome\n",
    "      i1, i2 = random.sample(idx, 2)\n",
    "      child1.tour[i1], child1.tour[i2] = child1.tour[i2], child1.tour[i1]\n",
    "\n",
    "      idx = range(len(child2.tour))\n",
    "      # randomly select what two positions will be swapped in the chromosome\n",
    "      i1, i2 = random.sample(idx, 2)\n",
    "      child2.tour[i1], child2.tour[i2] = child2.tour[i2], child2.tour[i1]\n",
    "\n",
    "      return child1, child2"
   ]
  },
  {
   "cell_type": "code",
   "execution_count": 121,
   "metadata": {},
   "outputs": [
    {
     "name": "stdout",
     "output_type": "stream",
     "text": [
      "5 0\n",
      "5 4\n"
     ]
    },
    {
     "data": {
      "text/plain": [
       "(struct({'tour': [5, 1, 2, 3, 4, 0, 6, 7, 8, 9]}),\n",
       " struct({'tour': [10, 11, 12, 13, 15, 14, 16, 17, 18, 19]}))"
      ]
     },
     "execution_count": 121,
     "metadata": {},
     "output_type": "execute_result"
    }
   ],
   "source": [
    "ex = structure()\n",
    "ex1 = structure()\n",
    "ex.tour = list(range(10))\n",
    "ex1.tour = list(range(10, 20))\n",
    "tour_mutation(ex, ex1, \"single_swap\")"
   ]
  },
  {
   "cell_type": "code",
   "execution_count": 123,
   "metadata": {},
   "outputs": [],
   "source": [
    "def packing_plan_mutation(c1, c2, mutation_percentage):\n",
    "    child1 = c1.copy()\n",
    "    child2 = c2.copy()\n",
    "    nb_items = len(child1.packing_plan)\n",
    "    vector = np.zeros(nb_items, dtype=int)\n",
    "    vector[:(int(nb_items*mutation_percentage))] = 1\n",
    "    \n",
    "    np.random.shuffle(vector)\n",
    "    child1.packing_plan = list(np.where(vector == 1, 1 - np.array(child1.packing_plan), np.array(child1.packing_plan)))\n",
    "\n",
    "    np.random.shuffle(vector)\n",
    "    child2.packing_plan = list(np.where(vector == 1, 1 - np.array(child2.packing_plan), np.array(child2.packing_plan)))\n",
    "\n",
    "    return child1, child2"
   ]
  },
  {
   "cell_type": "code",
   "execution_count": 84,
   "metadata": {},
   "outputs": [],
   "source": [
    "def replacement(population: list[structure], nb_cities) -> list:\n",
    "    \n",
    "    \"\"\"\n",
    "    Perform replacement in a population by selecting individuals based on rank and crowding distance.\n",
    "\n",
    "    Parameters:\n",
    "    - population (list[structure]): A list of structures representing individuals in the population.\n",
    "    \n",
    "    Returns:\n",
    "    - list[structure]: A list of individuals selected for the next generation based on their rank and crowding distance.\n",
    "    \"\"\"\n",
    "        \n",
    "    return sorted(population, key=lambda x: (x.rank, -x.crowding_distance))[0:nb_cities]"
   ]
  },
  {
   "cell_type": "code",
   "execution_count": 85,
   "metadata": {},
   "outputs": [
    {
     "data": {
      "text/plain": [
       "(struct({'tour': [0, 1, 2, 3], 'packing_plan': [1, 1, 1, 0, 0, 0, 0], 'tour_cost': 20.0, 'packing_plan_cost': 0, 'rank': 1, 'crowding_distance': 0.8695285014098789}),\n",
       " struct({'tour': [0, 1, 2, 3], 'packing_plan': [0, 1, 1, 0, 1, 1, 1], 'tour_cost': 20.0, 'packing_plan_cost': 0, 'rank': 1, 'crowding_distance': 0.8695285014098789}))"
      ]
     },
     "execution_count": 85,
     "metadata": {},
     "output_type": "execute_result"
    }
   ],
   "source": [
    "ex.packing_plan = [0, 1, 1, 0, 1, 0, 0]\n",
    "\n",
    "packing_plan_mutation(ex, ex.copy(), 2/7)"
   ]
  },
  {
   "cell_type": "code",
   "execution_count": 86,
   "metadata": {},
   "outputs": [],
   "source": [
    "def repair_packing_plan(candidate_solution, Q, item_weights):\n",
    "    packing_plan = np.array(candidate_solution.packing_plan)\n",
    "    selected_items = list(np.nonzero(packing_plan))\n",
    "    selected_items_weights = item_weights[selected_items]\n",
    "    while np.sum(selected_items_weights) > Q:\n",
    "        candidate_solution.packing_plan[random.sample(list(selected_items[0]), k = 1)[0]] = 0\n",
    "        packing_plan = np.array(candidate_solution.packing_plan)\n",
    "        selected_items = list(np.nonzero(packing_plan))\n",
    "        selected_items_weights = item_weights[selected_items]"
   ]
  },
  {
   "cell_type": "code",
   "execution_count": 87,
   "metadata": {},
   "outputs": [
    {
     "data": {
      "text/plain": [
       "struct({'tour': [0, 1, 2, 3], 'packing_plan': [1, 1, 1, 1], 'tour_cost': 20.0, 'packing_plan_cost': 0, 'rank': 1, 'crowding_distance': 0.8695285014098789})"
      ]
     },
     "execution_count": 87,
     "metadata": {},
     "output_type": "execute_result"
    }
   ],
   "source": [
    "ex = ex_init_pop[0].copy()\n",
    "ex.packing_plan = [1, 1, 1, 1]\n",
    "repair_packing_plan(ex, 80, item_weights)\n",
    "ex"
   ]
  },
  {
   "cell_type": "code",
   "execution_count": 88,
   "metadata": {},
   "outputs": [],
   "source": [
    "def get_pareto_front(population):\n",
    "    p_front = []\n",
    "    for i in population:\n",
    "        if i.rank == 1:\n",
    "            p_front.append(i)\n",
    "    return p_front"
   ]
  },
  {
   "cell_type": "code",
   "execution_count": null,
   "metadata": {},
   "outputs": [],
   "source": []
  },
  {
   "cell_type": "code",
   "execution_count": 89,
   "metadata": {},
   "outputs": [],
   "source": [
    "ttp_instance = read_TTP_instance_data(\"../data/a280-n279.txt\")\n",
    "nb_cities = ttp_instance[\"nb_cities\"]\n",
    "nb_items = ttp_instance[\"nb_items\"]\n",
    "Q = ttp_instance[\"Q\"]\n",
    "vmin = ttp_instance[\"v_min\"]\n",
    "vmax = ttp_instance[\"v_max\"]\n",
    "R = ttp_instance[\"R\"]\n",
    "pairwise_distances = ttp_instance[\"pairwise_distances\"]\n",
    "item_to_city_mapping_dict = ttp_instance[\"item_to_city_mapping_dict\"]\n",
    "item_weights = ttp_instance[\"item_weights\"]\n",
    "item_values = ttp_instance[\"item_values\"]\n",
    "value_to_weight_ratio_dict = ttp_instance[\"value_to_weight_ratio_dict\"]"
   ]
  },
  {
   "cell_type": "markdown",
   "metadata": {},
   "source": [
    "Pop size = 100, Random tour packing, pack_optimal, only OX1 crossover, inversion mutation and only 50 children"
   ]
  },
  {
   "cell_type": "code",
   "execution_count": 90,
   "metadata": {},
   "outputs": [],
   "source": [
    "population = generate_initial_population(50, nb_cities, \"pack_random\", \"random\", Q, value_to_weight_ratio_dict, item_weights)"
   ]
  },
  {
   "cell_type": "code",
   "execution_count": 91,
   "metadata": {},
   "outputs": [
    {
     "name": "stdout",
     "output_type": "stream",
     "text": [
      "50\n"
     ]
    }
   ],
   "source": [
    "print(len(pop))"
   ]
  },
  {
   "cell_type": "code",
   "execution_count": 92,
   "metadata": {},
   "outputs": [
    {
     "data": {
      "text/plain": [
       "578277.5076711853"
      ]
     },
     "execution_count": 92,
     "metadata": {},
     "output_type": "execute_result"
    }
   ],
   "source": [
    "tour_cost_pdist(population[0], pairwise_distances, item_to_city_mapping_dict, item_weights, vmax, vmin, Q, R)"
   ]
  },
  {
   "cell_type": "code",
   "execution_count": 93,
   "metadata": {},
   "outputs": [
    {
     "data": {
      "text/plain": [
       "27508"
      ]
     },
     "execution_count": 93,
     "metadata": {},
     "output_type": "execute_result"
    }
   ],
   "source": [
    "knapsack_cost(population[0], item_values)"
   ]
  },
  {
   "cell_type": "code",
   "execution_count": 94,
   "metadata": {},
   "outputs": [],
   "source": [
    "for candidate_solution in population:\n",
    "    evaluate_candidate_solution_cost_pdist(\n",
    "        candidate_solution, \n",
    "        pairwise_distances,\n",
    "        item_to_city_mapping_dict, \n",
    "        item_weights,\n",
    "        item_values,\n",
    "        vmax, \n",
    "        vmin,  \n",
    "        Q,\n",
    "        R\n",
    "    )"
   ]
  },
  {
   "cell_type": "code",
   "execution_count": 95,
   "metadata": {},
   "outputs": [
    {
     "data": {
      "text/plain": [
       "[struct({'tour': [188, 92, 83, 5, 227, 205, 176, 214, 217, 14, 273, 20, 72, 15, 221, 95, 257, 44, 103, 209, 262, 175, 143, 35, 239, 246, 57, 275, 142, 69, 133, 138, 253, 163, 54, 109, 278, 136, 120, 194, 152, 274, 41, 37, 228, 25, 234, 181, 51, 182, 108, 264, 225, 28, 119, 279, 164, 199, 31, 49, 30, 171, 146, 238, 75, 12, 88, 90, 240, 159, 266, 16, 226, 222, 58, 155, 66, 45, 6, 84, 233, 210, 43, 153, 177, 161, 127, 191, 200, 185, 91, 265, 216, 104, 56, 256, 268, 80, 82, 267, 261, 259, 118, 114, 277, 276, 168, 241, 105, 237, 110, 73, 260, 70, 196, 224, 42, 13, 189, 29, 123, 172, 141, 178, 235, 125, 38, 139, 106, 140, 87, 52, 249, 165, 79, 33, 55, 8, 137, 129, 18, 263, 121, 223, 186, 60, 206, 63, 247, 76, 93, 158, 32, 148, 64, 97, 2, 96, 208, 151, 230, 236, 242, 10, 272, 111, 156, 150, 201, 180, 68, 203, 229, 117, 107, 74, 89, 77, 67, 157, 134, 144, 1, 162, 166, 85, 94, 174, 169, 211, 47, 219, 71, 81, 98, 244, 26, 19, 250, 271, 40, 170, 213, 147, 122, 160, 232, 269, 22, 46, 135, 220, 197, 101, 48, 62, 78, 248, 59, 113, 190, 215, 243, 131, 204, 187, 100, 270, 112, 34, 202, 61, 255, 128, 53, 130, 4, 9, 154, 21, 173, 149, 132, 195, 0, 99, 39, 207, 145, 27, 258, 124, 252, 116, 50, 245, 167, 86, 218, 198, 254, 183, 251, 11, 184, 3, 115, 212, 193, 231, 17, 36, 192, 102, 126, 23, 24, 179, 65, 7], 'packing_plan': [0, 0, 0, 0, 0, 0, 0, 0, 0, 0, 0, 0, 0, 0, 0, 0, 0, 0, 0, 0, 0, 0, 0, 0, 1, 0, 0, 0, 0, 0, 0, 0, 0, 0, 0, 0, 0, 0, 0, 0, 0, 0, 0, 0, 0, 0, 0, 0, 1, 0, 0, 0, 0, 0, 0, 0, 0, 0, 0, 0, 0, 0, 0, 0, 0, 0, 0, 0, 0, 0, 0, 0, 1, 0, 0, 0, 1, 0, 0, 0, 0, 0, 0, 0, 0, 0, 1, 0, 0, 1, 0, 0, 0, 0, 0, 0, 0, 0, 0, 0, 0, 0, 0, 0, 0, 0, 0, 0, 0, 0, 0, 0, 0, 0, 0, 0, 0, 0, 0, 0, 0, 0, 0, 0, 0, 0, 0, 0, 0, 0, 0, 1, 0, 0, 0, 1, 0, 0, 0, 0, 0, 0, 0, 0, 0, 1, 0, 0, 0, 0, 0, 0, 0, 1, 0, 0, 0, 1, 0, 0, 0, 0, 0, 0, 0, 0, 0, 0, 0, 0, 0, 0, 0, 0, 1, 0, 0, 0, 0, 0, 0, 0, 0, 0, 0, 0, 0, 1, 0, 0, 0, 0, 0, 0, 0, 0, 0, 0, 1, 0, 0, 0, 0, 0, 0, 0, 0, 0, 0, 0, 0, 0, 0, 0, 0, 0, 0, 0, 0, 0, 0, 0, 0, 0, 0, 0, 0, 0, 0, 0, 0, 0, 1, 0, 0, 0, 0, 0, 0, 0, 1, 0, 0, 1, 0, 0, 0, 0, 0, 0, 0, 0, 0, 0, 1, 0, 0, 0, 0, 0, 0, 0, 0, 0, 0, 0, 1, 0, 0, 0, 0, 0, 1, 0, 0, 0, 1, 0, 1], 'tour_cost': 578277.5076711853, 'packing_plan_cost': 27508, 'rank': 12, 'crowding_distance': inf}),\n",
       " struct({'tour': [156, 64, 56, 208, 229, 61, 45, 119, 194, 38, 108, 271, 112, 144, 214, 26, 234, 60, 131, 1, 94, 180, 25, 226, 121, 150, 164, 191, 118, 207, 272, 149, 255, 224, 173, 80, 99, 42, 254, 168, 190, 148, 78, 51, 52, 75, 167, 202, 134, 138, 72, 276, 198, 36, 159, 48, 29, 100, 73, 244, 10, 225, 105, 193, 143, 87, 140, 184, 2, 142, 5, 122, 218, 230, 117, 120, 185, 176, 247, 275, 59, 46, 147, 179, 270, 88, 217, 257, 18, 30, 114, 188, 216, 152, 71, 161, 215, 24, 31, 103, 113, 241, 154, 28, 153, 0, 12, 35, 166, 14, 133, 89, 58, 8, 54, 44, 155, 239, 259, 116, 130, 264, 53, 238, 277, 83, 77, 186, 129, 174, 267, 183, 246, 4, 49, 266, 136, 81, 110, 33, 67, 57, 250, 109, 171, 151, 261, 104, 253, 268, 15, 232, 251, 199, 163, 66, 175, 160, 252, 243, 6, 203, 248, 125, 170, 128, 92, 274, 98, 123, 34, 240, 20, 132, 146, 16, 96, 69, 235, 22, 223, 209, 55, 158, 181, 127, 41, 245, 196, 213, 102, 177, 205, 178, 11, 210, 63, 189, 32, 197, 126, 97, 195, 39, 262, 187, 222, 256, 278, 91, 13, 157, 50, 279, 260, 169, 265, 70, 145, 37, 236, 82, 201, 233, 269, 182, 273, 106, 115, 85, 9, 135, 23, 237, 139, 93, 204, 242, 79, 162, 90, 258, 62, 47, 231, 101, 19, 7, 68, 74, 84, 27, 228, 76, 263, 137, 219, 86, 172, 111, 17, 165, 40, 220, 227, 21, 65, 192, 107, 206, 212, 211, 3, 200, 141, 95, 249, 221, 43, 124], 'packing_plan': [0, 0, 0, 0, 0, 1, 0, 0, 0, 0, 0, 0, 0, 0, 0, 0, 0, 0, 0, 0, 0, 0, 0, 0, 0, 0, 0, 0, 0, 0, 0, 0, 0, 0, 0, 0, 0, 0, 0, 0, 1, 0, 0, 0, 0, 0, 1, 0, 0, 0, 0, 0, 0, 0, 0, 0, 0, 0, 0, 0, 0, 0, 0, 0, 0, 1, 0, 1, 0, 0, 0, 0, 0, 1, 0, 0, 0, 0, 0, 0, 0, 0, 0, 0, 0, 0, 0, 0, 0, 0, 0, 0, 0, 0, 0, 0, 0, 0, 0, 0, 0, 1, 0, 0, 0, 0, 0, 0, 0, 0, 0, 0, 0, 1, 0, 0, 0, 1, 0, 0, 1, 0, 0, 0, 0, 0, 0, 0, 0, 0, 0, 0, 0, 0, 0, 0, 0, 0, 0, 0, 0, 0, 0, 0, 0, 0, 0, 0, 0, 0, 0, 0, 0, 0, 0, 0, 0, 0, 0, 0, 0, 0, 0, 0, 0, 0, 1, 0, 0, 0, 0, 0, 0, 0, 0, 0, 0, 0, 0, 0, 0, 0, 0, 1, 0, 1, 0, 0, 0, 0, 0, 0, 0, 0, 0, 0, 0, 0, 0, 0, 0, 0, 0, 0, 0, 0, 0, 0, 0, 0, 0, 0, 0, 0, 0, 0, 0, 0, 0, 0, 1, 0, 0, 0, 1, 1, 0, 1, 0, 1, 0, 0, 0, 0, 0, 1, 0, 0, 0, 0, 0, 0, 1, 0, 0, 0, 1, 0, 0, 0, 0, 0, 0, 0, 0, 0, 0, 0, 0, 1, 0, 0, 0, 0, 0, 0, 0, 0, 0, 0, 0, 0, 0, 0, 0, 0, 1, 0, 0], 'tour_cost': 400917.38732571295, 'packing_plan_cost': 28159, 'rank': 5, 'crowding_distance': inf}),\n",
       " struct({'tour': [143, 1, 114, 80, 272, 241, 50, 268, 177, 8, 136, 163, 131, 3, 186, 170, 28, 124, 198, 106, 56, 162, 151, 107, 165, 111, 171, 52, 276, 103, 227, 102, 119, 175, 182, 251, 100, 158, 73, 234, 128, 206, 96, 248, 219, 172, 150, 212, 192, 147, 20, 275, 216, 190, 265, 0, 129, 115, 139, 2, 252, 195, 109, 19, 55, 35, 145, 270, 211, 245, 258, 140, 12, 247, 112, 75, 64, 27, 255, 202, 246, 152, 37, 174, 23, 81, 79, 77, 26, 9, 137, 181, 76, 191, 134, 110, 257, 244, 82, 11, 47, 279, 215, 233, 15, 249, 273, 116, 93, 125, 226, 65, 208, 259, 196, 91, 218, 169, 148, 49, 86, 104, 235, 98, 264, 161, 46, 30, 22, 229, 61, 16, 58, 207, 36, 193, 166, 7, 205, 14, 189, 267, 168, 62, 5, 118, 44, 154, 40, 53, 66, 236, 89, 222, 176, 256, 45, 187, 21, 113, 78, 203, 71, 138, 54, 173, 70, 32, 228, 108, 261, 185, 60, 232, 210, 144, 130, 224, 160, 39, 142, 217, 24, 83, 146, 13, 214, 225, 33, 59, 95, 101, 271, 156, 200, 85, 41, 230, 29, 188, 68, 221, 63, 250, 117, 197, 74, 220, 178, 4, 25, 127, 10, 92, 88, 183, 266, 204, 278, 262, 155, 223, 84, 99, 122, 194, 201, 121, 126, 263, 87, 180, 213, 6, 164, 237, 157, 242, 153, 277, 51, 159, 141, 184, 105, 209, 120, 167, 90, 34, 239, 123, 253, 135, 133, 43, 97, 269, 17, 199, 31, 149, 240, 57, 132, 67, 231, 254, 69, 18, 179, 274, 72, 42, 243, 48, 38, 238, 94, 260], 'packing_plan': [0, 0, 0, 0, 1, 1, 0, 1, 0, 0, 0, 0, 0, 0, 1, 0, 0, 0, 0, 0, 1, 0, 0, 0, 1, 0, 0, 1, 0, 0, 0, 0, 0, 0, 1, 0, 0, 0, 0, 1, 0, 0, 0, 1, 0, 0, 0, 0, 0, 0, 0, 0, 0, 0, 0, 0, 0, 0, 0, 0, 0, 0, 0, 0, 0, 0, 0, 0, 0, 0, 0, 0, 1, 0, 0, 1, 1, 0, 0, 0, 0, 0, 0, 0, 0, 0, 0, 0, 1, 0, 0, 0, 0, 0, 0, 0, 0, 0, 1, 0, 0, 0, 0, 1, 0, 1, 0, 0, 0, 0, 0, 0, 0, 0, 0, 0, 0, 0, 0, 0, 0, 1, 0, 0, 0, 0, 0, 0, 0, 0, 0, 0, 0, 0, 0, 0, 0, 0, 0, 0, 0, 1, 0, 0, 0, 0, 0, 0, 0, 0, 1, 0, 0, 0, 0, 0, 0, 0, 0, 0, 0, 0, 0, 0, 0, 0, 0, 0, 1, 0, 0, 0, 0, 0, 0, 0, 0, 0, 0, 0, 0, 0, 0, 0, 0, 0, 0, 0, 0, 0, 1, 0, 0, 0, 0, 0, 0, 0, 0, 0, 0, 0, 1, 0, 0, 0, 0, 0, 0, 0, 0, 0, 1, 0, 0, 1, 0, 0, 0, 0, 0, 0, 0, 0, 0, 0, 0, 0, 0, 0, 0, 0, 0, 0, 0, 1, 0, 0, 0, 0, 0, 0, 0, 0, 0, 0, 0, 1, 0, 0, 0, 0, 0, 0, 0, 0, 0, 0, 0, 0, 0, 0, 0, 0, 0, 0, 0, 0, 0, 0, 0, 0, 0, 0, 0, 0, 0, 1, 0], 'tour_cost': 733468.6599066182, 'packing_plan_cost': 30993, 'rank': 7, 'crowding_distance': inf}),\n",
       " struct({'tour': [5, 33, 27, 62, 177, 7, 68, 134, 257, 107, 109, 8, 65, 256, 239, 194, 260, 23, 73, 66, 254, 189, 6, 20, 26, 70, 47, 75, 37, 114, 31, 146, 271, 110, 168, 176, 242, 250, 195, 42, 187, 170, 222, 269, 251, 160, 201, 221, 32, 273, 120, 165, 132, 105, 121, 25, 104, 229, 215, 123, 224, 94, 261, 136, 158, 186, 53, 147, 10, 141, 9, 103, 200, 175, 64, 230, 133, 279, 204, 24, 148, 38, 106, 52, 101, 58, 18, 234, 125, 196, 233, 157, 235, 81, 208, 162, 54, 50, 244, 144, 118, 145, 17, 206, 83, 247, 91, 108, 207, 92, 14, 100, 124, 36, 39, 205, 227, 117, 138, 225, 95, 263, 226, 82, 228, 46, 219, 78, 255, 128, 266, 171, 277, 265, 77, 262, 154, 216, 89, 253, 97, 173, 164, 35, 236, 153, 15, 3, 182, 11, 43, 276, 245, 60, 1, 22, 174, 252, 178, 87, 258, 274, 232, 212, 57, 213, 210, 167, 218, 238, 172, 13, 19, 76, 199, 88, 45, 131, 115, 188, 143, 183, 112, 12, 203, 0, 275, 268, 90, 79, 149, 48, 99, 179, 161, 156, 223, 67, 4, 217, 190, 49, 84, 102, 72, 51, 55, 209, 150, 116, 113, 270, 166, 193, 249, 264, 243, 135, 74, 16, 85, 127, 80, 34, 129, 61, 86, 56, 140, 126, 272, 21, 197, 211, 71, 29, 155, 191, 69, 63, 152, 181, 159, 122, 241, 111, 202, 119, 198, 40, 98, 130, 192, 214, 248, 237, 93, 142, 278, 163, 139, 267, 30, 151, 240, 169, 59, 220, 44, 180, 231, 41, 184, 137, 96, 246, 259, 28, 185, 2], 'packing_plan': [0, 0, 0, 0, 0, 0, 0, 0, 0, 1, 1, 1, 0, 0, 0, 0, 0, 1, 0, 0, 0, 0, 0, 0, 0, 1, 0, 0, 0, 0, 0, 0, 0, 0, 0, 0, 0, 0, 0, 1, 0, 0, 1, 0, 0, 0, 0, 0, 0, 0, 0, 0, 0, 0, 0, 1, 0, 0, 0, 0, 0, 0, 0, 0, 0, 0, 0, 0, 0, 0, 0, 0, 0, 0, 0, 0, 0, 0, 0, 0, 0, 0, 0, 0, 0, 0, 0, 0, 0, 0, 0, 0, 0, 1, 0, 0, 0, 0, 0, 0, 0, 0, 1, 0, 0, 0, 0, 0, 0, 0, 0, 0, 0, 0, 0, 0, 0, 0, 1, 0, 1, 1, 0, 0, 0, 0, 0, 0, 1, 0, 0, 0, 0, 0, 1, 0, 0, 0, 0, 0, 0, 0, 0, 0, 0, 0, 1, 0, 0, 0, 1, 0, 0, 0, 0, 0, 0, 0, 0, 0, 0, 0, 1, 0, 0, 1, 0, 0, 0, 0, 0, 0, 0, 0, 0, 0, 0, 0, 0, 0, 0, 0, 0, 0, 0, 0, 0, 0, 0, 0, 0, 0, 0, 0, 0, 0, 0, 0, 0, 0, 1, 0, 0, 0, 0, 0, 0, 0, 0, 0, 0, 0, 1, 0, 0, 1, 0, 0, 0, 0, 0, 0, 0, 0, 0, 1, 0, 0, 0, 0, 0, 0, 1, 0, 0, 0, 0, 0, 0, 1, 0, 0, 0, 0, 0, 0, 0, 0, 0, 0, 0, 0, 0, 0, 1, 0, 0, 0, 1, 0, 0, 0, 0, 0, 1, 0, 0, 0, 0, 0, 0, 0, 0, 0, 0, 0, 0, 0, 0], 'tour_cost': 465839.1627252506, 'packing_plan_cost': 30643, 'rank': 5, 'crowding_distance': 0.22316196724167214}),\n",
       " struct({'tour': [79, 138, 212, 140, 86, 192, 203, 119, 15, 228, 132, 190, 184, 216, 165, 235, 93, 53, 134, 249, 9, 70, 245, 29, 83, 166, 82, 219, 114, 255, 246, 145, 103, 158, 19, 172, 152, 73, 205, 218, 143, 22, 210, 41, 30, 107, 147, 201, 176, 206, 274, 56, 231, 168, 200, 50, 149, 105, 44, 7, 111, 59, 10, 229, 57, 226, 102, 123, 118, 276, 273, 84, 46, 55, 104, 230, 240, 146, 272, 191, 100, 34, 5, 72, 221, 267, 18, 199, 136, 96, 45, 137, 269, 36, 12, 77, 87, 13, 148, 21, 24, 32, 173, 258, 182, 28, 64, 131, 92, 106, 20, 195, 26, 76, 126, 207, 178, 215, 42, 155, 2, 66, 94, 67, 80, 48, 122, 177, 213, 251, 71, 68, 62, 222, 49, 247, 174, 17, 129, 37, 127, 243, 38, 109, 159, 128, 25, 242, 133, 164, 85, 142, 89, 31, 35, 169, 244, 60, 170, 264, 270, 175, 108, 252, 91, 250, 135, 217, 208, 139, 141, 63, 144, 95, 225, 183, 262, 14, 256, 150, 125, 268, 214, 113, 188, 112, 3, 101, 120, 220, 160, 163, 43, 167, 121, 227, 254, 171, 185, 1, 277, 239, 196, 98, 223, 266, 52, 11, 110, 88, 257, 253, 234, 151, 181, 236, 279, 39, 74, 238, 0, 54, 180, 23, 69, 237, 193, 33, 260, 265, 202, 40, 204, 81, 75, 198, 117, 51, 115, 232, 179, 197, 211, 154, 157, 275, 278, 261, 233, 99, 27, 194, 4, 263, 241, 116, 186, 259, 78, 271, 187, 248, 16, 65, 153, 6, 156, 58, 162, 161, 61, 209, 130, 97, 189, 8, 47, 224, 90, 124], 'packing_plan': [0, 0, 0, 0, 0, 0, 0, 0, 1, 0, 0, 0, 1, 0, 0, 0, 0, 0, 0, 0, 0, 0, 0, 0, 0, 0, 0, 0, 1, 0, 0, 0, 0, 0, 0, 0, 0, 0, 0, 0, 0, 0, 1, 0, 0, 0, 0, 0, 0, 0, 0, 0, 1, 0, 1, 0, 0, 0, 1, 0, 0, 0, 0, 0, 0, 0, 0, 0, 0, 0, 0, 1, 0, 1, 0, 0, 0, 0, 0, 0, 0, 0, 0, 0, 0, 0, 0, 0, 0, 0, 0, 0, 0, 0, 0, 0, 0, 0, 0, 0, 0, 0, 0, 0, 0, 0, 0, 0, 1, 0, 0, 0, 0, 0, 1, 0, 0, 0, 0, 0, 0, 0, 0, 0, 0, 0, 0, 0, 1, 0, 0, 0, 0, 0, 0, 0, 0, 0, 0, 0, 0, 0, 0, 0, 0, 0, 0, 0, 1, 0, 0, 0, 1, 0, 0, 0, 0, 0, 0, 0, 0, 0, 0, 0, 0, 0, 0, 0, 0, 0, 0, 0, 0, 0, 0, 0, 1, 0, 1, 0, 0, 0, 0, 1, 0, 0, 0, 0, 0, 0, 0, 0, 0, 0, 0, 0, 0, 0, 1, 0, 0, 0, 0, 0, 0, 0, 0, 0, 0, 0, 0, 0, 0, 0, 0, 0, 0, 0, 0, 0, 1, 0, 0, 1, 0, 1, 0, 0, 0, 0, 0, 0, 0, 0, 0, 1, 0, 0, 0, 0, 0, 0, 0, 0, 0, 0, 0, 0, 0, 0, 0, 0, 0, 0, 0, 0, 0, 0, 0, 0, 0, 0, 0, 0, 0, 0, 1, 0, 0, 0, 1, 0, 0, 1, 0, 0, 0, 0, 0], 'tour_cost': 430718.9030540998, 'packing_plan_cost': 27607, 'rank': 7, 'crowding_distance': inf}),\n",
       " struct({'tour': [38, 172, 13, 217, 77, 81, 198, 268, 251, 14, 9, 1, 99, 274, 177, 33, 187, 20, 17, 189, 225, 222, 123, 74, 113, 56, 31, 138, 266, 47, 121, 11, 6, 118, 253, 157, 28, 51, 279, 173, 249, 73, 10, 227, 50, 87, 143, 159, 21, 52, 76, 80, 165, 37, 276, 228, 236, 95, 29, 211, 171, 4, 219, 46, 15, 65, 23, 144, 202, 68, 242, 158, 178, 186, 221, 192, 230, 27, 35, 208, 103, 209, 254, 200, 174, 152, 97, 26, 168, 127, 0, 245, 22, 111, 139, 215, 210, 235, 62, 226, 39, 231, 114, 89, 125, 181, 203, 212, 265, 83, 41, 190, 153, 115, 223, 18, 122, 147, 184, 183, 44, 12, 58, 206, 160, 75, 263, 40, 277, 86, 107, 142, 146, 117, 57, 135, 195, 30, 25, 161, 273, 116, 130, 214, 162, 70, 237, 256, 60, 234, 194, 154, 132, 224, 96, 151, 63, 61, 272, 71, 108, 250, 260, 120, 149, 179, 137, 167, 124, 229, 140, 240, 128, 133, 105, 164, 175, 2, 102, 199, 100, 257, 69, 112, 129, 262, 78, 258, 8, 191, 239, 278, 91, 64, 67, 5, 269, 241, 93, 213, 238, 82, 19, 148, 243, 92, 259, 72, 3, 126, 53, 246, 205, 43, 150, 244, 66, 270, 54, 48, 155, 36, 59, 49, 204, 131, 134, 32, 264, 176, 42, 197, 170, 261, 182, 101, 169, 98, 84, 188, 247, 109, 55, 34, 275, 196, 7, 94, 45, 180, 207, 193, 119, 216, 185, 267, 218, 16, 232, 145, 136, 85, 106, 220, 104, 271, 24, 233, 252, 156, 248, 163, 110, 166, 201, 79, 141, 88, 255, 90], 'packing_plan': [0, 0, 1, 0, 0, 0, 0, 0, 0, 0, 0, 0, 0, 0, 0, 0, 0, 0, 0, 0, 0, 1, 0, 1, 0, 0, 0, 0, 0, 0, 0, 0, 0, 0, 0, 0, 0, 0, 1, 0, 0, 0, 0, 0, 0, 0, 0, 0, 0, 0, 0, 1, 0, 0, 0, 0, 0, 0, 0, 0, 0, 0, 1, 0, 0, 0, 0, 0, 1, 0, 1, 0, 0, 0, 0, 0, 0, 0, 0, 0, 0, 0, 0, 0, 0, 0, 0, 0, 0, 0, 0, 0, 0, 0, 0, 0, 0, 0, 0, 0, 0, 0, 0, 0, 0, 0, 0, 1, 0, 0, 0, 0, 0, 0, 0, 0, 0, 0, 0, 0, 0, 0, 0, 0, 0, 0, 0, 0, 0, 0, 0, 0, 0, 0, 0, 0, 0, 0, 1, 1, 0, 1, 0, 0, 0, 1, 0, 1, 0, 0, 0, 0, 0, 0, 0, 0, 0, 0, 0, 0, 0, 0, 0, 0, 0, 1, 0, 0, 0, 0, 0, 0, 0, 0, 0, 0, 0, 0, 1, 0, 0, 0, 0, 0, 0, 0, 0, 0, 0, 0, 0, 0, 0, 0, 0, 0, 0, 0, 0, 0, 0, 0, 0, 0, 0, 1, 0, 0, 0, 0, 1, 0, 0, 0, 0, 0, 0, 0, 1, 0, 0, 0, 0, 0, 0, 0, 0, 0, 0, 0, 0, 0, 0, 0, 0, 0, 0, 0, 0, 0, 0, 0, 0, 0, 0, 0, 0, 0, 0, 0, 0, 1, 0, 0, 0, 0, 0, 0, 0, 0, 0, 0, 0, 0, 0, 0, 0, 0, 1, 1, 1, 0, 0, 0, 0, 0, 0, 0, 0], 'tour_cost': 461581.9137827678, 'packing_plan_cost': 30277, 'rank': 6, 'crowding_distance': 0.5574896269068134}),\n",
       " struct({'tour': [277, 202, 184, 166, 10, 259, 165, 114, 120, 222, 2, 164, 117, 268, 96, 278, 76, 121, 251, 145, 272, 88, 60, 219, 13, 271, 16, 176, 159, 42, 18, 192, 17, 28, 94, 35, 116, 30, 260, 262, 229, 182, 151, 78, 204, 148, 232, 147, 213, 110, 140, 226, 175, 143, 214, 275, 123, 245, 80, 146, 256, 49, 9, 154, 53, 75, 152, 3, 66, 26, 79, 82, 220, 92, 135, 168, 130, 34, 23, 129, 153, 103, 189, 183, 87, 250, 29, 263, 178, 58, 97, 27, 125, 276, 234, 84, 19, 72, 209, 205, 199, 257, 37, 217, 67, 98, 118, 177, 270, 239, 95, 235, 237, 221, 231, 207, 43, 223, 91, 266, 100, 179, 115, 212, 228, 134, 200, 150, 208, 249, 83, 132, 141, 48, 33, 74, 85, 12, 267, 258, 77, 224, 203, 32, 206, 188, 11, 107, 225, 102, 8, 81, 255, 215, 197, 4, 210, 105, 198, 0, 243, 195, 124, 93, 187, 155, 157, 142, 181, 45, 211, 40, 216, 252, 109, 55, 25, 174, 230, 57, 167, 218, 144, 171, 7, 186, 265, 162, 41, 90, 240, 22, 233, 156, 108, 69, 51, 20, 24, 253, 269, 99, 201, 39, 227, 138, 65, 68, 238, 133, 89, 36, 62, 247, 106, 131, 127, 190, 21, 47, 279, 1, 61, 244, 169, 52, 185, 173, 158, 193, 180, 101, 31, 194, 242, 163, 63, 56, 170, 64, 59, 46, 273, 136, 38, 254, 15, 122, 149, 113, 161, 119, 261, 44, 104, 274, 86, 241, 248, 50, 111, 126, 246, 196, 160, 71, 54, 70, 128, 264, 6, 137, 236, 172, 14, 139, 73, 191, 112, 5], 'packing_plan': [0, 0, 0, 0, 1, 0, 0, 0, 0, 0, 0, 0, 0, 0, 0, 0, 0, 0, 0, 0, 1, 0, 0, 0, 0, 0, 0, 0, 0, 0, 0, 0, 0, 1, 0, 0, 0, 1, 0, 0, 0, 0, 0, 0, 0, 0, 0, 0, 0, 0, 0, 0, 0, 0, 0, 0, 0, 0, 0, 0, 0, 0, 0, 0, 0, 0, 1, 0, 0, 0, 0, 0, 0, 0, 0, 0, 0, 0, 0, 0, 0, 0, 0, 0, 0, 0, 0, 0, 0, 0, 0, 0, 1, 0, 0, 0, 0, 0, 0, 0, 0, 0, 0, 0, 0, 0, 0, 0, 0, 0, 0, 0, 0, 0, 0, 0, 0, 0, 0, 0, 0, 0, 0, 0, 0, 0, 0, 0, 0, 0, 0, 0, 0, 1, 0, 0, 0, 0, 0, 0, 0, 0, 0, 0, 0, 0, 1, 0, 0, 0, 0, 0, 0, 0, 1, 0, 0, 0, 0, 0, 0, 0, 0, 1, 0, 0, 0, 0, 1, 0, 0, 0, 0, 0, 0, 0, 0, 0, 0, 1, 0, 0, 0, 0, 0, 0, 0, 0, 0, 0, 0, 0, 0, 0, 0, 0, 0, 0, 0, 0, 0, 0, 1, 1, 0, 0, 0, 0, 0, 0, 0, 0, 0, 0, 0, 0, 0, 0, 0, 0, 0, 0, 0, 0, 0, 0, 0, 0, 0, 0, 0, 0, 0, 1, 0, 0, 1, 1, 0, 0, 0, 0, 0, 0, 0, 0, 0, 1, 0, 0, 0, 0, 0, 1, 0, 0, 0, 0, 0, 0, 0, 0, 0, 0, 0, 0, 0, 0, 0, 0, 1, 0, 0, 0, 0, 0, 0, 0, 0], 'tour_cost': 434788.46622615, 'packing_plan_cost': 29467, 'rank': 3, 'crowding_distance': 1.3559912483439298}),\n",
       " struct({'tour': [200, 91, 16, 126, 190, 214, 21, 146, 170, 63, 22, 230, 149, 220, 24, 177, 167, 262, 251, 34, 191, 219, 182, 98, 215, 173, 224, 43, 2, 44, 86, 120, 235, 144, 31, 84, 271, 69, 131, 168, 199, 204, 29, 37, 256, 154, 249, 267, 6, 265, 49, 198, 194, 76, 101, 153, 137, 175, 15, 67, 7, 36, 227, 161, 134, 95, 213, 33, 38, 14, 201, 109, 231, 66, 155, 135, 132, 207, 124, 257, 113, 197, 162, 259, 3, 165, 92, 236, 108, 26, 58, 240, 157, 53, 82, 234, 59, 70, 187, 237, 13, 270, 30, 103, 186, 142, 123, 192, 61, 41, 48, 277, 212, 97, 246, 266, 94, 178, 104, 12, 195, 55, 206, 42, 89, 163, 275, 223, 278, 188, 222, 225, 226, 136, 156, 147, 128, 158, 254, 119, 164, 85, 174, 0, 10, 250, 17, 118, 47, 25, 261, 216, 87, 125, 107, 263, 77, 159, 196, 269, 39, 152, 179, 18, 68, 218, 258, 274, 8, 27, 129, 244, 52, 228, 239, 203, 75, 130, 264, 180, 141, 221, 133, 127, 117, 122, 143, 116, 78, 4, 140, 88, 79, 57, 253, 74, 205, 193, 238, 96, 243, 65, 35, 73, 150, 1, 255, 208, 23, 50, 242, 121, 105, 189, 151, 138, 45, 51, 171, 115, 209, 100, 241, 176, 233, 169, 273, 114, 210, 248, 80, 276, 64, 217, 62, 148, 272, 5, 99, 202, 9, 181, 40, 145, 279, 56, 60, 110, 185, 139, 229, 184, 166, 46, 102, 160, 252, 111, 172, 28, 260, 71, 19, 72, 268, 83, 183, 32, 11, 93, 112, 211, 90, 247, 20, 245, 106, 54, 232, 81], 'packing_plan': [0, 0, 1, 1, 0, 0, 0, 1, 0, 0, 0, 0, 0, 0, 0, 0, 0, 0, 1, 0, 0, 0, 0, 0, 0, 0, 0, 0, 0, 0, 0, 0, 0, 0, 0, 0, 0, 0, 0, 0, 0, 0, 0, 0, 0, 0, 1, 0, 0, 0, 1, 0, 0, 0, 0, 0, 0, 0, 0, 0, 0, 0, 0, 0, 0, 0, 0, 0, 1, 0, 0, 0, 0, 0, 1, 0, 0, 0, 0, 0, 0, 0, 0, 0, 0, 0, 0, 0, 1, 0, 0, 0, 0, 0, 0, 1, 1, 0, 0, 0, 0, 0, 0, 0, 0, 0, 0, 0, 0, 0, 0, 0, 0, 0, 0, 1, 0, 0, 0, 0, 0, 0, 0, 0, 0, 0, 0, 0, 0, 1, 0, 0, 1, 0, 0, 0, 0, 0, 1, 0, 0, 0, 1, 0, 0, 1, 0, 0, 0, 0, 1, 0, 0, 1, 0, 0, 1, 1, 0, 0, 0, 0, 0, 0, 1, 0, 0, 1, 0, 0, 0, 0, 0, 0, 0, 0, 1, 0, 0, 0, 0, 0, 0, 1, 0, 1, 0, 0, 0, 0, 0, 0, 0, 0, 0, 0, 0, 1, 0, 0, 0, 0, 0, 0, 0, 0, 0, 0, 0, 1, 0, 1, 0, 0, 0, 0, 1, 0, 0, 0, 0, 1, 0, 0, 0, 0, 0, 0, 0, 0, 0, 0, 0, 0, 0, 0, 0, 0, 0, 0, 0, 0, 0, 0, 0, 0, 0, 0, 0, 0, 0, 0, 0, 0, 0, 1, 0, 0, 0, 0, 0, 0, 0, 0, 0, 0, 0, 0, 0, 0, 0, 0, 0, 0, 0, 0, 1, 0, 0], 'tour_cost': 527335.4656902219, 'packing_plan_cost': 30563, 'rank': 7, 'crowding_distance': 0.11528144112886642}),\n",
       " struct({'tour': [22, 253, 252, 216, 41, 127, 172, 232, 239, 205, 174, 6, 215, 184, 3, 257, 121, 109, 132, 181, 128, 70, 61, 244, 258, 4, 53, 68, 243, 195, 19, 0, 185, 48, 85, 190, 47, 204, 211, 79, 167, 176, 76, 69, 171, 186, 67, 194, 175, 249, 106, 52, 242, 152, 250, 104, 63, 21, 100, 187, 199, 11, 124, 178, 40, 236, 177, 238, 123, 229, 220, 214, 237, 277, 96, 225, 55, 1, 31, 117, 25, 145, 227, 228, 267, 14, 80, 9, 43, 213, 201, 251, 125, 233, 91, 234, 113, 264, 42, 192, 146, 138, 226, 130, 12, 217, 154, 156, 119, 224, 56, 147, 200, 30, 118, 254, 165, 142, 75, 72, 20, 173, 275, 203, 16, 140, 24, 120, 116, 262, 221, 107, 35, 235, 141, 27, 139, 159, 108, 5, 269, 95, 261, 196, 17, 99, 270, 231, 255, 87, 150, 7, 218, 241, 102, 273, 105, 247, 88, 193, 49, 71, 223, 209, 268, 222, 97, 8, 36, 90, 210, 112, 98, 168, 84, 115, 169, 260, 74, 129, 18, 32, 62, 155, 114, 278, 266, 57, 166, 230, 50, 182, 151, 274, 170, 103, 272, 202, 65, 33, 158, 143, 135, 60, 66, 37, 133, 45, 23, 248, 82, 77, 34, 10, 28, 46, 160, 198, 245, 183, 59, 122, 191, 148, 153, 2, 219, 78, 93, 149, 126, 188, 54, 38, 83, 144, 15, 110, 136, 89, 189, 29, 134, 279, 86, 259, 73, 180, 212, 164, 111, 208, 137, 51, 58, 94, 240, 179, 161, 162, 44, 256, 13, 101, 131, 157, 197, 207, 276, 92, 64, 39, 163, 265, 246, 206, 271, 81, 26, 263], 'packing_plan': [0, 0, 1, 0, 0, 0, 0, 0, 0, 0, 0, 0, 1, 0, 0, 0, 0, 0, 0, 0, 0, 0, 0, 0, 0, 0, 0, 0, 0, 1, 0, 0, 0, 1, 0, 0, 0, 0, 0, 0, 0, 0, 0, 0, 0, 0, 0, 1, 0, 0, 0, 0, 0, 0, 0, 0, 0, 0, 0, 0, 0, 0, 0, 0, 0, 0, 0, 0, 0, 0, 0, 0, 0, 0, 0, 0, 0, 0, 0, 0, 1, 0, 0, 0, 0, 0, 0, 1, 0, 0, 0, 0, 0, 0, 0, 0, 0, 1, 0, 0, 1, 0, 0, 0, 0, 0, 0, 0, 0, 0, 0, 1, 0, 0, 0, 0, 0, 0, 0, 1, 0, 0, 0, 1, 0, 0, 0, 1, 0, 0, 0, 0, 0, 0, 0, 0, 0, 0, 0, 0, 0, 0, 0, 0, 0, 0, 0, 0, 1, 0, 0, 0, 0, 0, 0, 0, 0, 0, 0, 0, 0, 0, 0, 0, 0, 0, 1, 1, 0, 0, 0, 0, 0, 0, 0, 0, 0, 0, 0, 0, 0, 0, 0, 0, 0, 0, 0, 0, 0, 0, 0, 0, 0, 0, 0, 0, 0, 0, 0, 0, 0, 0, 0, 1, 0, 0, 0, 0, 0, 0, 0, 0, 0, 0, 0, 0, 0, 0, 0, 0, 0, 0, 0, 1, 0, 0, 0, 1, 0, 1, 0, 0, 0, 0, 1, 0, 0, 0, 0, 0, 1, 0, 0, 0, 0, 0, 0, 0, 0, 0, 0, 0, 0, 0, 1, 0, 1, 0, 0, 0, 0, 1, 0, 0, 0, 0, 0, 0, 1, 1, 0, 0, 0, 0, 0, 1, 0, 0, 1], 'tour_cost': 406574.98064984573, 'packing_plan_cost': 30096, 'rank': 2, 'crowding_distance': 1.0141858608451857}),\n",
       " struct({'tour': [109, 112, 11, 98, 65, 214, 48, 159, 183, 160, 53, 176, 66, 149, 94, 226, 164, 24, 192, 245, 237, 96, 157, 232, 5, 7, 189, 110, 213, 49, 216, 238, 104, 58, 56, 54, 205, 254, 41, 3, 139, 117, 246, 85, 244, 239, 130, 155, 241, 88, 16, 274, 89, 118, 113, 69, 34, 221, 140, 188, 275, 178, 195, 276, 204, 125, 177, 52, 116, 86, 106, 145, 199, 256, 137, 148, 220, 227, 2, 182, 102, 37, 57, 62, 222, 235, 259, 50, 70, 272, 144, 209, 105, 215, 124, 278, 261, 22, 9, 133, 101, 236, 249, 90, 270, 208, 153, 170, 186, 229, 4, 38, 252, 196, 99, 163, 165, 14, 184, 15, 51, 194, 230, 185, 40, 161, 47, 267, 279, 243, 166, 71, 156, 0, 33, 20, 179, 233, 201, 55, 114, 115, 19, 257, 135, 218, 255, 193, 21, 64, 121, 103, 92, 168, 74, 141, 100, 79, 248, 87, 10, 18, 273, 44, 146, 187, 13, 224, 198, 84, 77, 80, 26, 181, 212, 228, 210, 200, 72, 240, 207, 36, 59, 219, 127, 175, 6, 42, 147, 17, 242, 206, 25, 234, 81, 61, 269, 39, 95, 211, 68, 172, 150, 173, 43, 93, 197, 126, 266, 111, 151, 223, 268, 247, 45, 231, 27, 136, 29, 82, 97, 32, 119, 258, 264, 12, 35, 251, 225, 138, 83, 131, 143, 191, 169, 46, 190, 63, 217, 167, 250, 142, 91, 30, 28, 1, 129, 171, 152, 162, 73, 78, 158, 123, 76, 67, 122, 174, 277, 265, 107, 262, 75, 8, 120, 263, 134, 154, 260, 253, 128, 203, 60, 132, 108, 180, 31, 23, 271, 202], 'packing_plan': [0, 0, 0, 0, 0, 0, 0, 0, 0, 0, 0, 0, 0, 0, 0, 0, 0, 0, 0, 1, 1, 0, 0, 0, 0, 0, 0, 0, 0, 0, 0, 0, 0, 0, 1, 0, 1, 0, 0, 0, 0, 0, 0, 0, 0, 0, 0, 0, 0, 1, 0, 0, 0, 0, 0, 0, 0, 0, 0, 0, 0, 0, 0, 1, 0, 0, 0, 0, 0, 0, 1, 0, 0, 0, 0, 0, 0, 0, 0, 0, 1, 0, 1, 1, 0, 0, 0, 0, 0, 0, 0, 0, 0, 0, 0, 0, 0, 0, 0, 0, 0, 0, 0, 0, 0, 0, 0, 0, 0, 0, 0, 0, 0, 0, 0, 0, 0, 0, 0, 0, 1, 0, 0, 0, 0, 0, 0, 0, 0, 1, 0, 0, 0, 0, 0, 0, 0, 0, 0, 1, 0, 0, 0, 0, 0, 1, 0, 0, 0, 0, 0, 0, 0, 0, 0, 0, 0, 0, 0, 0, 0, 0, 0, 1, 0, 0, 1, 0, 0, 0, 0, 1, 0, 0, 0, 0, 0, 0, 1, 0, 0, 0, 0, 0, 0, 0, 0, 0, 0, 0, 0, 0, 0, 0, 0, 0, 1, 0, 0, 0, 0, 0, 0, 1, 0, 1, 0, 1, 1, 0, 0, 0, 0, 0, 0, 0, 0, 1, 0, 0, 0, 0, 0, 0, 0, 0, 0, 0, 0, 0, 0, 0, 1, 1, 0, 0, 0, 0, 0, 0, 0, 0, 0, 0, 0, 0, 0, 0, 0, 0, 1, 0, 0, 0, 0, 0, 0, 0, 0, 0, 0, 0, 0, 0, 0, 0, 0, 0, 0, 0, 0, 0, 0, 0, 0, 0, 0, 0, 1], 'tour_cost': 569384.1250429754, 'packing_plan_cost': 31052, 'rank': 5, 'crowding_distance': inf}),\n",
       " struct({'tour': [194, 271, 207, 121, 57, 174, 269, 73, 259, 277, 40, 65, 163, 241, 149, 95, 275, 213, 36, 226, 279, 2, 98, 263, 10, 139, 151, 159, 211, 172, 104, 245, 70, 120, 38, 83, 150, 100, 127, 9, 128, 144, 235, 182, 84, 208, 7, 178, 221, 170, 137, 266, 113, 77, 156, 258, 68, 229, 26, 186, 200, 88, 81, 32, 109, 239, 87, 217, 6, 146, 136, 52, 119, 224, 189, 25, 49, 154, 141, 123, 115, 69, 262, 238, 276, 124, 60, 243, 111, 125, 0, 48, 191, 197, 46, 214, 195, 5, 143, 249, 268, 53, 215, 72, 106, 157, 11, 61, 160, 148, 234, 167, 112, 42, 210, 33, 12, 166, 19, 196, 103, 31, 256, 37, 55, 273, 181, 179, 78, 220, 199, 34, 164, 27, 227, 17, 138, 180, 89, 230, 30, 54, 228, 142, 232, 203, 129, 13, 165, 23, 58, 173, 117, 122, 79, 147, 231, 252, 130, 39, 192, 51, 205, 260, 3, 16, 152, 28, 223, 96, 93, 71, 233, 265, 50, 212, 35, 246, 4, 274, 92, 236, 140, 216, 134, 64, 184, 91, 240, 158, 161, 209, 45, 18, 29, 135, 99, 74, 198, 94, 202, 56, 43, 15, 102, 278, 206, 168, 175, 251, 76, 169, 247, 248, 255, 133, 20, 201, 237, 219, 267, 188, 44, 153, 242, 110, 22, 171, 244, 183, 177, 107, 66, 162, 176, 75, 114, 222, 108, 8, 82, 250, 41, 67, 253, 80, 187, 145, 257, 190, 118, 105, 185, 47, 14, 62, 264, 85, 90, 116, 24, 21, 131, 225, 59, 193, 204, 63, 101, 132, 97, 261, 272, 254, 126, 1, 270, 86, 155, 218], 'packing_plan': [0, 0, 1, 1, 0, 0, 0, 0, 0, 0, 0, 0, 0, 1, 0, 0, 0, 0, 0, 0, 0, 0, 0, 0, 0, 0, 0, 0, 0, 0, 0, 0, 0, 0, 0, 0, 0, 0, 0, 0, 0, 0, 0, 0, 0, 0, 0, 0, 0, 0, 0, 0, 0, 0, 0, 0, 1, 0, 0, 0, 1, 1, 0, 0, 0, 0, 0, 0, 0, 0, 0, 0, 0, 0, 1, 1, 0, 0, 0, 0, 0, 0, 1, 1, 0, 0, 1, 0, 0, 0, 0, 0, 0, 1, 0, 1, 0, 0, 1, 0, 0, 0, 0, 0, 0, 0, 0, 1, 0, 0, 0, 0, 0, 0, 0, 0, 0, 0, 0, 0, 1, 0, 0, 0, 0, 0, 0, 0, 1, 0, 0, 0, 0, 0, 0, 0, 0, 0, 0, 0, 0, 0, 0, 0, 0, 0, 0, 0, 0, 1, 0, 0, 0, 0, 0, 0, 1, 1, 0, 0, 0, 1, 0, 0, 0, 0, 0, 0, 0, 0, 0, 1, 0, 0, 0, 0, 0, 0, 0, 0, 0, 0, 0, 0, 0, 0, 0, 0, 0, 0, 0, 0, 0, 1, 1, 0, 0, 1, 0, 0, 0, 0, 0, 0, 0, 0, 1, 1, 0, 1, 1, 0, 0, 0, 0, 0, 1, 0, 0, 0, 0, 1, 0, 0, 0, 1, 0, 0, 0, 0, 0, 0, 0, 1, 0, 0, 0, 0, 0, 0, 0, 0, 0, 0, 0, 0, 0, 0, 0, 0, 0, 0, 0, 0, 0, 0, 0, 0, 0, 0, 0, 0, 0, 0, 1, 0, 0, 0, 0, 0, 1, 0, 0, 0, 0, 0, 0, 0, 0], 'tour_cost': 528147.0152339614, 'packing_plan_cost': 31121, 'rank': 4, 'crowding_distance': inf}),\n",
       " struct({'tour': [118, 264, 72, 209, 80, 202, 1, 253, 96, 201, 42, 56, 225, 19, 99, 124, 259, 228, 173, 45, 230, 36, 35, 154, 127, 136, 150, 40, 260, 159, 112, 161, 55, 134, 278, 104, 102, 203, 110, 44, 180, 144, 119, 243, 107, 6, 183, 215, 31, 267, 106, 279, 84, 115, 46, 39, 149, 48, 241, 69, 89, 187, 179, 232, 231, 37, 171, 33, 57, 142, 242, 155, 163, 261, 50, 52, 138, 20, 95, 277, 192, 71, 170, 216, 114, 61, 131, 167, 249, 13, 270, 135, 195, 148, 26, 139, 143, 70, 169, 184, 271, 43, 73, 141, 224, 62, 191, 132, 109, 60, 212, 164, 53, 18, 245, 23, 168, 74, 51, 244, 2, 58, 182, 92, 113, 198, 177, 265, 100, 246, 174, 122, 126, 204, 256, 130, 196, 199, 29, 105, 117, 77, 178, 268, 166, 206, 86, 133, 85, 226, 81, 153, 152, 78, 211, 87, 227, 252, 221, 54, 176, 88, 193, 146, 25, 207, 79, 123, 229, 140, 8, 200, 101, 273, 93, 235, 3, 145, 220, 120, 272, 197, 82, 251, 269, 262, 11, 239, 12, 91, 190, 157, 156, 90, 213, 238, 147, 208, 255, 15, 233, 125, 186, 116, 223, 76, 14, 237, 205, 162, 7, 66, 94, 17, 28, 98, 108, 38, 129, 68, 4, 64, 214, 181, 121, 5, 24, 274, 67, 160, 30, 21, 263, 59, 0, 34, 172, 188, 32, 275, 247, 248, 158, 97, 194, 10, 276, 65, 234, 22, 63, 16, 83, 257, 137, 75, 103, 49, 175, 128, 222, 111, 165, 250, 240, 254, 236, 258, 210, 47, 218, 9, 185, 27, 41, 151, 266, 217, 219, 189], 'packing_plan': [0, 0, 0, 0, 0, 0, 0, 1, 0, 0, 0, 0, 0, 0, 0, 0, 0, 0, 0, 0, 0, 0, 1, 0, 0, 0, 0, 0, 0, 0, 0, 0, 0, 0, 0, 1, 0, 0, 0, 0, 0, 0, 0, 0, 0, 0, 0, 0, 1, 0, 1, 1, 0, 0, 0, 0, 0, 0, 0, 0, 0, 0, 0, 0, 0, 0, 0, 0, 0, 0, 0, 1, 0, 0, 0, 0, 0, 0, 0, 0, 0, 0, 0, 1, 0, 0, 0, 0, 0, 0, 0, 0, 0, 0, 0, 1, 0, 0, 0, 0, 0, 0, 1, 0, 0, 1, 1, 0, 0, 0, 1, 0, 0, 0, 1, 0, 0, 0, 0, 0, 0, 0, 0, 0, 0, 0, 0, 0, 0, 0, 0, 0, 0, 0, 0, 0, 0, 0, 0, 0, 0, 0, 0, 0, 0, 0, 0, 0, 0, 0, 0, 0, 0, 0, 0, 0, 0, 1, 0, 1, 0, 0, 0, 0, 0, 0, 0, 0, 0, 0, 0, 0, 0, 0, 0, 0, 0, 0, 1, 0, 0, 0, 1, 0, 0, 0, 0, 0, 0, 0, 0, 0, 1, 0, 0, 0, 0, 0, 0, 0, 0, 0, 0, 0, 0, 0, 1, 0, 0, 0, 0, 0, 0, 0, 1, 0, 0, 1, 0, 0, 0, 1, 0, 0, 0, 0, 1, 0, 0, 1, 1, 0, 0, 1, 0, 0, 0, 0, 0, 0, 0, 0, 0, 0, 0, 0, 0, 0, 0, 0, 0, 0, 0, 1, 0, 0, 1, 0, 0, 0, 0, 1, 0, 0, 0, 0, 0, 0, 0, 0, 0, 0, 1, 0, 0, 0, 0, 0, 0], 'tour_cost': 458314.91571728734, 'packing_plan_cost': 31319, 'rank': 3, 'crowding_distance': inf}),\n",
       " struct({'tour': [142, 68, 190, 56, 38, 201, 4, 19, 188, 206, 55, 218, 150, 228, 20, 155, 27, 23, 113, 94, 248, 277, 195, 15, 183, 70, 154, 111, 127, 24, 36, 169, 136, 231, 166, 258, 170, 110, 106, 21, 0, 241, 83, 141, 196, 234, 267, 6, 156, 88, 229, 128, 264, 200, 208, 125, 210, 187, 247, 266, 41, 91, 259, 255, 261, 147, 199, 219, 86, 173, 226, 50, 204, 61, 37, 14, 221, 243, 198, 252, 1, 238, 90, 39, 161, 43, 108, 54, 272, 35, 103, 107, 137, 49, 182, 138, 186, 227, 8, 46, 76, 116, 133, 95, 131, 279, 32, 97, 100, 164, 214, 175, 167, 129, 89, 184, 104, 270, 159, 160, 105, 34, 73, 72, 224, 254, 102, 157, 135, 118, 92, 10, 213, 268, 215, 101, 66, 77, 244, 22, 232, 82, 52, 132, 168, 152, 217, 193, 163, 148, 202, 246, 51, 225, 242, 60, 48, 165, 59, 126, 276, 146, 192, 235, 109, 220, 262, 257, 149, 30, 58, 203, 9, 124, 67, 87, 171, 191, 162, 194, 18, 197, 29, 53, 115, 134, 176, 189, 114, 79, 80, 123, 75, 144, 62, 33, 78, 140, 271, 145, 81, 216, 119, 260, 172, 245, 99, 17, 64, 253, 11, 65, 26, 120, 180, 16, 96, 69, 121, 174, 13, 263, 249, 42, 153, 47, 25, 278, 256, 63, 139, 273, 158, 93, 236, 122, 57, 181, 71, 40, 230, 45, 239, 85, 178, 209, 274, 205, 31, 185, 223, 117, 240, 2, 3, 237, 7, 212, 177, 143, 151, 130, 112, 265, 211, 250, 44, 275, 222, 233, 28, 179, 74, 251, 12, 207, 98, 84, 5, 269], 'packing_plan': [0, 0, 0, 1, 0, 1, 0, 0, 0, 0, 0, 0, 1, 0, 0, 0, 0, 0, 0, 0, 0, 0, 0, 0, 0, 0, 0, 0, 0, 0, 0, 0, 0, 0, 0, 0, 0, 0, 0, 0, 0, 0, 0, 0, 0, 0, 0, 0, 0, 0, 0, 0, 0, 0, 0, 0, 0, 0, 0, 0, 0, 0, 0, 0, 0, 0, 0, 0, 0, 0, 0, 0, 0, 0, 0, 0, 0, 0, 1, 0, 0, 0, 1, 0, 1, 0, 1, 1, 0, 0, 0, 0, 0, 0, 0, 0, 0, 0, 0, 0, 0, 0, 0, 1, 0, 0, 0, 0, 0, 0, 0, 0, 0, 0, 0, 0, 0, 0, 0, 0, 0, 0, 0, 0, 1, 0, 0, 0, 1, 1, 0, 0, 0, 0, 0, 0, 0, 1, 0, 0, 1, 1, 0, 0, 0, 0, 0, 0, 0, 0, 0, 0, 0, 0, 0, 1, 0, 0, 0, 0, 0, 0, 0, 0, 0, 0, 0, 0, 0, 0, 0, 0, 0, 1, 0, 0, 0, 0, 0, 0, 1, 0, 0, 0, 0, 0, 0, 0, 0, 1, 0, 0, 0, 0, 0, 0, 0, 0, 0, 0, 0, 0, 0, 0, 0, 0, 0, 0, 0, 0, 0, 1, 0, 0, 0, 0, 0, 0, 1, 1, 0, 1, 0, 0, 0, 0, 0, 0, 0, 0, 0, 0, 0, 0, 0, 0, 1, 0, 0, 0, 0, 0, 0, 0, 0, 0, 0, 1, 0, 0, 0, 0, 0, 0, 1, 0, 0, 0, 1, 1, 0, 0, 0, 0, 0, 0, 0, 0, 0, 1, 0, 0, 0, 0, 0, 0, 0, 0, 0], 'tour_cost': 482199.8399341083, 'packing_plan_cost': 29266, 'rank': 9, 'crowding_distance': inf}),\n",
       " struct({'tour': [86, 79, 205, 232, 75, 219, 95, 61, 157, 163, 48, 184, 187, 113, 179, 158, 176, 54, 97, 9, 259, 277, 250, 62, 18, 261, 260, 247, 204, 94, 55, 104, 3, 177, 248, 139, 140, 93, 243, 40, 123, 217, 20, 200, 17, 58, 31, 241, 72, 240, 84, 60, 4, 203, 15, 103, 115, 150, 52, 266, 28, 78, 37, 36, 237, 27, 126, 245, 91, 164, 274, 276, 221, 142, 47, 6, 63, 68, 38, 143, 253, 199, 223, 119, 167, 272, 182, 191, 50, 125, 264, 156, 279, 175, 116, 263, 59, 201, 65, 186, 10, 21, 207, 185, 5, 8, 137, 129, 74, 195, 257, 7, 188, 160, 83, 152, 141, 173, 278, 105, 138, 148, 171, 69, 19, 90, 170, 189, 267, 14, 85, 231, 242, 212, 128, 136, 218, 178, 76, 114, 135, 254, 45, 210, 181, 169, 252, 39, 110, 13, 111, 153, 251, 34, 46, 208, 134, 0, 107, 190, 133, 228, 213, 209, 230, 224, 155, 16, 262, 234, 99, 214, 211, 77, 256, 106, 32, 193, 215, 174, 226, 11, 162, 194, 183, 96, 53, 227, 131, 258, 67, 41, 98, 33, 154, 109, 88, 43, 112, 70, 233, 161, 81, 268, 49, 57, 145, 87, 64, 124, 275, 89, 255, 35, 101, 29, 198, 147, 271, 197, 121, 25, 180, 206, 273, 196, 92, 265, 246, 118, 12, 238, 122, 151, 100, 270, 249, 130, 42, 229, 235, 102, 202, 216, 71, 225, 56, 73, 2, 30, 117, 146, 144, 120, 51, 220, 222, 108, 168, 159, 82, 23, 192, 244, 66, 165, 149, 269, 132, 166, 80, 26, 24, 127, 236, 1, 239, 22, 172, 44], 'packing_plan': [0, 0, 0, 0, 1, 0, 0, 0, 1, 0, 0, 0, 0, 0, 0, 0, 0, 0, 0, 1, 0, 0, 0, 0, 0, 0, 0, 0, 0, 0, 0, 0, 0, 0, 0, 0, 0, 0, 0, 0, 0, 0, 1, 0, 1, 0, 0, 0, 0, 1, 0, 0, 0, 0, 0, 0, 0, 0, 0, 1, 0, 1, 0, 0, 0, 0, 0, 0, 0, 0, 0, 1, 0, 0, 0, 0, 0, 0, 0, 0, 0, 0, 0, 0, 0, 0, 0, 0, 0, 0, 0, 1, 1, 0, 0, 0, 0, 0, 0, 0, 0, 0, 0, 0, 0, 0, 0, 0, 0, 0, 0, 0, 0, 0, 0, 0, 0, 0, 0, 0, 0, 0, 0, 0, 0, 1, 0, 0, 0, 0, 0, 0, 0, 0, 0, 0, 0, 0, 0, 0, 0, 1, 0, 0, 0, 0, 0, 0, 0, 0, 1, 0, 1, 0, 0, 0, 0, 0, 1, 0, 0, 0, 0, 0, 0, 0, 0, 0, 0, 1, 0, 1, 1, 0, 0, 0, 0, 0, 0, 0, 0, 0, 0, 0, 0, 0, 0, 0, 0, 0, 0, 0, 0, 1, 0, 0, 0, 1, 1, 1, 0, 0, 1, 0, 0, 0, 0, 0, 0, 0, 0, 0, 0, 0, 1, 0, 0, 0, 0, 0, 0, 0, 0, 0, 0, 0, 0, 0, 0, 0, 0, 0, 0, 0, 0, 0, 0, 0, 1, 0, 0, 0, 0, 0, 0, 0, 0, 0, 0, 0, 0, 0, 0, 0, 0, 0, 1, 1, 0, 0, 1, 0, 0, 0, 0, 0, 0, 0, 0, 0, 0, 0, 0, 0, 0, 0, 0, 0, 0], 'tour_cost': 418291.7233140839, 'packing_plan_cost': 30930, 'rank': 1, 'crowding_distance': 1.5668771514940971}),\n",
       " struct({'tour': [176, 90, 41, 133, 259, 222, 148, 37, 18, 45, 209, 78, 147, 252, 271, 221, 247, 12, 217, 28, 38, 267, 206, 27, 149, 153, 47, 235, 35, 68, 154, 256, 195, 19, 102, 26, 181, 156, 116, 84, 80, 44, 254, 144, 129, 66, 210, 139, 124, 120, 240, 62, 146, 98, 168, 5, 135, 8, 123, 33, 275, 58, 157, 218, 9, 236, 127, 57, 138, 83, 167, 96, 21, 63, 187, 92, 164, 192, 278, 268, 276, 197, 97, 69, 255, 248, 253, 87, 260, 106, 49, 109, 10, 180, 110, 219, 0, 264, 270, 175, 104, 173, 65, 150, 185, 67, 61, 214, 189, 230, 103, 142, 258, 211, 198, 203, 169, 16, 56, 132, 188, 60, 134, 172, 101, 23, 182, 71, 158, 273, 199, 179, 162, 25, 246, 30, 7, 31, 257, 241, 51, 200, 46, 263, 4, 48, 232, 140, 95, 213, 13, 141, 88, 225, 152, 204, 112, 239, 193, 265, 14, 111, 224, 131, 105, 128, 178, 70, 100, 229, 231, 122, 39, 125, 237, 245, 166, 186, 160, 40, 73, 79, 243, 126, 208, 6, 113, 262, 269, 91, 215, 82, 114, 99, 171, 251, 161, 277, 143, 170, 43, 115, 233, 130, 194, 205, 3, 151, 238, 74, 163, 52, 20, 266, 234, 190, 279, 227, 118, 244, 117, 93, 1, 24, 220, 11, 42, 242, 29, 17, 226, 212, 81, 32, 34, 54, 55, 85, 249, 174, 202, 75, 145, 72, 183, 107, 121, 50, 77, 64, 184, 86, 223, 207, 119, 159, 59, 155, 22, 136, 165, 2, 272, 196, 108, 94, 137, 216, 53, 76, 250, 89, 201, 36, 15, 274, 177, 191, 261, 228], 'packing_plan': [0, 0, 0, 0, 0, 0, 0, 0, 0, 0, 0, 0, 0, 1, 0, 0, 1, 0, 0, 0, 0, 0, 0, 0, 0, 1, 0, 0, 0, 1, 0, 0, 0, 0, 0, 0, 0, 0, 0, 1, 1, 0, 0, 0, 0, 1, 0, 0, 0, 0, 0, 0, 0, 0, 0, 1, 0, 0, 1, 0, 0, 0, 0, 0, 0, 0, 0, 0, 0, 0, 0, 0, 0, 0, 0, 0, 0, 0, 0, 0, 0, 0, 0, 0, 0, 0, 0, 1, 0, 0, 1, 0, 0, 0, 0, 0, 0, 1, 0, 0, 0, 0, 0, 0, 1, 1, 1, 0, 0, 1, 0, 0, 0, 0, 0, 0, 0, 0, 0, 0, 0, 0, 0, 0, 1, 0, 0, 0, 0, 1, 0, 0, 0, 0, 0, 0, 0, 0, 1, 0, 0, 0, 0, 0, 0, 0, 0, 0, 0, 0, 0, 0, 0, 0, 0, 0, 0, 0, 0, 0, 0, 0, 0, 0, 0, 0, 0, 0, 0, 0, 0, 0, 0, 0, 0, 0, 0, 0, 0, 0, 0, 1, 1, 1, 0, 0, 0, 0, 0, 0, 0, 0, 0, 0, 1, 0, 0, 0, 0, 0, 0, 0, 0, 1, 0, 0, 0, 0, 1, 0, 0, 0, 0, 0, 0, 0, 1, 0, 0, 0, 1, 0, 0, 0, 0, 0, 0, 0, 0, 0, 0, 0, 1, 0, 0, 0, 0, 0, 1, 0, 0, 0, 0, 0, 0, 0, 0, 0, 0, 0, 0, 0, 0, 0, 0, 0, 1, 0, 0, 0, 0, 0, 0, 0, 0, 0, 0, 0, 0, 0, 0, 0, 0, 0, 0, 0, 0, 0, 0], 'tour_cost': 492344.55279788387, 'packing_plan_cost': 30000, 'rank': 8, 'crowding_distance': inf}),\n",
       " struct({'tour': [243, 33, 138, 205, 99, 242, 277, 132, 250, 104, 252, 35, 137, 13, 217, 6, 21, 47, 156, 38, 129, 34, 49, 53, 190, 145, 273, 25, 93, 278, 207, 215, 133, 182, 197, 103, 97, 234, 240, 123, 168, 253, 251, 256, 189, 64, 121, 258, 27, 73, 114, 52, 57, 221, 223, 229, 265, 237, 95, 134, 232, 162, 120, 165, 241, 2, 42, 39, 135, 74, 183, 106, 172, 86, 51, 245, 50, 192, 100, 107, 48, 44, 259, 22, 94, 109, 136, 5, 203, 155, 238, 233, 36, 62, 164, 1, 108, 7, 20, 70, 84, 91, 201, 105, 41, 9, 158, 4, 276, 176, 166, 210, 239, 147, 184, 140, 171, 169, 266, 24, 274, 115, 68, 218, 204, 186, 271, 211, 18, 58, 119, 78, 268, 209, 198, 153, 228, 235, 19, 150, 56, 180, 43, 216, 163, 127, 111, 60, 113, 247, 12, 160, 26, 28, 112, 231, 110, 196, 87, 88, 246, 175, 267, 40, 30, 118, 270, 65, 46, 230, 116, 191, 212, 16, 224, 263, 69, 200, 131, 195, 152, 82, 8, 139, 83, 126, 170, 11, 32, 154, 125, 3, 45, 141, 142, 67, 174, 75, 98, 61, 143, 66, 128, 261, 14, 72, 249, 254, 236, 226, 214, 227, 92, 255, 262, 206, 17, 178, 167, 208, 37, 71, 96, 101, 0, 194, 173, 102, 260, 177, 179, 31, 213, 59, 122, 181, 130, 257, 54, 199, 149, 144, 10, 77, 202, 222, 187, 193, 90, 159, 151, 219, 148, 146, 279, 220, 79, 188, 117, 161, 248, 80, 225, 275, 63, 23, 244, 157, 185, 81, 89, 55, 264, 15, 85, 269, 29, 76, 124, 272], 'packing_plan': [0, 1, 1, 0, 0, 0, 0, 0, 0, 0, 0, 0, 0, 0, 0, 0, 0, 0, 1, 0, 0, 0, 0, 0, 1, 0, 0, 0, 0, 0, 0, 1, 1, 0, 0, 0, 0, 0, 0, 0, 0, 0, 0, 0, 0, 0, 0, 0, 0, 0, 0, 0, 1, 0, 0, 0, 0, 0, 0, 0, 1, 0, 0, 0, 0, 0, 0, 0, 0, 0, 0, 0, 1, 0, 0, 0, 0, 0, 0, 0, 0, 0, 0, 0, 0, 0, 0, 0, 0, 0, 0, 0, 0, 0, 1, 0, 0, 0, 0, 0, 0, 0, 0, 1, 0, 1, 0, 0, 0, 0, 0, 0, 0, 0, 1, 0, 0, 1, 0, 0, 0, 1, 0, 0, 0, 1, 0, 0, 0, 0, 0, 0, 1, 0, 0, 0, 0, 0, 0, 0, 0, 0, 0, 0, 0, 0, 0, 0, 0, 0, 0, 0, 0, 0, 0, 1, 0, 0, 0, 0, 0, 0, 0, 1, 0, 0, 0, 1, 1, 0, 0, 0, 0, 0, 0, 0, 0, 0, 0, 0, 0, 0, 1, 0, 0, 1, 0, 0, 0, 0, 0, 0, 0, 0, 0, 1, 0, 0, 0, 0, 0, 0, 0, 0, 0, 0, 0, 0, 0, 0, 0, 0, 0, 0, 0, 0, 0, 0, 0, 0, 0, 0, 0, 0, 0, 0, 0, 0, 0, 0, 0, 0, 0, 0, 0, 0, 0, 0, 0, 0, 0, 0, 0, 0, 0, 0, 0, 1, 0, 0, 0, 0, 0, 0, 0, 0, 0, 0, 0, 0, 0, 0, 0, 0, 0, 0, 0, 0, 0, 0, 0, 0, 0, 0, 0, 1, 0, 0, 0], 'tour_cost': 708085.064202242, 'packing_plan_cost': 30766, 'rank': 7, 'crowding_distance': 0.27261336543877873}),\n",
       " struct({'tour': [38, 220, 185, 118, 170, 106, 229, 174, 178, 7, 196, 173, 29, 248, 27, 275, 205, 86, 77, 169, 42, 215, 201, 75, 239, 33, 108, 126, 83, 138, 207, 171, 190, 92, 107, 226, 268, 272, 176, 16, 230, 88, 222, 13, 264, 110, 119, 115, 227, 159, 189, 163, 30, 199, 237, 144, 238, 209, 153, 213, 59, 43, 102, 9, 167, 150, 111, 183, 218, 23, 206, 257, 277, 148, 84, 259, 11, 158, 55, 177, 265, 51, 184, 35, 72, 37, 210, 249, 225, 278, 41, 70, 147, 3, 168, 161, 274, 271, 154, 157, 103, 146, 22, 95, 246, 117, 143, 129, 71, 181, 65, 26, 6, 198, 36, 192, 140, 17, 139, 233, 127, 279, 136, 234, 94, 120, 0, 82, 90, 175, 224, 212, 155, 45, 247, 10, 162, 172, 195, 250, 68, 74, 135, 240, 18, 1, 116, 203, 187, 208, 53, 60, 273, 54, 2, 122, 145, 134, 69, 133, 52, 62, 164, 20, 87, 251, 50, 255, 25, 40, 121, 28, 19, 57, 235, 156, 101, 97, 204, 256, 197, 202, 61, 79, 214, 31, 223, 114, 89, 244, 267, 14, 165, 263, 123, 151, 112, 113, 266, 186, 56, 66, 258, 252, 44, 182, 179, 228, 67, 46, 39, 188, 232, 211, 262, 137, 253, 261, 245, 48, 191, 49, 180, 128, 91, 132, 149, 34, 78, 125, 58, 142, 160, 8, 193, 85, 12, 99, 236, 166, 93, 98, 109, 152, 81, 216, 15, 124, 63, 96, 254, 76, 105, 21, 231, 73, 260, 242, 131, 194, 241, 243, 24, 141, 32, 47, 270, 217, 100, 276, 4, 80, 130, 200, 221, 104, 64, 269, 219, 5], 'packing_plan': [0, 1, 0, 0, 0, 0, 0, 0, 0, 0, 0, 0, 0, 0, 0, 0, 0, 0, 0, 0, 0, 0, 1, 0, 0, 0, 0, 0, 0, 0, 0, 0, 0, 0, 0, 0, 0, 0, 0, 0, 0, 0, 0, 0, 0, 0, 0, 1, 0, 0, 0, 0, 0, 0, 0, 0, 1, 0, 0, 0, 1, 0, 0, 0, 0, 0, 0, 0, 0, 0, 0, 1, 0, 0, 0, 1, 0, 0, 0, 0, 0, 0, 0, 0, 0, 0, 0, 0, 1, 0, 0, 0, 0, 0, 0, 0, 1, 0, 0, 1, 0, 0, 0, 0, 0, 0, 0, 0, 0, 0, 0, 0, 0, 0, 0, 0, 0, 0, 0, 0, 0, 0, 0, 0, 0, 0, 1, 0, 0, 0, 0, 0, 0, 0, 0, 0, 0, 0, 0, 0, 0, 0, 0, 0, 0, 0, 0, 1, 0, 0, 0, 0, 0, 0, 0, 1, 0, 0, 0, 0, 0, 0, 0, 0, 0, 0, 0, 0, 0, 0, 0, 0, 0, 0, 1, 0, 1, 0, 0, 0, 0, 0, 0, 0, 0, 0, 0, 0, 0, 0, 0, 0, 0, 0, 0, 0, 0, 0, 1, 0, 0, 0, 0, 0, 0, 0, 0, 0, 0, 0, 0, 0, 0, 0, 0, 0, 0, 0, 0, 0, 0, 0, 0, 0, 0, 1, 0, 0, 0, 0, 0, 0, 0, 1, 0, 0, 0, 0, 0, 1, 0, 0, 0, 1, 0, 0, 0, 0, 0, 0, 0, 0, 0, 0, 0, 1, 0, 0, 0, 0, 0, 0, 0, 0, 0, 1, 0, 0, 1, 0, 0, 0, 0, 0, 0, 0, 0, 0, 1], 'tour_cost': 441596.8361598458, 'packing_plan_cost': 30346, 'rank': 3, 'crowding_distance': 0.6675122341938183}),\n",
       " struct({'tour': [48, 131, 18, 220, 253, 57, 148, 115, 199, 83, 240, 127, 190, 70, 82, 214, 185, 128, 66, 157, 152, 227, 205, 217, 161, 228, 234, 269, 2, 40, 134, 69, 50, 104, 45, 255, 13, 208, 77, 96, 27, 203, 0, 182, 243, 147, 21, 265, 80, 118, 4, 102, 53, 177, 187, 271, 170, 64, 16, 146, 87, 71, 236, 81, 155, 94, 194, 136, 59, 275, 268, 180, 254, 162, 165, 237, 55, 139, 35, 112, 61, 178, 266, 49, 67, 36, 232, 58, 239, 44, 6, 28, 159, 270, 252, 235, 263, 92, 42, 210, 201, 206, 276, 101, 34, 7, 149, 250, 46, 63, 156, 88, 91, 219, 119, 150, 93, 110, 249, 226, 179, 103, 242, 10, 79, 116, 14, 202, 261, 47, 200, 129, 186, 84, 144, 259, 160, 39, 43, 257, 114, 38, 231, 174, 33, 184, 65, 272, 166, 107, 260, 52, 163, 213, 256, 105, 238, 209, 30, 23, 142, 62, 1, 218, 41, 172, 164, 221, 224, 274, 11, 229, 141, 191, 75, 106, 212, 137, 140, 215, 133, 8, 19, 123, 193, 262, 189, 24, 277, 78, 151, 196, 5, 56, 145, 169, 267, 126, 90, 12, 244, 233, 99, 109, 195, 26, 175, 97, 171, 225, 132, 74, 153, 31, 3, 76, 197, 130, 60, 176, 22, 98, 15, 230, 124, 100, 211, 192, 73, 278, 108, 68, 143, 89, 120, 113, 9, 204, 241, 85, 17, 247, 54, 246, 223, 125, 29, 245, 158, 25, 188, 121, 198, 86, 167, 122, 51, 37, 248, 95, 117, 32, 251, 264, 222, 279, 181, 258, 154, 135, 216, 20, 138, 72, 173, 168, 273, 111, 207, 183], 'packing_plan': [1, 0, 0, 1, 0, 1, 0, 0, 0, 0, 0, 0, 0, 0, 0, 0, 0, 0, 0, 0, 0, 1, 1, 0, 0, 0, 0, 0, 0, 0, 0, 0, 0, 0, 1, 0, 0, 0, 0, 0, 0, 0, 0, 0, 0, 0, 0, 0, 0, 0, 0, 0, 0, 0, 1, 0, 0, 0, 1, 0, 0, 0, 0, 1, 0, 0, 0, 0, 0, 0, 0, 0, 0, 0, 1, 0, 0, 0, 0, 0, 0, 0, 0, 0, 0, 0, 0, 0, 0, 0, 0, 0, 0, 0, 0, 0, 0, 0, 0, 1, 0, 0, 0, 0, 0, 0, 0, 0, 0, 0, 0, 0, 0, 0, 0, 0, 1, 0, 0, 0, 0, 0, 0, 1, 0, 0, 0, 0, 0, 0, 0, 0, 0, 0, 0, 0, 0, 0, 0, 1, 0, 1, 0, 1, 0, 0, 0, 0, 0, 0, 0, 0, 0, 0, 0, 1, 0, 0, 0, 0, 1, 0, 0, 0, 0, 0, 1, 0, 0, 0, 0, 0, 0, 0, 0, 0, 0, 0, 0, 0, 0, 0, 0, 0, 0, 0, 1, 0, 0, 1, 0, 0, 0, 0, 1, 0, 0, 0, 0, 0, 0, 0, 0, 0, 0, 0, 0, 0, 0, 1, 0, 1, 0, 0, 0, 1, 0, 0, 0, 0, 0, 0, 0, 0, 0, 0, 0, 0, 0, 0, 0, 0, 0, 0, 1, 0, 0, 0, 0, 0, 0, 1, 0, 0, 0, 0, 0, 0, 0, 0, 0, 0, 0, 0, 0, 0, 0, 0, 0, 0, 0, 0, 0, 0, 0, 0, 0, 1, 0, 0, 0, 0, 0, 1, 0, 0, 0, 0, 0], 'tour_cost': 454812.5580190084, 'packing_plan_cost': 28302, 'rank': 6, 'crowding_distance': 0.9284103762706131}),\n",
       " struct({'tour': [91, 102, 101, 10, 38, 274, 1, 246, 29, 208, 264, 117, 172, 115, 50, 235, 169, 32, 188, 130, 229, 25, 59, 85, 48, 11, 205, 164, 34, 40, 126, 88, 254, 110, 186, 233, 106, 181, 35, 230, 239, 227, 96, 65, 213, 192, 221, 212, 6, 248, 72, 8, 41, 54, 180, 84, 45, 244, 46, 198, 260, 228, 94, 67, 252, 23, 268, 148, 113, 270, 178, 263, 60, 135, 24, 219, 211, 149, 277, 185, 276, 136, 12, 255, 13, 223, 256, 147, 279, 210, 15, 137, 245, 71, 76, 68, 39, 132, 262, 140, 26, 47, 16, 17, 100, 153, 174, 177, 278, 141, 157, 267, 99, 201, 90, 152, 53, 187, 95, 167, 207, 93, 216, 56, 218, 179, 104, 22, 271, 74, 77, 97, 160, 156, 82, 87, 269, 19, 42, 129, 241, 122, 249, 251, 98, 209, 240, 128, 182, 43, 114, 202, 118, 92, 170, 183, 142, 4, 78, 73, 173, 7, 105, 0, 203, 134, 143, 33, 220, 14, 127, 109, 215, 189, 171, 168, 234, 199, 154, 69, 58, 89, 2, 21, 247, 111, 62, 261, 75, 55, 163, 155, 131, 272, 196, 83, 190, 123, 184, 27, 191, 162, 193, 232, 257, 107, 266, 44, 124, 226, 120, 231, 159, 206, 144, 57, 108, 20, 28, 194, 225, 238, 52, 242, 175, 79, 236, 214, 70, 30, 237, 217, 275, 197, 18, 112, 37, 116, 250, 273, 158, 36, 9, 265, 146, 80, 253, 63, 166, 222, 119, 200, 259, 66, 125, 150, 161, 64, 121, 224, 49, 243, 145, 86, 133, 195, 204, 139, 31, 61, 81, 165, 103, 151, 138, 3, 258, 5, 176, 51], 'packing_plan': [0, 0, 0, 0, 0, 0, 0, 0, 0, 0, 0, 0, 1, 0, 0, 0, 0, 0, 0, 0, 0, 0, 0, 0, 0, 1, 0, 0, 0, 0, 0, 0, 0, 0, 0, 0, 1, 0, 0, 0, 0, 0, 0, 0, 0, 0, 0, 0, 1, 1, 0, 0, 0, 0, 0, 0, 0, 0, 0, 0, 0, 0, 0, 0, 0, 1, 0, 0, 0, 0, 1, 0, 0, 0, 0, 0, 0, 0, 0, 0, 0, 0, 0, 0, 1, 0, 0, 0, 0, 0, 1, 0, 0, 0, 0, 0, 0, 0, 0, 0, 0, 0, 1, 0, 0, 0, 0, 0, 0, 0, 0, 0, 0, 0, 0, 0, 0, 0, 0, 0, 0, 0, 0, 0, 0, 0, 0, 0, 0, 0, 0, 1, 0, 0, 0, 0, 0, 1, 0, 0, 1, 0, 0, 0, 1, 0, 0, 0, 0, 0, 0, 0, 0, 0, 0, 0, 0, 0, 0, 0, 0, 0, 0, 0, 0, 0, 0, 0, 0, 0, 0, 0, 1, 0, 1, 0, 0, 0, 0, 0, 0, 0, 0, 0, 0, 0, 0, 0, 0, 0, 0, 0, 0, 0, 0, 0, 0, 0, 0, 0, 0, 0, 0, 0, 0, 0, 0, 0, 0, 0, 1, 0, 0, 0, 0, 1, 0, 0, 0, 0, 0, 0, 0, 0, 0, 0, 1, 0, 0, 0, 0, 0, 1, 0, 0, 0, 0, 1, 0, 0, 0, 0, 0, 0, 0, 0, 0, 0, 1, 1, 1, 0, 0, 0, 0, 0, 0, 0, 0, 1, 0, 0, 0, 1, 0, 0, 0, 0, 0, 0, 0, 0, 0, 0, 0, 0, 0, 0, 0], 'tour_cost': 445461.6305228157, 'packing_plan_cost': 30675, 'rank': 3, 'crowding_distance': 0.64400875165607}),\n",
       " struct({'tour': [179, 238, 192, 84, 257, 1, 212, 109, 190, 156, 21, 108, 170, 202, 50, 43, 154, 206, 13, 114, 216, 199, 53, 138, 204, 198, 187, 116, 44, 250, 203, 255, 272, 224, 123, 52, 42, 129, 67, 178, 64, 88, 65, 230, 130, 256, 127, 86, 160, 34, 124, 270, 9, 236, 225, 200, 252, 258, 69, 85, 146, 235, 100, 150, 48, 92, 159, 105, 118, 233, 128, 106, 29, 102, 89, 104, 137, 267, 71, 197, 17, 189, 110, 72, 209, 76, 33, 245, 57, 232, 125, 25, 153, 182, 277, 23, 99, 263, 41, 194, 247, 149, 264, 211, 195, 103, 30, 184, 244, 215, 121, 253, 81, 222, 268, 24, 148, 94, 191, 265, 56, 164, 152, 217, 31, 14, 3, 66, 140, 98, 155, 75, 96, 219, 55, 22, 46, 80, 254, 26, 27, 275, 241, 132, 229, 210, 79, 181, 171, 242, 168, 70, 158, 193, 131, 279, 40, 271, 172, 278, 68, 221, 259, 207, 87, 28, 107, 163, 117, 205, 226, 134, 59, 12, 243, 119, 218, 141, 151, 83, 126, 2, 214, 35, 143, 213, 95, 166, 186, 73, 19, 196, 8, 113, 58, 91, 180, 161, 208, 139, 47, 248, 169, 10, 188, 185, 157, 249, 237, 20, 0, 135, 115, 251, 51, 262, 142, 38, 167, 165, 90, 37, 231, 227, 36, 16, 260, 147, 223, 173, 60, 133, 122, 45, 97, 276, 176, 11, 266, 228, 246, 220, 120, 78, 39, 239, 32, 5, 183, 201, 4, 177, 175, 7, 136, 240, 54, 112, 101, 63, 93, 6, 49, 62, 144, 61, 111, 269, 273, 77, 74, 234, 145, 162, 82, 274, 174, 261, 15, 18], 'packing_plan': [0, 0, 0, 0, 0, 1, 0, 1, 0, 0, 0, 1, 1, 0, 0, 0, 0, 0, 1, 0, 0, 0, 0, 0, 0, 0, 0, 0, 0, 0, 0, 0, 1, 0, 0, 0, 0, 0, 0, 0, 0, 0, 0, 0, 0, 0, 0, 0, 0, 0, 0, 0, 0, 0, 0, 0, 0, 0, 0, 0, 0, 0, 0, 0, 0, 0, 0, 0, 0, 0, 0, 0, 0, 0, 0, 0, 0, 0, 0, 1, 0, 1, 0, 1, 0, 0, 0, 0, 0, 0, 1, 0, 0, 0, 1, 0, 0, 0, 0, 0, 0, 0, 0, 0, 0, 1, 0, 1, 0, 0, 0, 0, 0, 0, 0, 1, 0, 0, 0, 0, 0, 0, 0, 0, 0, 0, 0, 0, 0, 0, 0, 0, 0, 0, 0, 0, 0, 0, 0, 0, 1, 0, 0, 0, 0, 0, 0, 0, 0, 0, 0, 0, 1, 0, 0, 0, 0, 0, 0, 0, 0, 0, 0, 0, 0, 0, 0, 0, 0, 0, 0, 0, 0, 1, 0, 0, 0, 0, 0, 0, 0, 1, 0, 0, 0, 0, 0, 0, 0, 0, 0, 0, 0, 1, 0, 1, 0, 0, 0, 0, 0, 0, 1, 0, 0, 0, 0, 0, 0, 0, 0, 0, 0, 0, 0, 0, 0, 0, 0, 0, 0, 0, 0, 0, 0, 0, 0, 0, 0, 0, 0, 0, 0, 0, 0, 0, 0, 0, 0, 0, 0, 1, 0, 0, 1, 0, 0, 0, 0, 0, 0, 0, 0, 0, 0, 0, 0, 0, 0, 0, 0, 0, 0, 0, 1, 0, 0, 1, 0, 0, 0, 0, 1, 0, 0, 0, 0, 0, 0], 'tour_cost': 335537.3888133028, 'packing_plan_cost': 29558, 'rank': 2, 'crowding_distance': inf}),\n",
       " struct({'tour': [274, 167, 146, 132, 38, 246, 9, 67, 277, 254, 43, 84, 224, 223, 193, 74, 34, 50, 189, 114, 98, 216, 35, 264, 214, 175, 278, 81, 255, 106, 19, 13, 66, 110, 163, 252, 184, 33, 60, 199, 234, 134, 121, 258, 126, 137, 170, 102, 100, 104, 171, 139, 217, 226, 77, 253, 257, 152, 176, 45, 136, 49, 225, 44, 154, 205, 144, 190, 108, 64, 63, 124, 72, 36, 54, 141, 229, 164, 249, 83, 166, 39, 151, 26, 91, 248, 236, 158, 23, 162, 267, 125, 41, 46, 122, 180, 235, 196, 103, 261, 237, 127, 159, 192, 220, 80, 92, 183, 198, 172, 153, 37, 85, 203, 48, 206, 51, 32, 55, 53, 174, 70, 238, 6, 62, 241, 101, 177, 160, 24, 111, 247, 195, 242, 179, 275, 188, 95, 82, 29, 269, 59, 94, 116, 17, 211, 215, 78, 15, 233, 7, 140, 250, 265, 27, 0, 186, 113, 76, 150, 58, 107, 231, 25, 169, 22, 212, 73, 90, 165, 65, 11, 228, 230, 251, 133, 213, 57, 173, 182, 118, 259, 75, 208, 271, 157, 197, 87, 119, 155, 244, 68, 56, 143, 40, 97, 187, 30, 31, 279, 105, 245, 181, 222, 194, 130, 147, 28, 268, 256, 142, 10, 145, 273, 1, 3, 161, 263, 240, 210, 4, 135, 18, 14, 168, 129, 79, 5, 260, 227, 42, 112, 262, 201, 149, 232, 20, 131, 47, 96, 276, 89, 93, 16, 218, 71, 99, 117, 115, 185, 123, 12, 204, 270, 156, 272, 21, 207, 202, 239, 86, 138, 88, 209, 219, 221, 2, 52, 243, 200, 148, 120, 191, 109, 178, 128, 8, 266, 69, 61], 'packing_plan': [0, 0, 0, 0, 0, 0, 0, 0, 0, 0, 0, 0, 0, 0, 0, 0, 0, 0, 0, 0, 0, 0, 0, 0, 0, 0, 0, 0, 0, 1, 0, 0, 0, 0, 1, 0, 0, 0, 0, 0, 0, 0, 0, 0, 0, 0, 0, 1, 1, 0, 1, 0, 0, 0, 0, 0, 0, 1, 0, 0, 0, 0, 0, 0, 0, 0, 0, 0, 0, 0, 0, 0, 0, 0, 0, 0, 0, 0, 0, 0, 0, 0, 0, 0, 0, 1, 0, 0, 1, 0, 0, 0, 0, 0, 0, 0, 0, 0, 1, 0, 0, 0, 0, 1, 0, 0, 0, 0, 0, 1, 0, 0, 0, 0, 0, 0, 0, 0, 0, 0, 0, 0, 0, 0, 1, 0, 0, 0, 0, 0, 0, 0, 0, 0, 0, 0, 0, 0, 0, 0, 0, 0, 0, 0, 0, 0, 0, 0, 0, 0, 0, 0, 0, 0, 0, 0, 0, 0, 0, 0, 1, 0, 0, 0, 0, 0, 0, 0, 0, 0, 0, 1, 0, 0, 1, 0, 1, 0, 1, 1, 0, 0, 0, 0, 0, 0, 0, 0, 0, 0, 0, 0, 0, 0, 0, 0, 0, 1, 0, 0, 0, 0, 0, 0, 0, 0, 0, 0, 1, 0, 1, 0, 0, 0, 0, 0, 0, 0, 0, 0, 0, 0, 0, 0, 1, 0, 0, 0, 1, 0, 0, 0, 0, 1, 1, 0, 0, 0, 0, 0, 0, 0, 0, 0, 0, 0, 0, 0, 0, 0, 0, 0, 0, 0, 0, 1, 0, 0, 0, 0, 0, 0, 0, 0, 0, 0, 0, 0, 0, 0, 0, 0, 0, 0, 1, 1, 0, 0, 0], 'tour_cost': 579934.0524184288, 'packing_plan_cost': 31016, 'rank': 6, 'crowding_distance': inf}),\n",
       " struct({'tour': [66, 43, 253, 207, 102, 193, 259, 42, 98, 22, 49, 73, 230, 29, 173, 84, 65, 17, 270, 244, 194, 154, 164, 158, 46, 127, 91, 210, 166, 146, 163, 104, 169, 37, 242, 101, 74, 237, 267, 208, 261, 144, 236, 86, 222, 31, 197, 160, 200, 119, 99, 18, 178, 25, 53, 185, 157, 247, 181, 35, 223, 71, 134, 143, 100, 123, 3, 168, 205, 12, 257, 132, 125, 186, 266, 148, 122, 72, 182, 133, 51, 39, 60, 30, 34, 150, 171, 47, 57, 130, 5, 107, 118, 239, 206, 116, 1, 232, 6, 113, 268, 269, 211, 23, 225, 112, 203, 204, 252, 240, 167, 250, 142, 255, 111, 226, 2, 92, 153, 54, 40, 16, 191, 138, 36, 159, 260, 110, 21, 161, 95, 0, 243, 245, 20, 68, 216, 129, 89, 218, 4, 278, 69, 174, 198, 120, 249, 87, 136, 64, 241, 274, 8, 180, 219, 83, 61, 262, 126, 195, 124, 106, 279, 227, 114, 121, 228, 175, 81, 19, 11, 212, 135, 172, 233, 177, 79, 217, 55, 147, 103, 105, 248, 10, 215, 115, 75, 15, 90, 151, 196, 183, 80, 63, 41, 9, 26, 246, 254, 94, 48, 188, 7, 85, 76, 82, 109, 96, 62, 139, 56, 38, 271, 231, 108, 32, 14, 58, 273, 137, 275, 214, 190, 263, 52, 272, 251, 141, 145, 256, 152, 179, 238, 78, 201, 184, 117, 128, 224, 220, 44, 24, 189, 59, 187, 13, 234, 221, 156, 162, 45, 202, 229, 70, 28, 258, 88, 209, 199, 140, 235, 192, 149, 213, 265, 93, 277, 276, 97, 264, 67, 77, 165, 176, 50, 131, 27, 33, 170, 155], 'packing_plan': [0, 0, 0, 0, 0, 0, 0, 0, 0, 0, 1, 0, 1, 0, 0, 0, 0, 0, 0, 0, 0, 0, 0, 1, 0, 0, 0, 0, 0, 0, 0, 0, 0, 0, 0, 0, 0, 1, 0, 1, 0, 0, 0, 0, 1, 0, 0, 0, 0, 0, 0, 0, 0, 0, 0, 0, 0, 1, 0, 0, 0, 0, 0, 0, 0, 1, 0, 0, 0, 0, 0, 0, 0, 0, 0, 0, 1, 0, 0, 0, 0, 0, 0, 0, 0, 0, 0, 0, 0, 1, 0, 0, 0, 0, 0, 0, 0, 0, 1, 0, 0, 0, 1, 0, 0, 0, 0, 0, 1, 0, 0, 0, 0, 0, 0, 0, 0, 0, 0, 0, 0, 0, 0, 0, 0, 0, 0, 0, 0, 0, 0, 0, 0, 0, 0, 0, 0, 0, 0, 0, 0, 0, 0, 0, 0, 0, 0, 1, 0, 0, 0, 0, 0, 0, 0, 1, 0, 0, 0, 0, 0, 0, 0, 0, 0, 0, 0, 0, 0, 0, 0, 1, 0, 0, 0, 0, 0, 0, 0, 0, 0, 1, 0, 0, 0, 0, 0, 0, 0, 0, 0, 0, 0, 0, 0, 0, 0, 0, 0, 0, 0, 0, 0, 0, 0, 1, 0, 0, 0, 0, 0, 0, 0, 0, 0, 0, 0, 1, 0, 0, 0, 0, 0, 0, 0, 1, 0, 0, 0, 0, 0, 1, 0, 0, 0, 0, 0, 1, 0, 0, 0, 0, 0, 0, 0, 0, 0, 0, 0, 1, 0, 0, 1, 0, 1, 0, 0, 0, 0, 0, 0, 0, 0, 0, 0, 0, 0, 0, 0, 0, 0, 0, 0, 0, 0, 0, 0, 0, 0], 'tour_cost': 515575.1280963761, 'packing_plan_cost': 30557, 'rank': 7, 'crowding_distance': 0.295566872589333}),\n",
       " struct({'tour': [123, 144, 200, 197, 253, 92, 147, 69, 206, 238, 97, 225, 45, 33, 195, 22, 25, 74, 28, 157, 44, 63, 274, 140, 56, 142, 102, 132, 267, 71, 151, 30, 77, 104, 245, 251, 187, 168, 73, 269, 232, 47, 129, 194, 259, 201, 4, 19, 226, 54, 202, 207, 149, 221, 268, 156, 179, 122, 113, 153, 162, 37, 173, 81, 32, 24, 115, 152, 205, 110, 16, 78, 170, 106, 275, 40, 211, 159, 160, 121, 263, 165, 279, 260, 1, 2, 250, 51, 103, 181, 204, 150, 41, 261, 7, 134, 146, 48, 70, 112, 276, 128, 242, 72, 93, 14, 180, 252, 215, 198, 68, 177, 212, 89, 38, 154, 167, 213, 62, 248, 126, 8, 67, 139, 21, 182, 5, 39, 191, 108, 50, 256, 155, 240, 244, 84, 192, 10, 189, 64, 257, 120, 79, 127, 262, 111, 217, 17, 229, 216, 228, 161, 266, 94, 61, 15, 55, 270, 220, 145, 36, 271, 193, 58, 96, 66, 222, 109, 98, 87, 27, 199, 114, 26, 59, 82, 190, 42, 208, 124, 241, 119, 57, 188, 255, 178, 235, 172, 135, 23, 88, 29, 264, 11, 196, 65, 35, 0, 138, 137, 9, 76, 107, 237, 3, 210, 12, 130, 224, 80, 148, 60, 34, 265, 223, 258, 6, 278, 13, 75, 219, 214, 185, 43, 239, 174, 233, 231, 184, 249, 166, 169, 186, 117, 83, 18, 277, 86, 136, 52, 209, 227, 218, 31, 133, 53, 141, 273, 230, 163, 91, 236, 85, 175, 49, 203, 246, 99, 131, 20, 247, 183, 254, 100, 95, 46, 143, 272, 101, 234, 118, 105, 158, 125, 164, 243, 90, 116, 171, 176], 'packing_plan': [0, 0, 0, 0, 0, 0, 0, 0, 0, 0, 0, 0, 0, 1, 0, 0, 0, 0, 0, 0, 0, 0, 0, 0, 1, 0, 0, 0, 0, 0, 0, 0, 0, 0, 0, 1, 0, 0, 0, 0, 0, 0, 0, 1, 0, 0, 1, 0, 0, 0, 0, 0, 0, 0, 0, 0, 0, 0, 0, 0, 0, 0, 0, 0, 0, 1, 0, 0, 0, 1, 0, 1, 0, 0, 0, 0, 0, 0, 1, 0, 1, 0, 0, 0, 0, 1, 0, 1, 0, 0, 0, 0, 0, 0, 0, 0, 0, 0, 0, 0, 0, 1, 0, 0, 1, 0, 0, 0, 0, 0, 0, 0, 0, 0, 0, 0, 0, 0, 0, 0, 0, 0, 0, 0, 0, 0, 0, 0, 0, 1, 0, 0, 0, 0, 0, 0, 0, 0, 0, 0, 0, 0, 0, 1, 1, 0, 0, 0, 0, 0, 0, 0, 0, 0, 0, 0, 0, 0, 0, 0, 0, 0, 0, 0, 0, 0, 0, 0, 0, 0, 0, 0, 0, 0, 1, 0, 0, 0, 0, 0, 0, 0, 0, 0, 0, 0, 0, 0, 0, 0, 0, 0, 0, 0, 0, 0, 0, 1, 0, 0, 0, 0, 0, 0, 0, 0, 0, 0, 0, 0, 0, 0, 0, 0, 0, 0, 0, 0, 0, 0, 0, 0, 0, 1, 0, 0, 0, 0, 1, 0, 0, 0, 0, 0, 0, 0, 0, 1, 0, 1, 0, 0, 0, 0, 0, 0, 0, 0, 0, 0, 0, 0, 0, 0, 0, 0, 0, 0, 0, 0, 0, 1, 0, 1, 0, 0, 0, 0, 1, 0, 0, 0, 0, 0, 0, 0, 0, 0, 0], 'tour_cost': 578805.6770104549, 'packing_plan_cost': 30913, 'rank': 6, 'crowding_distance': 0.4544744806084865}),\n",
       " struct({'tour': [238, 89, 195, 200, 274, 17, 105, 73, 244, 148, 211, 187, 36, 246, 185, 268, 182, 50, 118, 171, 214, 87, 180, 83, 75, 251, 256, 43, 38, 34, 130, 74, 129, 277, 273, 41, 25, 59, 199, 63, 49, 260, 67, 103, 206, 160, 66, 270, 84, 225, 233, 5, 261, 178, 98, 208, 47, 52, 79, 217, 12, 35, 253, 72, 135, 32, 201, 166, 48, 259, 157, 27, 272, 95, 144, 110, 92, 278, 139, 26, 136, 237, 94, 133, 121, 221, 55, 88, 154, 197, 189, 162, 142, 184, 249, 11, 122, 146, 174, 191, 150, 117, 45, 147, 131, 243, 24, 97, 181, 173, 239, 65, 245, 76, 81, 29, 33, 265, 101, 61, 194, 21, 252, 28, 128, 56, 23, 4, 124, 168, 223, 114, 190, 226, 64, 207, 78, 85, 216, 161, 0, 257, 140, 235, 109, 40, 137, 262, 90, 241, 42, 203, 227, 15, 30, 126, 263, 222, 177, 156, 2, 57, 219, 1, 186, 149, 250, 119, 175, 159, 51, 46, 145, 192, 18, 218, 22, 111, 228, 120, 165, 248, 132, 20, 271, 170, 258, 7, 213, 127, 215, 60, 6, 106, 231, 125, 232, 69, 279, 16, 209, 123, 108, 179, 141, 188, 134, 264, 255, 167, 3, 14, 102, 58, 37, 254, 91, 193, 183, 212, 176, 240, 210, 202, 155, 267, 54, 205, 96, 198, 77, 236, 9, 266, 276, 158, 230, 13, 70, 204, 169, 224, 82, 234, 39, 104, 31, 112, 8, 62, 172, 138, 107, 86, 152, 275, 99, 153, 229, 116, 10, 80, 100, 143, 164, 151, 113, 163, 269, 19, 44, 68, 242, 247, 196, 71, 115, 53, 220, 93], 'packing_plan': [0, 0, 0, 0, 0, 0, 0, 0, 1, 0, 0, 0, 0, 0, 1, 0, 0, 0, 0, 0, 0, 0, 0, 0, 0, 0, 0, 0, 0, 0, 0, 0, 0, 0, 0, 0, 0, 0, 0, 0, 0, 0, 0, 0, 0, 0, 0, 0, 0, 0, 1, 0, 0, 0, 0, 0, 0, 0, 0, 0, 0, 0, 0, 0, 0, 0, 0, 0, 0, 0, 0, 1, 0, 1, 0, 0, 1, 0, 0, 0, 0, 0, 0, 0, 0, 0, 0, 0, 0, 0, 0, 1, 0, 0, 0, 0, 0, 0, 0, 0, 0, 0, 0, 0, 0, 0, 0, 0, 0, 0, 0, 0, 0, 0, 0, 0, 0, 0, 0, 0, 0, 0, 0, 0, 0, 0, 0, 0, 0, 0, 0, 0, 0, 1, 0, 0, 0, 0, 0, 0, 0, 0, 0, 0, 0, 0, 0, 0, 0, 0, 0, 0, 0, 0, 0, 0, 0, 0, 0, 0, 0, 1, 0, 1, 0, 0, 0, 0, 0, 0, 1, 0, 0, 0, 0, 0, 0, 0, 0, 0, 0, 0, 0, 1, 0, 0, 0, 0, 0, 0, 0, 1, 0, 1, 0, 0, 0, 0, 0, 0, 0, 0, 1, 0, 0, 0, 0, 0, 0, 0, 1, 0, 0, 0, 0, 0, 0, 0, 0, 0, 0, 0, 0, 0, 0, 0, 1, 0, 0, 0, 0, 0, 0, 0, 0, 0, 0, 0, 1, 0, 0, 0, 0, 0, 0, 0, 1, 0, 0, 1, 0, 0, 0, 0, 0, 0, 0, 0, 0, 0, 0, 0, 0, 0, 0, 0, 0, 0, 0, 0, 0, 0, 0, 0, 1, 0, 0, 0, 0], 'tour_cost': 478320.800884912, 'packing_plan_cost': 28696, 'rank': 8, 'crowding_distance': inf}),\n",
       " struct({'tour': [273, 120, 28, 229, 260, 81, 261, 140, 227, 277, 255, 0, 84, 29, 225, 59, 265, 134, 95, 38, 274, 169, 142, 93, 248, 164, 232, 9, 138, 191, 80, 210, 172, 94, 239, 87, 153, 219, 105, 254, 244, 135, 235, 103, 152, 75, 180, 1, 130, 127, 259, 67, 79, 214, 148, 234, 15, 217, 106, 175, 249, 168, 203, 107, 222, 204, 196, 186, 155, 156, 114, 42, 8, 52, 236, 27, 73, 195, 268, 102, 10, 44, 116, 115, 173, 88, 193, 166, 137, 216, 124, 194, 188, 51, 276, 11, 2, 110, 163, 230, 177, 49, 278, 24, 209, 223, 65, 256, 63, 264, 78, 176, 212, 266, 58, 231, 208, 154, 55, 245, 36, 150, 121, 25, 151, 40, 133, 243, 54, 85, 159, 269, 47, 125, 226, 200, 192, 240, 199, 252, 224, 183, 146, 147, 189, 162, 104, 279, 262, 64, 263, 238, 271, 111, 45, 71, 132, 251, 66, 34, 241, 60, 18, 86, 144, 90, 33, 113, 30, 96, 22, 267, 69, 213, 76, 32, 257, 181, 92, 198, 43, 187, 149, 158, 91, 202, 23, 258, 13, 21, 201, 109, 205, 123, 237, 247, 77, 3, 171, 197, 161, 16, 98, 179, 53, 207, 74, 131, 206, 19, 83, 68, 126, 117, 6, 218, 17, 170, 233, 167, 39, 57, 14, 182, 220, 250, 215, 228, 31, 129, 26, 270, 7, 211, 157, 246, 50, 221, 165, 99, 160, 4, 145, 5, 185, 118, 253, 190, 46, 97, 70, 62, 61, 35, 20, 41, 72, 48, 128, 119, 56, 37, 174, 139, 272, 122, 178, 89, 12, 82, 101, 275, 108, 100, 143, 141, 242, 136, 184, 112], 'packing_plan': [0, 0, 0, 0, 0, 0, 0, 0, 0, 0, 0, 0, 0, 0, 0, 0, 0, 0, 0, 0, 0, 0, 0, 0, 1, 0, 1, 0, 0, 0, 0, 0, 0, 0, 0, 1, 0, 0, 1, 0, 0, 0, 0, 0, 0, 0, 0, 0, 0, 0, 0, 1, 0, 0, 0, 0, 0, 0, 0, 0, 0, 0, 0, 0, 0, 0, 0, 0, 1, 0, 0, 0, 0, 1, 0, 0, 0, 0, 0, 0, 0, 0, 0, 0, 0, 0, 0, 0, 0, 0, 0, 0, 0, 1, 0, 0, 0, 0, 0, 1, 0, 0, 0, 0, 0, 0, 0, 0, 0, 0, 0, 0, 0, 0, 0, 0, 0, 0, 0, 0, 0, 0, 0, 1, 0, 0, 0, 0, 0, 0, 0, 0, 0, 0, 0, 0, 0, 0, 0, 0, 0, 0, 0, 0, 0, 0, 0, 0, 0, 0, 0, 0, 0, 0, 0, 0, 0, 0, 0, 1, 0, 0, 1, 0, 0, 1, 0, 0, 0, 0, 1, 0, 0, 0, 0, 1, 1, 1, 0, 0, 0, 0, 0, 0, 0, 0, 0, 0, 0, 0, 0, 0, 0, 0, 0, 0, 0, 0, 0, 0, 0, 0, 0, 1, 0, 0, 0, 0, 0, 1, 0, 0, 1, 1, 0, 0, 0, 0, 1, 0, 0, 1, 0, 0, 0, 0, 0, 0, 0, 0, 0, 0, 0, 0, 0, 1, 0, 0, 0, 0, 0, 0, 0, 0, 0, 0, 0, 0, 0, 1, 1, 1, 0, 0, 0, 1, 0, 0, 0, 0, 0, 0, 0, 0, 0, 0, 0, 0, 0, 0, 0, 0, 0, 0, 1, 0, 0, 0, 0], 'tour_cost': 458019.6186527054, 'packing_plan_cost': 29824, 'rank': 6, 'crowding_distance': 0.5738411292720601}),\n",
       " struct({'tour': [63, 209, 165, 265, 238, 66, 213, 62, 2, 220, 150, 217, 272, 228, 36, 270, 20, 170, 226, 118, 175, 189, 54, 191, 30, 154, 229, 269, 279, 124, 259, 127, 107, 185, 83, 59, 266, 263, 70, 97, 255, 253, 143, 157, 46, 188, 105, 74, 117, 110, 187, 178, 14, 38, 276, 173, 174, 201, 140, 45, 19, 277, 31, 58, 134, 116, 25, 194, 68, 44, 195, 136, 53, 60, 166, 89, 77, 152, 243, 227, 271, 137, 167, 260, 149, 26, 199, 275, 23, 79, 100, 221, 181, 151, 135, 132, 180, 9, 21, 112, 121, 94, 257, 142, 80, 125, 78, 129, 278, 251, 17, 148, 32, 98, 186, 242, 5, 92, 120, 37, 7, 177, 249, 47, 267, 262, 106, 268, 69, 236, 102, 101, 214, 16, 115, 183, 172, 139, 171, 193, 76, 230, 246, 245, 240, 202, 28, 103, 109, 33, 73, 232, 22, 57, 261, 1, 122, 225, 91, 42, 274, 55, 52, 210, 216, 29, 34, 241, 85, 218, 8, 204, 49, 197, 99, 192, 176, 128, 144, 24, 72, 12, 64, 40, 71, 126, 162, 158, 222, 224, 164, 206, 182, 234, 141, 108, 13, 163, 111, 254, 50, 155, 4, 145, 168, 56, 248, 41, 82, 215, 256, 93, 81, 196, 88, 86, 119, 252, 87, 123, 11, 233, 39, 75, 205, 138, 264, 203, 198, 235, 147, 273, 90, 51, 114, 211, 250, 61, 65, 104, 219, 212, 48, 96, 95, 84, 159, 160, 184, 237, 35, 200, 113, 0, 247, 207, 161, 231, 208, 18, 10, 156, 131, 239, 223, 3, 15, 133, 179, 169, 43, 244, 67, 190, 130, 146, 153, 6, 27, 258], 'packing_plan': [0, 1, 0, 0, 0, 1, 0, 0, 0, 0, 0, 1, 0, 0, 0, 0, 0, 0, 0, 0, 0, 0, 0, 1, 0, 0, 0, 0, 0, 0, 0, 0, 0, 0, 0, 0, 0, 0, 1, 0, 0, 0, 1, 0, 0, 0, 0, 0, 0, 0, 0, 0, 0, 0, 0, 0, 0, 0, 0, 0, 0, 0, 0, 0, 0, 0, 0, 0, 0, 0, 0, 0, 0, 0, 0, 0, 0, 0, 0, 0, 0, 0, 0, 0, 0, 0, 0, 1, 0, 0, 0, 0, 0, 0, 0, 0, 0, 0, 0, 0, 0, 0, 0, 0, 0, 0, 0, 0, 0, 0, 0, 0, 0, 0, 0, 0, 0, 0, 0, 0, 0, 0, 0, 0, 0, 0, 0, 0, 0, 0, 1, 0, 1, 0, 0, 0, 0, 0, 0, 0, 0, 0, 1, 0, 0, 0, 0, 0, 0, 0, 0, 0, 0, 0, 0, 0, 0, 0, 1, 0, 1, 0, 0, 0, 0, 0, 0, 0, 1, 0, 0, 0, 0, 0, 0, 1, 0, 0, 0, 0, 0, 0, 0, 1, 1, 0, 0, 0, 0, 0, 0, 0, 0, 0, 0, 0, 0, 0, 0, 0, 0, 0, 0, 0, 0, 1, 0, 0, 0, 0, 0, 0, 1, 0, 0, 0, 1, 0, 0, 0, 0, 0, 0, 0, 0, 0, 0, 0, 0, 0, 1, 0, 0, 0, 0, 0, 0, 0, 0, 0, 0, 1, 0, 0, 0, 0, 0, 0, 0, 0, 0, 0, 0, 0, 0, 1, 0, 0, 0, 0, 0, 0, 0, 0, 0, 0, 0, 0, 0, 0, 0, 1, 0, 0, 0, 0, 1, 0, 0], 'tour_cost': 331105.259212177, 'packing_plan_cost': 30629, 'rank': 1, 'crowding_distance': inf}),\n",
       " struct({'tour': [162, 166, 56, 199, 216, 191, 203, 176, 144, 78, 31, 221, 211, 116, 186, 183, 219, 113, 107, 103, 248, 29, 190, 163, 185, 77, 263, 69, 87, 111, 265, 5, 268, 244, 201, 245, 2, 84, 17, 39, 178, 232, 26, 137, 62, 65, 14, 189, 174, 136, 91, 180, 30, 173, 152, 262, 147, 210, 118, 169, 234, 52, 193, 15, 205, 66, 16, 61, 171, 23, 179, 206, 54, 72, 102, 100, 50, 257, 155, 252, 123, 45, 121, 33, 71, 64, 145, 106, 35, 167, 89, 198, 209, 256, 267, 108, 264, 231, 277, 249, 227, 279, 60, 238, 42, 153, 261, 273, 117, 172, 212, 32, 142, 224, 10, 139, 76, 254, 129, 126, 253, 74, 38, 278, 243, 46, 112, 97, 197, 161, 125, 133, 53, 247, 143, 104, 154, 140, 134, 105, 51, 99, 270, 168, 214, 177, 225, 6, 235, 3, 28, 148, 119, 184, 240, 196, 192, 258, 222, 92, 19, 57, 269, 236, 259, 1, 55, 82, 93, 223, 272, 110, 85, 170, 12, 195, 75, 127, 251, 151, 68, 131, 13, 41, 237, 63, 114, 250, 141, 7, 8, 109, 21, 165, 43, 94, 120, 218, 276, 132, 18, 246, 157, 81, 230, 22, 146, 208, 47, 217, 49, 4, 213, 95, 255, 0, 160, 233, 98, 175, 200, 207, 266, 88, 274, 241, 122, 260, 202, 188, 20, 83, 275, 48, 158, 220, 11, 181, 34, 239, 25, 44, 182, 228, 187, 73, 149, 58, 242, 271, 27, 115, 79, 90, 40, 9, 86, 36, 70, 96, 124, 101, 130, 59, 204, 215, 150, 138, 156, 80, 164, 67, 135, 229, 194, 128, 159, 226, 37, 24], 'packing_plan': [0, 0, 0, 0, 0, 0, 0, 0, 0, 0, 0, 0, 0, 0, 0, 0, 0, 0, 0, 1, 0, 0, 0, 0, 0, 1, 0, 0, 0, 0, 0, 0, 0, 0, 0, 0, 0, 0, 0, 0, 0, 0, 0, 0, 0, 0, 0, 0, 0, 0, 1, 0, 0, 0, 0, 1, 0, 0, 0, 0, 0, 0, 0, 0, 0, 0, 0, 0, 1, 1, 1, 0, 0, 0, 0, 0, 0, 0, 0, 0, 0, 0, 0, 0, 0, 0, 0, 0, 0, 0, 0, 0, 0, 0, 0, 1, 0, 0, 0, 0, 0, 1, 0, 0, 1, 0, 0, 0, 0, 0, 0, 0, 0, 0, 0, 0, 0, 0, 0, 0, 0, 0, 0, 0, 0, 0, 0, 0, 0, 0, 0, 0, 0, 1, 0, 0, 0, 1, 0, 0, 0, 0, 0, 0, 0, 0, 0, 0, 1, 0, 1, 0, 0, 0, 0, 0, 1, 0, 0, 0, 0, 0, 0, 0, 0, 1, 0, 0, 0, 0, 0, 1, 0, 0, 0, 0, 0, 0, 0, 0, 0, 0, 0, 0, 0, 0, 0, 0, 0, 0, 0, 0, 1, 0, 0, 0, 1, 0, 0, 0, 0, 0, 0, 1, 0, 0, 0, 0, 0, 0, 1, 0, 0, 0, 0, 0, 1, 0, 0, 0, 0, 0, 0, 0, 0, 0, 0, 0, 0, 0, 0, 1, 0, 0, 0, 0, 0, 0, 0, 0, 0, 0, 0, 0, 0, 0, 0, 0, 0, 0, 0, 1, 0, 0, 0, 0, 0, 0, 0, 0, 0, 0, 0, 0, 1, 1, 0, 0, 0, 0, 0, 0, 0, 0, 1, 0, 0, 0, 0], 'tour_cost': 514460.668434574, 'packing_plan_cost': 30747, 'rank': 6, 'crowding_distance': 0.8640289386900285}),\n",
       " struct({'tour': [2, 220, 24, 260, 109, 207, 159, 67, 128, 114, 15, 261, 77, 124, 69, 122, 256, 121, 113, 86, 117, 245, 169, 72, 46, 132, 35, 237, 27, 213, 241, 262, 195, 80, 78, 135, 171, 98, 183, 233, 145, 42, 177, 139, 242, 160, 119, 214, 239, 108, 218, 226, 277, 129, 244, 172, 14, 105, 151, 70, 252, 224, 66, 229, 34, 26, 133, 274, 19, 206, 265, 215, 250, 243, 39, 54, 254, 45, 76, 6, 198, 112, 85, 5, 137, 65, 212, 222, 225, 216, 32, 264, 28, 199, 266, 106, 91, 10, 126, 18, 118, 201, 17, 148, 73, 52, 33, 170, 22, 40, 209, 99, 173, 48, 63, 21, 59, 269, 141, 210, 115, 102, 87, 36, 179, 81, 197, 184, 162, 101, 255, 263, 104, 231, 246, 178, 158, 204, 235, 136, 211, 217, 267, 82, 186, 16, 221, 230, 180, 257, 208, 155, 31, 234, 258, 60, 196, 13, 125, 194, 3, 71, 275, 96, 146, 103, 142, 100, 176, 58, 185, 95, 191, 64, 189, 236, 251, 131, 50, 165, 205, 202, 57, 97, 20, 268, 107, 127, 84, 68, 47, 203, 273, 219, 110, 25, 240, 154, 29, 79, 11, 200, 55, 30, 247, 156, 175, 51, 130, 238, 94, 38, 272, 8, 123, 89, 270, 278, 134, 74, 12, 120, 83, 259, 9, 44, 161, 53, 276, 62, 223, 143, 228, 249, 111, 140, 152, 163, 182, 187, 90, 168, 271, 181, 227, 279, 88, 174, 41, 23, 192, 248, 1, 37, 0, 75, 93, 149, 150, 157, 4, 43, 164, 144, 153, 116, 253, 61, 190, 138, 49, 232, 188, 7, 193, 166, 167, 147, 92, 56], 'packing_plan': [0, 0, 0, 0, 1, 0, 0, 0, 0, 0, 0, 0, 0, 0, 0, 0, 0, 0, 0, 0, 0, 0, 1, 0, 0, 1, 0, 0, 0, 0, 0, 0, 0, 1, 0, 0, 0, 0, 0, 0, 0, 0, 0, 0, 0, 0, 0, 0, 0, 0, 1, 0, 1, 0, 0, 0, 0, 0, 0, 0, 1, 0, 0, 0, 1, 1, 0, 0, 0, 0, 0, 0, 0, 0, 0, 1, 0, 0, 0, 0, 0, 0, 0, 0, 0, 0, 0, 0, 0, 0, 0, 0, 0, 0, 0, 0, 0, 0, 0, 0, 0, 0, 0, 0, 0, 0, 0, 0, 0, 0, 0, 0, 0, 0, 0, 0, 0, 0, 1, 0, 0, 0, 0, 0, 0, 0, 1, 0, 0, 0, 0, 0, 0, 0, 0, 0, 0, 0, 0, 0, 0, 0, 0, 0, 0, 0, 0, 1, 0, 0, 0, 0, 1, 0, 0, 0, 0, 0, 0, 0, 0, 0, 0, 0, 1, 0, 0, 0, 0, 0, 0, 0, 1, 0, 0, 0, 0, 0, 0, 0, 0, 0, 0, 0, 0, 1, 0, 0, 0, 0, 0, 0, 0, 0, 0, 0, 0, 0, 0, 1, 0, 0, 0, 0, 0, 0, 0, 0, 0, 0, 0, 0, 0, 0, 0, 0, 0, 0, 0, 0, 0, 0, 1, 1, 0, 1, 0, 0, 0, 0, 1, 1, 0, 0, 0, 0, 0, 0, 0, 0, 0, 0, 0, 1, 0, 0, 0, 0, 0, 1, 0, 0, 0, 0, 0, 0, 0, 0, 0, 0, 0, 0, 0, 0, 0, 0, 0, 0, 0, 0, 0, 0, 0, 0, 0, 0, 0, 0, 0], 'tour_cost': 437406.56784175796, 'packing_plan_cost': 30834, 'rank': 2, 'crowding_distance': 0.6124582187144362}),\n",
       " struct({'tour': [78, 12, 259, 7, 211, 246, 233, 149, 121, 218, 10, 254, 29, 266, 223, 27, 46, 192, 101, 264, 115, 104, 260, 60, 124, 234, 206, 118, 130, 30, 156, 176, 143, 111, 65, 279, 188, 166, 126, 53, 96, 73, 119, 240, 2, 225, 186, 83, 54, 48, 215, 97, 263, 214, 247, 90, 229, 106, 204, 243, 47, 258, 194, 66, 129, 150, 154, 191, 94, 180, 4, 189, 201, 160, 80, 161, 69, 122, 117, 113, 177, 13, 72, 144, 21, 221, 231, 158, 175, 230, 64, 140, 239, 105, 165, 56, 169, 248, 222, 171, 32, 151, 107, 85, 51, 58, 43, 269, 76, 136, 183, 34, 28, 182, 253, 62, 153, 198, 67, 5, 174, 59, 109, 251, 99, 195, 6, 8, 278, 38, 244, 172, 184, 219, 203, 91, 273, 100, 276, 9, 24, 93, 17, 146, 155, 252, 86, 148, 228, 71, 108, 120, 87, 168, 213, 139, 44, 0, 128, 159, 270, 42, 277, 220, 227, 79, 92, 127, 197, 50, 199, 265, 40, 257, 147, 271, 256, 134, 164, 224, 216, 275, 173, 261, 52, 74, 19, 141, 82, 196, 274, 200, 84, 57, 132, 170, 187, 75, 133, 268, 190, 262, 41, 110, 35, 39, 33, 135, 55, 237, 25, 249, 112, 18, 61, 125, 167, 81, 49, 22, 236, 137, 95, 152, 3, 162, 20, 77, 181, 255, 1, 238, 145, 272, 70, 207, 123, 163, 37, 217, 103, 208, 68, 210, 202, 138, 89, 245, 131, 232, 178, 209, 205, 250, 15, 193, 14, 241, 179, 36, 212, 157, 23, 226, 98, 185, 45, 235, 267, 16, 114, 31, 142, 242, 116, 11, 63, 26, 102, 88], 'packing_plan': [1, 0, 0, 0, 0, 0, 0, 0, 0, 0, 0, 0, 0, 0, 0, 0, 0, 1, 1, 0, 0, 0, 0, 0, 0, 0, 0, 0, 0, 0, 0, 0, 0, 0, 0, 0, 0, 1, 0, 0, 0, 0, 0, 0, 0, 0, 0, 0, 0, 0, 0, 0, 0, 0, 0, 0, 0, 0, 0, 0, 0, 0, 0, 0, 0, 0, 1, 0, 0, 0, 1, 0, 0, 0, 1, 0, 0, 0, 0, 0, 0, 0, 0, 0, 0, 0, 0, 0, 0, 0, 0, 0, 0, 0, 1, 0, 1, 0, 0, 0, 0, 0, 0, 0, 0, 0, 0, 0, 1, 0, 0, 0, 0, 0, 0, 0, 0, 0, 0, 0, 0, 0, 0, 0, 0, 0, 0, 0, 0, 1, 0, 0, 0, 0, 1, 0, 0, 0, 1, 1, 0, 1, 0, 1, 0, 0, 0, 0, 0, 0, 0, 0, 0, 1, 0, 0, 0, 1, 0, 0, 0, 0, 0, 0, 0, 1, 0, 0, 0, 0, 0, 0, 0, 0, 1, 0, 0, 0, 0, 0, 0, 0, 0, 0, 0, 0, 0, 0, 0, 1, 0, 0, 0, 0, 0, 0, 0, 1, 0, 0, 0, 0, 0, 0, 1, 0, 1, 0, 0, 0, 0, 0, 0, 0, 0, 0, 0, 0, 0, 0, 0, 0, 0, 0, 0, 0, 0, 0, 0, 0, 0, 1, 0, 1, 0, 0, 0, 0, 0, 0, 0, 0, 0, 0, 0, 0, 0, 0, 0, 0, 0, 0, 0, 0, 0, 0, 0, 0, 0, 0, 0, 0, 0, 0, 0, 0, 0, 0, 0, 0, 1, 0, 0, 0, 0, 0, 0, 0, 0], 'tour_cost': 459176.23930815206, 'packing_plan_cost': 29987, 'rank': 6, 'crowding_distance': 0.16765648308064227}),\n",
       " struct({'tour': [47, 186, 269, 254, 53, 24, 258, 268, 160, 28, 58, 243, 85, 91, 54, 16, 159, 130, 226, 248, 211, 52, 203, 51, 167, 118, 82, 184, 109, 110, 17, 197, 5, 218, 107, 251, 15, 140, 131, 238, 45, 165, 214, 271, 227, 213, 135, 139, 86, 40, 190, 193, 81, 153, 244, 41, 152, 21, 202, 156, 43, 27, 217, 270, 134, 14, 11, 222, 37, 266, 33, 195, 204, 57, 188, 73, 157, 66, 75, 261, 162, 18, 3, 30, 103, 61, 182, 274, 231, 9, 68, 36, 150, 148, 137, 78, 62, 96, 44, 146, 163, 115, 31, 55, 263, 121, 95, 100, 48, 199, 161, 125, 7, 126, 177, 237, 69, 67, 138, 98, 154, 71, 49, 196, 206, 262, 273, 278, 46, 225, 228, 105, 74, 276, 189, 181, 102, 259, 229, 112, 64, 187, 176, 120, 76, 216, 104, 10, 279, 234, 123, 224, 265, 56, 26, 2, 172, 83, 19, 108, 142, 252, 242, 245, 124, 60, 264, 183, 179, 239, 247, 136, 253, 77, 65, 133, 194, 20, 171, 129, 35, 34, 201, 8, 70, 0, 4, 32, 87, 127, 143, 89, 39, 241, 180, 155, 141, 158, 236, 275, 88, 192, 90, 170, 151, 12, 122, 260, 72, 149, 13, 249, 221, 185, 215, 166, 230, 173, 63, 191, 233, 175, 169, 119, 111, 116, 208, 50, 92, 79, 22, 209, 101, 113, 219, 106, 117, 168, 23, 132, 114, 59, 205, 207, 99, 232, 145, 42, 198, 212, 277, 272, 178, 6, 1, 210, 257, 80, 84, 25, 94, 246, 200, 174, 250, 255, 164, 220, 144, 240, 93, 147, 223, 97, 38, 267, 128, 256, 235, 29], 'packing_plan': [0, 0, 1, 0, 0, 0, 0, 0, 0, 1, 0, 1, 0, 0, 0, 0, 0, 0, 0, 1, 0, 0, 0, 0, 0, 0, 0, 0, 0, 0, 0, 0, 0, 0, 0, 0, 0, 0, 0, 0, 0, 0, 0, 0, 0, 1, 0, 0, 0, 1, 0, 0, 0, 0, 0, 0, 0, 0, 0, 0, 0, 0, 0, 0, 0, 0, 1, 0, 0, 0, 0, 1, 1, 0, 0, 0, 0, 0, 0, 0, 0, 0, 0, 0, 0, 0, 0, 0, 0, 1, 0, 0, 0, 0, 0, 0, 0, 0, 0, 0, 0, 0, 0, 0, 0, 0, 0, 0, 0, 0, 0, 0, 0, 0, 0, 0, 0, 0, 0, 0, 0, 0, 0, 0, 0, 0, 0, 0, 0, 1, 0, 0, 0, 0, 0, 0, 0, 0, 1, 0, 0, 0, 0, 0, 0, 0, 1, 1, 0, 0, 0, 0, 0, 0, 0, 0, 0, 0, 0, 0, 0, 0, 0, 0, 0, 0, 0, 0, 0, 0, 1, 0, 0, 0, 0, 0, 1, 0, 0, 0, 0, 0, 0, 0, 0, 0, 0, 0, 1, 0, 0, 0, 0, 0, 0, 0, 1, 0, 0, 0, 0, 0, 0, 0, 0, 0, 0, 0, 0, 1, 0, 0, 0, 0, 0, 0, 0, 0, 0, 0, 1, 0, 0, 0, 0, 0, 0, 0, 0, 0, 1, 0, 0, 0, 0, 0, 0, 0, 0, 0, 0, 0, 0, 0, 0, 0, 0, 0, 0, 0, 0, 1, 0, 0, 0, 1, 0, 0, 0, 0, 0, 0, 0, 0, 0, 0, 0, 0, 0, 1, 0, 0, 0, 0, 0, 0, 0, 0, 0], 'tour_cost': 461780.7329432307, 'packing_plan_cost': 30895, 'rank': 4, 'crowding_distance': 0.8314296786776318}),\n",
       " struct({'tour': [127, 265, 277, 192, 258, 148, 74, 95, 86, 172, 16, 270, 106, 23, 165, 88, 71, 229, 243, 128, 219, 189, 17, 98, 203, 43, 92, 257, 202, 111, 24, 56, 20, 224, 29, 174, 220, 38, 105, 215, 230, 160, 223, 176, 109, 14, 77, 240, 2, 171, 267, 122, 237, 90, 276, 108, 80, 236, 186, 101, 107, 150, 75, 218, 225, 143, 139, 268, 34, 49, 259, 68, 274, 183, 157, 191, 266, 123, 99, 51, 133, 41, 170, 138, 30, 166, 221, 129, 155, 126, 245, 117, 146, 187, 256, 70, 242, 169, 247, 263, 271, 232, 141, 279, 12, 217, 132, 67, 1, 250, 6, 212, 73, 124, 62, 119, 244, 156, 0, 145, 102, 195, 112, 248, 7, 246, 159, 249, 198, 255, 79, 33, 252, 235, 26, 15, 27, 272, 262, 153, 53, 136, 201, 226, 152, 37, 162, 32, 21, 158, 54, 231, 57, 193, 82, 22, 278, 234, 76, 254, 50, 151, 78, 269, 181, 113, 264, 121, 11, 125, 44, 175, 84, 213, 140, 65, 204, 42, 19, 9, 114, 97, 55, 188, 197, 3, 253, 149, 205, 216, 163, 209, 238, 173, 196, 131, 100, 96, 260, 31, 206, 147, 91, 210, 144, 179, 28, 87, 178, 233, 167, 59, 239, 251, 135, 103, 94, 58, 25, 194, 40, 69, 18, 48, 261, 63, 200, 120, 46, 52, 10, 5, 142, 185, 241, 164, 227, 154, 177, 115, 83, 208, 36, 161, 104, 228, 81, 39, 13, 134, 180, 168, 184, 61, 130, 118, 207, 93, 60, 214, 35, 273, 66, 222, 89, 182, 137, 275, 8, 4, 190, 199, 116, 64, 45, 211, 47, 110, 85, 72], 'packing_plan': [0, 0, 0, 0, 1, 0, 0, 0, 0, 0, 0, 0, 0, 0, 1, 0, 0, 0, 0, 1, 0, 0, 0, 0, 0, 1, 0, 0, 0, 0, 0, 0, 0, 0, 0, 0, 1, 0, 0, 0, 0, 0, 0, 0, 0, 0, 0, 0, 0, 0, 0, 0, 0, 0, 0, 0, 0, 0, 0, 0, 0, 1, 0, 0, 1, 0, 0, 0, 0, 0, 0, 0, 0, 0, 0, 0, 0, 0, 0, 0, 0, 0, 0, 0, 0, 0, 0, 0, 0, 0, 0, 0, 0, 0, 0, 0, 0, 0, 0, 0, 0, 0, 0, 0, 0, 0, 0, 0, 1, 0, 0, 0, 0, 1, 0, 0, 0, 0, 0, 0, 0, 0, 0, 0, 0, 0, 0, 0, 0, 0, 0, 0, 0, 0, 0, 0, 1, 0, 0, 0, 0, 0, 0, 0, 0, 0, 1, 0, 0, 0, 0, 0, 0, 0, 1, 0, 0, 0, 0, 0, 0, 0, 0, 0, 1, 0, 0, 0, 1, 0, 0, 0, 0, 1, 0, 0, 0, 0, 0, 0, 0, 0, 0, 0, 0, 0, 0, 0, 0, 0, 0, 1, 0, 0, 0, 0, 0, 0, 0, 0, 0, 0, 0, 0, 0, 0, 0, 0, 0, 0, 1, 0, 0, 0, 0, 0, 0, 0, 0, 0, 0, 0, 0, 0, 0, 0, 0, 0, 0, 0, 0, 0, 0, 0, 0, 0, 0, 0, 0, 0, 1, 0, 0, 0, 0, 0, 0, 0, 0, 0, 0, 0, 0, 0, 0, 0, 0, 0, 0, 0, 0, 0, 0, 0, 0, 0, 0, 0, 0, 0, 0, 0, 0, 0, 0, 0, 0, 1, 0], 'tour_cost': 582212.8878607258, 'packing_plan_cost': 29610, 'rank': 10, 'crowding_distance': inf}),\n",
       " struct({'tour': [201, 189, 62, 112, 81, 38, 180, 63, 166, 113, 193, 273, 199, 123, 197, 249, 103, 7, 11, 24, 168, 35, 3, 106, 86, 105, 217, 133, 178, 5, 21, 72, 51, 221, 240, 29, 266, 71, 10, 267, 203, 147, 127, 194, 156, 206, 274, 58, 208, 55, 139, 258, 110, 94, 68, 225, 20, 15, 57, 119, 124, 271, 129, 143, 56, 25, 8, 98, 232, 247, 260, 60, 228, 237, 49, 36, 69, 33, 154, 192, 96, 155, 204, 162, 44, 73, 136, 163, 261, 78, 252, 218, 6, 262, 37, 117, 157, 70, 23, 149, 226, 190, 177, 145, 84, 171, 161, 245, 27, 90, 14, 265, 82, 0, 99, 76, 115, 160, 172, 130, 176, 213, 167, 40, 97, 59, 134, 48, 95, 184, 74, 50, 67, 116, 236, 42, 100, 53, 278, 251, 102, 52, 1, 89, 256, 18, 272, 210, 196, 85, 205, 227, 107, 114, 122, 118, 65, 181, 207, 175, 39, 254, 26, 2, 45, 195, 244, 141, 276, 264, 185, 150, 165, 222, 9, 41, 75, 64, 135, 275, 179, 77, 224, 19, 54, 215, 202, 12, 131, 270, 92, 269, 231, 259, 61, 128, 109, 159, 173, 212, 211, 121, 87, 34, 164, 158, 152, 43, 31, 183, 126, 101, 88, 230, 239, 13, 111, 198, 255, 32, 174, 216, 241, 235, 169, 263, 209, 22, 79, 93, 233, 83, 140, 220, 151, 137, 277, 187, 250, 120, 200, 170, 46, 132, 142, 223, 243, 138, 148, 30, 253, 279, 146, 91, 234, 28, 17, 16, 4, 182, 191, 188, 144, 238, 153, 186, 268, 80, 257, 104, 125, 229, 246, 108, 214, 219, 242, 248, 66, 47], 'packing_plan': [0, 0, 0, 0, 1, 0, 0, 0, 0, 0, 0, 0, 0, 0, 0, 0, 0, 0, 0, 1, 0, 0, 0, 0, 1, 0, 0, 1, 0, 0, 0, 0, 0, 1, 0, 0, 0, 1, 0, 0, 0, 0, 0, 0, 0, 0, 0, 0, 0, 0, 0, 0, 0, 1, 0, 0, 0, 0, 0, 0, 0, 0, 0, 1, 0, 0, 0, 0, 0, 0, 0, 0, 0, 0, 0, 0, 0, 1, 0, 0, 0, 0, 0, 0, 0, 0, 0, 0, 0, 0, 0, 0, 0, 0, 0, 0, 0, 0, 0, 0, 1, 0, 0, 0, 0, 0, 0, 0, 0, 0, 0, 0, 0, 0, 0, 0, 0, 0, 0, 0, 0, 1, 0, 0, 0, 0, 0, 0, 0, 0, 0, 0, 0, 0, 0, 0, 0, 1, 0, 0, 0, 1, 0, 1, 0, 0, 0, 0, 0, 0, 0, 0, 0, 0, 0, 0, 0, 0, 0, 0, 0, 1, 1, 0, 0, 0, 1, 0, 0, 0, 0, 0, 1, 0, 0, 0, 0, 0, 0, 0, 0, 0, 0, 0, 0, 0, 0, 1, 0, 1, 1, 0, 0, 0, 0, 0, 0, 0, 0, 0, 0, 0, 0, 0, 0, 0, 0, 0, 0, 0, 0, 0, 0, 0, 0, 0, 0, 0, 0, 0, 0, 0, 0, 0, 0, 0, 0, 0, 0, 0, 0, 0, 0, 0, 0, 0, 0, 0, 1, 0, 0, 0, 0, 0, 0, 0, 0, 0, 0, 0, 0, 0, 0, 0, 0, 0, 0, 0, 0, 0, 0, 0, 0, 1, 0, 0, 0, 0, 0, 0, 0, 0, 0, 1, 0, 0, 0, 0, 0], 'tour_cost': 381953.0466396086, 'packing_plan_cost': 29030, 'rank': 3, 'crowding_distance': inf}),\n",
       " struct({'tour': [183, 15, 21, 255, 246, 82, 206, 212, 61, 129, 23, 176, 138, 205, 165, 17, 30, 279, 162, 5, 58, 148, 124, 267, 69, 87, 228, 121, 64, 185, 43, 190, 189, 218, 28, 97, 229, 172, 238, 91, 270, 259, 67, 195, 137, 0, 213, 73, 130, 33, 234, 12, 159, 100, 146, 199, 3, 27, 163, 83, 262, 274, 79, 182, 250, 263, 131, 36, 63, 20, 140, 224, 264, 120, 247, 249, 186, 16, 143, 227, 239, 89, 94, 236, 158, 253, 42, 66, 168, 271, 266, 161, 256, 75, 29, 254, 70, 278, 272, 223, 88, 245, 167, 139, 13, 276, 160, 106, 188, 9, 7, 275, 72, 40, 24, 81, 197, 235, 200, 39, 203, 113, 151, 77, 41, 71, 202, 6, 126, 59, 53, 74, 90, 180, 237, 184, 133, 76, 128, 116, 84, 132, 103, 241, 147, 98, 8, 60, 191, 2, 78, 144, 93, 46, 170, 26, 178, 169, 119, 45, 230, 179, 57, 32, 135, 269, 62, 225, 204, 37, 252, 65, 110, 85, 157, 52, 171, 258, 208, 231, 38, 226, 122, 55, 210, 201, 11, 153, 277, 214, 107, 196, 117, 141, 181, 22, 92, 150, 115, 154, 222, 104, 95, 35, 136, 14, 166, 125, 68, 243, 99, 105, 220, 44, 261, 216, 211, 240, 118, 248, 25, 273, 193, 215, 123, 51, 268, 177, 50, 112, 145, 257, 192, 111, 47, 48, 174, 96, 1, 127, 155, 152, 260, 31, 149, 54, 156, 221, 164, 4, 219, 102, 49, 19, 175, 187, 242, 217, 56, 86, 207, 265, 244, 173, 80, 142, 10, 194, 251, 108, 114, 109, 198, 34, 233, 134, 18, 101, 232, 209], 'packing_plan': [0, 1, 0, 0, 0, 0, 1, 0, 0, 0, 0, 0, 0, 0, 0, 0, 0, 0, 0, 1, 0, 0, 0, 0, 0, 0, 0, 0, 0, 0, 0, 0, 1, 0, 0, 0, 0, 0, 0, 0, 0, 1, 0, 0, 0, 0, 0, 0, 0, 0, 0, 0, 1, 0, 0, 0, 1, 0, 0, 0, 0, 0, 0, 0, 0, 0, 0, 0, 1, 0, 0, 0, 0, 0, 0, 0, 0, 0, 0, 0, 0, 0, 0, 0, 0, 1, 0, 0, 0, 0, 0, 0, 0, 0, 0, 0, 0, 0, 0, 1, 0, 0, 0, 0, 0, 0, 0, 0, 0, 0, 1, 1, 0, 0, 0, 0, 0, 1, 1, 0, 0, 0, 1, 0, 0, 0, 1, 0, 0, 0, 0, 0, 0, 0, 0, 0, 0, 0, 0, 0, 0, 0, 0, 0, 0, 0, 0, 0, 0, 0, 0, 1, 0, 0, 0, 0, 0, 0, 0, 0, 1, 0, 0, 0, 0, 0, 1, 1, 0, 0, 0, 0, 0, 0, 0, 0, 0, 0, 0, 0, 1, 0, 0, 0, 0, 0, 0, 0, 0, 0, 0, 0, 0, 0, 0, 0, 0, 0, 0, 1, 0, 0, 0, 0, 0, 0, 0, 0, 0, 0, 0, 0, 0, 0, 0, 0, 0, 0, 0, 0, 0, 0, 0, 0, 0, 0, 0, 0, 0, 0, 0, 0, 0, 0, 0, 1, 0, 0, 0, 0, 0, 0, 0, 0, 0, 0, 0, 0, 0, 0, 0, 0, 0, 0, 0, 0, 0, 0, 0, 0, 0, 0, 0, 0, 0, 0, 0, 0, 0, 0, 0, 0, 0, 0, 0, 0, 0, 0, 0], 'tour_cost': 401418.9424830893, 'packing_plan_cost': 27949, 'rank': 6, 'crowding_distance': inf}),\n",
       " struct({'tour': [70, 100, 171, 118, 54, 212, 18, 143, 276, 168, 21, 196, 59, 106, 223, 224, 97, 91, 56, 239, 111, 146, 72, 252, 278, 251, 199, 43, 209, 3, 107, 151, 16, 161, 190, 226, 94, 25, 110, 186, 123, 29, 141, 235, 48, 109, 67, 96, 275, 112, 279, 177, 174, 254, 269, 33, 92, 61, 201, 135, 136, 213, 132, 263, 23, 120, 242, 87, 8, 122, 119, 180, 57, 140, 15, 32, 14, 50, 208, 58, 1, 98, 175, 116, 246, 24, 173, 164, 188, 156, 204, 270, 228, 176, 247, 75, 207, 102, 11, 149, 117, 37, 240, 197, 157, 202, 148, 26, 217, 138, 218, 261, 133, 125, 268, 185, 248, 105, 49, 205, 129, 234, 231, 20, 77, 244, 69, 95, 28, 203, 260, 214, 216, 238, 89, 249, 264, 51, 47, 172, 9, 274, 34, 80, 99, 127, 126, 227, 62, 245, 243, 13, 22, 137, 84, 131, 271, 167, 166, 64, 153, 81, 184, 187, 68, 71, 210, 236, 229, 267, 265, 44, 60, 253, 211, 191, 2, 215, 257, 130, 237, 170, 194, 65, 169, 5, 10, 83, 258, 158, 159, 55, 63, 27, 35, 277, 259, 46, 181, 66, 30, 31, 52, 193, 272, 221, 108, 88, 220, 93, 178, 200, 85, 121, 42, 78, 160, 86, 45, 145, 41, 139, 255, 74, 266, 250, 232, 262, 90, 79, 39, 162, 38, 241, 40, 198, 189, 182, 53, 150, 73, 233, 113, 256, 128, 155, 19, 142, 104, 273, 225, 206, 36, 183, 76, 115, 230, 103, 17, 147, 152, 0, 219, 134, 179, 154, 101, 163, 222, 195, 192, 12, 114, 4, 6, 124, 82, 165, 7, 144], 'packing_plan': [0, 0, 0, 0, 0, 0, 0, 0, 0, 0, 0, 0, 0, 1, 0, 0, 0, 1, 0, 0, 0, 0, 0, 0, 0, 0, 0, 0, 0, 0, 1, 0, 0, 0, 0, 0, 0, 0, 0, 0, 0, 0, 0, 0, 0, 1, 0, 0, 0, 0, 0, 0, 0, 0, 0, 0, 0, 0, 0, 0, 1, 0, 0, 0, 0, 0, 0, 0, 0, 0, 0, 0, 0, 0, 0, 0, 0, 0, 0, 0, 0, 0, 0, 0, 0, 0, 0, 0, 0, 0, 0, 0, 0, 1, 0, 0, 0, 0, 0, 0, 0, 0, 0, 0, 0, 0, 0, 0, 0, 0, 0, 0, 0, 0, 0, 0, 0, 0, 0, 0, 0, 1, 0, 0, 0, 0, 1, 0, 0, 0, 0, 0, 0, 0, 1, 0, 0, 1, 0, 0, 0, 0, 1, 0, 0, 1, 0, 0, 0, 1, 0, 0, 0, 0, 0, 0, 0, 0, 0, 0, 0, 0, 0, 0, 0, 0, 0, 0, 1, 0, 0, 1, 0, 0, 0, 1, 0, 0, 0, 0, 0, 0, 0, 0, 0, 0, 0, 0, 0, 0, 0, 0, 0, 0, 0, 0, 0, 0, 1, 0, 0, 0, 0, 1, 0, 1, 0, 0, 0, 0, 0, 1, 0, 1, 0, 0, 0, 0, 0, 0, 0, 0, 0, 0, 0, 0, 0, 0, 0, 0, 0, 0, 0, 0, 0, 0, 0, 0, 0, 0, 0, 0, 0, 0, 0, 0, 0, 0, 0, 0, 0, 0, 0, 0, 0, 0, 0, 0, 0, 0, 0, 0, 0, 0, 1, 0, 0, 0, 0, 1, 0, 0, 0, 0, 0, 0, 0, 0, 0], 'tour_cost': 564068.9348981635, 'packing_plan_cost': 29545, 'rank': 10, 'crowding_distance': inf}),\n",
       " struct({'tour': [1, 101, 256, 119, 225, 122, 130, 157, 36, 213, 116, 32, 43, 220, 155, 156, 274, 85, 95, 249, 30, 187, 207, 140, 224, 250, 83, 111, 41, 19, 152, 192, 26, 2, 18, 269, 272, 92, 110, 128, 179, 182, 58, 161, 237, 80, 103, 56, 171, 102, 79, 0, 135, 115, 129, 76, 144, 27, 5, 273, 264, 93, 243, 191, 117, 75, 88, 219, 168, 265, 252, 216, 203, 175, 34, 81, 29, 142, 143, 68, 94, 164, 51, 201, 215, 227, 42, 123, 14, 208, 172, 259, 226, 139, 218, 35, 173, 8, 132, 278, 196, 4, 197, 63, 200, 238, 233, 194, 11, 22, 15, 240, 189, 10, 23, 270, 44, 212, 73, 137, 134, 126, 146, 204, 17, 253, 74, 118, 180, 230, 199, 236, 209, 24, 244, 131, 67, 149, 46, 84, 174, 3, 124, 86, 113, 60, 184, 190, 251, 40, 145, 165, 109, 120, 198, 133, 151, 9, 223, 232, 277, 266, 247, 105, 25, 186, 261, 53, 50, 176, 260, 106, 138, 104, 13, 185, 96, 31, 16, 211, 275, 125, 6, 64, 65, 245, 52, 206, 231, 71, 222, 214, 279, 70, 258, 239, 69, 162, 7, 108, 72, 169, 37, 217, 47, 28, 33, 20, 49, 229, 170, 148, 99, 263, 205, 167, 210, 45, 78, 178, 136, 188, 234, 121, 82, 268, 48, 193, 246, 177, 254, 59, 57, 242, 163, 62, 158, 202, 100, 195, 159, 55, 262, 257, 77, 107, 181, 248, 241, 87, 66, 54, 91, 271, 127, 153, 221, 61, 183, 38, 147, 39, 154, 12, 114, 228, 160, 166, 267, 98, 141, 97, 150, 276, 21, 235, 89, 112, 90, 255], 'packing_plan': [0, 0, 0, 0, 0, 0, 0, 0, 1, 0, 0, 0, 0, 0, 0, 0, 0, 0, 0, 0, 0, 0, 0, 0, 0, 0, 0, 0, 0, 0, 0, 0, 0, 0, 0, 0, 0, 0, 0, 0, 0, 0, 0, 0, 0, 0, 0, 0, 0, 0, 1, 0, 0, 0, 0, 0, 0, 0, 0, 0, 0, 1, 1, 0, 0, 1, 1, 0, 0, 0, 0, 0, 0, 0, 0, 0, 0, 0, 0, 0, 0, 1, 0, 0, 0, 0, 0, 0, 0, 0, 0, 0, 0, 0, 0, 0, 0, 0, 0, 0, 0, 0, 1, 0, 0, 0, 0, 1, 0, 0, 0, 0, 0, 0, 0, 0, 0, 0, 0, 0, 0, 0, 0, 0, 1, 1, 0, 0, 0, 0, 0, 0, 0, 0, 0, 0, 0, 0, 0, 0, 0, 0, 0, 0, 0, 1, 0, 0, 0, 0, 0, 0, 1, 1, 0, 0, 0, 0, 0, 0, 0, 0, 0, 0, 0, 0, 0, 0, 0, 1, 0, 0, 0, 0, 0, 0, 0, 0, 0, 1, 0, 0, 0, 0, 0, 0, 1, 0, 0, 0, 0, 0, 0, 0, 0, 0, 0, 0, 0, 0, 0, 0, 0, 0, 0, 0, 0, 0, 0, 0, 0, 0, 0, 0, 0, 0, 0, 1, 0, 0, 0, 0, 0, 0, 0, 0, 0, 0, 0, 0, 0, 0, 0, 0, 0, 0, 0, 0, 0, 0, 0, 0, 0, 0, 0, 0, 0, 0, 0, 0, 0, 0, 0, 0, 0, 0, 0, 0, 0, 0, 0, 1, 1, 0, 0, 0, 0, 0, 0, 0, 0, 0, 1, 0, 0, 0, 0, 0, 0], 'tour_cost': 382755.16879777925, 'packing_plan_cost': 28750, 'rank': 4, 'crowding_distance': inf}),\n",
       " struct({'tour': [55, 58, 245, 164, 225, 146, 107, 218, 145, 106, 31, 211, 224, 257, 89, 27, 26, 273, 203, 36, 96, 111, 49, 147, 83, 132, 150, 180, 18, 48, 37, 221, 270, 177, 148, 32, 38, 161, 190, 247, 212, 176, 207, 79, 142, 205, 57, 141, 187, 269, 29, 2, 239, 21, 184, 191, 193, 90, 172, 268, 35, 138, 200, 202, 242, 256, 47, 43, 136, 265, 9, 195, 243, 259, 201, 52, 97, 151, 226, 153, 64, 155, 12, 102, 17, 156, 121, 51, 73, 110, 117, 251, 246, 219, 81, 264, 253, 74, 114, 135, 133, 8, 232, 63, 101, 13, 274, 1, 267, 230, 6, 85, 149, 238, 59, 116, 118, 234, 183, 192, 244, 65, 40, 275, 204, 162, 186, 260, 139, 119, 127, 154, 179, 95, 130, 5, 266, 122, 16, 75, 250, 23, 163, 143, 99, 72, 208, 54, 276, 61, 240, 50, 215, 249, 108, 178, 4, 42, 173, 165, 217, 120, 53, 279, 33, 233, 15, 182, 262, 131, 128, 185, 91, 252, 170, 254, 197, 104, 152, 263, 228, 241, 70, 113, 39, 125, 56, 175, 78, 124, 25, 22, 166, 261, 248, 157, 258, 194, 86, 44, 77, 144, 92, 196, 237, 0, 223, 255, 216, 160, 213, 105, 68, 30, 199, 14, 277, 159, 34, 71, 11, 209, 222, 87, 67, 100, 82, 3, 20, 46, 28, 80, 10, 220, 167, 210, 126, 272, 7, 235, 45, 214, 112, 181, 98, 198, 84, 231, 278, 66, 24, 174, 236, 88, 41, 171, 94, 103, 158, 169, 93, 69, 115, 123, 19, 62, 109, 60, 134, 140, 206, 129, 137, 76, 229, 189, 188, 271, 168, 227], 'packing_plan': [0, 0, 0, 0, 0, 0, 0, 0, 0, 0, 0, 0, 0, 1, 0, 0, 0, 1, 1, 0, 0, 0, 0, 0, 0, 0, 0, 0, 1, 0, 0, 0, 0, 0, 0, 0, 1, 0, 0, 0, 0, 1, 0, 0, 0, 0, 0, 0, 0, 0, 0, 0, 1, 0, 1, 0, 0, 0, 0, 0, 1, 0, 0, 1, 0, 0, 0, 0, 0, 0, 0, 0, 0, 0, 0, 0, 0, 0, 0, 0, 0, 0, 0, 0, 0, 0, 0, 0, 1, 0, 0, 0, 0, 0, 0, 0, 0, 0, 0, 0, 0, 0, 1, 0, 0, 0, 0, 0, 0, 0, 0, 0, 0, 1, 0, 0, 0, 0, 0, 0, 0, 0, 0, 0, 0, 0, 0, 0, 0, 0, 1, 0, 0, 0, 0, 0, 0, 0, 0, 1, 0, 0, 0, 0, 0, 0, 0, 0, 0, 1, 0, 0, 0, 0, 0, 0, 0, 0, 0, 0, 1, 0, 0, 0, 0, 0, 0, 1, 0, 0, 0, 0, 0, 0, 0, 1, 0, 0, 0, 0, 0, 0, 0, 1, 1, 0, 1, 0, 0, 0, 0, 0, 0, 1, 0, 0, 0, 0, 1, 0, 0, 1, 0, 0, 1, 0, 0, 0, 0, 0, 0, 0, 0, 0, 1, 0, 0, 0, 0, 0, 0, 0, 0, 0, 0, 0, 0, 0, 0, 0, 0, 0, 0, 0, 0, 0, 0, 0, 0, 0, 0, 0, 0, 0, 0, 0, 0, 0, 0, 0, 0, 0, 0, 0, 0, 0, 0, 0, 0, 0, 0, 0, 0, 0, 0, 0, 0, 0, 0, 0, 0, 0, 0, 0, 0, 0, 0, 0, 1], 'tour_cost': 480949.44300939643, 'packing_plan_cost': 29934, 'rank': 8, 'crowding_distance': 2.0}),\n",
       " struct({'tour': [241, 49, 259, 51, 42, 138, 43, 171, 132, 45, 60, 100, 52, 160, 247, 179, 104, 77, 119, 220, 238, 186, 151, 147, 58, 178, 8, 15, 166, 269, 206, 200, 203, 55, 230, 258, 246, 86, 95, 102, 181, 0, 98, 78, 207, 162, 190, 83, 234, 91, 257, 275, 96, 47, 63, 226, 267, 216, 92, 215, 254, 263, 134, 13, 250, 79, 148, 114, 208, 34, 76, 36, 65, 39, 204, 225, 156, 126, 122, 112, 94, 278, 89, 24, 131, 40, 270, 99, 121, 129, 50, 159, 53, 192, 25, 172, 54, 111, 158, 142, 182, 222, 221, 157, 198, 184, 266, 35, 231, 20, 144, 223, 185, 38, 135, 274, 177, 146, 164, 141, 279, 108, 233, 255, 2, 6, 125, 214, 260, 56, 123, 116, 68, 5, 28, 105, 183, 237, 249, 97, 26, 29, 253, 22, 3, 85, 101, 31, 149, 109, 4, 212, 66, 106, 32, 218, 211, 48, 124, 244, 93, 71, 59, 30, 213, 67, 209, 9, 161, 272, 140, 137, 224, 271, 14, 117, 227, 75, 41, 196, 187, 189, 120, 163, 268, 1, 239, 73, 248, 74, 194, 173, 10, 27, 143, 228, 188, 277, 175, 155, 153, 80, 193, 17, 265, 205, 276, 18, 180, 69, 168, 57, 87, 243, 154, 72, 70, 240, 61, 21, 191, 245, 81, 62, 201, 169, 19, 235, 252, 262, 242, 217, 145, 90, 64, 136, 23, 264, 202, 37, 229, 107, 273, 103, 44, 261, 16, 167, 256, 33, 152, 82, 236, 199, 195, 170, 113, 210, 46, 197, 251, 110, 165, 139, 115, 176, 130, 133, 128, 174, 84, 232, 150, 118, 127, 7, 219, 11, 12, 88], 'packing_plan': [0, 0, 0, 1, 0, 0, 0, 0, 0, 0, 0, 1, 0, 0, 0, 0, 0, 0, 0, 0, 1, 0, 0, 0, 0, 0, 0, 0, 0, 0, 0, 0, 0, 1, 0, 0, 0, 1, 0, 0, 0, 0, 0, 0, 0, 1, 1, 0, 0, 0, 0, 0, 0, 0, 0, 0, 1, 0, 0, 1, 0, 0, 0, 0, 1, 0, 0, 0, 0, 0, 0, 0, 0, 0, 0, 0, 0, 0, 1, 0, 0, 0, 0, 0, 0, 1, 0, 0, 0, 1, 0, 0, 0, 0, 0, 0, 0, 0, 0, 0, 0, 0, 0, 0, 0, 0, 0, 0, 0, 0, 0, 0, 0, 0, 0, 0, 0, 0, 0, 0, 0, 0, 0, 1, 0, 0, 0, 0, 0, 0, 1, 0, 0, 0, 0, 0, 0, 0, 0, 0, 0, 1, 0, 0, 0, 1, 0, 0, 0, 1, 0, 0, 0, 0, 0, 0, 0, 1, 0, 0, 0, 0, 0, 0, 1, 0, 0, 0, 0, 0, 0, 1, 1, 0, 0, 1, 0, 0, 0, 0, 0, 0, 0, 0, 0, 0, 0, 0, 0, 0, 0, 0, 0, 0, 0, 0, 0, 0, 0, 0, 0, 1, 0, 0, 0, 0, 0, 0, 0, 0, 0, 0, 0, 0, 0, 0, 0, 0, 0, 0, 0, 0, 1, 0, 0, 0, 0, 0, 0, 0, 0, 0, 0, 0, 0, 0, 0, 0, 0, 0, 0, 0, 0, 0, 0, 0, 0, 0, 0, 1, 0, 0, 0, 0, 0, 0, 0, 0, 0, 0, 1, 1, 0, 0, 0, 0, 0, 0, 0, 1, 0, 0, 0, 0, 0, 0, 0, 0, 1], 'tour_cost': 433873.59940271376, 'packing_plan_cost': 32016, 'rank': 1, 'crowding_distance': inf}),\n",
       " struct({'tour': [63, 21, 263, 222, 172, 59, 4, 74, 243, 191, 206, 83, 179, 165, 102, 31, 159, 122, 62, 237, 158, 168, 257, 270, 276, 113, 146, 145, 197, 121, 215, 238, 58, 5, 19, 267, 48, 163, 255, 259, 104, 9, 131, 96, 51, 181, 196, 174, 30, 274, 229, 150, 136, 155, 56, 23, 272, 170, 166, 148, 40, 132, 77, 207, 33, 54, 124, 190, 130, 228, 219, 87, 167, 154, 224, 169, 16, 79, 57, 127, 220, 230, 157, 114, 205, 71, 214, 18, 98, 187, 278, 202, 29, 86, 164, 244, 28, 41, 195, 185, 52, 38, 1, 227, 273, 26, 178, 49, 200, 211, 152, 129, 12, 193, 47, 106, 162, 36, 76, 226, 192, 34, 116, 111, 204, 242, 66, 84, 2, 69, 17, 217, 175, 173, 107, 118, 277, 64, 256, 101, 44, 109, 46, 8, 153, 210, 151, 35, 183, 221, 123, 100, 6, 171, 235, 70, 128, 108, 225, 189, 138, 234, 97, 260, 85, 233, 218, 239, 81, 232, 142, 194, 140, 268, 60, 266, 188, 99, 90, 37, 115, 133, 117, 95, 149, 279, 201, 135, 161, 7, 110, 177, 143, 120, 75, 11, 39, 88, 251, 208, 72, 248, 216, 147, 144, 103, 250, 13, 0, 264, 261, 112, 265, 254, 231, 269, 91, 53, 240, 262, 42, 93, 125, 67, 213, 184, 245, 134, 275, 61, 252, 126, 160, 27, 182, 45, 3, 24, 73, 94, 82, 198, 180, 89, 258, 119, 223, 212, 253, 43, 55, 25, 249, 32, 50, 22, 271, 78, 10, 20, 176, 15, 199, 246, 241, 14, 68, 92, 137, 141, 186, 156, 139, 209, 105, 80, 203, 65, 236, 247], 'packing_plan': [0, 0, 0, 0, 0, 0, 1, 0, 0, 0, 0, 0, 0, 0, 0, 1, 0, 1, 0, 0, 0, 0, 0, 0, 0, 0, 0, 0, 0, 0, 0, 0, 0, 0, 0, 0, 0, 0, 0, 0, 0, 0, 0, 0, 0, 0, 0, 0, 0, 1, 1, 1, 0, 0, 0, 0, 0, 0, 0, 1, 0, 0, 0, 0, 0, 0, 0, 0, 0, 0, 0, 1, 0, 0, 0, 0, 0, 0, 0, 0, 0, 0, 0, 0, 0, 0, 0, 0, 0, 0, 0, 0, 0, 0, 0, 0, 0, 0, 0, 0, 0, 1, 0, 0, 0, 0, 0, 0, 0, 0, 0, 0, 0, 0, 0, 0, 0, 0, 0, 0, 0, 0, 0, 0, 0, 0, 0, 0, 0, 0, 0, 0, 1, 0, 0, 0, 0, 0, 0, 0, 0, 0, 0, 0, 0, 0, 0, 0, 0, 0, 0, 0, 0, 0, 0, 0, 0, 0, 0, 0, 0, 1, 0, 1, 0, 0, 0, 0, 0, 0, 0, 0, 0, 0, 1, 0, 1, 0, 0, 0, 0, 0, 0, 0, 0, 0, 0, 0, 0, 0, 0, 0, 0, 0, 0, 1, 0, 0, 0, 0, 0, 0, 0, 0, 0, 0, 0, 0, 0, 0, 0, 0, 0, 0, 0, 0, 0, 0, 0, 0, 0, 0, 0, 0, 0, 0, 0, 0, 0, 0, 0, 0, 0, 0, 0, 0, 0, 0, 0, 0, 0, 0, 0, 1, 0, 0, 0, 0, 0, 0, 0, 0, 0, 0, 0, 0, 0, 0, 0, 1, 0, 0, 0, 0, 0, 0, 0, 0, 0, 0, 0, 1, 0, 0, 0, 0, 0, 0, 0], 'tour_cost': 577054.3423396458, 'packing_plan_cost': 28270, 'rank': 11, 'crowding_distance': inf}),\n",
       " struct({'tour': [166, 116, 215, 161, 99, 110, 84, 47, 206, 275, 224, 174, 17, 75, 248, 119, 51, 104, 182, 178, 132, 60, 31, 129, 6, 193, 254, 181, 258, 26, 130, 169, 64, 41, 100, 142, 39, 255, 196, 232, 88, 121, 89, 207, 38, 5, 203, 57, 219, 35, 42, 80, 50, 140, 25, 16, 23, 117, 134, 167, 118, 83, 79, 69, 276, 154, 191, 192, 81, 2, 74, 145, 131, 265, 52, 234, 257, 199, 141, 228, 148, 91, 76, 65, 186, 277, 247, 44, 168, 56, 24, 155, 262, 48, 233, 126, 96, 109, 273, 251, 12, 236, 272, 15, 175, 138, 124, 172, 227, 103, 122, 223, 239, 113, 218, 158, 20, 61, 3, 53, 156, 225, 270, 45, 164, 269, 243, 102, 242, 106, 125, 123, 235, 217, 246, 21, 18, 183, 11, 14, 268, 180, 210, 209, 274, 264, 114, 7, 49, 144, 127, 63, 87, 157, 187, 93, 162, 252, 28, 128, 216, 208, 19, 136, 4, 197, 34, 151, 94, 256, 240, 231, 189, 204, 214, 271, 176, 43, 107, 73, 253, 194, 137, 112, 1, 177, 46, 108, 185, 195, 62, 86, 171, 244, 200, 0, 150, 68, 147, 30, 245, 165, 238, 278, 188, 13, 40, 90, 230, 36, 213, 97, 198, 37, 149, 98, 249, 267, 202, 241, 279, 250, 32, 54, 120, 71, 263, 27, 229, 222, 179, 85, 212, 59, 9, 237, 160, 159, 95, 261, 10, 226, 58, 33, 78, 153, 82, 101, 92, 184, 221, 260, 70, 205, 66, 67, 72, 77, 152, 29, 8, 105, 163, 135, 111, 220, 146, 55, 173, 22, 211, 190, 115, 133, 266, 201, 170, 139, 259, 143], 'packing_plan': [0, 1, 0, 0, 0, 0, 0, 0, 0, 0, 0, 0, 0, 0, 0, 0, 0, 0, 0, 0, 0, 0, 0, 0, 0, 1, 0, 0, 0, 0, 0, 1, 0, 0, 0, 0, 0, 0, 0, 0, 0, 0, 0, 0, 0, 0, 0, 0, 0, 0, 0, 1, 0, 0, 0, 1, 0, 0, 0, 0, 1, 0, 0, 1, 0, 0, 0, 0, 0, 0, 0, 0, 0, 1, 0, 0, 0, 1, 0, 0, 0, 0, 0, 0, 0, 1, 0, 0, 0, 0, 0, 0, 0, 0, 0, 0, 0, 0, 0, 1, 0, 0, 1, 0, 0, 0, 0, 0, 0, 0, 0, 0, 0, 0, 0, 0, 1, 0, 0, 0, 1, 0, 1, 0, 0, 0, 0, 1, 0, 1, 0, 0, 0, 1, 0, 0, 1, 1, 0, 0, 0, 1, 0, 0, 0, 0, 0, 0, 1, 0, 1, 0, 0, 0, 0, 0, 0, 0, 0, 0, 0, 0, 0, 0, 0, 1, 0, 0, 0, 0, 0, 0, 0, 0, 0, 0, 0, 1, 1, 0, 0, 0, 0, 0, 0, 1, 0, 0, 0, 1, 0, 0, 0, 0, 0, 0, 1, 0, 0, 0, 0, 0, 0, 1, 1, 0, 0, 0, 0, 0, 0, 0, 0, 0, 0, 0, 0, 0, 0, 0, 0, 0, 0, 0, 0, 0, 0, 0, 0, 0, 0, 0, 0, 0, 0, 0, 0, 0, 0, 0, 0, 0, 0, 0, 0, 0, 0, 0, 0, 0, 0, 0, 0, 0, 0, 0, 0, 0, 0, 0, 0, 0, 0, 0, 0, 0, 0, 0, 0, 0, 0, 0, 0, 0, 1, 1, 1, 0, 0], 'tour_cost': 466218.02714206866, 'packing_plan_cost': 30758, 'rank': 5, 'crowding_distance': 0.7560072263071987}),\n",
       " struct({'tour': [279, 267, 239, 191, 68, 6, 151, 78, 11, 88, 22, 209, 163, 164, 132, 137, 126, 87, 251, 130, 47, 21, 116, 95, 268, 219, 271, 69, 108, 41, 260, 26, 56, 102, 57, 167, 189, 248, 245, 266, 77, 244, 194, 61, 158, 171, 201, 3, 1, 70, 179, 169, 256, 115, 0, 249, 109, 183, 45, 40, 180, 211, 106, 46, 17, 29, 253, 9, 185, 64, 258, 53, 270, 72, 212, 177, 140, 229, 75, 234, 105, 118, 124, 241, 240, 107, 203, 257, 147, 276, 175, 252, 100, 129, 232, 94, 19, 27, 235, 62, 128, 83, 198, 82, 221, 25, 76, 136, 92, 33, 243, 110, 160, 223, 150, 89, 184, 54, 43, 206, 254, 274, 247, 66, 273, 154, 59, 186, 18, 228, 10, 37, 259, 67, 208, 135, 44, 99, 166, 39, 96, 157, 81, 48, 125, 5, 30, 246, 224, 199, 255, 138, 122, 202, 42, 242, 161, 195, 113, 97, 98, 141, 112, 148, 15, 174, 86, 36, 200, 28, 250, 144, 264, 74, 205, 172, 277, 50, 7, 127, 90, 222, 173, 73, 269, 181, 217, 12, 80, 111, 103, 63, 176, 38, 101, 65, 117, 8, 120, 214, 226, 165, 2, 114, 162, 84, 146, 60, 31, 192, 152, 71, 236, 91, 93, 142, 170, 35, 275, 32, 188, 143, 79, 104, 13, 263, 227, 213, 20, 134, 139, 51, 215, 14, 24, 16, 196, 55, 153, 49, 238, 204, 34, 121, 52, 131, 85, 23, 261, 262, 190, 156, 233, 123, 182, 216, 210, 231, 133, 119, 168, 193, 178, 265, 187, 149, 225, 159, 207, 278, 145, 237, 220, 155, 230, 218, 272, 58, 4, 197], 'packing_plan': [0, 0, 0, 1, 0, 0, 0, 1, 0, 0, 0, 0, 0, 0, 0, 0, 0, 1, 0, 0, 0, 0, 1, 0, 0, 0, 0, 0, 0, 0, 0, 0, 0, 0, 0, 0, 0, 0, 0, 0, 0, 1, 1, 0, 1, 0, 0, 0, 0, 0, 0, 0, 0, 0, 0, 0, 0, 0, 0, 0, 0, 0, 0, 0, 0, 0, 0, 0, 0, 0, 0, 0, 0, 1, 0, 0, 0, 0, 1, 0, 0, 0, 1, 0, 0, 0, 0, 0, 0, 0, 0, 0, 0, 0, 0, 0, 0, 0, 0, 0, 0, 0, 0, 0, 1, 0, 0, 1, 0, 0, 0, 0, 0, 0, 0, 0, 0, 1, 0, 0, 0, 0, 0, 0, 0, 0, 1, 0, 0, 0, 0, 0, 0, 0, 1, 0, 0, 0, 1, 0, 0, 0, 0, 0, 0, 0, 0, 0, 0, 0, 0, 0, 0, 0, 0, 0, 0, 0, 0, 0, 0, 0, 0, 0, 1, 0, 1, 0, 0, 0, 0, 0, 0, 0, 0, 0, 0, 0, 0, 0, 0, 1, 0, 1, 0, 0, 0, 0, 0, 0, 0, 0, 0, 0, 0, 0, 0, 1, 0, 0, 0, 1, 0, 0, 1, 0, 0, 0, 0, 0, 0, 0, 0, 0, 0, 0, 0, 0, 0, 0, 0, 0, 0, 1, 0, 0, 0, 0, 0, 0, 1, 0, 0, 0, 0, 0, 1, 0, 0, 0, 0, 0, 1, 0, 0, 0, 0, 0, 0, 0, 0, 0, 0, 1, 0, 0, 0, 0, 0, 0, 0, 0, 0, 0, 0, 0, 0, 0, 0, 0, 0, 0, 1, 0, 1, 0, 0, 0, 0], 'tour_cost': 429747.58809622435, 'packing_plan_cost': 30398, 'rank': 2, 'crowding_distance': 0.5233484011205332}),\n",
       " struct({'tour': [126, 239, 186, 264, 31, 263, 122, 35, 90, 183, 43, 249, 0, 73, 168, 156, 198, 46, 107, 273, 34, 50, 133, 21, 185, 3, 151, 103, 188, 92, 115, 189, 226, 161, 216, 233, 236, 104, 39, 101, 243, 271, 276, 192, 120, 13, 14, 220, 184, 68, 24, 163, 1, 30, 208, 136, 25, 207, 149, 109, 36, 152, 89, 158, 212, 98, 40, 187, 53, 62, 237, 200, 265, 20, 197, 177, 219, 214, 277, 55, 204, 267, 130, 71, 70, 74, 252, 118, 205, 150, 110, 270, 142, 229, 19, 10, 232, 111, 11, 137, 75, 231, 224, 79, 155, 162, 217, 47, 160, 8, 257, 125, 254, 44, 140, 164, 22, 190, 269, 201, 209, 7, 69, 258, 12, 76, 54, 4, 59, 139, 143, 268, 100, 222, 223, 245, 5, 148, 87, 196, 15, 234, 65, 95, 123, 250, 131, 179, 244, 274, 262, 112, 272, 141, 253, 57, 172, 23, 72, 173, 251, 67, 206, 32, 171, 17, 97, 80, 33, 175, 27, 113, 238, 240, 246, 199, 256, 147, 56, 51, 114, 230, 191, 146, 129, 242, 84, 235, 225, 116, 215, 106, 117, 49, 42, 182, 121, 180, 247, 61, 228, 108, 82, 66, 93, 170, 52, 48, 193, 278, 154, 29, 119, 166, 195, 260, 203, 127, 83, 174, 167, 132, 58, 227, 105, 153, 63, 279, 91, 275, 96, 194, 181, 134, 6, 86, 85, 28, 159, 64, 259, 138, 261, 135, 145, 99, 218, 45, 2, 124, 37, 144, 102, 211, 157, 16, 202, 26, 18, 88, 38, 60, 77, 255, 266, 241, 221, 169, 178, 128, 248, 94, 210, 165, 176, 78, 213, 9, 41, 81], 'packing_plan': [0, 0, 0, 0, 0, 0, 1, 0, 0, 0, 0, 0, 0, 0, 1, 0, 0, 0, 0, 0, 0, 0, 0, 0, 0, 0, 1, 0, 0, 0, 0, 0, 0, 0, 0, 0, 0, 0, 0, 0, 0, 0, 0, 0, 0, 0, 0, 0, 0, 0, 0, 0, 0, 1, 0, 0, 0, 0, 0, 0, 0, 0, 0, 0, 0, 0, 0, 0, 0, 0, 1, 0, 0, 0, 0, 0, 0, 0, 0, 0, 0, 0, 0, 0, 0, 0, 0, 0, 0, 0, 0, 0, 0, 0, 0, 0, 0, 0, 0, 0, 0, 0, 0, 0, 0, 0, 0, 0, 0, 0, 0, 0, 0, 0, 0, 0, 0, 0, 0, 0, 0, 0, 0, 0, 0, 0, 0, 1, 0, 0, 0, 0, 1, 0, 0, 0, 0, 1, 1, 0, 1, 0, 0, 0, 1, 0, 0, 0, 0, 0, 0, 0, 0, 0, 0, 1, 0, 1, 0, 0, 0, 0, 0, 0, 0, 0, 0, 0, 0, 0, 0, 0, 0, 0, 0, 0, 0, 0, 0, 0, 0, 0, 0, 0, 0, 0, 0, 0, 0, 0, 0, 0, 0, 0, 0, 0, 0, 0, 0, 0, 0, 0, 0, 1, 0, 0, 0, 0, 0, 0, 1, 0, 0, 0, 0, 0, 0, 0, 0, 0, 0, 0, 0, 0, 0, 0, 0, 0, 0, 0, 1, 0, 0, 0, 0, 1, 0, 0, 0, 0, 0, 0, 0, 0, 0, 0, 0, 0, 0, 1, 0, 0, 1, 0, 1, 0, 0, 0, 0, 0, 0, 0, 0, 0, 0, 0, 0, 0, 0, 0, 0, 0, 0, 0, 0, 0, 0, 0, 0], 'tour_cost': 682408.1291591165, 'packing_plan_cost': 30641, 'rank': 7, 'crowding_distance': 0.5823147883210824}),\n",
       " struct({'tour': [265, 264, 162, 215, 18, 14, 270, 95, 258, 24, 124, 79, 23, 74, 42, 240, 99, 259, 194, 268, 149, 174, 230, 34, 60, 229, 251, 177, 211, 253, 36, 155, 160, 195, 272, 171, 0, 227, 157, 32, 269, 51, 267, 7, 29, 165, 83, 43, 39, 126, 246, 47, 197, 106, 138, 249, 54, 52, 64, 263, 37, 217, 44, 75, 201, 144, 245, 163, 73, 146, 88, 31, 135, 147, 27, 86, 142, 57, 96, 98, 55, 153, 110, 208, 100, 38, 190, 59, 115, 176, 105, 128, 244, 80, 274, 178, 17, 185, 159, 278, 33, 104, 48, 210, 72, 226, 182, 28, 139, 257, 212, 67, 125, 130, 114, 214, 236, 220, 41, 94, 13, 189, 127, 8, 261, 84, 93, 92, 200, 179, 232, 256, 65, 143, 2, 271, 6, 170, 158, 209, 77, 198, 132, 87, 46, 151, 45, 11, 5, 169, 131, 255, 4, 63, 173, 193, 223, 154, 56, 136, 241, 134, 166, 120, 238, 91, 76, 202, 97, 233, 242, 222, 68, 103, 243, 167, 234, 116, 78, 137, 207, 175, 216, 247, 21, 40, 277, 53, 224, 219, 85, 181, 69, 50, 111, 279, 58, 254, 188, 192, 191, 180, 1, 235, 71, 148, 66, 203, 152, 19, 22, 129, 90, 225, 237, 15, 82, 150, 81, 145, 62, 102, 119, 276, 262, 231, 183, 20, 70, 10, 184, 61, 121, 275, 239, 118, 168, 9, 196, 101, 109, 260, 172, 123, 108, 248, 164, 117, 89, 204, 133, 161, 250, 140, 252, 113, 107, 12, 112, 228, 206, 25, 266, 49, 187, 186, 26, 3, 141, 199, 273, 156, 16, 213, 218, 30, 221, 122, 205, 35], 'packing_plan': [0, 0, 0, 0, 0, 0, 0, 0, 0, 0, 0, 0, 0, 1, 0, 0, 0, 0, 0, 1, 1, 1, 0, 0, 0, 0, 0, 0, 0, 0, 0, 0, 0, 0, 0, 0, 0, 0, 0, 0, 1, 0, 1, 0, 1, 0, 0, 1, 0, 0, 1, 0, 0, 0, 0, 0, 0, 0, 0, 0, 0, 0, 0, 0, 1, 1, 0, 0, 0, 0, 0, 0, 0, 1, 0, 0, 0, 0, 0, 0, 0, 0, 0, 0, 0, 0, 0, 0, 1, 0, 0, 1, 0, 0, 0, 1, 1, 0, 0, 0, 0, 1, 0, 0, 0, 0, 0, 0, 0, 1, 0, 0, 0, 0, 0, 0, 0, 0, 0, 1, 0, 0, 0, 1, 0, 0, 0, 0, 0, 0, 0, 0, 0, 0, 0, 0, 1, 0, 0, 0, 0, 0, 0, 0, 0, 0, 0, 0, 1, 0, 0, 0, 0, 1, 0, 0, 0, 0, 0, 1, 0, 0, 0, 0, 0, 1, 0, 0, 0, 0, 0, 0, 0, 0, 0, 0, 1, 0, 0, 0, 0, 0, 0, 0, 0, 0, 0, 0, 0, 0, 0, 0, 0, 0, 0, 0, 0, 0, 0, 0, 0, 0, 0, 0, 0, 0, 0, 0, 0, 0, 0, 1, 0, 0, 0, 1, 0, 0, 0, 1, 0, 0, 0, 0, 0, 1, 0, 1, 0, 0, 0, 0, 0, 0, 1, 0, 0, 0, 0, 0, 1, 0, 0, 0, 0, 0, 0, 1, 0, 0, 0, 1, 0, 0, 0, 0, 0, 1, 0, 0, 0, 0, 0, 0, 0, 0, 0, 0, 0, 0, 0, 0, 1, 0, 0, 0, 0, 0, 0], 'tour_cost': 476795.8458906708, 'packing_plan_cost': 31977, 'rank': 2, 'crowding_distance': inf}),\n",
       " struct({'tour': [143, 197, 177, 47, 106, 148, 67, 24, 93, 233, 247, 1, 200, 76, 9, 8, 192, 4, 251, 94, 253, 178, 112, 262, 58, 35, 41, 32, 232, 57, 127, 194, 72, 77, 181, 147, 17, 250, 133, 131, 111, 36, 87, 39, 144, 217, 119, 183, 85, 95, 29, 174, 52, 129, 166, 159, 105, 3, 23, 50, 6, 138, 155, 96, 229, 189, 13, 153, 18, 165, 223, 46, 239, 100, 56, 107, 120, 109, 212, 25, 98, 220, 116, 64, 122, 43, 255, 49, 5, 118, 59, 91, 224, 266, 219, 110, 63, 245, 92, 260, 130, 163, 48, 236, 167, 231, 21, 54, 132, 31, 30, 40, 142, 211, 234, 241, 196, 134, 240, 83, 55, 264, 121, 263, 226, 198, 261, 2, 73, 70, 42, 216, 268, 185, 146, 154, 213, 222, 141, 169, 139, 88, 252, 214, 170, 104, 117, 227, 257, 27, 215, 137, 259, 271, 156, 180, 204, 205, 171, 60, 62, 149, 279, 114, 124, 102, 225, 10, 202, 199, 33, 175, 160, 20, 34, 274, 270, 115, 237, 265, 82, 7, 22, 162, 203, 11, 182, 186, 28, 242, 151, 267, 243, 44, 210, 195, 14, 150, 161, 68, 221, 184, 128, 126, 136, 249, 79, 61, 269, 16, 71, 188, 206, 103, 53, 97, 235, 123, 125, 164, 38, 145, 209, 246, 157, 172, 78, 26, 84, 101, 207, 37, 135, 248, 65, 191, 140, 228, 99, 176, 230, 69, 66, 90, 80, 256, 45, 19, 218, 86, 81, 0, 277, 75, 113, 193, 74, 12, 208, 15, 89, 190, 51, 238, 168, 272, 158, 275, 173, 187, 278, 244, 276, 273, 258, 152, 108, 201, 254, 179], 'packing_plan': [0, 0, 0, 0, 0, 0, 0, 0, 0, 0, 0, 0, 0, 0, 0, 0, 0, 0, 0, 0, 0, 0, 1, 0, 0, 0, 0, 0, 0, 1, 0, 0, 0, 0, 0, 0, 0, 0, 1, 0, 0, 0, 0, 0, 1, 0, 0, 0, 0, 0, 0, 0, 0, 0, 0, 0, 1, 0, 0, 0, 0, 0, 0, 0, 0, 0, 0, 0, 0, 0, 0, 0, 0, 0, 1, 0, 0, 1, 0, 0, 0, 0, 0, 0, 0, 0, 0, 0, 0, 0, 0, 0, 0, 0, 0, 1, 1, 0, 0, 0, 0, 0, 1, 0, 0, 0, 0, 0, 0, 0, 0, 1, 0, 0, 0, 0, 0, 0, 0, 0, 1, 0, 0, 0, 0, 1, 0, 0, 0, 0, 0, 0, 0, 0, 0, 0, 0, 0, 0, 0, 0, 0, 1, 0, 0, 0, 0, 0, 0, 0, 0, 1, 0, 1, 1, 0, 0, 0, 0, 0, 0, 0, 0, 0, 0, 0, 0, 0, 0, 0, 0, 0, 0, 0, 0, 0, 0, 0, 0, 0, 0, 0, 0, 0, 0, 0, 0, 0, 0, 0, 0, 0, 0, 0, 0, 0, 0, 0, 1, 0, 0, 0, 0, 0, 0, 0, 0, 0, 0, 0, 0, 0, 0, 0, 0, 0, 0, 0, 0, 0, 0, 0, 0, 0, 0, 0, 0, 0, 0, 0, 0, 0, 0, 0, 0, 0, 1, 0, 0, 0, 0, 0, 0, 0, 0, 1, 0, 0, 0, 0, 0, 0, 0, 0, 0, 0, 0, 0, 0, 0, 0, 0, 1, 0, 0, 0, 0, 1, 0, 0, 0, 0, 1, 0, 1, 0, 0, 0, 0], 'tour_cost': 476568.15557392244, 'packing_plan_cost': 30130, 'rank': 7, 'crowding_distance': 1.1515195261696676}),\n",
       " struct({'tour': [133, 134, 76, 153, 85, 221, 259, 77, 198, 209, 99, 24, 63, 120, 54, 245, 192, 179, 98, 75, 264, 137, 91, 238, 127, 146, 39, 25, 118, 207, 212, 261, 255, 34, 263, 217, 226, 71, 61, 258, 6, 162, 213, 157, 182, 269, 122, 196, 38, 132, 223, 274, 253, 62, 195, 174, 105, 80, 256, 94, 218, 214, 126, 199, 228, 220, 271, 18, 83, 265, 227, 110, 97, 266, 36, 23, 48, 108, 124, 3, 51, 128, 272, 88, 187, 204, 249, 181, 55, 50, 117, 65, 176, 193, 58, 202, 12, 205, 161, 135, 224, 175, 229, 59, 17, 113, 13, 90, 225, 107, 219, 158, 15, 121, 81, 211, 270, 101, 189, 267, 243, 100, 188, 239, 155, 252, 240, 142, 73, 29, 183, 68, 165, 47, 89, 95, 276, 42, 178, 67, 136, 210, 20, 129, 173, 172, 125, 233, 257, 74, 248, 119, 138, 64, 32, 9, 163, 250, 231, 201, 230, 151, 46, 208, 190, 57, 177, 109, 92, 251, 159, 93, 167, 112, 104, 28, 215, 184, 254, 260, 16, 96, 145, 49, 275, 147, 241, 150, 160, 22, 166, 171, 21, 268, 149, 56, 262, 41, 154, 279, 106, 70, 4, 33, 152, 78, 141, 7, 66, 186, 45, 244, 197, 143, 131, 232, 236, 116, 200, 206, 87, 72, 273, 278, 19, 11, 84, 246, 123, 203, 115, 242, 234, 185, 148, 170, 52, 8, 40, 114, 69, 82, 37, 86, 27, 222, 156, 191, 216, 168, 60, 31, 30, 111, 35, 247, 140, 79, 53, 164, 277, 43, 5, 130, 14, 194, 144, 237, 0, 2, 26, 103, 169, 235, 10, 139, 180, 102, 1, 44], 'packing_plan': [0, 0, 0, 0, 0, 0, 0, 0, 0, 0, 0, 0, 0, 0, 0, 0, 0, 1, 0, 0, 0, 0, 0, 0, 0, 0, 0, 0, 0, 0, 0, 0, 0, 0, 0, 0, 0, 0, 0, 0, 0, 1, 0, 0, 0, 0, 0, 0, 0, 1, 0, 0, 0, 0, 0, 0, 0, 0, 0, 0, 0, 0, 0, 0, 0, 0, 0, 0, 0, 0, 0, 0, 0, 0, 0, 0, 0, 0, 0, 0, 0, 0, 0, 0, 0, 0, 0, 0, 0, 0, 0, 0, 0, 0, 0, 0, 0, 0, 0, 0, 0, 0, 0, 1, 0, 0, 0, 0, 0, 1, 0, 0, 0, 0, 0, 0, 0, 0, 0, 0, 0, 0, 0, 0, 0, 0, 0, 0, 0, 0, 0, 0, 0, 1, 0, 0, 0, 0, 0, 0, 0, 0, 0, 0, 0, 0, 0, 0, 0, 0, 0, 0, 0, 0, 0, 1, 0, 0, 0, 0, 0, 0, 0, 0, 0, 0, 0, 0, 0, 1, 0, 0, 0, 0, 0, 0, 0, 0, 0, 0, 1, 0, 0, 0, 0, 0, 0, 0, 0, 1, 0, 0, 0, 0, 0, 0, 1, 0, 0, 0, 0, 0, 0, 0, 0, 0, 0, 0, 0, 0, 0, 0, 0, 0, 0, 1, 0, 0, 0, 0, 0, 1, 0, 0, 0, 0, 0, 0, 0, 0, 1, 1, 0, 0, 0, 0, 0, 0, 0, 0, 0, 0, 0, 0, 1, 1, 0, 0, 0, 0, 0, 0, 1, 0, 0, 0, 0, 0, 0, 0, 0, 0, 0, 0, 0, 0, 0, 0, 0, 0, 0, 0, 0, 0, 0, 0, 0, 0, 0], 'tour_cost': 442248.71478033444, 'packing_plan_cost': 28910, 'rank': 4, 'crowding_distance': 1.1685703213223682}),\n",
       " struct({'tour': [232, 168, 15, 108, 140, 40, 124, 93, 33, 64, 228, 218, 69, 4, 212, 96, 246, 240, 146, 210, 201, 107, 188, 174, 58, 56, 83, 138, 74, 16, 84, 241, 36, 14, 52, 153, 268, 8, 88, 141, 87, 255, 271, 274, 162, 151, 38, 157, 175, 139, 135, 259, 222, 144, 28, 90, 264, 85, 245, 130, 120, 63, 57, 99, 230, 45, 133, 263, 202, 10, 53, 17, 60, 92, 150, 121, 225, 214, 193, 29, 128, 195, 254, 20, 186, 9, 216, 217, 252, 25, 239, 7, 46, 169, 229, 89, 68, 226, 110, 278, 22, 109, 207, 44, 164, 197, 265, 147, 209, 43, 231, 112, 94, 237, 189, 78, 269, 192, 32, 134, 215, 159, 113, 48, 102, 62, 227, 234, 277, 18, 76, 5, 75, 73, 116, 181, 101, 72, 137, 100, 30, 161, 66, 196, 249, 167, 142, 199, 34, 27, 238, 50, 122, 235, 257, 184, 79, 272, 205, 65, 117, 97, 172, 267, 59, 54, 223, 183, 270, 12, 173, 177, 91, 21, 224, 156, 129, 111, 200, 118, 243, 70, 42, 220, 154, 71, 242, 131, 155, 81, 253, 49, 152, 3, 236, 261, 190, 165, 13, 11, 148, 233, 127, 82, 203, 266, 39, 106, 2, 166, 86, 67, 47, 276, 104, 119, 260, 258, 256, 103, 143, 35, 41, 176, 178, 250, 213, 125, 158, 0, 123, 221, 262, 80, 206, 244, 132, 98, 170, 24, 149, 145, 61, 31, 247, 187, 105, 248, 77, 185, 180, 55, 115, 211, 179, 163, 171, 23, 160, 251, 198, 1, 208, 114, 51, 126, 26, 194, 6, 275, 279, 136, 204, 273, 191, 219, 37, 182, 19, 95], 'packing_plan': [1, 0, 0, 0, 0, 0, 0, 0, 0, 0, 0, 1, 0, 0, 0, 0, 0, 0, 0, 0, 0, 0, 0, 0, 0, 0, 0, 1, 0, 0, 0, 0, 1, 0, 1, 0, 0, 0, 0, 0, 0, 0, 0, 0, 0, 1, 0, 0, 0, 0, 0, 0, 0, 0, 0, 0, 0, 0, 0, 0, 0, 0, 0, 0, 0, 1, 0, 0, 0, 0, 0, 0, 0, 0, 0, 0, 0, 1, 0, 0, 0, 0, 0, 0, 0, 0, 1, 0, 0, 0, 0, 0, 0, 0, 0, 0, 0, 0, 0, 0, 0, 0, 0, 1, 1, 0, 0, 0, 0, 0, 0, 0, 0, 0, 0, 0, 0, 0, 0, 0, 0, 0, 0, 0, 0, 0, 0, 0, 0, 0, 0, 0, 0, 0, 0, 0, 0, 0, 0, 0, 0, 0, 0, 0, 0, 1, 0, 0, 1, 0, 0, 0, 0, 0, 0, 0, 1, 0, 0, 0, 0, 0, 0, 0, 0, 0, 0, 0, 0, 0, 0, 0, 0, 0, 0, 0, 0, 0, 0, 0, 0, 0, 0, 0, 0, 0, 0, 0, 0, 0, 0, 0, 1, 1, 0, 0, 0, 0, 0, 0, 0, 0, 0, 0, 0, 0, 0, 0, 0, 0, 0, 0, 0, 0, 0, 0, 0, 1, 0, 0, 0, 0, 1, 0, 0, 0, 0, 0, 0, 0, 0, 0, 1, 0, 0, 0, 0, 0, 1, 0, 0, 0, 1, 1, 0, 0, 0, 0, 0, 0, 0, 0, 0, 1, 0, 0, 0, 0, 0, 0, 0, 1, 0, 0, 0, 0, 0, 0, 1, 0, 0, 0, 0, 0, 0, 0, 1, 0, 0], 'tour_cost': 545916.5334500051, 'packing_plan_cost': 30608, 'rank': 7, 'crowding_distance': 0.5352500291042648}),\n",
       " struct({'tour': [13, 182, 37, 153, 264, 47, 76, 227, 221, 99, 0, 207, 17, 150, 195, 249, 256, 79, 155, 244, 25, 33, 147, 164, 42, 32, 263, 142, 252, 231, 128, 203, 230, 9, 122, 237, 71, 96, 24, 80, 131, 61, 245, 67, 158, 106, 7, 23, 8, 100, 72, 260, 161, 212, 75, 259, 247, 186, 136, 238, 44, 185, 138, 97, 190, 77, 40, 126, 141, 156, 137, 107, 191, 57, 268, 103, 70, 254, 60, 240, 219, 251, 129, 145, 56, 82, 205, 241, 30, 255, 165, 262, 58, 210, 163, 272, 224, 278, 110, 144, 101, 193, 118, 171, 187, 65, 134, 162, 199, 267, 20, 261, 211, 188, 93, 43, 90, 216, 86, 223, 130, 140, 125, 198, 46, 146, 19, 172, 253, 64, 148, 28, 232, 243, 115, 105, 215, 175, 114, 18, 108, 123, 269, 279, 92, 139, 63, 200, 167, 154, 192, 21, 174, 197, 250, 276, 35, 170, 27, 169, 26, 51, 228, 121, 257, 4, 66, 151, 6, 246, 206, 16, 53, 271, 275, 189, 68, 202, 14, 95, 85, 69, 117, 225, 12, 194, 45, 273, 74, 248, 52, 55, 88, 124, 36, 132, 209, 196, 274, 91, 226, 184, 235, 39, 179, 143, 89, 180, 218, 54, 127, 38, 112, 62, 22, 119, 277, 50, 59, 29, 173, 265, 234, 149, 266, 222, 166, 135, 233, 87, 49, 73, 213, 102, 258, 160, 48, 236, 152, 157, 217, 239, 183, 34, 159, 176, 109, 178, 111, 10, 2, 113, 11, 78, 201, 84, 204, 120, 81, 220, 181, 229, 133, 15, 270, 5, 83, 116, 41, 177, 94, 214, 31, 3, 104, 242, 98, 168, 208, 1], 'packing_plan': [1, 0, 0, 1, 1, 0, 1, 0, 0, 0, 0, 0, 0, 0, 0, 0, 0, 0, 1, 0, 0, 0, 0, 0, 0, 0, 1, 0, 0, 0, 0, 0, 0, 0, 0, 1, 0, 0, 0, 0, 0, 0, 0, 0, 0, 0, 0, 1, 1, 0, 0, 0, 0, 0, 0, 0, 0, 0, 0, 0, 0, 1, 0, 0, 1, 0, 0, 0, 0, 0, 0, 0, 0, 0, 0, 0, 0, 0, 0, 0, 0, 0, 0, 0, 0, 0, 0, 0, 0, 0, 0, 0, 1, 0, 0, 0, 0, 0, 0, 0, 0, 0, 0, 0, 0, 0, 0, 0, 0, 0, 0, 0, 0, 0, 0, 0, 0, 0, 0, 0, 0, 0, 0, 0, 0, 0, 0, 0, 0, 0, 0, 0, 1, 0, 0, 0, 0, 0, 0, 0, 0, 0, 0, 0, 0, 0, 1, 0, 0, 0, 0, 0, 1, 1, 0, 0, 0, 0, 0, 1, 0, 0, 0, 0, 0, 0, 1, 0, 0, 0, 0, 0, 0, 0, 0, 0, 0, 0, 0, 0, 0, 0, 0, 0, 0, 0, 1, 0, 0, 0, 0, 0, 0, 1, 0, 0, 1, 0, 0, 0, 0, 0, 0, 0, 0, 0, 0, 0, 0, 0, 0, 0, 0, 0, 0, 0, 0, 0, 0, 0, 0, 0, 0, 0, 0, 0, 0, 0, 1, 0, 0, 0, 0, 0, 0, 0, 0, 0, 0, 1, 0, 0, 0, 0, 0, 0, 1, 0, 0, 0, 0, 1, 0, 0, 0, 0, 0, 0, 0, 0, 0, 0, 0, 0, 0, 0, 0, 0, 0, 0, 0, 0, 0, 0, 0, 0, 0, 0, 0], 'tour_cost': 558030.3503962398, 'packing_plan_cost': 29913, 'rank': 9, 'crowding_distance': inf}),\n",
       " struct({'tour': [202, 234, 259, 167, 40, 159, 148, 270, 273, 215, 30, 199, 176, 11, 179, 62, 56, 1, 4, 169, 240, 173, 272, 77, 203, 266, 255, 221, 32, 236, 269, 33, 121, 47, 262, 131, 275, 219, 210, 112, 229, 191, 133, 110, 134, 200, 181, 76, 10, 93, 162, 265, 71, 80, 136, 276, 57, 224, 154, 78, 98, 163, 120, 192, 116, 46, 127, 107, 117, 267, 74, 260, 264, 261, 222, 230, 225, 213, 253, 247, 73, 83, 161, 156, 209, 55, 26, 100, 258, 85, 129, 44, 54, 21, 139, 126, 245, 105, 153, 9, 227, 94, 271, 70, 6, 128, 168, 102, 130, 22, 90, 7, 207, 15, 82, 166, 149, 142, 67, 115, 72, 144, 135, 2, 86, 52, 188, 186, 228, 196, 233, 152, 164, 251, 208, 17, 171, 101, 185, 37, 5, 268, 0, 175, 99, 256, 195, 226, 91, 84, 250, 180, 75, 211, 172, 48, 193, 151, 14, 150, 81, 263, 59, 124, 125, 108, 170, 220, 248, 64, 79, 51, 27, 132, 137, 206, 145, 198, 182, 24, 96, 97, 189, 274, 177, 19, 257, 204, 216, 104, 232, 218, 87, 50, 34, 20, 106, 109, 31, 143, 252, 183, 238, 141, 66, 12, 88, 53, 223, 92, 140, 95, 194, 16, 111, 165, 23, 122, 38, 63, 160, 146, 214, 242, 190, 249, 217, 39, 43, 246, 89, 197, 29, 239, 158, 114, 184, 42, 60, 212, 138, 123, 201, 69, 235, 49, 118, 279, 113, 147, 254, 243, 8, 28, 68, 35, 241, 187, 3, 237, 65, 36, 278, 277, 178, 103, 25, 244, 18, 231, 45, 61, 155, 205, 119, 174, 58, 41, 157, 13], 'packing_plan': [0, 0, 1, 0, 0, 0, 0, 0, 0, 0, 0, 0, 0, 0, 0, 0, 0, 0, 0, 0, 0, 0, 0, 0, 0, 0, 0, 0, 0, 0, 0, 0, 1, 1, 0, 0, 0, 0, 0, 0, 0, 0, 0, 0, 0, 0, 0, 0, 1, 0, 0, 0, 0, 0, 0, 0, 0, 0, 0, 0, 0, 0, 0, 0, 0, 0, 0, 1, 0, 1, 0, 0, 0, 0, 0, 0, 0, 0, 0, 0, 0, 0, 0, 0, 0, 1, 0, 0, 0, 0, 0, 0, 0, 0, 1, 0, 0, 0, 0, 0, 1, 0, 0, 0, 0, 0, 0, 0, 0, 1, 1, 0, 0, 0, 0, 0, 0, 1, 0, 0, 0, 0, 0, 0, 1, 0, 0, 0, 0, 0, 0, 0, 0, 0, 0, 0, 0, 0, 1, 0, 0, 0, 0, 0, 0, 0, 0, 0, 0, 0, 0, 1, 1, 0, 0, 0, 1, 0, 0, 0, 0, 0, 0, 0, 0, 0, 0, 0, 0, 0, 0, 1, 0, 0, 0, 0, 1, 0, 0, 0, 0, 0, 0, 1, 0, 0, 0, 0, 0, 0, 0, 0, 0, 0, 0, 0, 0, 0, 0, 0, 0, 0, 0, 0, 0, 0, 0, 0, 0, 0, 0, 0, 0, 0, 0, 0, 1, 0, 0, 1, 0, 1, 1, 1, 1, 1, 0, 0, 0, 0, 0, 0, 0, 0, 0, 0, 0, 0, 0, 0, 0, 0, 0, 0, 0, 0, 0, 0, 0, 0, 0, 0, 0, 0, 0, 0, 0, 0, 0, 1, 0, 0, 0, 0, 0, 0, 1, 0, 0, 0, 1, 0, 0, 0, 0, 1, 0, 0, 0], 'tour_cost': 448287.5990631923, 'packing_plan_cost': 30452, 'rank': 4, 'crowding_distance': 0.97154002701378}),\n",
       " struct({'tour': [161, 45, 162, 200, 91, 236, 42, 154, 70, 147, 10, 209, 183, 216, 131, 272, 117, 73, 102, 8, 32, 160, 215, 52, 253, 27, 250, 178, 213, 232, 9, 151, 50, 16, 86, 76, 243, 56, 75, 184, 231, 63, 223, 89, 94, 175, 244, 261, 229, 195, 258, 53, 210, 135, 19, 116, 79, 190, 77, 157, 62, 83, 173, 138, 271, 107, 123, 106, 249, 99, 21, 20, 31, 153, 60, 227, 39, 38, 206, 230, 93, 270, 188, 189, 120, 274, 267, 128, 259, 7, 205, 84, 275, 0, 103, 150, 266, 80, 256, 208, 217, 246, 47, 237, 211, 203, 11, 22, 37, 78, 3, 235, 148, 265, 220, 69, 13, 133, 168, 219, 202, 88, 126, 165, 87, 257, 254, 226, 142, 187, 149, 177, 82, 273, 48, 85, 110, 67, 207, 129, 156, 264, 192, 139, 108, 169, 61, 201, 112, 263, 5, 212, 241, 171, 158, 121, 182, 109, 101, 268, 193, 170, 141, 14, 276, 242, 130, 214, 54, 58, 145, 262, 234, 225, 218, 255, 64, 4, 35, 191, 163, 181, 172, 185, 222, 113, 124, 127, 71, 118, 224, 111, 180, 43, 65, 23, 36, 278, 28, 115, 12, 134, 92, 51, 248, 95, 238, 245, 233, 197, 144, 97, 277, 96, 221, 90, 136, 40, 98, 100, 252, 279, 29, 199, 194, 251, 72, 143, 240, 74, 104, 260, 152, 164, 137, 247, 176, 24, 204, 81, 196, 159, 44, 269, 198, 6, 49, 26, 30, 66, 105, 155, 2, 119, 228, 41, 174, 17, 132, 25, 15, 179, 68, 18, 146, 114, 59, 33, 1, 34, 166, 57, 55, 125, 122, 46, 239, 167, 140, 186], 'packing_plan': [0, 0, 1, 0, 0, 0, 0, 0, 0, 0, 0, 0, 0, 0, 0, 0, 1, 0, 0, 0, 1, 0, 0, 0, 0, 0, 0, 0, 0, 0, 0, 0, 0, 1, 0, 0, 1, 0, 0, 0, 0, 0, 0, 0, 0, 0, 0, 0, 0, 0, 0, 0, 0, 0, 0, 0, 0, 0, 0, 0, 0, 0, 1, 0, 0, 0, 0, 0, 0, 0, 0, 0, 0, 0, 0, 0, 0, 0, 0, 0, 0, 0, 0, 0, 0, 0, 0, 0, 0, 0, 1, 0, 1, 0, 0, 0, 0, 0, 0, 0, 0, 0, 0, 0, 0, 0, 0, 0, 0, 0, 0, 0, 0, 1, 0, 0, 0, 0, 0, 0, 0, 0, 1, 0, 0, 0, 1, 0, 0, 1, 0, 0, 0, 0, 0, 0, 1, 0, 0, 0, 0, 0, 0, 0, 0, 1, 0, 0, 0, 0, 0, 0, 0, 0, 0, 0, 0, 0, 0, 0, 0, 0, 0, 0, 0, 0, 0, 0, 0, 0, 0, 0, 0, 1, 0, 0, 0, 0, 0, 1, 0, 0, 0, 0, 0, 0, 0, 0, 0, 1, 0, 0, 0, 0, 0, 0, 0, 0, 0, 0, 0, 0, 0, 0, 0, 0, 0, 0, 0, 0, 0, 0, 0, 0, 0, 0, 0, 0, 1, 0, 0, 0, 1, 0, 0, 0, 0, 1, 0, 0, 0, 0, 0, 0, 0, 0, 0, 0, 0, 0, 0, 1, 0, 0, 0, 0, 0, 0, 0, 0, 0, 0, 0, 0, 0, 0, 0, 0, 0, 0, 1, 0, 0, 0, 0, 0, 0, 0, 0, 0, 1, 0, 0, 0, 0, 0, 1, 0, 0], 'tour_cost': 362205.5663857655, 'packing_plan_cost': 30810, 'rank': 1, 'crowding_distance': 1.0653937749085391}),\n",
       " struct({'tour': [90, 207, 92, 193, 56, 140, 267, 202, 230, 194, 232, 278, 55, 94, 119, 88, 272, 250, 105, 191, 131, 243, 84, 244, 0, 180, 135, 220, 52, 137, 3, 256, 17, 167, 273, 60, 184, 80, 130, 124, 151, 233, 14, 177, 172, 83, 74, 106, 93, 240, 59, 38, 9, 203, 128, 132, 187, 43, 169, 246, 127, 126, 160, 149, 61, 34, 200, 235, 236, 72, 104, 102, 7, 150, 260, 77, 121, 259, 170, 249, 96, 276, 136, 91, 201, 183, 4, 100, 50, 222, 208, 210, 49, 198, 33, 268, 16, 211, 153, 101, 64, 139, 107, 112, 277, 76, 47, 223, 18, 219, 115, 164, 19, 156, 143, 103, 162, 123, 28, 86, 274, 190, 98, 175, 182, 1, 195, 216, 53, 168, 196, 215, 158, 251, 85, 117, 188, 179, 129, 238, 241, 134, 197, 221, 212, 99, 35, 165, 152, 51, 120, 181, 254, 144, 24, 264, 154, 189, 39, 186, 44, 253, 111, 225, 206, 45, 68, 178, 75, 122, 66, 262, 171, 133, 258, 146, 263, 224, 141, 228, 32, 242, 87, 26, 185, 257, 227, 270, 27, 108, 174, 8, 145, 245, 166, 89, 204, 20, 10, 15, 63, 261, 231, 199, 176, 237, 118, 147, 148, 40, 48, 11, 157, 271, 234, 69, 125, 229, 5, 205, 58, 23, 62, 265, 239, 155, 213, 110, 138, 29, 46, 217, 95, 113, 12, 65, 81, 252, 78, 31, 54, 71, 22, 247, 209, 163, 142, 218, 161, 97, 266, 21, 226, 269, 173, 57, 25, 41, 67, 214, 275, 82, 248, 73, 192, 6, 42, 279, 70, 255, 37, 30, 13, 79, 36, 114, 2, 116, 109, 159], 'packing_plan': [0, 0, 0, 0, 1, 0, 0, 0, 0, 0, 0, 0, 0, 0, 0, 0, 0, 1, 0, 1, 0, 0, 0, 0, 0, 0, 0, 0, 1, 0, 0, 0, 0, 0, 0, 0, 0, 0, 0, 1, 1, 0, 0, 0, 0, 0, 0, 0, 0, 0, 0, 0, 0, 1, 0, 0, 0, 1, 0, 0, 0, 0, 0, 0, 0, 0, 0, 0, 0, 0, 0, 0, 0, 1, 0, 0, 0, 0, 0, 0, 0, 0, 0, 0, 0, 0, 0, 0, 0, 0, 0, 0, 0, 0, 0, 0, 0, 1, 0, 0, 0, 0, 0, 0, 0, 0, 0, 0, 0, 0, 0, 0, 0, 0, 0, 0, 0, 0, 0, 0, 0, 0, 0, 0, 1, 0, 0, 0, 0, 0, 0, 0, 0, 0, 0, 0, 0, 0, 1, 0, 0, 0, 0, 0, 0, 0, 0, 0, 0, 0, 0, 0, 0, 0, 0, 0, 0, 0, 1, 0, 0, 0, 0, 1, 0, 0, 0, 0, 0, 0, 0, 0, 0, 0, 0, 0, 0, 0, 0, 0, 0, 0, 0, 0, 0, 0, 0, 0, 1, 0, 0, 0, 0, 0, 0, 0, 0, 0, 0, 0, 0, 0, 0, 1, 0, 0, 0, 0, 0, 0, 0, 0, 0, 0, 0, 0, 0, 0, 0, 0, 1, 0, 0, 0, 0, 0, 1, 0, 0, 0, 0, 0, 0, 0, 1, 0, 0, 0, 0, 0, 0, 0, 0, 0, 0, 0, 0, 0, 0, 1, 0, 1, 1, 0, 0, 1, 0, 0, 0, 0, 0, 0, 0, 0, 0, 0, 0, 0, 0, 0, 0, 1, 0, 0, 0, 0, 0, 0, 0], 'tour_cost': 452556.2324068751, 'packing_plan_cost': 30347, 'rank': 5, 'crowding_distance': 1.2439927736928011}),\n",
       " struct({'tour': [274, 30, 53, 229, 70, 226, 259, 176, 106, 181, 218, 59, 171, 182, 72, 236, 39, 98, 51, 238, 57, 139, 100, 252, 276, 184, 132, 128, 165, 76, 257, 120, 200, 141, 18, 258, 264, 65, 83, 174, 47, 188, 251, 268, 219, 105, 254, 277, 147, 117, 10, 273, 160, 85, 68, 178, 227, 208, 196, 14, 130, 135, 111, 67, 175, 269, 79, 206, 81, 91, 207, 162, 82, 90, 270, 136, 122, 127, 225, 248, 186, 93, 143, 151, 32, 263, 73, 212, 0, 262, 267, 279, 16, 116, 231, 193, 230, 34, 1, 202, 144, 2, 185, 63, 242, 89, 8, 234, 164, 71, 216, 197, 142, 35, 6, 156, 220, 84, 41, 129, 137, 237, 221, 64, 44, 20, 95, 187, 223, 272, 253, 42, 114, 203, 103, 78, 170, 61, 204, 97, 177, 145, 260, 271, 158, 101, 49, 22, 119, 211, 265, 29, 21, 50, 113, 23, 74, 45, 210, 278, 38, 153, 37, 195, 215, 159, 75, 140, 163, 5, 191, 112, 261, 86, 60, 55, 102, 201, 198, 233, 56, 123, 118, 3, 275, 134, 80, 17, 232, 69, 43, 266, 15, 213, 250, 99, 4, 157, 40, 131, 77, 241, 11, 121, 124, 167, 27, 25, 256, 58, 209, 168, 28, 148, 217, 48, 87, 36, 115, 239, 228, 19, 169, 190, 222, 12, 154, 125, 133, 224, 92, 104, 166, 173, 243, 245, 255, 152, 246, 194, 247, 110, 138, 199, 244, 107, 161, 189, 66, 62, 108, 88, 26, 7, 150, 52, 183, 94, 214, 205, 24, 126, 109, 46, 9, 240, 33, 54, 31, 172, 249, 146, 179, 180, 192, 155, 149, 13, 235, 96], 'packing_plan': [0, 0, 0, 0, 0, 0, 0, 0, 0, 0, 0, 0, 0, 0, 0, 0, 0, 1, 0, 0, 0, 0, 0, 0, 0, 0, 0, 0, 0, 0, 0, 0, 1, 0, 0, 0, 0, 0, 1, 0, 0, 0, 0, 1, 0, 0, 1, 0, 0, 0, 0, 0, 0, 0, 0, 1, 0, 0, 1, 0, 0, 0, 1, 0, 1, 0, 1, 0, 0, 0, 0, 0, 1, 0, 0, 0, 0, 0, 0, 0, 0, 0, 0, 0, 0, 0, 0, 0, 0, 0, 0, 0, 0, 0, 0, 0, 0, 0, 0, 1, 0, 0, 0, 0, 0, 0, 0, 0, 0, 0, 0, 0, 0, 1, 0, 0, 0, 0, 0, 0, 0, 0, 0, 0, 0, 0, 0, 0, 0, 0, 1, 0, 0, 0, 0, 0, 0, 0, 1, 0, 0, 1, 0, 0, 0, 0, 0, 0, 0, 0, 0, 0, 0, 0, 0, 0, 0, 0, 0, 0, 0, 0, 0, 0, 0, 0, 0, 0, 0, 0, 0, 0, 0, 0, 0, 0, 1, 0, 0, 0, 0, 0, 1, 0, 0, 0, 0, 0, 0, 0, 0, 1, 0, 0, 0, 0, 0, 0, 0, 0, 0, 0, 0, 0, 0, 0, 0, 0, 0, 0, 0, 0, 0, 0, 0, 0, 0, 0, 0, 1, 0, 0, 1, 1, 0, 0, 0, 0, 0, 0, 0, 0, 0, 0, 0, 0, 1, 0, 0, 0, 0, 0, 0, 0, 0, 0, 0, 0, 0, 1, 0, 0, 0, 0, 0, 1, 0, 0, 0, 0, 0, 0, 0, 0, 0, 0, 0, 1, 0, 0, 1, 0, 1, 0, 0, 0, 0, 0, 0], 'tour_cost': 457633.515938809, 'packing_plan_cost': 31402, 'rank': 2, 'crowding_distance': 0.7513547514977741})]"
      ]
     },
     "execution_count": 95,
     "metadata": {},
     "output_type": "execute_result"
    }
   ],
   "source": [
    "get_ranks(population)\n",
    "get_crowding_distance(population)"
   ]
  },
  {
   "cell_type": "code",
   "execution_count": 96,
   "metadata": {},
   "outputs": [
    {
     "data": {
      "text/plain": [
       "<matplotlib.collections.PathCollection at 0x17976193710>"
      ]
     },
     "execution_count": 96,
     "metadata": {},
     "output_type": "execute_result"
    },
    {
     "data": {
      "image/png": "[encoded data removed]",
      "text/plain": [
       "<Figure size 1170x827 with 1 Axes>"
      ]
     },
     "metadata": {},
     "output_type": "display_data"
    }
   ],
   "source": [
    "plt.scatter([sol.tour_cost for sol in population], [-1 * sol.packing_plan_cost for sol in population])\n",
    "plt.scatter([sol.tour_cost for sol in get_pareto_front(population)], [-1 * sol.packing_plan_cost for sol in get_pareto_front(population)])"
   ]
  },
  {
   "cell_type": "code",
   "execution_count": 97,
   "metadata": {},
   "outputs": [
    {
     "name": "stdout",
     "output_type": "stream",
     "text": [
      "0\n",
      "1\n",
      "2\n"
     ]
    },
    {
     "ename": "KeyboardInterrupt",
     "evalue": "",
     "output_type": "error",
     "traceback": [
      "\u001b[1;31m---------------------------------------------------------------------------\u001b[0m",
      "\u001b[1;31mKeyboardInterrupt\u001b[0m                         Traceback (most recent call last)",
      "\u001b[1;32mc:\\Users\\hpapa\\OneDrive\\Documents\\Data Science Year 4\\Travelling-Thief-Problem\\code\\solution_representation_and_fitness.ipynb Cell 75\u001b[0m line \u001b[0;36m7\n\u001b[0;32m      <a href='vscode-notebook-cell:/c%3A/Users/hpapa/OneDrive/Documents/Data%20Science%20Year%204/Travelling-Thief-Problem/code/solution_representation_and_fitness.ipynb#Y134sZmlsZQ%3D%3D?line=4'>5</a>\u001b[0m parent1 \u001b[39m=\u001b[39m tournament_selection(population)\n\u001b[0;32m      <a href='vscode-notebook-cell:/c%3A/Users/hpapa/OneDrive/Documents/Data%20Science%20Year%204/Travelling-Thief-Problem/code/solution_representation_and_fitness.ipynb#Y134sZmlsZQ%3D%3D?line=5'>6</a>\u001b[0m parent2 \u001b[39m=\u001b[39m tournament_selection(population)\n\u001b[1;32m----> <a href='vscode-notebook-cell:/c%3A/Users/hpapa/OneDrive/Documents/Data%20Science%20Year%204/Travelling-Thief-Problem/code/solution_representation_and_fitness.ipynb#Y134sZmlsZQ%3D%3D?line=6'>7</a>\u001b[0m child1, child2 \u001b[39m=\u001b[39m OX1_tour_crossover(parent1, parent2)\n\u001b[0;32m      <a href='vscode-notebook-cell:/c%3A/Users/hpapa/OneDrive/Documents/Data%20Science%20Year%204/Travelling-Thief-Problem/code/solution_representation_and_fitness.ipynb#Y134sZmlsZQ%3D%3D?line=7'>8</a>\u001b[0m child1, child2 \u001b[39m=\u001b[39m tour_mutation(child1, child2, \u001b[39m\"\u001b[39m\u001b[39msingle_swap\u001b[39m\u001b[39m\"\u001b[39m)\n\u001b[0;32m      <a href='vscode-notebook-cell:/c%3A/Users/hpapa/OneDrive/Documents/Data%20Science%20Year%204/Travelling-Thief-Problem/code/solution_representation_and_fitness.ipynb#Y134sZmlsZQ%3D%3D?line=8'>9</a>\u001b[0m child1, child2 \u001b[39m=\u001b[39m packing_plan_mutation(child1, child2, \u001b[39m0.2\u001b[39m)\n",
      "\u001b[1;32mc:\\Users\\hpapa\\OneDrive\\Documents\\Data Science Year 4\\Travelling-Thief-Problem\\code\\solution_representation_and_fitness.ipynb Cell 75\u001b[0m line \u001b[0;36m3\n\u001b[0;32m     <a href='vscode-notebook-cell:/c%3A/Users/hpapa/OneDrive/Documents/Data%20Science%20Year%204/Travelling-Thief-Problem/code/solution_representation_and_fitness.ipynb#Y134sZmlsZQ%3D%3D?line=30'>31</a>\u001b[0m crossover_point \u001b[39m=\u001b[39m np\u001b[39m.\u001b[39mrandom\u001b[39m.\u001b[39mrandint(\u001b[39m1\u001b[39m, \u001b[39mlen\u001b[39m(parent1\u001b[39m.\u001b[39mtour))\n\u001b[0;32m     <a href='vscode-notebook-cell:/c%3A/Users/hpapa/OneDrive/Documents/Data%20Science%20Year%204/Travelling-Thief-Problem/code/solution_representation_and_fitness.ipynb#Y134sZmlsZQ%3D%3D?line=32'>33</a>\u001b[0m child1\u001b[39m.\u001b[39mtour \u001b[39m=\u001b[39m parent1\u001b[39m.\u001b[39mtour[:crossover_point] \u001b[39m+\u001b[39m [x \u001b[39mfor\u001b[39;00m x \u001b[39min\u001b[39;00m parent2\u001b[39m.\u001b[39mtour \u001b[39mif\u001b[39;00m x \u001b[39mnot\u001b[39;00m \u001b[39min\u001b[39;00m parent1\u001b[39m.\u001b[39mtour[:crossover_point]]\n\u001b[1;32m---> <a href='vscode-notebook-cell:/c%3A/Users/hpapa/OneDrive/Documents/Data%20Science%20Year%204/Travelling-Thief-Problem/code/solution_representation_and_fitness.ipynb#Y134sZmlsZQ%3D%3D?line=33'>34</a>\u001b[0m child2\u001b[39m.\u001b[39mtour \u001b[39m=\u001b[39m parent2\u001b[39m.\u001b[39mtour[:crossover_point] \u001b[39m+\u001b[39m [x \u001b[39mfor\u001b[39;49;00m x \u001b[39min\u001b[39;49;00m parent1\u001b[39m.\u001b[39;49mtour \u001b[39mif\u001b[39;49;00m x \u001b[39mnot\u001b[39;49;00m \u001b[39min\u001b[39;49;00m parent2\u001b[39m.\u001b[39;49mtour[:crossover_point]]\n\u001b[0;32m     <a href='vscode-notebook-cell:/c%3A/Users/hpapa/OneDrive/Documents/Data%20Science%20Year%204/Travelling-Thief-Problem/code/solution_representation_and_fitness.ipynb#Y134sZmlsZQ%3D%3D?line=35'>36</a>\u001b[0m \u001b[39mreturn\u001b[39;00m child1, child2\n",
      "\u001b[1;32mc:\\Users\\hpapa\\OneDrive\\Documents\\Data Science Year 4\\Travelling-Thief-Problem\\code\\solution_representation_and_fitness.ipynb Cell 75\u001b[0m line \u001b[0;36m3\n\u001b[0;32m     <a href='vscode-notebook-cell:/c%3A/Users/hpapa/OneDrive/Documents/Data%20Science%20Year%204/Travelling-Thief-Problem/code/solution_representation_and_fitness.ipynb#Y134sZmlsZQ%3D%3D?line=30'>31</a>\u001b[0m crossover_point \u001b[39m=\u001b[39m np\u001b[39m.\u001b[39mrandom\u001b[39m.\u001b[39mrandint(\u001b[39m1\u001b[39m, \u001b[39mlen\u001b[39m(parent1\u001b[39m.\u001b[39mtour))\n\u001b[0;32m     <a href='vscode-notebook-cell:/c%3A/Users/hpapa/OneDrive/Documents/Data%20Science%20Year%204/Travelling-Thief-Problem/code/solution_representation_and_fitness.ipynb#Y134sZmlsZQ%3D%3D?line=32'>33</a>\u001b[0m child1\u001b[39m.\u001b[39mtour \u001b[39m=\u001b[39m parent1\u001b[39m.\u001b[39mtour[:crossover_point] \u001b[39m+\u001b[39m [x \u001b[39mfor\u001b[39;00m x \u001b[39min\u001b[39;00m parent2\u001b[39m.\u001b[39mtour \u001b[39mif\u001b[39;00m x \u001b[39mnot\u001b[39;00m \u001b[39min\u001b[39;00m parent1\u001b[39m.\u001b[39mtour[:crossover_point]]\n\u001b[1;32m---> <a href='vscode-notebook-cell:/c%3A/Users/hpapa/OneDrive/Documents/Data%20Science%20Year%204/Travelling-Thief-Problem/code/solution_representation_and_fitness.ipynb#Y134sZmlsZQ%3D%3D?line=33'>34</a>\u001b[0m child2\u001b[39m.\u001b[39mtour \u001b[39m=\u001b[39m parent2\u001b[39m.\u001b[39mtour[:crossover_point] \u001b[39m+\u001b[39m [x \u001b[39mfor\u001b[39;00m x \u001b[39min\u001b[39;00m parent1\u001b[39m.\u001b[39mtour \u001b[39mif\u001b[39;00m x \u001b[39mnot\u001b[39;00m \u001b[39min\u001b[39;00m parent2\u001b[39m.\u001b[39;49mtour[:crossover_point]]\n\u001b[0;32m     <a href='vscode-notebook-cell:/c%3A/Users/hpapa/OneDrive/Documents/Data%20Science%20Year%204/Travelling-Thief-Problem/code/solution_representation_and_fitness.ipynb#Y134sZmlsZQ%3D%3D?line=35'>36</a>\u001b[0m \u001b[39mreturn\u001b[39;00m child1, child2\n",
      "File \u001b[1;32mc:\\Users\\hpapa\\anaconda3\\envs\\working130323\\Lib\\site-packages\\ypstruct\\__init__.py:22\u001b[0m, in \u001b[0;36mstruct.__getattr__\u001b[1;34m(self, field)\u001b[0m\n\u001b[0;32m     18\u001b[0m \u001b[39m\u001b[39m\u001b[39m\"\"\"\u001b[39;00m\n\u001b[0;32m     19\u001b[0m \u001b[39mGets value of a field\u001b[39;00m\n\u001b[0;32m     20\u001b[0m \u001b[39m\"\"\"\u001b[39;00m\n\u001b[0;32m     21\u001b[0m \u001b[39mif\u001b[39;00m field \u001b[39mnot\u001b[39;00m \u001b[39min\u001b[39;00m \u001b[39mdir\u001b[39m(\u001b[39mself\u001b[39m):\n\u001b[1;32m---> 22\u001b[0m     \u001b[39mif\u001b[39;00m field \u001b[39min\u001b[39;00m \u001b[39mself\u001b[39;49m\u001b[39m.\u001b[39;49mkeys():\n\u001b[0;32m     23\u001b[0m         \u001b[39mreturn\u001b[39;00m \u001b[39mself\u001b[39m[field]\n\u001b[0;32m     24\u001b[0m     \u001b[39melse\u001b[39;00m:\n",
      "\u001b[1;31mKeyboardInterrupt\u001b[0m: "
     ]
    }
   ],
   "source": [
    "for i in range(100):\n",
    "    print(i)\n",
    "    children = []\n",
    "    for _ in range(50):\n",
    "        parent1 = tournament_selection(population)\n",
    "        parent2 = tournament_selection(population)\n",
    "        child1, child2 = OX1_tour_crossover(parent1, parent2)\n",
    "        child1, child2 = tour_mutation(child1, child2, \"single_swap\")\n",
    "        child1, child2 = packing_plan_mutation(child1, child2, 0.2)\n",
    "        repair_packing_plan(child1, Q, item_weights)\n",
    "        repair_packing_plan(child2, Q, item_weights)\n",
    "        \n",
    "        \n",
    "\n",
    "        children.append(child1)\n",
    "        children.append(child2)\n",
    "    \n",
    "    for child in children:\n",
    "        evaluate_candidate_solution_cost_pdist(\n",
    "            child, \n",
    "            pairwise_distances,\n",
    "            item_to_city_mapping_dict, \n",
    "            item_weights,\n",
    "            item_values,\n",
    "            vmax, \n",
    "            vmin,  \n",
    "            Q,\n",
    "            R\n",
    "        )\n",
    "\n",
    "    population += children\n",
    "    get_ranks(population)\n",
    "    get_crowding_distance(population)\n",
    "    population = replacement(population, 50)\n",
    "    \n",
    "\n"
   ]
  },
  {
   "cell_type": "code",
   "execution_count": null,
   "metadata": {},
   "outputs": [],
   "source": [
    "p = get_pareto_front(population)"
   ]
  },
  {
   "cell_type": "code",
   "execution_count": null,
   "metadata": {},
   "outputs": [
    {
     "data": {
      "text/plain": [
       "50"
      ]
     },
     "execution_count": 70,
     "metadata": {},
     "output_type": "execute_result"
    }
   ],
   "source": [
    "len(population)"
   ]
  },
  {
   "cell_type": "code",
   "execution_count": null,
   "metadata": {},
   "outputs": [
    {
     "data": {
      "text/plain": [
       "19"
      ]
     },
     "execution_count": 71,
     "metadata": {},
     "output_type": "execute_result"
    }
   ],
   "source": [
    "len(p)"
   ]
  },
  {
   "cell_type": "code",
   "execution_count": null,
   "metadata": {},
   "outputs": [
    {
     "data": {
      "text/plain": [
       "<matplotlib.collections.PathCollection at 0x19712a5f710>"
      ]
     },
     "execution_count": 73,
     "metadata": {},
     "output_type": "execute_result"
    },
    {
     "data": {
      "image/png": "[encoded data removed]",
      "text/plain": [
       "<Figure size 1170x827 with 1 Axes>"
      ]
     },
     "metadata": {},
     "output_type": "display_data"
    }
   ],
   "source": [
    "plt.scatter([sol.tour_cost for sol in population], [-1 * sol.packing_plan_cost for sol in population])\n",
    "plt.scatter([sol.tour_cost for sol in p], [-1 * sol.packing_plan_cost for sol in p])\n",
    "\n"
   ]
  },
  {
   "cell_type": "code",
   "execution_count": 102,
   "metadata": {},
   "outputs": [],
   "source": [
    "# def assert_structures_equal(struct1, struct2):\n",
    "#     # Get attribute names of the structures\n",
    "#     keys1 = struct1.keys()\n",
    "#     keys2 = struct2.keys()\n",
    "\n",
    "#     # Check if attribute values are the same\n",
    "#     for key in keys1:\n",
    "#         value1 = getattr(struct1, key)\n",
    "#         print(key)\n",
    "#         print(value1)\n",
    "#         value2 = getattr(struct2, key)\n",
    "#         print(value2)\n",
    "#         print(type(value1), type(value2))\n",
    "#         # Check if the values are lists and compare them\n",
    "#         if isinstance(value1, list) and isinstance(value2, list):\n",
    "#             assert value1 != value2, f\"Lists for attribute {key} are equal.\"\n",
    "#         else:\n",
    "#             assert value1 != value2, f\"Attribute {key} values are the same.\""
   ]
  },
  {
   "cell_type": "code",
   "execution_count": 128,
   "metadata": {},
   "outputs": [
    {
     "name": "stdout",
     "output_type": "stream",
     "text": [
      "0\n",
      "1\n",
      "2\n",
      "3\n",
      "4\n",
      "5\n",
      "6\n",
      "7\n",
      "8\n",
      "9\n",
      "10\n",
      "11\n",
      "12\n",
      "13\n",
      "14\n",
      "15\n",
      "16\n",
      "17\n",
      "18\n",
      "19\n",
      "20\n",
      "21\n",
      "22\n",
      "23\n",
      "24\n",
      "25\n",
      "26\n",
      "27\n",
      "28\n",
      "29\n",
      "30\n",
      "31\n",
      "32\n",
      "33\n",
      "34\n",
      "35\n",
      "36\n",
      "37\n",
      "38\n",
      "39\n",
      "40\n",
      "41\n",
      "42\n",
      "43\n",
      "44\n",
      "45\n",
      "46\n",
      "47\n",
      "48\n",
      "49\n",
      "50\n",
      "51\n",
      "52\n",
      "53\n",
      "54\n",
      "55\n",
      "56\n",
      "57\n",
      "58\n",
      "59\n",
      "60\n",
      "61\n",
      "62\n",
      "63\n",
      "64\n",
      "65\n",
      "66\n",
      "67\n",
      "68\n",
      "69\n",
      "70\n",
      "71\n",
      "72\n",
      "73\n",
      "74\n",
      "75\n",
      "76\n",
      "77\n",
      "78\n",
      "79\n",
      "80\n",
      "81\n",
      "82\n",
      "83\n",
      "84\n",
      "85\n",
      "86\n",
      "87\n",
      "88\n",
      "89\n",
      "90\n",
      "91\n",
      "92\n",
      "93\n",
      "94\n",
      "95\n",
      "96\n",
      "97\n",
      "98\n",
      "99\n"
     ]
    }
   ],
   "source": [
    "pop_size = 60\n",
    "population = generate_initial_population(pop_size, nb_cities, \"pack_random\", \"random\", Q, value_to_weight_ratio_dict, item_weights)\n",
    "for candidate_solution in population:\n",
    "    evaluate_candidate_solution_cost_pdist(\n",
    "        candidate_solution, \n",
    "        pairwise_distances,\n",
    "        item_to_city_mapping_dict, \n",
    "        item_weights,\n",
    "        item_values,\n",
    "        vmax, \n",
    "        vmin,  \n",
    "        Q,\n",
    "        R\n",
    "    )\n",
    "get_ranks(population)\n",
    "get_crowding_distance(population)\n",
    "for i in range(100):\n",
    "    print(i)\n",
    "    children = []\n",
    "    for _ in range(int(pop_size / 2)):\n",
    "        parent1 = tournament_selection(population)\n",
    "        parent2 = tournament_selection(population)\n",
    "\n",
    "        # x = np.random.random(1)\n",
    "        # print(x)\n",
    "        # if x < 0.5:\n",
    "        #     child1, child2 = OX1_tour_crossover(parent1, parent2)\n",
    "        # else:\n",
    "        #     child1, child2 = packing_plan_crossover(parent1, parent2, \"single_point\")\n",
    "            \n",
    "        # print(child1, child2)\n",
    "        child1, child2 = tour_mutation(parent1, parent2, \"single_swap\")\n",
    "        child1, child2 = packing_plan_mutation(child1, child2, 0.2)\n",
    "        # print(\"yes\")\n",
    "        # assert_structures_equal(child1, parent1)\n",
    "        # assert_structures_equal(child2, parent2)\n",
    "        repair_packing_plan(child1, Q, item_weights)\n",
    "        repair_packing_plan(child2, Q, item_weights)\n",
    "        \n",
    "        # assert_structures_equal(child1, parent1)\n",
    "        # assert_structures_equal(child2, parent2)\n",
    "        \n",
    "\n",
    "        children.append(child1)\n",
    "        children.append(child2)\n",
    "    \n",
    "    for child in children:\n",
    "        \n",
    "        evaluate_candidate_solution_cost_pdist(\n",
    "            child, \n",
    "            pairwise_distances,\n",
    "            item_to_city_mapping_dict, \n",
    "            item_weights,\n",
    "            item_values,\n",
    "            vmax, \n",
    "            vmin,  \n",
    "            Q,\n",
    "            R\n",
    "        )\n",
    "\n",
    "    population += children\n",
    "    get_ranks(population)\n",
    "    get_crowding_distance(population)\n",
    "    population = replacement(population, pop_size)"
   ]
  },
  {
   "cell_type": "code",
   "execution_count": 130,
   "metadata": {},
   "outputs": [
    {
     "data": {
      "text/plain": [
       "<matplotlib.collections.PathCollection at 0x17975f92f90>"
      ]
     },
     "execution_count": 130,
     "metadata": {},
     "output_type": "execute_result"
    },
    {
     "data": {
      "image/png": "[encoded data removed]",
      "text/plain": [
       "<Figure size 1170x827 with 1 Axes>"
      ]
     },
     "metadata": {},
     "output_type": "display_data"
    }
   ],
   "source": [
    "plt.scatter([sol.tour_cost for sol in population], [-1 * sol.packing_plan_cost for sol in population])\n",
    "# plt.scatter([sol.tour_cost for sol in get_pareto_front(p)], [-1 * sol.packing_plan_cost for sol in p])"
   ]
  },
  {
   "cell_type": "code",
   "execution_count": null,
   "metadata": {},
   "outputs": [],
   "source": []
  },
  {
   "cell_type": "code",
   "execution_count": null,
   "metadata": {},
   "outputs": [],
   "source": []
  },
  {
   "cell_type": "code",
   "execution_count": 55,
   "metadata": {},
   "outputs": [
    {
     "data": {
      "text/plain": [
       "dict_keys(['nb_cities', 'nb_items', 'Q', 'v_min', 'v_max', 'R', 'pairwise_distances', 'item_to_city_mapping_dict', 'item_weights', 'item_values', 'value_to_weight_ratio_dict'])"
      ]
     },
     "execution_count": 55,
     "metadata": {},
     "output_type": "execute_result"
    }
   ],
   "source": [
    "a280_n1395.keys()"
   ]
  },
  {
   "cell_type": "code",
   "execution_count": 56,
   "metadata": {},
   "outputs": [],
   "source": [
    "test_instance = read_TTP_instance_data(\"../data/a280-n2790.txt\")"
   ]
  },
  {
   "cell_type": "code",
   "execution_count": 57,
   "metadata": {},
   "outputs": [],
   "source": [
    "init_pop = generate_initial_population(50,\n",
    "                                       test_instance[\"nb_cities\"], \n",
    "                                       \"pack_random\", \n",
    "                                       \"random\", \n",
    "                                       test_instance[\"Q\"], \n",
    "                                       test_instance[\"value_to_weight_ratio_dict\"],\n",
    "                                       test_instance[\"item_weights\"])"
   ]
  },
  {
   "cell_type": "code",
   "execution_count": 58,
   "metadata": {},
   "outputs": [],
   "source": [
    "for candidate_solution in init_pop:\n",
    "    evaluate_candidate_solution_cost_pdist(candidate_solution,\n",
    "                                     test_instance[\"pairwise_distances\"],\n",
    "                                     test_instance[\"item_to_city_mapping_dict\"],\n",
    "                                     test_instance[\"item_weights\"],\n",
    "                                     test_instance[\"item_values\"],\n",
    "                                     test_instance[\"v_max\"],\n",
    "                                     test_instance[\"v_min\"],\n",
    "                                     test_instance[\"Q\"],\n",
    "                                     test_instance[\"R\"])"
   ]
  },
  {
   "cell_type": "code",
   "execution_count": 59,
   "metadata": {},
   "outputs": [
    {
     "ename": "IndexError",
     "evalue": "list index out of range",
     "output_type": "error",
     "traceback": [
      "\u001b[1;31m---------------------------------------------------------------------------\u001b[0m",
      "\u001b[1;31mIndexError\u001b[0m                                Traceback (most recent call last)",
      "\u001b[1;32mc:\\Users\\hpapa\\OneDrive\\Documents\\Data Science Year 4\\ECMM409\\Travelling-Thief-Problem\\code\\solution_representation_and_fitness.ipynb Cell 67\u001b[0m line \u001b[0;36m2\n\u001b[0;32m      <a href='vscode-notebook-cell:/c%3A/Users/hpapa/OneDrive/Documents/Data%20Science%20Year%204/ECMM409/Travelling-Thief-Problem/code/solution_representation_and_fitness.ipynb#Y123sZmlsZQ%3D%3D?line=0'>1</a>\u001b[0m get_ranks(init_pop)\n\u001b[1;32m----> <a href='vscode-notebook-cell:/c%3A/Users/hpapa/OneDrive/Documents/Data%20Science%20Year%204/ECMM409/Travelling-Thief-Problem/code/solution_representation_and_fitness.ipynb#Y123sZmlsZQ%3D%3D?line=1'>2</a>\u001b[0m get_crowding_distance(init_pop)\n",
      "\u001b[1;32mc:\\Users\\hpapa\\OneDrive\\Documents\\Data Science Year 4\\ECMM409\\Travelling-Thief-Problem\\code\\solution_representation_and_fitness.ipynb Cell 67\u001b[0m line \u001b[0;36m3\n\u001b[0;32m     <a href='vscode-notebook-cell:/c%3A/Users/hpapa/OneDrive/Documents/Data%20Science%20Year%204/ECMM409/Travelling-Thief-Problem/code/solution_representation_and_fitness.ipynb#Y123sZmlsZQ%3D%3D?line=29'>30</a>\u001b[0m     \u001b[39mfor\u001b[39;00m j \u001b[39min\u001b[39;00m \u001b[39mrange\u001b[39m(\u001b[39m1\u001b[39m,length\u001b[39m-\u001b[39m\u001b[39m1\u001b[39m):\n\u001b[0;32m     <a href='vscode-notebook-cell:/c%3A/Users/hpapa/OneDrive/Documents/Data%20Science%20Year%204/ECMM409/Travelling-Thief-Problem/code/solution_representation_and_fitness.ipynb#Y123sZmlsZQ%3D%3D?line=30'>31</a>\u001b[0m         dist[i][j] \u001b[39m+\u001b[39m\u001b[39m=\u001b[39m (fronts[i][j\u001b[39m+\u001b[39m\u001b[39m1\u001b[39m]\u001b[39m.\u001b[39mpacking_plan_cost \u001b[39m-\u001b[39m fronts[i][j\u001b[39m-\u001b[39m\u001b[39m1\u001b[39m]\u001b[39m.\u001b[39mpacking_plan_cost)\u001b[39m/\u001b[39m(fronts[i][\u001b[39m-\u001b[39m\u001b[39m1\u001b[39m]\u001b[39m.\u001b[39mpacking_plan_cost \u001b[39m-\u001b[39m fronts[i][\u001b[39m0\u001b[39m]\u001b[39m.\u001b[39mpacking_plan_cost)\n\u001b[1;32m---> <a href='vscode-notebook-cell:/c%3A/Users/hpapa/OneDrive/Documents/Data%20Science%20Year%204/ECMM409/Travelling-Thief-Problem/code/solution_representation_and_fitness.ipynb#Y123sZmlsZQ%3D%3D?line=31'>32</a>\u001b[0m \u001b[39mprint\u001b[39m(\u001b[39mlen\u001b[39m(dist[\u001b[39m9\u001b[39;49m]))\n\u001b[0;32m     <a href='vscode-notebook-cell:/c%3A/Users/hpapa/OneDrive/Documents/Data%20Science%20Year%204/ECMM409/Travelling-Thief-Problem/code/solution_representation_and_fitness.ipynb#Y123sZmlsZQ%3D%3D?line=32'>33</a>\u001b[0m \u001b[39mprint\u001b[39m(\u001b[39mlen\u001b[39m(fronts[\u001b[39m9\u001b[39m]))\n\u001b[0;32m     <a href='vscode-notebook-cell:/c%3A/Users/hpapa/OneDrive/Documents/Data%20Science%20Year%204/ECMM409/Travelling-Thief-Problem/code/solution_representation_and_fitness.ipynb#Y123sZmlsZQ%3D%3D?line=33'>34</a>\u001b[0m \u001b[39mfor\u001b[39;00m i \u001b[39min\u001b[39;00m \u001b[39mrange\u001b[39m(\u001b[39mlen\u001b[39m(fronts)):\n",
      "\u001b[1;31mIndexError\u001b[0m: list index out of range"
     ]
    }
   ],
   "source": [
    "get_ranks(init_pop)\n",
    "get_crowding_distance(init_pop)"
   ]
  },
  {
   "cell_type": "code",
   "execution_count": null,
   "metadata": {},
   "outputs": [],
   "source": [
    "for _ in range(25):\n",
    "    parent1 = tournament_selection(init_pop)"
   ]
  },
  {
   "cell_type": "code",
   "execution_count": null,
   "metadata": {},
   "outputs": [],
   "source": []
  },
  {
   "cell_type": "code",
   "execution_count": null,
   "metadata": {},
   "outputs": [],
   "source": []
  },
  {
   "cell_type": "code",
   "execution_count": 51,
   "metadata": {},
   "outputs": [
    {
     "name": "stdout",
     "output_type": "stream",
     "text": [
      "Nadir Point: [10555348.54159382  -660411.        ]\n"
     ]
    }
   ],
   "source": [
    "fitness1 = [sol.tour_cost for sol in evaled_pop]\n",
    "fitness2 = [-1 * sol.packing_plan_cost for sol in evaled_pop]\n",
    "objectives = np.column_stack((fitness1, fitness2))\n",
    "\n",
    "# Find the Nadir point\n",
    "nadir_point = np.max(objectives, axis=0)\n",
    "\n",
    "print(\"Nadir Point:\", nadir_point)"
   ]
  },
  {
   "cell_type": "code",
   "execution_count": null,
   "metadata": {},
   "outputs": [],
   "source": []
  },
  {
   "cell_type": "code",
   "execution_count": null,
   "metadata": {},
   "outputs": [],
   "source": []
  },
  {
   "cell_type": "code",
   "execution_count": null,
   "metadata": {},
   "outputs": [],
   "source": []
  },
  {
   "cell_type": "code",
   "execution_count": null,
   "metadata": {},
   "outputs": [],
   "source": []
  },
  {
   "cell_type": "code",
   "execution_count": null,
   "metadata": {},
   "outputs": [],
   "source": []
  },
  {
   "cell_type": "code",
   "execution_count": null,
   "metadata": {},
   "outputs": [],
   "source": []
  },
  {
   "cell_type": "code",
   "execution_count": 52,
   "metadata": {},
   "outputs": [
    {
     "data": {
      "text/plain": [
       "[]"
      ]
     },
     "execution_count": 52,
     "metadata": {},
     "output_type": "execute_result"
    }
   ],
   "source": [
    "estimated_ideal_point_tour = np.min([sol.tour_cost for sol in evaled_pop])\n",
    "estimated_ideal_packing_plan = np.min([-1 * sol.packing_plan_cost for sol in evaled_pop])\n",
    "\n",
    "nadir_point = [sol.packing_plan_cost for sol in evaled_pop if sol.tour_cost == np.min([sol.tour for sol in evaled_pop])]\n",
    "nadir_point"
   ]
  },
  {
   "cell_type": "code",
   "execution_count": 53,
   "metadata": {},
   "outputs": [
    {
     "data": {
      "text/plain": [
       "[]"
      ]
     },
     "execution_count": 53,
     "metadata": {},
     "output_type": "execute_result"
    }
   ],
   "source": [
    "nadir_point "
   ]
  },
  {
   "cell_type": "code",
   "execution_count": 54,
   "metadata": {},
   "outputs": [
    {
     "data": {
      "text/plain": [
       "<matplotlib.collections.PathCollection at 0x204c93ed750>"
      ]
     },
     "execution_count": 54,
     "metadata": {},
     "output_type": "execute_result"
    },
    {
     "data": {
      "image/png": "[encoded data removed]",
      "text/plain": [
       "<Figure size 800x500 with 1 Axes>"
      ]
     },
     "metadata": {},
     "output_type": "display_data"
    }
   ],
   "source": [
    "fig, ax  = plt.subplots(figsize = (8, 5))\n",
    "plt.scatter([sol.tour_cost for sol in evaled_pop], [-1 * sol.packing_plan_cost for sol in evaled_pop])\n",
    "plt.scatter(estimated_ideal_point_tour, estimated_ideal_packing_plan)\n",
    "# plt.scatter(nadir_point[0], nadir_point[1])"
   ]
  },
  {
   "cell_type": "code",
   "execution_count": 55,
   "metadata": {},
   "outputs": [],
   "source": [
    "def get_hyper_volume(pareto_front): # Just an example of how to do it.\n",
    "    reference_point = (max(pareto_front, key=lambda x: x[0])[0] + 1, max(pareto_front, key=lambda x: x[1])[1] + 1) # nadir point\n",
    "    sorted_pareto_front = sorted(pareto_front, key=lambda x: x[0])\n",
    "\n",
    "    hypervolume = 0\n",
    "    for i in range(len(sorted_pareto_front) - 1):\n",
    "        x, y = sorted_pareto_front[i]\n",
    "        x_next, y_next = sorted_pareto_front[i + 1]\n",
    "        hypervolume += (x_next - x) * (y_next - y)\n",
    "\n",
    "    return hypervolume\n"
   ]
  },
  {
   "cell_type": "code",
   "execution_count": null,
   "metadata": {},
   "outputs": [],
   "source": []
  },
  {
   "cell_type": "code",
   "execution_count": 56,
   "metadata": {},
   "outputs": [],
   "source": [
    "def find_min_indices_in_row(matrix, row_index):\n",
    "    row = matrix[row_index, :]\n",
    "    min_value = np.min(row)\n",
    "    min_indices = np.where(row == min_value)\n",
    "\n",
    "    if len(min_indices[0]) == 1:\n",
    "        # If there's a single minimum value, return only its index in the specified row\n",
    "        return [min_indices[0][0]]\n",
    "    else:\n",
    "        # If there are duplicates, return all occurrences within the specified row\n",
    "        return [col_index for col_index in min_indices[0]]\n"
   ]
  },
  {
   "cell_type": "code",
   "execution_count": 57,
   "metadata": {},
   "outputs": [],
   "source": [
    "def nearest_neighbour(distance_matrix):\n",
    "    dist_matrix = distance_matrix.copy()\n",
    "    num_cities = dist_matrix.shape[0]\n",
    "    start_city = random.sample(list(range(num_cities)), k = 1)\n",
    "    dist_matrix[:, start_city[0]] = np.inf\n",
    "\n",
    "    for _ in range(1, num_cities):\n",
    "        current_city = start_city[-1]\n",
    "        next_city = random.sample(find_min_indices_in_row(dist_matrix, current_city), k = 1)[0]\n",
    "        start_city.append(next_city)\n",
    "        dist_matrix[:, next_city] = np.inf\n",
    "    \n",
    "    return start_city\n",
    "\n",
    "        "
   ]
  },
  {
   "cell_type": "code",
   "execution_count": 58,
   "metadata": {},
   "outputs": [],
   "source": [
    "def tour_length(tour, distance_matrix: list[list]) -> float:\n",
    "    \n",
    "    # cost of going from last city in the chromosme back to the starting chromosome\n",
    "    return_to_start_length = distance_matrix[len(distance_matrix)-1][tour[0]]\n",
    "    # calculate the cost for the rest of the tour\n",
    "    travel_length = 0\n",
    "    for i in range(0, len(distance_matrix)-1, 1):\n",
    "        travel_length += distance_matrix[tour[i]][tour[i+1]]\n",
    "\n",
    "    return travel_length + return_to_start_length\n"
   ]
  },
  {
   "cell_type": "code",
   "execution_count": 59,
   "metadata": {},
   "outputs": [],
   "source": [
    "def nearest_neighbour_2opt(distance_matrix):\n",
    "    tour = nearest_neighbour(distance_matrix=distance_matrix)\n",
    "    number_of_cities = distance_matrix.shape[0]\n",
    "    max_2opt_moves = (number_of_cities) * (number_of_cities - 1) / 2\n",
    "    made_moves = []\n",
    "    length = tour_length(tour, distance_matrix)\n",
    "    better = False\n",
    "    i = 0 \n",
    "\n",
    "    while not better and i < max_2opt_moves:\n",
    "        i += 1\n",
    "        idx = range(len(tour))\n",
    "        made_move = False\n",
    "        i1, i2 = (None, None)\n",
    "        while not made_move:\n",
    "            i1_test, i2_test = random.sample(idx, 2)\n",
    "            if (i1_test, i2_test) in made_moves or (i2_test, i1_test) in made_moves:\n",
    "                continue\n",
    "            else:\n",
    "                i1, i2 = i1_test, i2_test\n",
    "                made_move = True\n",
    "        made_moves.append((i1, i2))\n",
    "        made_moves.append((i2, i1))\n",
    "        new_tour = tour.copy()\n",
    "        new_tour[i1], new_tour[i2] = new_tour[i2], new_tour[i1]\n",
    "        if tour_length(new_tour, distance_matrix) < length:\n",
    "            better = True\n",
    "            tour = new_tour\n",
    "    return tour\n",
    "\n",
    "\n",
    "   "
   ]
  }
 ],
 "metadata": {
  "kernelspec": {
   "display_name": "working130323",
   "language": "python",
   "name": "working130323"
  },
  "language_info": {
   "codemirror_mode": {
    "name": "ipython",
    "version": 3
   },
   "file_extension": ".py",
   "mimetype": "text/x-python",
   "name": "python",
   "nbconvert_exporter": "python",
   "pygments_lexer": "ipython3",
   "version": "3.11.0"
  }
 },
 "nbformat": 4,
 "nbformat_minor": 2
}
