{
 "cells": [
  {
   "cell_type": "code",
   "execution_count": 2,
   "metadata": {},
   "outputs": [],
   "source": [
    "# Imports\n",
    "from ypstruct import structure\n",
    "import numpy as np\n",
    "import random\n",
    "import math\n",
    "import matplotlib.pyplot as plt\n",
    "from scipy.spatial import distance_matrix\n",
    "from scipy.spatial.distance import pdist, squareform\n",
    "import re\n",
    "import seaborn as sns"
   ]
  },
  {
   "cell_type": "code",
   "execution_count": 3,
   "metadata": {},
   "outputs": [],
   "source": [
    "def read_TTP_instance_data(file_path):\n",
    "    nb_items = int(file_path.split(\"-\")[1].strip(\"n\").split(\".txt\")[0])\n",
    "    nb_cities = int(re.sub(\"\\D\", \"\", file_path.split(\"-\")[0].split(\"/\")[2]))\n",
    "    # Read node coordinates from the file\n",
    "    with open(file_path, 'r') as file:\n",
    "        lines = file.readlines()\n",
    "\n",
    "    # Initialize variables\n",
    "    node_coordinates = []\n",
    "    item_values = []\n",
    "    item_weights= []\n",
    "    in_node_section = False\n",
    "    in_item_section = False\n",
    "    item_to_city_mapping_dict = {}\n",
    "    v_min = None\n",
    "    v_max = None\n",
    "    max_capacity = None\n",
    "    renting_ratio = None\n",
    "\n",
    "    for i in range(nb_cities):\n",
    "        item_to_city_mapping_dict[i] = []\n",
    "\n",
    "    # Extract node coordinates and item data\n",
    "    for line in lines:\n",
    "        if line.startswith(\"CAPACITY OF KNAPSACK\"):\n",
    "            max_capacity = int(line.strip().split()[3])\n",
    "            continue\n",
    "        elif line.startswith(\"MIN SPEED\"):\n",
    "            v_min = float(line.strip().split()[2])\n",
    "        elif line.startswith(\"MAX SPEED\"):\n",
    "            v_max = float(line.strip().split()[2])\n",
    "        elif line.startswith(\"RENTING RATIO\"):\n",
    "            renting_ratio = float(line.strip().split()[2])\n",
    "        elif line.startswith('NODE_COORD_SECTION'):\n",
    "            in_node_section = True\n",
    "            in_item_section = False\n",
    "            continue\n",
    "        elif line.startswith('ITEMS SECTION'):\n",
    "            in_node_section = False\n",
    "            in_item_section = True\n",
    "            continue\n",
    "        elif line.startswith('EOF'):\n",
    "            break\n",
    "        \n",
    "        if in_node_section:\n",
    "            _, x, y = map(int, line.strip().split())\n",
    "            node_coordinates.append((x, y))\n",
    "        elif in_item_section:\n",
    "            item_id, profit, weight, node_number = map(int, line.strip().split())\n",
    "            item_to_city_mapping_dict[node_number - 1].append(item_id-1) # re-index to 0\n",
    "            item_values.append(profit)\n",
    "            item_weights.append(weight)\n",
    "    \n",
    "    value_to_weight_ratio = np.array(item_values) / np.array(item_weights)\n",
    "    value_to_weight_ratio_dict = dict(zip(list(range(len(value_to_weight_ratio))), value_to_weight_ratio))\n",
    "    # for i in range(len(value_to_weight_ratio)):\n",
    "    #     value_to_weight_ratio_dict[i] = value_to_weight_ratio[i]\n",
    "    \n",
    "    return {\"nb_cities\": nb_cities,\n",
    "            \"nb_items\": nb_items,\n",
    "            \"Q\": max_capacity, \n",
    "            \"v_min\": v_min, \n",
    "            \"v_max\": v_max, \n",
    "            \"R\": renting_ratio, \n",
    "            \"pairwise_distances\": pdist(node_coordinates), \n",
    "            \"item_to_city_mapping_dict\":item_to_city_mapping_dict,\n",
    "            \"item_weights\": np.array(item_weights),\n",
    "            \"item_values\": np.array(item_values),\n",
    "            \"value_to_weight_ratio_dict\": value_to_weight_ratio_dict\n",
    "            }"
   ]
  },
  {
   "cell_type": "markdown",
   "metadata": {},
   "source": [
    "#### Replicating the example evaluation of a candidate solution found in as found https://link.springer.com/chapter/10.1007/978-3-319-54157-0_4"
   ]
  },
  {
   "cell_type": "markdown",
   "metadata": {},
   "source": [
    "Setting up the problem example"
   ]
  },
  {
   "cell_type": "code",
   "execution_count": 4,
   "metadata": {},
   "outputs": [],
   "source": [
    "item_values = np.array([30, 34, 40, 25])\n",
    "item_weights = np.array([25, 30, 40, 21])\n",
    "\n",
    "item_to_city_mapping_dict = {0:[0], 1:[1], 2:[2], 3:[3]}\n",
    "distance_matrix = np.array(\n",
    "    [\n",
    "    [0, 4, 9, 3],\n",
    "    [4, 0, 5, 5],\n",
    "    [9, 5, 0, 8],\n",
    "    [3, 5, 8, 0]\n",
    "    ]\n",
    ").astype(float)\n",
    "\n",
    "vmax = 1.0\n",
    "vmin = 0.1\n",
    "Q = 80"
   ]
  },
  {
   "cell_type": "code",
   "execution_count": 5,
   "metadata": {},
   "outputs": [],
   "source": [
    "ex_node_coords = [(5, 5), (9, 5), (13, 2), (5, 2)]"
   ]
  },
  {
   "cell_type": "code",
   "execution_count": 6,
   "metadata": {},
   "outputs": [
    {
     "data": {
      "text/plain": [
       "array([[0.        , 4.        , 8.54400375, 3.        ],\n",
       "       [4.        , 0.        , 5.        , 5.        ],\n",
       "       [8.54400375, 5.        , 0.        , 8.        ],\n",
       "       [3.        , 5.        , 8.        , 0.        ]])"
      ]
     },
     "execution_count": 6,
     "metadata": {},
     "output_type": "execute_result"
    }
   ],
   "source": [
    "dist_mat = squareform(pdist(ex_node_coords))\n",
    "dist_mat"
   ]
  },
  {
   "cell_type": "markdown",
   "metadata": {},
   "source": [
    "Cost function for the knapsack, as given by:\n",
    "$$\n",
    "  \\sum^m_{j = 1} z_j * b_j\n",
    "$$\n",
    "where $z_j$ is the a binary vector where each index corresponds to an item and is 0 if the item is not picked and 1 if it is and $b_j$ is the values vector."
   ]
  },
  {
   "cell_type": "code",
   "execution_count": 7,
   "metadata": {},
   "outputs": [],
   "source": [
    "def knapsack_cost(candidate_solution, item_values):\n",
    "    return np.sum(np.array(candidate_solution.packing_plan) * item_values)"
   ]
  },
  {
   "cell_type": "markdown",
   "metadata": {},
   "source": [
    "Cost function for the tour, taking into account velocity, as given by:\n",
    "$$\n",
    "    f(\\pi, z) = \\frac{d_{\\pi_1, \\pi_{n}} * R}{v(w(\\pi_{n}))} + \\sum^{n-1}_{i = 1} \\frac{d_{\\pi_i, \\pi_{i+1}} * R}{v(w(\\pi_{i}))}\n",
    "$$ \n",
    "where \n",
    "$$\n",
    "    w(\\pi_i) = \\sum^{i}_{k=1}\\sum^{m}_{j=1} z_j * b_j * a_{j, \\pi_i}\n",
    "$$ \n",
    "\n",
    "and \n",
    "$$\n",
    "    v(q) = v_{max} - \\frac{q}{Q} * (v_{max} - v_{min})\n",
    "$$ \n",
    "\n",
    "where $d_{\\pi_i, \\pi_{i+1}}$ is the distance between city $i$ and $i+1$, obtained from the distance matrix $d$ and $a$ is the item mapping matrix and R is the renting ratio"
   ]
  },
  {
   "cell_type": "code",
   "execution_count": 8,
   "metadata": {},
   "outputs": [],
   "source": [
    "def tour_cost(candidate_solution, distance_matrix, item_to_city_mapping_dict, item_weights, vmax, vmin, Q, renting_ratio):\n",
    "    tour = candidate_solution.tour\n",
    "    \n",
    "    # calculate the weight picked up at each city\n",
    "    weight_at_city_i = []\n",
    "    for city in tour:\n",
    "        # Create a row filled with zeros for the selected item\n",
    "        items_in_city = item_to_city_mapping_dict[city]\n",
    "        # Fill in the row based on the item to city mapping for the selected item\n",
    "\n",
    "        weight_at_city_i.append(sum(np.array(candidate_solution.packing_plan)[items_in_city] * item_weights[items_in_city]))\n",
    "    # calculate the total weight that the thief has when leaving each city using the cumulative sum \n",
    "    weight_at_city_i = np.array(np.cumsum(weight_at_city_i))\n",
    "    # calculate the velocity of the thief when leaving each city\n",
    "    velocity_at_city_i = vmax - weight_at_city_i / Q * (vmax - vmin)\n",
    "    # retrieve the distance between the cities \n",
    "    distance_between_cities = []\n",
    "\n",
    "\n",
    "    for i in range(0, len(tour)-1):\n",
    "\n",
    "        distance_between_cities.append(distance_matrix[tour[i]][tour[i+1]])\n",
    "    distance_between_cities.append(distance_matrix[tour[0]][tour[-1]])\n",
    "    distance_between_cities = np.array(distance_between_cities)\n",
    "    \n",
    "    # return the total completion time\n",
    "    return np.sum(distance_between_cities / velocity_at_city_i) * renting_ratio"
   ]
  },
  {
   "cell_type": "code",
   "execution_count": 9,
   "metadata": {},
   "outputs": [],
   "source": [
    "def evaluate_candidate_solution_cost(candidate_solution, distance_matrix, item_to_city_mapping_dict, item_weights, item_values, vmax, vmin, Q, renting_ratio):\n",
    "    candidate_solution.tour_cost = tour_cost(candidate_solution, distance_matrix, item_to_city_mapping_dict, item_weights, vmax, vmin, Q, renting_ratio)\n",
    "    candidate_solution.packing_plan_cost = knapsack_cost(candidate_solution, item_values)\n",
    "    return candidate_solution"
   ]
  },
  {
   "cell_type": "code",
   "execution_count": 10,
   "metadata": {},
   "outputs": [],
   "source": [
    "def get_pdist_distance(pairwise_distances, i, j, nb_cities):\n",
    "     if i < j:\n",
    "        return pairwise_distances[nb_cities * i + j - ((i + 2) * (i + 1)) // 2]\n",
    "     elif i > j:\n",
    "        return pairwise_distances[nb_cities * j + i - ((j + 2) * (j + 1)) // 2]\n"
   ]
  },
  {
   "cell_type": "code",
   "execution_count": 11,
   "metadata": {},
   "outputs": [],
   "source": [
    "def tour_cost_pdist(candidate_solution, pairwise_distances, item_to_city_mapping_dict, item_weights, vmax, vmin, Q, renting_ratio):\n",
    "    tour = candidate_solution.tour\n",
    "    nb_cities = len(tour)\n",
    "    # calculate the weight picked up at each city\n",
    "    # weight_at_city_i = [\n",
    "    #     sum(np.array(candidate_solution.packing_plan)[item_to_city_mapping_dict[city]] * item_weights[item_to_city_mapping_dict[city]]) for city in tour\n",
    "    # ]\n",
    "\n",
    "    weight = 0\n",
    "    distance = 0\n",
    "    for i in range(len(tour) - 1):\n",
    "        weight +=  sum(np.array(candidate_solution.packing_plan)[item_to_city_mapping_dict[tour[i]]] * item_weights[item_to_city_mapping_dict[tour[i]]])\n",
    "        velocity = vmax - weight / Q * (vmax - vmin)\n",
    "        distance += get_pdist_distance(pairwise_distances, tour[i], tour[i+1], nb_cities) / velocity\n",
    "    weight += sum(np.array(candidate_solution.packing_plan)[item_to_city_mapping_dict[tour[-1]]] * item_weights[item_to_city_mapping_dict[tour[-1]]])\n",
    "    velocity = vmax - weight / Q * (vmax - vmin)\n",
    "    distance += get_pdist_distance(pairwise_distances, tour[0], tour[-1], nb_cities) / velocity\n",
    "    # print(velocity)\n",
    "    # print(distance)\n",
    "\n",
    "    # # calculate the total weight that the thief has when leaving each city using the cumulative sum \n",
    "    # weight_at_city_i = np.cumsum(weight_at_city_i)\n",
    "    # # calculate the velocity of the thief when leaving each city\n",
    "    # velocity_at_city_i = vmax - weight_at_city_i / Q * (vmax - vmin)\n",
    "    # # retrieve the distance between the cities \n",
    "    # distance_between_cities = []\n",
    "\n",
    "    # print(velocity_at_city_i)\n",
    "\n",
    "    # distance_between_cities = [get_pdist_distance(pairwise_distances, tour[i], tour[i+1], nb_cities) for i in range(0, len(tour) - 1)]\n",
    "    # distance_between_cities.append(get_pdist_distance(pairwise_distances, tour[0], tour[-1], nb_cities))\n",
    "    # distance_between_cities = np.array(distance_between_cities)\n",
    "    \n",
    "    # print(np.cumsum(distance_between_cities / velocity_at_city_i))\n",
    "\n",
    "    # # return the total completion time\n",
    "    return distance * renting_ratio"
   ]
  },
  {
   "cell_type": "code",
   "execution_count": 12,
   "metadata": {},
   "outputs": [],
   "source": [
    "def evaluate_candidate_solution_cost_pdist(candidate_solution, pairwise_distances, item_to_city_mapping_dict, item_weights, item_values, vmax, vmin, Q, renting_ratio):\n",
    "    candidate_solution.tour_cost = tour_cost_pdist(candidate_solution, pairwise_distances, item_to_city_mapping_dict, item_weights, vmax, vmin, Q, renting_ratio)\n",
    "    candidate_solution.packing_plan_cost = knapsack_cost(candidate_solution, item_values)\n",
    "    return candidate_solution"
   ]
  },
  {
   "cell_type": "markdown",
   "metadata": {},
   "source": [
    "Setting up the example candidate solutions and evaluating them using the previously defined function"
   ]
  },
  {
   "cell_type": "code",
   "execution_count": 13,
   "metadata": {},
   "outputs": [],
   "source": [
    "ex_tours = [[1, 2, 3, 4], [1, 4, 3, 2], [1, 2, 3, 4], [1, 4, 3, 2], [1, 4, 3, 2], [1, 3, 2, 4],  [1, 4, 3, 2], [1, 2, 3, 4], [1, 4, 3, 2], [1, 3, 2, 4]]\n",
    "ex_packing_plans = [[0, 0, 0, 0], [0, 0, 0, 0], [0, 0, 0, 1], [0, 1, 0, 0], [0, 0, 1, 0], [0, 1, 0, 1], [1, 1, 0, 0], [0, 0, 1, 1], [0, 1, 1, 0], [1, 1, 0, 1]]"
   ]
  },
  {
   "cell_type": "code",
   "execution_count": 14,
   "metadata": {},
   "outputs": [
    {
     "data": {
      "text/plain": [
       "[struct({'tour': [0, 1, 2, 3], 'packing_plan': [0, 0, 0, 0], 'tour_cost': 20.0, 'packing_plan_cost': 0}),\n",
       " struct({'tour': [0, 3, 2, 1], 'packing_plan': [0, 0, 0, 0], 'tour_cost': 20.0, 'packing_plan_cost': 0}),\n",
       " struct({'tour': [0, 1, 2, 3], 'packing_plan': [0, 0, 0, 1], 'tour_cost': 20.927986906710313, 'packing_plan_cost': 25}),\n",
       " struct({'tour': [0, 3, 2, 1], 'packing_plan': [0, 1, 0, 0], 'tour_cost': 22.037735849056602, 'packing_plan_cost': 34}),\n",
       " struct({'tour': [0, 3, 2, 1], 'packing_plan': [0, 0, 1, 0], 'tour_cost': 27.363636363636363, 'packing_plan_cost': 40}),\n",
       " struct({'tour': [0, 2, 1, 3], 'packing_plan': [0, 1, 0, 1], 'tour_cost': 28.12929672379371, 'packing_plan_cost': 59}),\n",
       " struct({'tour': [0, 3, 2, 1], 'packing_plan': [1, 1, 0, 0], 'tour_cost': 32.75267284390591, 'packing_plan_cost': 64}),\n",
       " struct({'tour': [0, 1, 2, 3], 'packing_plan': [0, 0, 1, 1], 'tour_cost': 33.107207533502354, 'packing_plan_cost': 65}),\n",
       " struct({'tour': [0, 3, 2, 1], 'packing_plan': [0, 1, 1, 0], 'tour_cost': 38.91443850267379, 'packing_plan_cost': 74}),\n",
       " struct({'tour': [0, 2, 1, 3], 'packing_plan': [1, 1, 0, 1], 'tour_cost': 52.648240568607534, 'packing_plan_cost': 89})]"
      ]
     },
     "execution_count": 14,
     "metadata": {},
     "output_type": "execute_result"
    }
   ],
   "source": [
    "ex_init_pop = []\n",
    "for i in range(len(ex_tours)):\n",
    "    candidate_solution = structure()\n",
    "    candidate_solution.tour = list(np.array(ex_tours[i])-1)\n",
    "    candidate_solution.packing_plan = ex_packing_plans[i]\n",
    "    evaluate_candidate_solution_cost_pdist(candidate_solution, pdist(ex_node_coords), item_to_city_mapping_dict, item_weights, item_values, vmax, vmin, Q, 1)\n",
    "    ex_init_pop.append(candidate_solution)\n",
    "ex_init_pop"
   ]
  },
  {
   "cell_type": "code",
   "execution_count": 15,
   "metadata": {},
   "outputs": [
    {
     "data": {
      "text/plain": [
       "[struct({'tour': [0, 1, 2, 3], 'packing_plan': [0, 0, 0, 0], 'tour_cost': 20.0, 'packing_plan_cost': 0}),\n",
       " struct({'tour': [0, 3, 2, 1], 'packing_plan': [0, 0, 0, 0], 'tour_cost': 20.0, 'packing_plan_cost': 0}),\n",
       " struct({'tour': [0, 1, 2, 3], 'packing_plan': [0, 0, 0, 1], 'tour_cost': 20.927986906710313, 'packing_plan_cost': 25}),\n",
       " struct({'tour': [0, 3, 2, 1], 'packing_plan': [0, 1, 0, 0], 'tour_cost': 22.037735849056602, 'packing_plan_cost': 34}),\n",
       " struct({'tour': [0, 3, 2, 1], 'packing_plan': [0, 0, 1, 0], 'tour_cost': 27.363636363636363, 'packing_plan_cost': 40}),\n",
       " struct({'tour': [0, 2, 1, 3], 'packing_plan': [0, 1, 0, 1], 'tour_cost': 28.585292978476183, 'packing_plan_cost': 59}),\n",
       " struct({'tour': [0, 3, 2, 1], 'packing_plan': [1, 1, 0, 0], 'tour_cost': 32.75267284390591, 'packing_plan_cost': 64}),\n",
       " struct({'tour': [0, 1, 2, 3], 'packing_plan': [0, 0, 1, 1], 'tour_cost': 33.107207533502354, 'packing_plan_cost': 65}),\n",
       " struct({'tour': [0, 3, 2, 1], 'packing_plan': [0, 1, 1, 0], 'tour_cost': 38.91443850267379, 'packing_plan_cost': 74}),\n",
       " struct({'tour': [0, 2, 1, 3], 'packing_plan': [1, 1, 0, 1], 'tour_cost': 53.28267014033966, 'packing_plan_cost': 89})]"
      ]
     },
     "execution_count": 15,
     "metadata": {},
     "output_type": "execute_result"
    }
   ],
   "source": [
    "ex_init_pop = []\n",
    "for i in range(len(ex_tours)):\n",
    "    candidate_solution = structure()\n",
    "    candidate_solution.tour = list(np.array(ex_tours[i])-1)\n",
    "    candidate_solution.packing_plan = ex_packing_plans[i]\n",
    "    evaluate_candidate_solution_cost(candidate_solution, distance_matrix, item_to_city_mapping_dict, item_weights, item_values, vmax, vmin, Q, 1)\n",
    "    ex_init_pop.append(candidate_solution)\n",
    "ex_init_pop"
   ]
  },
  {
   "cell_type": "code",
   "execution_count": 16,
   "metadata": {},
   "outputs": [],
   "source": [
    "def random_tour(nb_cities):\n",
    "    return random.sample(list(range(nb_cities)), k = nb_cities)"
   ]
  },
  {
   "cell_type": "code",
   "execution_count": 17,
   "metadata": {},
   "outputs": [],
   "source": [
    "def pack_one(init_pop, nb_items):\n",
    "    for candidate_solution in init_pop:\n",
    "        packing_plan = np.zeros(nb_items)\n",
    "        chosen_item = random.sample(list(range(nb_items)), k = 1)\n",
    "        packing_plan[chosen_item] = 1\n",
    "        candidate_solution.packing_plan = list(packing_plan)\n",
    "    return init_pop"
   ]
  },
  {
   "cell_type": "code",
   "execution_count": 18,
   "metadata": {},
   "outputs": [],
   "source": [
    "def repair_packing_plan(candidate_solution, Q, item_weights):\n",
    "    \n",
    "    packing_plan = np.array(candidate_solution.packing_plan)\n",
    "    selected_items = list(np.nonzero(packing_plan))\n",
    "    selected_items_weights = item_weights[selected_items]\n",
    "    while np.sum(selected_items_weights) > Q:\n",
    "        candidate_solution.packing_plan[random.sample(list(selected_items[0]), k = 1)[0]] = 0\n",
    "        packing_plan = np.array(candidate_solution.packing_plan)\n",
    "        selected_items = list(np.nonzero(packing_plan))\n",
    "        selected_items_weights = item_weights[selected_items]"
   ]
  },
  {
   "cell_type": "code",
   "execution_count": 19,
   "metadata": {},
   "outputs": [],
   "source": [
    "def pack_random(init_pop, Q, item_weights):\n",
    "    nb_items = len(item_weights)\n",
    "    for candidate_solution in init_pop:\n",
    "        packing_plan = [random.choice(list(range(2))) for _ in range(nb_items)]\n",
    "        candidate_solution.packing_plan = packing_plan\n",
    "        repair_packing_plan(candidate_solution, Q, item_weights)\n",
    "    return init_pop"
   ]
  },
  {
   "cell_type": "code",
   "execution_count": 20,
   "metadata": {},
   "outputs": [],
   "source": [
    "def pack_optimal(init_pop, Q, value_to_weight_ratio_dict, item_weights):\n",
    "\n",
    "    number_of_items = len(item_weights)\n",
    "    \n",
    "    sorted_value_to_weight_ratio_dict = dict(sorted(value_to_weight_ratio_dict.items(), key=lambda x:x[1], reverse = True))\n",
    "    keys_list = list(sorted_value_to_weight_ratio_dict.keys())\n",
    "\n",
    "    for candidate_solution in init_pop:\n",
    "        Q_prime = np.random.randint(low = 0, high = Q, size = 1)\n",
    "        packing_plan = np.zeros(number_of_items)\n",
    "        weight  = 0\n",
    "        for i in range(number_of_items):\n",
    "            if weight + item_weights[keys_list[i]] < Q_prime:\n",
    "\n",
    "                packing_plan[keys_list[i]] = 1\n",
    "                weight += item_weights[keys_list[i]]\n",
    "            else:\n",
    "                break\n",
    "        candidate_solution.packing_plan = list(packing_plan)\n",
    "    return init_pop"
   ]
  },
  {
   "cell_type": "code",
   "execution_count": 21,
   "metadata": {},
   "outputs": [],
   "source": [
    "def generate_initial_population(pop_size, nb_cities, pack_init_method, tour_init_method = \"random\", Q = None, value_to_weight_ratio_dict = None, item_weights = None): # Jack\n",
    "\n",
    "    init_pop = []\n",
    "    if tour_init_method == \"random\":\n",
    "        for _ in range(pop_size):\n",
    "            candidate_solution = structure()\n",
    "            candidate_solution.tour = random_tour(nb_cities)\n",
    "            init_pop.append(candidate_solution)\n",
    "\n",
    "    if pack_init_method == \"pack_random\":\n",
    "        pack_random(init_pop, Q, item_weights)\n",
    "    elif pack_init_method == \"pack_one\":\n",
    "        pack_one(init_pop, len(item_weights))\n",
    "    elif pack_init_method == \"pack_optimal\":    \n",
    "        pack_optimal(init_pop, Q, value_to_weight_ratio_dict, item_weights)\n",
    "    return init_pop"
   ]
  },
  {
   "cell_type": "code",
   "execution_count": 22,
   "metadata": {},
   "outputs": [],
   "source": [
    "def packing_plan_crossover(parent1: structure, parent2: structure, crossover_type: str) -> tuple: # Jack\n",
    "\n",
    "    \"\"\"\n",
    "    Implement single point or two point crossover on the packing plans of the parents selected by tournament selection in order to \n",
    "    produce the children.\n",
    "\n",
    "    Parameters:\n",
    "    - parent1 (ypstruct.structure): A candidate solution represented as a structure\n",
    "      from the ypstruct library with the following attributes:\n",
    "        - tour (list): An array representing the sequence of cities visited.\n",
    "        - packing_plan (list): A binary array indicating items picked (1) or not (0).\n",
    "        - packing_plan_cost (float): The total value of the knapsack\n",
    "        - tour_cost (float): The total length of the tour\n",
    "        - rank (integer): The NSGA-II rank of the candidate solution\n",
    "        - crowding_distance (float): the NSGA-II crowding distance of the candidate solution\n",
    "    - parent2 (ypstruct.structure): same as parent1\n",
    "    - crossover_type (str): defines the crossover type to be used. Can be either \"single_point\" or \"two_point\".\n",
    "\n",
    "    Return:\n",
    "    ypstruct.Struct: the first child candidate solution produced by the crossover operation. Same structure as parents but with the crossed\n",
    "    over packing plans.\n",
    "    ypstruct.Struct: the second child candidate solution produced by the crossover operation. Same structure as parents but with the crossed\n",
    "    over placking plans.\n",
    "    \"\"\"\n",
    "    \n",
    "    child1 = parent1.copy()\n",
    "    child2 = parent2.copy()\n",
    "\n",
    "    child1_packing_plan = np.array(child1.packing_plan)\n",
    "    child2_packing_plan = np.array(child2.packing_plan)\n",
    "\n",
    "    # perform single point crossover \n",
    "    if crossover_type == \"single_point\":\n",
    "        # randomly select the crossover point\n",
    "        crossover_point = random.sample(range(len(parent1.packing_plan)), k = 1)[0]\n",
    "        child1.packing_plan[0:crossover_point] = child2_packing_plan[0:crossover_point]\n",
    "        child2.packing_plan[0:crossover_point] = child1_packing_plan[0:crossover_point]\n",
    "\n",
    "    # perform two point crossover\n",
    "    elif crossover_type == \"two_point\":\n",
    "        # randomly select the two crossover points\n",
    "        crossover_points = random.sample(range(len(parent1.packing_plan)), k = 2)\n",
    "        crossover_points = sorted(crossover_points)\n",
    "        first_cross_point = crossover_points[0]\n",
    "        second_cross_point = crossover_points[1]     \n",
    "        child1.packing_plan[first_cross_point:second_cross_point] = child2_packing_plan[first_cross_point:second_cross_point]\n",
    "        child2.packing_plan[first_cross_point:second_cross_point] = child1_packing_plan[first_cross_point:second_cross_point]\n",
    "\n",
    "    return child1, child2\n",
    "\n",
    "\n"
   ]
  },
  {
   "cell_type": "code",
   "execution_count": 23,
   "metadata": {},
   "outputs": [
    {
     "name": "stdout",
     "output_type": "stream",
     "text": [
      "struct({'packing_plan': array([0, 8, 2, 7, 4, 1, 6, 9, 3, 5])})\n",
      "struct({'packing_plan': array([7, 0, 2, 5, 9, 4, 6, 1, 8, 3])})\n"
     ]
    },
    {
     "data": {
      "text/plain": [
       "(struct({'packing_plan': array([7, 0, 2, 5, 9, 4, 6, 1, 8, 5])}),\n",
       " struct({'packing_plan': array([0, 8, 2, 7, 4, 1, 6, 9, 3, 3])}))"
      ]
     },
     "execution_count": 23,
     "metadata": {},
     "output_type": "execute_result"
    }
   ],
   "source": [
    "c1 = structure()\n",
    "c2 = structure()\n",
    "\n",
    "c1.packing_plan = np.array(random.sample(list(range(10)), k = 10))\n",
    "c2.packing_plan = np.array(random.sample(list(range(10)), k = 10))\n",
    "\n",
    "print(c1)\n",
    "print(c2)\n",
    "packing_plan_crossover(c1, c2, \"single_point\")"
   ]
  },
  {
   "cell_type": "code",
   "execution_count": 24,
   "metadata": {},
   "outputs": [],
   "source": [
    "def OX1_tour_crossover(parent1, parent2): # Kanchan\n",
    "\n",
    "    \"\"\"\n",
    "    Implement single-point ordered crossover (OX1 Crossover) on the tours of the parents selected by tournament selection in order to \n",
    "    produce the children.\n",
    "\n",
    "    Parameters:\n",
    "    - parent1 (ypstruct.structure): A candidate solution represented as a structure\n",
    "      from the ypstruct library with the following attributes:\n",
    "        - tour (list): An array representing the sequence of cities visited.\n",
    "        - packing_plan (list): A binary array indicating items picked (1) or not (0).\n",
    "        - packing_plan_cost (float): The total value of the knapsack\n",
    "        - tour_cost (float): The total length of the tour\n",
    "        - rank (integer): The NSGA-II rank of the candidate solution\n",
    "        - crowding_distance (float): the NSGA-II crowding distance of the candidate solution\n",
    "    - parent2 (ypstruct.structure): same as parent1\n",
    "\n",
    "    Perform single-point ordered crossover on the tours contained in the parent structures.\n",
    "\n",
    "    Return:\n",
    "    ypstruct.structure: the first child candidate solution produced by the crossover operation. Same structure as parents but with the crossed\n",
    "    over tours.\n",
    "    ypstruct.structure: the second child candidate solution produced by the crossover operation. Same structure as parents but with the crossed\n",
    "    over tours.\n",
    "\n",
    "\n",
    "    \"\"\"\n",
    "    child1 = parent1.copy()\n",
    "    child2 = parent2.copy()\n",
    "    \n",
    "    crossover_point = np.random.randint(1, len(parent1.tour))\n",
    "    \n",
    "    child1.tour = parent1.tour[:crossover_point] + [x for x in parent2.tour if x not in parent1.tour[:crossover_point]]\n",
    "    child2.tour = parent2.tour[:crossover_point] + [x for x in parent1.tour if x not in parent2.tour[:crossover_point]]\n",
    "    \n",
    "    return child1, child2\n",
    "    \n",
    "    "
   ]
  },
  {
   "cell_type": "code",
   "execution_count": 25,
   "metadata": {},
   "outputs": [
    {
     "name": "stdout",
     "output_type": "stream",
     "text": [
      "struct({'tour': [0, 8, 5, 2, 9, 6, 3, 1, 4, 7]}) struct({'tour': [9, 8, 6, 4, 1, 7, 5, 3, 0, 2]})\n"
     ]
    },
    {
     "data": {
      "text/plain": [
       "(struct({'tour': [0, 8, 5, 9, 6, 4, 1, 7, 3, 2]}),\n",
       " struct({'tour': [9, 8, 6, 0, 5, 2, 3, 1, 4, 7]}))"
      ]
     },
     "execution_count": 25,
     "metadata": {},
     "output_type": "execute_result"
    }
   ],
   "source": [
    "c1 = structure()\n",
    "c2 = structure()\n",
    "\n",
    "c1.tour = random.sample(list(range(10)), k = 10)\n",
    "c2.tour = random.sample(list(range(10)), k = 10)\n",
    "\n",
    "print(c1, c2)\n",
    "OX1_tour_crossover(c1, c2)"
   ]
  },
  {
   "cell_type": "code",
   "execution_count": 26,
   "metadata": {},
   "outputs": [],
   "source": [
    "# def derive_packing_plan_from_tour(candidate_solution, Q, sorted_value_to_weight_ratio_dict, item_weights):\n",
    "#     packing_plan = np.array(candidate_solution.packing_plan)\n",
    "#     selected_items = list(np.nonzero(packing_plan))\n",
    "#     selected_items_weights = item_weights[selected_items]\n",
    "#     keys_list = list(sorted_value_to_weight_ratio_dict.keys())\n",
    "#     selected_items_values_to_weight_ratios = [sorted_value_to_weight_ratio_dict[x] for x in keys_list]\n",
    "#     i = -1\n",
    "#     while np.sum(selected_items_weights) > Q:\n",
    "#         candidate_solution.packing_plan[list(selected_items_values_to_weight_ratios.keys())[i]] = 0\n",
    "#         packing_plan = np.array(candidate_solution.packing_plan)\n",
    "#         selected_items = list(np.nonzero(packing_plan))\n",
    "#         selected_items_weights = item_weights[selected_items]\n",
    "#         i -= 1\n",
    "    \n"
   ]
  },
  {
   "cell_type": "code",
   "execution_count": null,
   "metadata": {},
   "outputs": [],
   "source": []
  },
  {
   "cell_type": "code",
   "execution_count": 27,
   "metadata": {},
   "outputs": [],
   "source": [
    "a280_n1395 = read_TTP_instance_data(\"../data/a280-n2790.txt\")"
   ]
  },
  {
   "cell_type": "code",
   "execution_count": 28,
   "metadata": {},
   "outputs": [],
   "source": [
    "sorted_value_to_weight_ratio_dict = dict(sorted(a280_n1395[\"value_to_weight_ratio_dict\"].items(), key=lambda x:x[1], reverse = True))"
   ]
  },
  {
   "cell_type": "code",
   "execution_count": 29,
   "metadata": {},
   "outputs": [
    {
     "data": {
      "text/plain": [
       "{1665: 529.0,\n",
       " 2087: 316.5,\n",
       " 2538: 223.25,\n",
       " 2060: 160.2,\n",
       " 367: 157.6,\n",
       " 249: 156.0,\n",
       " 2413: 146.0,\n",
       " 1743: 138.66666666666666,\n",
       " 2665: 120.85714285714286,\n",
       " 0: 119.0,\n",
       " 827: 117.57142857142857,\n",
       " 76: 117.0,\n",
       " 2157: 111.125,\n",
       " 631: 109.8,\n",
       " 805: 108.14285714285714,\n",
       " 1173: 105.5,\n",
       " 874: 90.0,\n",
       " 1229: 79.08333333333333,\n",
       " 720: 75.61538461538461,\n",
       " 1535: 73.08333333333333,\n",
       " 989: 63.833333333333336,\n",
       " 170: 48.76470588235294,\n",
       " 2522: 45.111111111111114,\n",
       " 514: 40.13333333333333,\n",
       " 160: 39.95454545454545,\n",
       " 1563: 39.82608695652174,\n",
       " 2623: 37.81818181818182,\n",
       " 2635: 36.65217391304348,\n",
       " 1182: 36.61538461538461,\n",
       " 496: 36.4,\n",
       " 2708: 34.3125,\n",
       " 1325: 33.72222222222222,\n",
       " 1499: 32.07692307692308,\n",
       " 1212: 31.275862068965516,\n",
       " 536: 31.047619047619047,\n",
       " 1650: 30.857142857142858,\n",
       " 1529: 30.724137931034484,\n",
       " 226: 30.5,\n",
       " 1367: 30.448275862068964,\n",
       " 2621: 30.303030303030305,\n",
       " 261: 29.606060606060606,\n",
       " 574: 29.0625,\n",
       " 2141: 28.615384615384617,\n",
       " 1582: 28.444444444444443,\n",
       " 2560: 28.125,\n",
       " 436: 27.36,\n",
       " 1929: 27.23076923076923,\n",
       " 1424: 26.666666666666668,\n",
       " 1186: 26.5,\n",
       " 1097: 24.75862068965517,\n",
       " 1517: 24.73076923076923,\n",
       " 1981: 24.11764705882353,\n",
       " 646: 23.075,\n",
       " 1782: 22.804878048780488,\n",
       " 2729: 22.696969696969695,\n",
       " 2679: 22.53488372093023,\n",
       " 2579: 22.266666666666666,\n",
       " 1761: 22.210526315789473,\n",
       " 2019: 21.973684210526315,\n",
       " 488: 21.8,\n",
       " 1210: 20.45,\n",
       " 1402: 20.03448275862069,\n",
       " 2051: 19.615384615384617,\n",
       " 410: 19.53191489361702,\n",
       " 35: 18.838709677419356,\n",
       " 960: 18.761904761904763,\n",
       " 2156: 18.580645161290324,\n",
       " 1545: 18.53191489361702,\n",
       " 2556: 17.89090909090909,\n",
       " 1872: 17.75,\n",
       " 2392: 17.705882352941178,\n",
       " 906: 17.696969696969695,\n",
       " 1104: 17.5,\n",
       " 463: 17.352941176470587,\n",
       " 2280: 16.896551724137932,\n",
       " 836: 16.866666666666667,\n",
       " 1002: 16.863636363636363,\n",
       " 2396: 16.7,\n",
       " 1935: 16.603448275862068,\n",
       " 205: 16.536585365853657,\n",
       " 471: 16.076923076923077,\n",
       " 990: 15.516666666666667,\n",
       " 1738: 15.290322580645162,\n",
       " 317: 14.597014925373134,\n",
       " 2643: 14.488888888888889,\n",
       " 191: 14.306451612903226,\n",
       " 1454: 14.061224489795919,\n",
       " 879: 13.625,\n",
       " 1311: 13.431372549019608,\n",
       " 992: 13.364864864864865,\n",
       " 151: 13.305555555555555,\n",
       " 1309: 13.226415094339623,\n",
       " 1944: 13.14516129032258,\n",
       " 1181: 13.131578947368421,\n",
       " 2174: 13.020408163265307,\n",
       " 2385: 12.893617021276595,\n",
       " 289: 12.84375,\n",
       " 125: 12.710526315789474,\n",
       " 2114: 12.681818181818182,\n",
       " 2353: 12.620689655172415,\n",
       " 1047: 12.558823529411764,\n",
       " 260: 12.487804878048781,\n",
       " 349: 12.48076923076923,\n",
       " 1968: 12.285714285714286,\n",
       " 2695: 12.17142857142857,\n",
       " 159: 12.039473684210526,\n",
       " 1426: 11.367647058823529,\n",
       " 776: 11.322033898305085,\n",
       " 2369: 11.290322580645162,\n",
       " 2768: 11.183098591549296,\n",
       " 2653: 11.154929577464788,\n",
       " 1123: 11.075471698113208,\n",
       " 626: 10.931506849315069,\n",
       " 1646: 10.885714285714286,\n",
       " 396: 10.585714285714285,\n",
       " 1991: 10.585714285714285,\n",
       " 959: 10.4375,\n",
       " 546: 10.4,\n",
       " 2634: 10.366666666666667,\n",
       " 1629: 10.341463414634147,\n",
       " 614: 10.16,\n",
       " 1332: 10.123076923076923,\n",
       " 1774: 9.952380952380953,\n",
       " 1926: 9.875,\n",
       " 2597: 9.715686274509803,\n",
       " 2478: 9.616438356164384,\n",
       " 1187: 9.538461538461538,\n",
       " 1201: 9.53191489361702,\n",
       " 2523: 9.493333333333334,\n",
       " 1220: 9.411764705882353,\n",
       " 2217: 9.368421052631579,\n",
       " 1910: 9.35,\n",
       " 711: 9.339622641509434,\n",
       " 2742: 9.271739130434783,\n",
       " 1965: 9.233333333333333,\n",
       " 17: 9.085106382978724,\n",
       " 2619: 9.01063829787234,\n",
       " 521: 8.915492957746478,\n",
       " 987: 8.896907216494846,\n",
       " 1417: 8.722222222222221,\n",
       " 1559: 8.584905660377359,\n",
       " 2745: 8.53061224489796,\n",
       " 124: 8.530434782608696,\n",
       " 2242: 8.432203389830509,\n",
       " 22: 8.38,\n",
       " 2279: 8.362637362637363,\n",
       " 828: 8.338709677419354,\n",
       " 1174: 8.303921568627452,\n",
       " 2047: 8.293333333333333,\n",
       " 217: 8.292682926829269,\n",
       " 2725: 8.23404255319149,\n",
       " 1245: 8.156521739130435,\n",
       " 699: 8.142857142857142,\n",
       " 62: 8.126582278481013,\n",
       " 2263: 7.964285714285714,\n",
       " 1856: 7.86,\n",
       " 116: 7.7109375,\n",
       " 366: 7.7105263157894735,\n",
       " 2300: 7.681818181818182,\n",
       " 669: 7.666666666666667,\n",
       " 2605: 7.647058823529412,\n",
       " 1814: 7.614035087719298,\n",
       " 2209: 7.603305785123967,\n",
       " 645: 7.580645161290323,\n",
       " 1209: 7.5606060606060606,\n",
       " 337: 7.515151515151516,\n",
       " 2104: 7.511904761904762,\n",
       " 2221: 7.426086956521739,\n",
       " 2189: 7.380952380952381,\n",
       " 1552: 7.36231884057971,\n",
       " 1033: 7.326315789473684,\n",
       " 1371: 7.304347826086956,\n",
       " 2714: 7.290909090909091,\n",
       " 2120: 7.254545454545455,\n",
       " 2531: 7.247422680412371,\n",
       " 1770: 7.225806451612903,\n",
       " 304: 7.165137614678899,\n",
       " 208: 7.1525423728813555,\n",
       " 2782: 7.038834951456311,\n",
       " 352: 7.010989010989011,\n",
       " 1294: 6.926470588235294,\n",
       " 1590: 6.890625,\n",
       " 2432: 6.843373493975903,\n",
       " 275: 6.839285714285714,\n",
       " 254: 6.816901408450704,\n",
       " 651: 6.788732394366197,\n",
       " 2137: 6.777777777777778,\n",
       " 2787: 6.722689075630252,\n",
       " 1199: 6.7,\n",
       " 2783: 6.662790697674419,\n",
       " 950: 6.65,\n",
       " 2409: 6.575,\n",
       " 715: 6.542553191489362,\n",
       " 1793: 6.485981308411215,\n",
       " 198: 6.358208955223881,\n",
       " 1374: 6.346938775510204,\n",
       " 2355: 6.336633663366337,\n",
       " 2620: 6.328571428571428,\n",
       " 2721: 6.315789473684211,\n",
       " 478: 6.287581699346405,\n",
       " 1512: 6.260416666666667,\n",
       " 2520: 6.258064516129032,\n",
       " 1022: 6.213483146067416,\n",
       " 443: 6.138461538461539,\n",
       " 1858: 6.088235294117647,\n",
       " 512: 6.0479452054794525,\n",
       " 2123: 6.03680981595092,\n",
       " 2223: 6.033333333333333,\n",
       " 2191: 6.03125,\n",
       " 2629: 6.011627906976744,\n",
       " 2572: 6.0,\n",
       " 491: 5.988888888888889,\n",
       " 1025: 5.985611510791367,\n",
       " 6: 5.983606557377049,\n",
       " 1364: 5.9491525423728815,\n",
       " 2698: 5.923076923076923,\n",
       " 1703: 5.922413793103448,\n",
       " 1939: 5.922413793103448,\n",
       " 561: 5.915584415584416,\n",
       " 655: 5.875912408759124,\n",
       " 667: 5.854166666666667,\n",
       " 1305: 5.849056603773585,\n",
       " 562: 5.837398373983739,\n",
       " 2709: 5.836065573770492,\n",
       " 2255: 5.833333333333333,\n",
       " 1486: 5.810344827586207,\n",
       " 1727: 5.72972972972973,\n",
       " 1111: 5.7272727272727275,\n",
       " 1740: 5.723214285714286,\n",
       " 2324: 5.6938775510204085,\n",
       " 2121: 5.69172932330827,\n",
       " 1780: 5.67175572519084,\n",
       " 1779: 5.615384615384615,\n",
       " 462: 5.6125,\n",
       " 2233: 5.607361963190184,\n",
       " 886: 5.598130841121495,\n",
       " 2751: 5.595238095238095,\n",
       " 1264: 5.553191489361702,\n",
       " 2743: 5.55,\n",
       " 2201: 5.53416149068323,\n",
       " 1751: 5.517647058823529,\n",
       " 1138: 5.505813953488372,\n",
       " 826: 5.483333333333333,\n",
       " 1693: 5.481927710843373,\n",
       " 1188: 5.408163265306122,\n",
       " 1641: 5.407407407407407,\n",
       " 2524: 5.39751552795031,\n",
       " 1618: 5.368421052631579,\n",
       " 86: 5.335260115606936,\n",
       " 1331: 5.311111111111111,\n",
       " 382: 5.278409090909091,\n",
       " 1045: 5.244897959183674,\n",
       " 1974: 5.230769230769231,\n",
       " 2642: 5.230769230769231,\n",
       " 873: 5.217391304347826,\n",
       " 1871: 5.213114754098361,\n",
       " 2232: 5.186046511627907,\n",
       " 402: 5.175675675675675,\n",
       " 2315: 5.15,\n",
       " 1555: 5.134715025906735,\n",
       " 1437: 5.130952380952381,\n",
       " 1411: 5.120481927710843,\n",
       " 593: 5.115384615384615,\n",
       " 1108: 5.115384615384615,\n",
       " 1291: 5.1022727272727275,\n",
       " 1065: 5.095890410958904,\n",
       " 1271: 5.095238095238095,\n",
       " 2669: 5.0875,\n",
       " 399: 5.079754601226994,\n",
       " 1356: 5.052238805970149,\n",
       " 2160: 4.989690721649485,\n",
       " 2583: 4.989189189189189,\n",
       " 1806: 4.968085106382978,\n",
       " 74: 4.954954954954955,\n",
       " 2776: 4.931818181818182,\n",
       " 2077: 4.920792079207921,\n",
       " 1326: 4.914285714285715,\n",
       " 1971: 4.908108108108108,\n",
       " 2103: 4.895287958115183,\n",
       " 50: 4.848039215686274,\n",
       " 1995: 4.837037037037037,\n",
       " 296: 4.836734693877551,\n",
       " 223: 4.8,\n",
       " 1657: 4.72027972027972,\n",
       " 2364: 4.712418300653595,\n",
       " 1117: 4.6875,\n",
       " 87: 4.660714285714286,\n",
       " 1134: 4.641414141414141,\n",
       " 2290: 4.597222222222222,\n",
       " 2503: 4.584905660377358,\n",
       " 2029: 4.580952380952381,\n",
       " 500: 4.576923076923077,\n",
       " 1682: 4.562790697674418,\n",
       " 2062: 4.561576354679803,\n",
       " 2580: 4.560344827586207,\n",
       " 1081: 4.531578947368421,\n",
       " 2066: 4.524390243902439,\n",
       " 2733: 4.516908212560386,\n",
       " 2613: 4.516556291390729,\n",
       " 490: 4.512345679012346,\n",
       " 1035: 4.5,\n",
       " 1720: 4.454545454545454,\n",
       " 1107: 4.433497536945813,\n",
       " 1366: 4.410256410256411,\n",
       " 1768: 4.4033613445378155,\n",
       " 1373: 4.335135135135135,\n",
       " 840: 4.321167883211679,\n",
       " 172: 4.24031007751938,\n",
       " 2212: 4.236111111111111,\n",
       " 2673: 4.230769230769231,\n",
       " 315: 4.215909090909091,\n",
       " 1353: 4.20125786163522,\n",
       " 426: 4.1891891891891895,\n",
       " 852: 4.183006535947713,\n",
       " 499: 4.163461538461538,\n",
       " 2102: 4.142857142857143,\n",
       " 1788: 4.121212121212121,\n",
       " 1966: 4.10091743119266,\n",
       " 231: 4.100478468899522,\n",
       " 2600: 4.0964912280701755,\n",
       " 1619: 4.0945273631840795,\n",
       " 73: 4.085106382978723,\n",
       " 32: 4.0625,\n",
       " 2558: 4.051724137931035,\n",
       " 712: 4.0,\n",
       " 2731: 3.974747474747475,\n",
       " 1048: 3.9716981132075473,\n",
       " 1766: 3.932,\n",
       " 430: 3.9313304721030042,\n",
       " 448: 3.923076923076923,\n",
       " 1907: 3.9210526315789473,\n",
       " 1032: 3.8974358974358974,\n",
       " 2614: 3.8932806324110674,\n",
       " 1152: 3.8898678414096914,\n",
       " 934: 3.880952380952381,\n",
       " 799: 3.870646766169154,\n",
       " 1811: 3.8533333333333335,\n",
       " 1091: 3.8484848484848486,\n",
       " 752: 3.8395061728395063,\n",
       " 618: 3.8297872340425534,\n",
       " 1279: 3.8285714285714287,\n",
       " 803: 3.820388349514563,\n",
       " 1686: 3.8132530120481927,\n",
       " 739: 3.807017543859649,\n",
       " 485: 3.8034934497816595,\n",
       " 1403: 3.776470588235294,\n",
       " 853: 3.761290322580645,\n",
       " 2198: 3.7489177489177488,\n",
       " 109: 3.7433155080213902,\n",
       " 783: 3.727272727272727,\n",
       " 1921: 3.710227272727273,\n",
       " 2607: 3.7022900763358777,\n",
       " 1145: 3.683333333333333,\n",
       " 2381: 3.6666666666666665,\n",
       " 2227: 3.6588235294117646,\n",
       " 2194: 3.6547619047619047,\n",
       " 880: 3.6506024096385543,\n",
       " 2749: 3.6315789473684212,\n",
       " 1442: 3.6141732283464565,\n",
       " 2126: 3.5950413223140494,\n",
       " 998: 3.5725806451612905,\n",
       " 1471: 3.5708955223880596,\n",
       " 1760: 3.563380281690141,\n",
       " 2074: 3.5517241379310347,\n",
       " 385: 3.5508982035928143,\n",
       " 1125: 3.5494505494505493,\n",
       " 510: 3.5277777777777777,\n",
       " 2164: 3.5232974910394264,\n",
       " 334: 3.516,\n",
       " 1607: 3.5076335877862594,\n",
       " 849: 3.505050505050505,\n",
       " 1855: 3.5,\n",
       " 2253: 3.4980392156862745,\n",
       " 2127: 3.493723849372385,\n",
       " 101: 3.4918032786885247,\n",
       " 698: 3.4814814814814814,\n",
       " 893: 3.47787610619469,\n",
       " 2028: 3.4714285714285715,\n",
       " 1370: 3.4583333333333335,\n",
       " 979: 3.456043956043956,\n",
       " 1511: 3.456043956043956,\n",
       " 2418: 3.4510869565217392,\n",
       " 2382: 3.4358974358974357,\n",
       " 1157: 3.4324324324324325,\n",
       " 1120: 3.4216867469879517,\n",
       " 2072: 3.395121951219512,\n",
       " 1262: 3.390697674418605,\n",
       " 1298: 3.389830508474576,\n",
       " 1956: 3.388235294117647,\n",
       " 2720: 3.3846153846153846,\n",
       " 2357: 3.3836206896551726,\n",
       " 2577: 3.3815789473684212,\n",
       " 1258: 3.3771626297577853,\n",
       " 1739: 3.3766233766233764,\n",
       " 2421: 3.3430232558139537,\n",
       " 1175: 3.318385650224215,\n",
       " 2065: 3.309917355371901,\n",
       " 1787: 3.309322033898305,\n",
       " 2173: 3.297071129707113,\n",
       " 278: 3.2958333333333334,\n",
       " 1255: 3.292079207920792,\n",
       " 1163: 3.2911877394636013,\n",
       " 814: 3.276595744680851,\n",
       " 274: 3.273076923076923,\n",
       " 2534: 3.255813953488372,\n",
       " 1833: 3.25,\n",
       " 1348: 3.243362831858407,\n",
       " 2510: 3.2276785714285716,\n",
       " 2501: 3.2216981132075473,\n",
       " 900: 3.2095808383233533,\n",
       " 1802: 3.206896551724138,\n",
       " 1282: 3.1757322175732217,\n",
       " 843: 3.1754966887417218,\n",
       " 2135: 3.1690647482014387,\n",
       " 643: 3.162303664921466,\n",
       " 860: 3.1591695501730106,\n",
       " 1611: 3.1531531531531534,\n",
       " 1984: 3.1481481481481484,\n",
       " 1515: 3.1451612903225805,\n",
       " 2627: 3.1390728476821192,\n",
       " 1154: 3.13265306122449,\n",
       " 516: 3.1296296296296298,\n",
       " 1993: 3.126984126984127,\n",
       " 1052: 3.1066666666666665,\n",
       " 943: 3.1,\n",
       " 782: 3.0952380952380953,\n",
       " 847: 3.09375,\n",
       " 1526: 3.0913978494623655,\n",
       " 180: 3.0779220779220777,\n",
       " 251: 3.0760233918128654,\n",
       " 714: 3.0677966101694913,\n",
       " 575: 3.0634920634920637,\n",
       " 2375: 3.0625,\n",
       " 1297: 3.0530973451327434,\n",
       " 2636: 3.0517241379310347,\n",
       " 1459: 3.0513833992094863,\n",
       " 314: 3.0371517027863777,\n",
       " 1100: 3.0140350877192983,\n",
       " 2379: 3.010989010989011,\n",
       " 831: 3.003787878787879,\n",
       " 802: 3.0,\n",
       " 2401: 3.0,\n",
       " 2481: 2.993006993006993,\n",
       " 2035: 2.9901639344262296,\n",
       " 697: 2.9894736842105263,\n",
       " 540: 2.989051094890511,\n",
       " 11: 2.9846153846153847,\n",
       " 1532: 2.9840637450199203,\n",
       " 967: 2.982300884955752,\n",
       " 2188: 2.9814814814814814,\n",
       " 329: 2.9780564263322886,\n",
       " 2509: 2.972049689440994,\n",
       " 2384: 2.971223021582734,\n",
       " 460: 2.9682539682539684,\n",
       " 1674: 2.967741935483871,\n",
       " 1407: 2.965367965367965,\n",
       " 901: 2.964664310954064,\n",
       " 761: 2.959016393442623,\n",
       " 765: 2.958904109589041,\n",
       " 736: 2.9454545454545453,\n",
       " 1062: 2.9432624113475176,\n",
       " 2578: 2.931899641577061,\n",
       " 2285: 2.923444976076555,\n",
       " 785: 2.923076923076923,\n",
       " 2113: 2.9084249084249083,\n",
       " 1576: 2.90625,\n",
       " 2267: 2.877813504823151,\n",
       " 1092: 2.8728813559322033,\n",
       " 523: 2.8679245283018866,\n",
       " 2672: 2.867403314917127,\n",
       " 2490: 2.8551401869158877,\n",
       " 2171: 2.8430769230769233,\n",
       " 185: 2.84251968503937,\n",
       " 794: 2.8404255319148937,\n",
       " 2187: 2.831223628691983,\n",
       " 204: 2.8282208588957056,\n",
       " 995: 2.8255813953488373,\n",
       " 409: 2.8244274809160306,\n",
       " 1184: 2.821656050955414,\n",
       " 920: 2.8095238095238093,\n",
       " 2755: 2.808219178082192,\n",
       " 577: 2.799382716049383,\n",
       " 107: 2.797752808988764,\n",
       " 305: 2.793002915451895,\n",
       " 456: 2.761467889908257,\n",
       " 2026: 2.7613636363636362,\n",
       " 1463: 2.75,\n",
       " 2133: 2.748792270531401,\n",
       " 1096: 2.7455197132616487,\n",
       " 1901: 2.7434944237918217,\n",
       " 1169: 2.7393162393162394,\n",
       " 569: 2.737609329446064,\n",
       " 1318: 2.7333333333333334,\n",
       " 2040: 2.733118971061093,\n",
       " 2617: 2.731958762886598,\n",
       " 2689: 2.7285714285714286,\n",
       " 1836: 2.7253886010362693,\n",
       " 2: 2.7166212534059944,\n",
       " 2762: 2.7058823529411766,\n",
       " 333: 2.705426356589147,\n",
       " 2435: 2.6956521739130435,\n",
       " 1260: 2.693798449612403,\n",
       " 14: 2.6910569105691056,\n",
       " 2554: 2.68978102189781,\n",
       " 207: 2.6875,\n",
       " 1283: 2.6865671641791047,\n",
       " 503: 2.684931506849315,\n",
       " 1438: 2.6836158192090394,\n",
       " 1343: 2.663978494623656,\n",
       " 955: 2.6588921282798834,\n",
       " 675: 2.658753709198813,\n",
       " 1726: 2.6584615384615384,\n",
       " 1783: 2.6557377049180326,\n",
       " 2702: 2.6552795031055902,\n",
       " 343: 2.642857142857143,\n",
       " 1369: 2.642857142857143,\n",
       " 1613: 2.641711229946524,\n",
       " 52: 2.6415929203539825,\n",
       " 1585: 2.6361185983827493,\n",
       " 20: 2.6315789473684212,\n",
       " 1010: 2.6197916666666665,\n",
       " 16: 2.6163934426229507,\n",
       " 373: 2.6157205240174672,\n",
       " 1208: 2.6146341463414635,\n",
       " 2220: 2.6085626911314983,\n",
       " 2138: 2.6062717770034842,\n",
       " 550: 2.6058981233243967,\n",
       " 1610: 2.6036036036036037,\n",
       " 1747: 2.5967302452316074,\n",
       " 379: 2.596078431372549,\n",
       " 882: 2.595744680851064,\n",
       " 2482: 2.591304347826087,\n",
       " 1749: 2.590625,\n",
       " 2292: 2.5893719806763285,\n",
       " 1434: 2.587378640776699,\n",
       " 1014: 2.5842696629213484,\n",
       " 518: 2.572519083969466,\n",
       " 2610: 2.567934782608696,\n",
       " 585: 2.5642023346303504,\n",
       " 2661: 2.5561643835616437,\n",
       " 982: 2.556,\n",
       " 2139: 2.553125,\n",
       " 2539: 2.5358090185676394,\n",
       " 937: 2.5353535353535355,\n",
       " 1423: 2.526813880126183,\n",
       " 582: 2.523076923076923,\n",
       " 1781: 2.514851485148515,\n",
       " 587: 2.5056818181818183,\n",
       " 163: 2.5,\n",
       " 2582: 2.490322580645161,\n",
       " 1713: 2.4787644787644787,\n",
       " 1771: 2.4690721649484537,\n",
       " 673: 2.4690265486725664,\n",
       " 1715: 2.4646464646464645,\n",
       " 372: 2.4637305699481864,\n",
       " 556: 2.4634146341463414,\n",
       " 1360: 2.4589665653495443,\n",
       " 1860: 2.458823529411765,\n",
       " 2246: 2.457627118644068,\n",
       " 996: 2.4571428571428573,\n",
       " 2008: 2.4567567567567568,\n",
       " 1648: 2.4561855670103094,\n",
       " 2027: 2.454183266932271,\n",
       " 1963: 2.4537037037037037,\n",
       " 2277: 2.4503311258278146,\n",
       " 741: 2.45,\n",
       " 1595: 2.4439834024896268,\n",
       " 2545: 2.439189189189189,\n",
       " 1118: 2.4365671641791047,\n",
       " 924: 2.4248554913294798,\n",
       " 777: 2.424,\n",
       " 2736: 2.409556313993174,\n",
       " 1155: 2.4076923076923076,\n",
       " 1914: 2.4072289156626505,\n",
       " 2273: 2.4057142857142857,\n",
       " 570: 2.402439024390244,\n",
       " 2045: 2.401985111662531,\n",
       " 2166: 2.4010695187165774,\n",
       " 1018: 2.3973799126637556,\n",
       " 2295: 2.3925619834710745,\n",
       " 1233: 2.391304347826087,\n",
       " 1333: 2.384020618556701,\n",
       " 2774: 2.378531073446328,\n",
       " 1247: 2.370879120879121,\n",
       " 1256: 2.369077306733167,\n",
       " 1266: 2.3666666666666667,\n",
       " 732: 2.3642857142857143,\n",
       " 2390: 2.3624595469255665,\n",
       " 2219: 2.36104513064133,\n",
       " 1234: 2.352517985611511,\n",
       " 707: 2.3513513513513513,\n",
       " 708: 2.3465703971119134,\n",
       " 1654: 2.3393939393939394,\n",
       " 47: 2.3369272237196768,\n",
       " 1292: 2.3350785340314135,\n",
       " 2406: 2.330383480825959,\n",
       " 1222: 2.328025477707006,\n",
       " 2169: 2.324561403508772,\n",
       " 477: 2.324074074074074,\n",
       " 2331: 2.323529411764706,\n",
       " 2076: 2.3210526315789473,\n",
       " 1663: 2.32,\n",
       " 1119: 2.3130434782608695,\n",
       " 1698: 2.3112745098039214,\n",
       " 1476: 2.307377049180328,\n",
       " 1800: 2.303225806451613,\n",
       " 1159: 2.301694915254237,\n",
       " 1888: 2.3,\n",
       " 2262: 2.292263610315186,\n",
       " 1455: 2.2915531335149866,\n",
       " 520: 2.2830626450116007,\n",
       " 1142: 2.2814207650273226,\n",
       " 889: 2.28110599078341,\n",
       " 1462: 2.2777777777777777,\n",
       " 716: 2.271062271062271,\n",
       " 2540: 2.27,\n",
       " 53: 2.269911504424779,\n",
       " 299: 2.269406392694064,\n",
       " 279: 2.2666666666666666,\n",
       " 2475: 2.2651006711409396,\n",
       " 1823: 2.2639405204460967,\n",
       " 2486: 2.263157894736842,\n",
       " 1868: 2.260377358490566,\n",
       " 596: 2.2527472527472527,\n",
       " 2149: 2.25,\n",
       " 1034: 2.2485207100591715,\n",
       " 848: 2.2426778242677825,\n",
       " 321: 2.2351097178683386,\n",
       " 1909: 2.2315436241610738,\n",
       " 1700: 2.2264150943396226,\n",
       " 791: 2.220720720720721,\n",
       " 755: 2.2205882352941178,\n",
       " 1228: 2.2191358024691357,\n",
       " 1795: 2.2142857142857144,\n",
       " 884: 2.2113821138211383,\n",
       " 440: 2.2111111111111112,\n",
       " 2427: 2.2111111111111112,\n",
       " 2716: 2.210526315789474,\n",
       " 2437: 2.2015209125475286,\n",
       " 2472: 2.200589970501475,\n",
       " 1568: 2.199556541019956,\n",
       " 1381: 2.1985559566787005,\n",
       " 395: 2.197674418604651,\n",
       " 2628: 2.196078431372549,\n",
       " 936: 2.1936758893280635,\n",
       " 1690: 2.1931818181818183,\n",
       " 1920: 2.1911111111111112,\n",
       " 2084: 2.190909090909091,\n",
       " 40: 2.1902439024390246,\n",
       " 2644: 2.188925081433225,\n",
       " 1043: 2.188340807174888,\n",
       " 2542: 2.18609865470852,\n",
       " 2018: 2.1820809248554913,\n",
       " 1807: 2.1805225653206652,\n",
       " 1328: 2.1801566579634466,\n",
       " 760: 2.1800947867298577,\n",
       " 135: 2.1779661016949152,\n",
       " 451: 2.1749049429657794,\n",
       " 468: 2.1721311475409837,\n",
       " 245: 2.1703703703703705,\n",
       " 29: 2.167259786476868,\n",
       " 1039: 2.1659192825112106,\n",
       " 152: 2.161993769470405,\n",
       " 578: 2.152354570637119,\n",
       " 1024: 2.15,\n",
       " 1594: 2.1465201465201464,\n",
       " 525: 2.1453287197231834,\n",
       " 694: 2.1443298969072164,\n",
       " 2594: 2.1443298969072164,\n",
       " 1419: 2.141280353200883,\n",
       " 1461: 2.1330798479087454,\n",
       " 1464: 2.1306818181818183,\n",
       " 370: 2.1297709923664123,\n",
       " 1122: 2.1267605633802815,\n",
       " 2403: 2.1230283911671926,\n",
       " 2430: 2.121037463976945,\n",
       " 131: 2.111111111111111,\n",
       " 1427: 2.10752688172043,\n",
       " 2429: 2.106951871657754,\n",
       " 2758: 2.106818181818182,\n",
       " 1688: 2.1036585365853657,\n",
       " 812: 2.1030150753768844,\n",
       " 165: 2.102880658436214,\n",
       " 240: 2.102639296187683,\n",
       " 2728: 2.1017441860465116,\n",
       " 1001: 2.1015625,\n",
       " 956: 2.0993377483443707,\n",
       " 181: 2.090909090909091,\n",
       " 502: 2.0888252148997135,\n",
       " 591: 2.0842105263157893,\n",
       " 272: 2.0833333333333335,\n",
       " 835: 2.08,\n",
       " 139: 2.0793650793650795,\n",
       " 473: 2.0788732394366196,\n",
       " 2488: 2.0784313725490198,\n",
       " 2365: 2.0775862068965516,\n",
       " 2601: 2.074725274725275,\n",
       " 1997: 2.0737704918032787,\n",
       " 2537: 2.066666666666667,\n",
       " 2473: 2.0595238095238093,\n",
       " 26: 2.056842105263158,\n",
       " 1361: 2.056701030927835,\n",
       " 657: 2.0548245614035086,\n",
       " 1058: 2.048,\n",
       " 58: 2.045918367346939,\n",
       " 2737: 2.0445205479452055,\n",
       " 2575: 2.042696629213483,\n",
       " 613: 2.041095890410959,\n",
       " 1103: 2.04,\n",
       " 344: 2.0395348837209304,\n",
       " 787: 2.0384615384615383,\n",
       " 1605: 2.035377358490566,\n",
       " 356: 2.033707865168539,\n",
       " 2151: 2.0330188679245285,\n",
       " 2773: 2.0325,\n",
       " 1076: 2.0274841437632136,\n",
       " 1015: 2.0217391304347827,\n",
       " 1880: 2.0206896551724136,\n",
       " 923: 2.019607843137255,\n",
       " 2116: 2.0170575692963753,\n",
       " 1614: 2.011904761904762,\n",
       " 1036: 2.0,\n",
       " 1189: 2.0,\n",
       " 1383: 2.0,\n",
       " 1938: 2.0,\n",
       " 375: 1.994609164420485,\n",
       " 301: 1.988235294117647,\n",
       " 1757: 1.986784140969163,\n",
       " 1764: 1.9840637450199203,\n",
       " 740: 1.9830028328611897,\n",
       " 283: 1.9813953488372094,\n",
       " 1088: 1.9793577981651376,\n",
       " 2471: 1.976510067114094,\n",
       " 1554: 1.9696312364425164,\n",
       " 1735: 1.9602385685884691,\n",
       " 422: 1.9580419580419581,\n",
       " 1784: 1.9556786703601108,\n",
       " 1494: 1.9518072289156627,\n",
       " 197: 1.947867298578199,\n",
       " 292: 1.9473684210526316,\n",
       " 113: 1.9464285714285714,\n",
       " 1952: 1.9426877470355732,\n",
       " 1551: 1.937888198757764,\n",
       " 420: 1.9301310043668123,\n",
       " 2412: 1.9296187683284458,\n",
       " 2291: 1.9292035398230087,\n",
       " 2311: 1.9289940828402368,\n",
       " 1521: 1.9285714285714286,\n",
       " 1009: 1.9273743016759777,\n",
       " 2458: 1.9182156133828996,\n",
       " 1177: 1.9177489177489178,\n",
       " 704: 1.9174603174603175,\n",
       " 1662: 1.915137614678899,\n",
       " 1193: 1.912280701754386,\n",
       " 1053: 1.9120603015075377,\n",
       " 2041: 1.9107142857142858,\n",
       " 2330: 1.9104477611940298,\n",
       " 1004: 1.9090909090909092,\n",
       " 1488: 1.901639344262295,\n",
       " 2079: 1.8994708994708995,\n",
       " 1011: 1.8984375,\n",
       " 2088: 1.8983402489626555,\n",
       " 2704: 1.896,\n",
       " 753: 1.888086642599278,\n",
       " 2344: 1.8876404494382022,\n",
       " 1346: 1.8859649122807018,\n",
       " 2461: 1.885135135135135,\n",
       " 361: 1.8845401174168297,\n",
       " 2517: 1.8799019607843137,\n",
       " 1996: 1.8789808917197452,\n",
       " 2784: 1.8771186440677967,\n",
       " 564: 1.8754716981132076,\n",
       " 875: 1.8733850129198966,\n",
       " 2130: 1.8733766233766234,\n",
       " 2732: 1.8728070175438596,\n",
       " 2363: 1.869179600886918,\n",
       " 2468: 1.8613861386138615,\n",
       " 2131: 1.8551532033426184,\n",
       " 1074: 1.8549848942598188,\n",
       " 759: 1.8523489932885906,\n",
       " 2387: 1.846613545816733,\n",
       " 1098: 1.845890410958904,\n",
       " 2038: 1.8458333333333334,\n",
       " 997: 1.8454935622317596,\n",
       " 2498: 1.8426966292134832,\n",
       " 2270: 1.8364197530864197,\n",
       " 2684: 1.8342857142857143,\n",
       " 2358: 1.8269230769230769,\n",
       " 2512: 1.8253012048192772,\n",
       " 1273: 1.8235294117647058,\n",
       " 1725: 1.821515892420538,\n",
       " 871: 1.819935691318328,\n",
       " 284: 1.818390804597701,\n",
       " 82: 1.8172484599589322,\n",
       " 985: 1.8170731707317074,\n",
       " 412: 1.8165938864628821,\n",
       " 891: 1.8137254901960784,\n",
       " 2161: 1.811284046692607,\n",
       " 2441: 1.811284046692607,\n",
       " 179: 1.8085106382978724,\n",
       " 1027: 1.804945054945055,\n",
       " 1776: 1.7995780590717299,\n",
       " 896: 1.7913907284768211,\n",
       " 1057: 1.7846153846153847,\n",
       " 2235: 1.7827102803738317,\n",
       " 2463: 1.7798165137614679,\n",
       " 2154: 1.778169014084507,\n",
       " 1290: 1.7770961145194275,\n",
       " 167: 1.7760736196319018,\n",
       " 105: 1.769736842105263,\n",
       " 1388: 1.7665198237885462,\n",
       " 1876: 1.7605042016806722,\n",
       " 898: 1.7564575645756457,\n",
       " 1819: 1.7560386473429952,\n",
       " 2224: 1.7549407114624507,\n",
       " 1922: 1.7531305903398926,\n",
       " 2442: 1.7522441651705565,\n",
       " 494: 1.7443946188340806,\n",
       " 112: 1.74373795761079,\n",
       " 1460: 1.742063492063492,\n",
       " 1087: 1.7391304347826086,\n",
       " 380: 1.7386363636363635,\n",
       " 2148: 1.7358870967741935,\n",
       " 2567: 1.7351351351351352,\n",
       " 1553: 1.732181425485961,\n",
       " 2657: 1.7314049586776858,\n",
       " 2341: 1.7275922671353252,\n",
       " 543: 1.7246376811594204,\n",
       " 1980: 1.722753346080306,\n",
       " 1842: 1.722735674676525,\n",
       " 954: 1.720524017467249,\n",
       " 1000: 1.7135231316725978,\n",
       " 276: 1.7133333333333334,\n",
       " 377: 1.713131313131313,\n",
       " 535: 1.7130620985010707,\n",
       " 218: 1.7017543859649122,\n",
       " 341: 1.699443413729128,\n",
       " 2048: 1.6981132075471699,\n",
       " 929: 1.697142857142857,\n",
       " 1697: 1.6968911917098446,\n",
       " 1724: 1.6966666666666668,\n",
       " 2485: 1.694736842105263,\n",
       " 1150: 1.6881720430107527,\n",
       " 537: 1.68659793814433,\n",
       " 388: 1.6861924686192469,\n",
       " 2480: 1.6839186691312384,\n",
       " 2371: 1.6835443037974684,\n",
       " 748: 1.683168316831683,\n",
       " 2204: 1.6797752808988764,\n",
       " 1513: 1.6790123456790123,\n",
       " 1875: 1.6777777777777778,\n",
       " 437: 1.676416819012797,\n",
       " 1602: 1.6759656652360515,\n",
       " 394: 1.6747967479674797,\n",
       " 1652: 1.6690997566909975,\n",
       " 411: 1.6637630662020906,\n",
       " 1237: 1.6633064516129032,\n",
       " 622: 1.6587677725118484,\n",
       " 287: 1.6581196581196582,\n",
       " 209: 1.6534090909090908,\n",
       " 2598: 1.6528301886792454,\n",
       " 2760: 1.6509186351706038,\n",
       " 2514: 1.65,\n",
       " 2592: 1.6491228070175439,\n",
       " 963: 1.6485507246376812,\n",
       " 1905: 1.645484949832776,\n",
       " 2241: 1.6451612903225807,\n",
       " 1930: 1.644808743169399,\n",
       " 2484: 1.6388888888888888,\n",
       " 1945: 1.6358490566037736,\n",
       " 1829: 1.6346153846153846,\n",
       " 1324: 1.6291390728476822,\n",
       " 1453: 1.6288659793814433,\n",
       " 1304: 1.6282527881040891,\n",
       " 1567: 1.6229166666666666,\n",
       " 1593: 1.622823984526112,\n",
       " 2654: 1.6196943972835314,\n",
       " 2301: 1.6181102362204725,\n",
       " 751: 1.6158940397350994,\n",
       " 2136: 1.615664845173042,\n",
       " 155: 1.6153846153846154,\n",
       " 1818: 1.614963503649635,\n",
       " 700: 1.614814814814815,\n",
       " 862: 1.6135593220338984,\n",
       " 2145: 1.6127659574468085,\n",
       " 1217: 1.61003861003861,\n",
       " 2626: 1.6067961165048543,\n",
       " 1398: 1.6067415730337078,\n",
       " 1931: 1.6051779935275081,\n",
       " 137: 1.603448275862069,\n",
       " 1484: 1.601423487544484,\n",
       " 555: 1.6005154639175259,\n",
       " 306: 1.599025974025974,\n",
       " 487: 1.5970149253731343,\n",
       " 1439: 1.596964586846543,\n",
       " 310: 1.593385214007782,\n",
       " 2378: 1.5928449744463373,\n",
       " 41: 1.5923566878980893,\n",
       " 408: 1.5874125874125875,\n",
       " 2581: 1.5869565217391304,\n",
       " 991: 1.5835411471321696,\n",
       " 717: 1.5805626598465474,\n",
       " 1967: 1.5760456273764258,\n",
       " 2692: 1.5746887966804979,\n",
       " 1533: 1.5736040609137056,\n",
       " 1589: 1.5716535433070866,\n",
       " 1320: 1.5709570957095709,\n",
       " 2308: 1.5702479338842976,\n",
       " 2111: 1.566914498141264,\n",
       " 1951: 1.565587734241908,\n",
       " 2765: 1.5652866242038217,\n",
       " 1447: 1.5604982206405693,\n",
       " 386: 1.56,\n",
       " 1069: 1.5582822085889572,\n",
       " 1609: 1.5570934256055364,\n",
       " 2700: 1.5555555555555556,\n",
       " 2706: 1.5521628498727735,\n",
       " 1620: 1.5496688741721854,\n",
       " 1556: 1.5491071428571428,\n",
       " 2411: 1.5478806907378335,\n",
       " 369: 1.543859649122807,\n",
       " 256: 1.5433962264150944,\n",
       " 2532: 1.5424164524421593,\n",
       " 2053: 1.5415384615384615,\n",
       " 294: 1.5398671096345515,\n",
       " 771: 1.5380710659898478,\n",
       " 1540: 1.53551912568306,\n",
       " 806: 1.5354166666666667,\n",
       " 1651: 1.535,\n",
       " 2043: 1.5330112721417068,\n",
       " 1578: 1.532994923857868,\n",
       " 439: 1.5322033898305085,\n",
       " 96: 1.5308988764044944,\n",
       " 2778: 1.5285171102661597,\n",
       " 1300: 1.528268551236749,\n",
       " 64: 1.5263157894736843,\n",
       " 855: 1.5205047318611988,\n",
       " 2454: 1.5204359673024523,\n",
       " 2271: 1.5171232876712328,\n",
       " 842: 1.5161290322580645,\n",
       " 2056: 1.516030534351145,\n",
       " 1522: 1.5118829981718465,\n",
       " 542: 1.5104895104895104,\n",
       " 2394: 1.508716323296355,\n",
       " 441: 1.507905138339921,\n",
       " 2637: 1.5072727272727273,\n",
       " 432: 1.5071283095723014,\n",
       " 1642: 1.5041186161449753,\n",
       " 1895: 1.5035211267605635,\n",
       " 1005: 1.502664298401421,\n",
       " 2050: 1.5,\n",
       " 1627: 1.4988814317673378,\n",
       " 2561: 1.4968152866242037,\n",
       " 2495: 1.4945054945054945,\n",
       " 144: 1.4935064935064934,\n",
       " 2272: 1.4916943521594683,\n",
       " 364: 1.489795918367347,\n",
       " 964: 1.4889705882352942,\n",
       " 1887: 1.4844517184942716,\n",
       " 1342: 1.4838709677419355,\n",
       " 1831: 1.4833333333333334,\n",
       " 557: 1.4816753926701571,\n",
       " 2058: 1.481012658227848,\n",
       " 175: 1.478021978021978,\n",
       " 2349: 1.4754829123328381,\n",
       " 1978: 1.4754464285714286,\n",
       " 1448: 1.4747663551401868,\n",
       " 1973: 1.4747320061255742,\n",
       " 465: 1.4707259953161593,\n",
       " 1769: 1.4706766917293232,\n",
       " 2203: 1.4697674418604652,\n",
       " 1571: 1.4693572496263079,\n",
       " 2660: 1.4686940966010733,\n",
       " 2771: 1.4649122807017543,\n",
       " 586: 1.4634146341463414,\n",
       " 590: 1.4634146341463414,\n",
       " 458: 1.4615384615384615,\n",
       " 381: 1.4591836734693877,\n",
       " 2281: 1.4558404558404558,\n",
       " 2570: 1.4523809523809523,\n",
       " 632: 1.4517453798767967,\n",
       " 7: 1.4506172839506173,\n",
       " 497: 1.4505494505494505,\n",
       " 539: 1.4497907949790796,\n",
       " 1429: 1.4490291262135921,\n",
       " 1176: 1.448210922787194,\n",
       " 2761: 1.4471947194719472,\n",
       " 1675: 1.4469914040114613,\n",
       " 721: 1.4453441295546559,\n",
       " 1917: 1.4444444444444444,\n",
       " 416: 1.44375,\n",
       " 2307: 1.441941074523397,\n",
       " 706: 1.4412811387900355,\n",
       " 1798: 1.4408284023668638,\n",
       " 2337: 1.4404255319148935,\n",
       " 2016: 1.4396728016359919,\n",
       " 2373: 1.4387351778656126,\n",
       " 1099: 1.4387096774193548,\n",
       " 2067: 1.4381443298969072,\n",
       " 2230: 1.4376854599406528,\n",
       " ...}"
      ]
     },
     "execution_count": 29,
     "metadata": {},
     "output_type": "execute_result"
    }
   ],
   "source": [
    "sorted_value_to_weight_ratio_dict"
   ]
  },
  {
   "cell_type": "code",
   "execution_count": 30,
   "metadata": {},
   "outputs": [],
   "source": [
    "init_pop = generate_initial_population(2,\n",
    "                                       280,\n",
    "                                       \"pack_optimal\", \n",
    "                                       \"random\", \n",
    "                                       a280_n1395[\"Q\"], \n",
    "                                       sorted_value_to_weight_ratio_dict,\n",
    "                                       a280_n1395[\"item_weights\"])"
   ]
  },
  {
   "cell_type": "code",
   "execution_count": 31,
   "metadata": {},
   "outputs": [
    {
     "data": {
      "text/plain": [
       "[struct({'tour': [221, 129, 227, 135, 153, 96, 243, 175, 161, 230, 261, 214, 279, 70, 118, 247, 22, 199, 144, 139, 170, 116, 103, 217, 48, 1, 80, 191, 165, 8, 210, 169, 107, 72, 255, 145, 81, 11, 134, 100, 163, 79, 124, 31, 41, 74, 34, 32, 49, 52, 132, 75, 142, 91, 151, 222, 71, 178, 140, 206, 110, 204, 0, 155, 263, 251, 265, 260, 250, 198, 158, 213, 88, 136, 76, 274, 154, 61, 271, 53, 238, 43, 143, 147, 141, 131, 35, 24, 93, 84, 150, 240, 54, 86, 205, 268, 115, 201, 82, 232, 248, 112, 233, 16, 183, 228, 177, 102, 29, 211, 111, 128, 114, 166, 186, 174, 164, 104, 97, 126, 57, 239, 159, 66, 26, 269, 120, 21, 258, 17, 14, 180, 256, 113, 98, 47, 60, 68, 262, 207, 5, 181, 264, 212, 229, 270, 246, 272, 172, 137, 146, 18, 138, 28, 122, 278, 78, 148, 218, 236, 44, 108, 106, 92, 235, 242, 133, 234, 257, 123, 149, 127, 189, 89, 249, 46, 237, 87, 130, 176, 39, 219, 51, 4, 19, 231, 69, 266, 125, 65, 215, 85, 20, 216, 277, 224, 273, 33, 179, 253, 42, 267, 37, 121, 162, 45, 2, 105, 173, 95, 77, 73, 156, 3, 9, 220, 13, 63, 117, 168, 182, 188, 187, 195, 10, 64, 196, 245, 185, 223, 90, 167, 202, 6, 62, 99, 109, 226, 184, 241, 59, 30, 58, 209, 27, 55, 83, 194, 192, 40, 275, 25, 94, 119, 171, 157, 259, 50, 225, 15, 101, 252, 160, 254, 38, 193, 36, 197, 200, 56, 67, 152, 276, 23, 7, 203, 208, 12, 190, 244], 'packing_plan': [1.0, 0.0, 1.0, 0.0, 0.0, 0.0, 1.0, 1.0, 0.0, 1.0, 1.0, 1.0, 0.0, 0.0, 1.0, 1.0, 1.0, 1.0, 0.0, 0.0, 1.0, 0.0, 1.0, 1.0, 1.0, 0.0, 1.0, 0.0, 1.0, 1.0, 1.0, 0.0, 1.0, 0.0, 0.0, 1.0, 0.0, 0.0, 0.0, 0.0, 1.0, 1.0, 0.0, 0.0, 1.0, 0.0, 0.0, 1.0, 0.0, 0.0, 1.0, 0.0, 1.0, 1.0, 0.0, 0.0, 0.0, 0.0, 1.0, 0.0, 1.0, 1.0, 1.0, 0.0, 1.0, 0.0, 0.0, 0.0, 0.0, 0.0, 1.0, 1.0, 1.0, 1.0, 1.0, 0.0, 1.0, 0.0, 0.0, 1.0, 0.0, 0.0, 1.0, 0.0, 0.0, 1.0, 1.0, 1.0, 0.0, 0.0, 0.0, 0.0, 0.0, 1.0, 0.0, 0.0, 1.0, 0.0, 0.0, 1.0, 0.0, 1.0, 1.0, 1.0, 1.0, 1.0, 0.0, 1.0, 0.0, 1.0, 0.0, 0.0, 1.0, 1.0, 0.0, 0.0, 1.0, 0.0, 0.0, 1.0, 0.0, 1.0, 0.0, 1.0, 1.0, 1.0, 0.0, 0.0, 1.0, 0.0, 0.0, 1.0, 0.0, 1.0, 1.0, 1.0, 1.0, 1.0, 0.0, 1.0, 1.0, 1.0, 0.0, 0.0, 1.0, 0.0, 0.0, 0.0, 0.0, 0.0, 0.0, 1.0, 1.0, 0.0, 0.0, 1.0, 0.0, 1.0, 0.0, 1.0, 1.0, 0.0, 1.0, 1.0, 0.0, 1.0, 1.0, 1.0, 0.0, 0.0, 1.0, 1.0, 1.0, 1.0, 0.0, 1.0, 0.0, 0.0, 0.0, 1.0, 1.0, 1.0, 0.0, 0.0, 0.0, 1.0, 0.0, 0.0, 1.0, 0.0, 0.0, 1.0, 1.0, 1.0, 0.0, 1.0, 0.0, 1.0, 1.0, 0.0, 0.0, 0.0, 0.0, 0.0, 1.0, 1.0, 0.0, 1.0, 1.0, 1.0, 0.0, 0.0, 0.0, 0.0, 0.0, 0.0, 0.0, 1.0, 1.0, 0.0, 0.0, 0.0, 0.0, 1.0, 0.0, 0.0, 1.0, 0.0, 0.0, 1.0, 0.0, 1.0, 0.0, 0.0, 0.0, 0.0, 0.0, 0.0, 0.0, 0.0, 1.0, 0.0, 0.0, 0.0, 0.0, 1.0, 0.0, 0.0, 1.0, 1.0, 0.0, 1.0, 0.0, 0.0, 1.0, 0.0, 1.0, 0.0, 1.0, 1.0, 1.0, 1.0, 1.0, 1.0, 0.0, 0.0, 0.0, 0.0, 0.0, 0.0, 1.0, 0.0, 1.0, 1.0, 1.0, 1.0, 1.0, 0.0, 1.0, 1.0, 0.0, 1.0, 0.0, 1.0, 1.0, 0.0, 0.0, 1.0, 0.0, 1.0, 1.0, 0.0, 1.0, 0.0, 1.0, 1.0, 1.0, 0.0, 0.0, 1.0, 1.0, 1.0, 0.0, 0.0, 1.0, 1.0, 1.0, 0.0, 1.0, 0.0, 1.0, 0.0, 1.0, 0.0, 1.0, 1.0, 0.0, 1.0, 0.0, 0.0, 0.0, 1.0, 0.0, 0.0, 0.0, 0.0, 1.0, 0.0, 1.0, 1.0, 0.0, 0.0, 0.0, 1.0, 1.0, 0.0, 0.0, 1.0, 1.0, 0.0, 0.0, 1.0, 1.0, 1.0, 1.0, 0.0, 0.0, 0.0, 0.0, 1.0, 0.0, 0.0, 1.0, 0.0, 1.0, 0.0, 1.0, 1.0, 0.0, 1.0, 0.0, 1.0, 0.0, 0.0, 1.0, 0.0, 1.0, 1.0, 0.0, 1.0, 1.0, 0.0, 1.0, 1.0, 1.0, 1.0, 1.0, 1.0, 0.0, 1.0, 1.0, 1.0, 1.0, 0.0, 0.0, 1.0, 1.0, 1.0, 1.0, 0.0, 0.0, 0.0, 0.0, 0.0, 1.0, 1.0, 1.0, 0.0, 1.0, 1.0, 0.0, 0.0, 1.0, 0.0, 0.0, 1.0, 0.0, 1.0, 1.0, 1.0, 1.0, 1.0, 1.0, 1.0, 0.0, 0.0, 1.0, 0.0, 0.0, 0.0, 1.0, 0.0, 1.0, 0.0, 0.0, 0.0, 1.0, 1.0, 1.0, 0.0, 1.0, 1.0, 1.0, 0.0, 0.0, 0.0, 1.0, 1.0, 0.0, 1.0, 1.0, 1.0, 0.0, 1.0, 0.0, 0.0, 1.0, 1.0, 1.0, 1.0, 0.0, 1.0, 0.0, 0.0, 0.0, 1.0, 1.0, 1.0, 1.0, 0.0, 1.0, 1.0, 1.0, 1.0, 0.0, 1.0, 0.0, 0.0, 1.0, 0.0, 0.0, 1.0, 0.0, 1.0, 1.0, 0.0, 0.0, 1.0, 1.0, 1.0, 0.0, 1.0, 0.0, 0.0, 0.0, 1.0, 0.0, 1.0, 1.0, 1.0, 1.0, 1.0, 0.0, 1.0, 1.0, 0.0, 1.0, 1.0, 0.0, 1.0, 1.0, 0.0, 1.0, 1.0, 0.0, 1.0, 0.0, 0.0, 1.0, 1.0, 1.0, 0.0, 1.0, 0.0, 1.0, 0.0, 1.0, 0.0, 1.0, 0.0, 1.0, 1.0, 0.0, 1.0, 0.0, 1.0, 0.0, 0.0, 0.0, 0.0, 1.0, 0.0, 0.0, 0.0, 0.0, 1.0, 1.0, 1.0, 1.0, 1.0, 1.0, 0.0, 1.0, 1.0, 0.0, 1.0, 1.0, 1.0, 0.0, 0.0, 1.0, 0.0, 0.0, 1.0, 0.0, 1.0, 1.0, 1.0, 0.0, 0.0, 0.0, 1.0, 1.0, 0.0, 1.0, 0.0, 0.0, 1.0, 0.0, 1.0, 1.0, 1.0, 0.0, 1.0, 1.0, 1.0, 0.0, 1.0, 1.0, 1.0, 1.0, 0.0, 1.0, 0.0, 0.0, 1.0, 1.0, 1.0, 0.0, 0.0, 1.0, 1.0, 0.0, 1.0, 0.0, 0.0, 1.0, 0.0, 0.0, 0.0, 1.0, 1.0, 0.0, 1.0, 0.0, 0.0, 0.0, 1.0, 1.0, 0.0, 0.0, 0.0, 0.0, 1.0, 1.0, 0.0, 1.0, 0.0, 1.0, 0.0, 0.0, 0.0, 1.0, 0.0, 0.0, 0.0, 1.0, 1.0, 0.0, 0.0, 0.0, 1.0, 1.0, 0.0, 0.0, 0.0, 0.0, 0.0, 1.0, 0.0, 1.0, 0.0, 0.0, 1.0, 0.0, 1.0, 1.0, 0.0, 0.0, 0.0, 0.0, 1.0, 0.0, 0.0, 0.0, 1.0, 0.0, 1.0, 1.0, 0.0, 0.0, 0.0, 1.0, 1.0, 1.0, 0.0, 0.0, 1.0, 0.0, 1.0, 0.0, 0.0, 1.0, 1.0, 1.0, 1.0, 0.0, 0.0, 0.0, 1.0, 1.0, 0.0, 0.0, 1.0, 0.0, 0.0, 0.0, 0.0, 0.0, 0.0, 1.0, 0.0, 0.0, 1.0, 1.0, 0.0, 0.0, 1.0, 1.0, 1.0, 1.0, 0.0, 1.0, 0.0, 1.0, 0.0, 1.0, 1.0, 1.0, 1.0, 0.0, 1.0, 1.0, 0.0, 1.0, 1.0, 1.0, 1.0, 0.0, 0.0, 1.0, 1.0, 0.0, 0.0, 0.0, 0.0, 0.0, 0.0, 0.0, 0.0, 0.0, 0.0, 1.0, 0.0, 0.0, 1.0, 1.0, 0.0, 0.0, 1.0, 1.0, 1.0, 0.0, 0.0, 0.0, 1.0, 0.0, 0.0, 1.0, 0.0, 0.0, 1.0, 1.0, 1.0, 0.0, 1.0, 1.0, 0.0, 0.0, 1.0, 1.0, 1.0, 1.0, 1.0, 0.0, 1.0, 0.0, 1.0, 0.0, 0.0, 1.0, 1.0, 0.0, 1.0, 1.0, 0.0, 1.0, 1.0, 0.0, 0.0, 1.0, 0.0, 1.0, 1.0, 0.0, 1.0, 1.0, 1.0, 0.0, 0.0, 0.0, 1.0, 0.0, 0.0, 1.0, 0.0, 0.0, 0.0, 0.0, 1.0, 0.0, 0.0, 1.0, 1.0, 0.0, 1.0, 1.0, 0.0, 0.0, 0.0, 1.0, 0.0, 1.0, 0.0, 1.0, 0.0, 0.0, 0.0, 0.0, 0.0, 0.0, 0.0, 0.0, 0.0, 1.0, 0.0, 1.0, 1.0, 1.0, 0.0, 0.0, 1.0, 0.0, 0.0, 0.0, 1.0, 1.0, 0.0, 1.0, 0.0, 1.0, 0.0, 1.0, 1.0, 1.0, 1.0, 1.0, 1.0, 1.0, 1.0, 0.0, 0.0, 1.0, 1.0, 0.0, 1.0, 0.0, 0.0, 1.0, 1.0, 1.0, 0.0, 1.0, 0.0, 0.0, 1.0, 0.0, 0.0, 0.0, 0.0, 0.0, 1.0, 0.0, 1.0, 1.0, 1.0, 0.0, 0.0, 1.0, 1.0, 1.0, 0.0, 1.0, 0.0, 1.0, 0.0, 1.0, 0.0, 1.0, 1.0, 0.0, 1.0, 0.0, 1.0, 0.0, 0.0, 1.0, 0.0, 1.0, 0.0, 1.0, 1.0, 0.0, 0.0, 1.0, 0.0, 1.0, 0.0, 1.0, 0.0, 0.0, 0.0, 0.0, 1.0, 1.0, 0.0, 0.0, 0.0, 0.0, 1.0, 1.0, 1.0, 0.0, 1.0, 1.0, 0.0, 1.0, 1.0, 1.0, 1.0, 1.0, 0.0, 0.0, 0.0, 1.0, 0.0, 1.0, 1.0, 0.0, 0.0, 0.0, 0.0, 1.0, 1.0, 0.0, 0.0, 0.0, 0.0, 1.0, 0.0, 1.0, 1.0, 0.0, 0.0, 1.0, 1.0, 1.0, 0.0, 0.0, 1.0, 1.0, 0.0, 0.0, 1.0, 1.0, 0.0, 1.0, 1.0, 0.0, 0.0, 1.0, 0.0, 0.0, 0.0, 0.0, 0.0, 0.0, 0.0, 0.0, 1.0, 0.0, 1.0, 1.0, 0.0, 1.0, 1.0, 0.0, 1.0, 0.0, 1.0, 1.0, 1.0, 1.0, 0.0, 0.0, 1.0, 1.0, 1.0, 1.0, 0.0, 1.0, 1.0, 1.0, 1.0, 1.0, 1.0, 0.0, 1.0, 0.0, 1.0, 1.0, 1.0, 0.0, 0.0, 1.0, 1.0, 0.0, 0.0, 1.0, 0.0, 0.0, 0.0, 1.0, 0.0, 1.0, 1.0, 1.0, 1.0, 0.0, 0.0, 1.0, 0.0, 1.0, 1.0, 1.0, 1.0, 1.0, 0.0, 0.0, 1.0, 0.0, 0.0, 0.0, 1.0, 0.0, 1.0, 0.0, 1.0, 1.0, 0.0, 0.0, 0.0, 1.0, 1.0, 1.0, 0.0, 0.0, 1.0, 1.0, 0.0, 1.0, 0.0, 1.0, 0.0, 0.0, 1.0, 0.0, 0.0, 0.0, 1.0, 0.0, 0.0, 1.0, 0.0, 1.0, 0.0, 1.0, 1.0, 0.0, 0.0, 0.0, 1.0, 0.0, 0.0, 0.0, 1.0, 1.0, 1.0, 1.0, 1.0, 0.0, 1.0, 1.0, 0.0, 1.0, 0.0, 1.0, 1.0, 1.0, 1.0, 1.0, 0.0, 0.0, 1.0, 1.0, 0.0, 1.0, 1.0, 1.0, 0.0, 0.0, 1.0, 0.0, 0.0, 0.0, 0.0, 0.0, 1.0, 1.0, 1.0, 1.0, 0.0, 1.0, 1.0, 0.0, 1.0, 0.0, 1.0, 1.0, 0.0, 0.0, 0.0, 0.0, 0.0, 1.0, 0.0, 1.0, 0.0, 1.0, 0.0, 0.0, 0.0, 1.0, 0.0, 1.0, 1.0, 0.0, 1.0, 0.0, 0.0, 1.0, 0.0, 1.0, 0.0, 1.0, 1.0, 1.0, 1.0, 0.0, 1.0, 0.0, 0.0, 0.0, 1.0, 0.0, 0.0, 0.0, 0.0, 0.0, 1.0, 0.0, 1.0, 1.0, 1.0, 1.0, 1.0, 1.0, 1.0, 0.0, 0.0, 1.0, 1.0, 1.0, 0.0, 1.0, 0.0, 1.0, 1.0, 1.0, 1.0, 0.0, 0.0, 0.0, 1.0, 0.0, 0.0, 0.0, 1.0, 0.0, 1.0, 1.0, 1.0, 0.0, 0.0, 0.0, 0.0, 0.0, 0.0, 1.0, 1.0, 1.0, 0.0, 1.0, 0.0, 0.0, 0.0, 0.0, 1.0, 0.0, 0.0, 1.0, 0.0, 1.0, 0.0, 1.0, 0.0, 0.0, 1.0, 1.0, 1.0, 0.0, 0.0, 0.0, 1.0, 1.0, 1.0, 0.0, 1.0, 1.0, 0.0, 1.0, 0.0, 0.0, 0.0, 1.0, 1.0, 0.0, 1.0, 0.0, 0.0, 0.0, 0.0, 1.0, 0.0, 0.0, 1.0, 1.0, 0.0, 1.0, 0.0, 1.0, 1.0, 1.0, 1.0, 1.0, 0.0, 1.0, 0.0, 0.0, 1.0, 1.0, 1.0, 0.0, 1.0, 0.0, 0.0, 1.0, 0.0, 1.0, 1.0, 0.0, 1.0, 1.0, 1.0, 0.0, 0.0, 0.0, 0.0, 1.0, 1.0, 1.0, 1.0, 1.0, 0.0, 1.0, 1.0, 0.0, 1.0, 1.0, 0.0, 1.0, 0.0, 0.0, 1.0, 1.0, 1.0, 1.0, 0.0, 0.0, 1.0, 0.0, 1.0, 0.0, 0.0, 0.0, 1.0, 0.0, 0.0, 1.0, 1.0, 1.0, 0.0, 0.0, 0.0, 1.0, 1.0, 1.0, 1.0, 1.0, 0.0, 0.0, 1.0, 1.0, 1.0, 0.0, 0.0, 1.0, 0.0, 0.0, 0.0, 1.0, 0.0, 1.0, 1.0, 0.0, 0.0, 1.0, 0.0, 1.0, 0.0, 0.0, 0.0, 1.0, 1.0, 0.0, 0.0, 1.0, 1.0, 0.0, 1.0, 1.0, 1.0, 1.0, 0.0, 1.0, 0.0, 1.0, 1.0, 0.0, 1.0, 1.0, 1.0, 0.0, 1.0, 1.0, 1.0, 1.0, 1.0, 1.0, 0.0, 0.0, 1.0, 0.0, 1.0, 1.0, 0.0, 0.0, 0.0, 1.0, 0.0, 0.0, 1.0, 0.0, 1.0, 0.0, 0.0, 1.0, 1.0, 1.0, 1.0, 0.0, 0.0, 1.0, 1.0, 1.0, 0.0, 1.0, 1.0, 0.0, 0.0, 0.0, 1.0, 1.0, 0.0, 0.0, 0.0, 0.0, 1.0, 1.0, 1.0, 1.0, 0.0, 0.0, 1.0, 1.0, 0.0, 1.0, 1.0, 0.0, 1.0, 0.0, 0.0, 0.0, 0.0, 1.0, 1.0, 1.0, 1.0, 1.0, 1.0, 0.0, 0.0, 1.0, 0.0, 1.0, 0.0, 0.0, 1.0, 1.0, 0.0, 0.0, 0.0, 0.0, 1.0, 1.0, 1.0, 0.0, 0.0, 1.0, 1.0, 1.0, 1.0, 1.0, 1.0, 1.0, 1.0, 0.0, 0.0, 0.0, 0.0, 0.0, 1.0, 0.0, 0.0, 0.0, 1.0, 1.0, 0.0, 0.0, 0.0, 0.0, 1.0, 1.0, 0.0, 1.0, 0.0, 1.0, 0.0, 1.0, 1.0, 0.0, 0.0, 0.0, 0.0, 1.0, 0.0, 0.0, 0.0, 0.0, 1.0, 0.0, 1.0, 0.0, 1.0, 0.0, 0.0, 1.0, 0.0, 1.0, 0.0, 0.0, 1.0, 1.0, 1.0, 1.0, 1.0, 0.0, 1.0, 0.0, 1.0, 1.0, 1.0, 1.0, 0.0, 0.0, 0.0, 1.0, 0.0, 1.0, 1.0, 1.0, 1.0, 1.0, 1.0, 0.0, 1.0, 0.0, 0.0, 0.0, 0.0, 1.0, 0.0, 1.0, 1.0, 0.0, 1.0, 0.0, 0.0, 0.0, 0.0, 1.0, 1.0, 1.0, 1.0, 1.0, 1.0, 1.0, 0.0, 0.0, 1.0, 0.0, 0.0, 0.0, 1.0, 1.0, 1.0, 0.0, 1.0, 1.0, 0.0, 1.0, 1.0, 0.0, 0.0, 0.0, 0.0, 1.0, 0.0, 1.0, 0.0, 0.0, 0.0, 1.0, 0.0, 0.0, 1.0, 0.0, 0.0, 0.0, 1.0, 1.0, 1.0, 0.0, 1.0, 1.0, 1.0, 0.0, 0.0, 0.0, 0.0, 0.0, 0.0, 1.0, 0.0, 0.0, 1.0, 0.0, 1.0, 0.0, 1.0, 1.0, 1.0, 0.0, 1.0, 1.0, 0.0, 0.0, 0.0, 1.0, 1.0, 1.0, 0.0, 1.0, 0.0, 0.0, 1.0, 0.0, 1.0, 0.0, 1.0, 1.0, 0.0, 0.0, 1.0, 1.0, 1.0, 0.0, 0.0, 0.0, 0.0, 1.0, 1.0, 1.0, 0.0, 1.0, 0.0, 1.0, 0.0, 1.0, 0.0, 1.0, 1.0, 1.0, 0.0, 1.0, 1.0, 0.0, 1.0, 0.0, 1.0, 1.0, 0.0, 1.0, 1.0, 1.0, 1.0, 0.0, 1.0, 0.0, 0.0, 0.0, 0.0, 1.0, 0.0, 1.0, 1.0, 1.0, 0.0, 1.0, 1.0, 0.0, 0.0, 1.0, 0.0, 0.0, 1.0, 1.0, 0.0, 1.0, 0.0, 1.0, 1.0, 0.0, 1.0, 0.0, 1.0, 1.0, 1.0, 1.0, 0.0, 1.0, 0.0, 0.0, 1.0, 0.0, 0.0, 0.0, 0.0, 0.0, 0.0, 0.0, 1.0, 0.0, 1.0, 0.0, 1.0, 1.0, 1.0, 0.0, 1.0, 1.0, 0.0, 0.0, 0.0, 1.0, 1.0, 1.0, 1.0, 0.0, 1.0, 1.0, 0.0, 0.0, 0.0, 0.0, 1.0, 0.0, 0.0, 1.0, 1.0, 1.0, 0.0, 0.0, 1.0, 0.0, 0.0, 0.0, 1.0, 0.0, 1.0, 0.0, 1.0, 0.0, 0.0, 0.0, 0.0, 1.0, 1.0, 0.0, 0.0, 1.0, 1.0, 0.0, 1.0, 1.0, 0.0, 1.0, 0.0, 1.0, 1.0, 1.0, 1.0, 0.0, 0.0, 1.0, 1.0, 1.0, 0.0, 1.0, 1.0, 1.0, 1.0, 1.0, 1.0, 1.0, 0.0, 1.0, 1.0, 1.0, 0.0, 0.0, 1.0, 0.0, 1.0, 0.0, 1.0, 0.0, 1.0, 1.0, 1.0, 1.0, 0.0, 1.0, 0.0, 0.0, 0.0, 1.0, 1.0, 0.0, 0.0, 1.0, 1.0, 1.0, 0.0, 1.0, 1.0, 0.0, 0.0, 1.0, 1.0, 0.0, 1.0, 0.0, 1.0, 1.0, 0.0, 0.0, 0.0, 1.0, 1.0, 0.0, 1.0, 0.0, 1.0, 0.0, 0.0, 1.0, 0.0, 0.0, 0.0, 1.0, 0.0, 1.0, 0.0, 1.0, 1.0, 0.0, 0.0, 0.0, 0.0, 1.0, 0.0, 1.0, 1.0, 0.0, 1.0, 1.0, 0.0, 1.0, 0.0, 1.0, 0.0, 0.0, 1.0, 1.0, 0.0, 0.0, 0.0, 1.0, 0.0, 0.0, 1.0, 1.0, 1.0, 0.0, 1.0, 1.0, 1.0, 1.0, 0.0, 1.0, 0.0, 1.0, 0.0, 1.0, 1.0, 0.0, 1.0, 1.0, 0.0, 1.0, 1.0, 0.0, 0.0, 1.0, 1.0, 0.0, 1.0, 0.0, 1.0, 0.0, 1.0, 0.0, 0.0, 0.0, 1.0, 1.0, 1.0, 0.0, 1.0, 1.0, 1.0, 1.0, 0.0, 1.0, 1.0, 0.0, 1.0, 0.0, 0.0, 1.0, 1.0, 1.0, 1.0, 0.0, 0.0, 1.0, 0.0, 1.0, 1.0, 1.0, 1.0, 0.0, 1.0, 0.0, 1.0, 0.0, 0.0, 1.0, 1.0, 0.0, 0.0, 0.0, 0.0, 1.0, 1.0, 0.0, 0.0, 0.0, 0.0, 0.0, 1.0, 1.0, 1.0, 0.0, 0.0, 1.0, 0.0, 0.0, 0.0, 0.0, 0.0, 0.0, 1.0, 1.0, 1.0, 1.0, 1.0, 1.0, 0.0, 0.0, 1.0, 0.0, 1.0, 1.0, 0.0, 0.0, 0.0, 1.0, 1.0, 1.0, 1.0, 0.0, 1.0, 1.0, 0.0, 1.0, 0.0, 0.0, 0.0, 0.0, 1.0, 0.0, 1.0, 0.0, 1.0, 1.0, 1.0, 1.0, 0.0, 0.0, 0.0, 0.0, 0.0, 0.0, 0.0, 0.0, 0.0, 1.0, 0.0, 0.0, 0.0, 0.0, 0.0, 1.0, 0.0, 1.0, 0.0, 1.0, 1.0, 1.0, 1.0, 0.0, 1.0, 0.0, 0.0, 1.0, 1.0, 1.0, 1.0, 1.0, 0.0, 0.0, 0.0, 0.0, 1.0, 1.0, 0.0, 1.0, 0.0, 1.0, 1.0, 0.0, 1.0, 0.0, 1.0, 1.0, 1.0, 1.0, 0.0, 1.0, 1.0, 0.0, 1.0, 0.0, 0.0, 1.0, 1.0, 1.0, 0.0, 1.0, 0.0, 1.0, 0.0, 1.0, 1.0, 1.0, 1.0, 0.0, 0.0, 0.0, 1.0, 1.0, 1.0, 1.0, 0.0, 1.0, 1.0, 0.0, 1.0, 0.0, 0.0, 1.0, 0.0, 1.0, 0.0, 0.0, 1.0, 1.0, 1.0, 0.0, 0.0, 1.0, 1.0, 0.0, 0.0, 0.0, 0.0, 0.0, 1.0, 0.0, 1.0, 1.0, 1.0, 1.0, 1.0, 0.0, 0.0, 0.0, 0.0, 0.0, 1.0, 1.0, 1.0, 1.0, 1.0, 1.0, 1.0, 0.0, 0.0, 1.0, 1.0, 0.0, 1.0, 0.0, 1.0, 1.0, 1.0, 0.0, 1.0, 1.0, 1.0, 1.0, 1.0, 0.0, 1.0, 1.0, 1.0, 1.0, 1.0, 0.0, 1.0, 0.0, 0.0, 0.0, 1.0, 0.0, 0.0, 1.0, 1.0, 0.0, 1.0, 0.0, 0.0, 1.0, 0.0, 1.0, 1.0, 1.0, 0.0, 1.0, 1.0, 1.0, 0.0, 1.0, 0.0, 1.0, 0.0, 1.0, 1.0, 0.0, 1.0, 1.0, 1.0, 1.0, 0.0, 0.0, 0.0, 0.0, 0.0, 0.0, 1.0, 0.0, 0.0, 0.0, 1.0, 1.0, 1.0, 1.0, 1.0, 0.0, 1.0, 1.0, 1.0, 1.0, 0.0, 0.0, 1.0, 1.0, 1.0, 0.0, 1.0, 0.0, 1.0, 1.0, 1.0, 0.0, 0.0, 0.0, 1.0, 1.0, 0.0, 1.0, 0.0, 0.0, 0.0, 0.0, 1.0, 1.0, 1.0, 1.0, 1.0, 1.0, 1.0, 1.0, 1.0, 0.0, 1.0, 0.0, 0.0, 1.0, 0.0, 1.0, 1.0, 1.0, 1.0, 1.0, 0.0, 0.0, 0.0, 0.0, 1.0, 1.0, 0.0, 0.0, 0.0, 1.0, 0.0, 1.0, 1.0, 0.0, 1.0, 0.0, 1.0, 0.0, 1.0, 0.0, 1.0, 0.0, 0.0, 0.0, 0.0, 1.0, 1.0, 0.0, 0.0, 0.0, 1.0, 0.0, 0.0, 1.0, 1.0, 1.0, 1.0, 1.0, 0.0, 0.0, 1.0, 0.0, 1.0, 1.0, 1.0, 0.0, 0.0, 0.0, 1.0, 1.0, 1.0, 0.0, 1.0, 1.0, 1.0, 1.0, 0.0, 0.0, 1.0, 1.0, 1.0, 0.0, 0.0, 1.0, 1.0, 1.0, 0.0, 0.0, 0.0, 0.0, 1.0, 1.0, 0.0, 1.0, 1.0, 0.0, 0.0, 0.0, 1.0, 1.0, 1.0, 1.0, 0.0, 1.0, 0.0, 1.0, 0.0, 1.0, 1.0, 0.0, 0.0, 0.0, 0.0, 1.0, 1.0, 1.0, 1.0, 1.0, 0.0, 0.0, 1.0, 0.0, 0.0, 0.0, 1.0, 0.0, 0.0, 1.0, 0.0, 0.0, 1.0, 0.0, 1.0, 1.0, 0.0, 0.0, 1.0, 1.0, 1.0, 0.0, 1.0, 1.0, 0.0, 0.0, 0.0, 0.0, 1.0, 1.0, 1.0, 0.0, 0.0, 1.0, 1.0, 0.0, 1.0, 0.0, 1.0, 0.0, 1.0, 0.0, 0.0, 1.0, 1.0, 0.0, 1.0, 1.0, 0.0, 1.0, 1.0, 0.0, 1.0, 0.0, 1.0, 1.0, 0.0, 1.0, 0.0, 1.0, 0.0, 1.0, 1.0, 0.0, 0.0, 0.0, 1.0, 0.0, 1.0, 0.0, 0.0, 1.0, 0.0, 1.0, 1.0, 0.0, 1.0, 1.0, 1.0, 1.0, 0.0, 0.0, 1.0, 1.0, 0.0, 0.0, 1.0, 1.0, 0.0, 0.0, 0.0, 0.0, 1.0, 1.0, 1.0, 1.0, 1.0, 1.0, 0.0, 0.0, 1.0, 0.0, 1.0, 1.0, 0.0, 1.0, 1.0, 1.0, 0.0, 1.0, 1.0, 0.0, 1.0, 1.0, 1.0, 0.0, 0.0, 0.0, 0.0, 1.0, 0.0, 0.0, 0.0, 1.0, 0.0, 1.0, 1.0, 1.0, 1.0, 0.0, 0.0, 0.0, 0.0, 1.0, 0.0, 0.0, 1.0, 1.0, 1.0, 0.0, 1.0, 0.0, 0.0, 1.0, 0.0, 1.0, 1.0, 1.0, 0.0, 1.0, 1.0, 1.0, 0.0, 1.0, 1.0, 1.0, 0.0, 0.0, 0.0, 1.0, 1.0, 0.0, 0.0, 1.0, 1.0, 0.0, 1.0, 0.0, 1.0, 0.0, 0.0, 0.0, 0.0, 0.0, 1.0, 1.0, 0.0, 1.0, 0.0, 1.0, 1.0, 0.0, 1.0, 0.0, 0.0, 1.0, 0.0, 1.0, 1.0, 1.0, 0.0, 0.0, 0.0, 0.0, 0.0, 0.0, 1.0, 1.0, 0.0, 1.0, 0.0, 0.0, 1.0, 1.0, 1.0, 1.0, 0.0, 1.0, 0.0, 0.0, 1.0, 0.0, 0.0, 1.0, 1.0, 0.0, 0.0, 0.0, 1.0, 1.0, 1.0, 1.0, 0.0, 1.0, 0.0, 1.0, 1.0, 0.0, 0.0, 0.0, 0.0, 0.0, 1.0, 1.0, 0.0, 1.0, 1.0, 1.0, 0.0, 0.0, 1.0, 1.0, 1.0, 1.0, 1.0, 1.0, 1.0, 1.0, 1.0, 0.0, 1.0, 0.0, 0.0, 0.0, 0.0, 1.0, 0.0, 1.0, 0.0, 1.0, 0.0, 1.0, 1.0, 1.0, 0.0, 1.0, 1.0, 0.0, 0.0, 0.0, 1.0, 0.0, 1.0, 0.0, 1.0, 1.0, 0.0, 0.0, 1.0, 1.0, 0.0, 0.0, 1.0, 0.0, 1.0, 1.0, 1.0, 0.0, 1.0, 1.0, 0.0, 1.0, 1.0, 1.0, 1.0, 0.0, 0.0, 1.0, 0.0, 1.0, 1.0, 1.0, 1.0, 1.0, 0.0, 0.0, 0.0, 1.0, 1.0, 1.0, 0.0, 1.0, 0.0, 0.0, 0.0, 0.0, 0.0, 0.0, 1.0, 1.0, 0.0, 0.0, 1.0, 0.0, 0.0, 1.0, 1.0, 1.0, 1.0, 1.0, 1.0, 0.0, 0.0, 0.0, 1.0, 0.0, 1.0, 1.0, 1.0, 0.0, 0.0, 0.0, 0.0, 0.0, 1.0, 0.0, 0.0, 0.0, 0.0, 1.0, 1.0, 1.0, 0.0, 0.0, 1.0, 0.0, 0.0, 1.0, 0.0, 0.0, 1.0, 0.0, 1.0, 1.0, 1.0, 1.0, 0.0, 1.0, 0.0, 1.0, 0.0, 1.0, 0.0, 1.0, 1.0, 0.0, 0.0, 1.0, 0.0, 1.0, 1.0, 1.0, 0.0, 0.0, 1.0, 1.0, 1.0, 0.0, 0.0, 1.0, 1.0, 0.0, 0.0, 1.0, 1.0, 0.0, 1.0, 1.0, 1.0, 0.0, 0.0, 1.0, 1.0, 0.0, 1.0, 1.0, 0.0, 1.0, 1.0, 1.0, 1.0, 0.0, 0.0, 0.0, 1.0, 1.0, 1.0, 0.0, 0.0, 0.0, 1.0, 0.0, 0.0, 1.0, 1.0, 1.0, 1.0, 1.0, 0.0, 0.0, 1.0, 1.0, 0.0, 1.0, 0.0, 0.0, 1.0, 0.0, 1.0, 1.0, 0.0, 1.0, 0.0, 1.0, 0.0, 0.0, 1.0, 1.0, 1.0, 1.0, 0.0, 0.0, 1.0, 0.0, 0.0], 'tour_cost': 8776603.463473124, 'packing_plan_cost': 951808.0}),\n",
       " struct({'tour': [31, 214, 236, 241, 166, 47, 198, 116, 78, 201, 173, 40, 153, 66, 7, 1, 84, 157, 262, 98, 24, 151, 271, 112, 215, 247, 172, 275, 204, 102, 272, 279, 233, 221, 253, 132, 196, 197, 193, 57, 178, 71, 45, 229, 216, 3, 55, 64, 136, 177, 110, 42, 109, 144, 65, 121, 96, 137, 202, 169, 238, 156, 76, 8, 245, 114, 148, 36, 9, 225, 224, 88, 69, 53, 130, 129, 22, 82, 15, 250, 139, 243, 37, 93, 147, 159, 85, 171, 117, 181, 258, 266, 276, 10, 163, 154, 265, 135, 97, 2, 23, 269, 111, 199, 38, 33, 278, 11, 189, 212, 240, 108, 146, 122, 89, 68, 152, 210, 79, 273, 90, 186, 87, 73, 145, 107, 232, 161, 126, 222, 160, 260, 249, 16, 106, 235, 185, 257, 231, 100, 195, 237, 49, 183, 277, 60, 164, 30, 119, 35, 46, 70, 142, 18, 248, 128, 99, 95, 165, 209, 213, 21, 115, 263, 77, 80, 220, 20, 255, 184, 162, 191, 52, 125, 39, 267, 6, 155, 179, 261, 72, 118, 104, 182, 180, 19, 25, 176, 218, 274, 43, 131, 92, 0, 219, 14, 228, 86, 63, 127, 50, 207, 123, 13, 234, 175, 174, 230, 34, 94, 140, 17, 133, 259, 168, 5, 217, 203, 28, 101, 83, 252, 58, 75, 120, 187, 105, 12, 51, 167, 254, 91, 67, 27, 206, 188, 26, 223, 59, 4, 62, 56, 192, 200, 103, 134, 270, 141, 61, 54, 138, 256, 44, 190, 41, 251, 149, 81, 208, 242, 29, 194, 268, 143, 113, 244, 227, 246, 170, 205, 48, 32, 150, 211, 158, 226, 239, 264, 74, 124], 'packing_plan': [1.0, 0.0, 1.0, 0.0, 0.0, 0.0, 1.0, 1.0, 0.0, 0.0, 0.0, 1.0, 0.0, 0.0, 1.0, 0.0, 1.0, 1.0, 0.0, 0.0, 1.0, 0.0, 1.0, 0.0, 0.0, 0.0, 1.0, 0.0, 0.0, 1.0, 0.0, 0.0, 1.0, 0.0, 0.0, 1.0, 0.0, 0.0, 0.0, 0.0, 1.0, 1.0, 0.0, 0.0, 1.0, 0.0, 0.0, 1.0, 0.0, 0.0, 1.0, 0.0, 1.0, 1.0, 0.0, 0.0, 0.0, 0.0, 1.0, 0.0, 0.0, 0.0, 1.0, 0.0, 1.0, 0.0, 0.0, 0.0, 0.0, 0.0, 0.0, 0.0, 1.0, 1.0, 1.0, 0.0, 1.0, 0.0, 0.0, 0.0, 0.0, 0.0, 1.0, 0.0, 0.0, 0.0, 1.0, 1.0, 0.0, 0.0, 0.0, 0.0, 0.0, 0.0, 0.0, 0.0, 1.0, 0.0, 0.0, 0.0, 0.0, 1.0, 0.0, 0.0, 0.0, 1.0, 0.0, 1.0, 0.0, 1.0, 0.0, 0.0, 1.0, 1.0, 0.0, 0.0, 1.0, 0.0, 0.0, 1.0, 0.0, 0.0, 0.0, 0.0, 1.0, 1.0, 0.0, 0.0, 1.0, 0.0, 0.0, 1.0, 0.0, 0.0, 0.0, 1.0, 0.0, 1.0, 0.0, 1.0, 1.0, 1.0, 0.0, 0.0, 1.0, 0.0, 0.0, 0.0, 0.0, 0.0, 0.0, 1.0, 1.0, 0.0, 0.0, 1.0, 0.0, 1.0, 0.0, 1.0, 1.0, 0.0, 0.0, 1.0, 0.0, 1.0, 0.0, 1.0, 0.0, 0.0, 1.0, 1.0, 1.0, 0.0, 0.0, 1.0, 0.0, 0.0, 0.0, 1.0, 1.0, 1.0, 0.0, 0.0, 0.0, 1.0, 0.0, 0.0, 0.0, 0.0, 0.0, 1.0, 0.0, 0.0, 0.0, 0.0, 0.0, 1.0, 1.0, 0.0, 0.0, 0.0, 0.0, 0.0, 1.0, 1.0, 0.0, 1.0, 1.0, 1.0, 0.0, 0.0, 0.0, 0.0, 0.0, 0.0, 0.0, 1.0, 1.0, 0.0, 0.0, 0.0, 0.0, 1.0, 0.0, 0.0, 1.0, 0.0, 0.0, 0.0, 0.0, 1.0, 0.0, 0.0, 0.0, 0.0, 0.0, 0.0, 0.0, 0.0, 1.0, 0.0, 0.0, 0.0, 0.0, 1.0, 0.0, 0.0, 0.0, 1.0, 0.0, 1.0, 0.0, 0.0, 1.0, 0.0, 1.0, 0.0, 0.0, 0.0, 1.0, 1.0, 0.0, 0.0, 0.0, 0.0, 0.0, 0.0, 0.0, 0.0, 1.0, 0.0, 1.0, 0.0, 1.0, 1.0, 1.0, 0.0, 1.0, 1.0, 0.0, 0.0, 0.0, 1.0, 1.0, 0.0, 0.0, 1.0, 0.0, 1.0, 0.0, 0.0, 1.0, 0.0, 1.0, 0.0, 1.0, 0.0, 0.0, 1.0, 0.0, 1.0, 0.0, 0.0, 1.0, 1.0, 1.0, 0.0, 0.0, 0.0, 1.0, 0.0, 0.0, 0.0, 1.0, 1.0, 0.0, 1.0, 0.0, 0.0, 0.0, 1.0, 0.0, 0.0, 0.0, 0.0, 1.0, 0.0, 0.0, 1.0, 0.0, 0.0, 0.0, 1.0, 1.0, 0.0, 0.0, 1.0, 0.0, 0.0, 0.0, 1.0, 0.0, 1.0, 1.0, 0.0, 0.0, 0.0, 0.0, 1.0, 0.0, 0.0, 1.0, 0.0, 0.0, 0.0, 1.0, 1.0, 0.0, 0.0, 0.0, 1.0, 0.0, 0.0, 1.0, 0.0, 1.0, 1.0, 0.0, 1.0, 1.0, 0.0, 1.0, 1.0, 0.0, 1.0, 1.0, 1.0, 0.0, 1.0, 1.0, 1.0, 1.0, 0.0, 0.0, 1.0, 1.0, 0.0, 1.0, 0.0, 0.0, 0.0, 0.0, 0.0, 1.0, 1.0, 1.0, 0.0, 1.0, 1.0, 0.0, 0.0, 1.0, 0.0, 0.0, 0.0, 0.0, 0.0, 1.0, 1.0, 1.0, 1.0, 1.0, 1.0, 0.0, 0.0, 1.0, 0.0, 0.0, 0.0, 1.0, 0.0, 1.0, 0.0, 0.0, 0.0, 1.0, 0.0, 0.0, 0.0, 1.0, 0.0, 1.0, 0.0, 0.0, 0.0, 1.0, 1.0, 0.0, 1.0, 1.0, 1.0, 0.0, 1.0, 0.0, 0.0, 0.0, 0.0, 1.0, 1.0, 0.0, 1.0, 0.0, 0.0, 0.0, 0.0, 1.0, 1.0, 1.0, 0.0, 1.0, 1.0, 1.0, 1.0, 0.0, 1.0, 0.0, 0.0, 1.0, 0.0, 0.0, 1.0, 0.0, 1.0, 1.0, 0.0, 0.0, 1.0, 1.0, 0.0, 0.0, 0.0, 0.0, 0.0, 0.0, 1.0, 0.0, 1.0, 1.0, 0.0, 1.0, 1.0, 0.0, 0.0, 1.0, 0.0, 1.0, 1.0, 0.0, 1.0, 1.0, 0.0, 1.0, 1.0, 0.0, 1.0, 0.0, 0.0, 1.0, 0.0, 1.0, 0.0, 1.0, 0.0, 1.0, 0.0, 1.0, 0.0, 1.0, 0.0, 1.0, 1.0, 0.0, 1.0, 0.0, 1.0, 0.0, 0.0, 0.0, 0.0, 0.0, 0.0, 0.0, 0.0, 0.0, 1.0, 1.0, 1.0, 0.0, 1.0, 1.0, 0.0, 1.0, 1.0, 0.0, 0.0, 1.0, 0.0, 0.0, 0.0, 1.0, 0.0, 0.0, 0.0, 0.0, 1.0, 1.0, 1.0, 0.0, 0.0, 0.0, 1.0, 1.0, 0.0, 1.0, 0.0, 0.0, 0.0, 0.0, 1.0, 1.0, 0.0, 0.0, 0.0, 1.0, 1.0, 0.0, 1.0, 1.0, 0.0, 1.0, 0.0, 1.0, 0.0, 0.0, 1.0, 1.0, 1.0, 0.0, 0.0, 1.0, 1.0, 0.0, 1.0, 0.0, 0.0, 1.0, 0.0, 0.0, 0.0, 0.0, 0.0, 0.0, 1.0, 0.0, 0.0, 0.0, 1.0, 0.0, 0.0, 0.0, 0.0, 0.0, 1.0, 1.0, 0.0, 0.0, 0.0, 1.0, 0.0, 0.0, 0.0, 1.0, 0.0, 0.0, 0.0, 1.0, 0.0, 0.0, 0.0, 0.0, 1.0, 1.0, 0.0, 0.0, 0.0, 0.0, 0.0, 0.0, 0.0, 0.0, 0.0, 0.0, 1.0, 0.0, 1.0, 1.0, 0.0, 0.0, 0.0, 0.0, 1.0, 0.0, 0.0, 0.0, 1.0, 0.0, 1.0, 0.0, 0.0, 0.0, 0.0, 1.0, 0.0, 0.0, 0.0, 0.0, 1.0, 0.0, 1.0, 0.0, 0.0, 0.0, 1.0, 1.0, 1.0, 0.0, 0.0, 0.0, 0.0, 0.0, 0.0, 0.0, 1.0, 0.0, 0.0, 0.0, 0.0, 0.0, 0.0, 0.0, 0.0, 0.0, 1.0, 1.0, 0.0, 0.0, 1.0, 1.0, 1.0, 1.0, 0.0, 1.0, 0.0, 1.0, 0.0, 1.0, 1.0, 1.0, 1.0, 0.0, 1.0, 1.0, 0.0, 1.0, 1.0, 1.0, 1.0, 0.0, 0.0, 1.0, 1.0, 0.0, 0.0, 0.0, 0.0, 0.0, 0.0, 0.0, 0.0, 0.0, 0.0, 1.0, 0.0, 0.0, 1.0, 1.0, 0.0, 0.0, 1.0, 1.0, 1.0, 0.0, 0.0, 0.0, 1.0, 0.0, 0.0, 1.0, 0.0, 0.0, 1.0, 1.0, 1.0, 0.0, 1.0, 0.0, 0.0, 0.0, 1.0, 1.0, 1.0, 1.0, 0.0, 0.0, 1.0, 0.0, 0.0, 0.0, 0.0, 0.0, 1.0, 0.0, 0.0, 0.0, 0.0, 1.0, 1.0, 0.0, 0.0, 1.0, 0.0, 1.0, 1.0, 0.0, 1.0, 0.0, 1.0, 0.0, 0.0, 0.0, 1.0, 0.0, 0.0, 1.0, 0.0, 0.0, 0.0, 0.0, 1.0, 0.0, 0.0, 1.0, 1.0, 0.0, 1.0, 1.0, 0.0, 0.0, 0.0, 0.0, 0.0, 1.0, 0.0, 1.0, 0.0, 0.0, 0.0, 0.0, 0.0, 0.0, 0.0, 0.0, 0.0, 0.0, 0.0, 1.0, 1.0, 1.0, 0.0, 0.0, 1.0, 0.0, 0.0, 0.0, 1.0, 1.0, 0.0, 0.0, 0.0, 1.0, 0.0, 1.0, 1.0, 0.0, 1.0, 1.0, 1.0, 1.0, 1.0, 0.0, 0.0, 1.0, 1.0, 0.0, 1.0, 0.0, 0.0, 0.0, 1.0, 1.0, 0.0, 1.0, 0.0, 0.0, 1.0, 0.0, 0.0, 0.0, 0.0, 0.0, 1.0, 0.0, 1.0, 1.0, 1.0, 0.0, 0.0, 0.0, 1.0, 1.0, 0.0, 1.0, 0.0, 1.0, 0.0, 1.0, 0.0, 0.0, 1.0, 0.0, 1.0, 0.0, 1.0, 0.0, 0.0, 1.0, 0.0, 1.0, 0.0, 1.0, 1.0, 0.0, 0.0, 0.0, 0.0, 1.0, 0.0, 1.0, 0.0, 0.0, 0.0, 0.0, 1.0, 0.0, 0.0, 0.0, 0.0, 0.0, 0.0, 1.0, 1.0, 0.0, 1.0, 1.0, 0.0, 0.0, 0.0, 1.0, 1.0, 0.0, 0.0, 0.0, 0.0, 1.0, 0.0, 1.0, 1.0, 0.0, 0.0, 0.0, 0.0, 0.0, 1.0, 0.0, 0.0, 0.0, 0.0, 0.0, 0.0, 1.0, 0.0, 0.0, 0.0, 1.0, 1.0, 1.0, 0.0, 0.0, 1.0, 1.0, 0.0, 0.0, 1.0, 1.0, 0.0, 0.0, 1.0, 0.0, 0.0, 0.0, 0.0, 0.0, 0.0, 0.0, 0.0, 0.0, 0.0, 0.0, 1.0, 0.0, 0.0, 1.0, 0.0, 0.0, 1.0, 0.0, 1.0, 0.0, 1.0, 1.0, 1.0, 1.0, 0.0, 0.0, 1.0, 1.0, 1.0, 1.0, 0.0, 1.0, 1.0, 1.0, 0.0, 1.0, 1.0, 0.0, 1.0, 0.0, 1.0, 1.0, 1.0, 0.0, 0.0, 1.0, 1.0, 0.0, 0.0, 1.0, 0.0, 0.0, 0.0, 1.0, 0.0, 1.0, 1.0, 1.0, 1.0, 0.0, 0.0, 0.0, 0.0, 1.0, 1.0, 1.0, 1.0, 1.0, 0.0, 0.0, 1.0, 0.0, 0.0, 0.0, 1.0, 0.0, 1.0, 0.0, 1.0, 1.0, 0.0, 0.0, 0.0, 1.0, 1.0, 0.0, 0.0, 0.0, 1.0, 1.0, 0.0, 0.0, 0.0, 1.0, 0.0, 0.0, 1.0, 0.0, 0.0, 0.0, 1.0, 0.0, 0.0, 1.0, 0.0, 1.0, 0.0, 1.0, 0.0, 0.0, 0.0, 0.0, 1.0, 0.0, 0.0, 0.0, 0.0, 0.0, 1.0, 1.0, 0.0, 0.0, 1.0, 1.0, 0.0, 1.0, 0.0, 1.0, 1.0, 1.0, 1.0, 1.0, 0.0, 0.0, 1.0, 1.0, 0.0, 1.0, 1.0, 1.0, 0.0, 0.0, 1.0, 0.0, 0.0, 0.0, 0.0, 0.0, 1.0, 1.0, 1.0, 1.0, 0.0, 1.0, 1.0, 0.0, 1.0, 0.0, 0.0, 0.0, 0.0, 0.0, 0.0, 0.0, 0.0, 1.0, 0.0, 1.0, 0.0, 1.0, 0.0, 0.0, 0.0, 1.0, 0.0, 0.0, 1.0, 0.0, 0.0, 0.0, 0.0, 1.0, 0.0, 1.0, 0.0, 1.0, 1.0, 1.0, 1.0, 0.0, 1.0, 0.0, 0.0, 0.0, 1.0, 0.0, 0.0, 0.0, 0.0, 0.0, 1.0, 0.0, 0.0, 0.0, 1.0, 1.0, 1.0, 1.0, 1.0, 0.0, 0.0, 0.0, 1.0, 1.0, 0.0, 1.0, 0.0, 1.0, 1.0, 1.0, 1.0, 0.0, 0.0, 0.0, 1.0, 0.0, 0.0, 0.0, 1.0, 0.0, 1.0, 0.0, 1.0, 0.0, 0.0, 0.0, 0.0, 0.0, 0.0, 1.0, 1.0, 1.0, 0.0, 1.0, 0.0, 0.0, 0.0, 0.0, 1.0, 0.0, 0.0, 1.0, 0.0, 1.0, 0.0, 0.0, 0.0, 0.0, 0.0, 1.0, 1.0, 0.0, 0.0, 0.0, 1.0, 1.0, 0.0, 0.0, 1.0, 1.0, 0.0, 0.0, 0.0, 0.0, 0.0, 0.0, 1.0, 0.0, 1.0, 0.0, 0.0, 0.0, 0.0, 1.0, 0.0, 0.0, 1.0, 1.0, 0.0, 1.0, 0.0, 1.0, 1.0, 1.0, 0.0, 1.0, 0.0, 1.0, 0.0, 0.0, 1.0, 1.0, 1.0, 0.0, 1.0, 0.0, 0.0, 1.0, 0.0, 0.0, 1.0, 0.0, 0.0, 1.0, 1.0, 0.0, 0.0, 0.0, 0.0, 1.0, 0.0, 1.0, 1.0, 1.0, 0.0, 1.0, 0.0, 0.0, 1.0, 1.0, 0.0, 1.0, 0.0, 0.0, 1.0, 1.0, 1.0, 0.0, 0.0, 0.0, 1.0, 0.0, 1.0, 0.0, 0.0, 0.0, 0.0, 0.0, 0.0, 1.0, 1.0, 1.0, 0.0, 0.0, 0.0, 1.0, 1.0, 1.0, 1.0, 1.0, 0.0, 0.0, 1.0, 1.0, 1.0, 0.0, 0.0, 0.0, 0.0, 0.0, 0.0, 0.0, 0.0, 1.0, 1.0, 0.0, 0.0, 1.0, 0.0, 1.0, 0.0, 0.0, 0.0, 0.0, 1.0, 0.0, 0.0, 1.0, 0.0, 0.0, 1.0, 1.0, 1.0, 0.0, 0.0, 1.0, 0.0, 1.0, 1.0, 0.0, 1.0, 1.0, 1.0, 0.0, 1.0, 1.0, 0.0, 1.0, 0.0, 0.0, 0.0, 0.0, 1.0, 0.0, 1.0, 0.0, 0.0, 0.0, 0.0, 1.0, 0.0, 0.0, 0.0, 0.0, 1.0, 0.0, 0.0, 0.0, 0.0, 1.0, 0.0, 0.0, 0.0, 1.0, 1.0, 1.0, 0.0, 1.0, 1.0, 0.0, 0.0, 0.0, 1.0, 1.0, 0.0, 0.0, 0.0, 0.0, 1.0, 0.0, 1.0, 0.0, 0.0, 0.0, 1.0, 1.0, 0.0, 1.0, 1.0, 0.0, 1.0, 0.0, 0.0, 0.0, 0.0, 1.0, 0.0, 1.0, 1.0, 1.0, 1.0, 0.0, 0.0, 1.0, 0.0, 1.0, 0.0, 0.0, 1.0, 1.0, 0.0, 0.0, 0.0, 0.0, 1.0, 1.0, 1.0, 0.0, 0.0, 0.0, 1.0, 1.0, 1.0, 1.0, 1.0, 1.0, 0.0, 0.0, 0.0, 0.0, 0.0, 0.0, 1.0, 0.0, 0.0, 0.0, 1.0, 1.0, 0.0, 0.0, 0.0, 0.0, 0.0, 1.0, 0.0, 1.0, 0.0, 1.0, 0.0, 1.0, 0.0, 0.0, 0.0, 0.0, 0.0, 1.0, 0.0, 0.0, 0.0, 0.0, 1.0, 0.0, 0.0, 0.0, 1.0, 0.0, 0.0, 0.0, 0.0, 0.0, 0.0, 0.0, 1.0, 1.0, 1.0, 1.0, 1.0, 0.0, 1.0, 0.0, 0.0, 0.0, 1.0, 1.0, 0.0, 0.0, 0.0, 1.0, 0.0, 0.0, 1.0, 0.0, 0.0, 1.0, 1.0, 0.0, 1.0, 0.0, 0.0, 0.0, 0.0, 1.0, 0.0, 1.0, 0.0, 0.0, 1.0, 0.0, 0.0, 0.0, 0.0, 0.0, 1.0, 1.0, 1.0, 1.0, 1.0, 1.0, 0.0, 0.0, 1.0, 0.0, 0.0, 0.0, 1.0, 1.0, 1.0, 0.0, 1.0, 1.0, 0.0, 0.0, 1.0, 0.0, 0.0, 0.0, 0.0, 1.0, 0.0, 1.0, 0.0, 0.0, 0.0, 1.0, 0.0, 0.0, 1.0, 0.0, 0.0, 0.0, 1.0, 1.0, 1.0, 0.0, 1.0, 1.0, 1.0, 0.0, 0.0, 0.0, 0.0, 0.0, 0.0, 1.0, 0.0, 0.0, 1.0, 0.0, 1.0, 0.0, 1.0, 1.0, 1.0, 0.0, 1.0, 1.0, 0.0, 0.0, 0.0, 1.0, 1.0, 1.0, 0.0, 0.0, 0.0, 0.0, 0.0, 0.0, 1.0, 0.0, 1.0, 1.0, 0.0, 0.0, 0.0, 1.0, 1.0, 0.0, 0.0, 0.0, 0.0, 1.0, 1.0, 1.0, 0.0, 1.0, 0.0, 1.0, 0.0, 1.0, 0.0, 1.0, 1.0, 1.0, 0.0, 1.0, 1.0, 0.0, 1.0, 0.0, 1.0, 1.0, 0.0, 1.0, 1.0, 1.0, 1.0, 0.0, 1.0, 0.0, 0.0, 0.0, 0.0, 1.0, 0.0, 1.0, 1.0, 0.0, 0.0, 0.0, 1.0, 0.0, 0.0, 1.0, 0.0, 0.0, 1.0, 1.0, 0.0, 1.0, 0.0, 1.0, 0.0, 0.0, 1.0, 0.0, 0.0, 1.0, 1.0, 1.0, 0.0, 1.0, 0.0, 0.0, 1.0, 0.0, 0.0, 0.0, 0.0, 0.0, 0.0, 0.0, 0.0, 0.0, 1.0, 0.0, 1.0, 0.0, 0.0, 0.0, 1.0, 1.0, 0.0, 0.0, 0.0, 1.0, 1.0, 1.0, 1.0, 0.0, 0.0, 1.0, 0.0, 0.0, 0.0, 0.0, 1.0, 0.0, 0.0, 1.0, 1.0, 1.0, 0.0, 0.0, 1.0, 0.0, 0.0, 0.0, 1.0, 0.0, 1.0, 0.0, 1.0, 0.0, 0.0, 0.0, 0.0, 0.0, 1.0, 0.0, 0.0, 1.0, 1.0, 0.0, 1.0, 1.0, 0.0, 1.0, 0.0, 1.0, 1.0, 1.0, 1.0, 0.0, 0.0, 1.0, 0.0, 1.0, 0.0, 0.0, 1.0, 1.0, 1.0, 1.0, 1.0, 1.0, 0.0, 1.0, 1.0, 1.0, 0.0, 0.0, 0.0, 0.0, 1.0, 0.0, 1.0, 0.0, 0.0, 1.0, 0.0, 1.0, 0.0, 1.0, 0.0, 0.0, 0.0, 1.0, 1.0, 0.0, 0.0, 0.0, 1.0, 1.0, 0.0, 1.0, 1.0, 0.0, 0.0, 1.0, 1.0, 0.0, 0.0, 0.0, 1.0, 1.0, 0.0, 0.0, 0.0, 0.0, 1.0, 0.0, 1.0, 0.0, 1.0, 0.0, 0.0, 1.0, 0.0, 0.0, 0.0, 0.0, 0.0, 1.0, 0.0, 0.0, 0.0, 0.0, 0.0, 0.0, 0.0, 1.0, 0.0, 0.0, 0.0, 0.0, 1.0, 1.0, 0.0, 1.0, 0.0, 1.0, 0.0, 0.0, 0.0, 0.0, 0.0, 0.0, 0.0, 1.0, 0.0, 0.0, 1.0, 1.0, 0.0, 0.0, 1.0, 1.0, 0.0, 0.0, 0.0, 1.0, 0.0, 0.0, 0.0, 1.0, 0.0, 0.0, 1.0, 1.0, 0.0, 0.0, 0.0, 0.0, 0.0, 0.0, 1.0, 0.0, 1.0, 0.0, 0.0, 0.0, 1.0, 0.0, 0.0, 0.0, 1.0, 0.0, 1.0, 0.0, 1.0, 1.0, 0.0, 0.0, 0.0, 1.0, 1.0, 0.0, 1.0, 0.0, 0.0, 1.0, 1.0, 1.0, 1.0, 0.0, 0.0, 1.0, 0.0, 0.0, 1.0, 1.0, 1.0, 0.0, 0.0, 0.0, 1.0, 0.0, 0.0, 1.0, 1.0, 0.0, 0.0, 0.0, 0.0, 1.0, 1.0, 0.0, 0.0, 0.0, 0.0, 0.0, 1.0, 1.0, 0.0, 0.0, 0.0, 1.0, 0.0, 0.0, 0.0, 0.0, 0.0, 0.0, 1.0, 0.0, 1.0, 1.0, 1.0, 1.0, 0.0, 0.0, 1.0, 0.0, 1.0, 1.0, 0.0, 0.0, 0.0, 1.0, 0.0, 1.0, 1.0, 0.0, 0.0, 1.0, 0.0, 0.0, 0.0, 0.0, 0.0, 0.0, 1.0, 0.0, 1.0, 0.0, 1.0, 1.0, 1.0, 0.0, 0.0, 0.0, 0.0, 0.0, 0.0, 0.0, 0.0, 0.0, 0.0, 1.0, 0.0, 0.0, 0.0, 0.0, 0.0, 0.0, 0.0, 1.0, 0.0, 1.0, 1.0, 0.0, 1.0, 0.0, 0.0, 0.0, 0.0, 1.0, 1.0, 1.0, 1.0, 0.0, 0.0, 0.0, 0.0, 0.0, 1.0, 0.0, 0.0, 1.0, 0.0, 1.0, 1.0, 0.0, 1.0, 0.0, 1.0, 1.0, 1.0, 1.0, 0.0, 1.0, 1.0, 0.0, 1.0, 0.0, 0.0, 1.0, 1.0, 1.0, 0.0, 1.0, 0.0, 1.0, 0.0, 0.0, 1.0, 1.0, 1.0, 0.0, 0.0, 0.0, 0.0, 1.0, 0.0, 1.0, 0.0, 1.0, 1.0, 0.0, 1.0, 0.0, 0.0, 1.0, 0.0, 1.0, 0.0, 0.0, 1.0, 1.0, 1.0, 0.0, 0.0, 1.0, 1.0, 0.0, 0.0, 0.0, 0.0, 0.0, 1.0, 0.0, 1.0, 1.0, 1.0, 1.0, 0.0, 0.0, 0.0, 0.0, 0.0, 0.0, 1.0, 1.0, 1.0, 1.0, 0.0, 1.0, 0.0, 0.0, 0.0, 1.0, 1.0, 0.0, 1.0, 0.0, 0.0, 1.0, 1.0, 0.0, 0.0, 1.0, 1.0, 0.0, 1.0, 0.0, 1.0, 1.0, 1.0, 1.0, 1.0, 0.0, 1.0, 0.0, 0.0, 0.0, 1.0, 0.0, 0.0, 1.0, 1.0, 0.0, 1.0, 0.0, 0.0, 1.0, 0.0, 1.0, 1.0, 0.0, 0.0, 1.0, 1.0, 0.0, 0.0, 1.0, 0.0, 1.0, 0.0, 0.0, 1.0, 0.0, 1.0, 1.0, 1.0, 1.0, 0.0, 0.0, 0.0, 0.0, 0.0, 0.0, 0.0, 0.0, 0.0, 0.0, 0.0, 0.0, 1.0, 1.0, 1.0, 0.0, 1.0, 0.0, 0.0, 1.0, 0.0, 0.0, 1.0, 1.0, 1.0, 0.0, 1.0, 0.0, 1.0, 1.0, 1.0, 0.0, 0.0, 0.0, 1.0, 0.0, 0.0, 1.0, 0.0, 0.0, 0.0, 0.0, 1.0, 1.0, 1.0, 1.0, 1.0, 0.0, 1.0, 1.0, 0.0, 0.0, 1.0, 0.0, 0.0, 1.0, 0.0, 1.0, 1.0, 1.0, 1.0, 1.0, 0.0, 0.0, 0.0, 0.0, 1.0, 1.0, 0.0, 0.0, 0.0, 1.0, 0.0, 0.0, 1.0, 0.0, 1.0, 0.0, 1.0, 0.0, 1.0, 0.0, 1.0, 0.0, 0.0, 0.0, 0.0, 1.0, 1.0, 0.0, 0.0, 0.0, 1.0, 0.0, 0.0, 1.0, 1.0, 1.0, 1.0, 0.0, 0.0, 0.0, 1.0, 0.0, 1.0, 1.0, 1.0, 0.0, 0.0, 0.0, 1.0, 1.0, 0.0, 0.0, 0.0, 1.0, 1.0, 1.0, 0.0, 0.0, 1.0, 0.0, 0.0, 0.0, 0.0, 1.0, 1.0, 1.0, 0.0, 0.0, 0.0, 0.0, 1.0, 1.0, 0.0, 0.0, 1.0, 0.0, 0.0, 0.0, 1.0, 0.0, 1.0, 1.0, 0.0, 1.0, 0.0, 1.0, 0.0, 1.0, 1.0, 0.0, 0.0, 0.0, 0.0, 1.0, 1.0, 1.0, 0.0, 1.0, 0.0, 0.0, 1.0, 0.0, 0.0, 0.0, 1.0, 0.0, 0.0, 1.0, 0.0, 0.0, 1.0, 0.0, 1.0, 0.0, 0.0, 0.0, 1.0, 1.0, 1.0, 0.0, 1.0, 1.0, 0.0, 0.0, 0.0, 0.0, 1.0, 1.0, 1.0, 0.0, 0.0, 0.0, 1.0, 0.0, 1.0, 0.0, 1.0, 0.0, 1.0, 0.0, 0.0, 1.0, 1.0, 0.0, 1.0, 1.0, 0.0, 1.0, 1.0, 0.0, 1.0, 0.0, 0.0, 1.0, 0.0, 1.0, 0.0, 1.0, 0.0, 1.0, 1.0, 0.0, 0.0, 0.0, 1.0, 0.0, 1.0, 0.0, 0.0, 1.0, 0.0, 0.0, 1.0, 0.0, 1.0, 1.0, 1.0, 1.0, 0.0, 0.0, 1.0, 1.0, 0.0, 0.0, 1.0, 1.0, 0.0, 0.0, 0.0, 0.0, 1.0, 0.0, 1.0, 1.0, 1.0, 1.0, 0.0, 0.0, 1.0, 0.0, 1.0, 0.0, 0.0, 0.0, 1.0, 1.0, 0.0, 0.0, 0.0, 0.0, 1.0, 0.0, 0.0, 0.0, 0.0, 0.0, 0.0, 1.0, 0.0, 0.0, 0.0, 1.0, 0.0, 0.0, 1.0, 0.0, 1.0, 0.0, 0.0, 0.0, 0.0, 1.0, 0.0, 0.0, 1.0, 1.0, 1.0, 0.0, 1.0, 0.0, 0.0, 1.0, 0.0, 1.0, 1.0, 1.0, 0.0, 1.0, 1.0, 1.0, 0.0, 1.0, 1.0, 1.0, 0.0, 0.0, 0.0, 0.0, 1.0, 0.0, 0.0, 1.0, 1.0, 0.0, 1.0, 0.0, 1.0, 0.0, 0.0, 0.0, 0.0, 0.0, 1.0, 1.0, 0.0, 1.0, 0.0, 1.0, 0.0, 0.0, 1.0, 0.0, 0.0, 1.0, 0.0, 1.0, 1.0, 1.0, 0.0, 0.0, 0.0, 0.0, 0.0, 0.0, 1.0, 1.0, 0.0, 1.0, 0.0, 0.0, 1.0, 1.0, 1.0, 1.0, 0.0, 1.0, 0.0, 0.0, 1.0, 0.0, 0.0, 0.0, 0.0, 0.0, 0.0, 0.0, 0.0, 1.0, 0.0, 1.0, 0.0, 1.0, 0.0, 1.0, 1.0, 0.0, 0.0, 0.0, 0.0, 0.0, 1.0, 1.0, 0.0, 1.0, 0.0, 1.0, 0.0, 0.0, 1.0, 0.0, 1.0, 1.0, 1.0, 1.0, 1.0, 1.0, 1.0, 0.0, 1.0, 0.0, 0.0, 0.0, 0.0, 0.0, 0.0, 1.0, 0.0, 1.0, 0.0, 0.0, 1.0, 1.0, 0.0, 1.0, 1.0, 0.0, 0.0, 0.0, 1.0, 0.0, 1.0, 0.0, 0.0, 1.0, 0.0, 0.0, 1.0, 1.0, 0.0, 0.0, 1.0, 0.0, 1.0, 1.0, 1.0, 0.0, 1.0, 1.0, 0.0, 1.0, 1.0, 1.0, 1.0, 0.0, 0.0, 0.0, 0.0, 1.0, 1.0, 1.0, 1.0, 0.0, 0.0, 0.0, 0.0, 1.0, 1.0, 1.0, 0.0, 0.0, 0.0, 0.0, 0.0, 0.0, 0.0, 0.0, 1.0, 1.0, 0.0, 0.0, 1.0, 0.0, 0.0, 1.0, 1.0, 1.0, 0.0, 1.0, 1.0, 0.0, 0.0, 0.0, 1.0, 0.0, 1.0, 1.0, 1.0, 0.0, 0.0, 0.0, 0.0, 0.0, 1.0, 0.0, 0.0, 0.0, 0.0, 1.0, 0.0, 0.0, 0.0, 0.0, 1.0, 0.0, 0.0, 1.0, 0.0, 0.0, 1.0, 0.0, 1.0, 1.0, 0.0, 1.0, 0.0, 1.0, 0.0, 1.0, 0.0, 1.0, 0.0, 1.0, 1.0, 0.0, 0.0, 0.0, 0.0, 1.0, 0.0, 1.0, 0.0, 0.0, 0.0, 1.0, 1.0, 0.0, 0.0, 0.0, 1.0, 0.0, 0.0, 1.0, 1.0, 0.0, 1.0, 1.0, 1.0, 0.0, 0.0, 1.0, 1.0, 0.0, 0.0, 0.0, 0.0, 1.0, 1.0, 0.0, 1.0, 0.0, 0.0, 0.0, 1.0, 0.0, 1.0, 0.0, 0.0, 0.0, 1.0, 0.0, 0.0, 1.0, 1.0, 1.0, 1.0, 1.0, 0.0, 0.0, 1.0, 1.0, 0.0, 1.0, 0.0, 0.0, 1.0, 0.0, 1.0, 1.0, 0.0, 1.0, 0.0, 1.0, 0.0, 0.0, 0.0, 1.0, 1.0, 1.0, 0.0, 0.0, 1.0, 0.0, 0.0], 'tour_cost': 8031618.9228769215, 'packing_plan_cost': 756031.0})]"
      ]
     },
     "execution_count": 31,
     "metadata": {},
     "output_type": "execute_result"
    }
   ],
   "source": [
    "evaled_pop = []\n",
    "i = 0\n",
    "for candidate_solution in init_pop:\n",
    "    evaluate_candidate_solution_cost_pdist(candidate_solution,\n",
    "                                     a280_n1395[\"pairwise_distances\"],\n",
    "                                     a280_n1395[\"item_to_city_mapping_dict\"],\n",
    "                                     a280_n1395[\"item_weights\"],\n",
    "                                     a280_n1395[\"item_values\"],\n",
    "                                     a280_n1395[\"v_max\"],\n",
    "                                     a280_n1395[\"v_min\"],\n",
    "                                     a280_n1395[\"Q\"],\n",
    "                                     a280_n1395[\"R\"])\n",
    "    i += 1 \n",
    "    evaled_pop.append(candidate_solution)\n",
    "evaled_pop"
   ]
  },
  {
   "cell_type": "code",
   "execution_count": 32,
   "metadata": {},
   "outputs": [],
   "source": [
    "c1, c2 = OX1_tour_crossover(init_pop[0], init_pop[1])"
   ]
  },
  {
   "cell_type": "code",
   "execution_count": 33,
   "metadata": {},
   "outputs": [
    {
     "data": {
      "text/plain": [
       "[struct({'tour': [221, 129, 227, 135, 153, 96, 243, 175, 161, 230, 261, 214, 279, 70, 118, 247, 22, 199, 144, 139, 170, 116, 103, 217, 48, 1, 80, 191, 165, 8, 210, 169, 107, 72, 255, 145, 81, 11, 134, 100, 163, 79, 124, 31, 41, 74, 34, 32, 49, 52, 132, 75, 142, 91, 151, 222, 71, 178, 140, 206, 110, 204, 0, 155, 263, 251, 265, 260, 250, 198, 158, 213, 88, 136, 76, 236, 241, 166, 47, 78, 201, 173, 40, 66, 7, 84, 157, 262, 98, 24, 271, 112, 215, 172, 275, 102, 272, 233, 253, 196, 197, 193, 57, 45, 229, 216, 3, 55, 64, 177, 42, 109, 65, 121, 137, 202, 238, 156, 245, 114, 148, 36, 9, 225, 224, 69, 53, 130, 82, 15, 37, 93, 147, 159, 85, 171, 117, 181, 258, 266, 276, 10, 154, 97, 2, 23, 269, 111, 38, 33, 278, 189, 212, 240, 108, 146, 122, 89, 68, 152, 273, 90, 186, 87, 73, 232, 126, 160, 249, 16, 106, 235, 185, 257, 231, 195, 237, 183, 277, 60, 164, 30, 119, 35, 46, 18, 248, 128, 99, 95, 209, 21, 115, 77, 220, 20, 184, 162, 125, 39, 267, 6, 179, 104, 182, 180, 19, 25, 176, 218, 274, 43, 131, 92, 219, 14, 228, 86, 63, 127, 50, 207, 123, 13, 234, 174, 94, 17, 133, 259, 168, 5, 203, 28, 101, 83, 252, 58, 120, 187, 105, 12, 51, 167, 254, 67, 27, 188, 26, 223, 59, 4, 62, 56, 192, 200, 270, 141, 61, 54, 138, 256, 44, 190, 149, 208, 242, 29, 194, 268, 143, 113, 244, 246, 205, 150, 211, 226, 239, 264], 'packing_plan': [1.0, 0.0, 1.0, 0.0, 0.0, 0.0, 1.0, 1.0, 0.0, 1.0, 1.0, 1.0, 0.0, 0.0, 1.0, 1.0, 1.0, 1.0, 0.0, 0.0, 1.0, 0.0, 1.0, 1.0, 1.0, 0.0, 1.0, 0.0, 1.0, 1.0, 1.0, 0.0, 1.0, 0.0, 0.0, 1.0, 0.0, 0.0, 0.0, 0.0, 1.0, 1.0, 0.0, 0.0, 1.0, 0.0, 0.0, 1.0, 0.0, 0.0, 1.0, 0.0, 1.0, 1.0, 0.0, 0.0, 0.0, 0.0, 1.0, 0.0, 1.0, 1.0, 1.0, 0.0, 1.0, 0.0, 0.0, 0.0, 0.0, 0.0, 1.0, 1.0, 1.0, 1.0, 1.0, 0.0, 1.0, 0.0, 0.0, 1.0, 0.0, 0.0, 1.0, 0.0, 0.0, 1.0, 1.0, 1.0, 0.0, 0.0, 0.0, 0.0, 0.0, 1.0, 0.0, 0.0, 1.0, 0.0, 0.0, 1.0, 0.0, 1.0, 1.0, 1.0, 1.0, 1.0, 0.0, 1.0, 0.0, 1.0, 0.0, 0.0, 1.0, 1.0, 0.0, 0.0, 1.0, 0.0, 0.0, 1.0, 0.0, 1.0, 0.0, 1.0, 1.0, 1.0, 0.0, 0.0, 1.0, 0.0, 0.0, 1.0, 0.0, 1.0, 1.0, 1.0, 1.0, 1.0, 0.0, 1.0, 1.0, 1.0, 0.0, 0.0, 1.0, 0.0, 0.0, 0.0, 0.0, 0.0, 0.0, 1.0, 1.0, 0.0, 0.0, 1.0, 0.0, 1.0, 0.0, 1.0, 1.0, 0.0, 1.0, 1.0, 0.0, 1.0, 1.0, 1.0, 0.0, 0.0, 1.0, 1.0, 1.0, 1.0, 0.0, 1.0, 0.0, 0.0, 0.0, 1.0, 1.0, 1.0, 0.0, 0.0, 0.0, 1.0, 0.0, 0.0, 1.0, 0.0, 0.0, 1.0, 1.0, 1.0, 0.0, 1.0, 0.0, 1.0, 1.0, 0.0, 0.0, 0.0, 0.0, 0.0, 1.0, 1.0, 0.0, 1.0, 1.0, 1.0, 0.0, 0.0, 0.0, 0.0, 0.0, 0.0, 0.0, 1.0, 1.0, 0.0, 0.0, 0.0, 0.0, 1.0, 0.0, 0.0, 1.0, 0.0, 0.0, 1.0, 0.0, 1.0, 0.0, 0.0, 0.0, 0.0, 0.0, 0.0, 0.0, 0.0, 1.0, 0.0, 0.0, 0.0, 0.0, 1.0, 0.0, 0.0, 1.0, 1.0, 0.0, 1.0, 0.0, 0.0, 1.0, 0.0, 1.0, 0.0, 1.0, 1.0, 1.0, 1.0, 1.0, 1.0, 0.0, 0.0, 0.0, 0.0, 0.0, 0.0, 1.0, 0.0, 1.0, 1.0, 1.0, 1.0, 1.0, 0.0, 1.0, 1.0, 0.0, 1.0, 0.0, 1.0, 1.0, 0.0, 0.0, 1.0, 0.0, 1.0, 1.0, 0.0, 1.0, 0.0, 1.0, 1.0, 1.0, 0.0, 0.0, 1.0, 1.0, 1.0, 0.0, 0.0, 1.0, 1.0, 1.0, 0.0, 1.0, 0.0, 1.0, 0.0, 1.0, 0.0, 1.0, 1.0, 0.0, 1.0, 0.0, 0.0, 0.0, 1.0, 0.0, 0.0, 0.0, 0.0, 1.0, 0.0, 1.0, 1.0, 0.0, 0.0, 0.0, 1.0, 1.0, 0.0, 0.0, 1.0, 1.0, 0.0, 0.0, 1.0, 1.0, 1.0, 1.0, 0.0, 0.0, 0.0, 0.0, 1.0, 0.0, 0.0, 1.0, 0.0, 1.0, 0.0, 1.0, 1.0, 0.0, 1.0, 0.0, 1.0, 0.0, 0.0, 1.0, 0.0, 1.0, 1.0, 0.0, 1.0, 1.0, 0.0, 1.0, 1.0, 1.0, 1.0, 1.0, 1.0, 0.0, 1.0, 1.0, 1.0, 1.0, 0.0, 0.0, 1.0, 1.0, 1.0, 1.0, 0.0, 0.0, 0.0, 0.0, 0.0, 1.0, 1.0, 1.0, 0.0, 1.0, 1.0, 0.0, 0.0, 1.0, 0.0, 0.0, 1.0, 0.0, 1.0, 1.0, 1.0, 1.0, 1.0, 1.0, 1.0, 0.0, 0.0, 1.0, 0.0, 0.0, 0.0, 1.0, 0.0, 1.0, 0.0, 0.0, 0.0, 1.0, 1.0, 1.0, 0.0, 1.0, 1.0, 1.0, 0.0, 0.0, 0.0, 1.0, 1.0, 0.0, 1.0, 1.0, 1.0, 0.0, 1.0, 0.0, 0.0, 1.0, 1.0, 1.0, 1.0, 0.0, 1.0, 0.0, 0.0, 0.0, 1.0, 1.0, 1.0, 1.0, 0.0, 1.0, 1.0, 1.0, 1.0, 0.0, 1.0, 0.0, 0.0, 1.0, 0.0, 0.0, 1.0, 0.0, 1.0, 1.0, 0.0, 0.0, 1.0, 1.0, 1.0, 0.0, 1.0, 0.0, 0.0, 0.0, 1.0, 0.0, 1.0, 1.0, 1.0, 1.0, 1.0, 0.0, 1.0, 1.0, 0.0, 1.0, 1.0, 0.0, 1.0, 1.0, 0.0, 1.0, 1.0, 0.0, 1.0, 0.0, 0.0, 1.0, 1.0, 1.0, 0.0, 1.0, 0.0, 1.0, 0.0, 1.0, 0.0, 1.0, 0.0, 1.0, 1.0, 0.0, 1.0, 0.0, 1.0, 0.0, 0.0, 0.0, 0.0, 1.0, 0.0, 0.0, 0.0, 0.0, 1.0, 1.0, 1.0, 1.0, 1.0, 1.0, 0.0, 1.0, 1.0, 0.0, 1.0, 1.0, 1.0, 0.0, 0.0, 1.0, 0.0, 0.0, 1.0, 0.0, 1.0, 1.0, 1.0, 0.0, 0.0, 0.0, 1.0, 1.0, 0.0, 1.0, 0.0, 0.0, 1.0, 0.0, 1.0, 1.0, 1.0, 0.0, 1.0, 1.0, 1.0, 0.0, 1.0, 1.0, 1.0, 1.0, 0.0, 1.0, 0.0, 0.0, 1.0, 1.0, 1.0, 0.0, 0.0, 1.0, 1.0, 0.0, 1.0, 0.0, 0.0, 1.0, 0.0, 0.0, 0.0, 1.0, 1.0, 0.0, 1.0, 0.0, 0.0, 0.0, 1.0, 1.0, 0.0, 0.0, 0.0, 0.0, 1.0, 1.0, 0.0, 1.0, 0.0, 1.0, 0.0, 0.0, 0.0, 1.0, 0.0, 0.0, 0.0, 1.0, 1.0, 0.0, 0.0, 0.0, 1.0, 1.0, 0.0, 0.0, 0.0, 0.0, 0.0, 1.0, 0.0, 1.0, 0.0, 0.0, 1.0, 0.0, 1.0, 1.0, 0.0, 0.0, 0.0, 0.0, 1.0, 0.0, 0.0, 0.0, 1.0, 0.0, 1.0, 1.0, 0.0, 0.0, 0.0, 1.0, 1.0, 1.0, 0.0, 0.0, 1.0, 0.0, 1.0, 0.0, 0.0, 1.0, 1.0, 1.0, 1.0, 0.0, 0.0, 0.0, 1.0, 1.0, 0.0, 0.0, 1.0, 0.0, 0.0, 0.0, 0.0, 0.0, 0.0, 1.0, 0.0, 0.0, 1.0, 1.0, 0.0, 0.0, 1.0, 1.0, 1.0, 1.0, 0.0, 1.0, 0.0, 1.0, 0.0, 1.0, 1.0, 1.0, 1.0, 0.0, 1.0, 1.0, 0.0, 1.0, 1.0, 1.0, 1.0, 0.0, 0.0, 1.0, 1.0, 0.0, 0.0, 0.0, 0.0, 0.0, 0.0, 0.0, 0.0, 0.0, 0.0, 1.0, 0.0, 0.0, 1.0, 1.0, 0.0, 0.0, 1.0, 1.0, 1.0, 0.0, 0.0, 0.0, 1.0, 0.0, 0.0, 1.0, 0.0, 0.0, 1.0, 1.0, 1.0, 0.0, 1.0, 1.0, 0.0, 0.0, 1.0, 1.0, 1.0, 1.0, 1.0, 0.0, 1.0, 0.0, 1.0, 0.0, 0.0, 1.0, 1.0, 0.0, 1.0, 1.0, 0.0, 1.0, 1.0, 0.0, 0.0, 1.0, 0.0, 1.0, 1.0, 0.0, 1.0, 1.0, 1.0, 0.0, 0.0, 0.0, 1.0, 0.0, 0.0, 1.0, 0.0, 0.0, 0.0, 0.0, 1.0, 0.0, 0.0, 1.0, 1.0, 0.0, 1.0, 1.0, 0.0, 0.0, 0.0, 1.0, 0.0, 1.0, 0.0, 1.0, 0.0, 0.0, 0.0, 0.0, 0.0, 0.0, 0.0, 0.0, 0.0, 1.0, 0.0, 1.0, 1.0, 1.0, 0.0, 0.0, 1.0, 0.0, 0.0, 0.0, 1.0, 1.0, 0.0, 1.0, 0.0, 1.0, 0.0, 1.0, 1.0, 1.0, 1.0, 1.0, 1.0, 1.0, 1.0, 0.0, 0.0, 1.0, 1.0, 0.0, 1.0, 0.0, 0.0, 1.0, 1.0, 1.0, 0.0, 1.0, 0.0, 0.0, 1.0, 0.0, 0.0, 0.0, 0.0, 0.0, 1.0, 0.0, 1.0, 1.0, 1.0, 0.0, 0.0, 1.0, 1.0, 1.0, 0.0, 1.0, 0.0, 1.0, 0.0, 1.0, 0.0, 1.0, 1.0, 0.0, 1.0, 0.0, 1.0, 0.0, 0.0, 1.0, 0.0, 1.0, 0.0, 1.0, 1.0, 0.0, 0.0, 1.0, 0.0, 1.0, 0.0, 1.0, 0.0, 0.0, 0.0, 0.0, 1.0, 1.0, 0.0, 0.0, 0.0, 0.0, 1.0, 1.0, 1.0, 0.0, 1.0, 1.0, 0.0, 1.0, 1.0, 1.0, 1.0, 1.0, 0.0, 0.0, 0.0, 1.0, 0.0, 1.0, 1.0, 0.0, 0.0, 0.0, 0.0, 1.0, 1.0, 0.0, 0.0, 0.0, 0.0, 1.0, 0.0, 1.0, 1.0, 0.0, 0.0, 1.0, 1.0, 1.0, 0.0, 0.0, 1.0, 1.0, 0.0, 0.0, 1.0, 1.0, 0.0, 1.0, 1.0, 0.0, 0.0, 1.0, 0.0, 0.0, 0.0, 0.0, 0.0, 0.0, 0.0, 0.0, 1.0, 0.0, 1.0, 1.0, 0.0, 1.0, 1.0, 0.0, 1.0, 0.0, 1.0, 1.0, 1.0, 1.0, 0.0, 0.0, 1.0, 1.0, 1.0, 1.0, 0.0, 1.0, 1.0, 1.0, 1.0, 1.0, 1.0, 0.0, 1.0, 0.0, 1.0, 1.0, 1.0, 0.0, 0.0, 1.0, 1.0, 0.0, 0.0, 1.0, 0.0, 0.0, 0.0, 1.0, 0.0, 1.0, 1.0, 1.0, 1.0, 0.0, 0.0, 1.0, 0.0, 1.0, 1.0, 1.0, 1.0, 1.0, 0.0, 0.0, 1.0, 0.0, 0.0, 0.0, 1.0, 0.0, 1.0, 0.0, 1.0, 1.0, 0.0, 0.0, 0.0, 1.0, 1.0, 1.0, 0.0, 0.0, 1.0, 1.0, 0.0, 1.0, 0.0, 1.0, 0.0, 0.0, 1.0, 0.0, 0.0, 0.0, 1.0, 0.0, 0.0, 1.0, 0.0, 1.0, 0.0, 1.0, 1.0, 0.0, 0.0, 0.0, 1.0, 0.0, 0.0, 0.0, 1.0, 1.0, 1.0, 1.0, 1.0, 0.0, 1.0, 1.0, 0.0, 1.0, 0.0, 1.0, 1.0, 1.0, 1.0, 1.0, 0.0, 0.0, 1.0, 1.0, 0.0, 1.0, 1.0, 1.0, 0.0, 0.0, 1.0, 0.0, 0.0, 0.0, 0.0, 0.0, 1.0, 1.0, 1.0, 1.0, 0.0, 1.0, 1.0, 0.0, 1.0, 0.0, 1.0, 1.0, 0.0, 0.0, 0.0, 0.0, 0.0, 1.0, 0.0, 1.0, 0.0, 1.0, 0.0, 0.0, 0.0, 1.0, 0.0, 1.0, 1.0, 0.0, 1.0, 0.0, 0.0, 1.0, 0.0, 1.0, 0.0, 1.0, 1.0, 1.0, 1.0, 0.0, 1.0, 0.0, 0.0, 0.0, 1.0, 0.0, 0.0, 0.0, 0.0, 0.0, 1.0, 0.0, 1.0, 1.0, 1.0, 1.0, 1.0, 1.0, 1.0, 0.0, 0.0, 1.0, 1.0, 1.0, 0.0, 1.0, 0.0, 1.0, 1.0, 1.0, 1.0, 0.0, 0.0, 0.0, 1.0, 0.0, 0.0, 0.0, 1.0, 0.0, 1.0, 1.0, 1.0, 0.0, 0.0, 0.0, 0.0, 0.0, 0.0, 1.0, 1.0, 1.0, 0.0, 1.0, 0.0, 0.0, 0.0, 0.0, 1.0, 0.0, 0.0, 1.0, 0.0, 1.0, 0.0, 1.0, 0.0, 0.0, 1.0, 1.0, 1.0, 0.0, 0.0, 0.0, 1.0, 1.0, 1.0, 0.0, 1.0, 1.0, 0.0, 1.0, 0.0, 0.0, 0.0, 1.0, 1.0, 0.0, 1.0, 0.0, 0.0, 0.0, 0.0, 1.0, 0.0, 0.0, 1.0, 1.0, 0.0, 1.0, 0.0, 1.0, 1.0, 1.0, 1.0, 1.0, 0.0, 1.0, 0.0, 0.0, 1.0, 1.0, 1.0, 0.0, 1.0, 0.0, 0.0, 1.0, 0.0, 1.0, 1.0, 0.0, 1.0, 1.0, 1.0, 0.0, 0.0, 0.0, 0.0, 1.0, 1.0, 1.0, 1.0, 1.0, 0.0, 1.0, 1.0, 0.0, 1.0, 1.0, 0.0, 1.0, 0.0, 0.0, 1.0, 1.0, 1.0, 1.0, 0.0, 0.0, 1.0, 0.0, 1.0, 0.0, 0.0, 0.0, 1.0, 0.0, 0.0, 1.0, 1.0, 1.0, 0.0, 0.0, 0.0, 1.0, 1.0, 1.0, 1.0, 1.0, 0.0, 0.0, 1.0, 1.0, 1.0, 0.0, 0.0, 1.0, 0.0, 0.0, 0.0, 1.0, 0.0, 1.0, 1.0, 0.0, 0.0, 1.0, 0.0, 1.0, 0.0, 0.0, 0.0, 1.0, 1.0, 0.0, 0.0, 1.0, 1.0, 0.0, 1.0, 1.0, 1.0, 1.0, 0.0, 1.0, 0.0, 1.0, 1.0, 0.0, 1.0, 1.0, 1.0, 0.0, 1.0, 1.0, 1.0, 1.0, 1.0, 1.0, 0.0, 0.0, 1.0, 0.0, 1.0, 1.0, 0.0, 0.0, 0.0, 1.0, 0.0, 0.0, 1.0, 0.0, 1.0, 0.0, 0.0, 1.0, 1.0, 1.0, 1.0, 0.0, 0.0, 1.0, 1.0, 1.0, 0.0, 1.0, 1.0, 0.0, 0.0, 0.0, 1.0, 1.0, 0.0, 0.0, 0.0, 0.0, 1.0, 1.0, 1.0, 1.0, 0.0, 0.0, 1.0, 1.0, 0.0, 1.0, 1.0, 0.0, 1.0, 0.0, 0.0, 0.0, 0.0, 1.0, 1.0, 1.0, 1.0, 1.0, 1.0, 0.0, 0.0, 1.0, 0.0, 1.0, 0.0, 0.0, 1.0, 1.0, 0.0, 0.0, 0.0, 0.0, 1.0, 1.0, 1.0, 0.0, 0.0, 1.0, 1.0, 1.0, 1.0, 1.0, 1.0, 1.0, 1.0, 0.0, 0.0, 0.0, 0.0, 0.0, 1.0, 0.0, 0.0, 0.0, 1.0, 1.0, 0.0, 0.0, 0.0, 0.0, 1.0, 1.0, 0.0, 1.0, 0.0, 1.0, 0.0, 1.0, 1.0, 0.0, 0.0, 0.0, 0.0, 1.0, 0.0, 0.0, 0.0, 0.0, 1.0, 0.0, 1.0, 0.0, 1.0, 0.0, 0.0, 1.0, 0.0, 1.0, 0.0, 0.0, 1.0, 1.0, 1.0, 1.0, 1.0, 0.0, 1.0, 0.0, 1.0, 1.0, 1.0, 1.0, 0.0, 0.0, 0.0, 1.0, 0.0, 1.0, 1.0, 1.0, 1.0, 1.0, 1.0, 0.0, 1.0, 0.0, 0.0, 0.0, 0.0, 1.0, 0.0, 1.0, 1.0, 0.0, 1.0, 0.0, 0.0, 0.0, 0.0, 1.0, 1.0, 1.0, 1.0, 1.0, 1.0, 1.0, 0.0, 0.0, 1.0, 0.0, 0.0, 0.0, 1.0, 1.0, 1.0, 0.0, 1.0, 1.0, 0.0, 1.0, 1.0, 0.0, 0.0, 0.0, 0.0, 1.0, 0.0, 1.0, 0.0, 0.0, 0.0, 1.0, 0.0, 0.0, 1.0, 0.0, 0.0, 0.0, 1.0, 1.0, 1.0, 0.0, 1.0, 1.0, 1.0, 0.0, 0.0, 0.0, 0.0, 0.0, 0.0, 1.0, 0.0, 0.0, 1.0, 0.0, 1.0, 0.0, 1.0, 1.0, 1.0, 0.0, 1.0, 1.0, 0.0, 0.0, 0.0, 1.0, 1.0, 1.0, 0.0, 1.0, 0.0, 0.0, 1.0, 0.0, 1.0, 0.0, 1.0, 1.0, 0.0, 0.0, 1.0, 1.0, 1.0, 0.0, 0.0, 0.0, 0.0, 1.0, 1.0, 1.0, 0.0, 1.0, 0.0, 1.0, 0.0, 1.0, 0.0, 1.0, 1.0, 1.0, 0.0, 1.0, 1.0, 0.0, 1.0, 0.0, 1.0, 1.0, 0.0, 1.0, 1.0, 1.0, 1.0, 0.0, 1.0, 0.0, 0.0, 0.0, 0.0, 1.0, 0.0, 1.0, 1.0, 1.0, 0.0, 1.0, 1.0, 0.0, 0.0, 1.0, 0.0, 0.0, 1.0, 1.0, 0.0, 1.0, 0.0, 1.0, 1.0, 0.0, 1.0, 0.0, 1.0, 1.0, 1.0, 1.0, 0.0, 1.0, 0.0, 0.0, 1.0, 0.0, 0.0, 0.0, 0.0, 0.0, 0.0, 0.0, 1.0, 0.0, 1.0, 0.0, 1.0, 1.0, 1.0, 0.0, 1.0, 1.0, 0.0, 0.0, 0.0, 1.0, 1.0, 1.0, 1.0, 0.0, 1.0, 1.0, 0.0, 0.0, 0.0, 0.0, 1.0, 0.0, 0.0, 1.0, 1.0, 1.0, 0.0, 0.0, 1.0, 0.0, 0.0, 0.0, 1.0, 0.0, 1.0, 0.0, 1.0, 0.0, 0.0, 0.0, 0.0, 1.0, 1.0, 0.0, 0.0, 1.0, 1.0, 0.0, 1.0, 1.0, 0.0, 1.0, 0.0, 1.0, 1.0, 1.0, 1.0, 0.0, 0.0, 1.0, 1.0, 1.0, 0.0, 1.0, 1.0, 1.0, 1.0, 1.0, 1.0, 1.0, 0.0, 1.0, 1.0, 1.0, 0.0, 0.0, 1.0, 0.0, 1.0, 0.0, 1.0, 0.0, 1.0, 1.0, 1.0, 1.0, 0.0, 1.0, 0.0, 0.0, 0.0, 1.0, 1.0, 0.0, 0.0, 1.0, 1.0, 1.0, 0.0, 1.0, 1.0, 0.0, 0.0, 1.0, 1.0, 0.0, 1.0, 0.0, 1.0, 1.0, 0.0, 0.0, 0.0, 1.0, 1.0, 0.0, 1.0, 0.0, 1.0, 0.0, 0.0, 1.0, 0.0, 0.0, 0.0, 1.0, 0.0, 1.0, 0.0, 1.0, 1.0, 0.0, 0.0, 0.0, 0.0, 1.0, 0.0, 1.0, 1.0, 0.0, 1.0, 1.0, 0.0, 1.0, 0.0, 1.0, 0.0, 0.0, 1.0, 1.0, 0.0, 0.0, 0.0, 1.0, 0.0, 0.0, 1.0, 1.0, 1.0, 0.0, 1.0, 1.0, 1.0, 1.0, 0.0, 1.0, 0.0, 1.0, 0.0, 1.0, 1.0, 0.0, 1.0, 1.0, 0.0, 1.0, 1.0, 0.0, 0.0, 1.0, 1.0, 0.0, 1.0, 0.0, 1.0, 0.0, 1.0, 0.0, 0.0, 0.0, 1.0, 1.0, 1.0, 0.0, 1.0, 1.0, 1.0, 1.0, 0.0, 1.0, 1.0, 0.0, 1.0, 0.0, 0.0, 1.0, 1.0, 1.0, 1.0, 0.0, 0.0, 1.0, 0.0, 1.0, 1.0, 1.0, 1.0, 0.0, 1.0, 0.0, 1.0, 0.0, 0.0, 1.0, 1.0, 0.0, 0.0, 0.0, 0.0, 1.0, 1.0, 0.0, 0.0, 0.0, 0.0, 0.0, 1.0, 1.0, 1.0, 0.0, 0.0, 1.0, 0.0, 0.0, 0.0, 0.0, 0.0, 0.0, 1.0, 1.0, 1.0, 1.0, 1.0, 1.0, 0.0, 0.0, 1.0, 0.0, 1.0, 1.0, 0.0, 0.0, 0.0, 1.0, 1.0, 1.0, 1.0, 0.0, 1.0, 1.0, 0.0, 1.0, 0.0, 0.0, 0.0, 0.0, 1.0, 0.0, 1.0, 0.0, 1.0, 1.0, 1.0, 1.0, 0.0, 0.0, 0.0, 0.0, 0.0, 0.0, 0.0, 0.0, 0.0, 1.0, 0.0, 0.0, 0.0, 0.0, 0.0, 1.0, 0.0, 1.0, 0.0, 1.0, 1.0, 1.0, 1.0, 0.0, 1.0, 0.0, 0.0, 1.0, 1.0, 1.0, 1.0, 1.0, 0.0, 0.0, 0.0, 0.0, 1.0, 1.0, 0.0, 1.0, 0.0, 1.0, 1.0, 0.0, 1.0, 0.0, 1.0, 1.0, 1.0, 1.0, 0.0, 1.0, 1.0, 0.0, 1.0, 0.0, 0.0, 1.0, 1.0, 1.0, 0.0, 1.0, 0.0, 1.0, 0.0, 1.0, 1.0, 1.0, 1.0, 0.0, 0.0, 0.0, 1.0, 1.0, 1.0, 1.0, 0.0, 1.0, 1.0, 0.0, 1.0, 0.0, 0.0, 1.0, 0.0, 1.0, 0.0, 0.0, 1.0, 1.0, 1.0, 0.0, 0.0, 1.0, 1.0, 0.0, 0.0, 0.0, 0.0, 0.0, 1.0, 0.0, 1.0, 1.0, 1.0, 1.0, 1.0, 0.0, 0.0, 0.0, 0.0, 0.0, 1.0, 1.0, 1.0, 1.0, 1.0, 1.0, 1.0, 0.0, 0.0, 1.0, 1.0, 0.0, 1.0, 0.0, 1.0, 1.0, 1.0, 0.0, 1.0, 1.0, 1.0, 1.0, 1.0, 0.0, 1.0, 1.0, 1.0, 1.0, 1.0, 0.0, 1.0, 0.0, 0.0, 0.0, 1.0, 0.0, 0.0, 1.0, 1.0, 0.0, 1.0, 0.0, 0.0, 1.0, 0.0, 1.0, 1.0, 1.0, 0.0, 1.0, 1.0, 1.0, 0.0, 1.0, 0.0, 1.0, 0.0, 1.0, 1.0, 0.0, 1.0, 1.0, 1.0, 1.0, 0.0, 0.0, 0.0, 0.0, 0.0, 0.0, 1.0, 0.0, 0.0, 0.0, 1.0, 1.0, 1.0, 1.0, 1.0, 0.0, 1.0, 1.0, 1.0, 1.0, 0.0, 0.0, 1.0, 1.0, 1.0, 0.0, 1.0, 0.0, 1.0, 1.0, 1.0, 0.0, 0.0, 0.0, 1.0, 1.0, 0.0, 1.0, 0.0, 0.0, 0.0, 0.0, 1.0, 1.0, 1.0, 1.0, 1.0, 1.0, 1.0, 1.0, 1.0, 0.0, 1.0, 0.0, 0.0, 1.0, 0.0, 1.0, 1.0, 1.0, 1.0, 1.0, 0.0, 0.0, 0.0, 0.0, 1.0, 1.0, 0.0, 0.0, 0.0, 1.0, 0.0, 1.0, 1.0, 0.0, 1.0, 0.0, 1.0, 0.0, 1.0, 0.0, 1.0, 0.0, 0.0, 0.0, 0.0, 1.0, 1.0, 0.0, 0.0, 0.0, 1.0, 0.0, 0.0, 1.0, 1.0, 1.0, 1.0, 1.0, 0.0, 0.0, 1.0, 0.0, 1.0, 1.0, 1.0, 0.0, 0.0, 0.0, 1.0, 1.0, 1.0, 0.0, 1.0, 1.0, 1.0, 1.0, 0.0, 0.0, 1.0, 1.0, 1.0, 0.0, 0.0, 1.0, 1.0, 1.0, 0.0, 0.0, 0.0, 0.0, 1.0, 1.0, 0.0, 1.0, 1.0, 0.0, 0.0, 0.0, 1.0, 1.0, 1.0, 1.0, 0.0, 1.0, 0.0, 1.0, 0.0, 1.0, 1.0, 0.0, 0.0, 0.0, 0.0, 1.0, 1.0, 1.0, 1.0, 1.0, 0.0, 0.0, 1.0, 0.0, 0.0, 0.0, 1.0, 0.0, 0.0, 1.0, 0.0, 0.0, 1.0, 0.0, 1.0, 1.0, 0.0, 0.0, 1.0, 1.0, 1.0, 0.0, 1.0, 1.0, 0.0, 0.0, 0.0, 0.0, 1.0, 1.0, 1.0, 0.0, 0.0, 1.0, 1.0, 0.0, 1.0, 0.0, 1.0, 0.0, 1.0, 0.0, 0.0, 1.0, 1.0, 0.0, 1.0, 1.0, 0.0, 1.0, 1.0, 0.0, 1.0, 0.0, 1.0, 1.0, 0.0, 1.0, 0.0, 1.0, 0.0, 1.0, 1.0, 0.0, 0.0, 0.0, 1.0, 0.0, 1.0, 0.0, 0.0, 1.0, 0.0, 1.0, 1.0, 0.0, 1.0, 1.0, 1.0, 1.0, 0.0, 0.0, 1.0, 1.0, 0.0, 0.0, 1.0, 1.0, 0.0, 0.0, 0.0, 0.0, 1.0, 1.0, 1.0, 1.0, 1.0, 1.0, 0.0, 0.0, 1.0, 0.0, 1.0, 1.0, 0.0, 1.0, 1.0, 1.0, 0.0, 1.0, 1.0, 0.0, 1.0, 1.0, 1.0, 0.0, 0.0, 0.0, 0.0, 1.0, 0.0, 0.0, 0.0, 1.0, 0.0, 1.0, 1.0, 1.0, 1.0, 0.0, 0.0, 0.0, 0.0, 1.0, 0.0, 0.0, 1.0, 1.0, 1.0, 0.0, 1.0, 0.0, 0.0, 1.0, 0.0, 1.0, 1.0, 1.0, 0.0, 1.0, 1.0, 1.0, 0.0, 1.0, 1.0, 1.0, 0.0, 0.0, 0.0, 1.0, 1.0, 0.0, 0.0, 1.0, 1.0, 0.0, 1.0, 0.0, 1.0, 0.0, 0.0, 0.0, 0.0, 0.0, 1.0, 1.0, 0.0, 1.0, 0.0, 1.0, 1.0, 0.0, 1.0, 0.0, 0.0, 1.0, 0.0, 1.0, 1.0, 1.0, 0.0, 0.0, 0.0, 0.0, 0.0, 0.0, 1.0, 1.0, 0.0, 1.0, 0.0, 0.0, 1.0, 1.0, 1.0, 1.0, 0.0, 1.0, 0.0, 0.0, 1.0, 0.0, 0.0, 1.0, 1.0, 0.0, 0.0, 0.0, 1.0, 1.0, 1.0, 1.0, 0.0, 1.0, 0.0, 1.0, 1.0, 0.0, 0.0, 0.0, 0.0, 0.0, 1.0, 1.0, 0.0, 1.0, 1.0, 1.0, 0.0, 0.0, 1.0, 1.0, 1.0, 1.0, 1.0, 1.0, 1.0, 1.0, 1.0, 0.0, 1.0, 0.0, 0.0, 0.0, 0.0, 1.0, 0.0, 1.0, 0.0, 1.0, 0.0, 1.0, 1.0, 1.0, 0.0, 1.0, 1.0, 0.0, 0.0, 0.0, 1.0, 0.0, 1.0, 0.0, 1.0, 1.0, 0.0, 0.0, 1.0, 1.0, 0.0, 0.0, 1.0, 0.0, 1.0, 1.0, 1.0, 0.0, 1.0, 1.0, 0.0, 1.0, 1.0, 1.0, 1.0, 0.0, 0.0, 1.0, 0.0, 1.0, 1.0, 1.0, 1.0, 1.0, 0.0, 0.0, 0.0, 1.0, 1.0, 1.0, 0.0, 1.0, 0.0, 0.0, 0.0, 0.0, 0.0, 0.0, 1.0, 1.0, 0.0, 0.0, 1.0, 0.0, 0.0, 1.0, 1.0, 1.0, 1.0, 1.0, 1.0, 0.0, 0.0, 0.0, 1.0, 0.0, 1.0, 1.0, 1.0, 0.0, 0.0, 0.0, 0.0, 0.0, 1.0, 0.0, 0.0, 0.0, 0.0, 1.0, 1.0, 1.0, 0.0, 0.0, 1.0, 0.0, 0.0, 1.0, 0.0, 0.0, 1.0, 0.0, 1.0, 1.0, 1.0, 1.0, 0.0, 1.0, 0.0, 1.0, 0.0, 1.0, 0.0, 1.0, 1.0, 0.0, 0.0, 1.0, 0.0, 1.0, 1.0, 1.0, 0.0, 0.0, 1.0, 1.0, 1.0, 0.0, 0.0, 1.0, 1.0, 0.0, 0.0, 1.0, 1.0, 0.0, 1.0, 1.0, 1.0, 0.0, 0.0, 1.0, 1.0, 0.0, 1.0, 1.0, 0.0, 1.0, 1.0, 1.0, 1.0, 0.0, 0.0, 0.0, 1.0, 1.0, 1.0, 0.0, 0.0, 0.0, 1.0, 0.0, 0.0, 1.0, 1.0, 1.0, 1.0, 1.0, 0.0, 0.0, 1.0, 1.0, 0.0, 1.0, 0.0, 0.0, 1.0, 0.0, 1.0, 1.0, 0.0, 1.0, 0.0, 1.0, 0.0, 0.0, 1.0, 1.0, 1.0, 1.0, 0.0, 0.0, 1.0, 0.0, 0.0], 'tour_cost': 8662726.112123417, 'packing_plan_cost': 951808.0}),\n",
       " struct({'tour': [31, 214, 236, 241, 166, 47, 198, 116, 78, 201, 173, 40, 153, 66, 7, 1, 84, 157, 262, 98, 24, 151, 271, 112, 215, 247, 172, 275, 204, 102, 272, 279, 233, 221, 253, 132, 196, 197, 193, 57, 178, 71, 45, 229, 216, 3, 55, 64, 136, 177, 110, 42, 109, 144, 65, 121, 96, 137, 202, 169, 238, 156, 76, 8, 245, 114, 148, 36, 9, 225, 224, 88, 69, 53, 130, 129, 227, 135, 243, 175, 161, 230, 261, 70, 118, 22, 199, 139, 170, 103, 217, 48, 80, 191, 165, 210, 107, 72, 255, 145, 81, 11, 134, 100, 163, 79, 124, 41, 74, 34, 32, 49, 52, 75, 142, 91, 222, 140, 206, 0, 155, 263, 251, 265, 260, 250, 158, 213, 274, 154, 61, 43, 143, 147, 141, 131, 35, 93, 150, 240, 54, 86, 205, 268, 115, 82, 232, 248, 16, 183, 228, 29, 211, 111, 128, 186, 174, 164, 104, 97, 126, 239, 159, 26, 269, 120, 21, 258, 17, 14, 180, 256, 113, 60, 68, 207, 5, 181, 264, 212, 270, 246, 146, 18, 138, 28, 122, 278, 218, 44, 108, 106, 92, 235, 242, 133, 234, 257, 123, 149, 127, 189, 89, 249, 46, 237, 87, 176, 39, 219, 51, 4, 19, 231, 266, 125, 85, 20, 277, 273, 33, 179, 267, 37, 162, 2, 105, 95, 77, 73, 220, 13, 63, 117, 168, 182, 188, 187, 195, 10, 185, 223, 90, 167, 6, 62, 99, 226, 184, 59, 30, 58, 209, 27, 83, 194, 192, 25, 94, 119, 171, 259, 50, 15, 101, 252, 160, 254, 38, 200, 56, 67, 152, 276, 23, 203, 208, 12, 190, 244], 'packing_plan': [1.0, 0.0, 1.0, 0.0, 0.0, 0.0, 1.0, 1.0, 0.0, 0.0, 0.0, 1.0, 0.0, 0.0, 1.0, 0.0, 1.0, 1.0, 0.0, 0.0, 1.0, 0.0, 1.0, 0.0, 0.0, 0.0, 1.0, 0.0, 0.0, 1.0, 0.0, 0.0, 1.0, 0.0, 0.0, 1.0, 0.0, 0.0, 0.0, 0.0, 1.0, 1.0, 0.0, 0.0, 1.0, 0.0, 0.0, 1.0, 0.0, 0.0, 1.0, 0.0, 1.0, 1.0, 0.0, 0.0, 0.0, 0.0, 1.0, 0.0, 0.0, 0.0, 1.0, 0.0, 1.0, 0.0, 0.0, 0.0, 0.0, 0.0, 0.0, 0.0, 1.0, 1.0, 1.0, 0.0, 1.0, 0.0, 0.0, 0.0, 0.0, 0.0, 1.0, 0.0, 0.0, 0.0, 1.0, 1.0, 0.0, 0.0, 0.0, 0.0, 0.0, 0.0, 0.0, 0.0, 1.0, 0.0, 0.0, 0.0, 0.0, 1.0, 0.0, 0.0, 0.0, 1.0, 0.0, 1.0, 0.0, 1.0, 0.0, 0.0, 1.0, 1.0, 0.0, 0.0, 1.0, 0.0, 0.0, 1.0, 0.0, 0.0, 0.0, 0.0, 1.0, 1.0, 0.0, 0.0, 1.0, 0.0, 0.0, 1.0, 0.0, 0.0, 0.0, 1.0, 0.0, 1.0, 0.0, 1.0, 1.0, 1.0, 0.0, 0.0, 1.0, 0.0, 0.0, 0.0, 0.0, 0.0, 0.0, 1.0, 1.0, 0.0, 0.0, 1.0, 0.0, 1.0, 0.0, 1.0, 1.0, 0.0, 0.0, 1.0, 0.0, 1.0, 0.0, 1.0, 0.0, 0.0, 1.0, 1.0, 1.0, 0.0, 0.0, 1.0, 0.0, 0.0, 0.0, 1.0, 1.0, 1.0, 0.0, 0.0, 0.0, 1.0, 0.0, 0.0, 0.0, 0.0, 0.0, 1.0, 0.0, 0.0, 0.0, 0.0, 0.0, 1.0, 1.0, 0.0, 0.0, 0.0, 0.0, 0.0, 1.0, 1.0, 0.0, 1.0, 1.0, 1.0, 0.0, 0.0, 0.0, 0.0, 0.0, 0.0, 0.0, 1.0, 1.0, 0.0, 0.0, 0.0, 0.0, 1.0, 0.0, 0.0, 1.0, 0.0, 0.0, 0.0, 0.0, 1.0, 0.0, 0.0, 0.0, 0.0, 0.0, 0.0, 0.0, 0.0, 1.0, 0.0, 0.0, 0.0, 0.0, 1.0, 0.0, 0.0, 0.0, 1.0, 0.0, 1.0, 0.0, 0.0, 1.0, 0.0, 1.0, 0.0, 0.0, 0.0, 1.0, 1.0, 0.0, 0.0, 0.0, 0.0, 0.0, 0.0, 0.0, 0.0, 1.0, 0.0, 1.0, 0.0, 1.0, 1.0, 1.0, 0.0, 1.0, 1.0, 0.0, 0.0, 0.0, 1.0, 1.0, 0.0, 0.0, 1.0, 0.0, 1.0, 0.0, 0.0, 1.0, 0.0, 1.0, 0.0, 1.0, 0.0, 0.0, 1.0, 0.0, 1.0, 0.0, 0.0, 1.0, 1.0, 1.0, 0.0, 0.0, 0.0, 1.0, 0.0, 0.0, 0.0, 1.0, 1.0, 0.0, 1.0, 0.0, 0.0, 0.0, 1.0, 0.0, 0.0, 0.0, 0.0, 1.0, 0.0, 0.0, 1.0, 0.0, 0.0, 0.0, 1.0, 1.0, 0.0, 0.0, 1.0, 0.0, 0.0, 0.0, 1.0, 0.0, 1.0, 1.0, 0.0, 0.0, 0.0, 0.0, 1.0, 0.0, 0.0, 1.0, 0.0, 0.0, 0.0, 1.0, 1.0, 0.0, 0.0, 0.0, 1.0, 0.0, 0.0, 1.0, 0.0, 1.0, 1.0, 0.0, 1.0, 1.0, 0.0, 1.0, 1.0, 0.0, 1.0, 1.0, 1.0, 0.0, 1.0, 1.0, 1.0, 1.0, 0.0, 0.0, 1.0, 1.0, 0.0, 1.0, 0.0, 0.0, 0.0, 0.0, 0.0, 1.0, 1.0, 1.0, 0.0, 1.0, 1.0, 0.0, 0.0, 1.0, 0.0, 0.0, 0.0, 0.0, 0.0, 1.0, 1.0, 1.0, 1.0, 1.0, 1.0, 0.0, 0.0, 1.0, 0.0, 0.0, 0.0, 1.0, 0.0, 1.0, 0.0, 0.0, 0.0, 1.0, 0.0, 0.0, 0.0, 1.0, 0.0, 1.0, 0.0, 0.0, 0.0, 1.0, 1.0, 0.0, 1.0, 1.0, 1.0, 0.0, 1.0, 0.0, 0.0, 0.0, 0.0, 1.0, 1.0, 0.0, 1.0, 0.0, 0.0, 0.0, 0.0, 1.0, 1.0, 1.0, 0.0, 1.0, 1.0, 1.0, 1.0, 0.0, 1.0, 0.0, 0.0, 1.0, 0.0, 0.0, 1.0, 0.0, 1.0, 1.0, 0.0, 0.0, 1.0, 1.0, 0.0, 0.0, 0.0, 0.0, 0.0, 0.0, 1.0, 0.0, 1.0, 1.0, 0.0, 1.0, 1.0, 0.0, 0.0, 1.0, 0.0, 1.0, 1.0, 0.0, 1.0, 1.0, 0.0, 1.0, 1.0, 0.0, 1.0, 0.0, 0.0, 1.0, 0.0, 1.0, 0.0, 1.0, 0.0, 1.0, 0.0, 1.0, 0.0, 1.0, 0.0, 1.0, 1.0, 0.0, 1.0, 0.0, 1.0, 0.0, 0.0, 0.0, 0.0, 0.0, 0.0, 0.0, 0.0, 0.0, 1.0, 1.0, 1.0, 0.0, 1.0, 1.0, 0.0, 1.0, 1.0, 0.0, 0.0, 1.0, 0.0, 0.0, 0.0, 1.0, 0.0, 0.0, 0.0, 0.0, 1.0, 1.0, 1.0, 0.0, 0.0, 0.0, 1.0, 1.0, 0.0, 1.0, 0.0, 0.0, 0.0, 0.0, 1.0, 1.0, 0.0, 0.0, 0.0, 1.0, 1.0, 0.0, 1.0, 1.0, 0.0, 1.0, 0.0, 1.0, 0.0, 0.0, 1.0, 1.0, 1.0, 0.0, 0.0, 1.0, 1.0, 0.0, 1.0, 0.0, 0.0, 1.0, 0.0, 0.0, 0.0, 0.0, 0.0, 0.0, 1.0, 0.0, 0.0, 0.0, 1.0, 0.0, 0.0, 0.0, 0.0, 0.0, 1.0, 1.0, 0.0, 0.0, 0.0, 1.0, 0.0, 0.0, 0.0, 1.0, 0.0, 0.0, 0.0, 1.0, 0.0, 0.0, 0.0, 0.0, 1.0, 1.0, 0.0, 0.0, 0.0, 0.0, 0.0, 0.0, 0.0, 0.0, 0.0, 0.0, 1.0, 0.0, 1.0, 1.0, 0.0, 0.0, 0.0, 0.0, 1.0, 0.0, 0.0, 0.0, 1.0, 0.0, 1.0, 0.0, 0.0, 0.0, 0.0, 1.0, 0.0, 0.0, 0.0, 0.0, 1.0, 0.0, 1.0, 0.0, 0.0, 0.0, 1.0, 1.0, 1.0, 0.0, 0.0, 0.0, 0.0, 0.0, 0.0, 0.0, 1.0, 0.0, 0.0, 0.0, 0.0, 0.0, 0.0, 0.0, 0.0, 0.0, 1.0, 1.0, 0.0, 0.0, 1.0, 1.0, 1.0, 1.0, 0.0, 1.0, 0.0, 1.0, 0.0, 1.0, 1.0, 1.0, 1.0, 0.0, 1.0, 1.0, 0.0, 1.0, 1.0, 1.0, 1.0, 0.0, 0.0, 1.0, 1.0, 0.0, 0.0, 0.0, 0.0, 0.0, 0.0, 0.0, 0.0, 0.0, 0.0, 1.0, 0.0, 0.0, 1.0, 1.0, 0.0, 0.0, 1.0, 1.0, 1.0, 0.0, 0.0, 0.0, 1.0, 0.0, 0.0, 1.0, 0.0, 0.0, 1.0, 1.0, 1.0, 0.0, 1.0, 0.0, 0.0, 0.0, 1.0, 1.0, 1.0, 1.0, 0.0, 0.0, 1.0, 0.0, 0.0, 0.0, 0.0, 0.0, 1.0, 0.0, 0.0, 0.0, 0.0, 1.0, 1.0, 0.0, 0.0, 1.0, 0.0, 1.0, 1.0, 0.0, 1.0, 0.0, 1.0, 0.0, 0.0, 0.0, 1.0, 0.0, 0.0, 1.0, 0.0, 0.0, 0.0, 0.0, 1.0, 0.0, 0.0, 1.0, 1.0, 0.0, 1.0, 1.0, 0.0, 0.0, 0.0, 0.0, 0.0, 1.0, 0.0, 1.0, 0.0, 0.0, 0.0, 0.0, 0.0, 0.0, 0.0, 0.0, 0.0, 0.0, 0.0, 1.0, 1.0, 1.0, 0.0, 0.0, 1.0, 0.0, 0.0, 0.0, 1.0, 1.0, 0.0, 0.0, 0.0, 1.0, 0.0, 1.0, 1.0, 0.0, 1.0, 1.0, 1.0, 1.0, 1.0, 0.0, 0.0, 1.0, 1.0, 0.0, 1.0, 0.0, 0.0, 0.0, 1.0, 1.0, 0.0, 1.0, 0.0, 0.0, 1.0, 0.0, 0.0, 0.0, 0.0, 0.0, 1.0, 0.0, 1.0, 1.0, 1.0, 0.0, 0.0, 0.0, 1.0, 1.0, 0.0, 1.0, 0.0, 1.0, 0.0, 1.0, 0.0, 0.0, 1.0, 0.0, 1.0, 0.0, 1.0, 0.0, 0.0, 1.0, 0.0, 1.0, 0.0, 1.0, 1.0, 0.0, 0.0, 0.0, 0.0, 1.0, 0.0, 1.0, 0.0, 0.0, 0.0, 0.0, 1.0, 0.0, 0.0, 0.0, 0.0, 0.0, 0.0, 1.0, 1.0, 0.0, 1.0, 1.0, 0.0, 0.0, 0.0, 1.0, 1.0, 0.0, 0.0, 0.0, 0.0, 1.0, 0.0, 1.0, 1.0, 0.0, 0.0, 0.0, 0.0, 0.0, 1.0, 0.0, 0.0, 0.0, 0.0, 0.0, 0.0, 1.0, 0.0, 0.0, 0.0, 1.0, 1.0, 1.0, 0.0, 0.0, 1.0, 1.0, 0.0, 0.0, 1.0, 1.0, 0.0, 0.0, 1.0, 0.0, 0.0, 0.0, 0.0, 0.0, 0.0, 0.0, 0.0, 0.0, 0.0, 0.0, 1.0, 0.0, 0.0, 1.0, 0.0, 0.0, 1.0, 0.0, 1.0, 0.0, 1.0, 1.0, 1.0, 1.0, 0.0, 0.0, 1.0, 1.0, 1.0, 1.0, 0.0, 1.0, 1.0, 1.0, 0.0, 1.0, 1.0, 0.0, 1.0, 0.0, 1.0, 1.0, 1.0, 0.0, 0.0, 1.0, 1.0, 0.0, 0.0, 1.0, 0.0, 0.0, 0.0, 1.0, 0.0, 1.0, 1.0, 1.0, 1.0, 0.0, 0.0, 0.0, 0.0, 1.0, 1.0, 1.0, 1.0, 1.0, 0.0, 0.0, 1.0, 0.0, 0.0, 0.0, 1.0, 0.0, 1.0, 0.0, 1.0, 1.0, 0.0, 0.0, 0.0, 1.0, 1.0, 0.0, 0.0, 0.0, 1.0, 1.0, 0.0, 0.0, 0.0, 1.0, 0.0, 0.0, 1.0, 0.0, 0.0, 0.0, 1.0, 0.0, 0.0, 1.0, 0.0, 1.0, 0.0, 1.0, 0.0, 0.0, 0.0, 0.0, 1.0, 0.0, 0.0, 0.0, 0.0, 0.0, 1.0, 1.0, 0.0, 0.0, 1.0, 1.0, 0.0, 1.0, 0.0, 1.0, 1.0, 1.0, 1.0, 1.0, 0.0, 0.0, 1.0, 1.0, 0.0, 1.0, 1.0, 1.0, 0.0, 0.0, 1.0, 0.0, 0.0, 0.0, 0.0, 0.0, 1.0, 1.0, 1.0, 1.0, 0.0, 1.0, 1.0, 0.0, 1.0, 0.0, 0.0, 0.0, 0.0, 0.0, 0.0, 0.0, 0.0, 1.0, 0.0, 1.0, 0.0, 1.0, 0.0, 0.0, 0.0, 1.0, 0.0, 0.0, 1.0, 0.0, 0.0, 0.0, 0.0, 1.0, 0.0, 1.0, 0.0, 1.0, 1.0, 1.0, 1.0, 0.0, 1.0, 0.0, 0.0, 0.0, 1.0, 0.0, 0.0, 0.0, 0.0, 0.0, 1.0, 0.0, 0.0, 0.0, 1.0, 1.0, 1.0, 1.0, 1.0, 0.0, 0.0, 0.0, 1.0, 1.0, 0.0, 1.0, 0.0, 1.0, 1.0, 1.0, 1.0, 0.0, 0.0, 0.0, 1.0, 0.0, 0.0, 0.0, 1.0, 0.0, 1.0, 0.0, 1.0, 0.0, 0.0, 0.0, 0.0, 0.0, 0.0, 1.0, 1.0, 1.0, 0.0, 1.0, 0.0, 0.0, 0.0, 0.0, 1.0, 0.0, 0.0, 1.0, 0.0, 1.0, 0.0, 0.0, 0.0, 0.0, 0.0, 1.0, 1.0, 0.0, 0.0, 0.0, 1.0, 1.0, 0.0, 0.0, 1.0, 1.0, 0.0, 0.0, 0.0, 0.0, 0.0, 0.0, 1.0, 0.0, 1.0, 0.0, 0.0, 0.0, 0.0, 1.0, 0.0, 0.0, 1.0, 1.0, 0.0, 1.0, 0.0, 1.0, 1.0, 1.0, 0.0, 1.0, 0.0, 1.0, 0.0, 0.0, 1.0, 1.0, 1.0, 0.0, 1.0, 0.0, 0.0, 1.0, 0.0, 0.0, 1.0, 0.0, 0.0, 1.0, 1.0, 0.0, 0.0, 0.0, 0.0, 1.0, 0.0, 1.0, 1.0, 1.0, 0.0, 1.0, 0.0, 0.0, 1.0, 1.0, 0.0, 1.0, 0.0, 0.0, 1.0, 1.0, 1.0, 0.0, 0.0, 0.0, 1.0, 0.0, 1.0, 0.0, 0.0, 0.0, 0.0, 0.0, 0.0, 1.0, 1.0, 1.0, 0.0, 0.0, 0.0, 1.0, 1.0, 1.0, 1.0, 1.0, 0.0, 0.0, 1.0, 1.0, 1.0, 0.0, 0.0, 0.0, 0.0, 0.0, 0.0, 0.0, 0.0, 1.0, 1.0, 0.0, 0.0, 1.0, 0.0, 1.0, 0.0, 0.0, 0.0, 0.0, 1.0, 0.0, 0.0, 1.0, 0.0, 0.0, 1.0, 1.0, 1.0, 0.0, 0.0, 1.0, 0.0, 1.0, 1.0, 0.0, 1.0, 1.0, 1.0, 0.0, 1.0, 1.0, 0.0, 1.0, 0.0, 0.0, 0.0, 0.0, 1.0, 0.0, 1.0, 0.0, 0.0, 0.0, 0.0, 1.0, 0.0, 0.0, 0.0, 0.0, 1.0, 0.0, 0.0, 0.0, 0.0, 1.0, 0.0, 0.0, 0.0, 1.0, 1.0, 1.0, 0.0, 1.0, 1.0, 0.0, 0.0, 0.0, 1.0, 1.0, 0.0, 0.0, 0.0, 0.0, 1.0, 0.0, 1.0, 0.0, 0.0, 0.0, 1.0, 1.0, 0.0, 1.0, 1.0, 0.0, 1.0, 0.0, 0.0, 0.0, 0.0, 1.0, 0.0, 1.0, 1.0, 1.0, 1.0, 0.0, 0.0, 1.0, 0.0, 1.0, 0.0, 0.0, 1.0, 1.0, 0.0, 0.0, 0.0, 0.0, 1.0, 1.0, 1.0, 0.0, 0.0, 0.0, 1.0, 1.0, 1.0, 1.0, 1.0, 1.0, 0.0, 0.0, 0.0, 0.0, 0.0, 0.0, 1.0, 0.0, 0.0, 0.0, 1.0, 1.0, 0.0, 0.0, 0.0, 0.0, 0.0, 1.0, 0.0, 1.0, 0.0, 1.0, 0.0, 1.0, 0.0, 0.0, 0.0, 0.0, 0.0, 1.0, 0.0, 0.0, 0.0, 0.0, 1.0, 0.0, 0.0, 0.0, 1.0, 0.0, 0.0, 0.0, 0.0, 0.0, 0.0, 0.0, 1.0, 1.0, 1.0, 1.0, 1.0, 0.0, 1.0, 0.0, 0.0, 0.0, 1.0, 1.0, 0.0, 0.0, 0.0, 1.0, 0.0, 0.0, 1.0, 0.0, 0.0, 1.0, 1.0, 0.0, 1.0, 0.0, 0.0, 0.0, 0.0, 1.0, 0.0, 1.0, 0.0, 0.0, 1.0, 0.0, 0.0, 0.0, 0.0, 0.0, 1.0, 1.0, 1.0, 1.0, 1.0, 1.0, 0.0, 0.0, 1.0, 0.0, 0.0, 0.0, 1.0, 1.0, 1.0, 0.0, 1.0, 1.0, 0.0, 0.0, 1.0, 0.0, 0.0, 0.0, 0.0, 1.0, 0.0, 1.0, 0.0, 0.0, 0.0, 1.0, 0.0, 0.0, 1.0, 0.0, 0.0, 0.0, 1.0, 1.0, 1.0, 0.0, 1.0, 1.0, 1.0, 0.0, 0.0, 0.0, 0.0, 0.0, 0.0, 1.0, 0.0, 0.0, 1.0, 0.0, 1.0, 0.0, 1.0, 1.0, 1.0, 0.0, 1.0, 1.0, 0.0, 0.0, 0.0, 1.0, 1.0, 1.0, 0.0, 0.0, 0.0, 0.0, 0.0, 0.0, 1.0, 0.0, 1.0, 1.0, 0.0, 0.0, 0.0, 1.0, 1.0, 0.0, 0.0, 0.0, 0.0, 1.0, 1.0, 1.0, 0.0, 1.0, 0.0, 1.0, 0.0, 1.0, 0.0, 1.0, 1.0, 1.0, 0.0, 1.0, 1.0, 0.0, 1.0, 0.0, 1.0, 1.0, 0.0, 1.0, 1.0, 1.0, 1.0, 0.0, 1.0, 0.0, 0.0, 0.0, 0.0, 1.0, 0.0, 1.0, 1.0, 0.0, 0.0, 0.0, 1.0, 0.0, 0.0, 1.0, 0.0, 0.0, 1.0, 1.0, 0.0, 1.0, 0.0, 1.0, 0.0, 0.0, 1.0, 0.0, 0.0, 1.0, 1.0, 1.0, 0.0, 1.0, 0.0, 0.0, 1.0, 0.0, 0.0, 0.0, 0.0, 0.0, 0.0, 0.0, 0.0, 0.0, 1.0, 0.0, 1.0, 0.0, 0.0, 0.0, 1.0, 1.0, 0.0, 0.0, 0.0, 1.0, 1.0, 1.0, 1.0, 0.0, 0.0, 1.0, 0.0, 0.0, 0.0, 0.0, 1.0, 0.0, 0.0, 1.0, 1.0, 1.0, 0.0, 0.0, 1.0, 0.0, 0.0, 0.0, 1.0, 0.0, 1.0, 0.0, 1.0, 0.0, 0.0, 0.0, 0.0, 0.0, 1.0, 0.0, 0.0, 1.0, 1.0, 0.0, 1.0, 1.0, 0.0, 1.0, 0.0, 1.0, 1.0, 1.0, 1.0, 0.0, 0.0, 1.0, 0.0, 1.0, 0.0, 0.0, 1.0, 1.0, 1.0, 1.0, 1.0, 1.0, 0.0, 1.0, 1.0, 1.0, 0.0, 0.0, 0.0, 0.0, 1.0, 0.0, 1.0, 0.0, 0.0, 1.0, 0.0, 1.0, 0.0, 1.0, 0.0, 0.0, 0.0, 1.0, 1.0, 0.0, 0.0, 0.0, 1.0, 1.0, 0.0, 1.0, 1.0, 0.0, 0.0, 1.0, 1.0, 0.0, 0.0, 0.0, 1.0, 1.0, 0.0, 0.0, 0.0, 0.0, 1.0, 0.0, 1.0, 0.0, 1.0, 0.0, 0.0, 1.0, 0.0, 0.0, 0.0, 0.0, 0.0, 1.0, 0.0, 0.0, 0.0, 0.0, 0.0, 0.0, 0.0, 1.0, 0.0, 0.0, 0.0, 0.0, 1.0, 1.0, 0.0, 1.0, 0.0, 1.0, 0.0, 0.0, 0.0, 0.0, 0.0, 0.0, 0.0, 1.0, 0.0, 0.0, 1.0, 1.0, 0.0, 0.0, 1.0, 1.0, 0.0, 0.0, 0.0, 1.0, 0.0, 0.0, 0.0, 1.0, 0.0, 0.0, 1.0, 1.0, 0.0, 0.0, 0.0, 0.0, 0.0, 0.0, 1.0, 0.0, 1.0, 0.0, 0.0, 0.0, 1.0, 0.0, 0.0, 0.0, 1.0, 0.0, 1.0, 0.0, 1.0, 1.0, 0.0, 0.0, 0.0, 1.0, 1.0, 0.0, 1.0, 0.0, 0.0, 1.0, 1.0, 1.0, 1.0, 0.0, 0.0, 1.0, 0.0, 0.0, 1.0, 1.0, 1.0, 0.0, 0.0, 0.0, 1.0, 0.0, 0.0, 1.0, 1.0, 0.0, 0.0, 0.0, 0.0, 1.0, 1.0, 0.0, 0.0, 0.0, 0.0, 0.0, 1.0, 1.0, 0.0, 0.0, 0.0, 1.0, 0.0, 0.0, 0.0, 0.0, 0.0, 0.0, 1.0, 0.0, 1.0, 1.0, 1.0, 1.0, 0.0, 0.0, 1.0, 0.0, 1.0, 1.0, 0.0, 0.0, 0.0, 1.0, 0.0, 1.0, 1.0, 0.0, 0.0, 1.0, 0.0, 0.0, 0.0, 0.0, 0.0, 0.0, 1.0, 0.0, 1.0, 0.0, 1.0, 1.0, 1.0, 0.0, 0.0, 0.0, 0.0, 0.0, 0.0, 0.0, 0.0, 0.0, 0.0, 1.0, 0.0, 0.0, 0.0, 0.0, 0.0, 0.0, 0.0, 1.0, 0.0, 1.0, 1.0, 0.0, 1.0, 0.0, 0.0, 0.0, 0.0, 1.0, 1.0, 1.0, 1.0, 0.0, 0.0, 0.0, 0.0, 0.0, 1.0, 0.0, 0.0, 1.0, 0.0, 1.0, 1.0, 0.0, 1.0, 0.0, 1.0, 1.0, 1.0, 1.0, 0.0, 1.0, 1.0, 0.0, 1.0, 0.0, 0.0, 1.0, 1.0, 1.0, 0.0, 1.0, 0.0, 1.0, 0.0, 0.0, 1.0, 1.0, 1.0, 0.0, 0.0, 0.0, 0.0, 1.0, 0.0, 1.0, 0.0, 1.0, 1.0, 0.0, 1.0, 0.0, 0.0, 1.0, 0.0, 1.0, 0.0, 0.0, 1.0, 1.0, 1.0, 0.0, 0.0, 1.0, 1.0, 0.0, 0.0, 0.0, 0.0, 0.0, 1.0, 0.0, 1.0, 1.0, 1.0, 1.0, 0.0, 0.0, 0.0, 0.0, 0.0, 0.0, 1.0, 1.0, 1.0, 1.0, 0.0, 1.0, 0.0, 0.0, 0.0, 1.0, 1.0, 0.0, 1.0, 0.0, 0.0, 1.0, 1.0, 0.0, 0.0, 1.0, 1.0, 0.0, 1.0, 0.0, 1.0, 1.0, 1.0, 1.0, 1.0, 0.0, 1.0, 0.0, 0.0, 0.0, 1.0, 0.0, 0.0, 1.0, 1.0, 0.0, 1.0, 0.0, 0.0, 1.0, 0.0, 1.0, 1.0, 0.0, 0.0, 1.0, 1.0, 0.0, 0.0, 1.0, 0.0, 1.0, 0.0, 0.0, 1.0, 0.0, 1.0, 1.0, 1.0, 1.0, 0.0, 0.0, 0.0, 0.0, 0.0, 0.0, 0.0, 0.0, 0.0, 0.0, 0.0, 0.0, 1.0, 1.0, 1.0, 0.0, 1.0, 0.0, 0.0, 1.0, 0.0, 0.0, 1.0, 1.0, 1.0, 0.0, 1.0, 0.0, 1.0, 1.0, 1.0, 0.0, 0.0, 0.0, 1.0, 0.0, 0.0, 1.0, 0.0, 0.0, 0.0, 0.0, 1.0, 1.0, 1.0, 1.0, 1.0, 0.0, 1.0, 1.0, 0.0, 0.0, 1.0, 0.0, 0.0, 1.0, 0.0, 1.0, 1.0, 1.0, 1.0, 1.0, 0.0, 0.0, 0.0, 0.0, 1.0, 1.0, 0.0, 0.0, 0.0, 1.0, 0.0, 0.0, 1.0, 0.0, 1.0, 0.0, 1.0, 0.0, 1.0, 0.0, 1.0, 0.0, 0.0, 0.0, 0.0, 1.0, 1.0, 0.0, 0.0, 0.0, 1.0, 0.0, 0.0, 1.0, 1.0, 1.0, 1.0, 0.0, 0.0, 0.0, 1.0, 0.0, 1.0, 1.0, 1.0, 0.0, 0.0, 0.0, 1.0, 1.0, 0.0, 0.0, 0.0, 1.0, 1.0, 1.0, 0.0, 0.0, 1.0, 0.0, 0.0, 0.0, 0.0, 1.0, 1.0, 1.0, 0.0, 0.0, 0.0, 0.0, 1.0, 1.0, 0.0, 0.0, 1.0, 0.0, 0.0, 0.0, 1.0, 0.0, 1.0, 1.0, 0.0, 1.0, 0.0, 1.0, 0.0, 1.0, 1.0, 0.0, 0.0, 0.0, 0.0, 1.0, 1.0, 1.0, 0.0, 1.0, 0.0, 0.0, 1.0, 0.0, 0.0, 0.0, 1.0, 0.0, 0.0, 1.0, 0.0, 0.0, 1.0, 0.0, 1.0, 0.0, 0.0, 0.0, 1.0, 1.0, 1.0, 0.0, 1.0, 1.0, 0.0, 0.0, 0.0, 0.0, 1.0, 1.0, 1.0, 0.0, 0.0, 0.0, 1.0, 0.0, 1.0, 0.0, 1.0, 0.0, 1.0, 0.0, 0.0, 1.0, 1.0, 0.0, 1.0, 1.0, 0.0, 1.0, 1.0, 0.0, 1.0, 0.0, 0.0, 1.0, 0.0, 1.0, 0.0, 1.0, 0.0, 1.0, 1.0, 0.0, 0.0, 0.0, 1.0, 0.0, 1.0, 0.0, 0.0, 1.0, 0.0, 0.0, 1.0, 0.0, 1.0, 1.0, 1.0, 1.0, 0.0, 0.0, 1.0, 1.0, 0.0, 0.0, 1.0, 1.0, 0.0, 0.0, 0.0, 0.0, 1.0, 0.0, 1.0, 1.0, 1.0, 1.0, 0.0, 0.0, 1.0, 0.0, 1.0, 0.0, 0.0, 0.0, 1.0, 1.0, 0.0, 0.0, 0.0, 0.0, 1.0, 0.0, 0.0, 0.0, 0.0, 0.0, 0.0, 1.0, 0.0, 0.0, 0.0, 1.0, 0.0, 0.0, 1.0, 0.0, 1.0, 0.0, 0.0, 0.0, 0.0, 1.0, 0.0, 0.0, 1.0, 1.0, 1.0, 0.0, 1.0, 0.0, 0.0, 1.0, 0.0, 1.0, 1.0, 1.0, 0.0, 1.0, 1.0, 1.0, 0.0, 1.0, 1.0, 1.0, 0.0, 0.0, 0.0, 0.0, 1.0, 0.0, 0.0, 1.0, 1.0, 0.0, 1.0, 0.0, 1.0, 0.0, 0.0, 0.0, 0.0, 0.0, 1.0, 1.0, 0.0, 1.0, 0.0, 1.0, 0.0, 0.0, 1.0, 0.0, 0.0, 1.0, 0.0, 1.0, 1.0, 1.0, 0.0, 0.0, 0.0, 0.0, 0.0, 0.0, 1.0, 1.0, 0.0, 1.0, 0.0, 0.0, 1.0, 1.0, 1.0, 1.0, 0.0, 1.0, 0.0, 0.0, 1.0, 0.0, 0.0, 0.0, 0.0, 0.0, 0.0, 0.0, 0.0, 1.0, 0.0, 1.0, 0.0, 1.0, 0.0, 1.0, 1.0, 0.0, 0.0, 0.0, 0.0, 0.0, 1.0, 1.0, 0.0, 1.0, 0.0, 1.0, 0.0, 0.0, 1.0, 0.0, 1.0, 1.0, 1.0, 1.0, 1.0, 1.0, 1.0, 0.0, 1.0, 0.0, 0.0, 0.0, 0.0, 0.0, 0.0, 1.0, 0.0, 1.0, 0.0, 0.0, 1.0, 1.0, 0.0, 1.0, 1.0, 0.0, 0.0, 0.0, 1.0, 0.0, 1.0, 0.0, 0.0, 1.0, 0.0, 0.0, 1.0, 1.0, 0.0, 0.0, 1.0, 0.0, 1.0, 1.0, 1.0, 0.0, 1.0, 1.0, 0.0, 1.0, 1.0, 1.0, 1.0, 0.0, 0.0, 0.0, 0.0, 1.0, 1.0, 1.0, 1.0, 0.0, 0.0, 0.0, 0.0, 1.0, 1.0, 1.0, 0.0, 0.0, 0.0, 0.0, 0.0, 0.0, 0.0, 0.0, 1.0, 1.0, 0.0, 0.0, 1.0, 0.0, 0.0, 1.0, 1.0, 1.0, 0.0, 1.0, 1.0, 0.0, 0.0, 0.0, 1.0, 0.0, 1.0, 1.0, 1.0, 0.0, 0.0, 0.0, 0.0, 0.0, 1.0, 0.0, 0.0, 0.0, 0.0, 1.0, 0.0, 0.0, 0.0, 0.0, 1.0, 0.0, 0.0, 1.0, 0.0, 0.0, 1.0, 0.0, 1.0, 1.0, 0.0, 1.0, 0.0, 1.0, 0.0, 1.0, 0.0, 1.0, 0.0, 1.0, 1.0, 0.0, 0.0, 0.0, 0.0, 1.0, 0.0, 1.0, 0.0, 0.0, 0.0, 1.0, 1.0, 0.0, 0.0, 0.0, 1.0, 0.0, 0.0, 1.0, 1.0, 0.0, 1.0, 1.0, 1.0, 0.0, 0.0, 1.0, 1.0, 0.0, 0.0, 0.0, 0.0, 1.0, 1.0, 0.0, 1.0, 0.0, 0.0, 0.0, 1.0, 0.0, 1.0, 0.0, 0.0, 0.0, 1.0, 0.0, 0.0, 1.0, 1.0, 1.0, 1.0, 1.0, 0.0, 0.0, 1.0, 1.0, 0.0, 1.0, 0.0, 0.0, 1.0, 0.0, 1.0, 1.0, 0.0, 1.0, 0.0, 1.0, 0.0, 0.0, 0.0, 1.0, 1.0, 1.0, 0.0, 0.0, 1.0, 0.0, 0.0], 'tour_cost': 7735054.3794425875, 'packing_plan_cost': 756031.0})]"
      ]
     },
     "execution_count": 33,
     "metadata": {},
     "output_type": "execute_result"
    }
   ],
   "source": [
    "evaled_pop = []\n",
    "i = 0\n",
    "for candidate_solution in [c1, c2]:\n",
    "    evaluate_candidate_solution_cost_pdist(candidate_solution,\n",
    "                                     a280_n1395[\"pairwise_distances\"],\n",
    "                                     a280_n1395[\"item_to_city_mapping_dict\"],\n",
    "                                     a280_n1395[\"item_weights\"],\n",
    "                                     a280_n1395[\"item_values\"],\n",
    "                                     a280_n1395[\"v_max\"],\n",
    "                                     a280_n1395[\"v_min\"],\n",
    "                                     a280_n1395[\"Q\"],\n",
    "                                     a280_n1395[\"R\"])\n",
    "    i += 1 \n",
    "    evaled_pop.append(candidate_solution)\n",
    "evaled_pop"
   ]
  },
  {
   "cell_type": "code",
   "execution_count": 34,
   "metadata": {},
   "outputs": [
    {
     "data": {
      "text/plain": [
       "[struct({'tour': [221, 129, 227, 135, 153, 96, 243, 175, 161, 230, 261, 214, 279, 70, 118, 247, 22, 199, 144, 139, 170, 116, 103, 217, 48, 1, 80, 191, 165, 8, 210, 169, 107, 72, 255, 145, 81, 11, 134, 100, 163, 79, 124, 31, 41, 74, 34, 32, 49, 52, 132, 75, 142, 91, 151, 222, 71, 178, 140, 206, 110, 204, 0, 155, 263, 251, 265, 260, 250, 198, 158, 213, 88, 136, 76, 236, 241, 166, 47, 78, 201, 173, 40, 66, 7, 84, 157, 262, 98, 24, 271, 112, 215, 172, 275, 102, 272, 233, 253, 196, 197, 193, 57, 45, 229, 216, 3, 55, 64, 177, 42, 109, 65, 121, 137, 202, 238, 156, 245, 114, 148, 36, 9, 225, 224, 69, 53, 130, 82, 15, 37, 93, 147, 159, 85, 171, 117, 181, 258, 266, 276, 10, 154, 97, 2, 23, 269, 111, 38, 33, 278, 189, 212, 240, 108, 146, 122, 89, 68, 152, 273, 90, 186, 87, 73, 232, 126, 160, 249, 16, 106, 235, 185, 257, 231, 195, 237, 183, 277, 60, 164, 30, 119, 35, 46, 18, 248, 128, 99, 95, 209, 21, 115, 77, 220, 20, 184, 162, 125, 39, 267, 6, 179, 104, 182, 180, 19, 25, 176, 218, 274, 43, 131, 92, 219, 14, 228, 86, 63, 127, 50, 207, 123, 13, 234, 174, 94, 17, 133, 259, 168, 5, 203, 28, 101, 83, 252, 58, 120, 187, 105, 12, 51, 167, 254, 67, 27, 188, 26, 223, 59, 4, 62, 56, 192, 200, 270, 141, 61, 54, 138, 256, 44, 190, 149, 208, 242, 29, 194, 268, 143, 113, 244, 246, 205, 150, 211, 226, 239, 264], 'packing_plan': [1.0, 0.0, 1.0, 0.0, 0.0, 0.0, 1.0, 1.0, 0.0, 1.0, 1.0, 1.0, 0.0, 0.0, 1.0, 1.0, 1.0, 1.0, 0.0, 0.0, 1.0, 0.0, 1.0, 1.0, 1.0, 0.0, 1.0, 1.0, 1.0, 1.0, 1.0, 0.0, 1.0, 1.0, 0.0, 1.0, 0.0, 0.0, 0.0, 1.0, 1.0, 1.0, 0.0, 0.0, 1.0, 0.0, 1.0, 1.0, 0.0, 0.0, 1.0, 0.0, 1.0, 1.0, 0.0, 0.0, 1.0, 0.0, 1.0, 1.0, 1.0, 1.0, 1.0, 0.0, 1.0, 1.0, 0.0, 0.0, 1.0, 1.0, 1.0, 1.0, 1.0, 1.0, 1.0, 1.0, 1.0, 0.0, 0.0, 1.0, 0.0, 1.0, 1.0, 0.0, 0.0, 1.0, 1.0, 1.0, 1.0, 0.0, 0.0, 0.0, 0.0, 1.0, 0.0, 1.0, 1.0, 0.0, 1.0, 1.0, 0.0, 1.0, 1.0, 1.0, 1.0, 1.0, 0.0, 1.0, 0.0, 1.0, 0.0, 0.0, 1.0, 1.0, 1.0, 1.0, 1.0, 1.0, 0.0, 1.0, 0.0, 1.0, 0.0, 1.0, 1.0, 1.0, 0.0, 1.0, 1.0, 0.0, 1.0, 1.0, 0.0, 1.0, 1.0, 1.0, 1.0, 1.0, 0.0, 1.0, 1.0, 1.0, 0.0, 0.0, 1.0, 0.0, 0.0, 0.0, 0.0, 1.0, 1.0, 1.0, 1.0, 0.0, 0.0, 1.0, 1.0, 1.0, 1.0, 1.0, 1.0, 0.0, 1.0, 1.0, 1.0, 1.0, 1.0, 1.0, 1.0, 0.0, 1.0, 1.0, 1.0, 1.0, 0.0, 1.0, 0.0, 0.0, 0.0, 1.0, 1.0, 1.0, 0.0, 0.0, 1.0, 1.0, 1.0, 0.0, 1.0, 1.0, 0.0, 1.0, 1.0, 1.0, 1.0, 1.0, 0.0, 1.0, 1.0, 0.0, 0.0, 1.0, 0.0, 0.0, 1.0, 1.0, 0.0, 1.0, 1.0, 1.0, 0.0, 0.0, 0.0, 1.0, 0.0, 0.0, 0.0, 1.0, 1.0, 1.0, 1.0, 0.0, 0.0, 1.0, 1.0, 0.0, 1.0, 0.0, 0.0, 1.0, 0.0, 1.0, 1.0, 0.0, 0.0, 1.0, 0.0, 0.0, 0.0, 0.0, 1.0, 0.0, 0.0, 0.0, 1.0, 1.0, 0.0, 0.0, 1.0, 1.0, 0.0, 1.0, 1.0, 0.0, 1.0, 1.0, 1.0, 1.0, 1.0, 1.0, 1.0, 1.0, 1.0, 1.0, 0.0, 0.0, 0.0, 1.0, 0.0, 0.0, 1.0, 0.0, 1.0, 1.0, 1.0, 1.0, 1.0, 0.0, 1.0, 1.0, 1.0, 1.0, 0.0, 1.0, 1.0, 0.0, 0.0, 1.0, 0.0, 1.0, 1.0, 0.0, 1.0, 1.0, 1.0, 1.0, 1.0, 0.0, 0.0, 1.0, 1.0, 1.0, 0.0, 0.0, 1.0, 1.0, 1.0, 1.0, 1.0, 0.0, 1.0, 0.0, 1.0, 0.0, 1.0, 1.0, 1.0, 1.0, 0.0, 0.0, 0.0, 1.0, 0.0, 1.0, 0.0, 0.0, 1.0, 1.0, 1.0, 1.0, 1.0, 0.0, 0.0, 1.0, 1.0, 0.0, 0.0, 1.0, 1.0, 0.0, 0.0, 1.0, 1.0, 1.0, 1.0, 1.0, 0.0, 1.0, 1.0, 1.0, 0.0, 0.0, 1.0, 1.0, 1.0, 0.0, 1.0, 1.0, 0.0, 1.0, 1.0, 1.0, 1.0, 0.0, 1.0, 0.0, 1.0, 1.0, 1.0, 1.0, 1.0, 1.0, 1.0, 1.0, 1.0, 1.0, 1.0, 1.0, 0.0, 1.0, 1.0, 1.0, 1.0, 0.0, 0.0, 1.0, 1.0, 1.0, 1.0, 1.0, 0.0, 0.0, 1.0, 0.0, 1.0, 1.0, 1.0, 0.0, 1.0, 1.0, 0.0, 0.0, 1.0, 0.0, 0.0, 1.0, 1.0, 1.0, 1.0, 1.0, 1.0, 1.0, 1.0, 1.0, 0.0, 1.0, 1.0, 0.0, 1.0, 0.0, 1.0, 0.0, 1.0, 0.0, 0.0, 1.0, 1.0, 1.0, 1.0, 1.0, 1.0, 1.0, 1.0, 1.0, 0.0, 0.0, 1.0, 1.0, 0.0, 1.0, 1.0, 1.0, 0.0, 1.0, 0.0, 0.0, 1.0, 1.0, 1.0, 1.0, 1.0, 1.0, 1.0, 0.0, 0.0, 1.0, 1.0, 1.0, 1.0, 0.0, 1.0, 1.0, 1.0, 1.0, 1.0, 1.0, 0.0, 0.0, 1.0, 1.0, 0.0, 1.0, 0.0, 1.0, 1.0, 1.0, 0.0, 1.0, 1.0, 1.0, 0.0, 1.0, 1.0, 1.0, 1.0, 1.0, 1.0, 1.0, 1.0, 1.0, 1.0, 1.0, 0.0, 1.0, 1.0, 0.0, 1.0, 1.0, 0.0, 1.0, 1.0, 0.0, 1.0, 1.0, 1.0, 1.0, 0.0, 0.0, 1.0, 1.0, 1.0, 1.0, 1.0, 1.0, 1.0, 0.0, 1.0, 0.0, 1.0, 0.0, 1.0, 1.0, 1.0, 1.0, 1.0, 1.0, 0.0, 1.0, 0.0, 1.0, 1.0, 0.0, 1.0, 0.0, 0.0, 1.0, 1.0, 1.0, 1.0, 1.0, 1.0, 1.0, 1.0, 1.0, 0.0, 1.0, 1.0, 1.0, 1.0, 0.0, 1.0, 0.0, 0.0, 1.0, 0.0, 1.0, 1.0, 1.0, 1.0, 0.0, 1.0, 1.0, 1.0, 0.0, 1.0, 1.0, 0.0, 1.0, 0.0, 1.0, 1.0, 1.0, 0.0, 1.0, 1.0, 1.0, 0.0, 1.0, 1.0, 1.0, 1.0, 1.0, 1.0, 0.0, 1.0, 1.0, 1.0, 1.0, 0.0, 0.0, 1.0, 1.0, 1.0, 1.0, 0.0, 0.0, 1.0, 0.0, 0.0, 0.0, 1.0, 1.0, 1.0, 1.0, 0.0, 0.0, 0.0, 1.0, 1.0, 0.0, 0.0, 0.0, 1.0, 1.0, 1.0, 0.0, 1.0, 0.0, 1.0, 1.0, 1.0, 0.0, 1.0, 0.0, 0.0, 0.0, 1.0, 1.0, 0.0, 0.0, 0.0, 1.0, 1.0, 1.0, 0.0, 0.0, 0.0, 0.0, 1.0, 0.0, 1.0, 1.0, 1.0, 1.0, 0.0, 1.0, 1.0, 0.0, 0.0, 0.0, 0.0, 1.0, 0.0, 1.0, 1.0, 1.0, 1.0, 1.0, 1.0, 0.0, 0.0, 0.0, 1.0, 1.0, 1.0, 0.0, 1.0, 1.0, 1.0, 1.0, 1.0, 0.0, 1.0, 1.0, 1.0, 1.0, 0.0, 0.0, 1.0, 1.0, 1.0, 1.0, 0.0, 1.0, 0.0, 0.0, 0.0, 1.0, 0.0, 0.0, 1.0, 0.0, 1.0, 1.0, 1.0, 0.0, 1.0, 1.0, 1.0, 1.0, 1.0, 1.0, 1.0, 0.0, 1.0, 0.0, 1.0, 1.0, 1.0, 1.0, 0.0, 1.0, 1.0, 1.0, 1.0, 1.0, 1.0, 1.0, 0.0, 0.0, 1.0, 1.0, 0.0, 0.0, 0.0, 0.0, 0.0, 0.0, 0.0, 1.0, 0.0, 0.0, 1.0, 1.0, 0.0, 1.0, 1.0, 0.0, 1.0, 1.0, 1.0, 1.0, 1.0, 1.0, 0.0, 1.0, 1.0, 1.0, 1.0, 0.0, 0.0, 1.0, 1.0, 1.0, 0.0, 1.0, 1.0, 0.0, 0.0, 1.0, 1.0, 1.0, 1.0, 1.0, 1.0, 1.0, 1.0, 1.0, 0.0, 1.0, 1.0, 1.0, 0.0, 1.0, 1.0, 0.0, 1.0, 1.0, 1.0, 1.0, 1.0, 0.0, 1.0, 1.0, 0.0, 1.0, 1.0, 1.0, 0.0, 1.0, 1.0, 1.0, 0.0, 0.0, 1.0, 0.0, 0.0, 0.0, 0.0, 1.0, 0.0, 0.0, 1.0, 1.0, 0.0, 1.0, 1.0, 0.0, 0.0, 0.0, 1.0, 0.0, 1.0, 0.0, 1.0, 0.0, 1.0, 0.0, 0.0, 0.0, 1.0, 0.0, 1.0, 1.0, 1.0, 0.0, 1.0, 1.0, 1.0, 0.0, 0.0, 1.0, 0.0, 0.0, 0.0, 1.0, 1.0, 0.0, 1.0, 1.0, 1.0, 0.0, 1.0, 1.0, 1.0, 1.0, 1.0, 1.0, 1.0, 1.0, 0.0, 1.0, 1.0, 1.0, 0.0, 1.0, 0.0, 0.0, 1.0, 1.0, 1.0, 0.0, 1.0, 0.0, 1.0, 1.0, 0.0, 0.0, 0.0, 0.0, 0.0, 1.0, 1.0, 1.0, 1.0, 1.0, 0.0, 0.0, 1.0, 1.0, 1.0, 1.0, 1.0, 1.0, 1.0, 1.0, 1.0, 0.0, 1.0, 1.0, 0.0, 1.0, 0.0, 1.0, 0.0, 0.0, 1.0, 0.0, 1.0, 0.0, 1.0, 1.0, 0.0, 0.0, 1.0, 1.0, 1.0, 0.0, 1.0, 0.0, 0.0, 0.0, 0.0, 1.0, 1.0, 0.0, 0.0, 0.0, 1.0, 1.0, 1.0, 1.0, 0.0, 1.0, 1.0, 0.0, 1.0, 1.0, 1.0, 1.0, 1.0, 0.0, 0.0, 1.0, 1.0, 1.0, 1.0, 1.0, 0.0, 0.0, 0.0, 0.0, 1.0, 1.0, 1.0, 0.0, 0.0, 0.0, 1.0, 1.0, 1.0, 1.0, 0.0, 0.0, 1.0, 1.0, 1.0, 1.0, 0.0, 1.0, 1.0, 0.0, 0.0, 1.0, 1.0, 0.0, 1.0, 1.0, 0.0, 0.0, 1.0, 0.0, 0.0, 0.0, 0.0, 0.0, 0.0, 1.0, 1.0, 1.0, 0.0, 1.0, 1.0, 0.0, 1.0, 1.0, 1.0, 1.0, 0.0, 1.0, 1.0, 1.0, 1.0, 1.0, 1.0, 1.0, 1.0, 1.0, 1.0, 0.0, 1.0, 1.0, 1.0, 1.0, 1.0, 1.0, 0.0, 1.0, 0.0, 1.0, 1.0, 1.0, 0.0, 0.0, 1.0, 1.0, 0.0, 1.0, 1.0, 0.0, 1.0, 1.0, 1.0, 0.0, 1.0, 1.0, 1.0, 1.0, 0.0, 1.0, 1.0, 0.0, 1.0, 1.0, 1.0, 1.0, 1.0, 1.0, 1.0, 1.0, 1.0, 0.0, 0.0, 1.0, 0.0, 1.0, 0.0, 1.0, 1.0, 1.0, 0.0, 0.0, 1.0, 1.0, 1.0, 0.0, 0.0, 1.0, 1.0, 0.0, 1.0, 0.0, 1.0, 0.0, 0.0, 1.0, 0.0, 0.0, 0.0, 1.0, 1.0, 0.0, 1.0, 0.0, 1.0, 0.0, 1.0, 1.0, 0.0, 0.0, 1.0, 1.0, 0.0, 0.0, 0.0, 1.0, 1.0, 1.0, 1.0, 1.0, 0.0, 1.0, 1.0, 0.0, 1.0, 0.0, 1.0, 1.0, 1.0, 1.0, 1.0, 1.0, 1.0, 1.0, 1.0, 0.0, 1.0, 1.0, 1.0, 1.0, 0.0, 1.0, 0.0, 0.0, 0.0, 1.0, 0.0, 1.0, 1.0, 1.0, 1.0, 0.0, 1.0, 1.0, 0.0, 1.0, 0.0, 1.0, 1.0, 0.0, 0.0, 1.0, 0.0, 1.0, 1.0, 0.0, 1.0, 0.0, 1.0, 0.0, 1.0, 0.0, 1.0, 0.0, 1.0, 1.0, 0.0, 1.0, 1.0, 0.0, 1.0, 0.0, 1.0, 1.0, 1.0, 1.0, 1.0, 1.0, 0.0, 1.0, 0.0, 1.0, 0.0, 1.0, 0.0, 0.0, 0.0, 0.0, 1.0, 1.0, 1.0, 1.0, 1.0, 1.0, 1.0, 1.0, 1.0, 1.0, 1.0, 0.0, 1.0, 1.0, 1.0, 0.0, 1.0, 1.0, 1.0, 1.0, 1.0, 1.0, 0.0, 0.0, 0.0, 1.0, 0.0, 0.0, 0.0, 1.0, 0.0, 1.0, 1.0, 1.0, 0.0, 0.0, 1.0, 0.0, 1.0, 0.0, 1.0, 1.0, 1.0, 0.0, 1.0, 0.0, 1.0, 0.0, 1.0, 1.0, 0.0, 0.0, 1.0, 0.0, 1.0, 0.0, 1.0, 0.0, 0.0, 1.0, 1.0, 1.0, 0.0, 0.0, 0.0, 1.0, 1.0, 1.0, 0.0, 1.0, 1.0, 1.0, 1.0, 0.0, 0.0, 0.0, 1.0, 1.0, 0.0, 1.0, 0.0, 0.0, 0.0, 0.0, 1.0, 0.0, 1.0, 1.0, 1.0, 1.0, 1.0, 0.0, 1.0, 1.0, 1.0, 1.0, 1.0, 0.0, 1.0, 0.0, 1.0, 1.0, 1.0, 1.0, 0.0, 1.0, 0.0, 0.0, 1.0, 0.0, 1.0, 1.0, 0.0, 1.0, 1.0, 1.0, 0.0, 1.0, 0.0, 0.0, 1.0, 1.0, 1.0, 1.0, 1.0, 0.0, 1.0, 1.0, 1.0, 1.0, 1.0, 0.0, 1.0, 0.0, 1.0, 1.0, 1.0, 1.0, 1.0, 0.0, 0.0, 1.0, 0.0, 1.0, 0.0, 0.0, 0.0, 1.0, 1.0, 0.0, 1.0, 1.0, 1.0, 0.0, 0.0, 1.0, 1.0, 1.0, 1.0, 1.0, 1.0, 0.0, 0.0, 1.0, 1.0, 1.0, 0.0, 0.0, 1.0, 0.0, 0.0, 0.0, 1.0, 1.0, 1.0, 1.0, 0.0, 0.0, 1.0, 1.0, 1.0, 0.0, 0.0, 1.0, 1.0, 1.0, 1.0, 1.0, 1.0, 1.0, 1.0, 1.0, 1.0, 1.0, 1.0, 0.0, 1.0, 0.0, 1.0, 1.0, 1.0, 1.0, 1.0, 1.0, 1.0, 1.0, 1.0, 1.0, 1.0, 1.0, 1.0, 0.0, 0.0, 1.0, 0.0, 1.0, 1.0, 1.0, 0.0, 1.0, 1.0, 0.0, 0.0, 1.0, 1.0, 1.0, 0.0, 0.0, 1.0, 1.0, 1.0, 1.0, 0.0, 1.0, 1.0, 1.0, 1.0, 1.0, 1.0, 1.0, 1.0, 0.0, 0.0, 1.0, 1.0, 1.0, 1.0, 0.0, 0.0, 1.0, 1.0, 1.0, 1.0, 0.0, 0.0, 1.0, 1.0, 1.0, 1.0, 1.0, 0.0, 1.0, 1.0, 0.0, 1.0, 0.0, 1.0, 1.0, 1.0, 1.0, 1.0, 1.0, 0.0, 0.0, 1.0, 1.0, 1.0, 0.0, 0.0, 1.0, 1.0, 0.0, 1.0, 1.0, 0.0, 1.0, 1.0, 1.0, 0.0, 0.0, 1.0, 1.0, 1.0, 1.0, 1.0, 1.0, 1.0, 1.0, 1.0, 0.0, 1.0, 0.0, 0.0, 1.0, 0.0, 0.0, 1.0, 1.0, 1.0, 0.0, 0.0, 1.0, 0.0, 1.0, 1.0, 0.0, 1.0, 0.0, 1.0, 1.0, 1.0, 1.0, 0.0, 0.0, 1.0, 0.0, 1.0, 0.0, 1.0, 0.0, 0.0, 1.0, 1.0, 1.0, 0.0, 1.0, 0.0, 0.0, 1.0, 0.0, 1.0, 0.0, 0.0, 1.0, 1.0, 1.0, 1.0, 1.0, 0.0, 1.0, 0.0, 1.0, 1.0, 1.0, 1.0, 1.0, 0.0, 0.0, 1.0, 0.0, 1.0, 1.0, 1.0, 1.0, 1.0, 1.0, 1.0, 1.0, 0.0, 0.0, 0.0, 1.0, 1.0, 0.0, 1.0, 1.0, 0.0, 1.0, 1.0, 0.0, 0.0, 1.0, 1.0, 1.0, 1.0, 1.0, 1.0, 1.0, 1.0, 1.0, 0.0, 1.0, 0.0, 0.0, 0.0, 1.0, 1.0, 1.0, 1.0, 1.0, 1.0, 0.0, 1.0, 1.0, 0.0, 1.0, 1.0, 0.0, 1.0, 0.0, 1.0, 1.0, 1.0, 0.0, 1.0, 1.0, 0.0, 1.0, 0.0, 0.0, 0.0, 1.0, 1.0, 1.0, 0.0, 1.0, 1.0, 1.0, 0.0, 0.0, 0.0, 0.0, 0.0, 0.0, 1.0, 1.0, 0.0, 1.0, 0.0, 1.0, 1.0, 1.0, 1.0, 1.0, 1.0, 1.0, 1.0, 0.0, 1.0, 1.0, 1.0, 1.0, 1.0, 1.0, 1.0, 0.0, 1.0, 1.0, 0.0, 1.0, 0.0, 1.0, 1.0, 1.0, 0.0, 1.0, 1.0, 1.0, 1.0, 0.0, 0.0, 0.0, 1.0, 1.0, 1.0, 0.0, 1.0, 0.0, 1.0, 1.0, 1.0, 0.0, 1.0, 1.0, 1.0, 0.0, 1.0, 1.0, 0.0, 1.0, 0.0, 1.0, 1.0, 1.0, 1.0, 1.0, 1.0, 1.0, 0.0, 1.0, 0.0, 0.0, 0.0, 0.0, 1.0, 0.0, 1.0, 1.0, 1.0, 0.0, 1.0, 1.0, 0.0, 0.0, 1.0, 0.0, 0.0, 1.0, 1.0, 0.0, 1.0, 0.0, 1.0, 1.0, 1.0, 1.0, 0.0, 1.0, 1.0, 1.0, 1.0, 0.0, 1.0, 1.0, 0.0, 1.0, 0.0, 0.0, 0.0, 0.0, 0.0, 0.0, 1.0, 1.0, 0.0, 1.0, 0.0, 1.0, 1.0, 1.0, 0.0, 1.0, 1.0, 0.0, 1.0, 1.0, 1.0, 1.0, 1.0, 1.0, 0.0, 1.0, 1.0, 0.0, 1.0, 0.0, 0.0, 1.0, 0.0, 0.0, 1.0, 1.0, 1.0, 0.0, 1.0, 1.0, 0.0, 1.0, 0.0, 1.0, 0.0, 1.0, 1.0, 1.0, 0.0, 1.0, 0.0, 1.0, 1.0, 1.0, 0.0, 0.0, 1.0, 1.0, 0.0, 1.0, 1.0, 0.0, 1.0, 1.0, 1.0, 1.0, 1.0, 1.0, 0.0, 0.0, 1.0, 1.0, 1.0, 0.0, 1.0, 1.0, 1.0, 1.0, 1.0, 1.0, 1.0, 0.0, 1.0, 1.0, 1.0, 1.0, 0.0, 1.0, 1.0, 1.0, 1.0, 1.0, 1.0, 1.0, 1.0, 1.0, 1.0, 1.0, 1.0, 1.0, 0.0, 1.0, 1.0, 1.0, 0.0, 0.0, 1.0, 1.0, 1.0, 0.0, 1.0, 1.0, 0.0, 0.0, 1.0, 1.0, 0.0, 1.0, 0.0, 1.0, 1.0, 0.0, 1.0, 1.0, 1.0, 1.0, 0.0, 1.0, 1.0, 1.0, 0.0, 0.0, 1.0, 0.0, 0.0, 1.0, 1.0, 1.0, 1.0, 1.0, 1.0, 1.0, 1.0, 1.0, 0.0, 0.0, 1.0, 0.0, 1.0, 1.0, 1.0, 1.0, 1.0, 0.0, 1.0, 0.0, 1.0, 0.0, 0.0, 1.0, 1.0, 0.0, 0.0, 0.0, 1.0, 0.0, 1.0, 1.0, 1.0, 1.0, 1.0, 1.0, 1.0, 1.0, 1.0, 0.0, 1.0, 1.0, 1.0, 0.0, 1.0, 1.0, 0.0, 1.0, 1.0, 0.0, 1.0, 1.0, 0.0, 0.0, 1.0, 1.0, 0.0, 1.0, 0.0, 1.0, 0.0, 1.0, 0.0, 0.0, 0.0, 1.0, 1.0, 1.0, 0.0, 1.0, 1.0, 1.0, 1.0, 0.0, 1.0, 1.0, 0.0, 1.0, 0.0, 0.0, 1.0, 1.0, 1.0, 1.0, 0.0, 0.0, 1.0, 1.0, 1.0, 1.0, 1.0, 1.0, 0.0, 1.0, 0.0, 1.0, 0.0, 0.0, 1.0, 1.0, 0.0, 0.0, 1.0, 1.0, 1.0, 1.0, 0.0, 1.0, 0.0, 0.0, 1.0, 1.0, 1.0, 1.0, 0.0, 0.0, 1.0, 0.0, 0.0, 0.0, 1.0, 0.0, 1.0, 1.0, 1.0, 1.0, 1.0, 1.0, 1.0, 0.0, 0.0, 1.0, 0.0, 1.0, 1.0, 0.0, 0.0, 0.0, 1.0, 1.0, 1.0, 1.0, 0.0, 1.0, 1.0, 0.0, 1.0, 0.0, 0.0, 0.0, 0.0, 1.0, 0.0, 1.0, 0.0, 1.0, 1.0, 1.0, 1.0, 0.0, 0.0, 0.0, 0.0, 0.0, 1.0, 0.0, 1.0, 0.0, 1.0, 0.0, 0.0, 0.0, 0.0, 0.0, 1.0, 1.0, 1.0, 0.0, 1.0, 1.0, 1.0, 1.0, 0.0, 1.0, 0.0, 1.0, 1.0, 1.0, 1.0, 1.0, 1.0, 0.0, 0.0, 0.0, 0.0, 1.0, 1.0, 0.0, 1.0, 0.0, 1.0, 1.0, 0.0, 1.0, 1.0, 1.0, 1.0, 1.0, 1.0, 1.0, 1.0, 1.0, 1.0, 1.0, 0.0, 0.0, 1.0, 1.0, 1.0, 0.0, 1.0, 0.0, 1.0, 0.0, 1.0, 1.0, 1.0, 1.0, 0.0, 0.0, 0.0, 1.0, 1.0, 1.0, 1.0, 0.0, 1.0, 1.0, 0.0, 1.0, 0.0, 0.0, 1.0, 0.0, 1.0, 0.0, 0.0, 1.0, 1.0, 1.0, 0.0, 1.0, 1.0, 1.0, 0.0, 0.0, 0.0, 0.0, 1.0, 1.0, 0.0, 1.0, 1.0, 1.0, 1.0, 1.0, 1.0, 0.0, 0.0, 1.0, 1.0, 1.0, 1.0, 1.0, 1.0, 1.0, 1.0, 1.0, 0.0, 0.0, 1.0, 1.0, 0.0, 1.0, 0.0, 1.0, 1.0, 1.0, 1.0, 1.0, 1.0, 1.0, 1.0, 1.0, 1.0, 1.0, 1.0, 1.0, 1.0, 1.0, 0.0, 1.0, 0.0, 0.0, 1.0, 1.0, 1.0, 0.0, 1.0, 1.0, 0.0, 1.0, 0.0, 1.0, 1.0, 1.0, 1.0, 1.0, 1.0, 0.0, 1.0, 1.0, 1.0, 0.0, 1.0, 0.0, 1.0, 0.0, 1.0, 1.0, 0.0, 1.0, 1.0, 1.0, 1.0, 0.0, 0.0, 0.0, 0.0, 0.0, 0.0, 1.0, 0.0, 0.0, 0.0, 1.0, 1.0, 1.0, 1.0, 1.0, 1.0, 1.0, 1.0, 1.0, 1.0, 0.0, 0.0, 1.0, 1.0, 1.0, 1.0, 1.0, 0.0, 1.0, 1.0, 1.0, 0.0, 0.0, 1.0, 1.0, 1.0, 0.0, 1.0, 0.0, 0.0, 0.0, 0.0, 1.0, 1.0, 1.0, 1.0, 1.0, 1.0, 1.0, 1.0, 1.0, 0.0, 1.0, 0.0, 0.0, 1.0, 0.0, 1.0, 1.0, 1.0, 1.0, 1.0, 1.0, 0.0, 0.0, 1.0, 1.0, 1.0, 0.0, 0.0, 1.0, 1.0, 0.0, 1.0, 1.0, 0.0, 1.0, 0.0, 1.0, 1.0, 1.0, 0.0, 1.0, 0.0, 1.0, 0.0, 0.0, 1.0, 1.0, 0.0, 0.0, 0.0, 1.0, 0.0, 1.0, 1.0, 1.0, 1.0, 1.0, 1.0, 1.0, 0.0, 1.0, 0.0, 1.0, 1.0, 1.0, 1.0, 0.0, 0.0, 1.0, 1.0, 1.0, 0.0, 1.0, 1.0, 1.0, 1.0, 0.0, 0.0, 1.0, 1.0, 1.0, 1.0, 1.0, 1.0, 1.0, 1.0, 0.0, 0.0, 1.0, 0.0, 1.0, 1.0, 0.0, 1.0, 1.0, 0.0, 0.0, 1.0, 1.0, 1.0, 1.0, 1.0, 1.0, 1.0, 1.0, 1.0, 0.0, 1.0, 1.0, 1.0, 0.0, 0.0, 1.0, 1.0, 1.0, 1.0, 1.0, 1.0, 1.0, 0.0, 1.0, 1.0, 1.0, 1.0, 1.0, 0.0, 0.0, 1.0, 0.0, 0.0, 1.0, 0.0, 1.0, 1.0, 0.0, 0.0, 1.0, 1.0, 1.0, 0.0, 1.0, 1.0, 1.0, 0.0, 0.0, 0.0, 1.0, 1.0, 1.0, 0.0, 1.0, 1.0, 1.0, 0.0, 1.0, 0.0, 1.0, 0.0, 1.0, 0.0, 0.0, 1.0, 1.0, 0.0, 1.0, 1.0, 0.0, 1.0, 1.0, 0.0, 1.0, 1.0, 1.0, 1.0, 0.0, 1.0, 0.0, 1.0, 0.0, 1.0, 1.0, 0.0, 0.0, 0.0, 1.0, 1.0, 1.0, 1.0, 0.0, 1.0, 0.0, 1.0, 1.0, 0.0, 1.0, 1.0, 1.0, 1.0, 0.0, 0.0, 1.0, 1.0, 0.0, 1.0, 1.0, 1.0, 1.0, 1.0, 0.0, 0.0, 1.0, 1.0, 1.0, 1.0, 1.0, 1.0, 0.0, 0.0, 1.0, 1.0, 1.0, 1.0, 0.0, 1.0, 1.0, 1.0, 0.0, 1.0, 1.0, 0.0, 1.0, 1.0, 1.0, 0.0, 1.0, 0.0, 0.0, 1.0, 0.0, 0.0, 0.0, 1.0, 0.0, 1.0, 1.0, 1.0, 1.0, 0.0, 0.0, 0.0, 0.0, 1.0, 1.0, 0.0, 1.0, 1.0, 1.0, 0.0, 1.0, 0.0, 0.0, 1.0, 0.0, 1.0, 1.0, 1.0, 0.0, 1.0, 1.0, 1.0, 1.0, 1.0, 1.0, 1.0, 0.0, 0.0, 0.0, 1.0, 1.0, 1.0, 0.0, 1.0, 1.0, 1.0, 1.0, 1.0, 1.0, 0.0, 1.0, 0.0, 0.0, 0.0, 1.0, 1.0, 0.0, 1.0, 1.0, 1.0, 1.0, 0.0, 1.0, 0.0, 0.0, 1.0, 1.0, 1.0, 1.0, 1.0, 0.0, 0.0, 1.0, 0.0, 0.0, 0.0, 1.0, 1.0, 0.0, 1.0, 0.0, 0.0, 1.0, 1.0, 1.0, 1.0, 0.0, 1.0, 0.0, 0.0, 1.0, 0.0, 0.0, 1.0, 1.0, 0.0, 1.0, 0.0, 1.0, 1.0, 1.0, 1.0, 0.0, 1.0, 0.0, 1.0, 1.0, 1.0, 0.0, 0.0, 0.0, 1.0, 1.0, 1.0, 0.0, 1.0, 1.0, 1.0, 1.0, 0.0, 1.0, 1.0, 1.0, 1.0, 1.0, 1.0, 1.0, 1.0, 1.0, 0.0, 1.0, 0.0, 0.0, 0.0, 0.0, 1.0, 0.0, 1.0, 0.0, 1.0, 0.0, 1.0, 1.0, 1.0, 0.0, 1.0, 1.0, 1.0, 0.0, 1.0, 1.0, 0.0, 1.0, 0.0, 1.0, 1.0, 1.0, 0.0, 1.0, 1.0, 1.0, 1.0, 1.0, 0.0, 1.0, 1.0, 1.0, 1.0, 1.0, 1.0, 0.0, 1.0, 1.0, 1.0, 1.0, 0.0, 1.0, 1.0, 0.0, 1.0, 1.0, 1.0, 1.0, 1.0, 0.0, 0.0, 0.0, 1.0, 1.0, 1.0, 0.0, 1.0, 1.0, 0.0, 0.0, 1.0, 0.0, 0.0, 1.0, 1.0, 0.0, 0.0, 1.0, 0.0, 0.0, 1.0, 1.0, 1.0, 1.0, 1.0, 1.0, 0.0, 0.0, 0.0, 1.0, 0.0, 1.0, 1.0, 1.0, 0.0, 0.0, 0.0, 0.0, 0.0, 1.0, 0.0, 0.0, 0.0, 1.0, 1.0, 1.0, 1.0, 0.0, 1.0, 1.0, 1.0, 0.0, 1.0, 1.0, 0.0, 1.0, 0.0, 1.0, 1.0, 1.0, 1.0, 0.0, 1.0, 1.0, 1.0, 1.0, 1.0, 1.0, 1.0, 1.0, 0.0, 0.0, 1.0, 0.0, 1.0, 1.0, 1.0, 0.0, 0.0, 1.0, 1.0, 1.0, 1.0, 1.0, 1.0, 1.0, 0.0, 0.0, 1.0, 1.0, 0.0, 1.0, 1.0, 1.0, 0.0, 1.0, 1.0, 1.0, 0.0, 1.0, 1.0, 0.0, 1.0, 1.0, 1.0, 1.0, 1.0, 0.0, 1.0, 1.0, 1.0, 1.0, 0.0, 1.0, 0.0, 1.0, 0.0, 0.0, 1.0, 1.0, 1.0, 1.0, 1.0, 1.0, 0.0, 1.0, 1.0, 1.0, 1.0, 0.0, 0.0, 1.0, 0.0, 1.0, 1.0, 0.0, 1.0, 0.0, 1.0, 0.0, 0.0, 1.0, 1.0, 1.0, 1.0, 0.0, 0.0, 1.0, 0.0, 0.0], 'tour_cost': 8662726.112123417, 'packing_plan_cost': 951808.0}),\n",
       " struct({'tour': [31, 214, 236, 241, 166, 47, 198, 116, 78, 201, 173, 40, 153, 66, 7, 1, 84, 157, 262, 98, 24, 151, 271, 112, 215, 247, 172, 275, 204, 102, 272, 279, 233, 221, 253, 132, 196, 197, 193, 57, 178, 71, 45, 229, 216, 3, 55, 64, 136, 177, 110, 42, 109, 144, 65, 121, 96, 137, 202, 169, 238, 156, 76, 8, 245, 114, 148, 36, 9, 225, 224, 88, 69, 53, 130, 129, 227, 135, 243, 175, 161, 230, 261, 70, 118, 22, 199, 139, 170, 103, 217, 48, 80, 191, 165, 210, 107, 72, 255, 145, 81, 11, 134, 100, 163, 79, 124, 41, 74, 34, 32, 49, 52, 75, 142, 91, 222, 140, 206, 0, 155, 263, 251, 265, 260, 250, 158, 213, 274, 154, 61, 43, 143, 147, 141, 131, 35, 93, 150, 240, 54, 86, 205, 268, 115, 82, 232, 248, 16, 183, 228, 29, 211, 111, 128, 186, 174, 164, 104, 97, 126, 239, 159, 26, 269, 120, 21, 258, 17, 14, 180, 256, 113, 60, 68, 207, 5, 181, 264, 212, 270, 246, 146, 18, 138, 28, 122, 278, 218, 44, 108, 106, 92, 235, 242, 133, 234, 257, 123, 149, 127, 189, 89, 249, 46, 237, 87, 176, 39, 219, 51, 4, 19, 231, 266, 125, 85, 20, 277, 273, 33, 179, 267, 37, 162, 2, 105, 95, 77, 73, 220, 13, 63, 117, 168, 182, 188, 187, 195, 10, 185, 223, 90, 167, 6, 62, 99, 226, 184, 59, 30, 58, 209, 27, 83, 194, 192, 25, 94, 119, 171, 259, 50, 15, 101, 252, 160, 254, 38, 200, 56, 67, 152, 276, 23, 203, 208, 12, 190, 244], 'packing_plan': [1.0, 0.0, 1.0, 0.0, 0.0, 0.0, 1.0, 1.0, 0.0, 0.0, 0.0, 1.0, 0.0, 0.0, 1.0, 0.0, 1.0, 1.0, 0.0, 0.0, 1.0, 0.0, 1.0, 0.0, 0.0, 0.0, 1.0, 0.0, 0.0, 1.0, 0.0, 0.0, 1.0, 0.0, 0.0, 1.0, 0.0, 0.0, 0.0, 0.0, 1.0, 1.0, 0.0, 0.0, 0.0, 0.0, 0.0, 1.0, 0.0, 0.0, 1.0, 0.0, 1.0, 1.0, 0.0, 0.0, 0.0, 0.0, 1.0, 0.0, 0.0, 0.0, 1.0, 0.0, 1.0, 0.0, 0.0, 0.0, 0.0, 0.0, 0.0, 0.0, 0.0, 1.0, 1.0, 0.0, 1.0, 0.0, 0.0, 0.0, 0.0, 0.0, 1.0, 0.0, 0.0, 0.0, 1.0, 1.0, 0.0, 0.0, 0.0, 0.0, 0.0, 0.0, 0.0, 0.0, 1.0, 0.0, 0.0, 0.0, 0.0, 1.0, 0.0, 0.0, 0.0, 1.0, 0.0, 1.0, 0.0, 1.0, 0.0, 0.0, 1.0, 1.0, 0.0, 0.0, 1.0, 0.0, 0.0, 1.0, 0.0, 0.0, 0.0, 0.0, 1.0, 1.0, 0.0, 0.0, 0.0, 0.0, 0.0, 1.0, 0.0, 0.0, 0.0, 1.0, 0.0, 1.0, 0.0, 1.0, 0.0, 0.0, 0.0, 0.0, 1.0, 0.0, 0.0, 0.0, 0.0, 0.0, 0.0, 1.0, 1.0, 0.0, 0.0, 1.0, 0.0, 0.0, 0.0, 1.0, 1.0, 0.0, 0.0, 1.0, 0.0, 1.0, 0.0, 1.0, 0.0, 0.0, 1.0, 0.0, 1.0, 0.0, 0.0, 1.0, 0.0, 0.0, 0.0, 1.0, 1.0, 1.0, 0.0, 0.0, 0.0, 1.0, 0.0, 0.0, 0.0, 0.0, 0.0, 1.0, 0.0, 0.0, 0.0, 0.0, 0.0, 1.0, 1.0, 0.0, 0.0, 0.0, 0.0, 0.0, 1.0, 1.0, 0.0, 1.0, 1.0, 1.0, 0.0, 0.0, 0.0, 0.0, 0.0, 0.0, 0.0, 1.0, 1.0, 0.0, 0.0, 0.0, 0.0, 1.0, 0.0, 0.0, 1.0, 0.0, 0.0, 0.0, 0.0, 1.0, 0.0, 0.0, 0.0, 0.0, 0.0, 0.0, 0.0, 0.0, 1.0, 0.0, 0.0, 0.0, 0.0, 1.0, 0.0, 0.0, 0.0, 1.0, 0.0, 1.0, 0.0, 0.0, 1.0, 0.0, 1.0, 0.0, 0.0, 0.0, 1.0, 1.0, 0.0, 0.0, 0.0, 0.0, 0.0, 0.0, 0.0, 0.0, 0.0, 0.0, 1.0, 0.0, 1.0, 1.0, 1.0, 0.0, 1.0, 1.0, 0.0, 0.0, 0.0, 1.0, 1.0, 0.0, 0.0, 1.0, 0.0, 1.0, 0.0, 0.0, 1.0, 0.0, 1.0, 0.0, 1.0, 0.0, 0.0, 1.0, 0.0, 1.0, 0.0, 0.0, 1.0, 1.0, 1.0, 0.0, 0.0, 0.0, 1.0, 0.0, 0.0, 0.0, 1.0, 1.0, 0.0, 1.0, 0.0, 0.0, 0.0, 1.0, 0.0, 0.0, 0.0, 0.0, 0.0, 0.0, 0.0, 1.0, 0.0, 0.0, 0.0, 1.0, 1.0, 0.0, 0.0, 1.0, 0.0, 0.0, 0.0, 1.0, 0.0, 1.0, 1.0, 0.0, 0.0, 0.0, 0.0, 1.0, 0.0, 0.0, 1.0, 0.0, 0.0, 0.0, 1.0, 0.0, 0.0, 0.0, 0.0, 1.0, 0.0, 0.0, 1.0, 0.0, 1.0, 1.0, 0.0, 1.0, 1.0, 0.0, 1.0, 1.0, 0.0, 1.0, 0.0, 1.0, 0.0, 1.0, 1.0, 1.0, 1.0, 0.0, 0.0, 1.0, 1.0, 0.0, 1.0, 0.0, 0.0, 0.0, 0.0, 0.0, 1.0, 1.0, 1.0, 0.0, 1.0, 1.0, 0.0, 0.0, 1.0, 0.0, 0.0, 0.0, 0.0, 0.0, 1.0, 1.0, 1.0, 1.0, 1.0, 0.0, 0.0, 0.0, 1.0, 0.0, 0.0, 0.0, 1.0, 0.0, 1.0, 0.0, 0.0, 0.0, 1.0, 0.0, 0.0, 0.0, 1.0, 0.0, 1.0, 0.0, 0.0, 0.0, 1.0, 1.0, 0.0, 1.0, 1.0, 1.0, 0.0, 1.0, 0.0, 0.0, 0.0, 0.0, 1.0, 0.0, 0.0, 1.0, 0.0, 0.0, 0.0, 0.0, 1.0, 0.0, 1.0, 0.0, 1.0, 0.0, 1.0, 1.0, 0.0, 1.0, 0.0, 0.0, 1.0, 0.0, 0.0, 1.0, 0.0, 1.0, 1.0, 0.0, 0.0, 1.0, 1.0, 0.0, 0.0, 0.0, 0.0, 0.0, 0.0, 1.0, 0.0, 1.0, 1.0, 0.0, 1.0, 1.0, 0.0, 0.0, 1.0, 0.0, 1.0, 1.0, 0.0, 1.0, 1.0, 0.0, 1.0, 1.0, 0.0, 0.0, 0.0, 0.0, 0.0, 0.0, 1.0, 0.0, 1.0, 0.0, 1.0, 0.0, 1.0, 0.0, 1.0, 0.0, 1.0, 1.0, 0.0, 1.0, 0.0, 1.0, 0.0, 0.0, 0.0, 0.0, 0.0, 0.0, 0.0, 0.0, 0.0, 1.0, 1.0, 1.0, 0.0, 1.0, 1.0, 0.0, 1.0, 1.0, 0.0, 0.0, 1.0, 0.0, 0.0, 0.0, 1.0, 0.0, 0.0, 0.0, 0.0, 1.0, 1.0, 1.0, 0.0, 0.0, 0.0, 1.0, 1.0, 0.0, 1.0, 0.0, 0.0, 0.0, 0.0, 1.0, 1.0, 0.0, 0.0, 0.0, 1.0, 1.0, 0.0, 1.0, 1.0, 0.0, 0.0, 0.0, 1.0, 0.0, 0.0, 1.0, 1.0, 1.0, 0.0, 0.0, 1.0, 1.0, 0.0, 1.0, 0.0, 0.0, 1.0, 0.0, 0.0, 0.0, 0.0, 0.0, 0.0, 0.0, 0.0, 0.0, 0.0, 1.0, 0.0, 0.0, 0.0, 0.0, 0.0, 1.0, 1.0, 0.0, 0.0, 0.0, 1.0, 0.0, 0.0, 0.0, 1.0, 0.0, 0.0, 0.0, 1.0, 0.0, 0.0, 0.0, 0.0, 1.0, 1.0, 0.0, 0.0, 0.0, 0.0, 0.0, 0.0, 0.0, 0.0, 0.0, 0.0, 1.0, 0.0, 1.0, 1.0, 0.0, 0.0, 0.0, 0.0, 1.0, 0.0, 0.0, 0.0, 1.0, 0.0, 1.0, 0.0, 0.0, 0.0, 0.0, 0.0, 0.0, 0.0, 0.0, 0.0, 1.0, 0.0, 1.0, 0.0, 0.0, 0.0, 1.0, 0.0, 1.0, 0.0, 0.0, 0.0, 0.0, 0.0, 0.0, 0.0, 0.0, 0.0, 0.0, 0.0, 0.0, 0.0, 0.0, 0.0, 0.0, 0.0, 0.0, 1.0, 0.0, 0.0, 1.0, 1.0, 1.0, 1.0, 0.0, 0.0, 0.0, 1.0, 0.0, 1.0, 1.0, 1.0, 0.0, 0.0, 1.0, 1.0, 0.0, 1.0, 1.0, 1.0, 1.0, 0.0, 0.0, 1.0, 1.0, 0.0, 0.0, 0.0, 0.0, 0.0, 0.0, 0.0, 0.0, 0.0, 0.0, 1.0, 0.0, 0.0, 0.0, 1.0, 0.0, 0.0, 1.0, 1.0, 1.0, 0.0, 0.0, 0.0, 0.0, 0.0, 0.0, 1.0, 0.0, 0.0, 1.0, 1.0, 1.0, 0.0, 1.0, 0.0, 0.0, 0.0, 1.0, 1.0, 1.0, 0.0, 0.0, 0.0, 1.0, 0.0, 0.0, 0.0, 0.0, 0.0, 1.0, 0.0, 0.0, 0.0, 0.0, 1.0, 1.0, 0.0, 0.0, 0.0, 0.0, 1.0, 1.0, 0.0, 1.0, 0.0, 1.0, 0.0, 0.0, 0.0, 1.0, 0.0, 0.0, 1.0, 0.0, 0.0, 0.0, 0.0, 1.0, 0.0, 0.0, 1.0, 1.0, 0.0, 1.0, 1.0, 0.0, 0.0, 0.0, 0.0, 0.0, 1.0, 0.0, 1.0, 0.0, 0.0, 0.0, 0.0, 0.0, 0.0, 0.0, 0.0, 0.0, 0.0, 0.0, 1.0, 1.0, 1.0, 0.0, 0.0, 1.0, 0.0, 0.0, 0.0, 1.0, 1.0, 0.0, 0.0, 0.0, 1.0, 0.0, 1.0, 1.0, 0.0, 0.0, 1.0, 1.0, 1.0, 1.0, 0.0, 0.0, 1.0, 1.0, 0.0, 1.0, 0.0, 0.0, 0.0, 0.0, 1.0, 0.0, 1.0, 0.0, 0.0, 0.0, 0.0, 0.0, 0.0, 0.0, 0.0, 1.0, 0.0, 1.0, 1.0, 1.0, 0.0, 0.0, 0.0, 1.0, 1.0, 0.0, 1.0, 0.0, 1.0, 0.0, 1.0, 0.0, 0.0, 1.0, 0.0, 1.0, 0.0, 1.0, 0.0, 0.0, 1.0, 0.0, 1.0, 0.0, 1.0, 1.0, 0.0, 0.0, 0.0, 0.0, 1.0, 0.0, 0.0, 0.0, 0.0, 0.0, 0.0, 0.0, 0.0, 0.0, 0.0, 0.0, 0.0, 0.0, 1.0, 1.0, 0.0, 1.0, 1.0, 0.0, 0.0, 0.0, 0.0, 1.0, 0.0, 0.0, 0.0, 0.0, 1.0, 0.0, 1.0, 1.0, 0.0, 0.0, 0.0, 0.0, 0.0, 1.0, 0.0, 0.0, 0.0, 0.0, 0.0, 0.0, 1.0, 0.0, 0.0, 0.0, 1.0, 1.0, 1.0, 0.0, 0.0, 1.0, 1.0, 0.0, 0.0, 1.0, 1.0, 0.0, 0.0, 1.0, 0.0, 0.0, 0.0, 0.0, 0.0, 0.0, 0.0, 0.0, 0.0, 0.0, 0.0, 1.0, 0.0, 0.0, 1.0, 0.0, 0.0, 1.0, 0.0, 1.0, 0.0, 1.0, 1.0, 1.0, 1.0, 0.0, 0.0, 1.0, 1.0, 1.0, 1.0, 0.0, 1.0, 1.0, 1.0, 0.0, 1.0, 1.0, 0.0, 0.0, 0.0, 1.0, 1.0, 1.0, 0.0, 0.0, 1.0, 1.0, 0.0, 0.0, 1.0, 0.0, 0.0, 0.0, 1.0, 0.0, 1.0, 1.0, 0.0, 1.0, 0.0, 0.0, 0.0, 0.0, 1.0, 1.0, 1.0, 1.0, 1.0, 0.0, 0.0, 1.0, 0.0, 0.0, 0.0, 1.0, 0.0, 1.0, 0.0, 1.0, 1.0, 0.0, 0.0, 0.0, 1.0, 1.0, 0.0, 0.0, 0.0, 1.0, 1.0, 0.0, 0.0, 0.0, 1.0, 0.0, 0.0, 1.0, 0.0, 0.0, 0.0, 1.0, 0.0, 0.0, 0.0, 0.0, 1.0, 0.0, 1.0, 0.0, 0.0, 0.0, 0.0, 1.0, 0.0, 0.0, 0.0, 0.0, 0.0, 1.0, 1.0, 0.0, 0.0, 1.0, 1.0, 0.0, 0.0, 0.0, 1.0, 1.0, 1.0, 1.0, 1.0, 0.0, 0.0, 1.0, 1.0, 0.0, 0.0, 1.0, 1.0, 0.0, 0.0, 1.0, 0.0, 0.0, 0.0, 0.0, 0.0, 1.0, 1.0, 1.0, 1.0, 0.0, 1.0, 1.0, 0.0, 1.0, 0.0, 0.0, 0.0, 0.0, 0.0, 0.0, 0.0, 0.0, 1.0, 0.0, 0.0, 0.0, 1.0, 0.0, 0.0, 0.0, 1.0, 0.0, 0.0, 1.0, 0.0, 0.0, 0.0, 0.0, 1.0, 0.0, 1.0, 0.0, 1.0, 1.0, 0.0, 1.0, 0.0, 1.0, 0.0, 0.0, 0.0, 1.0, 0.0, 0.0, 0.0, 0.0, 0.0, 1.0, 0.0, 0.0, 0.0, 1.0, 1.0, 1.0, 1.0, 1.0, 0.0, 0.0, 0.0, 1.0, 1.0, 0.0, 1.0, 0.0, 1.0, 1.0, 1.0, 1.0, 0.0, 0.0, 0.0, 1.0, 0.0, 0.0, 0.0, 0.0, 0.0, 1.0, 0.0, 1.0, 0.0, 0.0, 0.0, 0.0, 0.0, 0.0, 1.0, 1.0, 1.0, 0.0, 1.0, 0.0, 0.0, 0.0, 0.0, 1.0, 0.0, 0.0, 1.0, 0.0, 1.0, 0.0, 0.0, 0.0, 0.0, 0.0, 1.0, 1.0, 0.0, 0.0, 0.0, 1.0, 1.0, 0.0, 0.0, 1.0, 0.0, 0.0, 0.0, 0.0, 0.0, 0.0, 0.0, 1.0, 0.0, 1.0, 0.0, 0.0, 0.0, 0.0, 0.0, 0.0, 0.0, 1.0, 1.0, 0.0, 1.0, 0.0, 1.0, 1.0, 1.0, 0.0, 1.0, 0.0, 1.0, 0.0, 0.0, 0.0, 0.0, 1.0, 0.0, 1.0, 0.0, 0.0, 0.0, 0.0, 0.0, 1.0, 0.0, 0.0, 1.0, 1.0, 0.0, 0.0, 0.0, 0.0, 0.0, 0.0, 1.0, 1.0, 1.0, 0.0, 1.0, 0.0, 0.0, 1.0, 1.0, 0.0, 1.0, 0.0, 0.0, 0.0, 1.0, 1.0, 0.0, 0.0, 0.0, 1.0, 0.0, 1.0, 0.0, 0.0, 0.0, 0.0, 0.0, 0.0, 1.0, 0.0, 1.0, 0.0, 0.0, 0.0, 1.0, 1.0, 1.0, 0.0, 1.0, 0.0, 0.0, 1.0, 1.0, 1.0, 0.0, 0.0, 0.0, 0.0, 0.0, 0.0, 0.0, 0.0, 1.0, 1.0, 0.0, 0.0, 1.0, 0.0, 1.0, 0.0, 0.0, 0.0, 0.0, 1.0, 0.0, 0.0, 1.0, 0.0, 0.0, 0.0, 1.0, 1.0, 0.0, 0.0, 1.0, 0.0, 1.0, 1.0, 0.0, 1.0, 1.0, 1.0, 0.0, 1.0, 1.0, 0.0, 0.0, 0.0, 0.0, 0.0, 0.0, 1.0, 0.0, 1.0, 0.0, 0.0, 0.0, 0.0, 1.0, 0.0, 0.0, 0.0, 0.0, 0.0, 0.0, 0.0, 0.0, 0.0, 1.0, 0.0, 0.0, 0.0, 1.0, 1.0, 0.0, 0.0, 0.0, 1.0, 0.0, 0.0, 0.0, 1.0, 0.0, 0.0, 0.0, 0.0, 0.0, 1.0, 0.0, 1.0, 0.0, 0.0, 0.0, 1.0, 1.0, 0.0, 1.0, 1.0, 0.0, 1.0, 0.0, 0.0, 0.0, 0.0, 1.0, 0.0, 0.0, 1.0, 1.0, 1.0, 0.0, 0.0, 1.0, 0.0, 0.0, 0.0, 0.0, 1.0, 1.0, 0.0, 0.0, 0.0, 0.0, 1.0, 1.0, 1.0, 0.0, 0.0, 0.0, 1.0, 1.0, 1.0, 1.0, 1.0, 1.0, 0.0, 0.0, 0.0, 0.0, 0.0, 0.0, 1.0, 0.0, 0.0, 0.0, 0.0, 1.0, 0.0, 0.0, 0.0, 0.0, 0.0, 1.0, 0.0, 1.0, 0.0, 1.0, 0.0, 1.0, 0.0, 0.0, 0.0, 0.0, 0.0, 1.0, 0.0, 0.0, 0.0, 0.0, 1.0, 0.0, 0.0, 0.0, 0.0, 0.0, 0.0, 0.0, 0.0, 0.0, 0.0, 0.0, 1.0, 1.0, 1.0, 0.0, 1.0, 0.0, 1.0, 0.0, 0.0, 0.0, 1.0, 1.0, 0.0, 0.0, 0.0, 1.0, 0.0, 0.0, 1.0, 0.0, 0.0, 1.0, 1.0, 0.0, 1.0, 0.0, 0.0, 0.0, 0.0, 1.0, 0.0, 0.0, 0.0, 0.0, 1.0, 0.0, 0.0, 0.0, 0.0, 0.0, 1.0, 1.0, 1.0, 1.0, 1.0, 1.0, 0.0, 0.0, 1.0, 0.0, 0.0, 0.0, 1.0, 0.0, 0.0, 0.0, 1.0, 1.0, 0.0, 0.0, 1.0, 0.0, 0.0, 0.0, 0.0, 1.0, 0.0, 1.0, 0.0, 0.0, 0.0, 1.0, 0.0, 0.0, 1.0, 0.0, 0.0, 0.0, 1.0, 1.0, 0.0, 0.0, 1.0, 1.0, 1.0, 0.0, 0.0, 0.0, 0.0, 0.0, 0.0, 1.0, 0.0, 0.0, 1.0, 0.0, 1.0, 0.0, 1.0, 1.0, 1.0, 0.0, 1.0, 1.0, 0.0, 0.0, 0.0, 1.0, 1.0, 1.0, 0.0, 0.0, 0.0, 0.0, 0.0, 0.0, 1.0, 0.0, 1.0, 0.0, 0.0, 0.0, 0.0, 0.0, 0.0, 0.0, 0.0, 0.0, 0.0, 0.0, 1.0, 1.0, 0.0, 0.0, 0.0, 1.0, 0.0, 1.0, 0.0, 1.0, 1.0, 1.0, 0.0, 1.0, 0.0, 0.0, 1.0, 0.0, 1.0, 1.0, 0.0, 1.0, 1.0, 0.0, 1.0, 0.0, 0.0, 0.0, 0.0, 0.0, 0.0, 1.0, 0.0, 1.0, 1.0, 0.0, 0.0, 0.0, 0.0, 0.0, 0.0, 1.0, 0.0, 0.0, 0.0, 1.0, 0.0, 1.0, 0.0, 1.0, 0.0, 0.0, 1.0, 0.0, 0.0, 0.0, 1.0, 1.0, 0.0, 1.0, 0.0, 0.0, 1.0, 0.0, 0.0, 0.0, 0.0, 0.0, 0.0, 0.0, 0.0, 0.0, 1.0, 0.0, 1.0, 0.0, 0.0, 0.0, 0.0, 1.0, 0.0, 0.0, 0.0, 1.0, 1.0, 1.0, 1.0, 0.0, 0.0, 0.0, 0.0, 0.0, 0.0, 0.0, 1.0, 0.0, 0.0, 1.0, 1.0, 1.0, 0.0, 0.0, 1.0, 0.0, 0.0, 0.0, 1.0, 0.0, 1.0, 0.0, 1.0, 0.0, 0.0, 0.0, 0.0, 0.0, 1.0, 0.0, 0.0, 1.0, 1.0, 0.0, 0.0, 1.0, 0.0, 1.0, 0.0, 1.0, 1.0, 1.0, 1.0, 0.0, 0.0, 1.0, 0.0, 1.0, 0.0, 0.0, 1.0, 1.0, 1.0, 1.0, 1.0, 1.0, 0.0, 0.0, 1.0, 1.0, 0.0, 0.0, 0.0, 0.0, 1.0, 0.0, 1.0, 0.0, 0.0, 1.0, 0.0, 1.0, 0.0, 1.0, 0.0, 0.0, 0.0, 1.0, 1.0, 0.0, 0.0, 0.0, 1.0, 0.0, 0.0, 1.0, 0.0, 0.0, 0.0, 1.0, 1.0, 0.0, 0.0, 0.0, 1.0, 0.0, 0.0, 0.0, 0.0, 0.0, 1.0, 0.0, 1.0, 0.0, 1.0, 0.0, 0.0, 1.0, 0.0, 0.0, 0.0, 0.0, 0.0, 1.0, 0.0, 0.0, 0.0, 0.0, 0.0, 0.0, 0.0, 0.0, 0.0, 0.0, 0.0, 0.0, 1.0, 1.0, 0.0, 1.0, 0.0, 1.0, 0.0, 0.0, 0.0, 0.0, 0.0, 0.0, 0.0, 1.0, 0.0, 0.0, 1.0, 1.0, 0.0, 0.0, 1.0, 1.0, 0.0, 0.0, 0.0, 1.0, 0.0, 0.0, 0.0, 0.0, 0.0, 0.0, 1.0, 1.0, 0.0, 0.0, 0.0, 0.0, 0.0, 0.0, 1.0, 0.0, 1.0, 0.0, 0.0, 0.0, 1.0, 0.0, 0.0, 0.0, 1.0, 0.0, 1.0, 0.0, 1.0, 1.0, 0.0, 0.0, 0.0, 1.0, 0.0, 0.0, 1.0, 0.0, 0.0, 1.0, 1.0, 1.0, 1.0, 0.0, 0.0, 1.0, 0.0, 0.0, 1.0, 1.0, 1.0, 0.0, 0.0, 0.0, 1.0, 0.0, 0.0, 1.0, 1.0, 0.0, 0.0, 0.0, 0.0, 1.0, 1.0, 0.0, 0.0, 0.0, 0.0, 0.0, 1.0, 1.0, 0.0, 0.0, 0.0, 1.0, 0.0, 0.0, 0.0, 0.0, 0.0, 0.0, 1.0, 0.0, 1.0, 1.0, 1.0, 1.0, 0.0, 0.0, 1.0, 0.0, 1.0, 1.0, 0.0, 0.0, 0.0, 1.0, 0.0, 1.0, 1.0, 0.0, 0.0, 1.0, 0.0, 0.0, 0.0, 0.0, 0.0, 0.0, 1.0, 0.0, 1.0, 0.0, 1.0, 1.0, 1.0, 0.0, 0.0, 0.0, 0.0, 0.0, 0.0, 0.0, 0.0, 0.0, 0.0, 1.0, 0.0, 0.0, 0.0, 0.0, 0.0, 0.0, 0.0, 1.0, 0.0, 1.0, 1.0, 0.0, 0.0, 0.0, 0.0, 0.0, 0.0, 1.0, 1.0, 1.0, 1.0, 0.0, 0.0, 0.0, 0.0, 0.0, 1.0, 0.0, 0.0, 1.0, 0.0, 1.0, 1.0, 0.0, 1.0, 0.0, 1.0, 0.0, 1.0, 1.0, 0.0, 1.0, 1.0, 0.0, 1.0, 0.0, 0.0, 1.0, 0.0, 1.0, 0.0, 1.0, 0.0, 1.0, 0.0, 0.0, 1.0, 1.0, 1.0, 0.0, 0.0, 0.0, 0.0, 1.0, 0.0, 1.0, 0.0, 1.0, 1.0, 0.0, 1.0, 0.0, 0.0, 1.0, 0.0, 1.0, 0.0, 0.0, 1.0, 1.0, 1.0, 0.0, 0.0, 0.0, 0.0, 0.0, 0.0, 0.0, 0.0, 0.0, 0.0, 0.0, 0.0, 1.0, 1.0, 1.0, 0.0, 0.0, 0.0, 0.0, 0.0, 0.0, 1.0, 1.0, 1.0, 1.0, 0.0, 1.0, 0.0, 0.0, 0.0, 1.0, 1.0, 0.0, 1.0, 0.0, 0.0, 1.0, 1.0, 0.0, 0.0, 1.0, 1.0, 0.0, 1.0, 0.0, 1.0, 1.0, 1.0, 1.0, 1.0, 0.0, 1.0, 0.0, 0.0, 0.0, 1.0, 0.0, 0.0, 1.0, 1.0, 0.0, 1.0, 0.0, 0.0, 1.0, 0.0, 1.0, 1.0, 0.0, 0.0, 1.0, 1.0, 0.0, 0.0, 1.0, 0.0, 1.0, 0.0, 0.0, 1.0, 0.0, 1.0, 0.0, 1.0, 1.0, 0.0, 0.0, 0.0, 0.0, 0.0, 0.0, 0.0, 0.0, 0.0, 0.0, 0.0, 0.0, 1.0, 1.0, 1.0, 0.0, 1.0, 0.0, 0.0, 1.0, 0.0, 0.0, 0.0, 1.0, 0.0, 0.0, 1.0, 0.0, 1.0, 1.0, 1.0, 0.0, 0.0, 0.0, 1.0, 0.0, 0.0, 1.0, 0.0, 0.0, 0.0, 0.0, 1.0, 1.0, 1.0, 1.0, 1.0, 0.0, 1.0, 1.0, 0.0, 0.0, 1.0, 0.0, 0.0, 1.0, 0.0, 1.0, 1.0, 1.0, 1.0, 0.0, 0.0, 0.0, 0.0, 0.0, 1.0, 1.0, 0.0, 0.0, 0.0, 1.0, 0.0, 0.0, 0.0, 0.0, 0.0, 0.0, 1.0, 0.0, 1.0, 0.0, 0.0, 0.0, 0.0, 0.0, 0.0, 1.0, 1.0, 0.0, 0.0, 0.0, 1.0, 0.0, 0.0, 1.0, 1.0, 1.0, 1.0, 0.0, 0.0, 0.0, 1.0, 0.0, 1.0, 1.0, 1.0, 0.0, 0.0, 0.0, 1.0, 0.0, 0.0, 0.0, 0.0, 1.0, 1.0, 1.0, 0.0, 0.0, 1.0, 0.0, 0.0, 0.0, 0.0, 1.0, 1.0, 0.0, 0.0, 0.0, 0.0, 0.0, 1.0, 1.0, 0.0, 0.0, 1.0, 0.0, 0.0, 0.0, 1.0, 0.0, 0.0, 0.0, 0.0, 1.0, 0.0, 0.0, 0.0, 1.0, 0.0, 0.0, 0.0, 0.0, 0.0, 1.0, 1.0, 0.0, 0.0, 0.0, 0.0, 0.0, 1.0, 0.0, 0.0, 0.0, 1.0, 0.0, 0.0, 1.0, 0.0, 0.0, 0.0, 0.0, 1.0, 0.0, 0.0, 0.0, 1.0, 0.0, 1.0, 0.0, 1.0, 1.0, 0.0, 0.0, 0.0, 0.0, 1.0, 1.0, 1.0, 0.0, 0.0, 0.0, 1.0, 0.0, 1.0, 0.0, 1.0, 0.0, 1.0, 0.0, 0.0, 1.0, 1.0, 0.0, 1.0, 1.0, 0.0, 1.0, 1.0, 0.0, 1.0, 0.0, 0.0, 1.0, 0.0, 1.0, 0.0, 1.0, 0.0, 1.0, 0.0, 0.0, 0.0, 0.0, 1.0, 0.0, 1.0, 0.0, 0.0, 1.0, 0.0, 0.0, 1.0, 0.0, 1.0, 1.0, 1.0, 0.0, 0.0, 0.0, 0.0, 1.0, 0.0, 0.0, 1.0, 0.0, 0.0, 0.0, 0.0, 0.0, 1.0, 0.0, 1.0, 1.0, 0.0, 1.0, 0.0, 0.0, 1.0, 0.0, 1.0, 0.0, 0.0, 0.0, 1.0, 1.0, 0.0, 0.0, 0.0, 0.0, 0.0, 0.0, 0.0, 0.0, 0.0, 0.0, 0.0, 1.0, 0.0, 0.0, 0.0, 1.0, 0.0, 0.0, 1.0, 0.0, 1.0, 0.0, 0.0, 0.0, 0.0, 1.0, 0.0, 0.0, 1.0, 1.0, 1.0, 0.0, 1.0, 0.0, 0.0, 1.0, 0.0, 1.0, 1.0, 1.0, 0.0, 1.0, 1.0, 1.0, 0.0, 1.0, 0.0, 1.0, 0.0, 0.0, 0.0, 0.0, 1.0, 0.0, 0.0, 1.0, 0.0, 0.0, 1.0, 0.0, 1.0, 0.0, 0.0, 0.0, 0.0, 0.0, 1.0, 1.0, 0.0, 1.0, 0.0, 1.0, 0.0, 0.0, 1.0, 0.0, 0.0, 1.0, 0.0, 1.0, 1.0, 1.0, 0.0, 0.0, 0.0, 0.0, 0.0, 0.0, 1.0, 1.0, 0.0, 1.0, 0.0, 0.0, 1.0, 1.0, 1.0, 1.0, 0.0, 1.0, 0.0, 0.0, 1.0, 0.0, 0.0, 0.0, 0.0, 0.0, 0.0, 0.0, 0.0, 1.0, 0.0, 1.0, 0.0, 1.0, 0.0, 1.0, 1.0, 0.0, 0.0, 0.0, 0.0, 0.0, 1.0, 1.0, 0.0, 1.0, 0.0, 1.0, 0.0, 0.0, 1.0, 0.0, 1.0, 1.0, 1.0, 1.0, 1.0, 1.0, 1.0, 0.0, 1.0, 0.0, 0.0, 0.0, 0.0, 0.0, 0.0, 1.0, 0.0, 1.0, 0.0, 0.0, 1.0, 1.0, 0.0, 1.0, 1.0, 0.0, 0.0, 0.0, 1.0, 0.0, 1.0, 0.0, 0.0, 1.0, 0.0, 0.0, 1.0, 1.0, 0.0, 0.0, 1.0, 0.0, 1.0, 1.0, 1.0, 0.0, 1.0, 0.0, 0.0, 1.0, 1.0, 1.0, 1.0, 0.0, 0.0, 0.0, 0.0, 1.0, 1.0, 1.0, 1.0, 0.0, 0.0, 0.0, 0.0, 1.0, 1.0, 1.0, 0.0, 0.0, 0.0, 0.0, 0.0, 0.0, 0.0, 0.0, 1.0, 1.0, 0.0, 0.0, 1.0, 0.0, 0.0, 1.0, 1.0, 0.0, 0.0, 1.0, 1.0, 0.0, 0.0, 0.0, 1.0, 0.0, 0.0, 1.0, 1.0, 0.0, 0.0, 0.0, 0.0, 0.0, 1.0, 0.0, 0.0, 0.0, 0.0, 1.0, 0.0, 0.0, 0.0, 0.0, 1.0, 0.0, 0.0, 1.0, 0.0, 0.0, 1.0, 0.0, 0.0, 1.0, 0.0, 1.0, 0.0, 1.0, 0.0, 1.0, 0.0, 1.0, 0.0, 1.0, 1.0, 0.0, 0.0, 0.0, 0.0, 1.0, 0.0, 1.0, 0.0, 0.0, 0.0, 1.0, 1.0, 0.0, 0.0, 0.0, 1.0, 0.0, 0.0, 1.0, 1.0, 0.0, 1.0, 1.0, 1.0, 0.0, 0.0, 1.0, 1.0, 0.0, 0.0, 0.0, 0.0, 1.0, 1.0, 0.0, 1.0, 0.0, 0.0, 0.0, 1.0, 0.0, 1.0, 0.0, 0.0, 0.0, 1.0, 0.0, 0.0, 1.0, 0.0, 1.0, 1.0, 1.0, 0.0, 0.0, 1.0, 0.0, 0.0, 1.0, 0.0, 0.0, 1.0, 0.0, 1.0, 1.0, 0.0, 1.0, 0.0, 1.0, 0.0, 0.0, 0.0, 1.0, 1.0, 1.0, 0.0, 0.0, 1.0, 0.0, 0.0], 'tour_cost': 7735054.3794425875, 'packing_plan_cost': 756031.0})]"
      ]
     },
     "execution_count": 34,
     "metadata": {},
     "output_type": "execute_result"
    }
   ],
   "source": [
    "pack_optimal([c1, c2], a280_n1395[\"Q\"], sorted_value_to_weight_ratio_dict, a280_n1395[\"item_weights\"])"
   ]
  },
  {
   "cell_type": "code",
   "execution_count": null,
   "metadata": {},
   "outputs": [],
   "source": []
  },
  {
   "cell_type": "code",
   "execution_count": null,
   "metadata": {},
   "outputs": [],
   "source": []
  },
  {
   "cell_type": "code",
   "execution_count": 35,
   "metadata": {},
   "outputs": [
    {
     "name": "stderr",
     "output_type": "stream",
     "text": [
      "/var/folders/jn/d4dmng457v33gxcq0bh9n2nh0000gn/T/ipykernel_91868/854259819.py:5: FutureWarning: Using a non-tuple sequence for multidimensional indexing is deprecated; use `arr[tuple(seq)]` instead of `arr[seq]`. In the future this will be interpreted as an array index, `arr[np.array(seq)]`, which will result either in an error or a different result.\n",
      "  selected_items_weights = item_weights[selected_items]\n"
     ]
    }
   ],
   "source": [
    "init_pop = generate_initial_population(50,\n",
    "                                       a280_n1395[\"nb_cities\"], \n",
    "                                       \"pack_random\", \n",
    "                                       \"random\", \n",
    "                                       a280_n1395[\"Q\"], \n",
    "                                       a280_n1395[\"value_to_weight_ratio_dict\"],\n",
    "                                       a280_n1395[\"item_weights\"])"
   ]
  },
  {
   "cell_type": "code",
   "execution_count": 36,
   "metadata": {},
   "outputs": [],
   "source": [
    "evaled_pop = []\n",
    "i = 0\n",
    "for candidate_solution in init_pop:\n",
    "    evaluate_candidate_solution_cost_pdist(candidate_solution,\n",
    "                                     a280_n1395[\"pairwise_distances\"],\n",
    "                                     a280_n1395[\"item_to_city_mapping_dict\"],\n",
    "                                     a280_n1395[\"item_weights\"],\n",
    "                                     a280_n1395[\"item_values\"],\n",
    "                                     a280_n1395[\"v_max\"],\n",
    "                                     a280_n1395[\"v_min\"],\n",
    "                                     a280_n1395[\"Q\"],\n",
    "                                     a280_n1395[\"R\"])\n",
    "    i += 1 \n",
    "    evaled_pop.append(candidate_solution)"
   ]
  },
  {
   "cell_type": "code",
   "execution_count": 75,
   "metadata": {},
   "outputs": [],
   "source": [
    "def get_ranks(population): # Ursula\n",
    "    '''\n",
    "    Calculates the rank of each of the candidate solutions in a population based on non dominated sort for their \n",
    "    pareto front.\n",
    "    \n",
    "    Parameters:\n",
    "    - population (list): List of candidate solutions represented as structures\n",
    "      from the ypstruct library with the following attributes:\n",
    "        - tour (list): An array representing the sequence of cities visited.\n",
    "        - packing_plan (list): A binary array indicating items picked (1) or not (0).\n",
    "        - packing_plan_cost (float): The total value of the knapsack\n",
    "        - tour_cost (float): The total length of the tour\n",
    "        - rank (integer): The NSGA-II rank of the candidate solution\n",
    "        - crowding_distance (float): the NSGA-II crowding distance of the candidate solution\n",
    "    \n",
    "    Return: \n",
    "    -Nothing\n",
    "    '''\n",
    "   \n",
    "    #Current front set\n",
    "    f = []\n",
    "    #Sets for the entire population\n",
    "    big_s = []\n",
    "    #dominant individuals for the entire population\n",
    "    big_np = []\n",
    "    for p in population:\n",
    "        #S is the set of individuals that are dominated by p\n",
    "        s = []\n",
    "        #np = the number of individuals that dominate p\n",
    "        np = 0\n",
    "        for q in population:\n",
    "            if q.packing_plan_cost < p.packing_plan_cost and q.tour_cost >= p.tour_cost:\n",
    "                s.append(q)\n",
    "            elif q.packing_plan_cost <= p.packing_plan_cost and q.tour_cost > p.tour_cost:\n",
    "                s.append(q)\n",
    "            elif q.packing_plan_cost > p.packing_plan_cost and q.tour_cost <= p.tour_cost:\n",
    "                np +=1\n",
    "            elif q.packing_plan_cost >= p.packing_plan_cost and q.tour_cost < p.tour_cost:\n",
    "                np +=1\n",
    "        if np == 0:\n",
    "            p.rank = 1\n",
    "            f.append(p)\n",
    "    \n",
    "        big_s.append(s)\n",
    "        big_np.append(np)\n",
    "    front_counter = 1\n",
    "    while len(f) != 0:\n",
    "        #individuals from the i+1 front\n",
    "        q = []\n",
    "        for y in f:\n",
    "            for x in big_s[population.index(y)]:\n",
    "                big_np[population.index(x)] -= 1\n",
    "                if big_np[population.index(x)] == 0:\n",
    "                    x.rank = front_counter+1\n",
    "                    q.append(x)\n",
    "        front_counter += 1\n",
    "        f = q\n",
    "    return None"
   ]
  },
  {
   "cell_type": "code",
   "execution_count": 38,
   "metadata": {},
   "outputs": [],
   "source": [
    "get_ranks(evaled_pop)"
   ]
  },
  {
   "cell_type": "code",
   "execution_count": 76,
   "metadata": {},
   "outputs": [],
   "source": [
    "def get_crowding_distance(population): # Ursula\n",
    "    '''\n",
    "    Calculates the crowding distance of each of the candidate solutions in a population based \n",
    "    on the rank from a non dominated sort for their pareto front and the distance between other\n",
    "    candidate solutions.\n",
    "    \n",
    "    Parameters:\n",
    "    - population (list): List of candidate solutions represented as structures\n",
    "      from the ypstruct library with the following attributes:\n",
    "        - tour (list): An array representing the sequence of cities visited.\n",
    "        - packing_plan (list): A binary array indicating items picked (1) or not (0).\n",
    "        - packing_plan_cost (float): The total value of the knapsack\n",
    "        - tour_cost (float): The total length of the tour\n",
    "        - rank (integer): The NSGA-II rank of the candidate solution\n",
    "        - crowding_distance (float): the NSGA-II crowding distance of the candidate solution\n",
    "    \n",
    "    Return: \n",
    "    -Nothing\n",
    "    '''\n",
    "    \n",
    "    ranks = [p.rank for p in population]\n",
    "    max_rank = max(ranks)\n",
    "    dist = []\n",
    "    fronts = []\n",
    "    for i in range(1, max_rank+1):\n",
    "        front = []\n",
    "        distance = []\n",
    "        for q in population:\n",
    "            if q.rank == i:\n",
    "                front.append(q)\n",
    "                distance.append(0)\n",
    "        fronts.append(front)\n",
    "        dist.append(distance)\n",
    "    for i in range(len(fronts)):\n",
    "        fronts[i] = sorted(fronts[i], key=lambda x: x.tour_cost)\n",
    "        dist[i][0] = float('inf')\n",
    "        dist[i][-1] = float('inf')\n",
    "        length = len(fronts[i])\n",
    "        for j in range(1,length-1):\n",
    "            dist[i][j] += (fronts[i][j+1].tour_cost - fronts[i][j-1].tour_cost)/(fronts[i][-1].tour_cost - fronts[i][0].tour_cost)\n",
    "    for i in range(len(fronts)):\n",
    "        fronts[i] = sorted(fronts[i], key=lambda x: x.packing_plan_cost)\n",
    "        dist[i][0] = float('inf')\n",
    "        dist[i][-1] = float('inf')\n",
    "        length = len(fronts[i])\n",
    "        for j in range(1,length-1):\n",
    "            dist[i][j] += (fronts[i][j+1].packing_plan_cost - fronts[i][j-1].packing_plan_cost)/(fronts[i][-1].packing_plan_cost - fronts[i][0].packing_plan_cost)\n",
    "            #Need to update fronts to one list, list to population\n",
    "    for i in range(len(fronts)):\n",
    "        for j in range(len(fronts[i])):\n",
    "            fronts[i][j].crowding_distance = dist[i][j]\n",
    "    #new_pop = [item for sublist in fronts for item in sublist]\n",
    "    #assert len(new_pop) == len(population)\n",
    "    return None"
   ]
  },
  {
   "cell_type": "code",
   "execution_count": 41,
   "metadata": {},
   "outputs": [],
   "source": [
    " get_crowding_distance(evaled_pop)"
   ]
  },
  {
   "cell_type": "code",
   "execution_count": 42,
   "metadata": {},
   "outputs": [
    {
     "data": {
      "text/plain": [
       "<matplotlib.collections.PathCollection at 0x7feb7aabd2b0>"
      ]
     },
     "execution_count": 42,
     "metadata": {},
     "output_type": "execute_result"
    },
    {
     "data": {
      "image/png": "[encoded data removed]",
      "text/plain": [
       "<Figure size 432x288 with 1 Axes>"
      ]
     },
     "metadata": {
      "needs_background": "light"
     },
     "output_type": "display_data"
    }
   ],
   "source": [
    "plt.scatter([sol.tour_cost for sol in evaled_pop], [-1 * sol.packing_plan_cost for sol in evaled_pop])"
   ]
  },
  {
   "cell_type": "code",
   "execution_count": 43,
   "metadata": {},
   "outputs": [
    {
     "name": "stdout",
     "output_type": "stream",
     "text": [
      "       tour_cost  packing_plan_cost  rank\n",
      "0   9.557297e+06            -701041     1\n",
      "1   1.001676e+07            -710915     3\n",
      "2   9.797786e+06            -700001     3\n",
      "3   9.387401e+06            -694446     2\n",
      "4   1.003124e+07            -709170     4\n",
      "5   9.484491e+06            -679082     4\n",
      "6   1.002489e+07            -686316     8\n",
      "7   1.008647e+07            -686133     9\n",
      "8   9.168966e+06            -686259     1\n",
      "9   9.830340e+06            -690317     6\n",
      "10  9.314668e+06            -678712     2\n",
      "11  9.537085e+06            -689454     3\n",
      "12  9.323116e+06            -686388     2\n",
      "13  9.757778e+06            -690276     4\n",
      "14  9.888743e+06            -648310     8\n",
      "15  9.469252e+06            -664977     4\n",
      "16  9.820425e+06            -694850     5\n",
      "17  9.886561e+06            -682372     7\n",
      "18  9.588313e+06            -686869     4\n",
      "19  1.058240e+07            -724275     2\n",
      "20  9.320195e+06            -698311     1\n",
      "21  9.909328e+06            -707152     3\n",
      "22  9.797366e+06            -670193     6\n",
      "23  9.700439e+06            -708205     2\n",
      "24  9.784861e+06            -685613     5\n",
      "25  9.301236e+06            -647539     3\n",
      "26  9.663047e+06            -720722     1\n",
      "27  1.005586e+07            -688821     7\n",
      "28  1.015484e+07            -697230     5\n",
      "29  9.962427e+06            -700330     4\n",
      "30  9.403812e+06            -681552     3\n",
      "31  1.000911e+07            -669897     9\n",
      "32  9.974562e+06            -674751     8\n",
      "33  9.198939e+06            -678169     2\n",
      "34  9.767249e+06            -684578     5\n",
      "35  9.343591e+06            -692700     2\n",
      "36  9.921243e+06            -683700     7\n",
      "37  9.663051e+06            -698450     2\n",
      "38  9.655126e+06            -674546     5\n",
      "39  1.007573e+07            -683050     9\n",
      "40  1.036704e+07            -730571     1\n",
      "41  9.746511e+06            -696920     3\n",
      "42  1.025315e+07            -702439     6\n",
      "43  1.010188e+07            -711378     2\n",
      "44  9.458667e+06            -660433     4\n",
      "45  1.018430e+07            -705135     5\n",
      "46  9.960521e+06            -711371     2\n",
      "47  1.001982e+07            -692486     6\n",
      "48  9.782654e+06            -696026     4\n",
      "49  1.000388e+07            -688610     7\n"
     ]
    }
   ],
   "source": [
    "import pandas as pd\n",
    "df = pd.DataFrame()\n",
    "df['tour_cost'] = [sol.tour_cost for sol in evaled_pop]\n",
    "df['packing_plan_cost'] = [-1 * sol.packing_plan_cost for sol in evaled_pop]\n",
    "df[\"rank\"] = [sol.rank for sol in evaled_pop]\n",
    "print(df)"
   ]
  },
  {
   "cell_type": "code",
   "execution_count": 44,
   "metadata": {},
   "outputs": [
    {
     "data": {
      "text/plain": [
       "<Axes: xlabel='tour_cost', ylabel='packing_plan_cost'>"
      ]
     },
     "execution_count": 44,
     "metadata": {},
     "output_type": "execute_result"
    },
    {
     "data": {
      "image/png": "[encoded data removed]",
      "text/plain": [
       "<Figure size 842.4x595.44 with 1 Axes>"
      ]
     },
     "metadata": {},
     "output_type": "display_data"
    }
   ],
   "source": [
    "import seaborn as sns\n",
    "sns.set(rc={'figure.figsize':(11.7,8.27)})\n",
    "sns.scatterplot(x='tour_cost', y='packing_plan_cost', data=df, hue='rank',palette = \"viridis\")"
   ]
  },
  {
   "cell_type": "code",
   "execution_count": 45,
   "metadata": {},
   "outputs": [
    {
     "data": {
      "text/plain": [
       "<matplotlib.collections.PathCollection at 0x7feb7b2632e0>"
      ]
     },
     "execution_count": 45,
     "metadata": {},
     "output_type": "execute_result"
    },
    {
     "data": {
      "image/png": "[encoded data removed]",
      "text/plain": [
       "<Figure size 842.4x595.44 with 1 Axes>"
      ]
     },
     "metadata": {},
     "output_type": "display_data"
    }
   ],
   "source": [
    "plt.scatter([sol.tour_cost for sol in evaled_pop], [-1 * sol.packing_plan_cost for sol in evaled_pop])"
   ]
  },
  {
   "cell_type": "code",
   "execution_count": null,
   "metadata": {},
   "outputs": [],
   "source": []
  },
  {
   "cell_type": "code",
   "execution_count": 46,
   "metadata": {},
   "outputs": [],
   "source": [
    "def tournament_selection(population): # Swaroop\n",
    "    \n",
    "    \"\"\"\n",
    "      .\n",
    "\n",
    "    Parameters:\n",
    "    - population (list): list of candidate solutions represented as structures\n",
    "      from the ypstruct library with the following attributes:\n",
    "        - tour (numpy.ndarray): An array representing the sequence of cities visited.\n",
    "        - knapsack (numpy.ndarray): A binary array indicating items picked (1) or not (0).\n",
    "        - knapsack_cost (float): The total value of the knapsack\n",
    "        - tour_cost (float): The total length of the tour\n",
    "        - rank (integer): The NSGA-II rank of the candidate solution\n",
    "        - crowding_distance (float): the NSGA-II crowding distance of the candidate solution\n",
    "    \n",
    "    Randomly select 2 candidate solutions from the population (without replacement) compare first their rank (return) the one with the lowest \n",
    "    rank. If they have the same rank, return solution with greater crowding distance.\n",
    "\n",
    "    Return: \n",
    "    ypstruct.Struct: candidate solution represented in the same way as the candidate solutions in the population\n",
    "    \"\"\"\n",
    "\n",
    "  # Randomly select 2 candidate solutions from the population (without replacement)\n",
    "    candidates = random.sample(population, k=2)\n",
    "    # Compare their ranks\n",
    "    if candidates[0].rank < candidates[1].rank:\n",
    "        return candidates[0]  # Return the solution with lower rank\n",
    "    elif candidates[0].rank > candidates[1].rank:\n",
    "        return candidates[1]  # Return the solution with lower rank\n",
    "    else:  # If ranks are equal, choose the one with greater crowding distance\n",
    "        if candidates[0].crowding_distance > candidates[1].crowding_distance:\n",
    "            return candidates[0]  # Return the solution with greater crowding distance\n",
    "        else:\n",
    "            return candidates[1]  # Return the solution with greater crowding distance"
   ]
  },
  {
   "cell_type": "code",
   "execution_count": 47,
   "metadata": {},
   "outputs": [],
   "source": [
    "for candidate_solution in ex_init_pop:\n",
    "    candidate_solution.rank = random.sample(list(range(1, 4)), k = 1)[0]\n",
    "    candidate_solution.crowding_distance = np.random.random(1)[0]"
   ]
  },
  {
   "cell_type": "code",
   "execution_count": 48,
   "metadata": {},
   "outputs": [
    {
     "data": {
      "text/plain": [
       "[struct({'tour': [0, 1, 2, 3], 'packing_plan': [0, 0, 0, 0], 'tour_cost': 20.0, 'packing_plan_cost': 0, 'rank': 2, 'crowding_distance': 0.2643388643815112}),\n",
       " struct({'tour': [0, 3, 2, 1], 'packing_plan': [0, 0, 0, 0], 'tour_cost': 20.0, 'packing_plan_cost': 0, 'rank': 2, 'crowding_distance': 0.3323721901933233}),\n",
       " struct({'tour': [0, 1, 2, 3], 'packing_plan': [0, 0, 0, 1], 'tour_cost': 20.927986906710313, 'packing_plan_cost': 25, 'rank': 2, 'crowding_distance': 0.7105759105351629}),\n",
       " struct({'tour': [0, 3, 2, 1], 'packing_plan': [0, 1, 0, 0], 'tour_cost': 22.037735849056602, 'packing_plan_cost': 34, 'rank': 3, 'crowding_distance': 0.9093526053062656}),\n",
       " struct({'tour': [0, 3, 2, 1], 'packing_plan': [0, 0, 1, 0], 'tour_cost': 27.363636363636363, 'packing_plan_cost': 40, 'rank': 3, 'crowding_distance': 0.8629492543249709}),\n",
       " struct({'tour': [0, 2, 1, 3], 'packing_plan': [0, 1, 0, 1], 'tour_cost': 28.585292978476183, 'packing_plan_cost': 59, 'rank': 2, 'crowding_distance': 0.016494191996262897}),\n",
       " struct({'tour': [0, 3, 2, 1], 'packing_plan': [1, 1, 0, 0], 'tour_cost': 32.75267284390591, 'packing_plan_cost': 64, 'rank': 2, 'crowding_distance': 0.5025335142227252}),\n",
       " struct({'tour': [0, 1, 2, 3], 'packing_plan': [0, 0, 1, 1], 'tour_cost': 33.107207533502354, 'packing_plan_cost': 65, 'rank': 1, 'crowding_distance': 0.28830108354380857}),\n",
       " struct({'tour': [0, 3, 2, 1], 'packing_plan': [0, 1, 1, 0], 'tour_cost': 38.91443850267379, 'packing_plan_cost': 74, 'rank': 2, 'crowding_distance': 0.667209156077948}),\n",
       " struct({'tour': [0, 2, 1, 3], 'packing_plan': [1, 1, 0, 1], 'tour_cost': 53.28267014033966, 'packing_plan_cost': 89, 'rank': 3, 'crowding_distance': 0.9070846408763993})]"
      ]
     },
     "execution_count": 48,
     "metadata": {},
     "output_type": "execute_result"
    }
   ],
   "source": [
    "ex_init_pop"
   ]
  },
  {
   "cell_type": "code",
   "execution_count": 49,
   "metadata": {},
   "outputs": [],
   "source": [
    "def derive_tour_from_packing_plan(candidate_solution, item_to_city_mapping_dict, item_weights):\n",
    "    weight_at_city_i = [\n",
    "            sum(np.array(candidate_solution.packing_plan)[item_to_city_mapping_dict[city]] * item_weights[item_to_city_mapping_dict[city]]) for city in candidate_solution.tour\n",
    "        ]\n",
    "    weight_at_city_i_dict = dict(zip(candidate_solution.tour, weight_at_city_i))\n",
    "    sorted_weight_at_city_i_dict = dict(sorted(weight_at_city_i_dict.items(), key=lambda x:x[1], reverse = False))\n",
    "    return list(sorted_weight_at_city_i_dict)"
   ]
  },
  {
   "cell_type": "code",
   "execution_count": 50,
   "metadata": {},
   "outputs": [],
   "source": [
    "def tour_mutation(child1, child2, mutation_type):\n",
    "    # perform an inversion mutation\n",
    "    if mutation_type == \"inversion\":\n",
    "      # select two random positions, the cities between both positions will be inverted\n",
    "      pos1, pos2 = random.sample(range(len(child1.tour)), 2)\n",
    "      start, end = min(pos1, pos2), max(pos1, pos2)\n",
    "      # reverse the segment between the selected positions\n",
    "      child1.tour[start:end + 1] = child1.tour[start:end + 1][::-1]\n",
    "\n",
    "      pos1, pos2 = random.sample(range(len(child2.tour)), 2)\n",
    "      start, end = min(pos1, pos2), max(pos1, pos2)\n",
    "      child2.tour[start:end + 1] = child2.tour[start:end + 1][::-1]\n",
    "\n",
    "      return child1, child2\n",
    "  \n",
    "    elif mutation_type == \"single_swap\":\n",
    "      idx = range(len(child1.tour))\n",
    "      # randomly select what two positions will be swapped in the chromosome\n",
    "      i1, i2 = random.sample(idx, 2)\n",
    "      child1.tour[i1], child1.tour[i2] = child1.tour[i2], child1.tour[i1]\n",
    "\n",
    "      idx = range(len(child2.tour))\n",
    "      # randomly select what two positions will be swapped in the chromosome\n",
    "      i1, i2 = random.sample(idx, 2)\n",
    "      child2.tour[i1], child2.tour[i2] = child2.tour[i2], child2.tour[i1]\n",
    "\n",
    "      return child1, child2"
   ]
  },
  {
   "cell_type": "code",
   "execution_count": 51,
   "metadata": {},
   "outputs": [
    {
     "data": {
      "text/plain": [
       "(struct({'tour': [0, 1, 6, 3, 4, 5, 2, 7, 8, 9]}),\n",
       " struct({'tour': [0, 1, 9, 3, 4, 5, 6, 7, 8, 2]}))"
      ]
     },
     "execution_count": 51,
     "metadata": {},
     "output_type": "execute_result"
    }
   ],
   "source": [
    "ex = structure()\n",
    "ex.tour = list(range(10))\n",
    "tour_mutation(ex, ex.copy(), \"single_swap\")"
   ]
  },
  {
   "cell_type": "code",
   "execution_count": 52,
   "metadata": {},
   "outputs": [],
   "source": [
    "def packing_plan_mutation(child1, child2, mutation_percentage):\n",
    "    nb_items = len(child1.packing_plan)\n",
    "    vector = np.zeros(nb_items, dtype=int)\n",
    "    vector[:(int(nb_items*mutation_percentage))] = 1\n",
    "    \n",
    "    np.random.shuffle(vector)\n",
    "    child1.packing_plan = np.where(vector == 1, 1 - np.array(child1.packing_plan), np.array(child1.packing_plan))\n",
    "\n",
    "    np.random.shuffle(vector)\n",
    "    child2.packing_plan = np.where(vector == 1, 1 - np.array(child2.packing_plan), np.array(child2.packing_plan))\n",
    "\n",
    "    return child1, child2"
   ]
  },
  {
   "cell_type": "code",
   "execution_count": 53,
   "metadata": {},
   "outputs": [],
   "source": [
    "def replacement(population: list[structure], nb_cities) -> list:\n",
    "    \n",
    "    \"\"\"\n",
    "    Perform replacement in a population by selecting individuals based on rank and crowding distance.\n",
    "\n",
    "    Parameters:\n",
    "    - population (list[structure]): A list of structures representing individuals in the population.\n",
    "    \n",
    "    Returns:\n",
    "    - list[structure]: A list of individuals selected for the next generation based on their rank and crowding distance.\n",
    "    \"\"\"\n",
    "        \n",
    "    return sorted(population, key=lambda x: (x.rank, -x.crowding_distance))[0:nb_cities]"
   ]
  },
  {
   "cell_type": "code",
   "execution_count": 54,
   "metadata": {},
   "outputs": [
    {
     "data": {
      "text/plain": [
       "(struct({'tour': [0, 1, 6, 3, 4, 5, 2, 7, 8, 9], 'packing_plan': array([0, 0, 1, 1, 1, 0, 0])}),\n",
       " struct({'tour': [0, 1, 6, 3, 4, 5, 2, 7, 8, 9], 'packing_plan': array([0, 1, 0, 0, 1, 0, 1])}))"
      ]
     },
     "execution_count": 54,
     "metadata": {},
     "output_type": "execute_result"
    }
   ],
   "source": [
    "ex.packing_plan = [0, 1, 1, 0, 1, 0, 0]\n",
    "\n",
    "packing_plan_mutation(ex, ex.copy(), 2/7)"
   ]
  },
  {
   "cell_type": "code",
   "execution_count": 55,
   "metadata": {},
   "outputs": [],
   "source": [
    "def repair_packing_plan(candidate_solution, Q, item_weights):\n",
    "    packing_plan = np.array(candidate_solution.packing_plan)\n",
    "    selected_items = list(np.nonzero(packing_plan))\n",
    "    selected_items_weights = item_weights[selected_items]\n",
    "    while np.sum(selected_items_weights) > Q:\n",
    "        candidate_solution.packing_plan[random.sample(list(selected_items[0]), k = 1)[0]] = 0\n",
    "        packing_plan = np.array(candidate_solution.packing_plan)\n",
    "        selected_items = list(np.nonzero(packing_plan))\n",
    "        selected_items_weights = item_weights[selected_items]"
   ]
  },
  {
   "cell_type": "code",
   "execution_count": 56,
   "metadata": {},
   "outputs": [
    {
     "name": "stderr",
     "output_type": "stream",
     "text": [
      "/var/folders/jn/d4dmng457v33gxcq0bh9n2nh0000gn/T/ipykernel_91868/964007867.py:4: FutureWarning: Using a non-tuple sequence for multidimensional indexing is deprecated; use `arr[tuple(seq)]` instead of `arr[seq]`. In the future this will be interpreted as an array index, `arr[np.array(seq)]`, which will result either in an error or a different result.\n",
      "  selected_items_weights = item_weights[selected_items]\n",
      "/var/folders/jn/d4dmng457v33gxcq0bh9n2nh0000gn/T/ipykernel_91868/964007867.py:9: FutureWarning: Using a non-tuple sequence for multidimensional indexing is deprecated; use `arr[tuple(seq)]` instead of `arr[seq]`. In the future this will be interpreted as an array index, `arr[np.array(seq)]`, which will result either in an error or a different result.\n",
      "  selected_items_weights = item_weights[selected_items]\n"
     ]
    },
    {
     "data": {
      "text/plain": [
       "struct({'tour': [0, 1, 2, 3], 'packing_plan': [0, 0, 1, 1], 'tour_cost': 20.0, 'packing_plan_cost': 0, 'rank': 2, 'crowding_distance': 0.2643388643815112})"
      ]
     },
     "execution_count": 56,
     "metadata": {},
     "output_type": "execute_result"
    }
   ],
   "source": [
    "ex = ex_init_pop[0].copy()\n",
    "ex.packing_plan = [1, 1, 1, 1]\n",
    "repair_packing_plan(ex, 80, item_weights)\n",
    "ex"
   ]
  },
  {
   "cell_type": "code",
   "execution_count": 57,
   "metadata": {},
   "outputs": [],
   "source": [
    "def get_pareto_front(population):\n",
    "    p_front = []\n",
    "    for i in population:\n",
    "        if i.rank == 1:\n",
    "            p_front.append(i)\n",
    "    return p_front"
   ]
  },
  {
   "cell_type": "code",
   "execution_count": null,
   "metadata": {},
   "outputs": [],
   "source": []
  },
  {
   "cell_type": "code",
   "execution_count": 58,
   "metadata": {},
   "outputs": [],
   "source": [
    "ttp_instance = read_TTP_instance_data(\"../data/a280-n279.txt\")\n",
    "nb_cities = ttp_instance[\"nb_cities\"]\n",
    "nb_items = ttp_instance[\"nb_items\"]\n",
    "Q = ttp_instance[\"Q\"]\n",
    "vmin = ttp_instance[\"v_min\"]\n",
    "vmax = ttp_instance[\"v_max\"]\n",
    "R = ttp_instance[\"R\"]\n",
    "pairwise_distances = ttp_instance[\"pairwise_distances\"]\n",
    "item_to_city_mapping_dict = ttp_instance[\"item_to_city_mapping_dict\"]\n",
    "item_weights = ttp_instance[\"item_weights\"]\n",
    "item_values = ttp_instance[\"item_values\"]\n",
    "value_to_weight_ratio_dict = ttp_instance[\"value_to_weight_ratio_dict\"]"
   ]
  },
  {
   "cell_type": "markdown",
   "metadata": {},
   "source": [
    "Pop size = 100, Random tour packing, pack_optimal, only OX1 crossover, inversion mutation and only 50 children"
   ]
  },
  {
   "cell_type": "code",
   "execution_count": 59,
   "metadata": {},
   "outputs": [
    {
     "name": "stderr",
     "output_type": "stream",
     "text": [
      "/var/folders/jn/d4dmng457v33gxcq0bh9n2nh0000gn/T/ipykernel_91868/964007867.py:4: FutureWarning: Using a non-tuple sequence for multidimensional indexing is deprecated; use `arr[tuple(seq)]` instead of `arr[seq]`. In the future this will be interpreted as an array index, `arr[np.array(seq)]`, which will result either in an error or a different result.\n",
      "  selected_items_weights = item_weights[selected_items]\n",
      "/var/folders/jn/d4dmng457v33gxcq0bh9n2nh0000gn/T/ipykernel_91868/964007867.py:9: FutureWarning: Using a non-tuple sequence for multidimensional indexing is deprecated; use `arr[tuple(seq)]` instead of `arr[seq]`. In the future this will be interpreted as an array index, `arr[np.array(seq)]`, which will result either in an error or a different result.\n",
      "  selected_items_weights = item_weights[selected_items]\n"
     ]
    }
   ],
   "source": [
    "population = generate_initial_population(50, nb_cities, \"pack_random\", \"random\", Q, value_to_weight_ratio_dict, item_weights)"
   ]
  },
  {
   "cell_type": "code",
   "execution_count": 61,
   "metadata": {},
   "outputs": [
    {
     "name": "stdout",
     "output_type": "stream",
     "text": [
      "50\n"
     ]
    }
   ],
   "source": [
    "print(len(population))"
   ]
  },
  {
   "cell_type": "code",
   "execution_count": 62,
   "metadata": {},
   "outputs": [
    {
     "data": {
      "text/plain": [
       "478851.3897122693"
      ]
     },
     "execution_count": 62,
     "metadata": {},
     "output_type": "execute_result"
    }
   ],
   "source": [
    "tour_cost_pdist(population[0], pairwise_distances, item_to_city_mapping_dict, item_weights, vmax, vmin, Q, R)"
   ]
  },
  {
   "cell_type": "code",
   "execution_count": 63,
   "metadata": {},
   "outputs": [
    {
     "data": {
      "text/plain": [
       "30314"
      ]
     },
     "execution_count": 63,
     "metadata": {},
     "output_type": "execute_result"
    }
   ],
   "source": [
    "knapsack_cost(population[0], item_values)"
   ]
  },
  {
   "cell_type": "code",
   "execution_count": 64,
   "metadata": {},
   "outputs": [],
   "source": [
    "for candidate_solution in population:\n",
    "    evaluate_candidate_solution_cost_pdist(\n",
    "        candidate_solution, \n",
    "        pairwise_distances,\n",
    "        item_to_city_mapping_dict, \n",
    "        item_weights,\n",
    "        item_values,\n",
    "        vmax, \n",
    "        vmin,  \n",
    "        Q,\n",
    "        R\n",
    "    )"
   ]
  },
  {
   "cell_type": "code",
   "execution_count": 65,
   "metadata": {},
   "outputs": [],
   "source": [
    "get_ranks(population)\n",
    "get_crowding_distance(population)"
   ]
  },
  {
   "cell_type": "code",
   "execution_count": 66,
   "metadata": {},
   "outputs": [
    {
     "data": {
      "text/plain": [
       "<matplotlib.collections.PathCollection at 0x7feb7b292190>"
      ]
     },
     "execution_count": 66,
     "metadata": {},
     "output_type": "execute_result"
    },
    {
     "data": {
      "image/png": "[encoded data removed]",
      "text/plain": [
       "<Figure size 842.4x595.44 with 1 Axes>"
      ]
     },
     "metadata": {},
     "output_type": "display_data"
    }
   ],
   "source": [
    "plt.scatter([sol.tour_cost for sol in population], [-1 * sol.packing_plan_cost for sol in population])\n",
    "plt.scatter([sol.tour_cost for sol in get_pareto_front(population)], [-1 * sol.packing_plan_cost for sol in get_pareto_front(population)])"
   ]
  },
  {
   "cell_type": "code",
   "execution_count": 67,
   "metadata": {},
   "outputs": [
    {
     "name": "stdout",
     "output_type": "stream",
     "text": [
      "0\n"
     ]
    },
    {
     "name": "stderr",
     "output_type": "stream",
     "text": [
      "/var/folders/jn/d4dmng457v33gxcq0bh9n2nh0000gn/T/ipykernel_91868/964007867.py:4: FutureWarning: Using a non-tuple sequence for multidimensional indexing is deprecated; use `arr[tuple(seq)]` instead of `arr[seq]`. In the future this will be interpreted as an array index, `arr[np.array(seq)]`, which will result either in an error or a different result.\n",
      "  selected_items_weights = item_weights[selected_items]\n",
      "/var/folders/jn/d4dmng457v33gxcq0bh9n2nh0000gn/T/ipykernel_91868/964007867.py:9: FutureWarning: Using a non-tuple sequence for multidimensional indexing is deprecated; use `arr[tuple(seq)]` instead of `arr[seq]`. In the future this will be interpreted as an array index, `arr[np.array(seq)]`, which will result either in an error or a different result.\n",
      "  selected_items_weights = item_weights[selected_items]\n"
     ]
    },
    {
     "name": "stdout",
     "output_type": "stream",
     "text": [
      "1\n",
      "2\n",
      "3\n",
      "4\n",
      "5\n",
      "6\n",
      "7\n",
      "8\n",
      "9\n",
      "10\n",
      "11\n",
      "12\n",
      "13\n",
      "14\n",
      "15\n",
      "16\n",
      "17\n",
      "18\n",
      "19\n",
      "20\n",
      "21\n",
      "22\n",
      "23\n",
      "24\n",
      "25\n",
      "26\n",
      "27\n",
      "28\n",
      "29\n",
      "30\n",
      "31\n",
      "32\n",
      "33\n",
      "34\n",
      "35\n",
      "36\n",
      "37\n",
      "38\n",
      "39\n",
      "40\n",
      "41\n",
      "42\n",
      "43\n",
      "44\n",
      "45\n",
      "46\n",
      "47\n",
      "48\n",
      "49\n"
     ]
    }
   ],
   "source": [
    "for i in range(50):\n",
    "    print(i)\n",
    "    children = []\n",
    "    for _ in range(50):\n",
    "        parent1 = tournament_selection(population)\n",
    "        parent2 = tournament_selection(population)\n",
    "        child1, child2 = OX1_tour_crossover(parent1, parent2)\n",
    "        child1, child2 = tour_mutation(child1, child2, \"single_swap\")\n",
    "        child1, child2 = packing_plan_mutation(child1, child2, 0.2)\n",
    "        repair_packing_plan(child1, Q, item_weights)\n",
    "        repair_packing_plan(child2, Q, item_weights)\n",
    "        \n",
    "        \n",
    "\n",
    "        children.append(child1)\n",
    "        children.append(child2)\n",
    "    \n",
    "    for child in children:\n",
    "        evaluate_candidate_solution_cost_pdist(\n",
    "            child, \n",
    "            pairwise_distances,\n",
    "            item_to_city_mapping_dict, \n",
    "            item_weights,\n",
    "            item_values,\n",
    "            vmax, \n",
    "            vmin,  \n",
    "            Q,\n",
    "            R\n",
    "        )\n",
    "\n",
    "    population += children\n",
    "    get_ranks(population)\n",
    "    get_crowding_distance(population)\n",
    "    population = replacement(population, 50)\n",
    "    \n",
    "\n"
   ]
  },
  {
   "cell_type": "code",
   "execution_count": 68,
   "metadata": {},
   "outputs": [],
   "source": [
    "p = get_pareto_front(population)"
   ]
  },
  {
   "cell_type": "code",
   "execution_count": 69,
   "metadata": {},
   "outputs": [
    {
     "data": {
      "text/plain": [
       "50"
      ]
     },
     "execution_count": 69,
     "metadata": {},
     "output_type": "execute_result"
    }
   ],
   "source": [
    "len(population)"
   ]
  },
  {
   "cell_type": "code",
   "execution_count": 72,
   "metadata": {},
   "outputs": [
    {
     "data": {
      "text/plain": [
       "14"
      ]
     },
     "execution_count": 72,
     "metadata": {},
     "output_type": "execute_result"
    }
   ],
   "source": [
    "len(p)"
   ]
  },
  {
   "cell_type": "code",
   "execution_count": 73,
   "metadata": {},
   "outputs": [
    {
     "data": {
      "text/plain": [
       "<matplotlib.collections.PathCollection at 0x7feb7b7d1f70>"
      ]
     },
     "execution_count": 73,
     "metadata": {},
     "output_type": "execute_result"
    },
    {
     "data": {
      "image/png": "[encoded data removed]",
      "text/plain": [
       "<Figure size 842.4x595.44 with 1 Axes>"
      ]
     },
     "metadata": {},
     "output_type": "display_data"
    }
   ],
   "source": [
    "plt.scatter([sol.tour_cost for sol in population], [-1 * sol.packing_plan_cost for sol in population])\n",
    "\n"
   ]
  },
  {
   "cell_type": "code",
   "execution_count": null,
   "metadata": {},
   "outputs": [],
   "source": []
  },
  {
   "cell_type": "code",
   "execution_count": 74,
   "metadata": {},
   "outputs": [
    {
     "data": {
      "text/plain": [
       "dict_keys(['nb_cities', 'nb_items', 'Q', 'v_min', 'v_max', 'R', 'pairwise_distances', 'item_to_city_mapping_dict', 'item_weights', 'item_values', 'value_to_weight_ratio_dict'])"
      ]
     },
     "execution_count": 74,
     "metadata": {},
     "output_type": "execute_result"
    }
   ],
   "source": [
    "a280_n1395.keys()"
   ]
  },
  {
   "cell_type": "code",
   "execution_count": 56,
   "metadata": {},
   "outputs": [],
   "source": [
    "test_instance = read_TTP_instance_data(\"../data/a280-n2790.txt\")"
   ]
  },
  {
   "cell_type": "code",
   "execution_count": 57,
   "metadata": {},
   "outputs": [],
   "source": [
    "init_pop = generate_initial_population(50,\n",
    "                                       test_instance[\"nb_cities\"], \n",
    "                                       \"pack_random\", \n",
    "                                       \"random\", \n",
    "                                       test_instance[\"Q\"], \n",
    "                                       test_instance[\"value_to_weight_ratio_dict\"],\n",
    "                                       test_instance[\"item_weights\"])"
   ]
  },
  {
   "cell_type": "code",
   "execution_count": 58,
   "metadata": {},
   "outputs": [],
   "source": [
    "for candidate_solution in init_pop:\n",
    "    evaluate_candidate_solution_cost_pdist(candidate_solution,\n",
    "                                     test_instance[\"pairwise_distances\"],\n",
    "                                     test_instance[\"item_to_city_mapping_dict\"],\n",
    "                                     test_instance[\"item_weights\"],\n",
    "                                     test_instance[\"item_values\"],\n",
    "                                     test_instance[\"v_max\"],\n",
    "                                     test_instance[\"v_min\"],\n",
    "                                     test_instance[\"Q\"],\n",
    "                                     test_instance[\"R\"])"
   ]
  },
  {
   "cell_type": "code",
   "execution_count": 59,
   "metadata": {},
   "outputs": [
    {
     "ename": "IndexError",
     "evalue": "list index out of range",
     "output_type": "error",
     "traceback": [
      "\u001b[1;31m---------------------------------------------------------------------------\u001b[0m",
      "\u001b[1;31mIndexError\u001b[0m                                Traceback (most recent call last)",
      "\u001b[1;32mc:\\Users\\hpapa\\OneDrive\\Documents\\Data Science Year 4\\ECMM409\\Travelling-Thief-Problem\\code\\solution_representation_and_fitness.ipynb Cell 67\u001b[0m line \u001b[0;36m2\n\u001b[0;32m      <a href='vscode-notebook-cell:/c%3A/Users/hpapa/OneDrive/Documents/Data%20Science%20Year%204/ECMM409/Travelling-Thief-Problem/code/solution_representation_and_fitness.ipynb#Y123sZmlsZQ%3D%3D?line=0'>1</a>\u001b[0m get_ranks(init_pop)\n\u001b[1;32m----> <a href='vscode-notebook-cell:/c%3A/Users/hpapa/OneDrive/Documents/Data%20Science%20Year%204/ECMM409/Travelling-Thief-Problem/code/solution_representation_and_fitness.ipynb#Y123sZmlsZQ%3D%3D?line=1'>2</a>\u001b[0m get_crowding_distance(init_pop)\n",
      "\u001b[1;32mc:\\Users\\hpapa\\OneDrive\\Documents\\Data Science Year 4\\ECMM409\\Travelling-Thief-Problem\\code\\solution_representation_and_fitness.ipynb Cell 67\u001b[0m line \u001b[0;36m3\n\u001b[0;32m     <a href='vscode-notebook-cell:/c%3A/Users/hpapa/OneDrive/Documents/Data%20Science%20Year%204/ECMM409/Travelling-Thief-Problem/code/solution_representation_and_fitness.ipynb#Y123sZmlsZQ%3D%3D?line=29'>30</a>\u001b[0m     \u001b[39mfor\u001b[39;00m j \u001b[39min\u001b[39;00m \u001b[39mrange\u001b[39m(\u001b[39m1\u001b[39m,length\u001b[39m-\u001b[39m\u001b[39m1\u001b[39m):\n\u001b[0;32m     <a href='vscode-notebook-cell:/c%3A/Users/hpapa/OneDrive/Documents/Data%20Science%20Year%204/ECMM409/Travelling-Thief-Problem/code/solution_representation_and_fitness.ipynb#Y123sZmlsZQ%3D%3D?line=30'>31</a>\u001b[0m         dist[i][j] \u001b[39m+\u001b[39m\u001b[39m=\u001b[39m (fronts[i][j\u001b[39m+\u001b[39m\u001b[39m1\u001b[39m]\u001b[39m.\u001b[39mpacking_plan_cost \u001b[39m-\u001b[39m fronts[i][j\u001b[39m-\u001b[39m\u001b[39m1\u001b[39m]\u001b[39m.\u001b[39mpacking_plan_cost)\u001b[39m/\u001b[39m(fronts[i][\u001b[39m-\u001b[39m\u001b[39m1\u001b[39m]\u001b[39m.\u001b[39mpacking_plan_cost \u001b[39m-\u001b[39m fronts[i][\u001b[39m0\u001b[39m]\u001b[39m.\u001b[39mpacking_plan_cost)\n\u001b[1;32m---> <a href='vscode-notebook-cell:/c%3A/Users/hpapa/OneDrive/Documents/Data%20Science%20Year%204/ECMM409/Travelling-Thief-Problem/code/solution_representation_and_fitness.ipynb#Y123sZmlsZQ%3D%3D?line=31'>32</a>\u001b[0m \u001b[39mprint\u001b[39m(\u001b[39mlen\u001b[39m(dist[\u001b[39m9\u001b[39;49m]))\n\u001b[0;32m     <a href='vscode-notebook-cell:/c%3A/Users/hpapa/OneDrive/Documents/Data%20Science%20Year%204/ECMM409/Travelling-Thief-Problem/code/solution_representation_and_fitness.ipynb#Y123sZmlsZQ%3D%3D?line=32'>33</a>\u001b[0m \u001b[39mprint\u001b[39m(\u001b[39mlen\u001b[39m(fronts[\u001b[39m9\u001b[39m]))\n\u001b[0;32m     <a href='vscode-notebook-cell:/c%3A/Users/hpapa/OneDrive/Documents/Data%20Science%20Year%204/ECMM409/Travelling-Thief-Problem/code/solution_representation_and_fitness.ipynb#Y123sZmlsZQ%3D%3D?line=33'>34</a>\u001b[0m \u001b[39mfor\u001b[39;00m i \u001b[39min\u001b[39;00m \u001b[39mrange\u001b[39m(\u001b[39mlen\u001b[39m(fronts)):\n",
      "\u001b[1;31mIndexError\u001b[0m: list index out of range"
     ]
    }
   ],
   "source": [
    "get_ranks(init_pop)\n",
    "get_crowding_distance(init_pop)"
   ]
  },
  {
   "cell_type": "code",
   "execution_count": null,
   "metadata": {},
   "outputs": [],
   "source": [
    "for _ in range(25):\n",
    "    parent1 = tournament_selection(init_pop)"
   ]
  },
  {
   "cell_type": "code",
   "execution_count": null,
   "metadata": {},
   "outputs": [],
   "source": []
  },
  {
   "cell_type": "code",
   "execution_count": null,
   "metadata": {},
   "outputs": [],
   "source": []
  },
  {
   "cell_type": "code",
   "execution_count": 51,
   "metadata": {},
   "outputs": [
    {
     "name": "stdout",
     "output_type": "stream",
     "text": [
      "Nadir Point: [10555348.54159382  -660411.        ]\n"
     ]
    }
   ],
   "source": [
    "fitness1 = [sol.tour_cost for sol in evaled_pop]\n",
    "fitness2 = [-1 * sol.packing_plan_cost for sol in evaled_pop]\n",
    "objectives = np.column_stack((fitness1, fitness2))\n",
    "\n",
    "# Find the Nadir point\n",
    "nadir_point = np.max(objectives, axis=0)\n",
    "\n",
    "print(\"Nadir Point:\", nadir_point)"
   ]
  },
  {
   "cell_type": "code",
   "execution_count": null,
   "metadata": {},
   "outputs": [],
   "source": []
  },
  {
   "cell_type": "code",
   "execution_count": null,
   "metadata": {},
   "outputs": [],
   "source": []
  },
  {
   "cell_type": "code",
   "execution_count": null,
   "metadata": {},
   "outputs": [],
   "source": []
  },
  {
   "cell_type": "code",
   "execution_count": null,
   "metadata": {},
   "outputs": [],
   "source": []
  },
  {
   "cell_type": "code",
   "execution_count": null,
   "metadata": {},
   "outputs": [],
   "source": []
  },
  {
   "cell_type": "code",
   "execution_count": null,
   "metadata": {},
   "outputs": [],
   "source": []
  },
  {
   "cell_type": "code",
   "execution_count": 52,
   "metadata": {},
   "outputs": [
    {
     "data": {
      "text/plain": [
       "[]"
      ]
     },
     "execution_count": 52,
     "metadata": {},
     "output_type": "execute_result"
    }
   ],
   "source": [
    "estimated_ideal_point_tour = np.min([sol.tour_cost for sol in evaled_pop])\n",
    "estimated_ideal_packing_plan = np.min([-1 * sol.packing_plan_cost for sol in evaled_pop])\n",
    "\n",
    "nadir_point = [sol.packing_plan_cost for sol in evaled_pop if sol.tour_cost == np.min([sol.tour for sol in evaled_pop])]\n",
    "nadir_point"
   ]
  },
  {
   "cell_type": "code",
   "execution_count": 53,
   "metadata": {},
   "outputs": [
    {
     "data": {
      "text/plain": [
       "[]"
      ]
     },
     "execution_count": 53,
     "metadata": {},
     "output_type": "execute_result"
    }
   ],
   "source": [
    "nadir_point "
   ]
  },
  {
   "cell_type": "code",
   "execution_count": 54,
   "metadata": {},
   "outputs": [
    {
     "data": {
      "text/plain": [
       "<matplotlib.collections.PathCollection at 0x204c93ed750>"
      ]
     },
     "execution_count": 54,
     "metadata": {},
     "output_type": "execute_result"
    },
    {
     "data": {
      "image/png": "[encoded data removed]",
      "text/plain": [
       "<Figure size 800x500 with 1 Axes>"
      ]
     },
     "metadata": {},
     "output_type": "display_data"
    }
   ],
   "source": [
    "fig, ax  = plt.subplots(figsize = (8, 5))\n",
    "plt.scatter([sol.tour_cost for sol in evaled_pop], [-1 * sol.packing_plan_cost for sol in evaled_pop])\n",
    "plt.scatter(estimated_ideal_point_tour, estimated_ideal_packing_plan)\n",
    "# plt.scatter(nadir_point[0], nadir_point[1])"
   ]
  },
  {
   "cell_type": "code",
   "execution_count": 55,
   "metadata": {},
   "outputs": [],
   "source": [
    "def get_hyper_volume(pareto_front): # Just an example of how to do it.\n",
    "    reference_point = (max(pareto_front, key=lambda x: x[0])[0] + 1, max(pareto_front, key=lambda x: x[1])[1] + 1) # nadir point\n",
    "    sorted_pareto_front = sorted(pareto_front, key=lambda x: x[0])\n",
    "\n",
    "    hypervolume = 0\n",
    "    for i in range(len(sorted_pareto_front) - 1):\n",
    "        x, y = sorted_pareto_front[i]\n",
    "        x_next, y_next = sorted_pareto_front[i + 1]\n",
    "        hypervolume += (x_next - x) * (y_next - y)\n",
    "\n",
    "    return hypervolume\n"
   ]
  },
  {
   "cell_type": "code",
   "execution_count": null,
   "metadata": {},
   "outputs": [],
   "source": []
  },
  {
   "cell_type": "code",
   "execution_count": 56,
   "metadata": {},
   "outputs": [],
   "source": [
    "def find_min_indices_in_row(matrix, row_index):\n",
    "    row = matrix[row_index, :]\n",
    "    min_value = np.min(row)\n",
    "    min_indices = np.where(row == min_value)\n",
    "\n",
    "    if len(min_indices[0]) == 1:\n",
    "        # If there's a single minimum value, return only its index in the specified row\n",
    "        return [min_indices[0][0]]\n",
    "    else:\n",
    "        # If there are duplicates, return all occurrences within the specified row\n",
    "        return [col_index for col_index in min_indices[0]]\n"
   ]
  },
  {
   "cell_type": "code",
   "execution_count": 57,
   "metadata": {},
   "outputs": [],
   "source": [
    "def nearest_neighbour(distance_matrix):\n",
    "    dist_matrix = distance_matrix.copy()\n",
    "    num_cities = dist_matrix.shape[0]\n",
    "    start_city = random.sample(list(range(num_cities)), k = 1)\n",
    "    dist_matrix[:, start_city[0]] = np.inf\n",
    "\n",
    "    for _ in range(1, num_cities):\n",
    "        current_city = start_city[-1]\n",
    "        next_city = random.sample(find_min_indices_in_row(dist_matrix, current_city), k = 1)[0]\n",
    "        start_city.append(next_city)\n",
    "        dist_matrix[:, next_city] = np.inf\n",
    "    \n",
    "    return start_city\n",
    "\n",
    "        "
   ]
  },
  {
   "cell_type": "code",
   "execution_count": 58,
   "metadata": {},
   "outputs": [],
   "source": [
    "def tour_length(tour, distance_matrix: list[list]) -> float:\n",
    "    \n",
    "    # cost of going from last city in the chromosme back to the starting chromosome\n",
    "    return_to_start_length = distance_matrix[len(distance_matrix)-1][tour[0]]\n",
    "    # calculate the cost for the rest of the tour\n",
    "    travel_length = 0\n",
    "    for i in range(0, len(distance_matrix)-1, 1):\n",
    "        travel_length += distance_matrix[tour[i]][tour[i+1]]\n",
    "\n",
    "    return travel_length + return_to_start_length\n"
   ]
  },
  {
   "cell_type": "code",
   "execution_count": 59,
   "metadata": {},
   "outputs": [],
   "source": [
    "def nearest_neighbour_2opt(distance_matrix):\n",
    "    tour = nearest_neighbour(distance_matrix=distance_matrix)\n",
    "    number_of_cities = distance_matrix.shape[0]\n",
    "    max_2opt_moves = (number_of_cities) * (number_of_cities - 1) / 2\n",
    "    made_moves = []\n",
    "    length = tour_length(tour, distance_matrix)\n",
    "    better = False\n",
    "    i = 0 \n",
    "\n",
    "    while not better and i < max_2opt_moves:\n",
    "        i += 1\n",
    "        idx = range(len(tour))\n",
    "        made_move = False\n",
    "        i1, i2 = (None, None)\n",
    "        while not made_move:\n",
    "            i1_test, i2_test = random.sample(idx, 2)\n",
    "            if (i1_test, i2_test) in made_moves or (i2_test, i1_test) in made_moves:\n",
    "                continue\n",
    "            else:\n",
    "                i1, i2 = i1_test, i2_test\n",
    "                made_move = True\n",
    "        made_moves.append((i1, i2))\n",
    "        made_moves.append((i2, i1))\n",
    "        new_tour = tour.copy()\n",
    "        new_tour[i1], new_tour[i2] = new_tour[i2], new_tour[i1]\n",
    "        if tour_length(new_tour, distance_matrix) < length:\n",
    "            better = True\n",
    "            tour = new_tour\n",
    "    return tour\n",
    "\n",
    "\n",
    "   "
   ]
  }
 ],
 "metadata": {
  "kernelspec": {
   "display_name": "Python 3 (ipykernel)",
   "language": "python",
   "name": "python3"
  },
  "language_info": {
   "codemirror_mode": {
    "name": "ipython",
    "version": 3
   },
   "file_extension": ".py",
   "mimetype": "text/x-python",
   "name": "python",
   "nbconvert_exporter": "python",
   "pygments_lexer": "ipython3",
   "version": "3.9.12"
  }
 },
 "nbformat": 4,
 "nbformat_minor": 2
}
