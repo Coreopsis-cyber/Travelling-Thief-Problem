{
 "cells": [
  {
   "cell_type": "code",
   "execution_count": 1,
   "metadata": {},
   "outputs": [],
   "source": [
    "# Imports\n",
    "from ypstruct import structure\n",
    "import numpy as np\n",
    "import random\n",
    "import math\n",
    "import matplotlib.pyplot as plt\n",
    "from scipy.spatial import distance_matrix\n",
    "from scipy.spatial.distance import pdist, squareform\n",
    "import re\n",
    "import seaborn as sns"
   ]
  },
  {
   "cell_type": "code",
   "execution_count": 2,
   "metadata": {},
   "outputs": [],
   "source": [
    "def read_TTP_instance_data(file_path):\n",
    "    nb_items = int(file_path.split(\"-\")[1].strip(\"n\").split(\".txt\")[0])\n",
    "    nb_cities = int(re.sub(\"\\D\", \"\", file_path.split(\"-\")[0].split(\"/\")[2]))\n",
    "    # Read node coordinates from the file\n",
    "    with open(file_path, 'r') as file:\n",
    "        lines = file.readlines()\n",
    "\n",
    "    # Initialize variables\n",
    "    node_coordinates = []\n",
    "    item_values = []\n",
    "    item_weights= []\n",
    "    in_node_section = False\n",
    "    in_item_section = False\n",
    "    item_to_city_mapping_dict = {}\n",
    "    v_min = None\n",
    "    v_max = None\n",
    "    max_capacity = None\n",
    "    renting_ratio = None\n",
    "\n",
    "    for i in range(nb_cities):\n",
    "        item_to_city_mapping_dict[i] = []\n",
    "\n",
    "    # Extract node coordinates and item data\n",
    "    for line in lines:\n",
    "        if line.startswith(\"CAPACITY OF KNAPSACK\"):\n",
    "            max_capacity = int(line.strip().split()[3])\n",
    "            continue\n",
    "        elif line.startswith(\"MIN SPEED\"):\n",
    "            v_min = float(line.strip().split()[2])\n",
    "        elif line.startswith(\"MAX SPEED\"):\n",
    "            v_max = float(line.strip().split()[2])\n",
    "        elif line.startswith(\"RENTING RATIO\"):\n",
    "            renting_ratio = float(line.strip().split()[2])\n",
    "        elif line.startswith('NODE_COORD_SECTION'):\n",
    "            in_node_section = True\n",
    "            in_item_section = False\n",
    "            continue\n",
    "        elif line.startswith('ITEMS SECTION'):\n",
    "            in_node_section = False\n",
    "            in_item_section = True\n",
    "            continue\n",
    "        elif line.startswith('EOF'):\n",
    "            break\n",
    "        \n",
    "        if in_node_section:\n",
    "            _, x, y = map(int, line.strip().split())\n",
    "            node_coordinates.append((x, y))\n",
    "        elif in_item_section:\n",
    "            item_id, profit, weight, node_number = map(int, line.strip().split())\n",
    "            item_to_city_mapping_dict[node_number - 1].append(item_id-1) # re-index to 0\n",
    "            item_values.append(profit)\n",
    "            item_weights.append(weight)\n",
    "    \n",
    "    value_to_weight_ratio = np.array(item_values) / np.array(item_weights)\n",
    "    value_to_weight_ratio_dict = {}\n",
    "    for i in range(len(value_to_weight_ratio)):\n",
    "        value_to_weight_ratio_dict[i] = value_to_weight_ratio[i]\n",
    "    \n",
    "    return {\"nb_cities\": nb_cities,\n",
    "            \"nb_items\": nb_items,\n",
    "            \"Q\": max_capacity, \n",
    "            \"v_min\": v_min, \n",
    "            \"v_max\": v_max, \n",
    "            \"R\": renting_ratio, \n",
    "            \"pairwise_distances\": pdist(node_coordinates), \n",
    "            \"item_to_city_mapping\":item_to_city_mapping_dict,\n",
    "            \"item_weights\": np.array(item_weights),\n",
    "            \"item_values\": np.array(item_values),\n",
    "            \"value_to_weight_ratio_dict\": value_to_weight_ratio_dict\n",
    "            }"
   ]
  },
  {
   "cell_type": "markdown",
   "metadata": {},
   "source": [
    "#### Replicating the example evaluation of a candidate solution found in as found https://link.springer.com/chapter/10.1007/978-3-319-54157-0_4"
   ]
  },
  {
   "cell_type": "markdown",
   "metadata": {},
   "source": [
    "Setting up the problem example"
   ]
  },
  {
   "cell_type": "code",
   "execution_count": 3,
   "metadata": {},
   "outputs": [],
   "source": [
    "item_values = np.array([30, 34, 40, 25])\n",
    "item_weights = np.array([25, 30, 40, 21])\n",
    "\n",
    "item_to_city_mapping_dict = {0:[0], 1:[1], 2:[2], 3:[3]}\n",
    "distance_matrix = np.array(\n",
    "    [\n",
    "    [0, 4, 9, 3],\n",
    "    [4, 0, 5, 5],\n",
    "    [9, 5, 0, 8],\n",
    "    [3, 5, 8, 0]\n",
    "    ]\n",
    ").astype(float)\n",
    "\n",
    "vmax = 1.0\n",
    "vmin = 0.1\n",
    "Q = 80"
   ]
  },
  {
   "cell_type": "code",
   "execution_count": 4,
   "metadata": {},
   "outputs": [],
   "source": [
    "ex_node_coords = [(5, 5), (9, 5), (13, 2), (5, 2)]"
   ]
  },
  {
   "cell_type": "code",
   "execution_count": 5,
   "metadata": {},
   "outputs": [
    {
     "data": {
      "text/plain": [
       "array([[0.        , 4.        , 8.54400375, 3.        ],\n",
       "       [4.        , 0.        , 5.        , 5.        ],\n",
       "       [8.54400375, 5.        , 0.        , 8.        ],\n",
       "       [3.        , 5.        , 8.        , 0.        ]])"
      ]
     },
     "execution_count": 5,
     "metadata": {},
     "output_type": "execute_result"
    }
   ],
   "source": [
    "dist_mat = squareform(pdist(ex_node_coords))\n",
    "dist_mat"
   ]
  },
  {
   "cell_type": "markdown",
   "metadata": {},
   "source": [
    "Cost function for the knapsack, as given by:\n",
    "$$\n",
    "  \\sum^m_{j = 1} z_j * b_j\n",
    "$$\n",
    "where $z_j$ is the a binary vector where each index corresponds to an item and is 0 if the item is not picked and 1 if it is and $b_j$ is the values vector."
   ]
  },
  {
   "cell_type": "code",
   "execution_count": 6,
   "metadata": {},
   "outputs": [],
   "source": [
    "def knapsack_cost(candidate_solution, item_values):\n",
    "    return np.sum(np.array(candidate_solution.packing_plan) * item_values)"
   ]
  },
  {
   "cell_type": "markdown",
   "metadata": {},
   "source": [
    "Cost function for the tour, taking into account velocity, as given by:\n",
    "$$\n",
    "    f(\\pi, z) = \\frac{d_{\\pi_1, \\pi_{n}} * R}{v(w(\\pi_{n}))} + \\sum^{n-1}_{i = 1} \\frac{d_{\\pi_i, \\pi_{i+1}} * R}{v(w(\\pi_{i}))}\n",
    "$$ \n",
    "where \n",
    "$$\n",
    "    w(\\pi_i) = \\sum^{i}_{k=1}\\sum^{m}_{j=1} z_j * b_j * a_{j, \\pi_i}\n",
    "$$ \n",
    "\n",
    "and \n",
    "$$\n",
    "    v(q) = v_{max} - \\frac{q}{Q} * (v_{max} - v_{min})\n",
    "$$ \n",
    "\n",
    "where $d_{\\pi_i, \\pi_{i+1}}$ is the distance between city $i$ and $i+1$, obtained from the distance matrix $d$ and $a$ is the item mapping matrix and R is the renting ratio"
   ]
  },
  {
   "cell_type": "code",
   "execution_count": 63,
   "metadata": {},
   "outputs": [],
   "source": [
    "def tour_cost(candidate_solution, distance_matrix, item_to_city_mapping_dict, item_weights, vmax, vmin, Q, renting_ratio):\n",
    "    tour = candidate_solution.tour\n",
    "    \n",
    "    # calculate the weight picked up at each city\n",
    "    weight_at_city_i = []\n",
    "    for city in tour:\n",
    "        # Create a row filled with zeros for the selected item\n",
    "        item_city_row = np.zeros(len(item_weights), dtype=int)\n",
    "        items_in_city = item_to_city_mapping_dict[city]\n",
    "        # Fill in the row based on the item to city mapping for the selected item\n",
    "        item_city_row[items_in_city] = 1\n",
    "        print(item_city_row)\n",
    "        weight_at_city_i.append(sum(item_city_row * np.array(candidate_solution.packing_plan) * item_weights))\n",
    "    # calculate the total weight that the thief has when leaving each city using the cumulative sum \n",
    "    weight_at_city_i = np.array(np.cumsum(weight_at_city_i))\n",
    "    # calculate the velocity of the thief when leaving each city\n",
    "    velocity_at_city_i = vmax - weight_at_city_i / Q * (vmax - vmin)\n",
    "    # retrieve the distance between the cities \n",
    "    distance_between_cities = []\n",
    "\n",
    "\n",
    "    for i in range(0, len(tour)-1):\n",
    "\n",
    "        distance_between_cities.append(distance_matrix[tour[i]][tour[i+1]])\n",
    "    distance_between_cities.append(distance_matrix[tour[0]][tour[-1]])\n",
    "    distance_between_cities = np.array(distance_between_cities)\n",
    "    \n",
    "    # return the total completion time\n",
    "    return np.sum(distance_between_cities / velocity_at_city_i) * renting_ratio"
   ]
  },
  {
   "cell_type": "code",
   "execution_count": 65,
   "metadata": {},
   "outputs": [],
   "source": [
    "def get_pdist_distance(pairwise_distances, i, j, nb_cities):\n",
    "     if i < j:\n",
    "        return pairwise_distances[nb_cities * i + j - ((i + 2) * (i + 1)) // 2]\n",
    "     elif i > j:\n",
    "        return pairwise_distances[nb_cities * j + i - ((j + 2) * (j + 1)) // 2]\n"
   ]
  },
  {
   "cell_type": "code",
   "execution_count": 69,
   "metadata": {},
   "outputs": [],
   "source": [
    "def tour_cost_pdist(candidate_solution, pairwise_distances, item_to_city_mapping_dict, item_weights, vmax, vmin, Q, renting_ratio):\n",
    "    tour = candidate_solution.tour\n",
    "    nb_cities = len(item_weights)\n",
    "    # calculate the weight picked up at each city\n",
    "    weight_at_city_i = []\n",
    "    for city in tour:\n",
    "        # Create a row filled with zeros for the selected item\n",
    "        item_city_row = np.zeros(len(item_weights), dtype=int)\n",
    "        items_in_city = item_to_city_mapping_dict[city]\n",
    "        print(items_in_city)\n",
    "        # Fill in the row based on the item to city mapping for the selected item\n",
    "        item_city_row[items_in_city] = 1\n",
    "\n",
    "        weight_at_city_i.append(sum(item_city_row * np.array(candidate_solution.packing_plan) * item_weights))\n",
    "    # calculate the total weight that the thief has when leaving each city using the cumulative sum \n",
    "    weight_at_city_i = np.array(np.cumsum(weight_at_city_i))\n",
    "    # calculate the velocity of the thief when leaving each city\n",
    "    velocity_at_city_i = vmax - weight_at_city_i / Q * (vmax - vmin)\n",
    "    # retrieve the distance between the cities \n",
    "    distance_between_cities = []\n",
    "\n",
    "\n",
    "    for i in range(0, len(tour)-1):\n",
    "        distance_between_cities.append(get_pdist_distance(pairwise_distances, tour[i], tour[i+1], nb_cities))\n",
    "    distance_between_cities.append(get_pdist_distance(pairwise_distances, tour[0], tour[-1], nb_cities))\n",
    "    distance_between_cities = np.array(distance_between_cities)\n",
    "    \n",
    "    # return the total completion time\n",
    "    return np.sum(distance_between_cities / velocity_at_city_i) * renting_ratio"
   ]
  },
  {
   "cell_type": "code",
   "execution_count": 11,
   "metadata": {},
   "outputs": [],
   "source": [
    "def evaluate_candidate_solution_cost(candidate_solution, distance_matrix, item_to_city_mapping_dict, item_weights, item_values, vmax, vmin, Q, renting_ratio):\n",
    "    candidate_solution.tour_cost = tour_cost(candidate_solution, distance_matrix, item_to_city_mapping_dict, item_weights, vmax, vmin, Q, renting_ratio)\n",
    "    candidate_solution.packing_plan_cost = knapsack_cost(candidate_solution, item_values)\n",
    "    return candidate_solution"
   ]
  },
  {
   "cell_type": "code",
   "execution_count": 12,
   "metadata": {},
   "outputs": [],
   "source": [
    "def evaluate_candidate_solution_cost_pdist(candidate_solution, pairwise_distances, item_to_city_mapping_dict, item_weights, item_values, vmax, vmin, Q, renting_ratio):\n",
    "    candidate_solution.tour_cost = tour_cost_pdist(candidate_solution, pairwise_distances, item_to_city_mapping_dict, item_weights, vmax, vmin, Q, renting_ratio)\n",
    "    candidate_solution.packing_plan_cost = knapsack_cost(candidate_solution, item_values)\n",
    "    return candidate_solution"
   ]
  },
  {
   "cell_type": "markdown",
   "metadata": {},
   "source": [
    "Setting up the example candidate solutions and evaluating them using the previously defined function"
   ]
  },
  {
   "cell_type": "code",
   "execution_count": 13,
   "metadata": {},
   "outputs": [],
   "source": [
    "ex_tours = [[1, 2, 3, 4], [1, 4, 3, 2], [1, 2, 3, 4], [1, 4, 3, 2], [1, 4, 3, 2], [1, 3, 2, 4],  [1, 4, 3, 2], [1, 2, 3, 4], [1, 4, 3, 2], [1, 3, 2, 4]]\n",
    "ex_packing_plans = [[0, 0, 0, 0], [0, 0, 0, 0], [0, 0, 0, 1], [0, 1, 0, 0], [0, 0, 1, 0], [0, 1, 0, 1], [1, 1, 0, 0], [0, 0, 1, 1], [0, 1, 1, 0], [1, 1, 0, 1]]"
   ]
  },
  {
   "cell_type": "code",
   "execution_count": 66,
   "metadata": {},
   "outputs": [
    {
     "name": "stdout",
     "output_type": "stream",
     "text": [
      "[1 0 0 0]\n",
      "[0 1 0 0]\n",
      "[0 0 1 0]\n",
      "[0 0 0 1]\n",
      "[1 0 0 0]\n",
      "[0 0 0 1]\n",
      "[0 0 1 0]\n",
      "[0 1 0 0]\n",
      "[1 0 0 0]\n",
      "[0 1 0 0]\n",
      "[0 0 1 0]\n",
      "[0 0 0 1]\n",
      "[1 0 0 0]\n",
      "[0 0 0 1]\n",
      "[0 0 1 0]\n",
      "[0 1 0 0]\n",
      "[1 0 0 0]\n",
      "[0 0 0 1]\n",
      "[0 0 1 0]\n",
      "[0 1 0 0]\n",
      "[1 0 0 0]\n",
      "[0 0 1 0]\n",
      "[0 1 0 0]\n",
      "[0 0 0 1]\n",
      "[1 0 0 0]\n",
      "[0 0 0 1]\n",
      "[0 0 1 0]\n",
      "[0 1 0 0]\n",
      "[1 0 0 0]\n",
      "[0 1 0 0]\n",
      "[0 0 1 0]\n",
      "[0 0 0 1]\n",
      "[1 0 0 0]\n",
      "[0 0 0 1]\n",
      "[0 0 1 0]\n",
      "[0 1 0 0]\n",
      "[1 0 0 0]\n",
      "[0 0 1 0]\n",
      "[0 1 0 0]\n",
      "[0 0 0 1]\n"
     ]
    },
    {
     "data": {
      "text/plain": [
       "[struct({'tour': [0, 1, 2, 3], 'packing_plan': [0, 0, 0, 0], 'tour_cost': 20.0, 'packing_plan_cost': 0}),\n",
       " struct({'tour': [0, 3, 2, 1], 'packing_plan': [0, 0, 0, 0], 'tour_cost': 20.0, 'packing_plan_cost': 0}),\n",
       " struct({'tour': [0, 1, 2, 3], 'packing_plan': [0, 0, 0, 1], 'tour_cost': 20.927986906710313, 'packing_plan_cost': 25}),\n",
       " struct({'tour': [0, 3, 2, 1], 'packing_plan': [0, 1, 0, 0], 'tour_cost': 22.037735849056602, 'packing_plan_cost': 34}),\n",
       " struct({'tour': [0, 3, 2, 1], 'packing_plan': [0, 0, 1, 0], 'tour_cost': 27.363636363636363, 'packing_plan_cost': 40}),\n",
       " struct({'tour': [0, 2, 1, 3], 'packing_plan': [0, 1, 0, 1], 'tour_cost': 28.585292978476183, 'packing_plan_cost': 59}),\n",
       " struct({'tour': [0, 3, 2, 1], 'packing_plan': [1, 1, 0, 0], 'tour_cost': 32.75267284390591, 'packing_plan_cost': 64}),\n",
       " struct({'tour': [0, 1, 2, 3], 'packing_plan': [0, 0, 1, 1], 'tour_cost': 33.107207533502354, 'packing_plan_cost': 65}),\n",
       " struct({'tour': [0, 3, 2, 1], 'packing_plan': [0, 1, 1, 0], 'tour_cost': 38.91443850267379, 'packing_plan_cost': 74}),\n",
       " struct({'tour': [0, 2, 1, 3], 'packing_plan': [1, 1, 0, 1], 'tour_cost': 53.28267014033966, 'packing_plan_cost': 89})]"
      ]
     },
     "execution_count": 66,
     "metadata": {},
     "output_type": "execute_result"
    }
   ],
   "source": [
    "ex_init_pop = []\n",
    "for i in range(len(ex_tours)):\n",
    "    candidate_solution = structure()\n",
    "    candidate_solution.tour = list(np.array(ex_tours[i])-1)\n",
    "    candidate_solution.packing_plan = ex_packing_plans[i]\n",
    "    evaluate_candidate_solution_cost(candidate_solution, distance_matrix, item_to_city_mapping_dict, item_weights, item_values, vmax, vmin, Q, 1)\n",
    "    ex_init_pop.append(candidate_solution)\n",
    "ex_init_pop"
   ]
  },
  {
   "cell_type": "code",
   "execution_count": 68,
   "metadata": {},
   "outputs": [
    {
     "data": {
      "text/plain": [
       "[struct({'tour': [0, 1, 2, 3], 'packing_plan': [0, 0, 0, 0], 'tour_cost': 20.0, 'packing_plan_cost': 0}),\n",
       " struct({'tour': [0, 3, 2, 1], 'packing_plan': [0, 0, 0, 0], 'tour_cost': 20.0, 'packing_plan_cost': 0}),\n",
       " struct({'tour': [0, 1, 2, 3], 'packing_plan': [0, 0, 0, 1], 'tour_cost': 20.927986906710313, 'packing_plan_cost': 25}),\n",
       " struct({'tour': [0, 3, 2, 1], 'packing_plan': [0, 1, 0, 0], 'tour_cost': 22.037735849056602, 'packing_plan_cost': 34}),\n",
       " struct({'tour': [0, 3, 2, 1], 'packing_plan': [0, 0, 1, 0], 'tour_cost': 27.363636363636363, 'packing_plan_cost': 40}),\n",
       " struct({'tour': [0, 2, 1, 3], 'packing_plan': [0, 1, 0, 1], 'tour_cost': 28.12929672379371, 'packing_plan_cost': 59}),\n",
       " struct({'tour': [0, 3, 2, 1], 'packing_plan': [1, 1, 0, 0], 'tour_cost': 32.75267284390591, 'packing_plan_cost': 64}),\n",
       " struct({'tour': [0, 1, 2, 3], 'packing_plan': [0, 0, 1, 1], 'tour_cost': 33.107207533502354, 'packing_plan_cost': 65}),\n",
       " struct({'tour': [0, 3, 2, 1], 'packing_plan': [0, 1, 1, 0], 'tour_cost': 38.91443850267379, 'packing_plan_cost': 74}),\n",
       " struct({'tour': [0, 2, 1, 3], 'packing_plan': [1, 1, 0, 1], 'tour_cost': 52.648240568607534, 'packing_plan_cost': 89})]"
      ]
     },
     "execution_count": 68,
     "metadata": {},
     "output_type": "execute_result"
    }
   ],
   "source": [
    "ex_init_pop = []\n",
    "for i in range(len(ex_tours)):\n",
    "    candidate_solution = structure()\n",
    "    candidate_solution.tour = list(np.array(ex_tours[i])-1)\n",
    "    candidate_solution.packing_plan = ex_packing_plans[i]\n",
    "    evaluate_candidate_solution_cost_pdist(candidate_solution, pdist(ex_node_coords), item_to_city_mapping_dict, item_weights, item_values, vmax, vmin, Q, 1)\n",
    "    ex_init_pop.append(candidate_solution)\n",
    "ex_init_pop"
   ]
  },
  {
   "cell_type": "code",
   "execution_count": 35,
   "metadata": {},
   "outputs": [],
   "source": [
    "def random_tour(nb_cities):\n",
    "    return random.sample(list(range(nb_cities)), k = nb_cities)"
   ]
  },
  {
   "cell_type": "code",
   "execution_count": 36,
   "metadata": {},
   "outputs": [],
   "source": [
    "def pack_one(init_pop, item_to_city_mapping_dict):\n",
    "    number_of_items = len(item_to_city_mapping_dict)\n",
    "    for candidate_solution in init_pop:\n",
    "        packing_plan = np.zeros(number_of_items)\n",
    "        chosen_item = random.sample(list(range(number_of_items)), k = 1)\n",
    "        packing_plan[chosen_item] = 1\n",
    "        candidate_solution.packing_plan = list(packing_plan)\n",
    "    return init_pop"
   ]
  },
  {
   "cell_type": "code",
   "execution_count": 37,
   "metadata": {},
   "outputs": [],
   "source": [
    "def pack_random(init_pop, item_to_city_mapping_dict):\n",
    "    number_of_items = len(item_to_city_mapping_dict)\n",
    "    for candidate_solution in init_pop:\n",
    "        packing_plan = [random.choice(list(range(2))) for _ in range(number_of_items)]\n",
    "        candidate_solution.packing_plan = packing_plan\n",
    "    return init_pop"
   ]
  },
  {
   "cell_type": "code",
   "execution_count": 44,
   "metadata": {},
   "outputs": [],
   "source": [
    "def generate_initial_population(pop_size, distance_matrix, item_to_city_mapping_dict, pack_init_method, tour_init_method = \"random\", Q = None, value_to_weight_ratio_dict = None, item_weights = None): # Jack\n",
    "\n",
    "    init_pop = []\n",
    "    nb_cities = len(item_to_city_mapping_dict.keys())\n",
    "    if tour_init_method == \"random\":\n",
    "        for _ in range(pop_size):\n",
    "            candidate_solution = structure()\n",
    "            candidate_solution.tour = random_tour(nb_cities)\n",
    "            init_pop.append(candidate_solution)\n",
    "\n",
    "    if pack_init_method == \"random\":\n",
    "        pack_random(init_pop, item_to_city_mapping_dict)\n",
    "    elif pack_init_method == \"pack_one\":\n",
    "        pack_one(init_pop, item_to_city_mapping_dict)\n",
    "\n",
    "    return init_pop"
   ]
  },
  {
   "cell_type": "code",
   "execution_count": 39,
   "metadata": {},
   "outputs": [],
   "source": [
    "a280_n1395 = read_TTP_instance_data(\"../data/a280-n1395.txt\")"
   ]
  },
  {
   "cell_type": "code",
   "execution_count": 40,
   "metadata": {},
   "outputs": [],
   "source": [
    "a280_n1395_dist_mat = squareform(a280_n1395[\"pairwise_distances\"])"
   ]
  },
  {
   "cell_type": "code",
   "execution_count": 60,
   "metadata": {},
   "outputs": [
    {
     "data": {
      "text/plain": [
       "[struct({'tour': [157, 195, 206, 93, 241, 276, 59, 23, 204, 250, 267, 191, 57, 135, 82, 112, 152, 4, 22, 28, 235, 170, 56, 134, 213, 7, 154, 155, 72, 225, 0, 77, 183, 156, 136, 8, 166, 278, 117, 142, 143, 58, 96, 149, 100, 90, 10, 238, 168, 97, 79, 272, 64, 139, 138, 207, 184, 106, 257, 231, 200, 70, 239, 21, 185, 215, 29, 118, 91, 175, 144, 124, 242, 243, 123, 261, 1, 164, 251, 32, 255, 153, 245, 94, 128, 232, 208, 9, 147, 180, 230, 116, 39, 131, 34, 205, 199, 99, 73, 53, 277, 55, 63, 269, 214, 95, 129, 69, 233, 2, 234, 226, 12, 105, 176, 274, 76, 146, 68, 44, 52, 266, 81, 42, 113, 111, 47, 80, 11, 268, 43, 26, 84, 140, 92, 115, 30, 177, 249, 31, 75, 178, 258, 41, 221, 3, 78, 240, 262, 209, 218, 151, 89, 86, 121, 159, 264, 137, 186, 244, 254, 14, 246, 125, 192, 50, 88, 259, 24, 141, 66, 263, 130, 211, 127, 224, 150, 189, 158, 212, 167, 46, 223, 216, 163, 198, 101, 109, 174, 217, 108, 114, 227, 236, 36, 104, 219, 87, 71, 5, 260, 48, 194, 35, 253, 179, 202, 148, 60, 187, 252, 13, 18, 122, 132, 83, 193, 102, 20, 67, 6, 273, 270, 161, 181, 40, 210, 271, 203, 17, 247, 248, 145, 265, 275, 197, 25, 190, 228, 126, 173, 162, 172, 201, 103, 19, 65, 74, 38, 51, 220, 98, 54, 45, 62, 16, 229, 120, 182, 196, 27, 222, 37, 165, 61, 110, 107, 256, 237, 119, 160, 279, 49, 33, 188, 171, 169, 85, 15, 133], 'packing_plan': [0.0, 0.0, 0.0, 0.0, 0.0, 0.0, 0.0, 0.0, 0.0, 0.0, 0.0, 0.0, 0.0, 0.0, 0.0, 0.0, 0.0, 0.0, 0.0, 0.0, 0.0, 0.0, 0.0, 0.0, 0.0, 0.0, 0.0, 0.0, 0.0, 0.0, 0.0, 0.0, 0.0, 0.0, 0.0, 0.0, 0.0, 0.0, 0.0, 0.0, 0.0, 0.0, 0.0, 0.0, 0.0, 0.0, 0.0, 0.0, 0.0, 0.0, 0.0, 0.0, 0.0, 0.0, 0.0, 0.0, 0.0, 0.0, 0.0, 0.0, 0.0, 0.0, 0.0, 0.0, 0.0, 0.0, 0.0, 0.0, 0.0, 0.0, 0.0, 0.0, 0.0, 0.0, 0.0, 0.0, 0.0, 0.0, 0.0, 0.0, 0.0, 0.0, 0.0, 0.0, 0.0, 0.0, 0.0, 0.0, 0.0, 0.0, 0.0, 0.0, 0.0, 0.0, 0.0, 0.0, 0.0, 0.0, 0.0, 0.0, 0.0, 0.0, 0.0, 0.0, 0.0, 0.0, 0.0, 0.0, 0.0, 0.0, 0.0, 0.0, 0.0, 0.0, 0.0, 0.0, 0.0, 0.0, 0.0, 0.0, 0.0, 0.0, 0.0, 0.0, 0.0, 0.0, 0.0, 0.0, 0.0, 0.0, 0.0, 0.0, 0.0, 0.0, 0.0, 0.0, 0.0, 0.0, 0.0, 0.0, 0.0, 0.0, 1.0, 0.0, 0.0, 0.0, 0.0, 0.0, 0.0, 0.0, 0.0, 0.0, 0.0, 0.0, 0.0, 0.0, 0.0, 0.0, 0.0, 0.0, 0.0, 0.0, 0.0, 0.0, 0.0, 0.0, 0.0, 0.0, 0.0, 0.0, 0.0, 0.0, 0.0, 0.0, 0.0, 0.0, 0.0, 0.0, 0.0, 0.0, 0.0, 0.0, 0.0, 0.0, 0.0, 0.0, 0.0, 0.0, 0.0, 0.0, 0.0, 0.0, 0.0, 0.0, 0.0, 0.0, 0.0, 0.0, 0.0, 0.0, 0.0, 0.0, 0.0, 0.0, 0.0, 0.0, 0.0, 0.0, 0.0, 0.0, 0.0, 0.0, 0.0, 0.0, 0.0, 0.0, 0.0, 0.0, 0.0, 0.0, 0.0, 0.0, 0.0, 0.0, 0.0, 0.0, 0.0, 0.0, 0.0, 0.0, 0.0, 0.0, 0.0, 0.0, 0.0, 0.0, 0.0, 0.0, 0.0, 0.0, 0.0, 0.0, 0.0, 0.0, 0.0, 0.0, 0.0, 0.0, 0.0, 0.0, 0.0, 0.0, 0.0, 0.0, 0.0, 0.0, 0.0, 0.0, 0.0, 0.0, 0.0, 0.0, 0.0, 0.0, 0.0, 0.0, 0.0, 0.0, 0.0, 0.0, 0.0, 0.0, 0.0, 0.0, 0.0, 0.0, 0.0, 0.0, 0.0, 0.0]})]"
      ]
     },
     "execution_count": 60,
     "metadata": {},
     "output_type": "execute_result"
    }
   ],
   "source": [
    "init_pop = generate_initial_population(1, \n",
    "                                       None, \n",
    "                                       a280_n1395[\"item_to_city_mapping\"], \n",
    "                                       \"pack_one\", \n",
    "                                       \"random\", \n",
    "                                       a280_n1395[\"Q\"], \n",
    "                                       a280_n1395[\"value_to_weight_ratio_dict\"],\n",
    "                                       a280_n1395[\"item_weights\"])\n",
    "init_pop"
   ]
  },
  {
   "cell_type": "code",
   "execution_count": 61,
   "metadata": {},
   "outputs": [
    {
     "data": {
      "text/plain": [
       "array([1.])"
      ]
     },
     "execution_count": 61,
     "metadata": {},
     "output_type": "execute_result"
    }
   ],
   "source": [
    "np.array(init_pop[0].packing_plan)[np.array(init_pop[0].packing_plan) > 0]"
   ]
  },
  {
   "cell_type": "code",
   "execution_count": 67,
   "metadata": {},
   "outputs": [
    {
     "ename": "ValueError",
     "evalue": "operands could not be broadcast together with shapes (1395,) (280,) ",
     "output_type": "error",
     "traceback": [
      "\u001b[1;31m---------------------------------------------------------------------------\u001b[0m",
      "\u001b[1;31mValueError\u001b[0m                                Traceback (most recent call last)",
      "\u001b[1;32mc:\\Users\\hpapa\\OneDrive\\Documents\\Data Science Year 4\\ECMM409\\Travelling-Thief-Problem\\code\\solution_representation_and_fitness.ipynb Cell 28\u001b[0m line \u001b[0;36m1\n\u001b[1;32m----> <a href='vscode-notebook-cell:/c%3A/Users/hpapa/OneDrive/Documents/Data%20Science%20Year%204/ECMM409/Travelling-Thief-Problem/code/solution_representation_and_fitness.ipynb#X44sZmlsZQ%3D%3D?line=0'>1</a>\u001b[0m evaled_pop \u001b[39m=\u001b[39m [\n\u001b[0;32m      <a href='vscode-notebook-cell:/c%3A/Users/hpapa/OneDrive/Documents/Data%20Science%20Year%204/ECMM409/Travelling-Thief-Problem/code/solution_representation_and_fitness.ipynb#X44sZmlsZQ%3D%3D?line=1'>2</a>\u001b[0m     evaluate_candidate_solution_cost_pdist(candidate_solution,\n\u001b[0;32m      <a href='vscode-notebook-cell:/c%3A/Users/hpapa/OneDrive/Documents/Data%20Science%20Year%204/ECMM409/Travelling-Thief-Problem/code/solution_representation_and_fitness.ipynb#X44sZmlsZQ%3D%3D?line=2'>3</a>\u001b[0m                                      a280_n1395[\u001b[39m\"\u001b[39;49m\u001b[39mpairwise_distances\u001b[39;49m\u001b[39m\"\u001b[39;49m],\n\u001b[0;32m      <a href='vscode-notebook-cell:/c%3A/Users/hpapa/OneDrive/Documents/Data%20Science%20Year%204/ECMM409/Travelling-Thief-Problem/code/solution_representation_and_fitness.ipynb#X44sZmlsZQ%3D%3D?line=3'>4</a>\u001b[0m                                      a280_n1395[\u001b[39m\"\u001b[39;49m\u001b[39mitem_to_city_mapping\u001b[39;49m\u001b[39m\"\u001b[39;49m],\n\u001b[0;32m      <a href='vscode-notebook-cell:/c%3A/Users/hpapa/OneDrive/Documents/Data%20Science%20Year%204/ECMM409/Travelling-Thief-Problem/code/solution_representation_and_fitness.ipynb#X44sZmlsZQ%3D%3D?line=4'>5</a>\u001b[0m                                      a280_n1395[\u001b[39m\"\u001b[39;49m\u001b[39mitem_weights\u001b[39;49m\u001b[39m\"\u001b[39;49m],\n\u001b[0;32m      <a href='vscode-notebook-cell:/c%3A/Users/hpapa/OneDrive/Documents/Data%20Science%20Year%204/ECMM409/Travelling-Thief-Problem/code/solution_representation_and_fitness.ipynb#X44sZmlsZQ%3D%3D?line=5'>6</a>\u001b[0m                                      a280_n1395[\u001b[39m\"\u001b[39;49m\u001b[39mitem_values\u001b[39;49m\u001b[39m\"\u001b[39;49m],\n\u001b[0;32m      <a href='vscode-notebook-cell:/c%3A/Users/hpapa/OneDrive/Documents/Data%20Science%20Year%204/ECMM409/Travelling-Thief-Problem/code/solution_representation_and_fitness.ipynb#X44sZmlsZQ%3D%3D?line=6'>7</a>\u001b[0m                                      a280_n1395[\u001b[39m\"\u001b[39;49m\u001b[39mv_max\u001b[39;49m\u001b[39m\"\u001b[39;49m],\n\u001b[0;32m      <a href='vscode-notebook-cell:/c%3A/Users/hpapa/OneDrive/Documents/Data%20Science%20Year%204/ECMM409/Travelling-Thief-Problem/code/solution_representation_and_fitness.ipynb#X44sZmlsZQ%3D%3D?line=7'>8</a>\u001b[0m                                      a280_n1395[\u001b[39m\"\u001b[39;49m\u001b[39mv_min\u001b[39;49m\u001b[39m\"\u001b[39;49m],\n\u001b[0;32m      <a href='vscode-notebook-cell:/c%3A/Users/hpapa/OneDrive/Documents/Data%20Science%20Year%204/ECMM409/Travelling-Thief-Problem/code/solution_representation_and_fitness.ipynb#X44sZmlsZQ%3D%3D?line=8'>9</a>\u001b[0m                                      a280_n1395[\u001b[39m\"\u001b[39;49m\u001b[39mQ\u001b[39;49m\u001b[39m\"\u001b[39;49m],\n\u001b[0;32m     <a href='vscode-notebook-cell:/c%3A/Users/hpapa/OneDrive/Documents/Data%20Science%20Year%204/ECMM409/Travelling-Thief-Problem/code/solution_representation_and_fitness.ipynb#X44sZmlsZQ%3D%3D?line=9'>10</a>\u001b[0m                                      a280_n1395[\u001b[39m\"\u001b[39;49m\u001b[39mR\u001b[39;49m\u001b[39m\"\u001b[39;49m])\n\u001b[0;32m     <a href='vscode-notebook-cell:/c%3A/Users/hpapa/OneDrive/Documents/Data%20Science%20Year%204/ECMM409/Travelling-Thief-Problem/code/solution_representation_and_fitness.ipynb#X44sZmlsZQ%3D%3D?line=10'>11</a>\u001b[0m     \u001b[39mfor\u001b[39;49;00m candidate_solution \u001b[39min\u001b[39;49;00m init_pop\n\u001b[0;32m     <a href='vscode-notebook-cell:/c%3A/Users/hpapa/OneDrive/Documents/Data%20Science%20Year%204/ECMM409/Travelling-Thief-Problem/code/solution_representation_and_fitness.ipynb#X44sZmlsZQ%3D%3D?line=11'>12</a>\u001b[0m ]\n",
      "\u001b[1;32mc:\\Users\\hpapa\\OneDrive\\Documents\\Data Science Year 4\\ECMM409\\Travelling-Thief-Problem\\code\\solution_representation_and_fitness.ipynb Cell 28\u001b[0m line \u001b[0;36m2\n\u001b[0;32m      <a href='vscode-notebook-cell:/c%3A/Users/hpapa/OneDrive/Documents/Data%20Science%20Year%204/ECMM409/Travelling-Thief-Problem/code/solution_representation_and_fitness.ipynb#X44sZmlsZQ%3D%3D?line=0'>1</a>\u001b[0m evaled_pop \u001b[39m=\u001b[39m [\n\u001b[1;32m----> <a href='vscode-notebook-cell:/c%3A/Users/hpapa/OneDrive/Documents/Data%20Science%20Year%204/ECMM409/Travelling-Thief-Problem/code/solution_representation_and_fitness.ipynb#X44sZmlsZQ%3D%3D?line=1'>2</a>\u001b[0m     evaluate_candidate_solution_cost_pdist(candidate_solution,\n\u001b[0;32m      <a href='vscode-notebook-cell:/c%3A/Users/hpapa/OneDrive/Documents/Data%20Science%20Year%204/ECMM409/Travelling-Thief-Problem/code/solution_representation_and_fitness.ipynb#X44sZmlsZQ%3D%3D?line=2'>3</a>\u001b[0m                                      a280_n1395[\u001b[39m\"\u001b[39;49m\u001b[39mpairwise_distances\u001b[39;49m\u001b[39m\"\u001b[39;49m],\n\u001b[0;32m      <a href='vscode-notebook-cell:/c%3A/Users/hpapa/OneDrive/Documents/Data%20Science%20Year%204/ECMM409/Travelling-Thief-Problem/code/solution_representation_and_fitness.ipynb#X44sZmlsZQ%3D%3D?line=3'>4</a>\u001b[0m                                      a280_n1395[\u001b[39m\"\u001b[39;49m\u001b[39mitem_to_city_mapping\u001b[39;49m\u001b[39m\"\u001b[39;49m],\n\u001b[0;32m      <a href='vscode-notebook-cell:/c%3A/Users/hpapa/OneDrive/Documents/Data%20Science%20Year%204/ECMM409/Travelling-Thief-Problem/code/solution_representation_and_fitness.ipynb#X44sZmlsZQ%3D%3D?line=4'>5</a>\u001b[0m                                      a280_n1395[\u001b[39m\"\u001b[39;49m\u001b[39mitem_weights\u001b[39;49m\u001b[39m\"\u001b[39;49m],\n\u001b[0;32m      <a href='vscode-notebook-cell:/c%3A/Users/hpapa/OneDrive/Documents/Data%20Science%20Year%204/ECMM409/Travelling-Thief-Problem/code/solution_representation_and_fitness.ipynb#X44sZmlsZQ%3D%3D?line=5'>6</a>\u001b[0m                                      a280_n1395[\u001b[39m\"\u001b[39;49m\u001b[39mitem_values\u001b[39;49m\u001b[39m\"\u001b[39;49m],\n\u001b[0;32m      <a href='vscode-notebook-cell:/c%3A/Users/hpapa/OneDrive/Documents/Data%20Science%20Year%204/ECMM409/Travelling-Thief-Problem/code/solution_representation_and_fitness.ipynb#X44sZmlsZQ%3D%3D?line=6'>7</a>\u001b[0m                                      a280_n1395[\u001b[39m\"\u001b[39;49m\u001b[39mv_max\u001b[39;49m\u001b[39m\"\u001b[39;49m],\n\u001b[0;32m      <a href='vscode-notebook-cell:/c%3A/Users/hpapa/OneDrive/Documents/Data%20Science%20Year%204/ECMM409/Travelling-Thief-Problem/code/solution_representation_and_fitness.ipynb#X44sZmlsZQ%3D%3D?line=7'>8</a>\u001b[0m                                      a280_n1395[\u001b[39m\"\u001b[39;49m\u001b[39mv_min\u001b[39;49m\u001b[39m\"\u001b[39;49m],\n\u001b[0;32m      <a href='vscode-notebook-cell:/c%3A/Users/hpapa/OneDrive/Documents/Data%20Science%20Year%204/ECMM409/Travelling-Thief-Problem/code/solution_representation_and_fitness.ipynb#X44sZmlsZQ%3D%3D?line=8'>9</a>\u001b[0m                                      a280_n1395[\u001b[39m\"\u001b[39;49m\u001b[39mQ\u001b[39;49m\u001b[39m\"\u001b[39;49m],\n\u001b[0;32m     <a href='vscode-notebook-cell:/c%3A/Users/hpapa/OneDrive/Documents/Data%20Science%20Year%204/ECMM409/Travelling-Thief-Problem/code/solution_representation_and_fitness.ipynb#X44sZmlsZQ%3D%3D?line=9'>10</a>\u001b[0m                                      a280_n1395[\u001b[39m\"\u001b[39;49m\u001b[39mR\u001b[39;49m\u001b[39m\"\u001b[39;49m])\n\u001b[0;32m     <a href='vscode-notebook-cell:/c%3A/Users/hpapa/OneDrive/Documents/Data%20Science%20Year%204/ECMM409/Travelling-Thief-Problem/code/solution_representation_and_fitness.ipynb#X44sZmlsZQ%3D%3D?line=10'>11</a>\u001b[0m     \u001b[39mfor\u001b[39;00m candidate_solution \u001b[39min\u001b[39;00m init_pop\n\u001b[0;32m     <a href='vscode-notebook-cell:/c%3A/Users/hpapa/OneDrive/Documents/Data%20Science%20Year%204/ECMM409/Travelling-Thief-Problem/code/solution_representation_and_fitness.ipynb#X44sZmlsZQ%3D%3D?line=11'>12</a>\u001b[0m ]\n",
      "\u001b[1;32mc:\\Users\\hpapa\\OneDrive\\Documents\\Data Science Year 4\\ECMM409\\Travelling-Thief-Problem\\code\\solution_representation_and_fitness.ipynb Cell 28\u001b[0m line \u001b[0;36m2\n\u001b[0;32m      <a href='vscode-notebook-cell:/c%3A/Users/hpapa/OneDrive/Documents/Data%20Science%20Year%204/ECMM409/Travelling-Thief-Problem/code/solution_representation_and_fitness.ipynb#X44sZmlsZQ%3D%3D?line=0'>1</a>\u001b[0m \u001b[39mdef\u001b[39;00m \u001b[39mevaluate_candidate_solution_cost_pdist\u001b[39m(candidate_solution, pairwise_distances, item_to_city_mapping_dict, item_weights, item_values, vmax, vmin, Q, renting_ratio):\n\u001b[1;32m----> <a href='vscode-notebook-cell:/c%3A/Users/hpapa/OneDrive/Documents/Data%20Science%20Year%204/ECMM409/Travelling-Thief-Problem/code/solution_representation_and_fitness.ipynb#X44sZmlsZQ%3D%3D?line=1'>2</a>\u001b[0m     candidate_solution\u001b[39m.\u001b[39mtour_cost \u001b[39m=\u001b[39m tour_cost_pdist(candidate_solution, pairwise_distances, item_to_city_mapping_dict, item_weights, vmax, vmin, Q, renting_ratio)\n\u001b[0;32m      <a href='vscode-notebook-cell:/c%3A/Users/hpapa/OneDrive/Documents/Data%20Science%20Year%204/ECMM409/Travelling-Thief-Problem/code/solution_representation_and_fitness.ipynb#X44sZmlsZQ%3D%3D?line=2'>3</a>\u001b[0m     candidate_solution\u001b[39m.\u001b[39mpacking_plan_cost \u001b[39m=\u001b[39m knapsack_cost(candidate_solution, item_values)\n\u001b[0;32m      <a href='vscode-notebook-cell:/c%3A/Users/hpapa/OneDrive/Documents/Data%20Science%20Year%204/ECMM409/Travelling-Thief-Problem/code/solution_representation_and_fitness.ipynb#X44sZmlsZQ%3D%3D?line=3'>4</a>\u001b[0m     \u001b[39mreturn\u001b[39;00m candidate_solution\n",
      "\u001b[1;32mc:\\Users\\hpapa\\OneDrive\\Documents\\Data Science Year 4\\ECMM409\\Travelling-Thief-Problem\\code\\solution_representation_and_fitness.ipynb Cell 28\u001b[0m line \u001b[0;36m1\n\u001b[0;32m     <a href='vscode-notebook-cell:/c%3A/Users/hpapa/OneDrive/Documents/Data%20Science%20Year%204/ECMM409/Travelling-Thief-Problem/code/solution_representation_and_fitness.ipynb#X44sZmlsZQ%3D%3D?line=9'>10</a>\u001b[0m     \u001b[39m# Fill in the row based on the item to city mapping for the selected item\u001b[39;00m\n\u001b[0;32m     <a href='vscode-notebook-cell:/c%3A/Users/hpapa/OneDrive/Documents/Data%20Science%20Year%204/ECMM409/Travelling-Thief-Problem/code/solution_representation_and_fitness.ipynb#X44sZmlsZQ%3D%3D?line=10'>11</a>\u001b[0m     item_city_row[items_in_city] \u001b[39m=\u001b[39m \u001b[39m1\u001b[39m\n\u001b[1;32m---> <a href='vscode-notebook-cell:/c%3A/Users/hpapa/OneDrive/Documents/Data%20Science%20Year%204/ECMM409/Travelling-Thief-Problem/code/solution_representation_and_fitness.ipynb#X44sZmlsZQ%3D%3D?line=12'>13</a>\u001b[0m     weight_at_city_i\u001b[39m.\u001b[39mappend(\u001b[39msum\u001b[39m(item_city_row \u001b[39m*\u001b[39;49m np\u001b[39m.\u001b[39;49marray(candidate_solution\u001b[39m.\u001b[39;49mpacking_plan) \u001b[39m*\u001b[39m item_weights))\n\u001b[0;32m     <a href='vscode-notebook-cell:/c%3A/Users/hpapa/OneDrive/Documents/Data%20Science%20Year%204/ECMM409/Travelling-Thief-Problem/code/solution_representation_and_fitness.ipynb#X44sZmlsZQ%3D%3D?line=13'>14</a>\u001b[0m \u001b[39m# calculate the total weight that the thief has when leaving each city using the cumulative sum \u001b[39;00m\n\u001b[0;32m     <a href='vscode-notebook-cell:/c%3A/Users/hpapa/OneDrive/Documents/Data%20Science%20Year%204/ECMM409/Travelling-Thief-Problem/code/solution_representation_and_fitness.ipynb#X44sZmlsZQ%3D%3D?line=14'>15</a>\u001b[0m weight_at_city_i \u001b[39m=\u001b[39m np\u001b[39m.\u001b[39marray(np\u001b[39m.\u001b[39mcumsum(weight_at_city_i))\n",
      "\u001b[1;31mValueError\u001b[0m: operands could not be broadcast together with shapes (1395,) (280,) "
     ]
    }
   ],
   "source": [
    "evaled_pop = [\n",
    "    evaluate_candidate_solution_cost_pdist(candidate_solution,\n",
    "                                     a280_n1395[\"pairwise_distances\"],\n",
    "                                     a280_n1395[\"item_to_city_mapping\"],\n",
    "                                     a280_n1395[\"item_weights\"],\n",
    "                                     a280_n1395[\"item_values\"],\n",
    "                                     a280_n1395[\"v_max\"],\n",
    "                                     a280_n1395[\"v_min\"],\n",
    "                                     a280_n1395[\"Q\"],\n",
    "                                     a280_n1395[\"R\"])\n",
    "    for candidate_solution in init_pop\n",
    "]\n",
    "\n"
   ]
  },
  {
   "cell_type": "code",
   "execution_count": 110,
   "metadata": {},
   "outputs": [],
   "source": [
    "def get_ranks(population): # Ursula\n",
    "    # return (rank, structure()) or candidate solution object as represented above with an additional \"rank\" attribute\n",
    "    # doesn't need to return anything if only adding \"rank\" attribute to candidate solution.\n",
    "    # Probs easier for later functions if just add crowding_distance attribute to candidate solution\n",
    "    #Current front set\n",
    "    f = []\n",
    "    #Sets for the entire population\n",
    "    big_s = []\n",
    "    #dominant individuals for the entire population\n",
    "    big_np = []\n",
    "    for p in population:\n",
    "        #S is the set of individuals that are dominated by p\n",
    "        s = []\n",
    "        #np = the number of individuals that dominate p\n",
    "        np = 0\n",
    "        for q in population:\n",
    "            if q.packing_plan_cost < p.packing_plan_cost and q.tour_cost >= p.tour_cost:\n",
    "                s.append(q)\n",
    "            elif q.packing_plan_cost <= p.packing_plan_cost and q.tour_cost > p.tour_cost:\n",
    "                s.append(q)\n",
    "            elif q.packing_plan_cost > p.packing_plan_cost and q.tour_cost <= p.tour_cost:\n",
    "                np +=1\n",
    "            elif q.packing_plan_cost >= p.packing_plan_cost and q.tour_cost < p.tour_cost:\n",
    "                np +=1\n",
    "        if np == 0:\n",
    "            p.rank = 1\n",
    "            f.append(p)\n",
    "    \n",
    "        big_s.append(s)\n",
    "        big_np.append(np)\n",
    "    front_counter = 1\n",
    "    while len(f) != 0:\n",
    "        #individuals from the i+1 front\n",
    "        q = []\n",
    "        for y in f:\n",
    "            for x in big_s[population.index(y)]:\n",
    "                big_np[population.index(x)] -= 1\n",
    "                if big_np[population.index(x)] == 0:\n",
    "                    x.rank = front_counter+1\n",
    "                    q.append(x)\n",
    "        front_counter += 1\n",
    "        f = q\n",
    "    return None"
   ]
  },
  {
   "cell_type": "code",
   "execution_count": 111,
   "metadata": {},
   "outputs": [],
   "source": [
    "get_ranks(evaled_pop)"
   ]
  },
  {
   "cell_type": "code",
   "execution_count": null,
   "metadata": {},
   "outputs": [],
   "source": []
  },
  {
   "cell_type": "code",
   "execution_count": 112,
   "metadata": {},
   "outputs": [
    {
     "data": {
      "text/plain": [
       "<matplotlib.collections.PathCollection at 0x1a53c4a5b50>"
      ]
     },
     "execution_count": 112,
     "metadata": {},
     "output_type": "execute_result"
    },
    {
     "data": {
      "image/png": "[encoded data removed]",
      "text/plain": [
       "<Figure size 640x480 with 1 Axes>"
      ]
     },
     "metadata": {},
     "output_type": "display_data"
    }
   ],
   "source": [
    "plt.scatter([sol.tour_cost for sol in evaled_pop], [-1 * sol.packing_plan_cost for sol in evaled_pop])"
   ]
  },
  {
   "cell_type": "code",
   "execution_count": 113,
   "metadata": {},
   "outputs": [
    {
     "name": "stdout",
     "output_type": "stream",
     "text": [
      "       tour_cost  packing_plan_cost  rank\n",
      "0   3.047825e+06          -243340.0     1\n",
      "1   5.029504e+06          -441163.0     2\n",
      "2   4.806951e+06          -453093.0     1\n",
      "3   4.062648e+06          -386577.0     1\n",
      "4   2.901403e+06          -222971.0     1\n",
      "5   2.599779e+06           -48165.0     2\n",
      "6   2.726989e+06           -77668.0     3\n",
      "7   3.264844e+06          -267876.0     2\n",
      "8   3.262087e+06          -263189.0     1\n",
      "9   3.184241e+06          -260835.0     1\n",
      "10  3.006704e+06          -190241.0     2\n",
      "11  2.907206e+06          -179068.0     2\n",
      "12  3.743695e+06          -343204.0     2\n",
      "13  2.623220e+06           -71079.0     2\n",
      "14  3.861795e+06          -339641.0     3\n",
      "15  2.653748e+06           -61616.0     3\n",
      "16  3.279397e+06          -294799.0     1\n",
      "17  2.559975e+06           -80474.0     1\n",
      "18  2.638512e+06           -73905.0     2\n",
      "19  3.657906e+06          -343204.0     1\n",
      "20  3.304068e+06          -274876.0     2\n",
      "21  5.145903e+06          -449561.0     2\n",
      "22  5.856825e+06          -481523.0     1\n",
      "23  2.505969e+06           -22822.0     1\n",
      "24  2.782761e+06          -195368.0     1\n",
      "25  2.684119e+06          -110057.0     1\n",
      "26  2.749468e+06          -152969.0     1\n",
      "27  3.684876e+06          -380507.0     1\n",
      "28  2.827219e+06          -115518.0     2\n",
      "29  2.673672e+06           -85156.0     2\n",
      "30  5.442445e+06          -475987.0     1\n",
      "31  3.083798e+06          -252944.0     1\n",
      "32  2.670407e+06           -31639.0     4\n",
      "33  2.939454e+06          -160856.0     3\n",
      "34  2.670548e+06          -108232.0     1\n",
      "35  4.551017e+06          -415498.0     2\n",
      "36  2.701438e+06          -110057.0     2\n",
      "37  3.316513e+06          -319398.0     1\n",
      "38  2.861501e+06          -178205.0     2\n",
      "39  3.262717e+06          -267876.0     1\n",
      "40  3.484613e+06          -293285.0     2\n",
      "41  4.818861e+06          -437489.0     2\n",
      "42  3.668608e+06          -366892.0     1\n",
      "43  3.845401e+06          -338206.0     3\n",
      "44  3.031850e+06          -211405.0     2\n",
      "45  2.576596e+06           -47195.0     2\n",
      "46  4.211641e+06          -417427.0     1\n",
      "47  3.103814e+06          -240912.0     2\n",
      "48  2.613490e+06           -81411.0     1\n",
      "49  2.763152e+06          -163472.0     1\n"
     ]
    }
   ],
   "source": [
    "import pandas as pd\n",
    "df = pd.DataFrame()\n",
    "df['tour_cost'] = [sol.tour_cost for sol in evaled_pop]\n",
    "df['packing_plan_cost'] = [-1 * sol.packing_plan_cost for sol in evaled_pop]\n",
    "df[\"rank\"] = [sol.rank for sol in evaled_pop]\n",
    "print(df)"
   ]
  },
  {
   "cell_type": "code",
   "execution_count": 120,
   "metadata": {},
   "outputs": [
    {
     "data": {
      "text/plain": [
       "<Axes: xlabel='tour_cost', ylabel='packing_plan_cost'>"
      ]
     },
     "execution_count": 120,
     "metadata": {},
     "output_type": "execute_result"
    },
    {
     "data": {
      "image/png": "[encoded data removed]",
      "text/plain": [
       "<Figure size 1170x827 with 1 Axes>"
      ]
     },
     "metadata": {},
     "output_type": "display_data"
    }
   ],
   "source": [
    "import seaborn as sns\n",
    "sns.set(rc={'figure.figsize':(11.7,8.27)})\n",
    "sns.scatterplot(x='tour_cost', y='packing_plan_cost', data=df, hue='rank',palette = \"viridis\")"
   ]
  },
  {
   "cell_type": "code",
   "execution_count": 117,
   "metadata": {},
   "outputs": [
    {
     "data": {
      "text/plain": [
       "<matplotlib.collections.PathCollection at 0x1a53c7b7d50>"
      ]
     },
     "execution_count": 117,
     "metadata": {},
     "output_type": "execute_result"
    },
    {
     "data": {
      "image/png": "[encoded data removed]",
      "text/plain": [
       "<Figure size 1170x827 with 1 Axes>"
      ]
     },
     "metadata": {},
     "output_type": "display_data"
    }
   ],
   "source": [
    "plt.scatter([sol.tour_cost for sol in evaled_pop], [-1 * sol.packing_plan_cost for sol in evaled_pop])"
   ]
  },
  {
   "cell_type": "code",
   "execution_count": 156,
   "metadata": {},
   "outputs": [
    {
     "data": {
      "text/plain": [
       "1"
      ]
     },
     "execution_count": 156,
     "metadata": {},
     "output_type": "execute_result"
    }
   ],
   "source": [
    "init_pop.index(init_pop[1])"
   ]
  },
  {
   "cell_type": "code",
   "execution_count": 157,
   "metadata": {},
   "outputs": [],
   "source": [
    "ex_sol = ex_init_pop[1]"
   ]
  },
  {
   "cell_type": "code",
   "execution_count": 158,
   "metadata": {},
   "outputs": [
    {
     "data": {
      "text/plain": [
       "True"
      ]
     },
     "execution_count": 158,
     "metadata": {},
     "output_type": "execute_result"
    }
   ],
   "source": [
    "ex_init_pop[1] == ex_init_pop[1]"
   ]
  },
  {
   "cell_type": "code",
   "execution_count": 159,
   "metadata": {},
   "outputs": [
    {
     "data": {
      "text/plain": [
       "0"
      ]
     },
     "execution_count": 159,
     "metadata": {},
     "output_type": "execute_result"
    }
   ],
   "source": [
    "code = \"yes\"\n",
    "number = \"no\"\n",
    "yes = \"yes\"\n",
    "l = [code, number, yes]\n",
    "l.index(\"yes\")"
   ]
  },
  {
   "cell_type": "code",
   "execution_count": 160,
   "metadata": {},
   "outputs": [
    {
     "data": {
      "text/plain": [
       "1"
      ]
     },
     "execution_count": 160,
     "metadata": {},
     "output_type": "execute_result"
    }
   ],
   "source": [
    "ex_init_pop.index(ex_init_pop[1])"
   ]
  },
  {
   "cell_type": "code",
   "execution_count": null,
   "metadata": {},
   "outputs": [],
   "source": []
  },
  {
   "cell_type": "code",
   "execution_count": null,
   "metadata": {},
   "outputs": [],
   "source": [
    "def find_min_indices_in_row(matrix, row_index):\n",
    "    row = matrix[row_index, :]\n",
    "    min_value = np.min(row)\n",
    "    min_indices = np.where(row == min_value)\n",
    "\n",
    "    if len(min_indices[0]) == 1:\n",
    "        # If there's a single minimum value, return only its index in the specified row\n",
    "        return [min_indices[0][0]]\n",
    "    else:\n",
    "        # If there are duplicates, return all occurrences within the specified row\n",
    "        return [col_index for col_index in min_indices[0]]\n"
   ]
  },
  {
   "cell_type": "code",
   "execution_count": null,
   "metadata": {},
   "outputs": [],
   "source": [
    "def nearest_neighbour(distance_matrix):\n",
    "    dist_matrix = distance_matrix.copy()\n",
    "    num_cities = dist_matrix.shape[0]\n",
    "    start_city = random.sample(list(range(num_cities)), k = 1)\n",
    "    dist_matrix[:, start_city[0]] = np.inf\n",
    "\n",
    "    for _ in range(1, num_cities):\n",
    "        current_city = start_city[-1]\n",
    "        next_city = random.sample(find_min_indices_in_row(dist_matrix, current_city), k = 1)[0]\n",
    "        start_city.append(next_city)\n",
    "        dist_matrix[:, next_city] = np.inf\n",
    "    \n",
    "    return start_city\n",
    "\n",
    "        "
   ]
  },
  {
   "cell_type": "code",
   "execution_count": null,
   "metadata": {},
   "outputs": [],
   "source": [
    "def tour_length(tour, distance_matrix: list[list]) -> float:\n",
    "    \n",
    "    # cost of going from last city in the chromosme back to the starting chromosome\n",
    "    return_to_start_length = distance_matrix[len(distance_matrix)-1][tour[0]]\n",
    "    # calculate the cost for the rest of the tour\n",
    "    travel_length = 0\n",
    "    for i in range(0, len(distance_matrix)-1, 1):\n",
    "        travel_length += distance_matrix[tour[i]][tour[i+1]]\n",
    "\n",
    "    return travel_length + return_to_start_length\n"
   ]
  },
  {
   "cell_type": "code",
   "execution_count": null,
   "metadata": {},
   "outputs": [],
   "source": [
    "def nearest_neighbour_2opt(distance_matrix):\n",
    "    tour = nearest_neighbour(distance_matrix=distance_matrix)\n",
    "    number_of_cities = distance_matrix.shape[0]\n",
    "    max_2opt_moves = (number_of_cities) * (number_of_cities - 1) / 2\n",
    "    made_moves = []\n",
    "    length = tour_length(tour, distance_matrix)\n",
    "    better = False\n",
    "    i = 0 \n",
    "\n",
    "    while not better and i < max_2opt_moves:\n",
    "        i += 1\n",
    "        idx = range(len(tour))\n",
    "        made_move = False\n",
    "        i1, i2 = (None, None)\n",
    "        while not made_move:\n",
    "            i1_test, i2_test = random.sample(idx, 2)\n",
    "            if (i1_test, i2_test) in made_moves or (i2_test, i1_test) in made_moves:\n",
    "                continue\n",
    "            else:\n",
    "                i1, i2 = i1_test, i2_test\n",
    "                made_move = True\n",
    "        made_moves.append((i1, i2))\n",
    "        made_moves.append((i2, i1))\n",
    "        new_tour = tour.copy()\n",
    "        new_tour[i1], new_tour[i2] = new_tour[i2], new_tour[i1]\n",
    "        if tour_length(new_tour, distance_matrix) < length:\n",
    "            better = True\n",
    "            tour = new_tour\n",
    "    return tour\n",
    "\n",
    "\n",
    "   "
   ]
  },
  {
   "cell_type": "code",
   "execution_count": null,
   "metadata": {},
   "outputs": [],
   "source": [
    "def pack_optimal(init_pop, item_to_city_mapping_dict, Q, value_to_weight_ratio_dict, item_weights):\n",
    "\n",
    "    number_of_items = len(item_weights)\n",
    "    \n",
    "    sorted_value_to_weight_ratio_dict = dict(sorted(value_to_weight_ratio_dict.items(), key=lambda x:x[1], reverse = True))\n",
    "\n",
    "    for candidate_solution in init_pop:\n",
    "        Q_prime = np.random.randint(low = 0, high = Q, size = 1)\n",
    "        packing_plan = np.zeros(number_of_items)\n",
    "        weight  = 0\n",
    "        for i in range(number_of_items):\n",
    "            if weight + item_weights[list(sorted_value_to_weight_ratio_dict.keys())[i]] < Q_prime:\n",
    "\n",
    "                packing_plan[list(sorted_value_to_weight_ratio_dict.keys())[i]] = 1\n",
    "                weight += item_weights[list(sorted_value_to_weight_ratio_dict.keys())[i]]\n",
    "        candidate_solution.packing_plan = list(packing_plan)\n",
    "    return init_pop"
   ]
  }
 ],
 "metadata": {
  "kernelspec": {
   "display_name": "working130323",
   "language": "python",
   "name": "working130323"
  },
  "language_info": {
   "codemirror_mode": {
    "name": "ipython",
    "version": 3
   },
   "file_extension": ".py",
   "mimetype": "text/x-python",
   "name": "python",
   "nbconvert_exporter": "python",
   "pygments_lexer": "ipython3",
   "version": "3.11.0"
  }
 },
 "nbformat": 4,
 "nbformat_minor": 2
}
