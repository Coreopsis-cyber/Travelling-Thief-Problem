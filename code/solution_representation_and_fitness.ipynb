{
 "cells": [
  {
   "cell_type": "code",
   "execution_count": 1,
   "metadata": {},
   "outputs": [],
   "source": [
    "# Imports\n",
    "from ypstruct import structure\n",
    "import numpy as np\n",
    "import random\n",
    "import math\n",
    "import matplotlib.pyplot as plt\n",
    "from scipy.spatial import distance_matrix\n",
    "from scipy.spatial.distance import pdist, squareform\n",
    "import re\n",
    "import seaborn as sns"
   ]
  },
  {
   "cell_type": "code",
   "execution_count": 2,
   "metadata": {},
   "outputs": [],
   "source": [
    "def read_TTP_instance_data(file_path):\n",
    "    nb_items = int(file_path.split(\"-\")[1].strip(\"n\").split(\".txt\")[0])\n",
    "    nb_cities = int(re.sub(\"\\D\", \"\", file_path.split(\"-\")[0].split(\"/\")[2]))\n",
    "    # Read node coordinates from the file\n",
    "    with open(file_path, 'r') as file:\n",
    "        lines = file.readlines()\n",
    "\n",
    "    # Initialize variables\n",
    "    node_coordinates = []\n",
    "    item_values = []\n",
    "    item_weights= []\n",
    "    in_node_section = False\n",
    "    in_item_section = False\n",
    "    item_to_city_mapping_dict = {}\n",
    "    v_min = None\n",
    "    v_max = None\n",
    "    max_capacity = None\n",
    "    renting_ratio = None\n",
    "\n",
    "    for i in range(nb_cities):\n",
    "        item_to_city_mapping_dict[i] = []\n",
    "\n",
    "    # Extract node coordinates and item data\n",
    "    for line in lines:\n",
    "        if line.startswith(\"CAPACITY OF KNAPSACK\"):\n",
    "            max_capacity = int(line.strip().split()[3])\n",
    "            continue\n",
    "        elif line.startswith(\"MIN SPEED\"):\n",
    "            v_min = float(line.strip().split()[2])\n",
    "        elif line.startswith(\"MAX SPEED\"):\n",
    "            v_max = float(line.strip().split()[2])\n",
    "        elif line.startswith(\"RENTING RATIO\"):\n",
    "            renting_ratio = float(line.strip().split()[2])\n",
    "        elif line.startswith('NODE_COORD_SECTION'):\n",
    "            in_node_section = True\n",
    "            in_item_section = False\n",
    "            continue\n",
    "        elif line.startswith('ITEMS SECTION'):\n",
    "            in_node_section = False\n",
    "            in_item_section = True\n",
    "            continue\n",
    "        elif line.startswith('EOF'):\n",
    "            break\n",
    "        \n",
    "        if in_node_section:\n",
    "            _, x, y = map(int, line.strip().split())\n",
    "            node_coordinates.append((x, y))\n",
    "        elif in_item_section:\n",
    "            item_id, profit, weight, node_number = map(int, line.strip().split())\n",
    "            item_to_city_mapping_dict[node_number - 1].append(item_id-1) # re-index to 0\n",
    "            item_values.append(profit)\n",
    "            item_weights.append(weight)\n",
    "    \n",
    "    value_to_weight_ratio = np.array(item_values) / np.array(item_weights)\n",
    "    value_to_weight_ratio_dict = dict(zip(list(range(len(value_to_weight_ratio))), value_to_weight_ratio))\n",
    "    # for i in range(len(value_to_weight_ratio)):\n",
    "    #     value_to_weight_ratio_dict[i] = value_to_weight_ratio[i]\n",
    "    \n",
    "    return {\"nb_cities\": nb_cities,\n",
    "            \"nb_items\": nb_items,\n",
    "            \"Q\": max_capacity, \n",
    "            \"v_min\": v_min, \n",
    "            \"v_max\": v_max, \n",
    "            \"R\": renting_ratio, \n",
    "            \"pairwise_distances\": pdist(node_coordinates), \n",
    "            \"item_to_city_mapping_dict\":item_to_city_mapping_dict,\n",
    "            \"item_weights\": np.array(item_weights),\n",
    "            \"item_values\": np.array(item_values),\n",
    "            \"value_to_weight_ratio_dict\": value_to_weight_ratio_dict\n",
    "            }"
   ]
  },
  {
   "cell_type": "markdown",
   "metadata": {},
   "source": [
    "#### Replicating the example evaluation of a candidate solution found in as found https://link.springer.com/chapter/10.1007/978-3-319-54157-0_4"
   ]
  },
  {
   "cell_type": "markdown",
   "metadata": {},
   "source": [
    "Setting up the problem example"
   ]
  },
  {
   "cell_type": "code",
   "execution_count": 3,
   "metadata": {},
   "outputs": [],
   "source": [
    "item_values = np.array([30, 34, 40, 25])\n",
    "item_weights = np.array([25, 30, 40, 21])\n",
    "\n",
    "item_to_city_mapping_dict = {0:[0], 1:[1], 2:[2], 3:[3]}\n",
    "distance_matrix = np.array(\n",
    "    [\n",
    "    [0, 4, 9, 3],\n",
    "    [4, 0, 5, 5],\n",
    "    [9, 5, 0, 8],\n",
    "    [3, 5, 8, 0]\n",
    "    ]\n",
    ").astype(float)\n",
    "\n",
    "vmax = 1.0\n",
    "vmin = 0.1\n",
    "Q = 80"
   ]
  },
  {
   "cell_type": "code",
   "execution_count": 4,
   "metadata": {},
   "outputs": [],
   "source": [
    "ex_node_coords = [(5, 5), (9, 5), (13, 2), (5, 2)]"
   ]
  },
  {
   "cell_type": "code",
   "execution_count": 5,
   "metadata": {},
   "outputs": [
    {
     "data": {
      "text/plain": [
       "array([[0.        , 4.        , 8.54400375, 3.        ],\n",
       "       [4.        , 0.        , 5.        , 5.        ],\n",
       "       [8.54400375, 5.        , 0.        , 8.        ],\n",
       "       [3.        , 5.        , 8.        , 0.        ]])"
      ]
     },
     "execution_count": 5,
     "metadata": {},
     "output_type": "execute_result"
    }
   ],
   "source": [
    "dist_mat = squareform(pdist(ex_node_coords))\n",
    "dist_mat"
   ]
  },
  {
   "cell_type": "markdown",
   "metadata": {},
   "source": [
    "Cost function for the knapsack, as given by:\n",
    "$$\n",
    "  \\sum^m_{j = 1} z_j * b_j\n",
    "$$\n",
    "where $z_j$ is the a binary vector where each index corresponds to an item and is 0 if the item is not picked and 1 if it is and $b_j$ is the values vector."
   ]
  },
  {
   "cell_type": "code",
   "execution_count": 6,
   "metadata": {},
   "outputs": [],
   "source": [
    "def knapsack_cost(candidate_solution, item_values):\n",
    "    return np.sum(np.array(candidate_solution.packing_plan) * item_values)"
   ]
  },
  {
   "cell_type": "markdown",
   "metadata": {},
   "source": [
    "Cost function for the tour, taking into account velocity, as given by:\n",
    "$$\n",
    "    f(\\pi, z) = \\frac{d_{\\pi_1, \\pi_{n}} * R}{v(w(\\pi_{n}))} + \\sum^{n-1}_{i = 1} \\frac{d_{\\pi_i, \\pi_{i+1}} * R}{v(w(\\pi_{i}))}\n",
    "$$ \n",
    "where \n",
    "$$\n",
    "    w(\\pi_i) = \\sum^{i}_{k=1}\\sum^{m}_{j=1} z_j * b_j * a_{j, \\pi_i}\n",
    "$$ \n",
    "\n",
    "and \n",
    "$$\n",
    "    v(q) = v_{max} - \\frac{q}{Q} * (v_{max} - v_{min})\n",
    "$$ \n",
    "\n",
    "where $d_{\\pi_i, \\pi_{i+1}}$ is the distance between city $i$ and $i+1$, obtained from the distance matrix $d$ and $a$ is the item mapping matrix and R is the renting ratio"
   ]
  },
  {
   "cell_type": "code",
   "execution_count": 7,
   "metadata": {},
   "outputs": [],
   "source": [
    "def tour_cost(candidate_solution, distance_matrix, item_to_city_mapping_dict, item_weights, vmax, vmin, Q, renting_ratio):\n",
    "    tour = candidate_solution.tour\n",
    "    \n",
    "    # calculate the weight picked up at each city\n",
    "    weight_at_city_i = []\n",
    "    for city in tour:\n",
    "        # Create a row filled with zeros for the selected item\n",
    "        items_in_city = item_to_city_mapping_dict[city]\n",
    "        # Fill in the row based on the item to city mapping for the selected item\n",
    "\n",
    "        weight_at_city_i.append(sum(np.array(candidate_solution.packing_plan)[items_in_city] * item_weights[items_in_city]))\n",
    "    # calculate the total weight that the thief has when leaving each city using the cumulative sum \n",
    "    weight_at_city_i = np.array(np.cumsum(weight_at_city_i))\n",
    "    # calculate the velocity of the thief when leaving each city\n",
    "    velocity_at_city_i = vmax - weight_at_city_i / Q * (vmax - vmin)\n",
    "    # retrieve the distance between the cities \n",
    "    distance_between_cities = []\n",
    "\n",
    "\n",
    "    for i in range(0, len(tour)-1):\n",
    "\n",
    "        distance_between_cities.append(distance_matrix[tour[i]][tour[i+1]])\n",
    "    distance_between_cities.append(distance_matrix[tour[0]][tour[-1]])\n",
    "    distance_between_cities = np.array(distance_between_cities)\n",
    "    \n",
    "    # return the total completion time\n",
    "    return np.sum(distance_between_cities / velocity_at_city_i) * renting_ratio"
   ]
  },
  {
   "cell_type": "code",
   "execution_count": 8,
   "metadata": {},
   "outputs": [],
   "source": [
    "def evaluate_candidate_solution_cost(candidate_solution, distance_matrix, item_to_city_mapping_dict, item_weights, item_values, vmax, vmin, Q, renting_ratio):\n",
    "    candidate_solution.tour_cost = tour_cost(candidate_solution, distance_matrix, item_to_city_mapping_dict, item_weights, vmax, vmin, Q, renting_ratio)\n",
    "    candidate_solution.packing_plan_cost = knapsack_cost(candidate_solution, item_values)\n",
    "    return candidate_solution"
   ]
  },
  {
   "cell_type": "code",
   "execution_count": 9,
   "metadata": {},
   "outputs": [],
   "source": [
    "def get_pdist_distance(pairwise_distances, i, j, nb_cities):\n",
    "     if i < j:\n",
    "        return pairwise_distances[nb_cities * i + j - ((i + 2) * (i + 1)) // 2]\n",
    "     elif i > j:\n",
    "        return pairwise_distances[nb_cities * j + i - ((j + 2) * (j + 1)) // 2]\n"
   ]
  },
  {
   "cell_type": "code",
   "execution_count": 10,
   "metadata": {},
   "outputs": [],
   "source": [
    "def tour_cost_pdist(candidate_solution, pairwise_distances, item_to_city_mapping_dict, item_weights, vmax, vmin, Q, renting_ratio):\n",
    "    tour = candidate_solution.tour\n",
    "    nb_cities = len(tour)\n",
    "    # calculate the weight picked up at each city\n",
    "    # weight_at_city_i = [\n",
    "    #     sum(np.array(candidate_solution.packing_plan)[item_to_city_mapping_dict[city]] * item_weights[item_to_city_mapping_dict[city]]) for city in tour\n",
    "    # ]\n",
    "\n",
    "    weight = 0\n",
    "    distance = 0\n",
    "    for i in range(len(tour) - 1):\n",
    "        weight +=  sum(np.array(candidate_solution.packing_plan)[item_to_city_mapping_dict[tour[i]]] * item_weights[item_to_city_mapping_dict[tour[i]]])\n",
    "        velocity = vmax - weight / Q * (vmax - vmin)\n",
    "        distance += get_pdist_distance(pairwise_distances, tour[i], tour[i+1], nb_cities) / velocity\n",
    "    weight += sum(np.array(candidate_solution.packing_plan)[item_to_city_mapping_dict[tour[-1]]] * item_weights[item_to_city_mapping_dict[tour[-1]]])\n",
    "    velocity = vmax - weight / Q * (vmax - vmin)\n",
    "    distance += get_pdist_distance(pairwise_distances, tour[0], tour[-1], nb_cities) / velocity\n",
    "    # print(velocity)\n",
    "    # print(distance)\n",
    "\n",
    "    # # calculate the total weight that the thief has when leaving each city using the cumulative sum \n",
    "    # weight_at_city_i = np.cumsum(weight_at_city_i)\n",
    "    # # calculate the velocity of the thief when leaving each city\n",
    "    # velocity_at_city_i = vmax - weight_at_city_i / Q * (vmax - vmin)\n",
    "    # # retrieve the distance between the cities \n",
    "    # distance_between_cities = []\n",
    "\n",
    "    # print(velocity_at_city_i)\n",
    "\n",
    "    # distance_between_cities = [get_pdist_distance(pairwise_distances, tour[i], tour[i+1], nb_cities) for i in range(0, len(tour) - 1)]\n",
    "    # distance_between_cities.append(get_pdist_distance(pairwise_distances, tour[0], tour[-1], nb_cities))\n",
    "    # distance_between_cities = np.array(distance_between_cities)\n",
    "    \n",
    "    # print(np.cumsum(distance_between_cities / velocity_at_city_i))\n",
    "\n",
    "    # # return the total completion time\n",
    "    return distance * renting_ratio"
   ]
  },
  {
   "cell_type": "code",
   "execution_count": 11,
   "metadata": {},
   "outputs": [],
   "source": [
    "def evaluate_candidate_solution_cost_pdist(candidate_solution, pairwise_distances, item_to_city_mapping_dict, item_weights, item_values, vmax, vmin, Q, renting_ratio):\n",
    "    candidate_solution.tour_cost = tour_cost_pdist(candidate_solution, pairwise_distances, item_to_city_mapping_dict, item_weights, vmax, vmin, Q, renting_ratio)\n",
    "    candidate_solution.packing_plan_cost = knapsack_cost(candidate_solution, item_values)\n",
    "    return candidate_solution"
   ]
  },
  {
   "cell_type": "markdown",
   "metadata": {},
   "source": [
    "Setting up the example candidate solutions and evaluating them using the previously defined function"
   ]
  },
  {
   "cell_type": "code",
   "execution_count": 12,
   "metadata": {},
   "outputs": [],
   "source": [
    "ex_tours = [[1, 2, 3, 4], [1, 4, 3, 2], [1, 2, 3, 4], [1, 4, 3, 2], [1, 4, 3, 2], [1, 3, 2, 4],  [1, 4, 3, 2], [1, 2, 3, 4], [1, 4, 3, 2], [1, 3, 2, 4]]\n",
    "ex_packing_plans = [[0, 0, 0, 0], [0, 0, 0, 0], [0, 0, 0, 1], [0, 1, 0, 0], [0, 0, 1, 0], [0, 1, 0, 1], [1, 1, 0, 0], [0, 0, 1, 1], [0, 1, 1, 0], [1, 1, 0, 1]]"
   ]
  },
  {
   "cell_type": "code",
   "execution_count": 13,
   "metadata": {},
   "outputs": [
    {
     "data": {
      "text/plain": [
       "[struct({'tour': [0, 1, 2, 3], 'packing_plan': [0, 0, 0, 0], 'tour_cost': 20.0, 'packing_plan_cost': 0}),\n",
       " struct({'tour': [0, 3, 2, 1], 'packing_plan': [0, 0, 0, 0], 'tour_cost': 20.0, 'packing_plan_cost': 0}),\n",
       " struct({'tour': [0, 1, 2, 3], 'packing_plan': [0, 0, 0, 1], 'tour_cost': 20.927986906710313, 'packing_plan_cost': 25}),\n",
       " struct({'tour': [0, 3, 2, 1], 'packing_plan': [0, 1, 0, 0], 'tour_cost': 22.037735849056602, 'packing_plan_cost': 34}),\n",
       " struct({'tour': [0, 3, 2, 1], 'packing_plan': [0, 0, 1, 0], 'tour_cost': 27.363636363636363, 'packing_plan_cost': 40}),\n",
       " struct({'tour': [0, 2, 1, 3], 'packing_plan': [0, 1, 0, 1], 'tour_cost': 28.12929672379371, 'packing_plan_cost': 59}),\n",
       " struct({'tour': [0, 3, 2, 1], 'packing_plan': [1, 1, 0, 0], 'tour_cost': 32.75267284390591, 'packing_plan_cost': 64}),\n",
       " struct({'tour': [0, 1, 2, 3], 'packing_plan': [0, 0, 1, 1], 'tour_cost': 33.107207533502354, 'packing_plan_cost': 65}),\n",
       " struct({'tour': [0, 3, 2, 1], 'packing_plan': [0, 1, 1, 0], 'tour_cost': 38.91443850267379, 'packing_plan_cost': 74}),\n",
       " struct({'tour': [0, 2, 1, 3], 'packing_plan': [1, 1, 0, 1], 'tour_cost': 52.648240568607534, 'packing_plan_cost': 89})]"
      ]
     },
     "execution_count": 13,
     "metadata": {},
     "output_type": "execute_result"
    }
   ],
   "source": [
    "ex_init_pop = []\n",
    "for i in range(len(ex_tours)):\n",
    "    candidate_solution = structure()\n",
    "    candidate_solution.tour = list(np.array(ex_tours[i])-1)\n",
    "    candidate_solution.packing_plan = ex_packing_plans[i]\n",
    "    evaluate_candidate_solution_cost_pdist(candidate_solution, pdist(ex_node_coords), item_to_city_mapping_dict, item_weights, item_values, vmax, vmin, Q, 1)\n",
    "    ex_init_pop.append(candidate_solution)\n",
    "ex_init_pop"
   ]
  },
  {
   "cell_type": "code",
   "execution_count": 14,
   "metadata": {},
   "outputs": [
    {
     "data": {
      "text/plain": [
       "[struct({'tour': [0, 1, 2, 3], 'packing_plan': [0, 0, 0, 0], 'tour_cost': 20.0, 'packing_plan_cost': 0}),\n",
       " struct({'tour': [0, 3, 2, 1], 'packing_plan': [0, 0, 0, 0], 'tour_cost': 20.0, 'packing_plan_cost': 0}),\n",
       " struct({'tour': [0, 1, 2, 3], 'packing_plan': [0, 0, 0, 1], 'tour_cost': 20.927986906710313, 'packing_plan_cost': 25}),\n",
       " struct({'tour': [0, 3, 2, 1], 'packing_plan': [0, 1, 0, 0], 'tour_cost': 22.037735849056602, 'packing_plan_cost': 34}),\n",
       " struct({'tour': [0, 3, 2, 1], 'packing_plan': [0, 0, 1, 0], 'tour_cost': 27.363636363636363, 'packing_plan_cost': 40}),\n",
       " struct({'tour': [0, 2, 1, 3], 'packing_plan': [0, 1, 0, 1], 'tour_cost': 28.585292978476183, 'packing_plan_cost': 59}),\n",
       " struct({'tour': [0, 3, 2, 1], 'packing_plan': [1, 1, 0, 0], 'tour_cost': 32.75267284390591, 'packing_plan_cost': 64}),\n",
       " struct({'tour': [0, 1, 2, 3], 'packing_plan': [0, 0, 1, 1], 'tour_cost': 33.107207533502354, 'packing_plan_cost': 65}),\n",
       " struct({'tour': [0, 3, 2, 1], 'packing_plan': [0, 1, 1, 0], 'tour_cost': 38.91443850267379, 'packing_plan_cost': 74}),\n",
       " struct({'tour': [0, 2, 1, 3], 'packing_plan': [1, 1, 0, 1], 'tour_cost': 53.28267014033966, 'packing_plan_cost': 89})]"
      ]
     },
     "execution_count": 14,
     "metadata": {},
     "output_type": "execute_result"
    }
   ],
   "source": [
    "ex_init_pop = []\n",
    "for i in range(len(ex_tours)):\n",
    "    candidate_solution = structure()\n",
    "    candidate_solution.tour = list(np.array(ex_tours[i])-1)\n",
    "    candidate_solution.packing_plan = ex_packing_plans[i]\n",
    "    evaluate_candidate_solution_cost(candidate_solution, distance_matrix, item_to_city_mapping_dict, item_weights, item_values, vmax, vmin, Q, 1)\n",
    "    ex_init_pop.append(candidate_solution)\n",
    "ex_init_pop"
   ]
  },
  {
   "cell_type": "code",
   "execution_count": 15,
   "metadata": {},
   "outputs": [],
   "source": [
    "def random_tour(nb_cities):\n",
    "    return random.sample(list(range(nb_cities)), k = nb_cities)"
   ]
  },
  {
   "cell_type": "code",
   "execution_count": 16,
   "metadata": {},
   "outputs": [],
   "source": [
    "def pack_one(init_pop, nb_items):\n",
    "    for candidate_solution in init_pop:\n",
    "        packing_plan = np.zeros(nb_items)\n",
    "        chosen_item = random.sample(list(range(nb_items)), k = 1)\n",
    "        packing_plan[chosen_item] = 1\n",
    "        candidate_solution.packing_plan = list(packing_plan)\n",
    "    return init_pop"
   ]
  },
  {
   "cell_type": "code",
   "execution_count": 17,
   "metadata": {},
   "outputs": [],
   "source": [
    "def repair_packing_plan(candidate_solution, Q, item_weights):\n",
    "    \n",
    "    packing_plan = np.array(candidate_solution.packing_plan)\n",
    "    selected_items = list(np.nonzero(packing_plan))\n",
    "    selected_items_weights = item_weights[selected_items]\n",
    "    while np.sum(selected_items_weights) > Q:\n",
    "        candidate_solution.packing_plan[random.sample(list(selected_items[0]), k = 1)[0]] = 0\n",
    "        packing_plan = np.array(candidate_solution.packing_plan)\n",
    "        selected_items = list(np.nonzero(packing_plan))\n",
    "        selected_items_weights = item_weights[selected_items]"
   ]
  },
  {
   "cell_type": "code",
   "execution_count": 18,
   "metadata": {},
   "outputs": [],
   "source": [
    "def pack_random(init_pop, Q, item_weights):\n",
    "    nb_items = len(item_weights)\n",
    "    for candidate_solution in init_pop:\n",
    "        packing_plan = [random.choice(list(range(2))) for _ in range(nb_items)]\n",
    "        candidate_solution.packing_plan = packing_plan\n",
    "        repair_packing_plan(candidate_solution, Q, item_weights)\n",
    "    return init_pop"
   ]
  },
  {
   "cell_type": "code",
   "execution_count": 19,
   "metadata": {},
   "outputs": [],
   "source": [
    "def pack_optimal(init_pop, Q, value_to_weight_ratio_dict, item_weights):\n",
    "\n",
    "    number_of_items = len(item_weights)\n",
    "    \n",
    "    sorted_value_to_weight_ratio_dict = dict(sorted(value_to_weight_ratio_dict.items(), key=lambda x:x[1], reverse = True))\n",
    "    keys_list = list(sorted_value_to_weight_ratio_dict.keys())\n",
    "\n",
    "    for candidate_solution in init_pop:\n",
    "        Q_prime = np.random.randint(low = 0, high = Q, size = 1)\n",
    "        packing_plan = np.zeros(number_of_items)\n",
    "        weight  = 0\n",
    "        for i in range(number_of_items):\n",
    "            if weight + item_weights[keys_list[i]] < Q_prime:\n",
    "\n",
    "                packing_plan[keys_list[i]] = 1\n",
    "                weight += item_weights[keys_list[i]]\n",
    "            else:\n",
    "                break\n",
    "        candidate_solution.packing_plan = list(packing_plan)\n",
    "    return init_pop"
   ]
  },
  {
   "cell_type": "code",
   "execution_count": 20,
   "metadata": {},
   "outputs": [],
   "source": [
    "def generate_initial_population(pop_size, nb_cities, pack_init_method, tour_init_method = \"random\", Q = None, value_to_weight_ratio_dict = None, item_weights = None): # Jack\n",
    "\n",
    "    init_pop = []\n",
    "    if tour_init_method == \"random\":\n",
    "        for _ in range(pop_size):\n",
    "            candidate_solution = structure()\n",
    "            candidate_solution.tour = random_tour(nb_cities)\n",
    "            init_pop.append(candidate_solution)\n",
    "\n",
    "    if pack_init_method == \"pack_random\":\n",
    "        pack_random(init_pop, Q, item_weights)\n",
    "    elif pack_init_method == \"pack_one\":\n",
    "        pack_one(init_pop, len(item_weights))\n",
    "    elif pack_init_method == \"pack_optimal\":    \n",
    "        pack_optimal(init_pop, Q, value_to_weight_ratio_dict, item_weights)\n",
    "    return init_pop"
   ]
  },
  {
   "cell_type": "code",
   "execution_count": 21,
   "metadata": {},
   "outputs": [],
   "source": [
    "def packing_plan_crossover(parent1: structure, parent2: structure, crossover_type: str) -> tuple: # Jack\n",
    "\n",
    "    \"\"\"\n",
    "    Implement single point or two point crossover on the packing plans of the parents selected by tournament selection in order to \n",
    "    produce the children.\n",
    "\n",
    "    Parameters:\n",
    "    - parent1 (ypstruct.structure): A candidate solution represented as a structure\n",
    "      from the ypstruct library with the following attributes:\n",
    "        - tour (list): An array representing the sequence of cities visited.\n",
    "        - packing_plan (list): A binary array indicating items picked (1) or not (0).\n",
    "        - packing_plan_cost (float): The total value of the knapsack\n",
    "        - tour_cost (float): The total length of the tour\n",
    "        - rank (integer): The NSGA-II rank of the candidate solution\n",
    "        - crowding_distance (float): the NSGA-II crowding distance of the candidate solution\n",
    "    - parent2 (ypstruct.structure): same as parent1\n",
    "    - crossover_type (str): defines the crossover type to be used. Can be either \"single_point\" or \"two_point\".\n",
    "\n",
    "    Return:\n",
    "    ypstruct.Struct: the first child candidate solution produced by the crossover operation. Same structure as parents but with the crossed\n",
    "    over packing plans.\n",
    "    ypstruct.Struct: the second child candidate solution produced by the crossover operation. Same structure as parents but with the crossed\n",
    "    over placking plans.\n",
    "    \"\"\"\n",
    "    \n",
    "    child1 = parent1.copy()\n",
    "    child2 = parent2.copy()\n",
    "\n",
    "    child1_packing_plan = np.array(child1.packing_plan)\n",
    "    child2_packing_plan = np.array(child2.packing_plan)\n",
    "\n",
    "    # perform single point crossover \n",
    "    if crossover_type == \"single_point\":\n",
    "        # randomly select the crossover point\n",
    "        crossover_point = random.sample(range(len(parent1.packing_plan)), k = 1)[0]\n",
    "        child1.packing_plan[0:crossover_point] = child2_packing_plan[0:crossover_point]\n",
    "        child2.packing_plan[0:crossover_point] = child1_packing_plan[0:crossover_point]\n",
    "\n",
    "    # perform two point crossover\n",
    "    elif crossover_type == \"two_point\":\n",
    "        # randomly select the two crossover points\n",
    "        crossover_points = random.sample(range(len(parent1.packing_plan)), k = 2)\n",
    "        crossover_points = sorted(crossover_points)\n",
    "        first_cross_point = crossover_points[0]\n",
    "        second_cross_point = crossover_points[1]     \n",
    "        child1.packing_plan[first_cross_point:second_cross_point] = child2_packing_plan[first_cross_point:second_cross_point]\n",
    "        child2.packing_plan[first_cross_point:second_cross_point] = child1_packing_plan[first_cross_point:second_cross_point]\n",
    "\n",
    "    return child1, child2\n",
    "\n",
    "\n"
   ]
  },
  {
   "cell_type": "code",
   "execution_count": 22,
   "metadata": {},
   "outputs": [
    {
     "name": "stdout",
     "output_type": "stream",
     "text": [
      "struct({'packing_plan': array([4, 6, 8, 9, 3, 1, 7, 2, 0, 5])})\n",
      "struct({'packing_plan': array([0, 8, 2, 6, 1, 3, 9, 4, 7, 5])})\n",
      "2\n"
     ]
    },
    {
     "data": {
      "text/plain": [
       "(struct({'packing_plan': array([0, 8, 8, 9, 3, 1, 7, 2, 0, 5])}),\n",
       " struct({'packing_plan': array([4, 6, 2, 6, 1, 3, 9, 4, 7, 5])}))"
      ]
     },
     "execution_count": 22,
     "metadata": {},
     "output_type": "execute_result"
    }
   ],
   "source": [
    "c1 = structure()\n",
    "c2 = structure()\n",
    "\n",
    "c1.packing_plan = np.array(random.sample(list(range(10)), k = 10))\n",
    "c2.packing_plan = np.array(random.sample(list(range(10)), k = 10))\n",
    "\n",
    "print(c1)\n",
    "print(c2)\n",
    "packing_plan_crossover(c1, c2, \"single_point\")"
   ]
  },
  {
   "cell_type": "code",
   "execution_count": 23,
   "metadata": {},
   "outputs": [],
   "source": [
    "def OX1_tour_crossover(parent1, parent2): # Kanchan\n",
    "\n",
    "    \"\"\"\n",
    "    Implement single-point ordered crossover (OX1 Crossover) on the tours of the parents selected by tournament selection in order to \n",
    "    produce the children.\n",
    "\n",
    "    Parameters:\n",
    "    - parent1 (ypstruct.structure): A candidate solution represented as a structure\n",
    "      from the ypstruct library with the following attributes:\n",
    "        - tour (list): An array representing the sequence of cities visited.\n",
    "        - packing_plan (list): A binary array indicating items picked (1) or not (0).\n",
    "        - packing_plan_cost (float): The total value of the knapsack\n",
    "        - tour_cost (float): The total length of the tour\n",
    "        - rank (integer): The NSGA-II rank of the candidate solution\n",
    "        - crowding_distance (float): the NSGA-II crowding distance of the candidate solution\n",
    "    - parent2 (ypstruct.structure): same as parent1\n",
    "\n",
    "    Perform single-point ordered crossover on the tours contained in the parent structures.\n",
    "\n",
    "    Return:\n",
    "    ypstruct.structure: the first child candidate solution produced by the crossover operation. Same structure as parents but with the crossed\n",
    "    over tours.\n",
    "    ypstruct.structure: the second child candidate solution produced by the crossover operation. Same structure as parents but with the crossed\n",
    "    over tours.\n",
    "\n",
    "\n",
    "    \"\"\"\n",
    "    child1 = parent1.copy()\n",
    "    child2 = parent2.copy()\n",
    "    \n",
    "    crossover_point = np.random.randint(1, len(parent1.tour))\n",
    "    \n",
    "    child1.tour = parent1.tour[:crossover_point] + [x for x in parent2.tour if x not in parent1.tour[:crossover_point]]\n",
    "    child2.tour = parent2.tour[:crossover_point] + [x for x in parent1.tour if x not in parent2.tour[:crossover_point]]\n",
    "    \n",
    "    return child1, child2\n",
    "    \n",
    "    "
   ]
  },
  {
   "cell_type": "code",
   "execution_count": 24,
   "metadata": {},
   "outputs": [
    {
     "name": "stdout",
     "output_type": "stream",
     "text": [
      "struct({'tour': [1, 2, 4, 8, 7, 9, 5, 6, 0, 3]}) struct({'tour': [2, 4, 3, 8, 9, 6, 5, 0, 7, 1]})\n"
     ]
    },
    {
     "data": {
      "text/plain": [
       "(struct({'tour': [1, 2, 4, 8, 7, 9, 5, 6, 3, 0]}),\n",
       " struct({'tour': [2, 4, 3, 8, 9, 6, 5, 0, 1, 7]}))"
      ]
     },
     "execution_count": 24,
     "metadata": {},
     "output_type": "execute_result"
    }
   ],
   "source": [
    "c1 = structure()\n",
    "c2 = structure()\n",
    "\n",
    "c1.tour = random.sample(list(range(10)), k = 10)\n",
    "c2.tour = random.sample(list(range(10)), k = 10)\n",
    "\n",
    "print(c1, c2)\n",
    "OX1_tour_crossover(c1, c2)"
   ]
  },
  {
   "cell_type": "code",
   "execution_count": 25,
   "metadata": {},
   "outputs": [],
   "source": [
    "# def derive_packing_plan_from_tour(candidate_solution, Q, sorted_value_to_weight_ratio_dict, item_weights):\n",
    "#     packing_plan = np.array(candidate_solution.packing_plan)\n",
    "#     selected_items = list(np.nonzero(packing_plan))\n",
    "#     selected_items_weights = item_weights[selected_items]\n",
    "#     keys_list = list(sorted_value_to_weight_ratio_dict.keys())\n",
    "#     selected_items_values_to_weight_ratios = [sorted_value_to_weight_ratio_dict[x] for x in keys_list]\n",
    "#     i = -1\n",
    "#     while np.sum(selected_items_weights) > Q:\n",
    "#         candidate_solution.packing_plan[list(selected_items_values_to_weight_ratios.keys())[i]] = 0\n",
    "#         packing_plan = np.array(candidate_solution.packing_plan)\n",
    "#         selected_items = list(np.nonzero(packing_plan))\n",
    "#         selected_items_weights = item_weights[selected_items]\n",
    "#         i -= 1\n",
    "    \n"
   ]
  },
  {
   "cell_type": "code",
   "execution_count": null,
   "metadata": {},
   "outputs": [],
   "source": []
  },
  {
   "cell_type": "code",
   "execution_count": 26,
   "metadata": {},
   "outputs": [],
   "source": [
    "a280_n1395 = read_TTP_instance_data(\"../data/a280-n2790.txt\")"
   ]
  },
  {
   "cell_type": "code",
   "execution_count": 27,
   "metadata": {},
   "outputs": [],
   "source": [
    "sorted_value_to_weight_ratio_dict = dict(sorted(a280_n1395[\"value_to_weight_ratio_dict\"].items(), key=lambda x:x[1], reverse = True))"
   ]
  },
  {
   "cell_type": "code",
   "execution_count": 28,
   "metadata": {},
   "outputs": [
    {
     "data": {
      "text/plain": [
       "{1665: 529.0,\n",
       " 2087: 316.5,\n",
       " 2538: 223.25,\n",
       " 2060: 160.2,\n",
       " 367: 157.6,\n",
       " 249: 156.0,\n",
       " 2413: 146.0,\n",
       " 1743: 138.66666666666666,\n",
       " 2665: 120.85714285714286,\n",
       " 0: 119.0,\n",
       " 827: 117.57142857142857,\n",
       " 76: 117.0,\n",
       " 2157: 111.125,\n",
       " 631: 109.8,\n",
       " 805: 108.14285714285714,\n",
       " 1173: 105.5,\n",
       " 874: 90.0,\n",
       " 1229: 79.08333333333333,\n",
       " 720: 75.61538461538461,\n",
       " 1535: 73.08333333333333,\n",
       " 989: 63.833333333333336,\n",
       " 170: 48.76470588235294,\n",
       " 2522: 45.111111111111114,\n",
       " 514: 40.13333333333333,\n",
       " 160: 39.95454545454545,\n",
       " 1563: 39.82608695652174,\n",
       " 2623: 37.81818181818182,\n",
       " 2635: 36.65217391304348,\n",
       " 1182: 36.61538461538461,\n",
       " 496: 36.4,\n",
       " 2708: 34.3125,\n",
       " 1325: 33.72222222222222,\n",
       " 1499: 32.07692307692308,\n",
       " 1212: 31.275862068965516,\n",
       " 536: 31.047619047619047,\n",
       " 1650: 30.857142857142858,\n",
       " 1529: 30.724137931034484,\n",
       " 226: 30.5,\n",
       " 1367: 30.448275862068964,\n",
       " 2621: 30.303030303030305,\n",
       " 261: 29.606060606060606,\n",
       " 574: 29.0625,\n",
       " 2141: 28.615384615384617,\n",
       " 1582: 28.444444444444443,\n",
       " 2560: 28.125,\n",
       " 436: 27.36,\n",
       " 1929: 27.23076923076923,\n",
       " 1424: 26.666666666666668,\n",
       " 1186: 26.5,\n",
       " 1097: 24.75862068965517,\n",
       " 1517: 24.73076923076923,\n",
       " 1981: 24.11764705882353,\n",
       " 646: 23.075,\n",
       " 1782: 22.804878048780488,\n",
       " 2729: 22.696969696969695,\n",
       " 2679: 22.53488372093023,\n",
       " 2579: 22.266666666666666,\n",
       " 1761: 22.210526315789473,\n",
       " 2019: 21.973684210526315,\n",
       " 488: 21.8,\n",
       " 1210: 20.45,\n",
       " 1402: 20.03448275862069,\n",
       " 2051: 19.615384615384617,\n",
       " 410: 19.53191489361702,\n",
       " 35: 18.838709677419356,\n",
       " 960: 18.761904761904763,\n",
       " 2156: 18.580645161290324,\n",
       " 1545: 18.53191489361702,\n",
       " 2556: 17.89090909090909,\n",
       " 1872: 17.75,\n",
       " 2392: 17.705882352941178,\n",
       " 906: 17.696969696969695,\n",
       " 1104: 17.5,\n",
       " 463: 17.352941176470587,\n",
       " 2280: 16.896551724137932,\n",
       " 836: 16.866666666666667,\n",
       " 1002: 16.863636363636363,\n",
       " 2396: 16.7,\n",
       " 1935: 16.603448275862068,\n",
       " 205: 16.536585365853657,\n",
       " 471: 16.076923076923077,\n",
       " 990: 15.516666666666667,\n",
       " 1738: 15.290322580645162,\n",
       " 317: 14.597014925373134,\n",
       " 2643: 14.488888888888889,\n",
       " 191: 14.306451612903226,\n",
       " 1454: 14.061224489795919,\n",
       " 879: 13.625,\n",
       " 1311: 13.431372549019608,\n",
       " 992: 13.364864864864865,\n",
       " 151: 13.305555555555555,\n",
       " 1309: 13.226415094339623,\n",
       " 1944: 13.14516129032258,\n",
       " 1181: 13.131578947368421,\n",
       " 2174: 13.020408163265307,\n",
       " 2385: 12.893617021276595,\n",
       " 289: 12.84375,\n",
       " 125: 12.710526315789474,\n",
       " 2114: 12.681818181818182,\n",
       " 2353: 12.620689655172415,\n",
       " 1047: 12.558823529411764,\n",
       " 260: 12.487804878048781,\n",
       " 349: 12.48076923076923,\n",
       " 1968: 12.285714285714286,\n",
       " 2695: 12.17142857142857,\n",
       " 159: 12.039473684210526,\n",
       " 1426: 11.367647058823529,\n",
       " 776: 11.322033898305085,\n",
       " 2369: 11.290322580645162,\n",
       " 2768: 11.183098591549296,\n",
       " 2653: 11.154929577464788,\n",
       " 1123: 11.075471698113208,\n",
       " 626: 10.931506849315069,\n",
       " 1646: 10.885714285714286,\n",
       " 396: 10.585714285714285,\n",
       " 1991: 10.585714285714285,\n",
       " 959: 10.4375,\n",
       " 546: 10.4,\n",
       " 2634: 10.366666666666667,\n",
       " 1629: 10.341463414634147,\n",
       " 614: 10.16,\n",
       " 1332: 10.123076923076923,\n",
       " 1774: 9.952380952380953,\n",
       " 1926: 9.875,\n",
       " 2597: 9.715686274509803,\n",
       " 2478: 9.616438356164384,\n",
       " 1187: 9.538461538461538,\n",
       " 1201: 9.53191489361702,\n",
       " 2523: 9.493333333333334,\n",
       " 1220: 9.411764705882353,\n",
       " 2217: 9.368421052631579,\n",
       " 1910: 9.35,\n",
       " 711: 9.339622641509434,\n",
       " 2742: 9.271739130434783,\n",
       " 1965: 9.233333333333333,\n",
       " 17: 9.085106382978724,\n",
       " 2619: 9.01063829787234,\n",
       " 521: 8.915492957746478,\n",
       " 987: 8.896907216494846,\n",
       " 1417: 8.722222222222221,\n",
       " 1559: 8.584905660377359,\n",
       " 2745: 8.53061224489796,\n",
       " 124: 8.530434782608696,\n",
       " 2242: 8.432203389830509,\n",
       " 22: 8.38,\n",
       " 2279: 8.362637362637363,\n",
       " 828: 8.338709677419354,\n",
       " 1174: 8.303921568627452,\n",
       " 2047: 8.293333333333333,\n",
       " 217: 8.292682926829269,\n",
       " 2725: 8.23404255319149,\n",
       " 1245: 8.156521739130435,\n",
       " 699: 8.142857142857142,\n",
       " 62: 8.126582278481013,\n",
       " 2263: 7.964285714285714,\n",
       " 1856: 7.86,\n",
       " 116: 7.7109375,\n",
       " 366: 7.7105263157894735,\n",
       " 2300: 7.681818181818182,\n",
       " 669: 7.666666666666667,\n",
       " 2605: 7.647058823529412,\n",
       " 1814: 7.614035087719298,\n",
       " 2209: 7.603305785123967,\n",
       " 645: 7.580645161290323,\n",
       " 1209: 7.5606060606060606,\n",
       " 337: 7.515151515151516,\n",
       " 2104: 7.511904761904762,\n",
       " 2221: 7.426086956521739,\n",
       " 2189: 7.380952380952381,\n",
       " 1552: 7.36231884057971,\n",
       " 1033: 7.326315789473684,\n",
       " 1371: 7.304347826086956,\n",
       " 2714: 7.290909090909091,\n",
       " 2120: 7.254545454545455,\n",
       " 2531: 7.247422680412371,\n",
       " 1770: 7.225806451612903,\n",
       " 304: 7.165137614678899,\n",
       " 208: 7.1525423728813555,\n",
       " 2782: 7.038834951456311,\n",
       " 352: 7.010989010989011,\n",
       " 1294: 6.926470588235294,\n",
       " 1590: 6.890625,\n",
       " 2432: 6.843373493975903,\n",
       " 275: 6.839285714285714,\n",
       " 254: 6.816901408450704,\n",
       " 651: 6.788732394366197,\n",
       " 2137: 6.777777777777778,\n",
       " 2787: 6.722689075630252,\n",
       " 1199: 6.7,\n",
       " 2783: 6.662790697674419,\n",
       " 950: 6.65,\n",
       " 2409: 6.575,\n",
       " 715: 6.542553191489362,\n",
       " 1793: 6.485981308411215,\n",
       " 198: 6.358208955223881,\n",
       " 1374: 6.346938775510204,\n",
       " 2355: 6.336633663366337,\n",
       " 2620: 6.328571428571428,\n",
       " 2721: 6.315789473684211,\n",
       " 478: 6.287581699346405,\n",
       " 1512: 6.260416666666667,\n",
       " 2520: 6.258064516129032,\n",
       " 1022: 6.213483146067416,\n",
       " 443: 6.138461538461539,\n",
       " 1858: 6.088235294117647,\n",
       " 512: 6.0479452054794525,\n",
       " 2123: 6.03680981595092,\n",
       " 2223: 6.033333333333333,\n",
       " 2191: 6.03125,\n",
       " 2629: 6.011627906976744,\n",
       " 2572: 6.0,\n",
       " 491: 5.988888888888889,\n",
       " 1025: 5.985611510791367,\n",
       " 6: 5.983606557377049,\n",
       " 1364: 5.9491525423728815,\n",
       " 2698: 5.923076923076923,\n",
       " 1703: 5.922413793103448,\n",
       " 1939: 5.922413793103448,\n",
       " 561: 5.915584415584416,\n",
       " 655: 5.875912408759124,\n",
       " 667: 5.854166666666667,\n",
       " 1305: 5.849056603773585,\n",
       " 562: 5.837398373983739,\n",
       " 2709: 5.836065573770492,\n",
       " 2255: 5.833333333333333,\n",
       " 1486: 5.810344827586207,\n",
       " 1727: 5.72972972972973,\n",
       " 1111: 5.7272727272727275,\n",
       " 1740: 5.723214285714286,\n",
       " 2324: 5.6938775510204085,\n",
       " 2121: 5.69172932330827,\n",
       " 1780: 5.67175572519084,\n",
       " 1779: 5.615384615384615,\n",
       " 462: 5.6125,\n",
       " 2233: 5.607361963190184,\n",
       " 886: 5.598130841121495,\n",
       " 2751: 5.595238095238095,\n",
       " 1264: 5.553191489361702,\n",
       " 2743: 5.55,\n",
       " 2201: 5.53416149068323,\n",
       " 1751: 5.517647058823529,\n",
       " 1138: 5.505813953488372,\n",
       " 826: 5.483333333333333,\n",
       " 1693: 5.481927710843373,\n",
       " 1188: 5.408163265306122,\n",
       " 1641: 5.407407407407407,\n",
       " 2524: 5.39751552795031,\n",
       " 1618: 5.368421052631579,\n",
       " 86: 5.335260115606936,\n",
       " 1331: 5.311111111111111,\n",
       " 382: 5.278409090909091,\n",
       " 1045: 5.244897959183674,\n",
       " 1974: 5.230769230769231,\n",
       " 2642: 5.230769230769231,\n",
       " 873: 5.217391304347826,\n",
       " 1871: 5.213114754098361,\n",
       " 2232: 5.186046511627907,\n",
       " 402: 5.175675675675675,\n",
       " 2315: 5.15,\n",
       " 1555: 5.134715025906735,\n",
       " 1437: 5.130952380952381,\n",
       " 1411: 5.120481927710843,\n",
       " 593: 5.115384615384615,\n",
       " 1108: 5.115384615384615,\n",
       " 1291: 5.1022727272727275,\n",
       " 1065: 5.095890410958904,\n",
       " 1271: 5.095238095238095,\n",
       " 2669: 5.0875,\n",
       " 399: 5.079754601226994,\n",
       " 1356: 5.052238805970149,\n",
       " 2160: 4.989690721649485,\n",
       " 2583: 4.989189189189189,\n",
       " 1806: 4.968085106382978,\n",
       " 74: 4.954954954954955,\n",
       " 2776: 4.931818181818182,\n",
       " 2077: 4.920792079207921,\n",
       " 1326: 4.914285714285715,\n",
       " 1971: 4.908108108108108,\n",
       " 2103: 4.895287958115183,\n",
       " 50: 4.848039215686274,\n",
       " 1995: 4.837037037037037,\n",
       " 296: 4.836734693877551,\n",
       " 223: 4.8,\n",
       " 1657: 4.72027972027972,\n",
       " 2364: 4.712418300653595,\n",
       " 1117: 4.6875,\n",
       " 87: 4.660714285714286,\n",
       " 1134: 4.641414141414141,\n",
       " 2290: 4.597222222222222,\n",
       " 2503: 4.584905660377358,\n",
       " 2029: 4.580952380952381,\n",
       " 500: 4.576923076923077,\n",
       " 1682: 4.562790697674418,\n",
       " 2062: 4.561576354679803,\n",
       " 2580: 4.560344827586207,\n",
       " 1081: 4.531578947368421,\n",
       " 2066: 4.524390243902439,\n",
       " 2733: 4.516908212560386,\n",
       " 2613: 4.516556291390729,\n",
       " 490: 4.512345679012346,\n",
       " 1035: 4.5,\n",
       " 1720: 4.454545454545454,\n",
       " 1107: 4.433497536945813,\n",
       " 1366: 4.410256410256411,\n",
       " 1768: 4.4033613445378155,\n",
       " 1373: 4.335135135135135,\n",
       " 840: 4.321167883211679,\n",
       " 172: 4.24031007751938,\n",
       " 2212: 4.236111111111111,\n",
       " 2673: 4.230769230769231,\n",
       " 315: 4.215909090909091,\n",
       " 1353: 4.20125786163522,\n",
       " 426: 4.1891891891891895,\n",
       " 852: 4.183006535947713,\n",
       " 499: 4.163461538461538,\n",
       " 2102: 4.142857142857143,\n",
       " 1788: 4.121212121212121,\n",
       " 1966: 4.10091743119266,\n",
       " 231: 4.100478468899522,\n",
       " 2600: 4.0964912280701755,\n",
       " 1619: 4.0945273631840795,\n",
       " 73: 4.085106382978723,\n",
       " 32: 4.0625,\n",
       " 2558: 4.051724137931035,\n",
       " 712: 4.0,\n",
       " 2731: 3.974747474747475,\n",
       " 1048: 3.9716981132075473,\n",
       " 1766: 3.932,\n",
       " 430: 3.9313304721030042,\n",
       " 448: 3.923076923076923,\n",
       " 1907: 3.9210526315789473,\n",
       " 1032: 3.8974358974358974,\n",
       " 2614: 3.8932806324110674,\n",
       " 1152: 3.8898678414096914,\n",
       " 934: 3.880952380952381,\n",
       " 799: 3.870646766169154,\n",
       " 1811: 3.8533333333333335,\n",
       " 1091: 3.8484848484848486,\n",
       " 752: 3.8395061728395063,\n",
       " 618: 3.8297872340425534,\n",
       " 1279: 3.8285714285714287,\n",
       " 803: 3.820388349514563,\n",
       " 1686: 3.8132530120481927,\n",
       " 739: 3.807017543859649,\n",
       " 485: 3.8034934497816595,\n",
       " 1403: 3.776470588235294,\n",
       " 853: 3.761290322580645,\n",
       " 2198: 3.7489177489177488,\n",
       " 109: 3.7433155080213902,\n",
       " 783: 3.727272727272727,\n",
       " 1921: 3.710227272727273,\n",
       " 2607: 3.7022900763358777,\n",
       " 1145: 3.683333333333333,\n",
       " 2381: 3.6666666666666665,\n",
       " 2227: 3.6588235294117646,\n",
       " 2194: 3.6547619047619047,\n",
       " 880: 3.6506024096385543,\n",
       " 2749: 3.6315789473684212,\n",
       " 1442: 3.6141732283464565,\n",
       " 2126: 3.5950413223140494,\n",
       " 998: 3.5725806451612905,\n",
       " 1471: 3.5708955223880596,\n",
       " 1760: 3.563380281690141,\n",
       " 2074: 3.5517241379310347,\n",
       " 385: 3.5508982035928143,\n",
       " 1125: 3.5494505494505493,\n",
       " 510: 3.5277777777777777,\n",
       " 2164: 3.5232974910394264,\n",
       " 334: 3.516,\n",
       " 1607: 3.5076335877862594,\n",
       " 849: 3.505050505050505,\n",
       " 1855: 3.5,\n",
       " 2253: 3.4980392156862745,\n",
       " 2127: 3.493723849372385,\n",
       " 101: 3.4918032786885247,\n",
       " 698: 3.4814814814814814,\n",
       " 893: 3.47787610619469,\n",
       " 2028: 3.4714285714285715,\n",
       " 1370: 3.4583333333333335,\n",
       " 979: 3.456043956043956,\n",
       " 1511: 3.456043956043956,\n",
       " 2418: 3.4510869565217392,\n",
       " 2382: 3.4358974358974357,\n",
       " 1157: 3.4324324324324325,\n",
       " 1120: 3.4216867469879517,\n",
       " 2072: 3.395121951219512,\n",
       " 1262: 3.390697674418605,\n",
       " 1298: 3.389830508474576,\n",
       " 1956: 3.388235294117647,\n",
       " 2720: 3.3846153846153846,\n",
       " 2357: 3.3836206896551726,\n",
       " 2577: 3.3815789473684212,\n",
       " 1258: 3.3771626297577853,\n",
       " 1739: 3.3766233766233764,\n",
       " 2421: 3.3430232558139537,\n",
       " 1175: 3.318385650224215,\n",
       " 2065: 3.309917355371901,\n",
       " 1787: 3.309322033898305,\n",
       " 2173: 3.297071129707113,\n",
       " 278: 3.2958333333333334,\n",
       " 1255: 3.292079207920792,\n",
       " 1163: 3.2911877394636013,\n",
       " 814: 3.276595744680851,\n",
       " 274: 3.273076923076923,\n",
       " 2534: 3.255813953488372,\n",
       " 1833: 3.25,\n",
       " 1348: 3.243362831858407,\n",
       " 2510: 3.2276785714285716,\n",
       " 2501: 3.2216981132075473,\n",
       " 900: 3.2095808383233533,\n",
       " 1802: 3.206896551724138,\n",
       " 1282: 3.1757322175732217,\n",
       " 843: 3.1754966887417218,\n",
       " 2135: 3.1690647482014387,\n",
       " 643: 3.162303664921466,\n",
       " 860: 3.1591695501730106,\n",
       " 1611: 3.1531531531531534,\n",
       " 1984: 3.1481481481481484,\n",
       " 1515: 3.1451612903225805,\n",
       " 2627: 3.1390728476821192,\n",
       " 1154: 3.13265306122449,\n",
       " 516: 3.1296296296296298,\n",
       " 1993: 3.126984126984127,\n",
       " 1052: 3.1066666666666665,\n",
       " 943: 3.1,\n",
       " 782: 3.0952380952380953,\n",
       " 847: 3.09375,\n",
       " 1526: 3.0913978494623655,\n",
       " 180: 3.0779220779220777,\n",
       " 251: 3.0760233918128654,\n",
       " 714: 3.0677966101694913,\n",
       " 575: 3.0634920634920637,\n",
       " 2375: 3.0625,\n",
       " 1297: 3.0530973451327434,\n",
       " 2636: 3.0517241379310347,\n",
       " 1459: 3.0513833992094863,\n",
       " 314: 3.0371517027863777,\n",
       " 1100: 3.0140350877192983,\n",
       " 2379: 3.010989010989011,\n",
       " 831: 3.003787878787879,\n",
       " 802: 3.0,\n",
       " 2401: 3.0,\n",
       " 2481: 2.993006993006993,\n",
       " 2035: 2.9901639344262296,\n",
       " 697: 2.9894736842105263,\n",
       " 540: 2.989051094890511,\n",
       " 11: 2.9846153846153847,\n",
       " 1532: 2.9840637450199203,\n",
       " 967: 2.982300884955752,\n",
       " 2188: 2.9814814814814814,\n",
       " 329: 2.9780564263322886,\n",
       " 2509: 2.972049689440994,\n",
       " 2384: 2.971223021582734,\n",
       " 460: 2.9682539682539684,\n",
       " 1674: 2.967741935483871,\n",
       " 1407: 2.965367965367965,\n",
       " 901: 2.964664310954064,\n",
       " 761: 2.959016393442623,\n",
       " 765: 2.958904109589041,\n",
       " 736: 2.9454545454545453,\n",
       " 1062: 2.9432624113475176,\n",
       " 2578: 2.931899641577061,\n",
       " 2285: 2.923444976076555,\n",
       " 785: 2.923076923076923,\n",
       " 2113: 2.9084249084249083,\n",
       " 1576: 2.90625,\n",
       " 2267: 2.877813504823151,\n",
       " 1092: 2.8728813559322033,\n",
       " 523: 2.8679245283018866,\n",
       " 2672: 2.867403314917127,\n",
       " 2490: 2.8551401869158877,\n",
       " 2171: 2.8430769230769233,\n",
       " 185: 2.84251968503937,\n",
       " 794: 2.8404255319148937,\n",
       " 2187: 2.831223628691983,\n",
       " 204: 2.8282208588957056,\n",
       " 995: 2.8255813953488373,\n",
       " 409: 2.8244274809160306,\n",
       " 1184: 2.821656050955414,\n",
       " 920: 2.8095238095238093,\n",
       " 2755: 2.808219178082192,\n",
       " 577: 2.799382716049383,\n",
       " 107: 2.797752808988764,\n",
       " 305: 2.793002915451895,\n",
       " 456: 2.761467889908257,\n",
       " 2026: 2.7613636363636362,\n",
       " 1463: 2.75,\n",
       " 2133: 2.748792270531401,\n",
       " 1096: 2.7455197132616487,\n",
       " 1901: 2.7434944237918217,\n",
       " 1169: 2.7393162393162394,\n",
       " 569: 2.737609329446064,\n",
       " 1318: 2.7333333333333334,\n",
       " 2040: 2.733118971061093,\n",
       " 2617: 2.731958762886598,\n",
       " 2689: 2.7285714285714286,\n",
       " 1836: 2.7253886010362693,\n",
       " 2: 2.7166212534059944,\n",
       " 2762: 2.7058823529411766,\n",
       " 333: 2.705426356589147,\n",
       " 2435: 2.6956521739130435,\n",
       " 1260: 2.693798449612403,\n",
       " 14: 2.6910569105691056,\n",
       " 2554: 2.68978102189781,\n",
       " 207: 2.6875,\n",
       " 1283: 2.6865671641791047,\n",
       " 503: 2.684931506849315,\n",
       " 1438: 2.6836158192090394,\n",
       " 1343: 2.663978494623656,\n",
       " 955: 2.6588921282798834,\n",
       " 675: 2.658753709198813,\n",
       " 1726: 2.6584615384615384,\n",
       " 1783: 2.6557377049180326,\n",
       " 2702: 2.6552795031055902,\n",
       " 343: 2.642857142857143,\n",
       " 1369: 2.642857142857143,\n",
       " 1613: 2.641711229946524,\n",
       " 52: 2.6415929203539825,\n",
       " 1585: 2.6361185983827493,\n",
       " 20: 2.6315789473684212,\n",
       " 1010: 2.6197916666666665,\n",
       " 16: 2.6163934426229507,\n",
       " 373: 2.6157205240174672,\n",
       " 1208: 2.6146341463414635,\n",
       " 2220: 2.6085626911314983,\n",
       " 2138: 2.6062717770034842,\n",
       " 550: 2.6058981233243967,\n",
       " 1610: 2.6036036036036037,\n",
       " 1747: 2.5967302452316074,\n",
       " 379: 2.596078431372549,\n",
       " 882: 2.595744680851064,\n",
       " 2482: 2.591304347826087,\n",
       " 1749: 2.590625,\n",
       " 2292: 2.5893719806763285,\n",
       " 1434: 2.587378640776699,\n",
       " 1014: 2.5842696629213484,\n",
       " 518: 2.572519083969466,\n",
       " 2610: 2.567934782608696,\n",
       " 585: 2.5642023346303504,\n",
       " 2661: 2.5561643835616437,\n",
       " 982: 2.556,\n",
       " 2139: 2.553125,\n",
       " 2539: 2.5358090185676394,\n",
       " 937: 2.5353535353535355,\n",
       " 1423: 2.526813880126183,\n",
       " 582: 2.523076923076923,\n",
       " 1781: 2.514851485148515,\n",
       " 587: 2.5056818181818183,\n",
       " 163: 2.5,\n",
       " 2582: 2.490322580645161,\n",
       " 1713: 2.4787644787644787,\n",
       " 1771: 2.4690721649484537,\n",
       " 673: 2.4690265486725664,\n",
       " 1715: 2.4646464646464645,\n",
       " 372: 2.4637305699481864,\n",
       " 556: 2.4634146341463414,\n",
       " 1360: 2.4589665653495443,\n",
       " 1860: 2.458823529411765,\n",
       " 2246: 2.457627118644068,\n",
       " 996: 2.4571428571428573,\n",
       " 2008: 2.4567567567567568,\n",
       " 1648: 2.4561855670103094,\n",
       " 2027: 2.454183266932271,\n",
       " 1963: 2.4537037037037037,\n",
       " 2277: 2.4503311258278146,\n",
       " 741: 2.45,\n",
       " 1595: 2.4439834024896268,\n",
       " 2545: 2.439189189189189,\n",
       " 1118: 2.4365671641791047,\n",
       " 924: 2.4248554913294798,\n",
       " 777: 2.424,\n",
       " 2736: 2.409556313993174,\n",
       " 1155: 2.4076923076923076,\n",
       " 1914: 2.4072289156626505,\n",
       " 2273: 2.4057142857142857,\n",
       " 570: 2.402439024390244,\n",
       " 2045: 2.401985111662531,\n",
       " 2166: 2.4010695187165774,\n",
       " 1018: 2.3973799126637556,\n",
       " 2295: 2.3925619834710745,\n",
       " 1233: 2.391304347826087,\n",
       " 1333: 2.384020618556701,\n",
       " 2774: 2.378531073446328,\n",
       " 1247: 2.370879120879121,\n",
       " 1256: 2.369077306733167,\n",
       " 1266: 2.3666666666666667,\n",
       " 732: 2.3642857142857143,\n",
       " 2390: 2.3624595469255665,\n",
       " 2219: 2.36104513064133,\n",
       " 1234: 2.352517985611511,\n",
       " 707: 2.3513513513513513,\n",
       " 708: 2.3465703971119134,\n",
       " 1654: 2.3393939393939394,\n",
       " 47: 2.3369272237196768,\n",
       " 1292: 2.3350785340314135,\n",
       " 2406: 2.330383480825959,\n",
       " 1222: 2.328025477707006,\n",
       " 2169: 2.324561403508772,\n",
       " 477: 2.324074074074074,\n",
       " 2331: 2.323529411764706,\n",
       " 2076: 2.3210526315789473,\n",
       " 1663: 2.32,\n",
       " 1119: 2.3130434782608695,\n",
       " 1698: 2.3112745098039214,\n",
       " 1476: 2.307377049180328,\n",
       " 1800: 2.303225806451613,\n",
       " 1159: 2.301694915254237,\n",
       " 1888: 2.3,\n",
       " 2262: 2.292263610315186,\n",
       " 1455: 2.2915531335149866,\n",
       " 520: 2.2830626450116007,\n",
       " 1142: 2.2814207650273226,\n",
       " 889: 2.28110599078341,\n",
       " 1462: 2.2777777777777777,\n",
       " 716: 2.271062271062271,\n",
       " 2540: 2.27,\n",
       " 53: 2.269911504424779,\n",
       " 299: 2.269406392694064,\n",
       " 279: 2.2666666666666666,\n",
       " 2475: 2.2651006711409396,\n",
       " 1823: 2.2639405204460967,\n",
       " 2486: 2.263157894736842,\n",
       " 1868: 2.260377358490566,\n",
       " 596: 2.2527472527472527,\n",
       " 2149: 2.25,\n",
       " 1034: 2.2485207100591715,\n",
       " 848: 2.2426778242677825,\n",
       " 321: 2.2351097178683386,\n",
       " 1909: 2.2315436241610738,\n",
       " 1700: 2.2264150943396226,\n",
       " 791: 2.220720720720721,\n",
       " 755: 2.2205882352941178,\n",
       " 1228: 2.2191358024691357,\n",
       " 1795: 2.2142857142857144,\n",
       " 884: 2.2113821138211383,\n",
       " 440: 2.2111111111111112,\n",
       " 2427: 2.2111111111111112,\n",
       " 2716: 2.210526315789474,\n",
       " 2437: 2.2015209125475286,\n",
       " 2472: 2.200589970501475,\n",
       " 1568: 2.199556541019956,\n",
       " 1381: 2.1985559566787005,\n",
       " 395: 2.197674418604651,\n",
       " 2628: 2.196078431372549,\n",
       " 936: 2.1936758893280635,\n",
       " 1690: 2.1931818181818183,\n",
       " 1920: 2.1911111111111112,\n",
       " 2084: 2.190909090909091,\n",
       " 40: 2.1902439024390246,\n",
       " 2644: 2.188925081433225,\n",
       " 1043: 2.188340807174888,\n",
       " 2542: 2.18609865470852,\n",
       " 2018: 2.1820809248554913,\n",
       " 1807: 2.1805225653206652,\n",
       " 1328: 2.1801566579634466,\n",
       " 760: 2.1800947867298577,\n",
       " 135: 2.1779661016949152,\n",
       " 451: 2.1749049429657794,\n",
       " 468: 2.1721311475409837,\n",
       " 245: 2.1703703703703705,\n",
       " 29: 2.167259786476868,\n",
       " 1039: 2.1659192825112106,\n",
       " 152: 2.161993769470405,\n",
       " 578: 2.152354570637119,\n",
       " 1024: 2.15,\n",
       " 1594: 2.1465201465201464,\n",
       " 525: 2.1453287197231834,\n",
       " 694: 2.1443298969072164,\n",
       " 2594: 2.1443298969072164,\n",
       " 1419: 2.141280353200883,\n",
       " 1461: 2.1330798479087454,\n",
       " 1464: 2.1306818181818183,\n",
       " 370: 2.1297709923664123,\n",
       " 1122: 2.1267605633802815,\n",
       " 2403: 2.1230283911671926,\n",
       " 2430: 2.121037463976945,\n",
       " 131: 2.111111111111111,\n",
       " 1427: 2.10752688172043,\n",
       " 2429: 2.106951871657754,\n",
       " 2758: 2.106818181818182,\n",
       " 1688: 2.1036585365853657,\n",
       " 812: 2.1030150753768844,\n",
       " 165: 2.102880658436214,\n",
       " 240: 2.102639296187683,\n",
       " 2728: 2.1017441860465116,\n",
       " 1001: 2.1015625,\n",
       " 956: 2.0993377483443707,\n",
       " 181: 2.090909090909091,\n",
       " 502: 2.0888252148997135,\n",
       " 591: 2.0842105263157893,\n",
       " 272: 2.0833333333333335,\n",
       " 835: 2.08,\n",
       " 139: 2.0793650793650795,\n",
       " 473: 2.0788732394366196,\n",
       " 2488: 2.0784313725490198,\n",
       " 2365: 2.0775862068965516,\n",
       " 2601: 2.074725274725275,\n",
       " 1997: 2.0737704918032787,\n",
       " 2537: 2.066666666666667,\n",
       " 2473: 2.0595238095238093,\n",
       " 26: 2.056842105263158,\n",
       " 1361: 2.056701030927835,\n",
       " 657: 2.0548245614035086,\n",
       " 1058: 2.048,\n",
       " 58: 2.045918367346939,\n",
       " 2737: 2.0445205479452055,\n",
       " 2575: 2.042696629213483,\n",
       " 613: 2.041095890410959,\n",
       " 1103: 2.04,\n",
       " 344: 2.0395348837209304,\n",
       " 787: 2.0384615384615383,\n",
       " 1605: 2.035377358490566,\n",
       " 356: 2.033707865168539,\n",
       " 2151: 2.0330188679245285,\n",
       " 2773: 2.0325,\n",
       " 1076: 2.0274841437632136,\n",
       " 1015: 2.0217391304347827,\n",
       " 1880: 2.0206896551724136,\n",
       " 923: 2.019607843137255,\n",
       " 2116: 2.0170575692963753,\n",
       " 1614: 2.011904761904762,\n",
       " 1036: 2.0,\n",
       " 1189: 2.0,\n",
       " 1383: 2.0,\n",
       " 1938: 2.0,\n",
       " 375: 1.994609164420485,\n",
       " 301: 1.988235294117647,\n",
       " 1757: 1.986784140969163,\n",
       " 1764: 1.9840637450199203,\n",
       " 740: 1.9830028328611897,\n",
       " 283: 1.9813953488372094,\n",
       " 1088: 1.9793577981651376,\n",
       " 2471: 1.976510067114094,\n",
       " 1554: 1.9696312364425164,\n",
       " 1735: 1.9602385685884691,\n",
       " 422: 1.9580419580419581,\n",
       " 1784: 1.9556786703601108,\n",
       " 1494: 1.9518072289156627,\n",
       " 197: 1.947867298578199,\n",
       " 292: 1.9473684210526316,\n",
       " 113: 1.9464285714285714,\n",
       " 1952: 1.9426877470355732,\n",
       " 1551: 1.937888198757764,\n",
       " 420: 1.9301310043668123,\n",
       " 2412: 1.9296187683284458,\n",
       " 2291: 1.9292035398230087,\n",
       " 2311: 1.9289940828402368,\n",
       " 1521: 1.9285714285714286,\n",
       " 1009: 1.9273743016759777,\n",
       " 2458: 1.9182156133828996,\n",
       " 1177: 1.9177489177489178,\n",
       " 704: 1.9174603174603175,\n",
       " 1662: 1.915137614678899,\n",
       " 1193: 1.912280701754386,\n",
       " 1053: 1.9120603015075377,\n",
       " 2041: 1.9107142857142858,\n",
       " 2330: 1.9104477611940298,\n",
       " 1004: 1.9090909090909092,\n",
       " 1488: 1.901639344262295,\n",
       " 2079: 1.8994708994708995,\n",
       " 1011: 1.8984375,\n",
       " 2088: 1.8983402489626555,\n",
       " 2704: 1.896,\n",
       " 753: 1.888086642599278,\n",
       " 2344: 1.8876404494382022,\n",
       " 1346: 1.8859649122807018,\n",
       " 2461: 1.885135135135135,\n",
       " 361: 1.8845401174168297,\n",
       " 2517: 1.8799019607843137,\n",
       " 1996: 1.8789808917197452,\n",
       " 2784: 1.8771186440677967,\n",
       " 564: 1.8754716981132076,\n",
       " 875: 1.8733850129198966,\n",
       " 2130: 1.8733766233766234,\n",
       " 2732: 1.8728070175438596,\n",
       " 2363: 1.869179600886918,\n",
       " 2468: 1.8613861386138615,\n",
       " 2131: 1.8551532033426184,\n",
       " 1074: 1.8549848942598188,\n",
       " 759: 1.8523489932885906,\n",
       " 2387: 1.846613545816733,\n",
       " 1098: 1.845890410958904,\n",
       " 2038: 1.8458333333333334,\n",
       " 997: 1.8454935622317596,\n",
       " 2498: 1.8426966292134832,\n",
       " 2270: 1.8364197530864197,\n",
       " 2684: 1.8342857142857143,\n",
       " 2358: 1.8269230769230769,\n",
       " 2512: 1.8253012048192772,\n",
       " 1273: 1.8235294117647058,\n",
       " 1725: 1.821515892420538,\n",
       " 871: 1.819935691318328,\n",
       " 284: 1.818390804597701,\n",
       " 82: 1.8172484599589322,\n",
       " 985: 1.8170731707317074,\n",
       " 412: 1.8165938864628821,\n",
       " 891: 1.8137254901960784,\n",
       " 2161: 1.811284046692607,\n",
       " 2441: 1.811284046692607,\n",
       " 179: 1.8085106382978724,\n",
       " 1027: 1.804945054945055,\n",
       " 1776: 1.7995780590717299,\n",
       " 896: 1.7913907284768211,\n",
       " 1057: 1.7846153846153847,\n",
       " 2235: 1.7827102803738317,\n",
       " 2463: 1.7798165137614679,\n",
       " 2154: 1.778169014084507,\n",
       " 1290: 1.7770961145194275,\n",
       " 167: 1.7760736196319018,\n",
       " 105: 1.769736842105263,\n",
       " 1388: 1.7665198237885462,\n",
       " 1876: 1.7605042016806722,\n",
       " 898: 1.7564575645756457,\n",
       " 1819: 1.7560386473429952,\n",
       " 2224: 1.7549407114624507,\n",
       " 1922: 1.7531305903398926,\n",
       " 2442: 1.7522441651705565,\n",
       " 494: 1.7443946188340806,\n",
       " 112: 1.74373795761079,\n",
       " 1460: 1.742063492063492,\n",
       " 1087: 1.7391304347826086,\n",
       " 380: 1.7386363636363635,\n",
       " 2148: 1.7358870967741935,\n",
       " 2567: 1.7351351351351352,\n",
       " 1553: 1.732181425485961,\n",
       " 2657: 1.7314049586776858,\n",
       " 2341: 1.7275922671353252,\n",
       " 543: 1.7246376811594204,\n",
       " 1980: 1.722753346080306,\n",
       " 1842: 1.722735674676525,\n",
       " 954: 1.720524017467249,\n",
       " 1000: 1.7135231316725978,\n",
       " 276: 1.7133333333333334,\n",
       " 377: 1.713131313131313,\n",
       " 535: 1.7130620985010707,\n",
       " 218: 1.7017543859649122,\n",
       " 341: 1.699443413729128,\n",
       " 2048: 1.6981132075471699,\n",
       " 929: 1.697142857142857,\n",
       " 1697: 1.6968911917098446,\n",
       " 1724: 1.6966666666666668,\n",
       " 2485: 1.694736842105263,\n",
       " 1150: 1.6881720430107527,\n",
       " 537: 1.68659793814433,\n",
       " 388: 1.6861924686192469,\n",
       " 2480: 1.6839186691312384,\n",
       " 2371: 1.6835443037974684,\n",
       " 748: 1.683168316831683,\n",
       " 2204: 1.6797752808988764,\n",
       " 1513: 1.6790123456790123,\n",
       " 1875: 1.6777777777777778,\n",
       " 437: 1.676416819012797,\n",
       " 1602: 1.6759656652360515,\n",
       " 394: 1.6747967479674797,\n",
       " 1652: 1.6690997566909975,\n",
       " 411: 1.6637630662020906,\n",
       " 1237: 1.6633064516129032,\n",
       " 622: 1.6587677725118484,\n",
       " 287: 1.6581196581196582,\n",
       " 209: 1.6534090909090908,\n",
       " 2598: 1.6528301886792454,\n",
       " 2760: 1.6509186351706038,\n",
       " 2514: 1.65,\n",
       " 2592: 1.6491228070175439,\n",
       " 963: 1.6485507246376812,\n",
       " 1905: 1.645484949832776,\n",
       " 2241: 1.6451612903225807,\n",
       " 1930: 1.644808743169399,\n",
       " 2484: 1.6388888888888888,\n",
       " 1945: 1.6358490566037736,\n",
       " 1829: 1.6346153846153846,\n",
       " 1324: 1.6291390728476822,\n",
       " 1453: 1.6288659793814433,\n",
       " 1304: 1.6282527881040891,\n",
       " 1567: 1.6229166666666666,\n",
       " 1593: 1.622823984526112,\n",
       " 2654: 1.6196943972835314,\n",
       " 2301: 1.6181102362204725,\n",
       " 751: 1.6158940397350994,\n",
       " 2136: 1.615664845173042,\n",
       " 155: 1.6153846153846154,\n",
       " 1818: 1.614963503649635,\n",
       " 700: 1.614814814814815,\n",
       " 862: 1.6135593220338984,\n",
       " 2145: 1.6127659574468085,\n",
       " 1217: 1.61003861003861,\n",
       " 2626: 1.6067961165048543,\n",
       " 1398: 1.6067415730337078,\n",
       " 1931: 1.6051779935275081,\n",
       " 137: 1.603448275862069,\n",
       " 1484: 1.601423487544484,\n",
       " 555: 1.6005154639175259,\n",
       " 306: 1.599025974025974,\n",
       " 487: 1.5970149253731343,\n",
       " 1439: 1.596964586846543,\n",
       " 310: 1.593385214007782,\n",
       " 2378: 1.5928449744463373,\n",
       " 41: 1.5923566878980893,\n",
       " 408: 1.5874125874125875,\n",
       " 2581: 1.5869565217391304,\n",
       " 991: 1.5835411471321696,\n",
       " 717: 1.5805626598465474,\n",
       " 1967: 1.5760456273764258,\n",
       " 2692: 1.5746887966804979,\n",
       " 1533: 1.5736040609137056,\n",
       " 1589: 1.5716535433070866,\n",
       " 1320: 1.5709570957095709,\n",
       " 2308: 1.5702479338842976,\n",
       " 2111: 1.566914498141264,\n",
       " 1951: 1.565587734241908,\n",
       " 2765: 1.5652866242038217,\n",
       " 1447: 1.5604982206405693,\n",
       " 386: 1.56,\n",
       " 1069: 1.5582822085889572,\n",
       " 1609: 1.5570934256055364,\n",
       " 2700: 1.5555555555555556,\n",
       " 2706: 1.5521628498727735,\n",
       " 1620: 1.5496688741721854,\n",
       " 1556: 1.5491071428571428,\n",
       " 2411: 1.5478806907378335,\n",
       " 369: 1.543859649122807,\n",
       " 256: 1.5433962264150944,\n",
       " 2532: 1.5424164524421593,\n",
       " 2053: 1.5415384615384615,\n",
       " 294: 1.5398671096345515,\n",
       " 771: 1.5380710659898478,\n",
       " 1540: 1.53551912568306,\n",
       " 806: 1.5354166666666667,\n",
       " 1651: 1.535,\n",
       " 2043: 1.5330112721417068,\n",
       " 1578: 1.532994923857868,\n",
       " 439: 1.5322033898305085,\n",
       " 96: 1.5308988764044944,\n",
       " 2778: 1.5285171102661597,\n",
       " 1300: 1.528268551236749,\n",
       " 64: 1.5263157894736843,\n",
       " 855: 1.5205047318611988,\n",
       " 2454: 1.5204359673024523,\n",
       " 2271: 1.5171232876712328,\n",
       " 842: 1.5161290322580645,\n",
       " 2056: 1.516030534351145,\n",
       " 1522: 1.5118829981718465,\n",
       " 542: 1.5104895104895104,\n",
       " 2394: 1.508716323296355,\n",
       " 441: 1.507905138339921,\n",
       " 2637: 1.5072727272727273,\n",
       " 432: 1.5071283095723014,\n",
       " 1642: 1.5041186161449753,\n",
       " 1895: 1.5035211267605635,\n",
       " 1005: 1.502664298401421,\n",
       " 2050: 1.5,\n",
       " 1627: 1.4988814317673378,\n",
       " 2561: 1.4968152866242037,\n",
       " 2495: 1.4945054945054945,\n",
       " 144: 1.4935064935064934,\n",
       " 2272: 1.4916943521594683,\n",
       " 364: 1.489795918367347,\n",
       " 964: 1.4889705882352942,\n",
       " 1887: 1.4844517184942716,\n",
       " 1342: 1.4838709677419355,\n",
       " 1831: 1.4833333333333334,\n",
       " 557: 1.4816753926701571,\n",
       " 2058: 1.481012658227848,\n",
       " 175: 1.478021978021978,\n",
       " 2349: 1.4754829123328381,\n",
       " 1978: 1.4754464285714286,\n",
       " 1448: 1.4747663551401868,\n",
       " 1973: 1.4747320061255742,\n",
       " 465: 1.4707259953161593,\n",
       " 1769: 1.4706766917293232,\n",
       " 2203: 1.4697674418604652,\n",
       " 1571: 1.4693572496263079,\n",
       " 2660: 1.4686940966010733,\n",
       " 2771: 1.4649122807017543,\n",
       " 586: 1.4634146341463414,\n",
       " 590: 1.4634146341463414,\n",
       " 458: 1.4615384615384615,\n",
       " 381: 1.4591836734693877,\n",
       " 2281: 1.4558404558404558,\n",
       " 2570: 1.4523809523809523,\n",
       " 632: 1.4517453798767967,\n",
       " 7: 1.4506172839506173,\n",
       " 497: 1.4505494505494505,\n",
       " 539: 1.4497907949790796,\n",
       " 1429: 1.4490291262135921,\n",
       " 1176: 1.448210922787194,\n",
       " 2761: 1.4471947194719472,\n",
       " 1675: 1.4469914040114613,\n",
       " 721: 1.4453441295546559,\n",
       " 1917: 1.4444444444444444,\n",
       " 416: 1.44375,\n",
       " 2307: 1.441941074523397,\n",
       " 706: 1.4412811387900355,\n",
       " 1798: 1.4408284023668638,\n",
       " 2337: 1.4404255319148935,\n",
       " 2016: 1.4396728016359919,\n",
       " 2373: 1.4387351778656126,\n",
       " 1099: 1.4387096774193548,\n",
       " 2067: 1.4381443298969072,\n",
       " 2230: 1.4376854599406528,\n",
       " ...}"
      ]
     },
     "execution_count": 28,
     "metadata": {},
     "output_type": "execute_result"
    }
   ],
   "source": [
    "sorted_value_to_weight_ratio_dict"
   ]
  },
  {
   "cell_type": "code",
   "execution_count": 29,
   "metadata": {},
   "outputs": [],
   "source": [
    "init_pop = generate_initial_population(2,\n",
    "                                       280,\n",
    "                                       \"pack_optimal\", \n",
    "                                       \"random\", \n",
    "                                       a280_n1395[\"Q\"], \n",
    "                                       sorted_value_to_weight_ratio_dict,\n",
    "                                       a280_n1395[\"item_weights\"])"
   ]
  },
  {
   "cell_type": "code",
   "execution_count": 30,
   "metadata": {},
   "outputs": [
    {
     "data": {
      "text/plain": [
       "[struct({'tour': [75, 238, 92, 100, 19, 32, 156, 140, 209, 14, 174, 124, 5, 194, 200, 98, 268, 138, 190, 24, 85, 136, 249, 105, 248, 241, 148, 109, 113, 26, 16, 277, 188, 234, 135, 59, 21, 231, 78, 23, 53, 141, 39, 266, 25, 158, 82, 146, 114, 133, 242, 169, 219, 273, 175, 76, 46, 83, 43, 119, 217, 41, 104, 96, 2, 55, 240, 181, 88, 151, 189, 87, 270, 160, 184, 52, 9, 201, 36, 176, 164, 167, 147, 191, 239, 73, 107, 256, 214, 51, 48, 279, 37, 115, 64, 143, 10, 11, 259, 0, 71, 15, 227, 134, 276, 101, 57, 179, 84, 235, 155, 246, 187, 47, 208, 220, 31, 7, 263, 178, 199, 50, 272, 13, 152, 20, 168, 129, 70, 35, 271, 40, 18, 213, 28, 118, 122, 111, 262, 264, 193, 210, 150, 205, 6, 163, 267, 252, 93, 153, 86, 60, 228, 120, 132, 12, 8, 186, 126, 226, 275, 225, 49, 245, 94, 221, 145, 89, 211, 112, 177, 91, 125, 218, 192, 61, 99, 180, 144, 161, 215, 137, 130, 90, 222, 17, 106, 27, 123, 195, 3, 117, 103, 149, 22, 102, 139, 185, 253, 202, 233, 254, 128, 224, 261, 182, 38, 97, 131, 142, 237, 162, 236, 166, 159, 33, 62, 108, 81, 42, 68, 223, 269, 251, 110, 116, 203, 65, 127, 67, 80, 54, 260, 198, 243, 216, 34, 250, 165, 154, 30, 56, 58, 171, 274, 66, 121, 4, 232, 212, 206, 204, 157, 257, 265, 183, 197, 247, 45, 230, 95, 278, 172, 244, 170, 74, 77, 207, 1, 72, 44, 196, 29, 173, 255, 79, 258, 69, 229, 63], 'packing_plan': [1.0, 0.0, 1.0, 0.0, 0.0, 0.0, 1.0, 1.0, 0.0, 1.0, 0.0, 1.0, 0.0, 0.0, 1.0, 0.0, 1.0, 1.0, 0.0, 0.0, 1.0, 0.0, 1.0, 0.0, 0.0, 0.0, 1.0, 0.0, 0.0, 1.0, 0.0, 0.0, 1.0, 0.0, 0.0, 1.0, 0.0, 0.0, 0.0, 0.0, 1.0, 1.0, 0.0, 0.0, 1.0, 0.0, 0.0, 1.0, 0.0, 0.0, 1.0, 0.0, 1.0, 1.0, 0.0, 0.0, 0.0, 0.0, 1.0, 0.0, 0.0, 0.0, 1.0, 0.0, 1.0, 0.0, 0.0, 0.0, 0.0, 0.0, 1.0, 0.0, 1.0, 1.0, 1.0, 0.0, 1.0, 0.0, 0.0, 0.0, 0.0, 0.0, 1.0, 0.0, 0.0, 0.0, 1.0, 1.0, 0.0, 0.0, 0.0, 0.0, 0.0, 0.0, 0.0, 0.0, 1.0, 0.0, 0.0, 0.0, 0.0, 1.0, 0.0, 0.0, 0.0, 1.0, 0.0, 1.0, 0.0, 1.0, 0.0, 0.0, 1.0, 1.0, 0.0, 0.0, 1.0, 0.0, 0.0, 1.0, 0.0, 0.0, 0.0, 0.0, 1.0, 1.0, 0.0, 0.0, 1.0, 0.0, 0.0, 1.0, 0.0, 0.0, 1.0, 1.0, 0.0, 1.0, 0.0, 1.0, 1.0, 1.0, 0.0, 0.0, 1.0, 0.0, 0.0, 0.0, 0.0, 0.0, 0.0, 1.0, 1.0, 0.0, 0.0, 1.0, 0.0, 1.0, 0.0, 1.0, 1.0, 0.0, 0.0, 1.0, 0.0, 1.0, 0.0, 1.0, 0.0, 0.0, 1.0, 1.0, 1.0, 1.0, 0.0, 1.0, 0.0, 0.0, 0.0, 1.0, 1.0, 1.0, 0.0, 0.0, 0.0, 1.0, 0.0, 0.0, 0.0, 0.0, 0.0, 1.0, 1.0, 0.0, 0.0, 0.0, 0.0, 1.0, 1.0, 0.0, 0.0, 0.0, 0.0, 0.0, 1.0, 1.0, 0.0, 1.0, 1.0, 1.0, 0.0, 0.0, 0.0, 0.0, 0.0, 0.0, 0.0, 1.0, 1.0, 0.0, 0.0, 0.0, 0.0, 1.0, 0.0, 0.0, 1.0, 0.0, 0.0, 0.0, 0.0, 1.0, 0.0, 0.0, 0.0, 0.0, 0.0, 0.0, 0.0, 0.0, 1.0, 0.0, 0.0, 0.0, 0.0, 1.0, 0.0, 0.0, 0.0, 1.0, 0.0, 1.0, 0.0, 0.0, 1.0, 0.0, 1.0, 0.0, 0.0, 0.0, 1.0, 1.0, 0.0, 0.0, 0.0, 0.0, 0.0, 0.0, 0.0, 0.0, 1.0, 0.0, 1.0, 0.0, 1.0, 1.0, 1.0, 0.0, 1.0, 1.0, 0.0, 0.0, 0.0, 1.0, 1.0, 0.0, 0.0, 1.0, 0.0, 1.0, 0.0, 0.0, 1.0, 0.0, 1.0, 0.0, 1.0, 0.0, 0.0, 1.0, 0.0, 1.0, 0.0, 0.0, 1.0, 1.0, 1.0, 0.0, 0.0, 0.0, 1.0, 0.0, 0.0, 0.0, 1.0, 1.0, 0.0, 1.0, 0.0, 0.0, 0.0, 1.0, 0.0, 0.0, 0.0, 0.0, 1.0, 0.0, 0.0, 1.0, 0.0, 0.0, 0.0, 1.0, 1.0, 0.0, 0.0, 1.0, 0.0, 0.0, 0.0, 1.0, 0.0, 1.0, 1.0, 0.0, 0.0, 0.0, 0.0, 1.0, 0.0, 0.0, 1.0, 0.0, 0.0, 0.0, 1.0, 1.0, 0.0, 1.0, 0.0, 1.0, 0.0, 0.0, 1.0, 0.0, 1.0, 1.0, 0.0, 1.0, 1.0, 0.0, 1.0, 1.0, 1.0, 1.0, 1.0, 1.0, 0.0, 1.0, 1.0, 1.0, 1.0, 0.0, 0.0, 1.0, 1.0, 1.0, 1.0, 0.0, 0.0, 0.0, 0.0, 0.0, 1.0, 1.0, 1.0, 0.0, 1.0, 1.0, 0.0, 0.0, 1.0, 0.0, 0.0, 0.0, 0.0, 0.0, 1.0, 1.0, 1.0, 1.0, 1.0, 1.0, 0.0, 0.0, 1.0, 0.0, 0.0, 0.0, 1.0, 0.0, 1.0, 0.0, 0.0, 0.0, 1.0, 0.0, 0.0, 0.0, 1.0, 0.0, 1.0, 0.0, 0.0, 0.0, 1.0, 1.0, 0.0, 1.0, 1.0, 1.0, 0.0, 1.0, 0.0, 0.0, 0.0, 0.0, 1.0, 1.0, 0.0, 1.0, 0.0, 0.0, 0.0, 0.0, 1.0, 1.0, 1.0, 0.0, 1.0, 1.0, 1.0, 1.0, 0.0, 1.0, 0.0, 0.0, 1.0, 0.0, 0.0, 1.0, 0.0, 1.0, 1.0, 0.0, 0.0, 1.0, 1.0, 1.0, 0.0, 0.0, 0.0, 0.0, 0.0, 1.0, 0.0, 1.0, 1.0, 1.0, 1.0, 1.0, 0.0, 1.0, 1.0, 0.0, 1.0, 1.0, 0.0, 1.0, 1.0, 0.0, 1.0, 1.0, 0.0, 1.0, 0.0, 0.0, 1.0, 0.0, 1.0, 0.0, 1.0, 0.0, 1.0, 0.0, 1.0, 0.0, 1.0, 0.0, 1.0, 1.0, 0.0, 1.0, 0.0, 1.0, 0.0, 0.0, 0.0, 0.0, 0.0, 0.0, 0.0, 0.0, 0.0, 1.0, 1.0, 1.0, 0.0, 1.0, 1.0, 0.0, 1.0, 1.0, 0.0, 0.0, 1.0, 1.0, 0.0, 0.0, 1.0, 0.0, 0.0, 0.0, 0.0, 1.0, 1.0, 1.0, 0.0, 0.0, 0.0, 1.0, 1.0, 0.0, 1.0, 0.0, 0.0, 1.0, 0.0, 1.0, 1.0, 0.0, 0.0, 0.0, 1.0, 1.0, 0.0, 1.0, 1.0, 0.0, 1.0, 0.0, 1.0, 0.0, 0.0, 1.0, 1.0, 1.0, 0.0, 0.0, 1.0, 1.0, 0.0, 1.0, 0.0, 0.0, 1.0, 0.0, 0.0, 0.0, 0.0, 0.0, 0.0, 1.0, 0.0, 0.0, 0.0, 1.0, 0.0, 0.0, 0.0, 0.0, 0.0, 1.0, 1.0, 0.0, 0.0, 0.0, 1.0, 0.0, 0.0, 0.0, 1.0, 0.0, 0.0, 0.0, 1.0, 0.0, 0.0, 0.0, 0.0, 1.0, 1.0, 0.0, 0.0, 0.0, 0.0, 0.0, 1.0, 0.0, 0.0, 0.0, 0.0, 1.0, 0.0, 1.0, 1.0, 0.0, 0.0, 0.0, 0.0, 1.0, 0.0, 0.0, 0.0, 1.0, 0.0, 1.0, 0.0, 0.0, 0.0, 0.0, 1.0, 0.0, 0.0, 0.0, 0.0, 1.0, 0.0, 1.0, 0.0, 0.0, 1.0, 1.0, 1.0, 1.0, 0.0, 0.0, 0.0, 0.0, 1.0, 0.0, 0.0, 1.0, 0.0, 0.0, 0.0, 0.0, 0.0, 0.0, 1.0, 0.0, 0.0, 1.0, 1.0, 0.0, 0.0, 1.0, 1.0, 1.0, 1.0, 0.0, 1.0, 0.0, 1.0, 0.0, 1.0, 1.0, 1.0, 1.0, 0.0, 1.0, 1.0, 0.0, 1.0, 1.0, 1.0, 1.0, 0.0, 0.0, 1.0, 1.0, 0.0, 0.0, 0.0, 0.0, 0.0, 0.0, 0.0, 0.0, 0.0, 0.0, 1.0, 0.0, 0.0, 1.0, 1.0, 0.0, 0.0, 1.0, 1.0, 1.0, 0.0, 0.0, 0.0, 1.0, 0.0, 0.0, 1.0, 0.0, 0.0, 1.0, 1.0, 1.0, 0.0, 1.0, 0.0, 0.0, 0.0, 1.0, 1.0, 1.0, 1.0, 0.0, 0.0, 1.0, 0.0, 1.0, 0.0, 0.0, 0.0, 1.0, 0.0, 0.0, 0.0, 0.0, 1.0, 1.0, 0.0, 0.0, 1.0, 0.0, 1.0, 1.0, 0.0, 1.0, 0.0, 1.0, 0.0, 0.0, 0.0, 1.0, 0.0, 0.0, 1.0, 0.0, 0.0, 0.0, 0.0, 1.0, 0.0, 0.0, 1.0, 1.0, 0.0, 1.0, 1.0, 0.0, 0.0, 0.0, 0.0, 0.0, 1.0, 0.0, 1.0, 0.0, 0.0, 0.0, 0.0, 0.0, 0.0, 0.0, 0.0, 0.0, 0.0, 0.0, 1.0, 1.0, 1.0, 0.0, 0.0, 1.0, 0.0, 0.0, 0.0, 1.0, 1.0, 0.0, 0.0, 0.0, 1.0, 0.0, 1.0, 1.0, 0.0, 1.0, 1.0, 1.0, 1.0, 1.0, 0.0, 0.0, 1.0, 1.0, 0.0, 1.0, 0.0, 0.0, 0.0, 1.0, 1.0, 0.0, 1.0, 0.0, 0.0, 1.0, 0.0, 0.0, 0.0, 0.0, 0.0, 1.0, 0.0, 1.0, 1.0, 1.0, 0.0, 0.0, 0.0, 1.0, 1.0, 0.0, 1.0, 0.0, 1.0, 0.0, 1.0, 0.0, 0.0, 1.0, 0.0, 1.0, 0.0, 1.0, 0.0, 0.0, 1.0, 0.0, 1.0, 0.0, 1.0, 1.0, 0.0, 0.0, 0.0, 0.0, 1.0, 0.0, 1.0, 0.0, 0.0, 0.0, 0.0, 1.0, 0.0, 0.0, 0.0, 0.0, 0.0, 1.0, 1.0, 1.0, 0.0, 1.0, 1.0, 0.0, 0.0, 0.0, 1.0, 1.0, 1.0, 0.0, 0.0, 0.0, 1.0, 0.0, 1.0, 1.0, 0.0, 0.0, 0.0, 0.0, 0.0, 1.0, 0.0, 0.0, 0.0, 0.0, 1.0, 0.0, 1.0, 0.0, 0.0, 0.0, 1.0, 1.0, 1.0, 0.0, 0.0, 1.0, 1.0, 0.0, 0.0, 1.0, 1.0, 0.0, 0.0, 1.0, 0.0, 0.0, 1.0, 0.0, 0.0, 0.0, 0.0, 0.0, 0.0, 0.0, 0.0, 1.0, 0.0, 1.0, 1.0, 0.0, 1.0, 1.0, 0.0, 1.0, 0.0, 1.0, 1.0, 1.0, 1.0, 0.0, 0.0, 1.0, 1.0, 1.0, 1.0, 0.0, 1.0, 1.0, 1.0, 0.0, 1.0, 1.0, 0.0, 1.0, 0.0, 1.0, 1.0, 1.0, 0.0, 0.0, 1.0, 1.0, 0.0, 0.0, 1.0, 0.0, 0.0, 0.0, 1.0, 0.0, 1.0, 1.0, 1.0, 1.0, 0.0, 0.0, 0.0, 0.0, 1.0, 1.0, 1.0, 1.0, 1.0, 0.0, 0.0, 1.0, 0.0, 0.0, 0.0, 1.0, 0.0, 1.0, 0.0, 1.0, 1.0, 0.0, 0.0, 0.0, 1.0, 1.0, 0.0, 0.0, 0.0, 1.0, 1.0, 0.0, 1.0, 0.0, 1.0, 0.0, 0.0, 1.0, 0.0, 0.0, 0.0, 1.0, 0.0, 0.0, 1.0, 0.0, 1.0, 0.0, 1.0, 1.0, 0.0, 0.0, 0.0, 1.0, 0.0, 0.0, 0.0, 1.0, 1.0, 1.0, 1.0, 0.0, 0.0, 1.0, 1.0, 0.0, 1.0, 0.0, 1.0, 1.0, 1.0, 1.0, 1.0, 0.0, 0.0, 1.0, 1.0, 0.0, 1.0, 1.0, 1.0, 0.0, 0.0, 1.0, 0.0, 0.0, 0.0, 0.0, 0.0, 1.0, 1.0, 1.0, 1.0, 0.0, 1.0, 1.0, 0.0, 1.0, 0.0, 0.0, 0.0, 0.0, 0.0, 0.0, 0.0, 0.0, 1.0, 0.0, 1.0, 0.0, 1.0, 0.0, 0.0, 0.0, 1.0, 0.0, 0.0, 1.0, 0.0, 0.0, 0.0, 0.0, 1.0, 0.0, 1.0, 0.0, 1.0, 1.0, 1.0, 1.0, 0.0, 1.0, 0.0, 0.0, 0.0, 1.0, 0.0, 0.0, 0.0, 0.0, 0.0, 1.0, 0.0, 0.0, 0.0, 1.0, 1.0, 1.0, 1.0, 1.0, 0.0, 0.0, 0.0, 1.0, 1.0, 0.0, 1.0, 0.0, 1.0, 1.0, 1.0, 1.0, 0.0, 0.0, 0.0, 1.0, 0.0, 0.0, 0.0, 1.0, 0.0, 1.0, 0.0, 1.0, 0.0, 0.0, 0.0, 0.0, 0.0, 0.0, 1.0, 1.0, 1.0, 0.0, 1.0, 0.0, 0.0, 0.0, 0.0, 1.0, 0.0, 0.0, 1.0, 0.0, 1.0, 0.0, 0.0, 0.0, 0.0, 0.0, 1.0, 1.0, 0.0, 0.0, 0.0, 1.0, 1.0, 1.0, 0.0, 1.0, 1.0, 0.0, 0.0, 0.0, 0.0, 0.0, 0.0, 1.0, 0.0, 1.0, 0.0, 0.0, 0.0, 0.0, 1.0, 0.0, 0.0, 1.0, 1.0, 0.0, 1.0, 0.0, 1.0, 1.0, 1.0, 1.0, 1.0, 0.0, 1.0, 0.0, 0.0, 1.0, 1.0, 1.0, 0.0, 1.0, 0.0, 0.0, 1.0, 0.0, 0.0, 1.0, 0.0, 0.0, 1.0, 1.0, 0.0, 0.0, 0.0, 0.0, 1.0, 1.0, 1.0, 1.0, 1.0, 0.0, 1.0, 1.0, 0.0, 1.0, 1.0, 0.0, 1.0, 0.0, 0.0, 1.0, 1.0, 1.0, 0.0, 0.0, 0.0, 1.0, 0.0, 1.0, 0.0, 0.0, 0.0, 0.0, 0.0, 0.0, 1.0, 1.0, 1.0, 0.0, 0.0, 0.0, 1.0, 1.0, 1.0, 1.0, 1.0, 0.0, 0.0, 1.0, 1.0, 1.0, 0.0, 0.0, 0.0, 0.0, 0.0, 0.0, 0.0, 0.0, 1.0, 1.0, 0.0, 0.0, 1.0, 0.0, 1.0, 0.0, 0.0, 0.0, 1.0, 1.0, 0.0, 0.0, 1.0, 1.0, 0.0, 1.0, 1.0, 1.0, 0.0, 0.0, 1.0, 0.0, 1.0, 1.0, 0.0, 1.0, 1.0, 1.0, 0.0, 1.0, 1.0, 0.0, 1.0, 1.0, 0.0, 0.0, 0.0, 1.0, 0.0, 1.0, 0.0, 0.0, 0.0, 0.0, 1.0, 0.0, 0.0, 1.0, 0.0, 1.0, 0.0, 0.0, 0.0, 1.0, 1.0, 0.0, 0.0, 0.0, 1.0, 1.0, 1.0, 0.0, 1.0, 1.0, 0.0, 0.0, 0.0, 1.0, 1.0, 0.0, 0.0, 0.0, 0.0, 1.0, 1.0, 1.0, 1.0, 0.0, 0.0, 1.0, 1.0, 0.0, 1.0, 1.0, 0.0, 1.0, 0.0, 0.0, 0.0, 0.0, 1.0, 0.0, 1.0, 1.0, 1.0, 1.0, 0.0, 0.0, 1.0, 0.0, 1.0, 0.0, 0.0, 1.0, 1.0, 0.0, 0.0, 0.0, 0.0, 1.0, 1.0, 1.0, 0.0, 0.0, 0.0, 1.0, 1.0, 1.0, 1.0, 1.0, 1.0, 0.0, 0.0, 0.0, 0.0, 0.0, 0.0, 1.0, 0.0, 0.0, 0.0, 1.0, 1.0, 0.0, 0.0, 0.0, 0.0, 0.0, 1.0, 0.0, 1.0, 0.0, 1.0, 0.0, 1.0, 0.0, 0.0, 0.0, 0.0, 0.0, 1.0, 0.0, 0.0, 0.0, 0.0, 1.0, 0.0, 0.0, 0.0, 1.0, 0.0, 0.0, 1.0, 0.0, 0.0, 0.0, 0.0, 1.0, 1.0, 1.0, 1.0, 1.0, 0.0, 1.0, 0.0, 0.0, 0.0, 1.0, 1.0, 0.0, 0.0, 0.0, 1.0, 0.0, 0.0, 1.0, 0.0, 0.0, 1.0, 1.0, 0.0, 1.0, 0.0, 0.0, 0.0, 0.0, 1.0, 0.0, 1.0, 1.0, 0.0, 1.0, 0.0, 0.0, 0.0, 0.0, 1.0, 1.0, 1.0, 1.0, 1.0, 1.0, 1.0, 0.0, 0.0, 1.0, 0.0, 0.0, 0.0, 1.0, 1.0, 1.0, 0.0, 1.0, 1.0, 0.0, 1.0, 1.0, 0.0, 0.0, 0.0, 0.0, 1.0, 0.0, 1.0, 0.0, 0.0, 0.0, 1.0, 0.0, 0.0, 1.0, 0.0, 0.0, 0.0, 1.0, 1.0, 1.0, 0.0, 1.0, 1.0, 1.0, 0.0, 0.0, 0.0, 0.0, 0.0, 0.0, 1.0, 0.0, 0.0, 1.0, 0.0, 1.0, 0.0, 1.0, 1.0, 1.0, 0.0, 1.0, 1.0, 0.0, 0.0, 0.0, 1.0, 1.0, 1.0, 0.0, 0.0, 0.0, 0.0, 0.0, 0.0, 1.0, 0.0, 1.0, 1.0, 0.0, 0.0, 0.0, 1.0, 1.0, 0.0, 0.0, 0.0, 0.0, 1.0, 1.0, 1.0, 0.0, 1.0, 0.0, 1.0, 0.0, 1.0, 0.0, 1.0, 1.0, 1.0, 0.0, 1.0, 1.0, 0.0, 1.0, 0.0, 1.0, 1.0, 0.0, 1.0, 1.0, 1.0, 1.0, 0.0, 1.0, 0.0, 0.0, 0.0, 0.0, 1.0, 0.0, 1.0, 1.0, 0.0, 0.0, 0.0, 1.0, 0.0, 0.0, 1.0, 0.0, 0.0, 1.0, 1.0, 0.0, 1.0, 0.0, 1.0, 0.0, 0.0, 1.0, 0.0, 0.0, 1.0, 1.0, 1.0, 0.0, 1.0, 0.0, 0.0, 1.0, 0.0, 0.0, 0.0, 0.0, 0.0, 0.0, 0.0, 0.0, 0.0, 1.0, 0.0, 1.0, 0.0, 0.0, 0.0, 1.0, 1.0, 0.0, 0.0, 0.0, 1.0, 1.0, 1.0, 1.0, 0.0, 1.0, 1.0, 0.0, 0.0, 0.0, 0.0, 1.0, 0.0, 0.0, 1.0, 1.0, 1.0, 0.0, 0.0, 1.0, 0.0, 0.0, 0.0, 1.0, 0.0, 1.0, 0.0, 1.0, 0.0, 0.0, 0.0, 0.0, 1.0, 1.0, 0.0, 0.0, 1.0, 1.0, 0.0, 1.0, 1.0, 0.0, 1.0, 0.0, 1.0, 1.0, 1.0, 1.0, 0.0, 0.0, 1.0, 0.0, 1.0, 0.0, 0.0, 1.0, 1.0, 1.0, 1.0, 1.0, 1.0, 0.0, 1.0, 1.0, 1.0, 0.0, 0.0, 0.0, 0.0, 1.0, 0.0, 1.0, 0.0, 0.0, 1.0, 0.0, 1.0, 0.0, 1.0, 0.0, 0.0, 0.0, 1.0, 1.0, 0.0, 0.0, 0.0, 1.0, 1.0, 0.0, 1.0, 1.0, 0.0, 0.0, 1.0, 1.0, 0.0, 0.0, 0.0, 1.0, 1.0, 0.0, 0.0, 0.0, 0.0, 1.0, 0.0, 1.0, 0.0, 1.0, 0.0, 0.0, 1.0, 0.0, 0.0, 0.0, 0.0, 0.0, 1.0, 0.0, 0.0, 1.0, 0.0, 0.0, 0.0, 0.0, 1.0, 0.0, 0.0, 0.0, 0.0, 1.0, 1.0, 0.0, 1.0, 0.0, 1.0, 0.0, 0.0, 1.0, 0.0, 0.0, 0.0, 0.0, 1.0, 0.0, 0.0, 1.0, 1.0, 0.0, 0.0, 1.0, 1.0, 0.0, 0.0, 0.0, 1.0, 0.0, 1.0, 0.0, 1.0, 0.0, 0.0, 1.0, 1.0, 0.0, 0.0, 0.0, 0.0, 0.0, 0.0, 1.0, 0.0, 1.0, 0.0, 0.0, 0.0, 1.0, 0.0, 0.0, 0.0, 1.0, 0.0, 1.0, 0.0, 1.0, 1.0, 0.0, 0.0, 0.0, 1.0, 1.0, 0.0, 1.0, 0.0, 0.0, 1.0, 1.0, 1.0, 1.0, 0.0, 0.0, 1.0, 0.0, 1.0, 1.0, 1.0, 1.0, 0.0, 0.0, 0.0, 1.0, 0.0, 0.0, 1.0, 1.0, 0.0, 0.0, 0.0, 0.0, 1.0, 1.0, 0.0, 0.0, 0.0, 0.0, 0.0, 1.0, 1.0, 0.0, 0.0, 0.0, 1.0, 0.0, 0.0, 0.0, 0.0, 0.0, 0.0, 1.0, 0.0, 1.0, 1.0, 1.0, 1.0, 0.0, 0.0, 1.0, 0.0, 1.0, 1.0, 0.0, 0.0, 0.0, 1.0, 0.0, 1.0, 1.0, 0.0, 0.0, 1.0, 0.0, 1.0, 0.0, 0.0, 0.0, 0.0, 1.0, 0.0, 1.0, 0.0, 1.0, 1.0, 1.0, 0.0, 0.0, 0.0, 0.0, 0.0, 0.0, 0.0, 0.0, 0.0, 0.0, 1.0, 0.0, 0.0, 0.0, 0.0, 0.0, 0.0, 0.0, 1.0, 0.0, 1.0, 1.0, 0.0, 1.0, 0.0, 0.0, 0.0, 0.0, 1.0, 1.0, 1.0, 1.0, 0.0, 0.0, 0.0, 0.0, 0.0, 1.0, 0.0, 0.0, 1.0, 0.0, 1.0, 1.0, 0.0, 1.0, 0.0, 1.0, 1.0, 1.0, 1.0, 0.0, 1.0, 1.0, 0.0, 1.0, 0.0, 0.0, 1.0, 1.0, 1.0, 0.0, 1.0, 0.0, 1.0, 0.0, 1.0, 1.0, 1.0, 1.0, 0.0, 0.0, 0.0, 0.0, 1.0, 1.0, 1.0, 0.0, 1.0, 1.0, 0.0, 1.0, 0.0, 0.0, 1.0, 0.0, 1.0, 0.0, 0.0, 1.0, 1.0, 1.0, 0.0, 0.0, 1.0, 1.0, 0.0, 0.0, 0.0, 0.0, 0.0, 1.0, 0.0, 1.0, 1.0, 1.0, 1.0, 0.0, 0.0, 0.0, 0.0, 0.0, 0.0, 1.0, 1.0, 1.0, 1.0, 0.0, 1.0, 0.0, 0.0, 0.0, 1.0, 1.0, 0.0, 1.0, 0.0, 0.0, 1.0, 1.0, 0.0, 0.0, 1.0, 1.0, 0.0, 1.0, 0.0, 1.0, 1.0, 1.0, 1.0, 1.0, 0.0, 1.0, 0.0, 0.0, 0.0, 1.0, 0.0, 0.0, 1.0, 1.0, 0.0, 1.0, 0.0, 0.0, 1.0, 0.0, 1.0, 1.0, 0.0, 0.0, 1.0, 1.0, 0.0, 0.0, 1.0, 0.0, 1.0, 0.0, 0.0, 1.0, 0.0, 1.0, 1.0, 1.0, 1.0, 0.0, 0.0, 0.0, 0.0, 0.0, 0.0, 0.0, 0.0, 0.0, 0.0, 1.0, 1.0, 1.0, 1.0, 1.0, 0.0, 1.0, 0.0, 1.0, 1.0, 0.0, 0.0, 1.0, 1.0, 1.0, 0.0, 1.0, 0.0, 1.0, 1.0, 1.0, 0.0, 0.0, 0.0, 1.0, 0.0, 0.0, 1.0, 0.0, 0.0, 0.0, 0.0, 1.0, 1.0, 1.0, 1.0, 1.0, 1.0, 1.0, 1.0, 0.0, 0.0, 1.0, 0.0, 0.0, 1.0, 0.0, 1.0, 1.0, 1.0, 1.0, 1.0, 0.0, 0.0, 0.0, 0.0, 1.0, 1.0, 0.0, 0.0, 0.0, 1.0, 0.0, 0.0, 1.0, 0.0, 1.0, 0.0, 1.0, 0.0, 1.0, 0.0, 1.0, 0.0, 0.0, 0.0, 0.0, 1.0, 1.0, 0.0, 0.0, 0.0, 1.0, 0.0, 0.0, 1.0, 1.0, 1.0, 1.0, 0.0, 0.0, 0.0, 1.0, 0.0, 1.0, 1.0, 1.0, 0.0, 0.0, 0.0, 1.0, 1.0, 0.0, 0.0, 0.0, 1.0, 1.0, 1.0, 0.0, 0.0, 1.0, 1.0, 0.0, 0.0, 0.0, 1.0, 1.0, 1.0, 0.0, 0.0, 0.0, 0.0, 1.0, 1.0, 0.0, 0.0, 1.0, 0.0, 0.0, 0.0, 1.0, 1.0, 1.0, 1.0, 0.0, 1.0, 0.0, 1.0, 0.0, 1.0, 1.0, 0.0, 0.0, 0.0, 0.0, 1.0, 1.0, 1.0, 0.0, 1.0, 0.0, 0.0, 1.0, 0.0, 0.0, 0.0, 1.0, 0.0, 0.0, 1.0, 0.0, 0.0, 1.0, 0.0, 1.0, 1.0, 0.0, 0.0, 1.0, 1.0, 1.0, 0.0, 1.0, 1.0, 0.0, 0.0, 0.0, 0.0, 1.0, 1.0, 1.0, 0.0, 0.0, 0.0, 1.0, 0.0, 1.0, 0.0, 1.0, 0.0, 1.0, 0.0, 0.0, 1.0, 1.0, 0.0, 1.0, 1.0, 0.0, 1.0, 1.0, 0.0, 1.0, 0.0, 0.0, 1.0, 0.0, 1.0, 0.0, 1.0, 0.0, 1.0, 1.0, 0.0, 0.0, 0.0, 1.0, 0.0, 1.0, 0.0, 0.0, 1.0, 0.0, 0.0, 1.0, 0.0, 1.0, 1.0, 1.0, 1.0, 0.0, 0.0, 1.0, 1.0, 0.0, 0.0, 1.0, 1.0, 0.0, 0.0, 0.0, 0.0, 1.0, 0.0, 1.0, 1.0, 1.0, 1.0, 0.0, 0.0, 1.0, 0.0, 1.0, 0.0, 0.0, 0.0, 1.0, 1.0, 0.0, 0.0, 0.0, 0.0, 1.0, 0.0, 0.0, 0.0, 0.0, 0.0, 0.0, 1.0, 0.0, 0.0, 0.0, 1.0, 0.0, 0.0, 1.0, 0.0, 1.0, 0.0, 0.0, 0.0, 0.0, 1.0, 0.0, 0.0, 1.0, 1.0, 1.0, 0.0, 1.0, 0.0, 0.0, 1.0, 0.0, 1.0, 1.0, 1.0, 0.0, 1.0, 1.0, 1.0, 0.0, 1.0, 1.0, 1.0, 0.0, 0.0, 0.0, 0.0, 1.0, 0.0, 0.0, 1.0, 1.0, 0.0, 1.0, 0.0, 1.0, 0.0, 0.0, 0.0, 0.0, 0.0, 1.0, 1.0, 0.0, 1.0, 0.0, 1.0, 0.0, 0.0, 1.0, 0.0, 0.0, 1.0, 0.0, 1.0, 1.0, 1.0, 0.0, 0.0, 0.0, 0.0, 0.0, 0.0, 1.0, 1.0, 0.0, 1.0, 0.0, 0.0, 1.0, 1.0, 1.0, 1.0, 0.0, 1.0, 0.0, 0.0, 1.0, 0.0, 0.0, 0.0, 0.0, 0.0, 0.0, 0.0, 0.0, 1.0, 0.0, 1.0, 0.0, 1.0, 0.0, 1.0, 1.0, 0.0, 0.0, 0.0, 0.0, 0.0, 1.0, 1.0, 0.0, 1.0, 0.0, 1.0, 0.0, 0.0, 1.0, 1.0, 1.0, 1.0, 1.0, 1.0, 1.0, 1.0, 1.0, 0.0, 1.0, 0.0, 0.0, 0.0, 0.0, 1.0, 0.0, 1.0, 0.0, 1.0, 0.0, 0.0, 1.0, 1.0, 0.0, 1.0, 1.0, 0.0, 0.0, 0.0, 1.0, 0.0, 1.0, 0.0, 0.0, 1.0, 0.0, 0.0, 1.0, 1.0, 0.0, 0.0, 1.0, 0.0, 1.0, 1.0, 1.0, 0.0, 1.0, 1.0, 0.0, 1.0, 1.0, 1.0, 1.0, 0.0, 0.0, 0.0, 0.0, 1.0, 1.0, 1.0, 1.0, 0.0, 0.0, 0.0, 0.0, 1.0, 1.0, 1.0, 0.0, 0.0, 0.0, 0.0, 0.0, 0.0, 0.0, 0.0, 1.0, 1.0, 0.0, 0.0, 1.0, 0.0, 0.0, 1.0, 1.0, 1.0, 0.0, 1.0, 1.0, 0.0, 0.0, 0.0, 1.0, 0.0, 1.0, 1.0, 1.0, 0.0, 0.0, 0.0, 0.0, 0.0, 1.0, 0.0, 0.0, 0.0, 0.0, 1.0, 0.0, 0.0, 0.0, 0.0, 1.0, 0.0, 0.0, 1.0, 0.0, 0.0, 1.0, 0.0, 1.0, 1.0, 1.0, 1.0, 0.0, 1.0, 0.0, 1.0, 0.0, 1.0, 0.0, 1.0, 1.0, 0.0, 0.0, 0.0, 0.0, 1.0, 0.0, 1.0, 0.0, 0.0, 0.0, 1.0, 1.0, 0.0, 0.0, 0.0, 1.0, 0.0, 0.0, 1.0, 1.0, 0.0, 1.0, 1.0, 1.0, 0.0, 0.0, 1.0, 1.0, 0.0, 0.0, 0.0, 0.0, 1.0, 1.0, 0.0, 1.0, 0.0, 0.0, 0.0, 1.0, 0.0, 1.0, 0.0, 0.0, 0.0, 1.0, 0.0, 0.0, 1.0, 1.0, 1.0, 1.0, 1.0, 0.0, 0.0, 1.0, 1.0, 0.0, 1.0, 0.0, 0.0, 1.0, 0.0, 1.0, 1.0, 0.0, 1.0, 0.0, 1.0, 0.0, 0.0, 0.0, 1.0, 1.0, 1.0, 0.0, 0.0, 1.0, 0.0, 0.0], 'tour_cost': 8481698.558568515, 'packing_plan_cost': 797994.0}),\n",
       " struct({'tour': [37, 261, 63, 246, 190, 177, 165, 252, 268, 29, 94, 75, 119, 233, 269, 33, 101, 130, 56, 274, 76, 139, 236, 171, 150, 144, 278, 125, 65, 111, 90, 226, 127, 173, 167, 224, 162, 189, 42, 136, 22, 186, 24, 32, 121, 19, 2, 228, 23, 194, 48, 215, 244, 242, 26, 21, 70, 8, 49, 1, 14, 72, 85, 163, 265, 9, 235, 50, 183, 140, 255, 11, 239, 68, 149, 251, 184, 230, 193, 51, 210, 108, 132, 107, 118, 25, 262, 123, 73, 151, 54, 129, 157, 217, 243, 222, 201, 216, 170, 120, 27, 59, 106, 214, 263, 227, 34, 155, 220, 175, 256, 100, 138, 82, 232, 69, 178, 273, 147, 202, 20, 160, 13, 219, 168, 185, 199, 231, 116, 188, 164, 71, 0, 104, 99, 257, 181, 247, 145, 57, 172, 275, 88, 146, 176, 159, 156, 92, 225, 258, 44, 86, 221, 103, 245, 18, 237, 31, 60, 208, 191, 10, 96, 30, 128, 260, 212, 95, 79, 218, 45, 153, 78, 198, 113, 204, 234, 55, 276, 28, 196, 209, 16, 152, 126, 179, 166, 112, 52, 206, 122, 223, 3, 4, 200, 105, 102, 253, 40, 35, 213, 238, 93, 110, 61, 124, 97, 91, 250, 161, 249, 12, 270, 17, 114, 15, 169, 240, 137, 192, 174, 62, 277, 77, 41, 46, 141, 84, 53, 36, 135, 87, 148, 47, 279, 259, 80, 89, 98, 197, 83, 271, 195, 187, 264, 207, 5, 6, 205, 158, 134, 39, 182, 131, 272, 241, 266, 67, 229, 211, 38, 133, 154, 267, 248, 203, 66, 43, 142, 64, 143, 7, 115, 117, 109, 180, 74, 58, 81, 254], 'packing_plan': [1.0, 0.0, 1.0, 0.0, 0.0, 1.0, 1.0, 1.0, 0.0, 1.0, 1.0, 1.0, 0.0, 0.0, 1.0, 1.0, 1.0, 1.0, 1.0, 1.0, 1.0, 0.0, 1.0, 1.0, 1.0, 0.0, 1.0, 1.0, 1.0, 1.0, 1.0, 0.0, 1.0, 1.0, 0.0, 1.0, 0.0, 0.0, 0.0, 1.0, 1.0, 1.0, 0.0, 0.0, 1.0, 0.0, 1.0, 1.0, 0.0, 1.0, 1.0, 0.0, 1.0, 1.0, 0.0, 0.0, 1.0, 0.0, 1.0, 1.0, 1.0, 1.0, 1.0, 0.0, 1.0, 1.0, 0.0, 0.0, 1.0, 1.0, 1.0, 1.0, 1.0, 1.0, 1.0, 1.0, 1.0, 0.0, 0.0, 1.0, 0.0, 1.0, 1.0, 0.0, 0.0, 1.0, 1.0, 1.0, 1.0, 0.0, 1.0, 0.0, 1.0, 1.0, 0.0, 1.0, 1.0, 0.0, 1.0, 1.0, 0.0, 1.0, 1.0, 1.0, 1.0, 1.0, 0.0, 1.0, 1.0, 1.0, 1.0, 0.0, 1.0, 1.0, 1.0, 1.0, 1.0, 1.0, 0.0, 1.0, 1.0, 1.0, 0.0, 1.0, 1.0, 1.0, 0.0, 1.0, 1.0, 0.0, 1.0, 1.0, 0.0, 1.0, 1.0, 1.0, 1.0, 1.0, 0.0, 1.0, 1.0, 1.0, 1.0, 0.0, 1.0, 0.0, 0.0, 1.0, 0.0, 1.0, 1.0, 1.0, 1.0, 1.0, 0.0, 1.0, 1.0, 1.0, 1.0, 1.0, 1.0, 0.0, 1.0, 1.0, 1.0, 1.0, 1.0, 1.0, 1.0, 0.0, 1.0, 1.0, 1.0, 1.0, 0.0, 1.0, 0.0, 1.0, 1.0, 1.0, 1.0, 1.0, 0.0, 0.0, 1.0, 1.0, 1.0, 0.0, 1.0, 1.0, 0.0, 1.0, 1.0, 1.0, 1.0, 1.0, 0.0, 1.0, 1.0, 0.0, 0.0, 1.0, 0.0, 0.0, 1.0, 1.0, 0.0, 1.0, 1.0, 1.0, 0.0, 0.0, 1.0, 1.0, 0.0, 0.0, 0.0, 1.0, 1.0, 1.0, 1.0, 0.0, 0.0, 1.0, 1.0, 0.0, 1.0, 0.0, 1.0, 1.0, 0.0, 1.0, 1.0, 0.0, 0.0, 1.0, 0.0, 0.0, 0.0, 0.0, 1.0, 0.0, 0.0, 0.0, 1.0, 1.0, 0.0, 0.0, 1.0, 1.0, 0.0, 1.0, 1.0, 0.0, 1.0, 1.0, 1.0, 1.0, 1.0, 1.0, 1.0, 1.0, 1.0, 1.0, 0.0, 1.0, 0.0, 1.0, 0.0, 0.0, 1.0, 0.0, 1.0, 1.0, 1.0, 1.0, 1.0, 0.0, 1.0, 1.0, 1.0, 1.0, 0.0, 1.0, 1.0, 0.0, 0.0, 1.0, 0.0, 1.0, 1.0, 0.0, 1.0, 1.0, 1.0, 1.0, 1.0, 1.0, 0.0, 1.0, 1.0, 1.0, 0.0, 0.0, 1.0, 1.0, 1.0, 1.0, 1.0, 0.0, 1.0, 0.0, 1.0, 1.0, 1.0, 1.0, 1.0, 1.0, 1.0, 0.0, 0.0, 1.0, 0.0, 1.0, 0.0, 1.0, 1.0, 1.0, 1.0, 1.0, 1.0, 0.0, 0.0, 1.0, 1.0, 0.0, 0.0, 1.0, 1.0, 0.0, 0.0, 1.0, 1.0, 1.0, 1.0, 1.0, 1.0, 1.0, 1.0, 1.0, 0.0, 0.0, 1.0, 1.0, 1.0, 0.0, 1.0, 1.0, 0.0, 1.0, 1.0, 1.0, 1.0, 0.0, 1.0, 1.0, 1.0, 1.0, 1.0, 1.0, 1.0, 1.0, 1.0, 1.0, 1.0, 1.0, 1.0, 1.0, 1.0, 1.0, 1.0, 1.0, 1.0, 0.0, 0.0, 1.0, 1.0, 1.0, 1.0, 1.0, 0.0, 0.0, 1.0, 0.0, 1.0, 1.0, 1.0, 0.0, 1.0, 1.0, 0.0, 0.0, 1.0, 0.0, 0.0, 1.0, 1.0, 1.0, 1.0, 1.0, 1.0, 1.0, 1.0, 1.0, 0.0, 1.0, 1.0, 1.0, 1.0, 0.0, 1.0, 0.0, 1.0, 0.0, 0.0, 1.0, 1.0, 1.0, 1.0, 1.0, 1.0, 1.0, 1.0, 1.0, 0.0, 0.0, 1.0, 1.0, 0.0, 1.0, 1.0, 1.0, 0.0, 1.0, 0.0, 1.0, 1.0, 1.0, 1.0, 1.0, 1.0, 1.0, 1.0, 1.0, 0.0, 1.0, 1.0, 1.0, 1.0, 1.0, 1.0, 1.0, 1.0, 1.0, 1.0, 1.0, 0.0, 0.0, 1.0, 1.0, 0.0, 1.0, 0.0, 1.0, 1.0, 1.0, 0.0, 1.0, 1.0, 1.0, 1.0, 1.0, 1.0, 1.0, 1.0, 1.0, 1.0, 1.0, 1.0, 1.0, 1.0, 1.0, 0.0, 1.0, 1.0, 1.0, 1.0, 1.0, 0.0, 1.0, 1.0, 1.0, 1.0, 1.0, 1.0, 1.0, 0.0, 1.0, 1.0, 1.0, 1.0, 1.0, 1.0, 1.0, 1.0, 0.0, 1.0, 0.0, 1.0, 0.0, 1.0, 1.0, 1.0, 1.0, 1.0, 1.0, 0.0, 1.0, 0.0, 1.0, 1.0, 0.0, 1.0, 0.0, 0.0, 1.0, 1.0, 1.0, 1.0, 1.0, 1.0, 1.0, 1.0, 1.0, 0.0, 1.0, 1.0, 1.0, 1.0, 0.0, 1.0, 0.0, 1.0, 1.0, 0.0, 1.0, 1.0, 1.0, 1.0, 0.0, 1.0, 1.0, 1.0, 0.0, 1.0, 1.0, 0.0, 1.0, 1.0, 1.0, 1.0, 1.0, 0.0, 1.0, 1.0, 1.0, 0.0, 1.0, 1.0, 1.0, 1.0, 1.0, 1.0, 0.0, 1.0, 1.0, 1.0, 1.0, 0.0, 0.0, 1.0, 1.0, 1.0, 1.0, 0.0, 0.0, 1.0, 1.0, 0.0, 0.0, 1.0, 1.0, 1.0, 1.0, 1.0, 1.0, 0.0, 1.0, 1.0, 0.0, 0.0, 0.0, 1.0, 1.0, 1.0, 0.0, 1.0, 0.0, 1.0, 1.0, 1.0, 0.0, 1.0, 0.0, 0.0, 0.0, 1.0, 1.0, 0.0, 0.0, 0.0, 1.0, 1.0, 1.0, 0.0, 0.0, 0.0, 0.0, 1.0, 0.0, 1.0, 1.0, 1.0, 1.0, 0.0, 1.0, 1.0, 0.0, 0.0, 0.0, 0.0, 1.0, 0.0, 1.0, 1.0, 1.0, 1.0, 1.0, 1.0, 0.0, 0.0, 0.0, 1.0, 1.0, 1.0, 0.0, 1.0, 1.0, 1.0, 1.0, 1.0, 0.0, 1.0, 1.0, 1.0, 1.0, 0.0, 0.0, 1.0, 1.0, 1.0, 1.0, 0.0, 1.0, 0.0, 0.0, 0.0, 1.0, 0.0, 0.0, 1.0, 0.0, 1.0, 1.0, 1.0, 0.0, 1.0, 1.0, 1.0, 1.0, 1.0, 1.0, 1.0, 1.0, 1.0, 1.0, 1.0, 1.0, 1.0, 1.0, 0.0, 1.0, 1.0, 1.0, 1.0, 1.0, 1.0, 1.0, 1.0, 0.0, 1.0, 1.0, 0.0, 0.0, 0.0, 0.0, 1.0, 1.0, 0.0, 1.0, 1.0, 0.0, 1.0, 1.0, 0.0, 1.0, 1.0, 0.0, 1.0, 1.0, 1.0, 1.0, 1.0, 1.0, 0.0, 1.0, 1.0, 1.0, 1.0, 0.0, 0.0, 1.0, 1.0, 1.0, 0.0, 1.0, 1.0, 0.0, 0.0, 1.0, 1.0, 1.0, 1.0, 1.0, 1.0, 1.0, 1.0, 1.0, 0.0, 1.0, 1.0, 1.0, 0.0, 1.0, 1.0, 0.0, 1.0, 1.0, 1.0, 1.0, 1.0, 0.0, 1.0, 1.0, 0.0, 1.0, 1.0, 1.0, 0.0, 1.0, 1.0, 1.0, 0.0, 1.0, 1.0, 1.0, 1.0, 0.0, 0.0, 1.0, 0.0, 0.0, 1.0, 1.0, 1.0, 1.0, 1.0, 0.0, 0.0, 0.0, 1.0, 0.0, 1.0, 0.0, 1.0, 0.0, 1.0, 0.0, 0.0, 0.0, 1.0, 0.0, 1.0, 1.0, 1.0, 0.0, 1.0, 1.0, 1.0, 0.0, 0.0, 1.0, 1.0, 0.0, 0.0, 1.0, 1.0, 0.0, 1.0, 1.0, 1.0, 0.0, 1.0, 1.0, 1.0, 1.0, 1.0, 1.0, 1.0, 1.0, 1.0, 1.0, 1.0, 1.0, 0.0, 1.0, 0.0, 0.0, 1.0, 1.0, 1.0, 1.0, 1.0, 0.0, 1.0, 1.0, 0.0, 0.0, 0.0, 0.0, 0.0, 1.0, 1.0, 1.0, 1.0, 1.0, 0.0, 0.0, 1.0, 1.0, 1.0, 1.0, 1.0, 1.0, 1.0, 1.0, 1.0, 0.0, 1.0, 1.0, 0.0, 1.0, 1.0, 1.0, 1.0, 0.0, 1.0, 0.0, 1.0, 1.0, 1.0, 1.0, 0.0, 1.0, 1.0, 1.0, 1.0, 0.0, 1.0, 0.0, 0.0, 0.0, 0.0, 1.0, 1.0, 0.0, 0.0, 1.0, 1.0, 1.0, 1.0, 1.0, 0.0, 1.0, 1.0, 0.0, 1.0, 1.0, 1.0, 1.0, 1.0, 1.0, 0.0, 1.0, 1.0, 1.0, 1.0, 1.0, 1.0, 0.0, 1.0, 0.0, 1.0, 1.0, 1.0, 0.0, 1.0, 0.0, 1.0, 1.0, 1.0, 1.0, 0.0, 0.0, 1.0, 1.0, 1.0, 1.0, 0.0, 1.0, 1.0, 0.0, 0.0, 1.0, 1.0, 0.0, 1.0, 1.0, 0.0, 0.0, 1.0, 0.0, 0.0, 1.0, 0.0, 0.0, 0.0, 1.0, 1.0, 1.0, 0.0, 1.0, 1.0, 0.0, 1.0, 1.0, 1.0, 1.0, 0.0, 1.0, 1.0, 1.0, 1.0, 1.0, 1.0, 1.0, 1.0, 1.0, 1.0, 0.0, 1.0, 1.0, 1.0, 1.0, 1.0, 1.0, 1.0, 1.0, 1.0, 1.0, 1.0, 1.0, 0.0, 1.0, 1.0, 1.0, 0.0, 1.0, 1.0, 0.0, 1.0, 1.0, 1.0, 0.0, 1.0, 1.0, 1.0, 1.0, 1.0, 1.0, 1.0, 1.0, 1.0, 1.0, 1.0, 1.0, 1.0, 1.0, 1.0, 1.0, 1.0, 0.0, 0.0, 1.0, 0.0, 1.0, 0.0, 1.0, 1.0, 1.0, 0.0, 0.0, 1.0, 1.0, 1.0, 1.0, 0.0, 1.0, 1.0, 0.0, 1.0, 0.0, 1.0, 1.0, 0.0, 1.0, 0.0, 1.0, 0.0, 1.0, 1.0, 0.0, 1.0, 0.0, 1.0, 0.0, 1.0, 1.0, 0.0, 0.0, 1.0, 1.0, 0.0, 0.0, 0.0, 1.0, 1.0, 1.0, 1.0, 1.0, 0.0, 1.0, 1.0, 0.0, 1.0, 1.0, 1.0, 1.0, 1.0, 1.0, 1.0, 1.0, 1.0, 1.0, 1.0, 1.0, 1.0, 1.0, 1.0, 1.0, 0.0, 1.0, 0.0, 0.0, 1.0, 1.0, 0.0, 1.0, 1.0, 1.0, 1.0, 0.0, 1.0, 1.0, 0.0, 1.0, 1.0, 1.0, 1.0, 0.0, 0.0, 1.0, 0.0, 1.0, 1.0, 0.0, 1.0, 0.0, 1.0, 0.0, 1.0, 0.0, 1.0, 0.0, 1.0, 1.0, 1.0, 1.0, 1.0, 0.0, 1.0, 0.0, 1.0, 1.0, 1.0, 1.0, 1.0, 1.0, 0.0, 1.0, 0.0, 1.0, 0.0, 1.0, 0.0, 0.0, 0.0, 0.0, 1.0, 1.0, 1.0, 1.0, 1.0, 1.0, 1.0, 1.0, 1.0, 1.0, 1.0, 0.0, 1.0, 1.0, 1.0, 0.0, 1.0, 1.0, 1.0, 1.0, 1.0, 1.0, 1.0, 0.0, 0.0, 1.0, 0.0, 1.0, 0.0, 1.0, 0.0, 1.0, 1.0, 1.0, 1.0, 0.0, 1.0, 0.0, 1.0, 0.0, 1.0, 1.0, 1.0, 0.0, 1.0, 0.0, 1.0, 0.0, 1.0, 1.0, 0.0, 0.0, 1.0, 0.0, 1.0, 0.0, 1.0, 0.0, 1.0, 1.0, 1.0, 1.0, 0.0, 0.0, 1.0, 1.0, 1.0, 1.0, 0.0, 1.0, 1.0, 1.0, 1.0, 0.0, 0.0, 0.0, 1.0, 1.0, 0.0, 1.0, 0.0, 0.0, 0.0, 0.0, 1.0, 0.0, 1.0, 1.0, 1.0, 1.0, 1.0, 1.0, 1.0, 1.0, 1.0, 1.0, 1.0, 0.0, 1.0, 0.0, 1.0, 1.0, 1.0, 1.0, 1.0, 1.0, 0.0, 0.0, 1.0, 0.0, 1.0, 1.0, 0.0, 1.0, 1.0, 1.0, 0.0, 1.0, 0.0, 0.0, 1.0, 1.0, 1.0, 1.0, 1.0, 0.0, 1.0, 1.0, 1.0, 1.0, 1.0, 0.0, 1.0, 0.0, 1.0, 1.0, 1.0, 1.0, 1.0, 0.0, 0.0, 1.0, 0.0, 1.0, 0.0, 1.0, 0.0, 1.0, 1.0, 0.0, 1.0, 1.0, 1.0, 1.0, 1.0, 1.0, 1.0, 1.0, 1.0, 1.0, 1.0, 0.0, 0.0, 1.0, 1.0, 1.0, 0.0, 1.0, 1.0, 0.0, 0.0, 1.0, 1.0, 1.0, 1.0, 1.0, 0.0, 0.0, 1.0, 1.0, 1.0, 0.0, 0.0, 1.0, 1.0, 1.0, 1.0, 1.0, 1.0, 1.0, 1.0, 1.0, 1.0, 1.0, 1.0, 0.0, 1.0, 0.0, 1.0, 1.0, 1.0, 1.0, 1.0, 1.0, 1.0, 1.0, 1.0, 1.0, 1.0, 1.0, 1.0, 0.0, 0.0, 1.0, 0.0, 1.0, 1.0, 1.0, 0.0, 1.0, 1.0, 0.0, 0.0, 1.0, 1.0, 1.0, 0.0, 0.0, 1.0, 1.0, 1.0, 1.0, 0.0, 1.0, 1.0, 1.0, 1.0, 1.0, 1.0, 1.0, 1.0, 0.0, 0.0, 1.0, 1.0, 1.0, 1.0, 0.0, 0.0, 1.0, 1.0, 1.0, 1.0, 0.0, 0.0, 1.0, 1.0, 1.0, 1.0, 1.0, 0.0, 1.0, 1.0, 0.0, 1.0, 0.0, 1.0, 1.0, 1.0, 1.0, 1.0, 1.0, 0.0, 0.0, 1.0, 1.0, 1.0, 0.0, 1.0, 1.0, 1.0, 0.0, 1.0, 1.0, 1.0, 1.0, 1.0, 1.0, 0.0, 0.0, 1.0, 1.0, 1.0, 1.0, 1.0, 1.0, 1.0, 1.0, 1.0, 0.0, 1.0, 0.0, 0.0, 1.0, 0.0, 1.0, 1.0, 1.0, 1.0, 1.0, 1.0, 1.0, 0.0, 1.0, 1.0, 1.0, 1.0, 0.0, 1.0, 1.0, 1.0, 1.0, 0.0, 1.0, 1.0, 1.0, 1.0, 0.0, 1.0, 0.0, 1.0, 1.0, 1.0, 1.0, 0.0, 1.0, 0.0, 1.0, 1.0, 0.0, 1.0, 0.0, 0.0, 1.0, 1.0, 1.0, 1.0, 1.0, 0.0, 1.0, 1.0, 1.0, 1.0, 1.0, 1.0, 1.0, 1.0, 0.0, 1.0, 0.0, 1.0, 1.0, 1.0, 1.0, 1.0, 1.0, 1.0, 1.0, 0.0, 0.0, 1.0, 1.0, 1.0, 0.0, 1.0, 1.0, 0.0, 1.0, 1.0, 0.0, 0.0, 1.0, 1.0, 1.0, 1.0, 1.0, 1.0, 1.0, 1.0, 1.0, 0.0, 1.0, 0.0, 0.0, 0.0, 1.0, 1.0, 1.0, 1.0, 1.0, 1.0, 0.0, 1.0, 1.0, 1.0, 1.0, 1.0, 1.0, 1.0, 0.0, 1.0, 1.0, 1.0, 1.0, 1.0, 1.0, 1.0, 1.0, 1.0, 0.0, 0.0, 1.0, 1.0, 1.0, 1.0, 1.0, 1.0, 1.0, 0.0, 0.0, 0.0, 0.0, 0.0, 1.0, 1.0, 1.0, 0.0, 1.0, 0.0, 1.0, 1.0, 1.0, 1.0, 1.0, 1.0, 1.0, 1.0, 0.0, 1.0, 1.0, 1.0, 1.0, 1.0, 1.0, 1.0, 0.0, 1.0, 1.0, 0.0, 1.0, 1.0, 1.0, 1.0, 1.0, 0.0, 1.0, 1.0, 1.0, 1.0, 1.0, 1.0, 1.0, 1.0, 1.0, 1.0, 0.0, 1.0, 0.0, 1.0, 1.0, 1.0, 0.0, 1.0, 1.0, 1.0, 0.0, 1.0, 1.0, 0.0, 1.0, 0.0, 1.0, 1.0, 1.0, 1.0, 1.0, 1.0, 1.0, 0.0, 1.0, 0.0, 0.0, 0.0, 0.0, 1.0, 0.0, 1.0, 1.0, 1.0, 0.0, 1.0, 1.0, 0.0, 0.0, 1.0, 0.0, 0.0, 1.0, 1.0, 1.0, 1.0, 0.0, 1.0, 1.0, 1.0, 1.0, 0.0, 1.0, 1.0, 1.0, 1.0, 0.0, 1.0, 1.0, 1.0, 1.0, 1.0, 0.0, 0.0, 0.0, 0.0, 1.0, 1.0, 1.0, 0.0, 1.0, 1.0, 1.0, 1.0, 1.0, 0.0, 1.0, 1.0, 1.0, 1.0, 1.0, 1.0, 1.0, 1.0, 1.0, 0.0, 1.0, 1.0, 0.0, 1.0, 0.0, 0.0, 1.0, 0.0, 0.0, 1.0, 1.0, 1.0, 0.0, 1.0, 1.0, 0.0, 1.0, 0.0, 1.0, 0.0, 1.0, 1.0, 1.0, 0.0, 1.0, 0.0, 1.0, 1.0, 1.0, 0.0, 0.0, 1.0, 1.0, 0.0, 1.0, 1.0, 0.0, 1.0, 1.0, 1.0, 1.0, 1.0, 1.0, 1.0, 1.0, 1.0, 1.0, 1.0, 0.0, 1.0, 1.0, 1.0, 1.0, 1.0, 1.0, 1.0, 0.0, 1.0, 1.0, 1.0, 1.0, 0.0, 1.0, 1.0, 1.0, 1.0, 1.0, 1.0, 1.0, 1.0, 1.0, 1.0, 1.0, 1.0, 1.0, 1.0, 1.0, 1.0, 1.0, 0.0, 0.0, 1.0, 1.0, 1.0, 0.0, 1.0, 1.0, 0.0, 1.0, 1.0, 1.0, 1.0, 1.0, 0.0, 1.0, 1.0, 0.0, 1.0, 1.0, 1.0, 1.0, 0.0, 1.0, 1.0, 1.0, 0.0, 0.0, 1.0, 0.0, 0.0, 1.0, 1.0, 1.0, 1.0, 1.0, 1.0, 1.0, 1.0, 1.0, 0.0, 0.0, 1.0, 1.0, 1.0, 1.0, 1.0, 1.0, 1.0, 0.0, 1.0, 0.0, 1.0, 1.0, 0.0, 1.0, 1.0, 1.0, 0.0, 0.0, 1.0, 0.0, 1.0, 1.0, 1.0, 1.0, 1.0, 1.0, 1.0, 1.0, 1.0, 0.0, 1.0, 1.0, 1.0, 0.0, 1.0, 1.0, 0.0, 1.0, 1.0, 0.0, 1.0, 1.0, 0.0, 0.0, 1.0, 1.0, 1.0, 1.0, 0.0, 1.0, 0.0, 1.0, 0.0, 0.0, 1.0, 1.0, 1.0, 1.0, 0.0, 1.0, 1.0, 1.0, 1.0, 0.0, 1.0, 1.0, 0.0, 1.0, 0.0, 0.0, 1.0, 1.0, 1.0, 1.0, 0.0, 0.0, 1.0, 1.0, 1.0, 1.0, 1.0, 1.0, 0.0, 1.0, 0.0, 1.0, 0.0, 0.0, 1.0, 1.0, 0.0, 0.0, 1.0, 1.0, 1.0, 1.0, 0.0, 1.0, 1.0, 1.0, 1.0, 1.0, 1.0, 1.0, 0.0, 1.0, 1.0, 0.0, 0.0, 0.0, 1.0, 1.0, 1.0, 1.0, 1.0, 1.0, 1.0, 1.0, 1.0, 0.0, 0.0, 1.0, 0.0, 1.0, 1.0, 0.0, 0.0, 0.0, 1.0, 1.0, 1.0, 1.0, 1.0, 1.0, 1.0, 0.0, 1.0, 0.0, 0.0, 0.0, 0.0, 1.0, 0.0, 1.0, 0.0, 1.0, 1.0, 1.0, 1.0, 0.0, 0.0, 0.0, 0.0, 0.0, 1.0, 0.0, 1.0, 0.0, 1.0, 0.0, 0.0, 1.0, 0.0, 1.0, 1.0, 1.0, 1.0, 0.0, 1.0, 1.0, 1.0, 1.0, 0.0, 1.0, 0.0, 1.0, 1.0, 1.0, 1.0, 1.0, 1.0, 1.0, 0.0, 0.0, 0.0, 1.0, 1.0, 0.0, 1.0, 0.0, 1.0, 1.0, 0.0, 1.0, 1.0, 1.0, 1.0, 1.0, 1.0, 1.0, 1.0, 1.0, 1.0, 1.0, 0.0, 0.0, 1.0, 1.0, 1.0, 0.0, 1.0, 0.0, 1.0, 0.0, 1.0, 1.0, 1.0, 1.0, 1.0, 1.0, 0.0, 1.0, 1.0, 1.0, 1.0, 0.0, 1.0, 1.0, 0.0, 1.0, 0.0, 0.0, 1.0, 0.0, 1.0, 0.0, 0.0, 1.0, 1.0, 1.0, 1.0, 1.0, 1.0, 1.0, 0.0, 0.0, 0.0, 0.0, 1.0, 1.0, 0.0, 1.0, 1.0, 1.0, 1.0, 1.0, 1.0, 0.0, 0.0, 1.0, 1.0, 1.0, 1.0, 1.0, 1.0, 1.0, 1.0, 1.0, 1.0, 0.0, 1.0, 1.0, 0.0, 1.0, 0.0, 1.0, 1.0, 1.0, 1.0, 1.0, 1.0, 1.0, 1.0, 1.0, 1.0, 1.0, 1.0, 1.0, 1.0, 1.0, 1.0, 1.0, 0.0, 0.0, 1.0, 1.0, 1.0, 0.0, 1.0, 1.0, 0.0, 1.0, 0.0, 1.0, 1.0, 1.0, 1.0, 1.0, 1.0, 0.0, 1.0, 1.0, 1.0, 0.0, 1.0, 0.0, 1.0, 1.0, 1.0, 1.0, 0.0, 1.0, 1.0, 1.0, 1.0, 0.0, 0.0, 0.0, 1.0, 1.0, 0.0, 1.0, 0.0, 0.0, 0.0, 1.0, 1.0, 1.0, 1.0, 1.0, 1.0, 1.0, 1.0, 1.0, 1.0, 0.0, 0.0, 1.0, 1.0, 1.0, 1.0, 1.0, 1.0, 1.0, 1.0, 1.0, 1.0, 1.0, 1.0, 1.0, 1.0, 0.0, 1.0, 1.0, 0.0, 0.0, 0.0, 1.0, 1.0, 1.0, 1.0, 1.0, 1.0, 1.0, 1.0, 1.0, 1.0, 1.0, 0.0, 0.0, 1.0, 0.0, 1.0, 1.0, 1.0, 1.0, 1.0, 1.0, 0.0, 0.0, 1.0, 1.0, 1.0, 0.0, 0.0, 1.0, 1.0, 0.0, 1.0, 1.0, 0.0, 1.0, 0.0, 1.0, 1.0, 1.0, 0.0, 1.0, 0.0, 1.0, 0.0, 0.0, 1.0, 1.0, 0.0, 0.0, 1.0, 1.0, 0.0, 1.0, 1.0, 1.0, 1.0, 1.0, 1.0, 1.0, 0.0, 1.0, 0.0, 1.0, 1.0, 1.0, 1.0, 1.0, 0.0, 1.0, 1.0, 1.0, 0.0, 1.0, 1.0, 1.0, 1.0, 0.0, 0.0, 1.0, 1.0, 1.0, 1.0, 1.0, 1.0, 1.0, 1.0, 0.0, 0.0, 1.0, 0.0, 1.0, 1.0, 0.0, 1.0, 1.0, 0.0, 0.0, 1.0, 1.0, 1.0, 1.0, 1.0, 1.0, 1.0, 1.0, 1.0, 0.0, 1.0, 1.0, 1.0, 0.0, 0.0, 1.0, 1.0, 1.0, 1.0, 1.0, 1.0, 1.0, 0.0, 1.0, 1.0, 1.0, 1.0, 1.0, 0.0, 0.0, 1.0, 1.0, 0.0, 1.0, 0.0, 1.0, 1.0, 0.0, 0.0, 1.0, 1.0, 1.0, 1.0, 1.0, 1.0, 1.0, 0.0, 0.0, 0.0, 1.0, 1.0, 1.0, 0.0, 1.0, 1.0, 1.0, 0.0, 1.0, 0.0, 1.0, 0.0, 1.0, 1.0, 0.0, 1.0, 1.0, 0.0, 1.0, 1.0, 0.0, 1.0, 1.0, 0.0, 1.0, 1.0, 1.0, 1.0, 1.0, 1.0, 0.0, 1.0, 0.0, 1.0, 1.0, 0.0, 0.0, 0.0, 1.0, 1.0, 1.0, 1.0, 0.0, 1.0, 0.0, 1.0, 1.0, 0.0, 1.0, 1.0, 1.0, 1.0, 0.0, 0.0, 1.0, 1.0, 1.0, 1.0, 1.0, 1.0, 1.0, 1.0, 0.0, 1.0, 1.0, 1.0, 1.0, 1.0, 1.0, 1.0, 0.0, 0.0, 1.0, 1.0, 1.0, 1.0, 0.0, 1.0, 1.0, 1.0, 0.0, 1.0, 1.0, 0.0, 1.0, 1.0, 1.0, 0.0, 1.0, 1.0, 0.0, 1.0, 0.0, 0.0, 0.0, 1.0, 0.0, 1.0, 1.0, 1.0, 1.0, 1.0, 0.0, 0.0, 0.0, 1.0, 1.0, 0.0, 1.0, 1.0, 1.0, 0.0, 1.0, 1.0, 0.0, 1.0, 1.0, 1.0, 1.0, 1.0, 0.0, 1.0, 1.0, 1.0, 1.0, 1.0, 1.0, 1.0, 0.0, 1.0, 1.0, 1.0, 1.0, 1.0, 0.0, 1.0, 1.0, 1.0, 1.0, 1.0, 1.0, 1.0, 1.0, 0.0, 0.0, 0.0, 1.0, 1.0, 0.0, 1.0, 1.0, 1.0, 1.0, 0.0, 1.0, 0.0, 0.0, 1.0, 1.0, 1.0, 1.0, 1.0, 0.0, 1.0, 1.0, 0.0, 0.0, 0.0, 1.0, 1.0, 0.0, 1.0, 0.0, 0.0, 1.0, 1.0, 1.0, 1.0, 0.0, 1.0, 0.0, 0.0, 1.0, 1.0, 0.0, 1.0, 1.0, 0.0, 1.0, 0.0, 1.0, 1.0, 1.0, 1.0, 0.0, 1.0, 0.0, 1.0, 1.0, 1.0, 0.0, 0.0, 1.0, 1.0, 1.0, 1.0, 0.0, 1.0, 1.0, 1.0, 1.0, 0.0, 1.0, 1.0, 1.0, 1.0, 1.0, 1.0, 1.0, 1.0, 1.0, 0.0, 1.0, 0.0, 0.0, 1.0, 0.0, 1.0, 1.0, 1.0, 0.0, 1.0, 0.0, 1.0, 1.0, 1.0, 0.0, 1.0, 1.0, 1.0, 0.0, 1.0, 1.0, 0.0, 1.0, 0.0, 1.0, 1.0, 1.0, 0.0, 1.0, 1.0, 1.0, 1.0, 1.0, 0.0, 1.0, 1.0, 1.0, 1.0, 1.0, 1.0, 0.0, 1.0, 1.0, 1.0, 1.0, 1.0, 1.0, 1.0, 0.0, 1.0, 1.0, 1.0, 1.0, 1.0, 0.0, 0.0, 1.0, 1.0, 1.0, 1.0, 0.0, 1.0, 1.0, 0.0, 1.0, 1.0, 0.0, 0.0, 1.0, 1.0, 0.0, 0.0, 1.0, 0.0, 0.0, 1.0, 1.0, 1.0, 1.0, 1.0, 1.0, 0.0, 0.0, 1.0, 1.0, 0.0, 1.0, 1.0, 1.0, 0.0, 1.0, 0.0, 0.0, 0.0, 1.0, 0.0, 0.0, 0.0, 1.0, 1.0, 1.0, 1.0, 0.0, 1.0, 1.0, 1.0, 0.0, 1.0, 1.0, 0.0, 1.0, 0.0, 1.0, 1.0, 1.0, 1.0, 1.0, 1.0, 1.0, 1.0, 1.0, 1.0, 1.0, 1.0, 1.0, 1.0, 0.0, 1.0, 0.0, 1.0, 1.0, 1.0, 0.0, 0.0, 1.0, 1.0, 1.0, 1.0, 1.0, 1.0, 1.0, 0.0, 0.0, 1.0, 1.0, 0.0, 1.0, 1.0, 1.0, 0.0, 1.0, 1.0, 1.0, 0.0, 1.0, 1.0, 1.0, 1.0, 1.0, 1.0, 1.0, 1.0, 0.0, 1.0, 1.0, 1.0, 1.0, 0.0, 1.0, 0.0, 1.0, 1.0, 0.0, 1.0, 1.0, 1.0, 1.0, 1.0, 1.0, 0.0, 1.0, 1.0, 1.0, 1.0, 0.0, 0.0, 1.0, 0.0, 1.0, 1.0, 0.0, 1.0, 0.0, 1.0, 0.0, 0.0, 1.0, 1.0, 1.0, 1.0, 0.0, 0.0, 1.0, 0.0, 1.0], 'tour_cost': 10851248.716333004, 'packing_plan_cost': 1231185.0})]"
      ]
     },
     "execution_count": 30,
     "metadata": {},
     "output_type": "execute_result"
    }
   ],
   "source": [
    "evaled_pop = []\n",
    "i = 0\n",
    "for candidate_solution in init_pop:\n",
    "    evaluate_candidate_solution_cost_pdist(candidate_solution,\n",
    "                                     a280_n1395[\"pairwise_distances\"],\n",
    "                                     a280_n1395[\"item_to_city_mapping_dict\"],\n",
    "                                     a280_n1395[\"item_weights\"],\n",
    "                                     a280_n1395[\"item_values\"],\n",
    "                                     a280_n1395[\"v_max\"],\n",
    "                                     a280_n1395[\"v_min\"],\n",
    "                                     a280_n1395[\"Q\"],\n",
    "                                     a280_n1395[\"R\"])\n",
    "    i += 1 \n",
    "    evaled_pop.append(candidate_solution)\n",
    "evaled_pop"
   ]
  },
  {
   "cell_type": "code",
   "execution_count": 31,
   "metadata": {},
   "outputs": [],
   "source": [
    "c1, c2 = OX1_tour_crossover(init_pop[0], init_pop[1])"
   ]
  },
  {
   "cell_type": "code",
   "execution_count": 32,
   "metadata": {},
   "outputs": [
    {
     "data": {
      "text/plain": [
       "[struct({'tour': [75, 238, 92, 100, 19, 32, 156, 140, 209, 14, 174, 124, 5, 194, 200, 98, 268, 138, 190, 24, 85, 136, 249, 105, 248, 241, 148, 109, 113, 26, 16, 277, 188, 234, 135, 59, 21, 231, 78, 23, 53, 141, 39, 266, 25, 158, 82, 146, 114, 133, 242, 169, 219, 273, 175, 76, 46, 83, 43, 119, 217, 41, 104, 96, 2, 55, 240, 181, 88, 151, 189, 87, 270, 160, 184, 52, 9, 201, 36, 176, 164, 167, 147, 191, 239, 73, 107, 256, 214, 51, 48, 279, 37, 115, 64, 143, 10, 11, 259, 0, 71, 15, 227, 134, 276, 101, 57, 179, 84, 235, 155, 246, 187, 47, 208, 220, 31, 7, 263, 178, 199, 50, 272, 13, 152, 20, 168, 129, 70, 261, 63, 177, 165, 252, 29, 94, 233, 269, 33, 130, 56, 274, 139, 236, 171, 150, 144, 278, 125, 65, 111, 90, 226, 127, 173, 224, 162, 42, 22, 186, 121, 228, 215, 244, 8, 49, 1, 72, 163, 265, 183, 255, 68, 149, 251, 230, 193, 210, 108, 132, 118, 262, 123, 54, 157, 243, 222, 216, 170, 120, 27, 106, 34, 232, 69, 202, 185, 116, 99, 257, 247, 145, 172, 275, 159, 225, 258, 44, 86, 221, 103, 245, 18, 237, 60, 30, 128, 260, 212, 95, 79, 218, 45, 153, 198, 204, 28, 196, 126, 166, 112, 206, 122, 223, 3, 4, 102, 253, 40, 35, 213, 93, 110, 61, 97, 91, 250, 161, 12, 17, 137, 192, 62, 77, 80, 89, 197, 271, 195, 264, 207, 6, 205, 182, 131, 67, 229, 211, 38, 154, 267, 203, 66, 142, 117, 180, 74, 58, 81, 254], 'packing_plan': [1.0, 0.0, 1.0, 0.0, 0.0, 0.0, 1.0, 1.0, 0.0, 1.0, 0.0, 1.0, 0.0, 0.0, 1.0, 0.0, 1.0, 1.0, 0.0, 0.0, 1.0, 0.0, 1.0, 0.0, 0.0, 0.0, 1.0, 0.0, 0.0, 1.0, 0.0, 0.0, 1.0, 0.0, 0.0, 1.0, 0.0, 0.0, 0.0, 0.0, 1.0, 1.0, 0.0, 0.0, 1.0, 0.0, 0.0, 1.0, 0.0, 0.0, 1.0, 0.0, 1.0, 1.0, 0.0, 0.0, 0.0, 0.0, 1.0, 0.0, 0.0, 0.0, 1.0, 0.0, 1.0, 0.0, 0.0, 0.0, 0.0, 0.0, 1.0, 0.0, 1.0, 1.0, 1.0, 0.0, 1.0, 0.0, 0.0, 0.0, 0.0, 0.0, 1.0, 0.0, 0.0, 0.0, 1.0, 1.0, 0.0, 0.0, 0.0, 0.0, 0.0, 0.0, 0.0, 0.0, 1.0, 0.0, 0.0, 0.0, 0.0, 1.0, 0.0, 0.0, 0.0, 1.0, 0.0, 1.0, 0.0, 1.0, 0.0, 0.0, 1.0, 1.0, 0.0, 0.0, 1.0, 0.0, 0.0, 1.0, 0.0, 0.0, 0.0, 0.0, 1.0, 1.0, 0.0, 0.0, 1.0, 0.0, 0.0, 1.0, 0.0, 0.0, 1.0, 1.0, 0.0, 1.0, 0.0, 1.0, 1.0, 1.0, 0.0, 0.0, 1.0, 0.0, 0.0, 0.0, 0.0, 0.0, 0.0, 1.0, 1.0, 0.0, 0.0, 1.0, 0.0, 1.0, 0.0, 1.0, 1.0, 0.0, 0.0, 1.0, 0.0, 1.0, 0.0, 1.0, 0.0, 0.0, 1.0, 1.0, 1.0, 1.0, 0.0, 1.0, 0.0, 0.0, 0.0, 1.0, 1.0, 1.0, 0.0, 0.0, 0.0, 1.0, 0.0, 0.0, 0.0, 0.0, 0.0, 1.0, 1.0, 0.0, 0.0, 0.0, 0.0, 1.0, 1.0, 0.0, 0.0, 0.0, 0.0, 0.0, 1.0, 1.0, 0.0, 1.0, 1.0, 1.0, 0.0, 0.0, 0.0, 0.0, 0.0, 0.0, 0.0, 1.0, 1.0, 0.0, 0.0, 0.0, 0.0, 1.0, 0.0, 0.0, 1.0, 0.0, 0.0, 0.0, 0.0, 1.0, 0.0, 0.0, 0.0, 0.0, 0.0, 0.0, 0.0, 0.0, 1.0, 0.0, 0.0, 0.0, 0.0, 1.0, 0.0, 0.0, 0.0, 1.0, 0.0, 1.0, 0.0, 0.0, 1.0, 0.0, 1.0, 0.0, 0.0, 0.0, 1.0, 1.0, 0.0, 0.0, 0.0, 0.0, 0.0, 0.0, 0.0, 0.0, 1.0, 0.0, 1.0, 0.0, 1.0, 1.0, 1.0, 0.0, 1.0, 1.0, 0.0, 0.0, 0.0, 1.0, 1.0, 0.0, 0.0, 1.0, 0.0, 1.0, 0.0, 0.0, 1.0, 0.0, 1.0, 0.0, 1.0, 0.0, 0.0, 1.0, 0.0, 1.0, 0.0, 0.0, 1.0, 1.0, 1.0, 0.0, 0.0, 0.0, 1.0, 0.0, 0.0, 0.0, 1.0, 1.0, 0.0, 1.0, 0.0, 0.0, 0.0, 1.0, 0.0, 0.0, 0.0, 0.0, 1.0, 0.0, 0.0, 1.0, 0.0, 0.0, 0.0, 1.0, 1.0, 0.0, 0.0, 1.0, 0.0, 0.0, 0.0, 1.0, 0.0, 1.0, 1.0, 0.0, 0.0, 0.0, 0.0, 1.0, 0.0, 0.0, 1.0, 0.0, 0.0, 0.0, 1.0, 1.0, 0.0, 1.0, 0.0, 1.0, 0.0, 0.0, 1.0, 0.0, 1.0, 1.0, 0.0, 1.0, 1.0, 0.0, 1.0, 1.0, 1.0, 1.0, 1.0, 1.0, 0.0, 1.0, 1.0, 1.0, 1.0, 0.0, 0.0, 1.0, 1.0, 1.0, 1.0, 0.0, 0.0, 0.0, 0.0, 0.0, 1.0, 1.0, 1.0, 0.0, 1.0, 1.0, 0.0, 0.0, 1.0, 0.0, 0.0, 0.0, 0.0, 0.0, 1.0, 1.0, 1.0, 1.0, 1.0, 1.0, 0.0, 0.0, 1.0, 0.0, 0.0, 0.0, 1.0, 0.0, 1.0, 0.0, 0.0, 0.0, 1.0, 0.0, 0.0, 0.0, 1.0, 0.0, 1.0, 0.0, 0.0, 0.0, 1.0, 1.0, 0.0, 1.0, 1.0, 1.0, 0.0, 1.0, 0.0, 0.0, 0.0, 0.0, 1.0, 1.0, 0.0, 1.0, 0.0, 0.0, 0.0, 0.0, 1.0, 1.0, 1.0, 0.0, 1.0, 1.0, 1.0, 1.0, 0.0, 1.0, 0.0, 0.0, 1.0, 0.0, 0.0, 1.0, 0.0, 1.0, 1.0, 0.0, 0.0, 1.0, 1.0, 1.0, 0.0, 0.0, 0.0, 0.0, 0.0, 1.0, 0.0, 1.0, 1.0, 1.0, 1.0, 1.0, 0.0, 1.0, 1.0, 0.0, 1.0, 1.0, 0.0, 1.0, 1.0, 0.0, 1.0, 1.0, 0.0, 1.0, 0.0, 0.0, 1.0, 0.0, 1.0, 0.0, 1.0, 0.0, 1.0, 0.0, 1.0, 0.0, 1.0, 0.0, 1.0, 1.0, 0.0, 1.0, 0.0, 1.0, 0.0, 0.0, 0.0, 0.0, 0.0, 0.0, 0.0, 0.0, 0.0, 1.0, 1.0, 1.0, 0.0, 1.0, 1.0, 0.0, 1.0, 1.0, 0.0, 0.0, 1.0, 1.0, 0.0, 0.0, 1.0, 0.0, 0.0, 0.0, 0.0, 1.0, 1.0, 1.0, 0.0, 0.0, 0.0, 1.0, 1.0, 0.0, 1.0, 0.0, 0.0, 1.0, 0.0, 1.0, 1.0, 0.0, 0.0, 0.0, 1.0, 1.0, 0.0, 1.0, 1.0, 0.0, 1.0, 0.0, 1.0, 0.0, 0.0, 1.0, 1.0, 1.0, 0.0, 0.0, 1.0, 1.0, 0.0, 1.0, 0.0, 0.0, 1.0, 0.0, 0.0, 0.0, 0.0, 0.0, 0.0, 1.0, 0.0, 0.0, 0.0, 1.0, 0.0, 0.0, 0.0, 0.0, 0.0, 1.0, 1.0, 0.0, 0.0, 0.0, 1.0, 0.0, 0.0, 0.0, 1.0, 0.0, 0.0, 0.0, 1.0, 0.0, 0.0, 0.0, 0.0, 1.0, 1.0, 0.0, 0.0, 0.0, 0.0, 0.0, 1.0, 0.0, 0.0, 0.0, 0.0, 1.0, 0.0, 1.0, 1.0, 0.0, 0.0, 0.0, 0.0, 1.0, 0.0, 0.0, 0.0, 1.0, 0.0, 1.0, 0.0, 0.0, 0.0, 0.0, 1.0, 0.0, 0.0, 0.0, 0.0, 1.0, 0.0, 1.0, 0.0, 0.0, 1.0, 1.0, 1.0, 1.0, 0.0, 0.0, 0.0, 0.0, 1.0, 0.0, 0.0, 1.0, 0.0, 0.0, 0.0, 0.0, 0.0, 0.0, 1.0, 0.0, 0.0, 1.0, 1.0, 0.0, 0.0, 1.0, 1.0, 1.0, 1.0, 0.0, 1.0, 0.0, 1.0, 0.0, 1.0, 1.0, 1.0, 1.0, 0.0, 1.0, 1.0, 0.0, 1.0, 1.0, 1.0, 1.0, 0.0, 0.0, 1.0, 1.0, 0.0, 0.0, 0.0, 0.0, 0.0, 0.0, 0.0, 0.0, 0.0, 0.0, 1.0, 0.0, 0.0, 1.0, 1.0, 0.0, 0.0, 1.0, 1.0, 1.0, 0.0, 0.0, 0.0, 1.0, 0.0, 0.0, 1.0, 0.0, 0.0, 1.0, 1.0, 1.0, 0.0, 1.0, 0.0, 0.0, 0.0, 1.0, 1.0, 1.0, 1.0, 0.0, 0.0, 1.0, 0.0, 1.0, 0.0, 0.0, 0.0, 1.0, 0.0, 0.0, 0.0, 0.0, 1.0, 1.0, 0.0, 0.0, 1.0, 0.0, 1.0, 1.0, 0.0, 1.0, 0.0, 1.0, 0.0, 0.0, 0.0, 1.0, 0.0, 0.0, 1.0, 0.0, 0.0, 0.0, 0.0, 1.0, 0.0, 0.0, 1.0, 1.0, 0.0, 1.0, 1.0, 0.0, 0.0, 0.0, 0.0, 0.0, 1.0, 0.0, 1.0, 0.0, 0.0, 0.0, 0.0, 0.0, 0.0, 0.0, 0.0, 0.0, 0.0, 0.0, 1.0, 1.0, 1.0, 0.0, 0.0, 1.0, 0.0, 0.0, 0.0, 1.0, 1.0, 0.0, 0.0, 0.0, 1.0, 0.0, 1.0, 1.0, 0.0, 1.0, 1.0, 1.0, 1.0, 1.0, 0.0, 0.0, 1.0, 1.0, 0.0, 1.0, 0.0, 0.0, 0.0, 1.0, 1.0, 0.0, 1.0, 0.0, 0.0, 1.0, 0.0, 0.0, 0.0, 0.0, 0.0, 1.0, 0.0, 1.0, 1.0, 1.0, 0.0, 0.0, 0.0, 1.0, 1.0, 0.0, 1.0, 0.0, 1.0, 0.0, 1.0, 0.0, 0.0, 1.0, 0.0, 1.0, 0.0, 1.0, 0.0, 0.0, 1.0, 0.0, 1.0, 0.0, 1.0, 1.0, 0.0, 0.0, 0.0, 0.0, 1.0, 0.0, 1.0, 0.0, 0.0, 0.0, 0.0, 1.0, 0.0, 0.0, 0.0, 0.0, 0.0, 1.0, 1.0, 1.0, 0.0, 1.0, 1.0, 0.0, 0.0, 0.0, 1.0, 1.0, 1.0, 0.0, 0.0, 0.0, 1.0, 0.0, 1.0, 1.0, 0.0, 0.0, 0.0, 0.0, 0.0, 1.0, 0.0, 0.0, 0.0, 0.0, 1.0, 0.0, 1.0, 0.0, 0.0, 0.0, 1.0, 1.0, 1.0, 0.0, 0.0, 1.0, 1.0, 0.0, 0.0, 1.0, 1.0, 0.0, 0.0, 1.0, 0.0, 0.0, 1.0, 0.0, 0.0, 0.0, 0.0, 0.0, 0.0, 0.0, 0.0, 1.0, 0.0, 1.0, 1.0, 0.0, 1.0, 1.0, 0.0, 1.0, 0.0, 1.0, 1.0, 1.0, 1.0, 0.0, 0.0, 1.0, 1.0, 1.0, 1.0, 0.0, 1.0, 1.0, 1.0, 0.0, 1.0, 1.0, 0.0, 1.0, 0.0, 1.0, 1.0, 1.0, 0.0, 0.0, 1.0, 1.0, 0.0, 0.0, 1.0, 0.0, 0.0, 0.0, 1.0, 0.0, 1.0, 1.0, 1.0, 1.0, 0.0, 0.0, 0.0, 0.0, 1.0, 1.0, 1.0, 1.0, 1.0, 0.0, 0.0, 1.0, 0.0, 0.0, 0.0, 1.0, 0.0, 1.0, 0.0, 1.0, 1.0, 0.0, 0.0, 0.0, 1.0, 1.0, 0.0, 0.0, 0.0, 1.0, 1.0, 0.0, 1.0, 0.0, 1.0, 0.0, 0.0, 1.0, 0.0, 0.0, 0.0, 1.0, 0.0, 0.0, 1.0, 0.0, 1.0, 0.0, 1.0, 1.0, 0.0, 0.0, 0.0, 1.0, 0.0, 0.0, 0.0, 1.0, 1.0, 1.0, 1.0, 0.0, 0.0, 1.0, 1.0, 0.0, 1.0, 0.0, 1.0, 1.0, 1.0, 1.0, 1.0, 0.0, 0.0, 1.0, 1.0, 0.0, 1.0, 1.0, 1.0, 0.0, 0.0, 1.0, 0.0, 0.0, 0.0, 0.0, 0.0, 1.0, 1.0, 1.0, 1.0, 0.0, 1.0, 1.0, 0.0, 1.0, 0.0, 0.0, 0.0, 0.0, 0.0, 0.0, 0.0, 0.0, 1.0, 0.0, 1.0, 0.0, 1.0, 0.0, 0.0, 0.0, 1.0, 0.0, 0.0, 1.0, 0.0, 0.0, 0.0, 0.0, 1.0, 0.0, 1.0, 0.0, 1.0, 1.0, 1.0, 1.0, 0.0, 1.0, 0.0, 0.0, 0.0, 1.0, 0.0, 0.0, 0.0, 0.0, 0.0, 1.0, 0.0, 0.0, 0.0, 1.0, 1.0, 1.0, 1.0, 1.0, 0.0, 0.0, 0.0, 1.0, 1.0, 0.0, 1.0, 0.0, 1.0, 1.0, 1.0, 1.0, 0.0, 0.0, 0.0, 1.0, 0.0, 0.0, 0.0, 1.0, 0.0, 1.0, 0.0, 1.0, 0.0, 0.0, 0.0, 0.0, 0.0, 0.0, 1.0, 1.0, 1.0, 0.0, 1.0, 0.0, 0.0, 0.0, 0.0, 1.0, 0.0, 0.0, 1.0, 0.0, 1.0, 0.0, 0.0, 0.0, 0.0, 0.0, 1.0, 1.0, 0.0, 0.0, 0.0, 1.0, 1.0, 1.0, 0.0, 1.0, 1.0, 0.0, 0.0, 0.0, 0.0, 0.0, 0.0, 1.0, 0.0, 1.0, 0.0, 0.0, 0.0, 0.0, 1.0, 0.0, 0.0, 1.0, 1.0, 0.0, 1.0, 0.0, 1.0, 1.0, 1.0, 1.0, 1.0, 0.0, 1.0, 0.0, 0.0, 1.0, 1.0, 1.0, 0.0, 1.0, 0.0, 0.0, 1.0, 0.0, 0.0, 1.0, 0.0, 0.0, 1.0, 1.0, 0.0, 0.0, 0.0, 0.0, 1.0, 1.0, 1.0, 1.0, 1.0, 0.0, 1.0, 1.0, 0.0, 1.0, 1.0, 0.0, 1.0, 0.0, 0.0, 1.0, 1.0, 1.0, 0.0, 0.0, 0.0, 1.0, 0.0, 1.0, 0.0, 0.0, 0.0, 0.0, 0.0, 0.0, 1.0, 1.0, 1.0, 0.0, 0.0, 0.0, 1.0, 1.0, 1.0, 1.0, 1.0, 0.0, 0.0, 1.0, 1.0, 1.0, 0.0, 0.0, 0.0, 0.0, 0.0, 0.0, 0.0, 0.0, 1.0, 1.0, 0.0, 0.0, 1.0, 0.0, 1.0, 0.0, 0.0, 0.0, 1.0, 1.0, 0.0, 0.0, 1.0, 1.0, 0.0, 1.0, 1.0, 1.0, 0.0, 0.0, 1.0, 0.0, 1.0, 1.0, 0.0, 1.0, 1.0, 1.0, 0.0, 1.0, 1.0, 0.0, 1.0, 1.0, 0.0, 0.0, 0.0, 1.0, 0.0, 1.0, 0.0, 0.0, 0.0, 0.0, 1.0, 0.0, 0.0, 1.0, 0.0, 1.0, 0.0, 0.0, 0.0, 1.0, 1.0, 0.0, 0.0, 0.0, 1.0, 1.0, 1.0, 0.0, 1.0, 1.0, 0.0, 0.0, 0.0, 1.0, 1.0, 0.0, 0.0, 0.0, 0.0, 1.0, 1.0, 1.0, 1.0, 0.0, 0.0, 1.0, 1.0, 0.0, 1.0, 1.0, 0.0, 1.0, 0.0, 0.0, 0.0, 0.0, 1.0, 0.0, 1.0, 1.0, 1.0, 1.0, 0.0, 0.0, 1.0, 0.0, 1.0, 0.0, 0.0, 1.0, 1.0, 0.0, 0.0, 0.0, 0.0, 1.0, 1.0, 1.0, 0.0, 0.0, 0.0, 1.0, 1.0, 1.0, 1.0, 1.0, 1.0, 0.0, 0.0, 0.0, 0.0, 0.0, 0.0, 1.0, 0.0, 0.0, 0.0, 1.0, 1.0, 0.0, 0.0, 0.0, 0.0, 0.0, 1.0, 0.0, 1.0, 0.0, 1.0, 0.0, 1.0, 0.0, 0.0, 0.0, 0.0, 0.0, 1.0, 0.0, 0.0, 0.0, 0.0, 1.0, 0.0, 0.0, 0.0, 1.0, 0.0, 0.0, 1.0, 0.0, 0.0, 0.0, 0.0, 1.0, 1.0, 1.0, 1.0, 1.0, 0.0, 1.0, 0.0, 0.0, 0.0, 1.0, 1.0, 0.0, 0.0, 0.0, 1.0, 0.0, 0.0, 1.0, 0.0, 0.0, 1.0, 1.0, 0.0, 1.0, 0.0, 0.0, 0.0, 0.0, 1.0, 0.0, 1.0, 1.0, 0.0, 1.0, 0.0, 0.0, 0.0, 0.0, 1.0, 1.0, 1.0, 1.0, 1.0, 1.0, 1.0, 0.0, 0.0, 1.0, 0.0, 0.0, 0.0, 1.0, 1.0, 1.0, 0.0, 1.0, 1.0, 0.0, 1.0, 1.0, 0.0, 0.0, 0.0, 0.0, 1.0, 0.0, 1.0, 0.0, 0.0, 0.0, 1.0, 0.0, 0.0, 1.0, 0.0, 0.0, 0.0, 1.0, 1.0, 1.0, 0.0, 1.0, 1.0, 1.0, 0.0, 0.0, 0.0, 0.0, 0.0, 0.0, 1.0, 0.0, 0.0, 1.0, 0.0, 1.0, 0.0, 1.0, 1.0, 1.0, 0.0, 1.0, 1.0, 0.0, 0.0, 0.0, 1.0, 1.0, 1.0, 0.0, 0.0, 0.0, 0.0, 0.0, 0.0, 1.0, 0.0, 1.0, 1.0, 0.0, 0.0, 0.0, 1.0, 1.0, 0.0, 0.0, 0.0, 0.0, 1.0, 1.0, 1.0, 0.0, 1.0, 0.0, 1.0, 0.0, 1.0, 0.0, 1.0, 1.0, 1.0, 0.0, 1.0, 1.0, 0.0, 1.0, 0.0, 1.0, 1.0, 0.0, 1.0, 1.0, 1.0, 1.0, 0.0, 1.0, 0.0, 0.0, 0.0, 0.0, 1.0, 0.0, 1.0, 1.0, 0.0, 0.0, 0.0, 1.0, 0.0, 0.0, 1.0, 0.0, 0.0, 1.0, 1.0, 0.0, 1.0, 0.0, 1.0, 0.0, 0.0, 1.0, 0.0, 0.0, 1.0, 1.0, 1.0, 0.0, 1.0, 0.0, 0.0, 1.0, 0.0, 0.0, 0.0, 0.0, 0.0, 0.0, 0.0, 0.0, 0.0, 1.0, 0.0, 1.0, 0.0, 0.0, 0.0, 1.0, 1.0, 0.0, 0.0, 0.0, 1.0, 1.0, 1.0, 1.0, 0.0, 1.0, 1.0, 0.0, 0.0, 0.0, 0.0, 1.0, 0.0, 0.0, 1.0, 1.0, 1.0, 0.0, 0.0, 1.0, 0.0, 0.0, 0.0, 1.0, 0.0, 1.0, 0.0, 1.0, 0.0, 0.0, 0.0, 0.0, 1.0, 1.0, 0.0, 0.0, 1.0, 1.0, 0.0, 1.0, 1.0, 0.0, 1.0, 0.0, 1.0, 1.0, 1.0, 1.0, 0.0, 0.0, 1.0, 0.0, 1.0, 0.0, 0.0, 1.0, 1.0, 1.0, 1.0, 1.0, 1.0, 0.0, 1.0, 1.0, 1.0, 0.0, 0.0, 0.0, 0.0, 1.0, 0.0, 1.0, 0.0, 0.0, 1.0, 0.0, 1.0, 0.0, 1.0, 0.0, 0.0, 0.0, 1.0, 1.0, 0.0, 0.0, 0.0, 1.0, 1.0, 0.0, 1.0, 1.0, 0.0, 0.0, 1.0, 1.0, 0.0, 0.0, 0.0, 1.0, 1.0, 0.0, 0.0, 0.0, 0.0, 1.0, 0.0, 1.0, 0.0, 1.0, 0.0, 0.0, 1.0, 0.0, 0.0, 0.0, 0.0, 0.0, 1.0, 0.0, 0.0, 1.0, 0.0, 0.0, 0.0, 0.0, 1.0, 0.0, 0.0, 0.0, 0.0, 1.0, 1.0, 0.0, 1.0, 0.0, 1.0, 0.0, 0.0, 1.0, 0.0, 0.0, 0.0, 0.0, 1.0, 0.0, 0.0, 1.0, 1.0, 0.0, 0.0, 1.0, 1.0, 0.0, 0.0, 0.0, 1.0, 0.0, 1.0, 0.0, 1.0, 0.0, 0.0, 1.0, 1.0, 0.0, 0.0, 0.0, 0.0, 0.0, 0.0, 1.0, 0.0, 1.0, 0.0, 0.0, 0.0, 1.0, 0.0, 0.0, 0.0, 1.0, 0.0, 1.0, 0.0, 1.0, 1.0, 0.0, 0.0, 0.0, 1.0, 1.0, 0.0, 1.0, 0.0, 0.0, 1.0, 1.0, 1.0, 1.0, 0.0, 0.0, 1.0, 0.0, 1.0, 1.0, 1.0, 1.0, 0.0, 0.0, 0.0, 1.0, 0.0, 0.0, 1.0, 1.0, 0.0, 0.0, 0.0, 0.0, 1.0, 1.0, 0.0, 0.0, 0.0, 0.0, 0.0, 1.0, 1.0, 0.0, 0.0, 0.0, 1.0, 0.0, 0.0, 0.0, 0.0, 0.0, 0.0, 1.0, 0.0, 1.0, 1.0, 1.0, 1.0, 0.0, 0.0, 1.0, 0.0, 1.0, 1.0, 0.0, 0.0, 0.0, 1.0, 0.0, 1.0, 1.0, 0.0, 0.0, 1.0, 0.0, 1.0, 0.0, 0.0, 0.0, 0.0, 1.0, 0.0, 1.0, 0.0, 1.0, 1.0, 1.0, 0.0, 0.0, 0.0, 0.0, 0.0, 0.0, 0.0, 0.0, 0.0, 0.0, 1.0, 0.0, 0.0, 0.0, 0.0, 0.0, 0.0, 0.0, 1.0, 0.0, 1.0, 1.0, 0.0, 1.0, 0.0, 0.0, 0.0, 0.0, 1.0, 1.0, 1.0, 1.0, 0.0, 0.0, 0.0, 0.0, 0.0, 1.0, 0.0, 0.0, 1.0, 0.0, 1.0, 1.0, 0.0, 1.0, 0.0, 1.0, 1.0, 1.0, 1.0, 0.0, 1.0, 1.0, 0.0, 1.0, 0.0, 0.0, 1.0, 1.0, 1.0, 0.0, 1.0, 0.0, 1.0, 0.0, 1.0, 1.0, 1.0, 1.0, 0.0, 0.0, 0.0, 0.0, 1.0, 1.0, 1.0, 0.0, 1.0, 1.0, 0.0, 1.0, 0.0, 0.0, 1.0, 0.0, 1.0, 0.0, 0.0, 1.0, 1.0, 1.0, 0.0, 0.0, 1.0, 1.0, 0.0, 0.0, 0.0, 0.0, 0.0, 1.0, 0.0, 1.0, 1.0, 1.0, 1.0, 0.0, 0.0, 0.0, 0.0, 0.0, 0.0, 1.0, 1.0, 1.0, 1.0, 0.0, 1.0, 0.0, 0.0, 0.0, 1.0, 1.0, 0.0, 1.0, 0.0, 0.0, 1.0, 1.0, 0.0, 0.0, 1.0, 1.0, 0.0, 1.0, 0.0, 1.0, 1.0, 1.0, 1.0, 1.0, 0.0, 1.0, 0.0, 0.0, 0.0, 1.0, 0.0, 0.0, 1.0, 1.0, 0.0, 1.0, 0.0, 0.0, 1.0, 0.0, 1.0, 1.0, 0.0, 0.0, 1.0, 1.0, 0.0, 0.0, 1.0, 0.0, 1.0, 0.0, 0.0, 1.0, 0.0, 1.0, 1.0, 1.0, 1.0, 0.0, 0.0, 0.0, 0.0, 0.0, 0.0, 0.0, 0.0, 0.0, 0.0, 1.0, 1.0, 1.0, 1.0, 1.0, 0.0, 1.0, 0.0, 1.0, 1.0, 0.0, 0.0, 1.0, 1.0, 1.0, 0.0, 1.0, 0.0, 1.0, 1.0, 1.0, 0.0, 0.0, 0.0, 1.0, 0.0, 0.0, 1.0, 0.0, 0.0, 0.0, 0.0, 1.0, 1.0, 1.0, 1.0, 1.0, 1.0, 1.0, 1.0, 0.0, 0.0, 1.0, 0.0, 0.0, 1.0, 0.0, 1.0, 1.0, 1.0, 1.0, 1.0, 0.0, 0.0, 0.0, 0.0, 1.0, 1.0, 0.0, 0.0, 0.0, 1.0, 0.0, 0.0, 1.0, 0.0, 1.0, 0.0, 1.0, 0.0, 1.0, 0.0, 1.0, 0.0, 0.0, 0.0, 0.0, 1.0, 1.0, 0.0, 0.0, 0.0, 1.0, 0.0, 0.0, 1.0, 1.0, 1.0, 1.0, 0.0, 0.0, 0.0, 1.0, 0.0, 1.0, 1.0, 1.0, 0.0, 0.0, 0.0, 1.0, 1.0, 0.0, 0.0, 0.0, 1.0, 1.0, 1.0, 0.0, 0.0, 1.0, 1.0, 0.0, 0.0, 0.0, 1.0, 1.0, 1.0, 0.0, 0.0, 0.0, 0.0, 1.0, 1.0, 0.0, 0.0, 1.0, 0.0, 0.0, 0.0, 1.0, 1.0, 1.0, 1.0, 0.0, 1.0, 0.0, 1.0, 0.0, 1.0, 1.0, 0.0, 0.0, 0.0, 0.0, 1.0, 1.0, 1.0, 0.0, 1.0, 0.0, 0.0, 1.0, 0.0, 0.0, 0.0, 1.0, 0.0, 0.0, 1.0, 0.0, 0.0, 1.0, 0.0, 1.0, 1.0, 0.0, 0.0, 1.0, 1.0, 1.0, 0.0, 1.0, 1.0, 0.0, 0.0, 0.0, 0.0, 1.0, 1.0, 1.0, 0.0, 0.0, 0.0, 1.0, 0.0, 1.0, 0.0, 1.0, 0.0, 1.0, 0.0, 0.0, 1.0, 1.0, 0.0, 1.0, 1.0, 0.0, 1.0, 1.0, 0.0, 1.0, 0.0, 0.0, 1.0, 0.0, 1.0, 0.0, 1.0, 0.0, 1.0, 1.0, 0.0, 0.0, 0.0, 1.0, 0.0, 1.0, 0.0, 0.0, 1.0, 0.0, 0.0, 1.0, 0.0, 1.0, 1.0, 1.0, 1.0, 0.0, 0.0, 1.0, 1.0, 0.0, 0.0, 1.0, 1.0, 0.0, 0.0, 0.0, 0.0, 1.0, 0.0, 1.0, 1.0, 1.0, 1.0, 0.0, 0.0, 1.0, 0.0, 1.0, 0.0, 0.0, 0.0, 1.0, 1.0, 0.0, 0.0, 0.0, 0.0, 1.0, 0.0, 0.0, 0.0, 0.0, 0.0, 0.0, 1.0, 0.0, 0.0, 0.0, 1.0, 0.0, 0.0, 1.0, 0.0, 1.0, 0.0, 0.0, 0.0, 0.0, 1.0, 0.0, 0.0, 1.0, 1.0, 1.0, 0.0, 1.0, 0.0, 0.0, 1.0, 0.0, 1.0, 1.0, 1.0, 0.0, 1.0, 1.0, 1.0, 0.0, 1.0, 1.0, 1.0, 0.0, 0.0, 0.0, 0.0, 1.0, 0.0, 0.0, 1.0, 1.0, 0.0, 1.0, 0.0, 1.0, 0.0, 0.0, 0.0, 0.0, 0.0, 1.0, 1.0, 0.0, 1.0, 0.0, 1.0, 0.0, 0.0, 1.0, 0.0, 0.0, 1.0, 0.0, 1.0, 1.0, 1.0, 0.0, 0.0, 0.0, 0.0, 0.0, 0.0, 1.0, 1.0, 0.0, 1.0, 0.0, 0.0, 1.0, 1.0, 1.0, 1.0, 0.0, 1.0, 0.0, 0.0, 1.0, 0.0, 0.0, 0.0, 0.0, 0.0, 0.0, 0.0, 0.0, 1.0, 0.0, 1.0, 0.0, 1.0, 0.0, 1.0, 1.0, 0.0, 0.0, 0.0, 0.0, 0.0, 1.0, 1.0, 0.0, 1.0, 0.0, 1.0, 0.0, 0.0, 1.0, 1.0, 1.0, 1.0, 1.0, 1.0, 1.0, 1.0, 1.0, 0.0, 1.0, 0.0, 0.0, 0.0, 0.0, 1.0, 0.0, 1.0, 0.0, 1.0, 0.0, 0.0, 1.0, 1.0, 0.0, 1.0, 1.0, 0.0, 0.0, 0.0, 1.0, 0.0, 1.0, 0.0, 0.0, 1.0, 0.0, 0.0, 1.0, 1.0, 0.0, 0.0, 1.0, 0.0, 1.0, 1.0, 1.0, 0.0, 1.0, 1.0, 0.0, 1.0, 1.0, 1.0, 1.0, 0.0, 0.0, 0.0, 0.0, 1.0, 1.0, 1.0, 1.0, 0.0, 0.0, 0.0, 0.0, 1.0, 1.0, 1.0, 0.0, 0.0, 0.0, 0.0, 0.0, 0.0, 0.0, 0.0, 1.0, 1.0, 0.0, 0.0, 1.0, 0.0, 0.0, 1.0, 1.0, 1.0, 0.0, 1.0, 1.0, 0.0, 0.0, 0.0, 1.0, 0.0, 1.0, 1.0, 1.0, 0.0, 0.0, 0.0, 0.0, 0.0, 1.0, 0.0, 0.0, 0.0, 0.0, 1.0, 0.0, 0.0, 0.0, 0.0, 1.0, 0.0, 0.0, 1.0, 0.0, 0.0, 1.0, 0.0, 1.0, 1.0, 1.0, 1.0, 0.0, 1.0, 0.0, 1.0, 0.0, 1.0, 0.0, 1.0, 1.0, 0.0, 0.0, 0.0, 0.0, 1.0, 0.0, 1.0, 0.0, 0.0, 0.0, 1.0, 1.0, 0.0, 0.0, 0.0, 1.0, 0.0, 0.0, 1.0, 1.0, 0.0, 1.0, 1.0, 1.0, 0.0, 0.0, 1.0, 1.0, 0.0, 0.0, 0.0, 0.0, 1.0, 1.0, 0.0, 1.0, 0.0, 0.0, 0.0, 1.0, 0.0, 1.0, 0.0, 0.0, 0.0, 1.0, 0.0, 0.0, 1.0, 1.0, 1.0, 1.0, 1.0, 0.0, 0.0, 1.0, 1.0, 0.0, 1.0, 0.0, 0.0, 1.0, 0.0, 1.0, 1.0, 0.0, 1.0, 0.0, 1.0, 0.0, 0.0, 0.0, 1.0, 1.0, 1.0, 0.0, 0.0, 1.0, 0.0, 0.0], 'tour_cost': 8372586.815250767, 'packing_plan_cost': 797994.0}),\n",
       " struct({'tour': [37, 261, 63, 246, 190, 177, 165, 252, 268, 29, 94, 75, 119, 233, 269, 33, 101, 130, 56, 274, 76, 139, 236, 171, 150, 144, 278, 125, 65, 111, 90, 226, 127, 173, 167, 224, 162, 189, 42, 136, 22, 186, 24, 32, 121, 19, 2, 228, 23, 194, 48, 215, 244, 242, 26, 21, 70, 8, 49, 1, 14, 72, 85, 163, 265, 9, 235, 50, 183, 140, 255, 11, 239, 68, 149, 251, 184, 230, 193, 51, 210, 108, 132, 107, 118, 25, 262, 123, 73, 151, 54, 129, 157, 217, 243, 222, 201, 216, 170, 120, 27, 59, 106, 214, 263, 227, 34, 155, 220, 175, 256, 100, 138, 82, 232, 69, 178, 273, 147, 202, 20, 160, 13, 219, 168, 185, 199, 231, 116, 238, 92, 156, 209, 174, 124, 5, 200, 98, 249, 105, 248, 241, 148, 109, 113, 16, 277, 188, 234, 135, 78, 53, 141, 39, 266, 158, 146, 114, 133, 169, 46, 83, 43, 41, 104, 96, 55, 240, 181, 88, 87, 270, 52, 36, 176, 164, 191, 279, 115, 64, 143, 10, 259, 0, 71, 15, 134, 276, 57, 179, 84, 187, 47, 208, 31, 7, 272, 152, 35, 271, 40, 18, 213, 28, 122, 264, 205, 6, 267, 93, 153, 86, 60, 12, 126, 275, 225, 245, 221, 145, 89, 211, 112, 91, 218, 192, 61, 99, 180, 161, 137, 17, 195, 3, 117, 103, 102, 253, 254, 128, 182, 38, 97, 131, 142, 237, 166, 159, 62, 81, 223, 110, 203, 67, 80, 260, 198, 250, 154, 30, 58, 66, 4, 212, 206, 204, 257, 197, 247, 45, 95, 172, 74, 77, 207, 44, 196, 79, 258, 229], 'packing_plan': [1.0, 0.0, 1.0, 0.0, 0.0, 1.0, 1.0, 1.0, 0.0, 1.0, 1.0, 1.0, 0.0, 0.0, 1.0, 1.0, 1.0, 1.0, 1.0, 1.0, 1.0, 0.0, 1.0, 1.0, 1.0, 0.0, 1.0, 1.0, 1.0, 1.0, 1.0, 0.0, 1.0, 1.0, 0.0, 1.0, 0.0, 0.0, 0.0, 1.0, 1.0, 1.0, 0.0, 0.0, 1.0, 0.0, 1.0, 1.0, 0.0, 1.0, 1.0, 0.0, 1.0, 1.0, 0.0, 0.0, 1.0, 0.0, 1.0, 1.0, 1.0, 1.0, 1.0, 0.0, 1.0, 1.0, 0.0, 0.0, 1.0, 1.0, 1.0, 1.0, 1.0, 1.0, 1.0, 1.0, 1.0, 0.0, 0.0, 1.0, 0.0, 1.0, 1.0, 0.0, 0.0, 1.0, 1.0, 1.0, 1.0, 0.0, 1.0, 0.0, 1.0, 1.0, 0.0, 1.0, 1.0, 0.0, 1.0, 1.0, 0.0, 1.0, 1.0, 1.0, 1.0, 1.0, 0.0, 1.0, 1.0, 1.0, 1.0, 0.0, 1.0, 1.0, 1.0, 1.0, 1.0, 1.0, 0.0, 1.0, 1.0, 1.0, 0.0, 1.0, 1.0, 1.0, 0.0, 1.0, 1.0, 0.0, 1.0, 1.0, 0.0, 1.0, 1.0, 1.0, 1.0, 1.0, 0.0, 1.0, 1.0, 1.0, 1.0, 0.0, 1.0, 0.0, 0.0, 1.0, 0.0, 1.0, 1.0, 1.0, 1.0, 1.0, 0.0, 1.0, 1.0, 1.0, 1.0, 1.0, 1.0, 0.0, 1.0, 1.0, 1.0, 1.0, 1.0, 1.0, 1.0, 0.0, 1.0, 1.0, 1.0, 1.0, 0.0, 1.0, 0.0, 1.0, 1.0, 1.0, 1.0, 1.0, 0.0, 0.0, 1.0, 1.0, 1.0, 0.0, 1.0, 1.0, 0.0, 1.0, 1.0, 1.0, 1.0, 1.0, 0.0, 1.0, 1.0, 0.0, 0.0, 1.0, 0.0, 0.0, 1.0, 1.0, 0.0, 1.0, 1.0, 1.0, 0.0, 0.0, 1.0, 1.0, 0.0, 0.0, 0.0, 1.0, 1.0, 1.0, 1.0, 0.0, 0.0, 1.0, 1.0, 0.0, 1.0, 0.0, 1.0, 1.0, 0.0, 1.0, 1.0, 0.0, 0.0, 1.0, 0.0, 0.0, 0.0, 0.0, 1.0, 0.0, 0.0, 0.0, 1.0, 1.0, 0.0, 0.0, 1.0, 1.0, 0.0, 1.0, 1.0, 0.0, 1.0, 1.0, 1.0, 1.0, 1.0, 1.0, 1.0, 1.0, 1.0, 1.0, 0.0, 1.0, 0.0, 1.0, 0.0, 0.0, 1.0, 0.0, 1.0, 1.0, 1.0, 1.0, 1.0, 0.0, 1.0, 1.0, 1.0, 1.0, 0.0, 1.0, 1.0, 0.0, 0.0, 1.0, 0.0, 1.0, 1.0, 0.0, 1.0, 1.0, 1.0, 1.0, 1.0, 1.0, 0.0, 1.0, 1.0, 1.0, 0.0, 0.0, 1.0, 1.0, 1.0, 1.0, 1.0, 0.0, 1.0, 0.0, 1.0, 1.0, 1.0, 1.0, 1.0, 1.0, 1.0, 0.0, 0.0, 1.0, 0.0, 1.0, 0.0, 1.0, 1.0, 1.0, 1.0, 1.0, 1.0, 0.0, 0.0, 1.0, 1.0, 0.0, 0.0, 1.0, 1.0, 0.0, 0.0, 1.0, 1.0, 1.0, 1.0, 1.0, 1.0, 1.0, 1.0, 1.0, 0.0, 0.0, 1.0, 1.0, 1.0, 0.0, 1.0, 1.0, 0.0, 1.0, 1.0, 1.0, 1.0, 0.0, 1.0, 1.0, 1.0, 1.0, 1.0, 1.0, 1.0, 1.0, 1.0, 1.0, 1.0, 1.0, 1.0, 1.0, 1.0, 1.0, 1.0, 1.0, 1.0, 0.0, 0.0, 1.0, 1.0, 1.0, 1.0, 1.0, 0.0, 0.0, 1.0, 0.0, 1.0, 1.0, 1.0, 0.0, 1.0, 1.0, 0.0, 0.0, 1.0, 0.0, 0.0, 1.0, 1.0, 1.0, 1.0, 1.0, 1.0, 1.0, 1.0, 1.0, 0.0, 1.0, 1.0, 1.0, 1.0, 0.0, 1.0, 0.0, 1.0, 0.0, 0.0, 1.0, 1.0, 1.0, 1.0, 1.0, 1.0, 1.0, 1.0, 1.0, 0.0, 0.0, 1.0, 1.0, 0.0, 1.0, 1.0, 1.0, 0.0, 1.0, 0.0, 1.0, 1.0, 1.0, 1.0, 1.0, 1.0, 1.0, 1.0, 1.0, 0.0, 1.0, 1.0, 1.0, 1.0, 1.0, 1.0, 1.0, 1.0, 1.0, 1.0, 1.0, 0.0, 0.0, 1.0, 1.0, 0.0, 1.0, 0.0, 1.0, 1.0, 1.0, 0.0, 1.0, 1.0, 1.0, 1.0, 1.0, 1.0, 1.0, 1.0, 1.0, 1.0, 1.0, 1.0, 1.0, 1.0, 1.0, 0.0, 1.0, 1.0, 1.0, 1.0, 1.0, 0.0, 1.0, 1.0, 1.0, 1.0, 1.0, 1.0, 1.0, 0.0, 1.0, 1.0, 1.0, 1.0, 1.0, 1.0, 1.0, 1.0, 0.0, 1.0, 0.0, 1.0, 0.0, 1.0, 1.0, 1.0, 1.0, 1.0, 1.0, 0.0, 1.0, 0.0, 1.0, 1.0, 0.0, 1.0, 0.0, 0.0, 1.0, 1.0, 1.0, 1.0, 1.0, 1.0, 1.0, 1.0, 1.0, 0.0, 1.0, 1.0, 1.0, 1.0, 0.0, 1.0, 0.0, 1.0, 1.0, 0.0, 1.0, 1.0, 1.0, 1.0, 0.0, 1.0, 1.0, 1.0, 0.0, 1.0, 1.0, 0.0, 1.0, 1.0, 1.0, 1.0, 1.0, 0.0, 1.0, 1.0, 1.0, 0.0, 1.0, 1.0, 1.0, 1.0, 1.0, 1.0, 0.0, 1.0, 1.0, 1.0, 1.0, 0.0, 0.0, 1.0, 1.0, 1.0, 1.0, 0.0, 0.0, 1.0, 1.0, 0.0, 0.0, 1.0, 1.0, 1.0, 1.0, 1.0, 1.0, 0.0, 1.0, 1.0, 0.0, 0.0, 0.0, 1.0, 1.0, 1.0, 0.0, 1.0, 0.0, 1.0, 1.0, 1.0, 0.0, 1.0, 0.0, 0.0, 0.0, 1.0, 1.0, 0.0, 0.0, 0.0, 1.0, 1.0, 1.0, 0.0, 0.0, 0.0, 0.0, 1.0, 0.0, 1.0, 1.0, 1.0, 1.0, 0.0, 1.0, 1.0, 0.0, 0.0, 0.0, 0.0, 1.0, 0.0, 1.0, 1.0, 1.0, 1.0, 1.0, 1.0, 0.0, 0.0, 0.0, 1.0, 1.0, 1.0, 0.0, 1.0, 1.0, 1.0, 1.0, 1.0, 0.0, 1.0, 1.0, 1.0, 1.0, 0.0, 0.0, 1.0, 1.0, 1.0, 1.0, 0.0, 1.0, 0.0, 0.0, 0.0, 1.0, 0.0, 0.0, 1.0, 0.0, 1.0, 1.0, 1.0, 0.0, 1.0, 1.0, 1.0, 1.0, 1.0, 1.0, 1.0, 1.0, 1.0, 1.0, 1.0, 1.0, 1.0, 1.0, 0.0, 1.0, 1.0, 1.0, 1.0, 1.0, 1.0, 1.0, 1.0, 0.0, 1.0, 1.0, 0.0, 0.0, 0.0, 0.0, 1.0, 1.0, 0.0, 1.0, 1.0, 0.0, 1.0, 1.0, 0.0, 1.0, 1.0, 0.0, 1.0, 1.0, 1.0, 1.0, 1.0, 1.0, 0.0, 1.0, 1.0, 1.0, 1.0, 0.0, 0.0, 1.0, 1.0, 1.0, 0.0, 1.0, 1.0, 0.0, 0.0, 1.0, 1.0, 1.0, 1.0, 1.0, 1.0, 1.0, 1.0, 1.0, 0.0, 1.0, 1.0, 1.0, 0.0, 1.0, 1.0, 0.0, 1.0, 1.0, 1.0, 1.0, 1.0, 0.0, 1.0, 1.0, 0.0, 1.0, 1.0, 1.0, 0.0, 1.0, 1.0, 1.0, 0.0, 1.0, 1.0, 1.0, 1.0, 0.0, 0.0, 1.0, 0.0, 0.0, 1.0, 1.0, 1.0, 1.0, 1.0, 0.0, 0.0, 0.0, 1.0, 0.0, 1.0, 0.0, 1.0, 0.0, 1.0, 0.0, 0.0, 0.0, 1.0, 0.0, 1.0, 1.0, 1.0, 0.0, 1.0, 1.0, 1.0, 0.0, 0.0, 1.0, 1.0, 0.0, 0.0, 1.0, 1.0, 0.0, 1.0, 1.0, 1.0, 0.0, 1.0, 1.0, 1.0, 1.0, 1.0, 1.0, 1.0, 1.0, 1.0, 1.0, 1.0, 1.0, 0.0, 1.0, 0.0, 0.0, 1.0, 1.0, 1.0, 1.0, 1.0, 0.0, 1.0, 1.0, 0.0, 0.0, 0.0, 0.0, 0.0, 1.0, 1.0, 1.0, 1.0, 1.0, 0.0, 0.0, 1.0, 1.0, 1.0, 1.0, 1.0, 1.0, 1.0, 1.0, 1.0, 0.0, 1.0, 1.0, 0.0, 1.0, 1.0, 1.0, 1.0, 0.0, 1.0, 0.0, 1.0, 1.0, 1.0, 1.0, 0.0, 1.0, 1.0, 1.0, 1.0, 0.0, 1.0, 0.0, 0.0, 0.0, 0.0, 1.0, 1.0, 0.0, 0.0, 1.0, 1.0, 1.0, 1.0, 1.0, 0.0, 1.0, 1.0, 0.0, 1.0, 1.0, 1.0, 1.0, 1.0, 1.0, 0.0, 1.0, 1.0, 1.0, 1.0, 1.0, 1.0, 0.0, 1.0, 0.0, 1.0, 1.0, 1.0, 0.0, 1.0, 0.0, 1.0, 1.0, 1.0, 1.0, 0.0, 0.0, 1.0, 1.0, 1.0, 1.0, 0.0, 1.0, 1.0, 0.0, 0.0, 1.0, 1.0, 0.0, 1.0, 1.0, 0.0, 0.0, 1.0, 0.0, 0.0, 1.0, 0.0, 0.0, 0.0, 1.0, 1.0, 1.0, 0.0, 1.0, 1.0, 0.0, 1.0, 1.0, 1.0, 1.0, 0.0, 1.0, 1.0, 1.0, 1.0, 1.0, 1.0, 1.0, 1.0, 1.0, 1.0, 0.0, 1.0, 1.0, 1.0, 1.0, 1.0, 1.0, 1.0, 1.0, 1.0, 1.0, 1.0, 1.0, 0.0, 1.0, 1.0, 1.0, 0.0, 1.0, 1.0, 0.0, 1.0, 1.0, 1.0, 0.0, 1.0, 1.0, 1.0, 1.0, 1.0, 1.0, 1.0, 1.0, 1.0, 1.0, 1.0, 1.0, 1.0, 1.0, 1.0, 1.0, 1.0, 0.0, 0.0, 1.0, 0.0, 1.0, 0.0, 1.0, 1.0, 1.0, 0.0, 0.0, 1.0, 1.0, 1.0, 1.0, 0.0, 1.0, 1.0, 0.0, 1.0, 0.0, 1.0, 1.0, 0.0, 1.0, 0.0, 1.0, 0.0, 1.0, 1.0, 0.0, 1.0, 0.0, 1.0, 0.0, 1.0, 1.0, 0.0, 0.0, 1.0, 1.0, 0.0, 0.0, 0.0, 1.0, 1.0, 1.0, 1.0, 1.0, 0.0, 1.0, 1.0, 0.0, 1.0, 1.0, 1.0, 1.0, 1.0, 1.0, 1.0, 1.0, 1.0, 1.0, 1.0, 1.0, 1.0, 1.0, 1.0, 1.0, 0.0, 1.0, 0.0, 0.0, 1.0, 1.0, 0.0, 1.0, 1.0, 1.0, 1.0, 0.0, 1.0, 1.0, 0.0, 1.0, 1.0, 1.0, 1.0, 0.0, 0.0, 1.0, 0.0, 1.0, 1.0, 0.0, 1.0, 0.0, 1.0, 0.0, 1.0, 0.0, 1.0, 0.0, 1.0, 1.0, 1.0, 1.0, 1.0, 0.0, 1.0, 0.0, 1.0, 1.0, 1.0, 1.0, 1.0, 1.0, 0.0, 1.0, 0.0, 1.0, 0.0, 1.0, 0.0, 0.0, 0.0, 0.0, 1.0, 1.0, 1.0, 1.0, 1.0, 1.0, 1.0, 1.0, 1.0, 1.0, 1.0, 0.0, 1.0, 1.0, 1.0, 0.0, 1.0, 1.0, 1.0, 1.0, 1.0, 1.0, 1.0, 0.0, 0.0, 1.0, 0.0, 1.0, 0.0, 1.0, 0.0, 1.0, 1.0, 1.0, 1.0, 0.0, 1.0, 0.0, 1.0, 0.0, 1.0, 1.0, 1.0, 0.0, 1.0, 0.0, 1.0, 0.0, 1.0, 1.0, 0.0, 0.0, 1.0, 0.0, 1.0, 0.0, 1.0, 0.0, 1.0, 1.0, 1.0, 1.0, 0.0, 0.0, 1.0, 1.0, 1.0, 1.0, 0.0, 1.0, 1.0, 1.0, 1.0, 0.0, 0.0, 0.0, 1.0, 1.0, 0.0, 1.0, 0.0, 0.0, 0.0, 0.0, 1.0, 0.0, 1.0, 1.0, 1.0, 1.0, 1.0, 1.0, 1.0, 1.0, 1.0, 1.0, 1.0, 0.0, 1.0, 0.0, 1.0, 1.0, 1.0, 1.0, 1.0, 1.0, 0.0, 0.0, 1.0, 0.0, 1.0, 1.0, 0.0, 1.0, 1.0, 1.0, 0.0, 1.0, 0.0, 0.0, 1.0, 1.0, 1.0, 1.0, 1.0, 0.0, 1.0, 1.0, 1.0, 1.0, 1.0, 0.0, 1.0, 0.0, 1.0, 1.0, 1.0, 1.0, 1.0, 0.0, 0.0, 1.0, 0.0, 1.0, 0.0, 1.0, 0.0, 1.0, 1.0, 0.0, 1.0, 1.0, 1.0, 1.0, 1.0, 1.0, 1.0, 1.0, 1.0, 1.0, 1.0, 0.0, 0.0, 1.0, 1.0, 1.0, 0.0, 1.0, 1.0, 0.0, 0.0, 1.0, 1.0, 1.0, 1.0, 1.0, 0.0, 0.0, 1.0, 1.0, 1.0, 0.0, 0.0, 1.0, 1.0, 1.0, 1.0, 1.0, 1.0, 1.0, 1.0, 1.0, 1.0, 1.0, 1.0, 0.0, 1.0, 0.0, 1.0, 1.0, 1.0, 1.0, 1.0, 1.0, 1.0, 1.0, 1.0, 1.0, 1.0, 1.0, 1.0, 0.0, 0.0, 1.0, 0.0, 1.0, 1.0, 1.0, 0.0, 1.0, 1.0, 0.0, 0.0, 1.0, 1.0, 1.0, 0.0, 0.0, 1.0, 1.0, 1.0, 1.0, 0.0, 1.0, 1.0, 1.0, 1.0, 1.0, 1.0, 1.0, 1.0, 0.0, 0.0, 1.0, 1.0, 1.0, 1.0, 0.0, 0.0, 1.0, 1.0, 1.0, 1.0, 0.0, 0.0, 1.0, 1.0, 1.0, 1.0, 1.0, 0.0, 1.0, 1.0, 0.0, 1.0, 0.0, 1.0, 1.0, 1.0, 1.0, 1.0, 1.0, 0.0, 0.0, 1.0, 1.0, 1.0, 0.0, 1.0, 1.0, 1.0, 0.0, 1.0, 1.0, 1.0, 1.0, 1.0, 1.0, 0.0, 0.0, 1.0, 1.0, 1.0, 1.0, 1.0, 1.0, 1.0, 1.0, 1.0, 0.0, 1.0, 0.0, 0.0, 1.0, 0.0, 1.0, 1.0, 1.0, 1.0, 1.0, 1.0, 1.0, 0.0, 1.0, 1.0, 1.0, 1.0, 0.0, 1.0, 1.0, 1.0, 1.0, 0.0, 1.0, 1.0, 1.0, 1.0, 0.0, 1.0, 0.0, 1.0, 1.0, 1.0, 1.0, 0.0, 1.0, 0.0, 1.0, 1.0, 0.0, 1.0, 0.0, 0.0, 1.0, 1.0, 1.0, 1.0, 1.0, 0.0, 1.0, 1.0, 1.0, 1.0, 1.0, 1.0, 1.0, 1.0, 0.0, 1.0, 0.0, 1.0, 1.0, 1.0, 1.0, 1.0, 1.0, 1.0, 1.0, 0.0, 0.0, 1.0, 1.0, 1.0, 0.0, 1.0, 1.0, 0.0, 1.0, 1.0, 0.0, 0.0, 1.0, 1.0, 1.0, 1.0, 1.0, 1.0, 1.0, 1.0, 1.0, 0.0, 1.0, 0.0, 0.0, 0.0, 1.0, 1.0, 1.0, 1.0, 1.0, 1.0, 0.0, 1.0, 1.0, 1.0, 1.0, 1.0, 1.0, 1.0, 0.0, 1.0, 1.0, 1.0, 1.0, 1.0, 1.0, 1.0, 1.0, 1.0, 0.0, 0.0, 1.0, 1.0, 1.0, 1.0, 1.0, 1.0, 1.0, 0.0, 0.0, 0.0, 0.0, 0.0, 1.0, 1.0, 1.0, 0.0, 1.0, 0.0, 1.0, 1.0, 1.0, 1.0, 1.0, 1.0, 1.0, 1.0, 0.0, 1.0, 1.0, 1.0, 1.0, 1.0, 1.0, 1.0, 0.0, 1.0, 1.0, 0.0, 1.0, 1.0, 1.0, 1.0, 1.0, 0.0, 1.0, 1.0, 1.0, 1.0, 1.0, 1.0, 1.0, 1.0, 1.0, 1.0, 0.0, 1.0, 0.0, 1.0, 1.0, 1.0, 0.0, 1.0, 1.0, 1.0, 0.0, 1.0, 1.0, 0.0, 1.0, 0.0, 1.0, 1.0, 1.0, 1.0, 1.0, 1.0, 1.0, 0.0, 1.0, 0.0, 0.0, 0.0, 0.0, 1.0, 0.0, 1.0, 1.0, 1.0, 0.0, 1.0, 1.0, 0.0, 0.0, 1.0, 0.0, 0.0, 1.0, 1.0, 1.0, 1.0, 0.0, 1.0, 1.0, 1.0, 1.0, 0.0, 1.0, 1.0, 1.0, 1.0, 0.0, 1.0, 1.0, 1.0, 1.0, 1.0, 0.0, 0.0, 0.0, 0.0, 1.0, 1.0, 1.0, 0.0, 1.0, 1.0, 1.0, 1.0, 1.0, 0.0, 1.0, 1.0, 1.0, 1.0, 1.0, 1.0, 1.0, 1.0, 1.0, 0.0, 1.0, 1.0, 0.0, 1.0, 0.0, 0.0, 1.0, 0.0, 0.0, 1.0, 1.0, 1.0, 0.0, 1.0, 1.0, 0.0, 1.0, 0.0, 1.0, 0.0, 1.0, 1.0, 1.0, 0.0, 1.0, 0.0, 1.0, 1.0, 1.0, 0.0, 0.0, 1.0, 1.0, 0.0, 1.0, 1.0, 0.0, 1.0, 1.0, 1.0, 1.0, 1.0, 1.0, 1.0, 1.0, 1.0, 1.0, 1.0, 0.0, 1.0, 1.0, 1.0, 1.0, 1.0, 1.0, 1.0, 0.0, 1.0, 1.0, 1.0, 1.0, 0.0, 1.0, 1.0, 1.0, 1.0, 1.0, 1.0, 1.0, 1.0, 1.0, 1.0, 1.0, 1.0, 1.0, 1.0, 1.0, 1.0, 1.0, 0.0, 0.0, 1.0, 1.0, 1.0, 0.0, 1.0, 1.0, 0.0, 1.0, 1.0, 1.0, 1.0, 1.0, 0.0, 1.0, 1.0, 0.0, 1.0, 1.0, 1.0, 1.0, 0.0, 1.0, 1.0, 1.0, 0.0, 0.0, 1.0, 0.0, 0.0, 1.0, 1.0, 1.0, 1.0, 1.0, 1.0, 1.0, 1.0, 1.0, 0.0, 0.0, 1.0, 1.0, 1.0, 1.0, 1.0, 1.0, 1.0, 0.0, 1.0, 0.0, 1.0, 1.0, 0.0, 1.0, 1.0, 1.0, 0.0, 0.0, 1.0, 0.0, 1.0, 1.0, 1.0, 1.0, 1.0, 1.0, 1.0, 1.0, 1.0, 0.0, 1.0, 1.0, 1.0, 0.0, 1.0, 1.0, 0.0, 1.0, 1.0, 0.0, 1.0, 1.0, 0.0, 0.0, 1.0, 1.0, 1.0, 1.0, 0.0, 1.0, 0.0, 1.0, 0.0, 0.0, 1.0, 1.0, 1.0, 1.0, 0.0, 1.0, 1.0, 1.0, 1.0, 0.0, 1.0, 1.0, 0.0, 1.0, 0.0, 0.0, 1.0, 1.0, 1.0, 1.0, 0.0, 0.0, 1.0, 1.0, 1.0, 1.0, 1.0, 1.0, 0.0, 1.0, 0.0, 1.0, 0.0, 0.0, 1.0, 1.0, 0.0, 0.0, 1.0, 1.0, 1.0, 1.0, 0.0, 1.0, 1.0, 1.0, 1.0, 1.0, 1.0, 1.0, 0.0, 1.0, 1.0, 0.0, 0.0, 0.0, 1.0, 1.0, 1.0, 1.0, 1.0, 1.0, 1.0, 1.0, 1.0, 0.0, 0.0, 1.0, 0.0, 1.0, 1.0, 0.0, 0.0, 0.0, 1.0, 1.0, 1.0, 1.0, 1.0, 1.0, 1.0, 0.0, 1.0, 0.0, 0.0, 0.0, 0.0, 1.0, 0.0, 1.0, 0.0, 1.0, 1.0, 1.0, 1.0, 0.0, 0.0, 0.0, 0.0, 0.0, 1.0, 0.0, 1.0, 0.0, 1.0, 0.0, 0.0, 1.0, 0.0, 1.0, 1.0, 1.0, 1.0, 0.0, 1.0, 1.0, 1.0, 1.0, 0.0, 1.0, 0.0, 1.0, 1.0, 1.0, 1.0, 1.0, 1.0, 1.0, 0.0, 0.0, 0.0, 1.0, 1.0, 0.0, 1.0, 0.0, 1.0, 1.0, 0.0, 1.0, 1.0, 1.0, 1.0, 1.0, 1.0, 1.0, 1.0, 1.0, 1.0, 1.0, 0.0, 0.0, 1.0, 1.0, 1.0, 0.0, 1.0, 0.0, 1.0, 0.0, 1.0, 1.0, 1.0, 1.0, 1.0, 1.0, 0.0, 1.0, 1.0, 1.0, 1.0, 0.0, 1.0, 1.0, 0.0, 1.0, 0.0, 0.0, 1.0, 0.0, 1.0, 0.0, 0.0, 1.0, 1.0, 1.0, 1.0, 1.0, 1.0, 1.0, 0.0, 0.0, 0.0, 0.0, 1.0, 1.0, 0.0, 1.0, 1.0, 1.0, 1.0, 1.0, 1.0, 0.0, 0.0, 1.0, 1.0, 1.0, 1.0, 1.0, 1.0, 1.0, 1.0, 1.0, 1.0, 0.0, 1.0, 1.0, 0.0, 1.0, 0.0, 1.0, 1.0, 1.0, 1.0, 1.0, 1.0, 1.0, 1.0, 1.0, 1.0, 1.0, 1.0, 1.0, 1.0, 1.0, 1.0, 1.0, 0.0, 0.0, 1.0, 1.0, 1.0, 0.0, 1.0, 1.0, 0.0, 1.0, 0.0, 1.0, 1.0, 1.0, 1.0, 1.0, 1.0, 0.0, 1.0, 1.0, 1.0, 0.0, 1.0, 0.0, 1.0, 1.0, 1.0, 1.0, 0.0, 1.0, 1.0, 1.0, 1.0, 0.0, 0.0, 0.0, 1.0, 1.0, 0.0, 1.0, 0.0, 0.0, 0.0, 1.0, 1.0, 1.0, 1.0, 1.0, 1.0, 1.0, 1.0, 1.0, 1.0, 0.0, 0.0, 1.0, 1.0, 1.0, 1.0, 1.0, 1.0, 1.0, 1.0, 1.0, 1.0, 1.0, 1.0, 1.0, 1.0, 0.0, 1.0, 1.0, 0.0, 0.0, 0.0, 1.0, 1.0, 1.0, 1.0, 1.0, 1.0, 1.0, 1.0, 1.0, 1.0, 1.0, 0.0, 0.0, 1.0, 0.0, 1.0, 1.0, 1.0, 1.0, 1.0, 1.0, 0.0, 0.0, 1.0, 1.0, 1.0, 0.0, 0.0, 1.0, 1.0, 0.0, 1.0, 1.0, 0.0, 1.0, 0.0, 1.0, 1.0, 1.0, 0.0, 1.0, 0.0, 1.0, 0.0, 0.0, 1.0, 1.0, 0.0, 0.0, 1.0, 1.0, 0.0, 1.0, 1.0, 1.0, 1.0, 1.0, 1.0, 1.0, 0.0, 1.0, 0.0, 1.0, 1.0, 1.0, 1.0, 1.0, 0.0, 1.0, 1.0, 1.0, 0.0, 1.0, 1.0, 1.0, 1.0, 0.0, 0.0, 1.0, 1.0, 1.0, 1.0, 1.0, 1.0, 1.0, 1.0, 0.0, 0.0, 1.0, 0.0, 1.0, 1.0, 0.0, 1.0, 1.0, 0.0, 0.0, 1.0, 1.0, 1.0, 1.0, 1.0, 1.0, 1.0, 1.0, 1.0, 0.0, 1.0, 1.0, 1.0, 0.0, 0.0, 1.0, 1.0, 1.0, 1.0, 1.0, 1.0, 1.0, 0.0, 1.0, 1.0, 1.0, 1.0, 1.0, 0.0, 0.0, 1.0, 1.0, 0.0, 1.0, 0.0, 1.0, 1.0, 0.0, 0.0, 1.0, 1.0, 1.0, 1.0, 1.0, 1.0, 1.0, 0.0, 0.0, 0.0, 1.0, 1.0, 1.0, 0.0, 1.0, 1.0, 1.0, 0.0, 1.0, 0.0, 1.0, 0.0, 1.0, 1.0, 0.0, 1.0, 1.0, 0.0, 1.0, 1.0, 0.0, 1.0, 1.0, 0.0, 1.0, 1.0, 1.0, 1.0, 1.0, 1.0, 0.0, 1.0, 0.0, 1.0, 1.0, 0.0, 0.0, 0.0, 1.0, 1.0, 1.0, 1.0, 0.0, 1.0, 0.0, 1.0, 1.0, 0.0, 1.0, 1.0, 1.0, 1.0, 0.0, 0.0, 1.0, 1.0, 1.0, 1.0, 1.0, 1.0, 1.0, 1.0, 0.0, 1.0, 1.0, 1.0, 1.0, 1.0, 1.0, 1.0, 0.0, 0.0, 1.0, 1.0, 1.0, 1.0, 0.0, 1.0, 1.0, 1.0, 0.0, 1.0, 1.0, 0.0, 1.0, 1.0, 1.0, 0.0, 1.0, 1.0, 0.0, 1.0, 0.0, 0.0, 0.0, 1.0, 0.0, 1.0, 1.0, 1.0, 1.0, 1.0, 0.0, 0.0, 0.0, 1.0, 1.0, 0.0, 1.0, 1.0, 1.0, 0.0, 1.0, 1.0, 0.0, 1.0, 1.0, 1.0, 1.0, 1.0, 0.0, 1.0, 1.0, 1.0, 1.0, 1.0, 1.0, 1.0, 0.0, 1.0, 1.0, 1.0, 1.0, 1.0, 0.0, 1.0, 1.0, 1.0, 1.0, 1.0, 1.0, 1.0, 1.0, 0.0, 0.0, 0.0, 1.0, 1.0, 0.0, 1.0, 1.0, 1.0, 1.0, 0.0, 1.0, 0.0, 0.0, 1.0, 1.0, 1.0, 1.0, 1.0, 0.0, 1.0, 1.0, 0.0, 0.0, 0.0, 1.0, 1.0, 0.0, 1.0, 0.0, 0.0, 1.0, 1.0, 1.0, 1.0, 0.0, 1.0, 0.0, 0.0, 1.0, 1.0, 0.0, 1.0, 1.0, 0.0, 1.0, 0.0, 1.0, 1.0, 1.0, 1.0, 0.0, 1.0, 0.0, 1.0, 1.0, 1.0, 0.0, 0.0, 1.0, 1.0, 1.0, 1.0, 0.0, 1.0, 1.0, 1.0, 1.0, 0.0, 1.0, 1.0, 1.0, 1.0, 1.0, 1.0, 1.0, 1.0, 1.0, 0.0, 1.0, 0.0, 0.0, 1.0, 0.0, 1.0, 1.0, 1.0, 0.0, 1.0, 0.0, 1.0, 1.0, 1.0, 0.0, 1.0, 1.0, 1.0, 0.0, 1.0, 1.0, 0.0, 1.0, 0.0, 1.0, 1.0, 1.0, 0.0, 1.0, 1.0, 1.0, 1.0, 1.0, 0.0, 1.0, 1.0, 1.0, 1.0, 1.0, 1.0, 0.0, 1.0, 1.0, 1.0, 1.0, 1.0, 1.0, 1.0, 0.0, 1.0, 1.0, 1.0, 1.0, 1.0, 0.0, 0.0, 1.0, 1.0, 1.0, 1.0, 0.0, 1.0, 1.0, 0.0, 1.0, 1.0, 0.0, 0.0, 1.0, 1.0, 0.0, 0.0, 1.0, 0.0, 0.0, 1.0, 1.0, 1.0, 1.0, 1.0, 1.0, 0.0, 0.0, 1.0, 1.0, 0.0, 1.0, 1.0, 1.0, 0.0, 1.0, 0.0, 0.0, 0.0, 1.0, 0.0, 0.0, 0.0, 1.0, 1.0, 1.0, 1.0, 0.0, 1.0, 1.0, 1.0, 0.0, 1.0, 1.0, 0.0, 1.0, 0.0, 1.0, 1.0, 1.0, 1.0, 1.0, 1.0, 1.0, 1.0, 1.0, 1.0, 1.0, 1.0, 1.0, 1.0, 0.0, 1.0, 0.0, 1.0, 1.0, 1.0, 0.0, 0.0, 1.0, 1.0, 1.0, 1.0, 1.0, 1.0, 1.0, 0.0, 0.0, 1.0, 1.0, 0.0, 1.0, 1.0, 1.0, 0.0, 1.0, 1.0, 1.0, 0.0, 1.0, 1.0, 1.0, 1.0, 1.0, 1.0, 1.0, 1.0, 0.0, 1.0, 1.0, 1.0, 1.0, 0.0, 1.0, 0.0, 1.0, 1.0, 0.0, 1.0, 1.0, 1.0, 1.0, 1.0, 1.0, 0.0, 1.0, 1.0, 1.0, 1.0, 0.0, 0.0, 1.0, 0.0, 1.0, 1.0, 0.0, 1.0, 0.0, 1.0, 0.0, 0.0, 1.0, 1.0, 1.0, 1.0, 0.0, 0.0, 1.0, 0.0, 1.0], 'tour_cost': 10660177.723108152, 'packing_plan_cost': 1231185.0})]"
      ]
     },
     "execution_count": 32,
     "metadata": {},
     "output_type": "execute_result"
    }
   ],
   "source": [
    "evaled_pop = []\n",
    "i = 0\n",
    "for candidate_solution in [c1, c2]:\n",
    "    evaluate_candidate_solution_cost_pdist(candidate_solution,\n",
    "                                     a280_n1395[\"pairwise_distances\"],\n",
    "                                     a280_n1395[\"item_to_city_mapping_dict\"],\n",
    "                                     a280_n1395[\"item_weights\"],\n",
    "                                     a280_n1395[\"item_values\"],\n",
    "                                     a280_n1395[\"v_max\"],\n",
    "                                     a280_n1395[\"v_min\"],\n",
    "                                     a280_n1395[\"Q\"],\n",
    "                                     a280_n1395[\"R\"])\n",
    "    i += 1 \n",
    "    evaled_pop.append(candidate_solution)\n",
    "evaled_pop"
   ]
  },
  {
   "cell_type": "code",
   "execution_count": 33,
   "metadata": {},
   "outputs": [
    {
     "data": {
      "text/plain": [
       "[struct({'tour': [75, 238, 92, 100, 19, 32, 156, 140, 209, 14, 174, 124, 5, 194, 200, 98, 268, 138, 190, 24, 85, 136, 249, 105, 248, 241, 148, 109, 113, 26, 16, 277, 188, 234, 135, 59, 21, 231, 78, 23, 53, 141, 39, 266, 25, 158, 82, 146, 114, 133, 242, 169, 219, 273, 175, 76, 46, 83, 43, 119, 217, 41, 104, 96, 2, 55, 240, 181, 88, 151, 189, 87, 270, 160, 184, 52, 9, 201, 36, 176, 164, 167, 147, 191, 239, 73, 107, 256, 214, 51, 48, 279, 37, 115, 64, 143, 10, 11, 259, 0, 71, 15, 227, 134, 276, 101, 57, 179, 84, 235, 155, 246, 187, 47, 208, 220, 31, 7, 263, 178, 199, 50, 272, 13, 152, 20, 168, 129, 70, 261, 63, 177, 165, 252, 29, 94, 233, 269, 33, 130, 56, 274, 139, 236, 171, 150, 144, 278, 125, 65, 111, 90, 226, 127, 173, 224, 162, 42, 22, 186, 121, 228, 215, 244, 8, 49, 1, 72, 163, 265, 183, 255, 68, 149, 251, 230, 193, 210, 108, 132, 118, 262, 123, 54, 157, 243, 222, 216, 170, 120, 27, 106, 34, 232, 69, 202, 185, 116, 99, 257, 247, 145, 172, 275, 159, 225, 258, 44, 86, 221, 103, 245, 18, 237, 60, 30, 128, 260, 212, 95, 79, 218, 45, 153, 198, 204, 28, 196, 126, 166, 112, 206, 122, 223, 3, 4, 102, 253, 40, 35, 213, 93, 110, 61, 97, 91, 250, 161, 12, 17, 137, 192, 62, 77, 80, 89, 197, 271, 195, 264, 207, 6, 205, 182, 131, 67, 229, 211, 38, 154, 267, 203, 66, 142, 117, 180, 74, 58, 81, 254], 'packing_plan': [1.0, 0.0, 1.0, 0.0, 0.0, 0.0, 1.0, 1.0, 0.0, 0.0, 0.0, 1.0, 0.0, 0.0, 1.0, 0.0, 1.0, 1.0, 0.0, 0.0, 1.0, 0.0, 1.0, 0.0, 0.0, 0.0, 1.0, 0.0, 0.0, 1.0, 0.0, 0.0, 1.0, 0.0, 0.0, 1.0, 0.0, 0.0, 0.0, 0.0, 1.0, 1.0, 0.0, 0.0, 1.0, 0.0, 0.0, 1.0, 0.0, 0.0, 1.0, 0.0, 1.0, 1.0, 0.0, 0.0, 0.0, 0.0, 1.0, 0.0, 0.0, 0.0, 1.0, 0.0, 1.0, 0.0, 0.0, 0.0, 0.0, 0.0, 0.0, 0.0, 1.0, 1.0, 1.0, 0.0, 1.0, 0.0, 0.0, 0.0, 0.0, 0.0, 1.0, 0.0, 0.0, 0.0, 1.0, 1.0, 0.0, 0.0, 0.0, 0.0, 0.0, 0.0, 0.0, 0.0, 1.0, 0.0, 0.0, 0.0, 0.0, 1.0, 0.0, 0.0, 0.0, 1.0, 0.0, 1.0, 0.0, 1.0, 0.0, 0.0, 1.0, 1.0, 0.0, 0.0, 1.0, 0.0, 0.0, 1.0, 0.0, 0.0, 0.0, 0.0, 1.0, 1.0, 0.0, 0.0, 1.0, 0.0, 0.0, 1.0, 0.0, 0.0, 0.0, 1.0, 0.0, 1.0, 0.0, 1.0, 1.0, 1.0, 0.0, 0.0, 1.0, 0.0, 0.0, 0.0, 0.0, 0.0, 0.0, 1.0, 1.0, 0.0, 0.0, 1.0, 0.0, 0.0, 0.0, 1.0, 1.0, 0.0, 0.0, 1.0, 0.0, 1.0, 0.0, 1.0, 0.0, 0.0, 1.0, 1.0, 1.0, 0.0, 0.0, 1.0, 0.0, 0.0, 0.0, 1.0, 1.0, 1.0, 0.0, 0.0, 0.0, 1.0, 0.0, 0.0, 0.0, 0.0, 0.0, 1.0, 0.0, 0.0, 0.0, 0.0, 0.0, 1.0, 1.0, 0.0, 0.0, 0.0, 0.0, 0.0, 1.0, 1.0, 0.0, 1.0, 1.0, 1.0, 0.0, 0.0, 0.0, 0.0, 0.0, 0.0, 0.0, 1.0, 1.0, 0.0, 0.0, 0.0, 0.0, 1.0, 0.0, 0.0, 1.0, 0.0, 0.0, 0.0, 0.0, 1.0, 0.0, 0.0, 0.0, 0.0, 0.0, 0.0, 0.0, 0.0, 1.0, 0.0, 0.0, 0.0, 0.0, 1.0, 0.0, 0.0, 0.0, 1.0, 0.0, 1.0, 0.0, 0.0, 1.0, 0.0, 1.0, 0.0, 0.0, 0.0, 1.0, 1.0, 0.0, 0.0, 0.0, 0.0, 0.0, 0.0, 0.0, 0.0, 1.0, 0.0, 1.0, 0.0, 1.0, 1.0, 1.0, 0.0, 1.0, 1.0, 0.0, 0.0, 0.0, 1.0, 1.0, 0.0, 0.0, 1.0, 0.0, 1.0, 0.0, 0.0, 1.0, 0.0, 1.0, 0.0, 1.0, 0.0, 0.0, 1.0, 0.0, 1.0, 0.0, 0.0, 1.0, 1.0, 1.0, 0.0, 0.0, 0.0, 1.0, 0.0, 0.0, 0.0, 1.0, 1.0, 0.0, 1.0, 0.0, 0.0, 0.0, 1.0, 0.0, 0.0, 0.0, 0.0, 1.0, 0.0, 0.0, 1.0, 0.0, 0.0, 0.0, 1.0, 1.0, 0.0, 0.0, 1.0, 0.0, 0.0, 0.0, 1.0, 0.0, 1.0, 1.0, 0.0, 0.0, 0.0, 0.0, 1.0, 0.0, 0.0, 1.0, 0.0, 0.0, 0.0, 1.0, 1.0, 0.0, 0.0, 0.0, 1.0, 0.0, 0.0, 1.0, 0.0, 1.0, 1.0, 0.0, 1.0, 1.0, 0.0, 1.0, 1.0, 0.0, 1.0, 1.0, 1.0, 0.0, 1.0, 1.0, 1.0, 1.0, 0.0, 0.0, 1.0, 1.0, 0.0, 1.0, 0.0, 0.0, 0.0, 0.0, 0.0, 1.0, 1.0, 1.0, 0.0, 1.0, 1.0, 0.0, 0.0, 1.0, 0.0, 0.0, 0.0, 0.0, 0.0, 1.0, 1.0, 1.0, 1.0, 1.0, 1.0, 0.0, 0.0, 1.0, 0.0, 0.0, 0.0, 1.0, 0.0, 1.0, 0.0, 0.0, 0.0, 1.0, 0.0, 0.0, 0.0, 1.0, 0.0, 1.0, 0.0, 0.0, 0.0, 1.0, 1.0, 0.0, 1.0, 1.0, 1.0, 0.0, 1.0, 0.0, 0.0, 0.0, 0.0, 1.0, 1.0, 0.0, 1.0, 0.0, 0.0, 0.0, 0.0, 1.0, 0.0, 1.0, 0.0, 1.0, 0.0, 1.0, 1.0, 0.0, 1.0, 0.0, 0.0, 1.0, 0.0, 0.0, 1.0, 0.0, 1.0, 1.0, 0.0, 0.0, 1.0, 1.0, 0.0, 0.0, 0.0, 0.0, 0.0, 0.0, 1.0, 0.0, 1.0, 1.0, 0.0, 1.0, 1.0, 0.0, 0.0, 1.0, 0.0, 1.0, 1.0, 0.0, 1.0, 1.0, 0.0, 1.0, 1.0, 0.0, 1.0, 0.0, 0.0, 1.0, 0.0, 1.0, 0.0, 1.0, 0.0, 1.0, 0.0, 1.0, 0.0, 1.0, 0.0, 1.0, 1.0, 0.0, 1.0, 0.0, 1.0, 0.0, 0.0, 0.0, 0.0, 0.0, 0.0, 0.0, 0.0, 0.0, 1.0, 1.0, 1.0, 0.0, 1.0, 1.0, 0.0, 1.0, 1.0, 0.0, 0.0, 1.0, 0.0, 0.0, 0.0, 1.0, 0.0, 0.0, 0.0, 0.0, 1.0, 1.0, 1.0, 0.0, 0.0, 0.0, 1.0, 1.0, 0.0, 1.0, 0.0, 0.0, 0.0, 0.0, 1.0, 1.0, 0.0, 0.0, 0.0, 1.0, 1.0, 0.0, 1.0, 1.0, 0.0, 0.0, 0.0, 1.0, 0.0, 0.0, 1.0, 1.0, 1.0, 0.0, 0.0, 1.0, 1.0, 0.0, 1.0, 0.0, 0.0, 1.0, 0.0, 0.0, 0.0, 0.0, 0.0, 0.0, 1.0, 0.0, 0.0, 0.0, 1.0, 0.0, 0.0, 0.0, 0.0, 0.0, 1.0, 1.0, 0.0, 0.0, 0.0, 1.0, 0.0, 0.0, 0.0, 1.0, 0.0, 0.0, 0.0, 1.0, 0.0, 0.0, 0.0, 0.0, 1.0, 1.0, 0.0, 0.0, 0.0, 0.0, 0.0, 0.0, 0.0, 0.0, 0.0, 0.0, 1.0, 0.0, 1.0, 1.0, 0.0, 0.0, 0.0, 0.0, 1.0, 0.0, 0.0, 0.0, 1.0, 0.0, 1.0, 0.0, 0.0, 0.0, 0.0, 1.0, 0.0, 0.0, 0.0, 0.0, 1.0, 0.0, 1.0, 0.0, 0.0, 0.0, 1.0, 0.0, 1.0, 0.0, 0.0, 0.0, 0.0, 0.0, 0.0, 0.0, 1.0, 0.0, 0.0, 0.0, 0.0, 0.0, 0.0, 0.0, 0.0, 0.0, 1.0, 1.0, 0.0, 0.0, 1.0, 1.0, 1.0, 1.0, 0.0, 1.0, 0.0, 1.0, 0.0, 1.0, 1.0, 1.0, 1.0, 0.0, 1.0, 1.0, 0.0, 1.0, 1.0, 1.0, 1.0, 0.0, 0.0, 1.0, 1.0, 0.0, 0.0, 0.0, 0.0, 0.0, 0.0, 0.0, 0.0, 0.0, 0.0, 1.0, 0.0, 0.0, 1.0, 1.0, 0.0, 0.0, 1.0, 1.0, 1.0, 0.0, 0.0, 0.0, 0.0, 0.0, 0.0, 1.0, 0.0, 0.0, 1.0, 1.0, 1.0, 0.0, 1.0, 0.0, 0.0, 0.0, 1.0, 1.0, 1.0, 0.0, 0.0, 0.0, 1.0, 0.0, 0.0, 0.0, 0.0, 0.0, 1.0, 0.0, 0.0, 0.0, 0.0, 1.0, 1.0, 0.0, 0.0, 1.0, 0.0, 1.0, 1.0, 0.0, 1.0, 0.0, 1.0, 0.0, 0.0, 0.0, 1.0, 0.0, 0.0, 1.0, 0.0, 0.0, 0.0, 0.0, 1.0, 0.0, 0.0, 1.0, 1.0, 0.0, 1.0, 1.0, 0.0, 0.0, 0.0, 0.0, 0.0, 1.0, 0.0, 1.0, 0.0, 0.0, 0.0, 0.0, 0.0, 0.0, 0.0, 0.0, 0.0, 0.0, 0.0, 1.0, 1.0, 1.0, 0.0, 0.0, 1.0, 0.0, 0.0, 0.0, 1.0, 1.0, 0.0, 0.0, 0.0, 1.0, 0.0, 1.0, 1.0, 0.0, 0.0, 1.0, 1.0, 1.0, 1.0, 0.0, 0.0, 1.0, 1.0, 0.0, 1.0, 0.0, 0.0, 0.0, 1.0, 1.0, 0.0, 1.0, 0.0, 0.0, 0.0, 0.0, 0.0, 0.0, 0.0, 0.0, 1.0, 0.0, 1.0, 1.0, 1.0, 0.0, 0.0, 0.0, 1.0, 1.0, 0.0, 1.0, 0.0, 1.0, 0.0, 1.0, 0.0, 0.0, 1.0, 0.0, 1.0, 0.0, 1.0, 0.0, 0.0, 1.0, 0.0, 1.0, 0.0, 1.0, 1.0, 0.0, 0.0, 0.0, 0.0, 1.0, 0.0, 0.0, 0.0, 0.0, 0.0, 0.0, 1.0, 0.0, 0.0, 0.0, 0.0, 0.0, 0.0, 1.0, 1.0, 0.0, 1.0, 1.0, 0.0, 0.0, 0.0, 0.0, 1.0, 0.0, 0.0, 0.0, 0.0, 1.0, 0.0, 1.0, 1.0, 0.0, 0.0, 0.0, 0.0, 0.0, 1.0, 0.0, 0.0, 0.0, 0.0, 0.0, 0.0, 1.0, 0.0, 0.0, 0.0, 1.0, 1.0, 1.0, 0.0, 0.0, 1.0, 1.0, 0.0, 0.0, 1.0, 1.0, 0.0, 0.0, 1.0, 0.0, 0.0, 0.0, 0.0, 0.0, 0.0, 0.0, 0.0, 0.0, 0.0, 0.0, 1.0, 0.0, 0.0, 1.0, 0.0, 0.0, 1.0, 0.0, 1.0, 0.0, 1.0, 1.0, 1.0, 1.0, 0.0, 0.0, 1.0, 1.0, 1.0, 1.0, 0.0, 1.0, 1.0, 1.0, 0.0, 1.0, 1.0, 0.0, 1.0, 0.0, 1.0, 1.0, 1.0, 0.0, 0.0, 1.0, 1.0, 0.0, 0.0, 1.0, 0.0, 0.0, 0.0, 1.0, 0.0, 1.0, 1.0, 0.0, 1.0, 0.0, 0.0, 0.0, 0.0, 1.0, 1.0, 1.0, 1.0, 1.0, 0.0, 0.0, 1.0, 0.0, 0.0, 0.0, 1.0, 0.0, 1.0, 0.0, 1.0, 1.0, 0.0, 0.0, 0.0, 1.0, 1.0, 0.0, 0.0, 0.0, 1.0, 1.0, 0.0, 0.0, 0.0, 1.0, 0.0, 0.0, 1.0, 0.0, 0.0, 0.0, 1.0, 0.0, 0.0, 0.0, 0.0, 1.0, 0.0, 1.0, 0.0, 0.0, 0.0, 0.0, 1.0, 0.0, 0.0, 0.0, 0.0, 0.0, 1.0, 1.0, 0.0, 0.0, 1.0, 1.0, 0.0, 0.0, 0.0, 1.0, 1.0, 1.0, 1.0, 1.0, 0.0, 0.0, 1.0, 1.0, 0.0, 0.0, 1.0, 1.0, 0.0, 0.0, 1.0, 0.0, 0.0, 0.0, 0.0, 0.0, 1.0, 1.0, 1.0, 1.0, 0.0, 1.0, 1.0, 0.0, 1.0, 0.0, 0.0, 0.0, 0.0, 0.0, 0.0, 0.0, 0.0, 1.0, 0.0, 1.0, 0.0, 1.0, 0.0, 0.0, 0.0, 1.0, 0.0, 0.0, 1.0, 0.0, 0.0, 0.0, 0.0, 1.0, 0.0, 1.0, 0.0, 1.0, 1.0, 1.0, 1.0, 0.0, 1.0, 0.0, 0.0, 0.0, 1.0, 0.0, 0.0, 0.0, 0.0, 0.0, 1.0, 0.0, 0.0, 0.0, 1.0, 1.0, 1.0, 1.0, 1.0, 0.0, 0.0, 0.0, 1.0, 1.0, 0.0, 1.0, 0.0, 1.0, 1.0, 1.0, 1.0, 0.0, 0.0, 0.0, 1.0, 0.0, 0.0, 0.0, 0.0, 0.0, 1.0, 0.0, 1.0, 0.0, 0.0, 0.0, 0.0, 0.0, 0.0, 1.0, 1.0, 1.0, 0.0, 1.0, 0.0, 0.0, 0.0, 0.0, 1.0, 0.0, 0.0, 1.0, 0.0, 1.0, 0.0, 0.0, 0.0, 0.0, 0.0, 1.0, 1.0, 0.0, 0.0, 0.0, 1.0, 1.0, 0.0, 0.0, 1.0, 0.0, 0.0, 0.0, 0.0, 0.0, 0.0, 0.0, 1.0, 0.0, 1.0, 0.0, 0.0, 0.0, 0.0, 1.0, 0.0, 0.0, 1.0, 1.0, 0.0, 1.0, 0.0, 1.0, 1.0, 1.0, 0.0, 1.0, 0.0, 1.0, 0.0, 0.0, 0.0, 1.0, 1.0, 0.0, 1.0, 0.0, 0.0, 1.0, 0.0, 0.0, 1.0, 0.0, 0.0, 1.0, 1.0, 0.0, 0.0, 0.0, 0.0, 0.0, 0.0, 1.0, 1.0, 1.0, 0.0, 1.0, 0.0, 0.0, 1.0, 1.0, 0.0, 1.0, 0.0, 0.0, 1.0, 1.0, 1.0, 0.0, 0.0, 0.0, 1.0, 0.0, 1.0, 0.0, 0.0, 0.0, 0.0, 0.0, 0.0, 1.0, 1.0, 1.0, 0.0, 0.0, 0.0, 1.0, 1.0, 1.0, 0.0, 1.0, 0.0, 0.0, 1.0, 1.0, 1.0, 0.0, 0.0, 0.0, 0.0, 0.0, 0.0, 0.0, 0.0, 1.0, 1.0, 0.0, 0.0, 1.0, 0.0, 1.0, 0.0, 0.0, 0.0, 0.0, 1.0, 0.0, 0.0, 1.0, 0.0, 0.0, 1.0, 1.0, 1.0, 0.0, 0.0, 1.0, 0.0, 1.0, 1.0, 0.0, 1.0, 1.0, 1.0, 0.0, 1.0, 1.0, 0.0, 0.0, 0.0, 0.0, 0.0, 0.0, 1.0, 0.0, 1.0, 0.0, 0.0, 0.0, 0.0, 1.0, 0.0, 0.0, 0.0, 0.0, 0.0, 0.0, 0.0, 0.0, 0.0, 1.0, 0.0, 0.0, 0.0, 1.0, 1.0, 1.0, 0.0, 1.0, 1.0, 0.0, 0.0, 0.0, 1.0, 1.0, 0.0, 0.0, 0.0, 0.0, 1.0, 0.0, 1.0, 0.0, 0.0, 0.0, 1.0, 1.0, 0.0, 1.0, 1.0, 0.0, 1.0, 0.0, 0.0, 0.0, 0.0, 1.0, 0.0, 0.0, 1.0, 1.0, 1.0, 0.0, 0.0, 1.0, 0.0, 0.0, 0.0, 0.0, 1.0, 1.0, 0.0, 0.0, 0.0, 0.0, 1.0, 1.0, 1.0, 0.0, 0.0, 0.0, 1.0, 1.0, 1.0, 1.0, 1.0, 1.0, 0.0, 0.0, 0.0, 0.0, 0.0, 0.0, 1.0, 0.0, 0.0, 0.0, 0.0, 1.0, 0.0, 0.0, 0.0, 0.0, 0.0, 1.0, 0.0, 1.0, 0.0, 1.0, 0.0, 1.0, 0.0, 0.0, 0.0, 0.0, 0.0, 1.0, 0.0, 0.0, 0.0, 0.0, 1.0, 0.0, 0.0, 0.0, 1.0, 0.0, 0.0, 0.0, 0.0, 0.0, 0.0, 0.0, 1.0, 1.0, 1.0, 1.0, 1.0, 0.0, 1.0, 0.0, 0.0, 0.0, 1.0, 1.0, 0.0, 0.0, 0.0, 1.0, 0.0, 0.0, 1.0, 0.0, 0.0, 1.0, 1.0, 0.0, 1.0, 0.0, 0.0, 0.0, 0.0, 1.0, 0.0, 0.0, 0.0, 0.0, 1.0, 0.0, 0.0, 0.0, 0.0, 0.0, 1.0, 1.0, 1.0, 1.0, 1.0, 1.0, 0.0, 0.0, 1.0, 0.0, 0.0, 0.0, 1.0, 1.0, 1.0, 0.0, 1.0, 1.0, 0.0, 0.0, 1.0, 0.0, 0.0, 0.0, 0.0, 1.0, 0.0, 1.0, 0.0, 0.0, 0.0, 1.0, 0.0, 0.0, 1.0, 0.0, 0.0, 0.0, 1.0, 1.0, 1.0, 0.0, 1.0, 1.0, 1.0, 0.0, 0.0, 0.0, 0.0, 0.0, 0.0, 1.0, 0.0, 0.0, 1.0, 0.0, 1.0, 0.0, 1.0, 1.0, 1.0, 0.0, 1.0, 1.0, 0.0, 0.0, 0.0, 1.0, 1.0, 1.0, 0.0, 0.0, 0.0, 0.0, 0.0, 0.0, 1.0, 0.0, 1.0, 0.0, 0.0, 0.0, 0.0, 1.0, 1.0, 0.0, 0.0, 0.0, 0.0, 1.0, 1.0, 1.0, 0.0, 1.0, 0.0, 1.0, 0.0, 1.0, 0.0, 1.0, 1.0, 1.0, 0.0, 1.0, 0.0, 0.0, 1.0, 0.0, 1.0, 1.0, 0.0, 1.0, 1.0, 0.0, 1.0, 0.0, 1.0, 0.0, 0.0, 0.0, 0.0, 1.0, 0.0, 1.0, 1.0, 0.0, 0.0, 0.0, 0.0, 0.0, 0.0, 1.0, 0.0, 0.0, 1.0, 1.0, 0.0, 1.0, 0.0, 1.0, 0.0, 0.0, 1.0, 0.0, 0.0, 0.0, 1.0, 1.0, 0.0, 1.0, 0.0, 0.0, 1.0, 0.0, 0.0, 0.0, 0.0, 0.0, 0.0, 0.0, 0.0, 0.0, 1.0, 0.0, 1.0, 0.0, 0.0, 0.0, 1.0, 1.0, 0.0, 0.0, 0.0, 1.0, 1.0, 1.0, 1.0, 0.0, 0.0, 0.0, 0.0, 0.0, 0.0, 0.0, 1.0, 0.0, 0.0, 1.0, 1.0, 1.0, 0.0, 0.0, 1.0, 0.0, 0.0, 0.0, 1.0, 0.0, 1.0, 0.0, 1.0, 0.0, 0.0, 0.0, 0.0, 0.0, 1.0, 0.0, 0.0, 1.0, 1.0, 0.0, 1.0, 1.0, 0.0, 1.0, 0.0, 1.0, 1.0, 1.0, 1.0, 0.0, 0.0, 1.0, 0.0, 1.0, 0.0, 0.0, 1.0, 1.0, 1.0, 1.0, 1.0, 1.0, 0.0, 0.0, 1.0, 1.0, 0.0, 0.0, 0.0, 0.0, 1.0, 0.0, 1.0, 0.0, 0.0, 1.0, 0.0, 1.0, 0.0, 1.0, 0.0, 0.0, 0.0, 1.0, 1.0, 0.0, 0.0, 0.0, 1.0, 1.0, 0.0, 1.0, 1.0, 0.0, 0.0, 1.0, 1.0, 0.0, 0.0, 0.0, 1.0, 0.0, 0.0, 0.0, 0.0, 0.0, 1.0, 0.0, 1.0, 0.0, 1.0, 0.0, 0.0, 1.0, 0.0, 0.0, 0.0, 0.0, 0.0, 1.0, 0.0, 0.0, 0.0, 0.0, 0.0, 0.0, 0.0, 1.0, 0.0, 0.0, 0.0, 0.0, 1.0, 1.0, 0.0, 1.0, 0.0, 1.0, 0.0, 0.0, 0.0, 0.0, 0.0, 0.0, 0.0, 1.0, 0.0, 0.0, 1.0, 1.0, 0.0, 0.0, 1.0, 1.0, 0.0, 0.0, 0.0, 1.0, 0.0, 0.0, 0.0, 1.0, 0.0, 0.0, 1.0, 1.0, 0.0, 0.0, 0.0, 0.0, 0.0, 0.0, 1.0, 0.0, 1.0, 0.0, 0.0, 0.0, 1.0, 0.0, 0.0, 0.0, 1.0, 0.0, 1.0, 0.0, 1.0, 1.0, 0.0, 0.0, 0.0, 1.0, 1.0, 0.0, 1.0, 0.0, 0.0, 1.0, 1.0, 1.0, 1.0, 0.0, 0.0, 1.0, 0.0, 0.0, 1.0, 1.0, 1.0, 0.0, 0.0, 0.0, 1.0, 0.0, 0.0, 1.0, 1.0, 0.0, 0.0, 0.0, 0.0, 1.0, 1.0, 0.0, 0.0, 0.0, 0.0, 0.0, 1.0, 1.0, 0.0, 0.0, 0.0, 1.0, 0.0, 0.0, 0.0, 0.0, 0.0, 0.0, 1.0, 0.0, 1.0, 1.0, 1.0, 1.0, 0.0, 0.0, 1.0, 0.0, 1.0, 1.0, 0.0, 0.0, 0.0, 1.0, 0.0, 1.0, 1.0, 0.0, 0.0, 1.0, 0.0, 0.0, 0.0, 0.0, 0.0, 0.0, 1.0, 0.0, 1.0, 0.0, 1.0, 1.0, 1.0, 0.0, 0.0, 0.0, 0.0, 0.0, 0.0, 0.0, 0.0, 0.0, 0.0, 1.0, 0.0, 0.0, 0.0, 0.0, 0.0, 0.0, 0.0, 1.0, 0.0, 1.0, 1.0, 0.0, 1.0, 0.0, 0.0, 0.0, 0.0, 1.0, 1.0, 1.0, 1.0, 0.0, 0.0, 0.0, 0.0, 0.0, 1.0, 0.0, 0.0, 1.0, 0.0, 1.0, 1.0, 0.0, 1.0, 0.0, 1.0, 0.0, 1.0, 1.0, 0.0, 1.0, 1.0, 0.0, 1.0, 0.0, 0.0, 1.0, 0.0, 1.0, 0.0, 1.0, 0.0, 1.0, 0.0, 0.0, 1.0, 1.0, 1.0, 0.0, 0.0, 0.0, 0.0, 1.0, 0.0, 1.0, 0.0, 1.0, 1.0, 0.0, 1.0, 0.0, 0.0, 1.0, 0.0, 1.0, 0.0, 0.0, 1.0, 1.0, 1.0, 0.0, 0.0, 0.0, 1.0, 0.0, 0.0, 0.0, 0.0, 0.0, 1.0, 0.0, 1.0, 1.0, 1.0, 1.0, 0.0, 0.0, 0.0, 0.0, 0.0, 0.0, 1.0, 1.0, 1.0, 1.0, 0.0, 1.0, 0.0, 0.0, 0.0, 1.0, 1.0, 0.0, 1.0, 0.0, 0.0, 1.0, 1.0, 0.0, 0.0, 1.0, 1.0, 0.0, 1.0, 0.0, 1.0, 1.0, 1.0, 1.0, 1.0, 0.0, 1.0, 0.0, 0.0, 0.0, 1.0, 0.0, 0.0, 1.0, 1.0, 0.0, 1.0, 0.0, 0.0, 1.0, 0.0, 1.0, 1.0, 0.0, 0.0, 1.0, 1.0, 0.0, 0.0, 1.0, 0.0, 1.0, 0.0, 0.0, 1.0, 0.0, 1.0, 1.0, 1.0, 1.0, 0.0, 0.0, 0.0, 0.0, 0.0, 0.0, 0.0, 0.0, 0.0, 0.0, 0.0, 0.0, 1.0, 1.0, 1.0, 0.0, 1.0, 0.0, 0.0, 1.0, 0.0, 0.0, 1.0, 1.0, 1.0, 0.0, 1.0, 0.0, 1.0, 1.0, 1.0, 0.0, 0.0, 0.0, 1.0, 0.0, 0.0, 1.0, 0.0, 0.0, 0.0, 0.0, 1.0, 1.0, 1.0, 1.0, 1.0, 0.0, 1.0, 1.0, 0.0, 0.0, 1.0, 0.0, 0.0, 1.0, 0.0, 1.0, 1.0, 1.0, 1.0, 1.0, 0.0, 0.0, 0.0, 0.0, 1.0, 1.0, 0.0, 0.0, 0.0, 1.0, 0.0, 0.0, 1.0, 0.0, 1.0, 0.0, 1.0, 0.0, 1.0, 0.0, 1.0, 0.0, 0.0, 0.0, 0.0, 1.0, 1.0, 0.0, 0.0, 0.0, 1.0, 0.0, 0.0, 1.0, 1.0, 1.0, 1.0, 0.0, 0.0, 0.0, 1.0, 0.0, 1.0, 1.0, 1.0, 0.0, 0.0, 0.0, 1.0, 1.0, 0.0, 0.0, 0.0, 1.0, 1.0, 1.0, 0.0, 0.0, 1.0, 0.0, 0.0, 0.0, 0.0, 1.0, 1.0, 1.0, 0.0, 0.0, 0.0, 0.0, 1.0, 1.0, 0.0, 0.0, 1.0, 0.0, 0.0, 0.0, 1.0, 0.0, 1.0, 1.0, 0.0, 1.0, 0.0, 1.0, 0.0, 1.0, 0.0, 0.0, 0.0, 0.0, 0.0, 1.0, 1.0, 1.0, 0.0, 0.0, 0.0, 0.0, 1.0, 0.0, 0.0, 0.0, 1.0, 0.0, 0.0, 1.0, 0.0, 0.0, 1.0, 0.0, 1.0, 0.0, 0.0, 0.0, 1.0, 0.0, 1.0, 0.0, 1.0, 1.0, 0.0, 0.0, 0.0, 0.0, 1.0, 1.0, 1.0, 0.0, 0.0, 0.0, 1.0, 0.0, 1.0, 0.0, 1.0, 0.0, 1.0, 0.0, 0.0, 1.0, 1.0, 0.0, 1.0, 1.0, 0.0, 1.0, 1.0, 0.0, 1.0, 0.0, 0.0, 1.0, 0.0, 1.0, 0.0, 1.0, 0.0, 1.0, 1.0, 0.0, 0.0, 0.0, 1.0, 0.0, 1.0, 0.0, 0.0, 1.0, 0.0, 0.0, 1.0, 0.0, 1.0, 1.0, 1.0, 1.0, 0.0, 0.0, 1.0, 1.0, 0.0, 0.0, 1.0, 1.0, 0.0, 0.0, 0.0, 0.0, 1.0, 0.0, 1.0, 1.0, 1.0, 1.0, 0.0, 0.0, 1.0, 0.0, 1.0, 0.0, 0.0, 0.0, 1.0, 1.0, 0.0, 0.0, 0.0, 0.0, 1.0, 0.0, 0.0, 0.0, 0.0, 0.0, 0.0, 1.0, 0.0, 0.0, 0.0, 1.0, 0.0, 0.0, 1.0, 0.0, 1.0, 0.0, 0.0, 0.0, 0.0, 1.0, 0.0, 0.0, 1.0, 1.0, 1.0, 0.0, 1.0, 0.0, 0.0, 1.0, 0.0, 1.0, 1.0, 1.0, 0.0, 1.0, 1.0, 1.0, 0.0, 1.0, 0.0, 1.0, 0.0, 0.0, 0.0, 0.0, 1.0, 0.0, 0.0, 1.0, 1.0, 0.0, 1.0, 0.0, 1.0, 0.0, 0.0, 0.0, 0.0, 0.0, 1.0, 1.0, 0.0, 1.0, 0.0, 1.0, 0.0, 0.0, 1.0, 0.0, 0.0, 1.0, 0.0, 1.0, 1.0, 1.0, 0.0, 0.0, 0.0, 0.0, 0.0, 0.0, 1.0, 1.0, 0.0, 1.0, 0.0, 0.0, 1.0, 1.0, 1.0, 1.0, 0.0, 1.0, 0.0, 0.0, 1.0, 0.0, 0.0, 0.0, 0.0, 0.0, 0.0, 0.0, 0.0, 1.0, 0.0, 1.0, 0.0, 1.0, 0.0, 1.0, 1.0, 0.0, 0.0, 0.0, 0.0, 0.0, 1.0, 1.0, 0.0, 1.0, 0.0, 1.0, 0.0, 0.0, 1.0, 0.0, 1.0, 1.0, 1.0, 1.0, 1.0, 1.0, 1.0, 0.0, 1.0, 0.0, 0.0, 0.0, 0.0, 0.0, 0.0, 1.0, 0.0, 1.0, 0.0, 0.0, 1.0, 1.0, 0.0, 1.0, 1.0, 0.0, 0.0, 0.0, 1.0, 0.0, 1.0, 0.0, 0.0, 1.0, 0.0, 0.0, 1.0, 1.0, 0.0, 0.0, 1.0, 0.0, 1.0, 1.0, 1.0, 0.0, 1.0, 0.0, 0.0, 1.0, 1.0, 1.0, 1.0, 0.0, 0.0, 0.0, 0.0, 1.0, 1.0, 1.0, 1.0, 0.0, 0.0, 0.0, 0.0, 1.0, 1.0, 1.0, 0.0, 0.0, 0.0, 0.0, 0.0, 0.0, 0.0, 0.0, 1.0, 1.0, 0.0, 0.0, 1.0, 0.0, 0.0, 1.0, 1.0, 0.0, 0.0, 1.0, 1.0, 0.0, 0.0, 0.0, 1.0, 0.0, 0.0, 1.0, 1.0, 0.0, 0.0, 0.0, 0.0, 0.0, 1.0, 0.0, 0.0, 0.0, 0.0, 1.0, 0.0, 0.0, 0.0, 0.0, 1.0, 0.0, 0.0, 1.0, 0.0, 0.0, 1.0, 0.0, 1.0, 1.0, 0.0, 1.0, 0.0, 1.0, 0.0, 1.0, 0.0, 1.0, 0.0, 1.0, 1.0, 0.0, 0.0, 0.0, 0.0, 1.0, 0.0, 1.0, 0.0, 0.0, 0.0, 1.0, 1.0, 0.0, 0.0, 0.0, 1.0, 0.0, 0.0, 1.0, 1.0, 0.0, 1.0, 1.0, 1.0, 0.0, 0.0, 1.0, 1.0, 0.0, 0.0, 0.0, 0.0, 1.0, 1.0, 0.0, 1.0, 0.0, 0.0, 0.0, 1.0, 0.0, 1.0, 0.0, 0.0, 0.0, 1.0, 0.0, 0.0, 1.0, 0.0, 1.0, 1.0, 1.0, 0.0, 0.0, 1.0, 1.0, 0.0, 1.0, 0.0, 0.0, 1.0, 0.0, 1.0, 1.0, 0.0, 1.0, 0.0, 1.0, 0.0, 0.0, 0.0, 1.0, 1.0, 1.0, 0.0, 0.0, 1.0, 0.0, 0.0], 'tour_cost': 8372586.815250767, 'packing_plan_cost': 797994.0}),\n",
       " struct({'tour': [37, 261, 63, 246, 190, 177, 165, 252, 268, 29, 94, 75, 119, 233, 269, 33, 101, 130, 56, 274, 76, 139, 236, 171, 150, 144, 278, 125, 65, 111, 90, 226, 127, 173, 167, 224, 162, 189, 42, 136, 22, 186, 24, 32, 121, 19, 2, 228, 23, 194, 48, 215, 244, 242, 26, 21, 70, 8, 49, 1, 14, 72, 85, 163, 265, 9, 235, 50, 183, 140, 255, 11, 239, 68, 149, 251, 184, 230, 193, 51, 210, 108, 132, 107, 118, 25, 262, 123, 73, 151, 54, 129, 157, 217, 243, 222, 201, 216, 170, 120, 27, 59, 106, 214, 263, 227, 34, 155, 220, 175, 256, 100, 138, 82, 232, 69, 178, 273, 147, 202, 20, 160, 13, 219, 168, 185, 199, 231, 116, 238, 92, 156, 209, 174, 124, 5, 200, 98, 249, 105, 248, 241, 148, 109, 113, 16, 277, 188, 234, 135, 78, 53, 141, 39, 266, 158, 146, 114, 133, 169, 46, 83, 43, 41, 104, 96, 55, 240, 181, 88, 87, 270, 52, 36, 176, 164, 191, 279, 115, 64, 143, 10, 259, 0, 71, 15, 134, 276, 57, 179, 84, 187, 47, 208, 31, 7, 272, 152, 35, 271, 40, 18, 213, 28, 122, 264, 205, 6, 267, 93, 153, 86, 60, 12, 126, 275, 225, 245, 221, 145, 89, 211, 112, 91, 218, 192, 61, 99, 180, 161, 137, 17, 195, 3, 117, 103, 102, 253, 254, 128, 182, 38, 97, 131, 142, 237, 166, 159, 62, 81, 223, 110, 203, 67, 80, 260, 198, 250, 154, 30, 58, 66, 4, 212, 206, 204, 257, 197, 247, 45, 95, 172, 74, 77, 207, 44, 196, 79, 258, 229], 'packing_plan': [1.0, 0.0, 1.0, 0.0, 0.0, 0.0, 1.0, 1.0, 0.0, 1.0, 1.0, 1.0, 0.0, 0.0, 1.0, 1.0, 1.0, 1.0, 0.0, 0.0, 1.0, 0.0, 1.0, 1.0, 1.0, 0.0, 1.0, 0.0, 1.0, 1.0, 1.0, 0.0, 1.0, 0.0, 0.0, 1.0, 0.0, 0.0, 0.0, 0.0, 1.0, 1.0, 0.0, 0.0, 1.0, 0.0, 0.0, 1.0, 0.0, 0.0, 1.0, 0.0, 1.0, 1.0, 0.0, 0.0, 0.0, 0.0, 1.0, 0.0, 1.0, 1.0, 1.0, 0.0, 1.0, 0.0, 0.0, 0.0, 0.0, 0.0, 1.0, 1.0, 1.0, 1.0, 1.0, 0.0, 1.0, 0.0, 0.0, 1.0, 0.0, 0.0, 1.0, 0.0, 0.0, 1.0, 1.0, 1.0, 0.0, 0.0, 0.0, 0.0, 0.0, 1.0, 0.0, 0.0, 1.0, 0.0, 0.0, 1.0, 0.0, 1.0, 1.0, 1.0, 1.0, 1.0, 0.0, 1.0, 0.0, 1.0, 0.0, 0.0, 1.0, 1.0, 1.0, 0.0, 1.0, 0.0, 0.0, 1.0, 0.0, 1.0, 0.0, 1.0, 1.0, 1.0, 0.0, 0.0, 1.0, 0.0, 0.0, 1.0, 0.0, 1.0, 1.0, 1.0, 1.0, 1.0, 0.0, 1.0, 1.0, 1.0, 0.0, 0.0, 1.0, 0.0, 0.0, 0.0, 0.0, 0.0, 0.0, 1.0, 1.0, 0.0, 0.0, 1.0, 0.0, 1.0, 0.0, 1.0, 1.0, 0.0, 1.0, 1.0, 0.0, 1.0, 1.0, 1.0, 0.0, 0.0, 1.0, 1.0, 1.0, 1.0, 0.0, 1.0, 0.0, 0.0, 0.0, 1.0, 1.0, 1.0, 0.0, 0.0, 0.0, 1.0, 0.0, 0.0, 1.0, 0.0, 0.0, 1.0, 1.0, 1.0, 0.0, 1.0, 0.0, 1.0, 1.0, 0.0, 0.0, 0.0, 0.0, 0.0, 1.0, 1.0, 0.0, 1.0, 1.0, 1.0, 0.0, 0.0, 0.0, 0.0, 0.0, 0.0, 0.0, 1.0, 1.0, 0.0, 1.0, 0.0, 0.0, 1.0, 0.0, 0.0, 1.0, 0.0, 0.0, 1.0, 0.0, 1.0, 0.0, 0.0, 0.0, 0.0, 0.0, 0.0, 0.0, 0.0, 1.0, 0.0, 0.0, 0.0, 0.0, 1.0, 0.0, 0.0, 1.0, 1.0, 0.0, 1.0, 0.0, 0.0, 1.0, 0.0, 1.0, 0.0, 1.0, 1.0, 1.0, 1.0, 1.0, 1.0, 0.0, 0.0, 0.0, 0.0, 0.0, 0.0, 1.0, 0.0, 1.0, 1.0, 1.0, 1.0, 1.0, 0.0, 1.0, 1.0, 0.0, 1.0, 0.0, 1.0, 1.0, 0.0, 0.0, 1.0, 0.0, 1.0, 1.0, 0.0, 1.0, 0.0, 1.0, 1.0, 1.0, 0.0, 0.0, 1.0, 1.0, 1.0, 0.0, 0.0, 1.0, 1.0, 1.0, 1.0, 1.0, 0.0, 1.0, 0.0, 1.0, 0.0, 1.0, 1.0, 1.0, 1.0, 0.0, 0.0, 0.0, 1.0, 0.0, 0.0, 0.0, 0.0, 1.0, 0.0, 1.0, 1.0, 0.0, 0.0, 0.0, 1.0, 1.0, 0.0, 0.0, 1.0, 1.0, 0.0, 0.0, 1.0, 1.0, 1.0, 1.0, 0.0, 0.0, 0.0, 0.0, 1.0, 0.0, 0.0, 1.0, 0.0, 1.0, 0.0, 1.0, 1.0, 0.0, 1.0, 0.0, 1.0, 0.0, 0.0, 1.0, 0.0, 1.0, 1.0, 0.0, 1.0, 1.0, 0.0, 1.0, 1.0, 1.0, 1.0, 1.0, 1.0, 0.0, 1.0, 1.0, 1.0, 1.0, 0.0, 0.0, 1.0, 1.0, 1.0, 1.0, 0.0, 0.0, 0.0, 0.0, 0.0, 1.0, 1.0, 1.0, 0.0, 1.0, 1.0, 0.0, 0.0, 1.0, 0.0, 0.0, 1.0, 0.0, 1.0, 1.0, 1.0, 1.0, 1.0, 1.0, 1.0, 0.0, 0.0, 1.0, 0.0, 0.0, 0.0, 1.0, 0.0, 1.0, 0.0, 0.0, 0.0, 1.0, 1.0, 1.0, 0.0, 1.0, 1.0, 1.0, 1.0, 0.0, 0.0, 1.0, 1.0, 0.0, 1.0, 1.0, 1.0, 0.0, 1.0, 0.0, 0.0, 1.0, 1.0, 1.0, 1.0, 0.0, 1.0, 0.0, 0.0, 0.0, 1.0, 1.0, 1.0, 1.0, 0.0, 1.0, 1.0, 1.0, 1.0, 0.0, 1.0, 0.0, 0.0, 1.0, 0.0, 0.0, 1.0, 0.0, 1.0, 1.0, 0.0, 0.0, 1.0, 1.0, 1.0, 0.0, 1.0, 0.0, 0.0, 0.0, 1.0, 0.0, 1.0, 1.0, 1.0, 1.0, 1.0, 0.0, 1.0, 1.0, 0.0, 1.0, 1.0, 0.0, 1.0, 1.0, 0.0, 1.0, 1.0, 0.0, 1.0, 0.0, 0.0, 1.0, 1.0, 1.0, 0.0, 1.0, 0.0, 1.0, 0.0, 1.0, 0.0, 1.0, 0.0, 1.0, 1.0, 0.0, 1.0, 0.0, 1.0, 0.0, 0.0, 0.0, 0.0, 1.0, 0.0, 0.0, 0.0, 0.0, 1.0, 1.0, 1.0, 1.0, 1.0, 1.0, 0.0, 1.0, 1.0, 0.0, 1.0, 1.0, 1.0, 0.0, 0.0, 1.0, 0.0, 0.0, 1.0, 0.0, 1.0, 1.0, 1.0, 0.0, 0.0, 0.0, 1.0, 1.0, 0.0, 1.0, 0.0, 0.0, 1.0, 0.0, 1.0, 1.0, 1.0, 0.0, 1.0, 1.0, 1.0, 0.0, 1.0, 1.0, 1.0, 1.0, 0.0, 1.0, 0.0, 0.0, 1.0, 1.0, 1.0, 0.0, 0.0, 1.0, 1.0, 0.0, 1.0, 0.0, 0.0, 1.0, 0.0, 0.0, 0.0, 1.0, 1.0, 0.0, 1.0, 0.0, 0.0, 0.0, 1.0, 1.0, 0.0, 0.0, 0.0, 0.0, 1.0, 1.0, 0.0, 1.0, 0.0, 1.0, 0.0, 0.0, 0.0, 1.0, 0.0, 0.0, 0.0, 1.0, 1.0, 0.0, 0.0, 0.0, 1.0, 1.0, 1.0, 0.0, 0.0, 0.0, 0.0, 1.0, 0.0, 1.0, 0.0, 0.0, 1.0, 0.0, 1.0, 1.0, 0.0, 0.0, 0.0, 0.0, 1.0, 0.0, 0.0, 0.0, 1.0, 0.0, 1.0, 1.0, 0.0, 0.0, 0.0, 1.0, 1.0, 1.0, 0.0, 1.0, 1.0, 0.0, 1.0, 0.0, 0.0, 1.0, 1.0, 1.0, 1.0, 0.0, 0.0, 0.0, 1.0, 1.0, 0.0, 0.0, 1.0, 0.0, 0.0, 0.0, 0.0, 0.0, 0.0, 1.0, 0.0, 0.0, 1.0, 1.0, 0.0, 0.0, 1.0, 1.0, 1.0, 1.0, 0.0, 1.0, 0.0, 1.0, 0.0, 1.0, 1.0, 1.0, 1.0, 0.0, 1.0, 1.0, 0.0, 1.0, 1.0, 1.0, 1.0, 0.0, 0.0, 1.0, 1.0, 0.0, 0.0, 0.0, 0.0, 0.0, 0.0, 0.0, 0.0, 0.0, 0.0, 1.0, 0.0, 0.0, 1.0, 1.0, 0.0, 0.0, 1.0, 1.0, 1.0, 0.0, 0.0, 0.0, 1.0, 0.0, 0.0, 1.0, 0.0, 0.0, 1.0, 1.0, 1.0, 0.0, 1.0, 1.0, 0.0, 0.0, 1.0, 1.0, 1.0, 1.0, 1.0, 0.0, 1.0, 0.0, 1.0, 0.0, 0.0, 1.0, 1.0, 0.0, 1.0, 1.0, 0.0, 1.0, 1.0, 0.0, 0.0, 1.0, 0.0, 1.0, 1.0, 0.0, 1.0, 1.0, 1.0, 0.0, 0.0, 0.0, 1.0, 0.0, 0.0, 1.0, 0.0, 0.0, 0.0, 0.0, 1.0, 0.0, 0.0, 1.0, 1.0, 0.0, 1.0, 1.0, 0.0, 0.0, 0.0, 1.0, 0.0, 1.0, 0.0, 1.0, 0.0, 0.0, 0.0, 0.0, 0.0, 1.0, 0.0, 0.0, 0.0, 1.0, 0.0, 1.0, 1.0, 1.0, 0.0, 0.0, 1.0, 0.0, 0.0, 0.0, 1.0, 1.0, 0.0, 1.0, 0.0, 1.0, 0.0, 1.0, 1.0, 1.0, 1.0, 1.0, 1.0, 1.0, 1.0, 0.0, 0.0, 1.0, 1.0, 0.0, 1.0, 0.0, 0.0, 1.0, 1.0, 1.0, 0.0, 1.0, 0.0, 0.0, 1.0, 0.0, 0.0, 0.0, 0.0, 0.0, 1.0, 0.0, 1.0, 1.0, 1.0, 0.0, 0.0, 1.0, 1.0, 1.0, 0.0, 1.0, 0.0, 1.0, 0.0, 1.0, 0.0, 1.0, 1.0, 0.0, 1.0, 0.0, 1.0, 0.0, 0.0, 1.0, 0.0, 1.0, 0.0, 1.0, 1.0, 0.0, 0.0, 1.0, 0.0, 1.0, 0.0, 1.0, 0.0, 0.0, 0.0, 0.0, 1.0, 1.0, 0.0, 0.0, 0.0, 0.0, 1.0, 1.0, 1.0, 0.0, 1.0, 1.0, 0.0, 1.0, 1.0, 1.0, 1.0, 1.0, 0.0, 0.0, 1.0, 1.0, 0.0, 1.0, 1.0, 0.0, 0.0, 0.0, 0.0, 1.0, 1.0, 0.0, 0.0, 0.0, 0.0, 1.0, 0.0, 1.0, 1.0, 0.0, 0.0, 1.0, 1.0, 1.0, 0.0, 0.0, 1.0, 1.0, 0.0, 0.0, 1.0, 1.0, 0.0, 1.0, 1.0, 0.0, 0.0, 1.0, 0.0, 0.0, 0.0, 0.0, 0.0, 0.0, 0.0, 0.0, 1.0, 0.0, 1.0, 1.0, 0.0, 1.0, 1.0, 0.0, 1.0, 0.0, 1.0, 1.0, 1.0, 1.0, 0.0, 0.0, 1.0, 1.0, 1.0, 1.0, 0.0, 1.0, 1.0, 1.0, 1.0, 1.0, 1.0, 0.0, 1.0, 0.0, 1.0, 1.0, 1.0, 0.0, 0.0, 1.0, 1.0, 0.0, 0.0, 1.0, 0.0, 0.0, 0.0, 1.0, 0.0, 1.0, 1.0, 1.0, 1.0, 0.0, 0.0, 1.0, 0.0, 1.0, 1.0, 1.0, 1.0, 1.0, 0.0, 0.0, 1.0, 0.0, 0.0, 0.0, 1.0, 0.0, 1.0, 0.0, 1.0, 1.0, 0.0, 0.0, 0.0, 1.0, 1.0, 1.0, 0.0, 0.0, 1.0, 1.0, 0.0, 1.0, 0.0, 1.0, 0.0, 0.0, 1.0, 0.0, 0.0, 0.0, 1.0, 0.0, 0.0, 1.0, 0.0, 1.0, 0.0, 1.0, 1.0, 0.0, 0.0, 1.0, 1.0, 0.0, 0.0, 0.0, 1.0, 1.0, 1.0, 1.0, 1.0, 0.0, 1.0, 1.0, 0.0, 1.0, 0.0, 1.0, 1.0, 1.0, 1.0, 1.0, 0.0, 0.0, 1.0, 1.0, 0.0, 1.0, 1.0, 1.0, 0.0, 0.0, 1.0, 0.0, 0.0, 0.0, 0.0, 0.0, 1.0, 1.0, 1.0, 1.0, 0.0, 1.0, 1.0, 0.0, 1.0, 0.0, 1.0, 1.0, 0.0, 0.0, 0.0, 0.0, 0.0, 1.0, 0.0, 1.0, 0.0, 1.0, 0.0, 0.0, 0.0, 1.0, 0.0, 1.0, 1.0, 0.0, 1.0, 0.0, 0.0, 1.0, 0.0, 1.0, 0.0, 1.0, 1.0, 1.0, 1.0, 0.0, 1.0, 0.0, 0.0, 0.0, 1.0, 0.0, 0.0, 0.0, 0.0, 0.0, 1.0, 0.0, 1.0, 1.0, 1.0, 1.0, 1.0, 1.0, 1.0, 0.0, 0.0, 1.0, 1.0, 1.0, 0.0, 1.0, 0.0, 1.0, 1.0, 1.0, 1.0, 0.0, 0.0, 0.0, 1.0, 0.0, 0.0, 0.0, 1.0, 0.0, 1.0, 1.0, 1.0, 0.0, 0.0, 0.0, 0.0, 0.0, 0.0, 1.0, 1.0, 1.0, 0.0, 1.0, 0.0, 0.0, 0.0, 0.0, 1.0, 0.0, 0.0, 1.0, 0.0, 1.0, 0.0, 1.0, 0.0, 0.0, 1.0, 1.0, 1.0, 0.0, 0.0, 0.0, 1.0, 1.0, 1.0, 0.0, 1.0, 1.0, 0.0, 1.0, 0.0, 0.0, 0.0, 1.0, 1.0, 0.0, 1.0, 0.0, 0.0, 0.0, 0.0, 1.0, 0.0, 0.0, 1.0, 1.0, 0.0, 1.0, 0.0, 1.0, 1.0, 1.0, 1.0, 1.0, 0.0, 1.0, 0.0, 0.0, 1.0, 1.0, 1.0, 0.0, 1.0, 0.0, 0.0, 1.0, 0.0, 1.0, 1.0, 0.0, 1.0, 1.0, 1.0, 0.0, 0.0, 0.0, 0.0, 1.0, 1.0, 1.0, 1.0, 1.0, 0.0, 1.0, 1.0, 0.0, 1.0, 1.0, 0.0, 1.0, 0.0, 0.0, 1.0, 1.0, 1.0, 1.0, 0.0, 0.0, 1.0, 0.0, 1.0, 0.0, 0.0, 0.0, 1.0, 0.0, 0.0, 1.0, 1.0, 1.0, 0.0, 0.0, 0.0, 1.0, 1.0, 1.0, 1.0, 1.0, 0.0, 0.0, 1.0, 1.0, 1.0, 0.0, 0.0, 1.0, 0.0, 0.0, 0.0, 1.0, 0.0, 1.0, 1.0, 0.0, 0.0, 1.0, 0.0, 1.0, 0.0, 0.0, 0.0, 1.0, 1.0, 0.0, 0.0, 1.0, 1.0, 0.0, 1.0, 1.0, 1.0, 1.0, 0.0, 1.0, 0.0, 1.0, 1.0, 0.0, 1.0, 1.0, 1.0, 0.0, 1.0, 1.0, 1.0, 1.0, 1.0, 1.0, 0.0, 0.0, 1.0, 0.0, 1.0, 1.0, 0.0, 0.0, 0.0, 1.0, 0.0, 0.0, 1.0, 0.0, 1.0, 0.0, 0.0, 1.0, 1.0, 1.0, 1.0, 0.0, 0.0, 1.0, 1.0, 1.0, 0.0, 1.0, 1.0, 0.0, 0.0, 0.0, 1.0, 1.0, 0.0, 0.0, 0.0, 0.0, 1.0, 1.0, 1.0, 1.0, 0.0, 0.0, 1.0, 1.0, 0.0, 1.0, 1.0, 0.0, 1.0, 0.0, 0.0, 0.0, 0.0, 1.0, 1.0, 1.0, 1.0, 1.0, 1.0, 0.0, 0.0, 1.0, 0.0, 1.0, 0.0, 0.0, 1.0, 1.0, 0.0, 0.0, 0.0, 0.0, 1.0, 1.0, 1.0, 0.0, 0.0, 1.0, 1.0, 1.0, 1.0, 1.0, 1.0, 1.0, 1.0, 0.0, 0.0, 0.0, 0.0, 0.0, 1.0, 0.0, 0.0, 0.0, 1.0, 1.0, 0.0, 0.0, 0.0, 0.0, 1.0, 1.0, 0.0, 1.0, 0.0, 1.0, 0.0, 1.0, 1.0, 0.0, 0.0, 0.0, 0.0, 1.0, 0.0, 0.0, 0.0, 0.0, 1.0, 0.0, 1.0, 0.0, 1.0, 0.0, 0.0, 1.0, 0.0, 1.0, 0.0, 0.0, 1.0, 1.0, 1.0, 1.0, 1.0, 0.0, 1.0, 0.0, 1.0, 1.0, 1.0, 1.0, 0.0, 0.0, 0.0, 1.0, 0.0, 1.0, 1.0, 1.0, 1.0, 1.0, 1.0, 0.0, 1.0, 0.0, 0.0, 0.0, 0.0, 1.0, 0.0, 1.0, 1.0, 0.0, 1.0, 0.0, 0.0, 0.0, 0.0, 1.0, 1.0, 1.0, 1.0, 1.0, 1.0, 1.0, 0.0, 0.0, 1.0, 0.0, 0.0, 0.0, 1.0, 1.0, 1.0, 0.0, 1.0, 1.0, 0.0, 1.0, 1.0, 0.0, 0.0, 1.0, 0.0, 1.0, 0.0, 1.0, 0.0, 0.0, 0.0, 1.0, 0.0, 0.0, 1.0, 0.0, 0.0, 0.0, 1.0, 1.0, 1.0, 0.0, 1.0, 1.0, 1.0, 0.0, 0.0, 0.0, 0.0, 0.0, 0.0, 1.0, 0.0, 0.0, 1.0, 0.0, 1.0, 0.0, 1.0, 1.0, 1.0, 0.0, 1.0, 1.0, 0.0, 0.0, 0.0, 1.0, 1.0, 1.0, 0.0, 1.0, 0.0, 0.0, 1.0, 0.0, 1.0, 0.0, 1.0, 1.0, 0.0, 0.0, 1.0, 1.0, 1.0, 0.0, 0.0, 0.0, 0.0, 1.0, 1.0, 1.0, 0.0, 1.0, 0.0, 1.0, 0.0, 1.0, 0.0, 1.0, 1.0, 1.0, 0.0, 1.0, 1.0, 0.0, 1.0, 0.0, 1.0, 1.0, 0.0, 1.0, 1.0, 1.0, 1.0, 0.0, 1.0, 0.0, 0.0, 0.0, 0.0, 1.0, 0.0, 1.0, 1.0, 1.0, 0.0, 1.0, 1.0, 0.0, 0.0, 1.0, 0.0, 0.0, 1.0, 1.0, 0.0, 1.0, 0.0, 1.0, 1.0, 0.0, 1.0, 0.0, 1.0, 1.0, 1.0, 1.0, 0.0, 1.0, 0.0, 0.0, 1.0, 0.0, 0.0, 0.0, 0.0, 0.0, 0.0, 0.0, 1.0, 0.0, 1.0, 0.0, 1.0, 1.0, 1.0, 0.0, 1.0, 1.0, 0.0, 0.0, 0.0, 1.0, 1.0, 1.0, 1.0, 0.0, 1.0, 1.0, 0.0, 0.0, 0.0, 0.0, 1.0, 0.0, 0.0, 1.0, 1.0, 1.0, 0.0, 0.0, 1.0, 0.0, 0.0, 0.0, 1.0, 0.0, 1.0, 0.0, 1.0, 0.0, 1.0, 0.0, 0.0, 1.0, 1.0, 0.0, 0.0, 1.0, 1.0, 0.0, 1.0, 1.0, 0.0, 1.0, 0.0, 1.0, 1.0, 1.0, 1.0, 0.0, 0.0, 1.0, 1.0, 1.0, 0.0, 1.0, 1.0, 1.0, 1.0, 1.0, 1.0, 1.0, 0.0, 1.0, 1.0, 1.0, 0.0, 0.0, 1.0, 0.0, 1.0, 0.0, 1.0, 0.0, 1.0, 1.0, 1.0, 1.0, 0.0, 1.0, 0.0, 0.0, 0.0, 1.0, 1.0, 0.0, 0.0, 1.0, 1.0, 1.0, 0.0, 1.0, 1.0, 0.0, 0.0, 1.0, 1.0, 0.0, 1.0, 0.0, 1.0, 1.0, 0.0, 0.0, 1.0, 1.0, 1.0, 0.0, 1.0, 0.0, 1.0, 0.0, 0.0, 1.0, 0.0, 0.0, 0.0, 1.0, 0.0, 1.0, 0.0, 1.0, 1.0, 1.0, 0.0, 0.0, 0.0, 1.0, 0.0, 1.0, 1.0, 0.0, 1.0, 1.0, 0.0, 1.0, 0.0, 1.0, 0.0, 0.0, 1.0, 1.0, 0.0, 0.0, 0.0, 1.0, 0.0, 0.0, 1.0, 1.0, 1.0, 0.0, 1.0, 1.0, 1.0, 1.0, 0.0, 1.0, 0.0, 1.0, 0.0, 1.0, 1.0, 0.0, 1.0, 1.0, 0.0, 1.0, 1.0, 0.0, 0.0, 1.0, 1.0, 0.0, 1.0, 0.0, 1.0, 0.0, 1.0, 0.0, 0.0, 0.0, 1.0, 1.0, 1.0, 0.0, 1.0, 1.0, 1.0, 1.0, 0.0, 1.0, 1.0, 0.0, 1.0, 0.0, 0.0, 1.0, 1.0, 1.0, 1.0, 0.0, 0.0, 1.0, 0.0, 1.0, 1.0, 1.0, 1.0, 0.0, 1.0, 0.0, 1.0, 0.0, 0.0, 1.0, 1.0, 0.0, 0.0, 0.0, 0.0, 1.0, 1.0, 0.0, 0.0, 0.0, 0.0, 0.0, 1.0, 1.0, 1.0, 0.0, 0.0, 1.0, 0.0, 0.0, 0.0, 0.0, 0.0, 0.0, 1.0, 1.0, 1.0, 1.0, 1.0, 1.0, 0.0, 0.0, 1.0, 0.0, 1.0, 1.0, 0.0, 0.0, 0.0, 1.0, 1.0, 1.0, 1.0, 0.0, 1.0, 1.0, 0.0, 1.0, 0.0, 0.0, 0.0, 0.0, 1.0, 0.0, 1.0, 0.0, 1.0, 1.0, 1.0, 1.0, 0.0, 0.0, 0.0, 0.0, 0.0, 0.0, 0.0, 0.0, 0.0, 1.0, 0.0, 0.0, 0.0, 0.0, 0.0, 1.0, 0.0, 1.0, 0.0, 1.0, 1.0, 1.0, 1.0, 0.0, 1.0, 0.0, 0.0, 1.0, 1.0, 1.0, 1.0, 1.0, 0.0, 0.0, 0.0, 0.0, 1.0, 1.0, 0.0, 1.0, 0.0, 1.0, 1.0, 0.0, 1.0, 0.0, 1.0, 1.0, 1.0, 1.0, 0.0, 1.0, 1.0, 0.0, 1.0, 0.0, 0.0, 1.0, 1.0, 1.0, 0.0, 1.0, 0.0, 1.0, 0.0, 1.0, 1.0, 1.0, 1.0, 0.0, 0.0, 0.0, 1.0, 1.0, 1.0, 1.0, 0.0, 1.0, 1.0, 0.0, 1.0, 0.0, 0.0, 1.0, 0.0, 1.0, 0.0, 0.0, 1.0, 1.0, 1.0, 0.0, 0.0, 1.0, 1.0, 0.0, 0.0, 0.0, 0.0, 0.0, 1.0, 0.0, 1.0, 1.0, 1.0, 1.0, 1.0, 0.0, 0.0, 0.0, 0.0, 0.0, 1.0, 1.0, 1.0, 1.0, 1.0, 1.0, 1.0, 0.0, 0.0, 1.0, 1.0, 0.0, 1.0, 0.0, 1.0, 1.0, 1.0, 0.0, 1.0, 1.0, 1.0, 1.0, 1.0, 0.0, 1.0, 1.0, 1.0, 1.0, 1.0, 0.0, 1.0, 0.0, 0.0, 0.0, 1.0, 0.0, 0.0, 1.0, 1.0, 0.0, 1.0, 0.0, 0.0, 1.0, 1.0, 1.0, 1.0, 1.0, 0.0, 1.0, 1.0, 1.0, 0.0, 1.0, 0.0, 1.0, 0.0, 1.0, 1.0, 0.0, 1.0, 1.0, 1.0, 1.0, 0.0, 0.0, 0.0, 0.0, 0.0, 0.0, 1.0, 0.0, 0.0, 0.0, 1.0, 1.0, 1.0, 1.0, 1.0, 0.0, 1.0, 1.0, 1.0, 1.0, 0.0, 0.0, 1.0, 1.0, 1.0, 1.0, 1.0, 0.0, 1.0, 1.0, 1.0, 0.0, 0.0, 0.0, 1.0, 1.0, 0.0, 1.0, 0.0, 0.0, 0.0, 0.0, 1.0, 1.0, 1.0, 1.0, 1.0, 1.0, 1.0, 1.0, 1.0, 0.0, 1.0, 0.0, 0.0, 1.0, 0.0, 1.0, 1.0, 1.0, 1.0, 1.0, 0.0, 0.0, 0.0, 0.0, 1.0, 1.0, 0.0, 0.0, 0.0, 1.0, 0.0, 1.0, 1.0, 0.0, 1.0, 0.0, 1.0, 0.0, 1.0, 0.0, 1.0, 0.0, 1.0, 0.0, 0.0, 1.0, 1.0, 0.0, 0.0, 0.0, 1.0, 0.0, 0.0, 1.0, 1.0, 1.0, 1.0, 1.0, 0.0, 0.0, 1.0, 0.0, 1.0, 1.0, 1.0, 0.0, 0.0, 0.0, 1.0, 1.0, 1.0, 0.0, 1.0, 1.0, 1.0, 1.0, 0.0, 0.0, 1.0, 1.0, 1.0, 0.0, 0.0, 1.0, 1.0, 1.0, 0.0, 0.0, 0.0, 0.0, 1.0, 1.0, 0.0, 1.0, 1.0, 0.0, 0.0, 0.0, 1.0, 1.0, 1.0, 1.0, 0.0, 1.0, 0.0, 1.0, 0.0, 1.0, 1.0, 0.0, 0.0, 0.0, 0.0, 1.0, 1.0, 1.0, 1.0, 1.0, 1.0, 0.0, 1.0, 0.0, 0.0, 0.0, 1.0, 0.0, 0.0, 1.0, 0.0, 0.0, 1.0, 0.0, 1.0, 1.0, 0.0, 0.0, 1.0, 1.0, 1.0, 0.0, 1.0, 1.0, 0.0, 0.0, 0.0, 0.0, 1.0, 1.0, 1.0, 0.0, 0.0, 1.0, 1.0, 0.0, 1.0, 0.0, 1.0, 0.0, 1.0, 0.0, 0.0, 1.0, 1.0, 0.0, 1.0, 1.0, 0.0, 1.0, 1.0, 0.0, 1.0, 0.0, 1.0, 1.0, 0.0, 1.0, 0.0, 1.0, 0.0, 1.0, 1.0, 0.0, 0.0, 0.0, 1.0, 0.0, 1.0, 0.0, 0.0, 1.0, 0.0, 1.0, 1.0, 0.0, 1.0, 1.0, 1.0, 1.0, 0.0, 0.0, 1.0, 1.0, 0.0, 0.0, 1.0, 1.0, 0.0, 0.0, 0.0, 0.0, 1.0, 1.0, 1.0, 1.0, 1.0, 1.0, 0.0, 0.0, 1.0, 1.0, 1.0, 1.0, 0.0, 1.0, 1.0, 1.0, 0.0, 1.0, 1.0, 0.0, 1.0, 1.0, 1.0, 0.0, 0.0, 0.0, 0.0, 1.0, 0.0, 0.0, 0.0, 1.0, 0.0, 1.0, 1.0, 1.0, 1.0, 0.0, 0.0, 0.0, 0.0, 1.0, 0.0, 0.0, 1.0, 1.0, 1.0, 0.0, 1.0, 0.0, 0.0, 1.0, 0.0, 1.0, 1.0, 1.0, 0.0, 1.0, 1.0, 1.0, 0.0, 1.0, 1.0, 1.0, 0.0, 0.0, 0.0, 1.0, 1.0, 0.0, 0.0, 1.0, 1.0, 0.0, 1.0, 0.0, 1.0, 0.0, 0.0, 0.0, 0.0, 0.0, 1.0, 1.0, 0.0, 1.0, 0.0, 1.0, 1.0, 0.0, 1.0, 0.0, 0.0, 1.0, 0.0, 1.0, 1.0, 1.0, 0.0, 0.0, 0.0, 0.0, 0.0, 0.0, 1.0, 1.0, 0.0, 1.0, 0.0, 0.0, 1.0, 1.0, 1.0, 1.0, 0.0, 1.0, 0.0, 0.0, 1.0, 0.0, 0.0, 1.0, 1.0, 0.0, 0.0, 0.0, 1.0, 1.0, 1.0, 1.0, 0.0, 1.0, 0.0, 1.0, 1.0, 0.0, 0.0, 0.0, 0.0, 0.0, 1.0, 1.0, 0.0, 1.0, 1.0, 1.0, 0.0, 0.0, 1.0, 1.0, 1.0, 1.0, 1.0, 1.0, 1.0, 1.0, 1.0, 0.0, 1.0, 0.0, 0.0, 0.0, 0.0, 1.0, 0.0, 1.0, 0.0, 1.0, 0.0, 1.0, 1.0, 1.0, 0.0, 1.0, 1.0, 0.0, 0.0, 0.0, 1.0, 0.0, 1.0, 0.0, 1.0, 1.0, 0.0, 0.0, 1.0, 1.0, 0.0, 0.0, 1.0, 0.0, 1.0, 1.0, 1.0, 0.0, 1.0, 1.0, 0.0, 1.0, 1.0, 1.0, 1.0, 0.0, 1.0, 1.0, 0.0, 1.0, 1.0, 1.0, 1.0, 1.0, 0.0, 0.0, 0.0, 1.0, 1.0, 1.0, 0.0, 1.0, 0.0, 0.0, 0.0, 0.0, 0.0, 0.0, 1.0, 1.0, 0.0, 0.0, 1.0, 0.0, 0.0, 1.0, 1.0, 1.0, 1.0, 1.0, 1.0, 0.0, 0.0, 0.0, 1.0, 0.0, 1.0, 1.0, 1.0, 0.0, 0.0, 0.0, 0.0, 0.0, 1.0, 0.0, 0.0, 0.0, 0.0, 1.0, 1.0, 1.0, 0.0, 0.0, 1.0, 0.0, 0.0, 1.0, 0.0, 0.0, 1.0, 0.0, 1.0, 1.0, 1.0, 1.0, 0.0, 1.0, 0.0, 1.0, 0.0, 1.0, 0.0, 1.0, 1.0, 0.0, 0.0, 1.0, 0.0, 1.0, 1.0, 1.0, 0.0, 0.0, 1.0, 1.0, 1.0, 0.0, 0.0, 1.0, 1.0, 0.0, 0.0, 1.0, 1.0, 0.0, 1.0, 1.0, 1.0, 0.0, 0.0, 1.0, 1.0, 0.0, 1.0, 1.0, 0.0, 1.0, 1.0, 1.0, 1.0, 1.0, 0.0, 0.0, 1.0, 1.0, 1.0, 0.0, 0.0, 0.0, 1.0, 0.0, 0.0, 1.0, 1.0, 1.0, 1.0, 1.0, 0.0, 0.0, 1.0, 1.0, 0.0, 1.0, 0.0, 0.0, 1.0, 0.0, 1.0, 1.0, 0.0, 1.0, 0.0, 1.0, 0.0, 0.0, 1.0, 1.0, 1.0, 1.0, 0.0, 0.0, 1.0, 0.0, 0.0], 'tour_cost': 10660177.723108152, 'packing_plan_cost': 1231185.0})]"
      ]
     },
     "execution_count": 33,
     "metadata": {},
     "output_type": "execute_result"
    }
   ],
   "source": [
    "pack_optimal([c1, c2], a280_n1395[\"Q\"], sorted_value_to_weight_ratio_dict, a280_n1395[\"item_weights\"])"
   ]
  },
  {
   "cell_type": "code",
   "execution_count": null,
   "metadata": {},
   "outputs": [],
   "source": []
  },
  {
   "cell_type": "code",
   "execution_count": null,
   "metadata": {},
   "outputs": [],
   "source": []
  },
  {
   "cell_type": "code",
   "execution_count": 34,
   "metadata": {},
   "outputs": [],
   "source": [
    "init_pop = generate_initial_population(50,\n",
    "                                       a280_n1395[\"nb_cities\"], \n",
    "                                       \"pack_random\", \n",
    "                                       \"random\", \n",
    "                                       a280_n1395[\"Q\"], \n",
    "                                       a280_n1395[\"value_to_weight_ratio_dict\"],\n",
    "                                       a280_n1395[\"item_weights\"])"
   ]
  },
  {
   "cell_type": "code",
   "execution_count": 35,
   "metadata": {},
   "outputs": [],
   "source": [
    "evaled_pop = []\n",
    "i = 0\n",
    "for candidate_solution in init_pop:\n",
    "    evaluate_candidate_solution_cost_pdist(candidate_solution,\n",
    "                                     a280_n1395[\"pairwise_distances\"],\n",
    "                                     a280_n1395[\"item_to_city_mapping_dict\"],\n",
    "                                     a280_n1395[\"item_weights\"],\n",
    "                                     a280_n1395[\"item_values\"],\n",
    "                                     a280_n1395[\"v_max\"],\n",
    "                                     a280_n1395[\"v_min\"],\n",
    "                                     a280_n1395[\"Q\"],\n",
    "                                     a280_n1395[\"R\"])\n",
    "    i += 1 \n",
    "    evaled_pop.append(candidate_solution)"
   ]
  },
  {
   "cell_type": "code",
   "execution_count": 36,
   "metadata": {},
   "outputs": [],
   "source": [
    "def get_ranks(population): # Ursula\n",
    "    # return (rank, structure()) or candidate solution object as represented above with an additional \"rank\" attribute\n",
    "    # doesn't need to return anything if only adding \"rank\" attribute to candidate solution.\n",
    "    # Probs easier for later functions if just add crowding_distance attribute to candidate solution\n",
    "    #Current front set\n",
    "    f = []\n",
    "    #Sets for the entire population\n",
    "    big_s = []\n",
    "    #dominant individuals for the entire population\n",
    "    big_np = []\n",
    "    for p in population:\n",
    "        #S is the set of individuals that are dominated by p\n",
    "        s = []\n",
    "        #np = the number of individuals that dominate p\n",
    "        np = 0\n",
    "        for q in population:\n",
    "            if q.packing_plan_cost < p.packing_plan_cost and q.tour_cost >= p.tour_cost:\n",
    "                s.append(q)\n",
    "            elif q.packing_plan_cost <= p.packing_plan_cost and q.tour_cost > p.tour_cost:\n",
    "                s.append(q)\n",
    "            elif q.packing_plan_cost > p.packing_plan_cost and q.tour_cost <= p.tour_cost:\n",
    "                np +=1\n",
    "            elif q.packing_plan_cost >= p.packing_plan_cost and q.tour_cost < p.tour_cost:\n",
    "                np +=1\n",
    "        if np == 0:\n",
    "            p.rank = 1\n",
    "            f.append(p)\n",
    "    \n",
    "        big_s.append(s)\n",
    "        big_np.append(np)\n",
    "    front_counter = 1\n",
    "    while len(f) != 0:\n",
    "        #individuals from the i+1 front\n",
    "        q = []\n",
    "        for y in f:\n",
    "            for x in big_s[population.index(y)]:\n",
    "                big_np[population.index(x)] -= 1\n",
    "                if big_np[population.index(x)] == 0:\n",
    "                    x.rank = front_counter+1\n",
    "                    q.append(x)\n",
    "        front_counter += 1\n",
    "        f = q\n",
    "    return None"
   ]
  },
  {
   "cell_type": "code",
   "execution_count": 37,
   "metadata": {},
   "outputs": [],
   "source": [
    "get_ranks(evaled_pop)"
   ]
  },
  {
   "cell_type": "code",
   "execution_count": 85,
   "metadata": {},
   "outputs": [],
   "source": [
    "def get_crowding_distance(population): # Ursula\n",
    "    \n",
    "    ranks = [p.rank for p in population]\n",
    "    max_rank = max(ranks)\n",
    "    dist = []\n",
    "    fronts = []\n",
    "    for i in range(1, max_rank+1):\n",
    "        front = []\n",
    "        distance = []\n",
    "        for q in population:\n",
    "            if q.rank == i:\n",
    "                front.append(q)\n",
    "                distance.append(0)\n",
    "        fronts.append(front)\n",
    "        dist.append(distance)\n",
    "    for i in range(len(fronts)):\n",
    "        fronts[i] = sorted(fronts[i], key=lambda x: x.tour_cost)\n",
    "        dist[i][0] = float('inf')\n",
    "        dist[i][-1] = float('inf')\n",
    "        length = len(fronts[i])\n",
    "        for j in range(1,length-1):\n",
    "            dist[i][j] += (fronts[i][j+1].tour_cost - fronts[i][j-1].tour_cost)/(fronts[i][-1].tour_cost - fronts[i][0].tour_cost)\n",
    "    for i in range(len(fronts)):\n",
    "        fronts[i] = sorted(fronts[i], key=lambda x: x.packing_plan_cost)\n",
    "        dist[i][0] = float('inf')\n",
    "        dist[i][-1] = float('inf')\n",
    "        length = len(fronts[i])\n",
    "        for j in range(1,length-1):\n",
    "            dist[i][j] += (fronts[i][j+1].packing_plan_cost - fronts[i][j-1].packing_plan_cost)/(fronts[i][-1].packing_plan_cost - fronts[i][0].packing_plan_cost)\n",
    "            #Need to update fronts to one list, list to population\n",
    "    for i in range(len(fronts)):\n",
    "        for j in range(len(fronts[i])):\n",
    "            fronts[i][j].crowding_distance = dist[i][j]\n",
    "    new_pop = [item for sublist in fronts for item in sublist]\n",
    "    assert len(new_pop) == len(population)\n",
    "    return population"
   ]
  },
  {
   "cell_type": "code",
   "execution_count": 86,
   "metadata": {},
   "outputs": [],
   "source": [
    "pop = get_crowding_distance(evaled_pop)"
   ]
  },
  {
   "cell_type": "code",
   "execution_count": 40,
   "metadata": {},
   "outputs": [
    {
     "data": {
      "text/plain": [
       "<matplotlib.collections.PathCollection at 0x17dcc6d9450>"
      ]
     },
     "execution_count": 40,
     "metadata": {},
     "output_type": "execute_result"
    },
    {
     "data": {
      "image/png": "[encoded data removed]",
      "text/plain": [
       "<Figure size 640x480 with 1 Axes>"
      ]
     },
     "metadata": {},
     "output_type": "display_data"
    }
   ],
   "source": [
    "plt.scatter([sol.tour_cost for sol in evaled_pop], [-1 * sol.packing_plan_cost for sol in evaled_pop])"
   ]
  },
  {
   "cell_type": "code",
   "execution_count": 41,
   "metadata": {},
   "outputs": [
    {
     "name": "stdout",
     "output_type": "stream",
     "text": [
      "       tour_cost  packing_plan_cost  rank\n",
      "0   9.870733e+06            -693405     4\n",
      "1   9.742593e+06            -692379     3\n",
      "2   1.007394e+07            -692414     5\n",
      "3   1.003336e+07            -691536     5\n",
      "4   1.017503e+07            -724469     1\n",
      "5   1.027185e+07            -707612     3\n",
      "6   9.756286e+06            -686989     5\n",
      "7   1.053317e+07            -685850     7\n",
      "8   9.613288e+06            -678350     5\n",
      "9   9.760137e+06            -697715     2\n",
      "10  9.811738e+06            -677111     7\n",
      "11  9.818912e+06            -711542     2\n",
      "12  9.837022e+06            -711960     2\n",
      "13  9.929839e+06            -670556     8\n",
      "14  9.759200e+06            -677691     6\n",
      "15  9.154509e+06            -671802     1\n",
      "16  9.568840e+06            -685196     4\n",
      "17  9.731836e+06            -710565     1\n",
      "18  9.915420e+06            -689205     5\n",
      "19  9.457017e+06            -707284     1\n",
      "20  1.000181e+07            -689893     5\n",
      "21  1.026653e+07            -699034     5\n",
      "22  9.615650e+06            -688329     3\n",
      "23  9.584636e+06            -696100     2\n",
      "24  9.435329e+06            -685258     2\n",
      "25  9.664138e+06            -692222     3\n",
      "26  9.911579e+06            -703568     3\n",
      "27  9.967124e+06            -706982     3\n",
      "28  9.371668e+06            -662173     2\n",
      "29  9.983534e+06            -699169     4\n",
      "30  1.004448e+07            -711990     2\n",
      "31  9.643601e+06            -687722     4\n",
      "32  9.747682e+06            -694677     3\n",
      "33  9.545242e+06            -678276     4\n",
      "34  9.525389e+06            -685224     3\n",
      "35  9.629479e+06            -684186     5\n",
      "36  9.909126e+06            -694557     4\n",
      "37  9.842526e+06            -702164     3\n",
      "38  9.684821e+06            -691142     4\n",
      "39  9.817328e+06            -714328     1\n",
      "40  1.018879e+07            -699945     4\n",
      "41  1.034696e+07            -712257     2\n",
      "42  1.000407e+07            -717544     1\n",
      "43  9.602549e+06            -677183     5\n",
      "44  9.963036e+06            -717509     1\n",
      "45  1.022277e+07            -686372     6\n",
      "46  9.795637e+06            -667844     7\n",
      "47  1.039047e+07            -676474     8\n",
      "48  9.339832e+06            -696289     1\n",
      "49  1.054652e+07            -697252     6\n"
     ]
    }
   ],
   "source": [
    "import pandas as pd\n",
    "df = pd.DataFrame()\n",
    "df['tour_cost'] = [sol.tour_cost for sol in evaled_pop]\n",
    "df['packing_plan_cost'] = [-1 * sol.packing_plan_cost for sol in evaled_pop]\n",
    "df[\"rank\"] = [sol.rank for sol in evaled_pop]\n",
    "print(df)"
   ]
  },
  {
   "cell_type": "code",
   "execution_count": 42,
   "metadata": {},
   "outputs": [
    {
     "data": {
      "text/plain": [
       "<Axes: xlabel='tour_cost', ylabel='packing_plan_cost'>"
      ]
     },
     "execution_count": 42,
     "metadata": {},
     "output_type": "execute_result"
    },
    {
     "data": {
      "image/png": "[encoded data removed]",
      "text/plain": [
       "<Figure size 1170x827 with 1 Axes>"
      ]
     },
     "metadata": {},
     "output_type": "display_data"
    }
   ],
   "source": [
    "import seaborn as sns\n",
    "sns.set(rc={'figure.figsize':(11.7,8.27)})\n",
    "sns.scatterplot(x='tour_cost', y='packing_plan_cost', data=df, hue='rank',palette = \"viridis\")"
   ]
  },
  {
   "cell_type": "code",
   "execution_count": 43,
   "metadata": {},
   "outputs": [
    {
     "data": {
      "text/plain": [
       "<matplotlib.collections.PathCollection at 0x17dcc5b9050>"
      ]
     },
     "execution_count": 43,
     "metadata": {},
     "output_type": "execute_result"
    },
    {
     "data": {
      "image/png": "[encoded data removed]",
      "text/plain": [
       "<Figure size 1170x827 with 1 Axes>"
      ]
     },
     "metadata": {},
     "output_type": "display_data"
    }
   ],
   "source": [
    "plt.scatter([sol.tour_cost for sol in evaled_pop], [-1 * sol.packing_plan_cost for sol in evaled_pop])"
   ]
  },
  {
   "cell_type": "code",
   "execution_count": null,
   "metadata": {},
   "outputs": [],
   "source": []
  },
  {
   "cell_type": "code",
   "execution_count": 44,
   "metadata": {},
   "outputs": [],
   "source": [
    "def tournament_selection(population): # Swaroop\n",
    "    \n",
    "    \"\"\"\n",
    "      .\n",
    "\n",
    "    Parameters:\n",
    "    - population (list): list of candidate solutions represented as structures\n",
    "      from the ypstruct library with the following attributes:\n",
    "        - tour (numpy.ndarray): An array representing the sequence of cities visited.\n",
    "        - knapsack (numpy.ndarray): A binary array indicating items picked (1) or not (0).\n",
    "        - knapsack_cost (float): The total value of the knapsack\n",
    "        - tour_cost (float): The total length of the tour\n",
    "        - rank (integer): The NSGA-II rank of the candidate solution\n",
    "        - crowding_distance (float): the NSGA-II crowding distance of the candidate solution\n",
    "    \n",
    "    Randomly select 2 candidate solutions from the population (without replacement) compare first their rank (return) the one with the lowest \n",
    "    rank. If they have the same rank, return solution with greater crowding distance.\n",
    "\n",
    "    Return: \n",
    "    ypstruct.Struct: candidate solution represented in the same way as the candidate solutions in the population\n",
    "    \"\"\"\n",
    "\n",
    "  # Randomly select 2 candidate solutions from the population (without replacement)\n",
    "    candidates = random.sample(population, k=2)\n",
    "    # Compare their ranks\n",
    "    if candidates[0].rank < candidates[1].rank:\n",
    "        return candidates[0]  # Return the solution with lower rank\n",
    "    elif candidates[0].rank > candidates[1].rank:\n",
    "        return candidates[1]  # Return the solution with lower rank\n",
    "    else:  # If ranks are equal, choose the one with greater crowding distance\n",
    "        if candidates[0].crowding_distance > candidates[1].crowding_distance:\n",
    "            return candidates[0]  # Return the solution with greater crowding distance\n",
    "        else:\n",
    "            return candidates[1]  # Return the solution with greater crowding distance"
   ]
  },
  {
   "cell_type": "code",
   "execution_count": 45,
   "metadata": {},
   "outputs": [],
   "source": [
    "for candidate_solution in ex_init_pop:\n",
    "    candidate_solution.rank = random.sample(list(range(1, 4)), k = 1)[0]\n",
    "    candidate_solution.crowding_distance = np.random.random(1)[0]"
   ]
  },
  {
   "cell_type": "code",
   "execution_count": 46,
   "metadata": {},
   "outputs": [
    {
     "data": {
      "text/plain": [
       "[struct({'tour': [0, 1, 2, 3], 'packing_plan': [0, 0, 0, 0], 'tour_cost': 20.0, 'packing_plan_cost': 0, 'rank': 1, 'crowding_distance': 0.25828002250712057}),\n",
       " struct({'tour': [0, 3, 2, 1], 'packing_plan': [0, 0, 0, 0], 'tour_cost': 20.0, 'packing_plan_cost': 0, 'rank': 2, 'crowding_distance': 0.5014968162327288}),\n",
       " struct({'tour': [0, 1, 2, 3], 'packing_plan': [0, 0, 0, 1], 'tour_cost': 20.927986906710313, 'packing_plan_cost': 25, 'rank': 3, 'crowding_distance': 0.2177829236754799}),\n",
       " struct({'tour': [0, 3, 2, 1], 'packing_plan': [0, 1, 0, 0], 'tour_cost': 22.037735849056602, 'packing_plan_cost': 34, 'rank': 3, 'crowding_distance': 0.6901614672397598}),\n",
       " struct({'tour': [0, 3, 2, 1], 'packing_plan': [0, 0, 1, 0], 'tour_cost': 27.363636363636363, 'packing_plan_cost': 40, 'rank': 3, 'crowding_distance': 0.4235722858912566}),\n",
       " struct({'tour': [0, 2, 1, 3], 'packing_plan': [0, 1, 0, 1], 'tour_cost': 28.585292978476183, 'packing_plan_cost': 59, 'rank': 3, 'crowding_distance': 0.6071695994797291}),\n",
       " struct({'tour': [0, 3, 2, 1], 'packing_plan': [1, 1, 0, 0], 'tour_cost': 32.75267284390591, 'packing_plan_cost': 64, 'rank': 3, 'crowding_distance': 0.8182498631758465}),\n",
       " struct({'tour': [0, 1, 2, 3], 'packing_plan': [0, 0, 1, 1], 'tour_cost': 33.107207533502354, 'packing_plan_cost': 65, 'rank': 1, 'crowding_distance': 0.7003262192917655}),\n",
       " struct({'tour': [0, 3, 2, 1], 'packing_plan': [0, 1, 1, 0], 'tour_cost': 38.91443850267379, 'packing_plan_cost': 74, 'rank': 3, 'crowding_distance': 0.28540220553618934}),\n",
       " struct({'tour': [0, 2, 1, 3], 'packing_plan': [1, 1, 0, 1], 'tour_cost': 53.28267014033966, 'packing_plan_cost': 89, 'rank': 2, 'crowding_distance': 0.5985888946780614})]"
      ]
     },
     "execution_count": 46,
     "metadata": {},
     "output_type": "execute_result"
    }
   ],
   "source": [
    "ex_init_pop"
   ]
  },
  {
   "cell_type": "code",
   "execution_count": 47,
   "metadata": {},
   "outputs": [],
   "source": [
    "def derive_tour_from_packing_plan(candidate_solution, item_to_city_mapping_dict, item_weights):\n",
    "    weight_at_city_i = [\n",
    "            sum(np.array(candidate_solution.packing_plan)[item_to_city_mapping_dict[city]] * item_weights[item_to_city_mapping_dict[city]]) for city in candidate_solution.tour\n",
    "        ]\n",
    "    weight_at_city_i_dict = dict(zip(candidate_solution.tour, weight_at_city_i))\n",
    "    sorted_weight_at_city_i_dict = dict(sorted(weight_at_city_i_dict.items(), key=lambda x:x[1], reverse = False))\n",
    "    return list(sorted_weight_at_city_i_dict)"
   ]
  },
  {
   "cell_type": "code",
   "execution_count": 48,
   "metadata": {},
   "outputs": [],
   "source": [
    "def tour_mutation(child1, child2, mutation_type):\n",
    "    # perform an inversion mutation\n",
    "    if mutation_type == \"inversion\":\n",
    "      # select two random positions, the cities between both positions will be inverted\n",
    "      pos1, pos2 = random.sample(range(len(child1.tour)), 2)\n",
    "      start, end = min(pos1, pos2), max(pos1, pos2)\n",
    "      # reverse the segment between the selected positions\n",
    "      child1.tour[start:end + 1] = child1.tour[start:end + 1][::-1]\n",
    "\n",
    "      pos1, pos2 = random.sample(range(len(child2.tour)), 2)\n",
    "      start, end = min(pos1, pos2), max(pos1, pos2)\n",
    "      child2.tour[start:end + 1] = child2.tour[start:end + 1][::-1]\n",
    "\n",
    "      return child1, child2\n",
    "  \n",
    "    elif mutation_type == \"single_swap\":\n",
    "      idx = range(len(child1.tour))\n",
    "      # randomly select what two positions will be swapped in the chromosome\n",
    "      i1, i2 = random.sample(idx, 2)\n",
    "      child1.tour[i1], child1.tour[i2] = child1.tour[i2], child1.tour[i1]\n",
    "\n",
    "      idx = range(len(child2.tour))\n",
    "      # randomly select what two positions will be swapped in the chromosome\n",
    "      i1, i2 = random.sample(idx, 2)\n",
    "      child2.tour[i1], child2.tour[i2] = child2.tour[i2], child2.tour[i1]\n",
    "\n",
    "      return child1, child2"
   ]
  },
  {
   "cell_type": "code",
   "execution_count": 49,
   "metadata": {},
   "outputs": [
    {
     "data": {
      "text/plain": [
       "(struct({'tour': [0, 1, 6, 3, 4, 5, 2, 7, 8, 9]}),\n",
       " struct({'tour': [0, 1, 2, 3, 4, 9, 6, 7, 8, 5]}))"
      ]
     },
     "execution_count": 49,
     "metadata": {},
     "output_type": "execute_result"
    }
   ],
   "source": [
    "ex = structure()\n",
    "ex.tour = list(range(10))\n",
    "tour_mutation(ex, ex.copy(), \"single_swap\")"
   ]
  },
  {
   "cell_type": "code",
   "execution_count": 50,
   "metadata": {},
   "outputs": [],
   "source": [
    "def packing_plan_mutation(child1, child2, mutation_percentage):\n",
    "    nb_items = len(child1.packing_plan)\n",
    "    vector = np.zeros(nb_items, dtype=int)\n",
    "    vector[:(int(nb_items*mutation_percentage))] = 1\n",
    "    \n",
    "    np.random.shuffle(vector)\n",
    "    child1.packing_plan = np.where(vector == 1, 1 - np.array(child1.packing_plan), np.array(child1.packing_plan))\n",
    "\n",
    "    np.random.shuffle(vector)\n",
    "    child2.packing_plan = np.where(vector == 1, 1 - np.array(child2.packing_plan), np.array(child2.packing_plan))\n",
    "\n",
    "    return child1, child2"
   ]
  },
  {
   "cell_type": "code",
   "execution_count": 51,
   "metadata": {},
   "outputs": [],
   "source": [
    "def replacement(population: list[structure], nb_cities) -> list:\n",
    "    \n",
    "    \"\"\"\n",
    "    Perform replacement in a population by selecting individuals based on rank and crowding distance.\n",
    "\n",
    "    Parameters:\n",
    "    - population (list[structure]): A list of structures representing individuals in the population.\n",
    "    \n",
    "    Returns:\n",
    "    - list[structure]: A list of individuals selected for the next generation based on their rank and crowding distance.\n",
    "    \"\"\"\n",
    "        \n",
    "    return sorted(population, key=lambda x: (x.rank, -x.crowding_distance))[0:nb_cities]"
   ]
  },
  {
   "cell_type": "code",
   "execution_count": 52,
   "metadata": {},
   "outputs": [
    {
     "data": {
      "text/plain": [
       "(struct({'tour': [0, 1, 6, 3, 4, 5, 2, 7, 8, 9], 'packing_plan': array([1, 0, 1, 0, 1, 0, 0])}),\n",
       " struct({'tour': [0, 1, 6, 3, 4, 5, 2, 7, 8, 9], 'packing_plan': array([0, 1, 1, 0, 1, 1, 1])}))"
      ]
     },
     "execution_count": 52,
     "metadata": {},
     "output_type": "execute_result"
    }
   ],
   "source": [
    "ex.packing_plan = [0, 1, 1, 0, 1, 0, 0]\n",
    "\n",
    "packing_plan_mutation(ex, ex.copy(), 2/7)"
   ]
  },
  {
   "cell_type": "code",
   "execution_count": 53,
   "metadata": {},
   "outputs": [],
   "source": [
    "def repair_packing_plan(candidate_solution, Q, item_weights):\n",
    "    packing_plan = np.array(candidate_solution.packing_plan)\n",
    "    selected_items = list(np.nonzero(packing_plan))\n",
    "    selected_items_weights = item_weights[selected_items]\n",
    "    while np.sum(selected_items_weights) > Q:\n",
    "        candidate_solution.packing_plan[random.sample(list(selected_items[0]), k = 1)[0]] = 0\n",
    "        packing_plan = np.array(candidate_solution.packing_plan)\n",
    "        selected_items = list(np.nonzero(packing_plan))\n",
    "        selected_items_weights = item_weights[selected_items]"
   ]
  },
  {
   "cell_type": "code",
   "execution_count": 54,
   "metadata": {},
   "outputs": [
    {
     "data": {
      "text/plain": [
       "struct({'tour': [0, 1, 2, 3], 'packing_plan': [1, 0, 1, 0], 'tour_cost': 20.0, 'packing_plan_cost': 0, 'rank': 1, 'crowding_distance': 0.25828002250712057})"
      ]
     },
     "execution_count": 54,
     "metadata": {},
     "output_type": "execute_result"
    }
   ],
   "source": [
    "ex = ex_init_pop[0].copy()\n",
    "ex.packing_plan = [1, 1, 1, 1]\n",
    "repair_packing_plan(ex, 80, item_weights)\n",
    "ex"
   ]
  },
  {
   "cell_type": "code",
   "execution_count": 55,
   "metadata": {},
   "outputs": [],
   "source": [
    "def get_pareto_front(population):\n",
    "    p_front = []\n",
    "    for i in population:\n",
    "        if i.rank == 1:\n",
    "            p_front.append(i)\n",
    "    return p_front"
   ]
  },
  {
   "cell_type": "code",
   "execution_count": null,
   "metadata": {},
   "outputs": [],
   "source": []
  },
  {
   "cell_type": "code",
   "execution_count": 78,
   "metadata": {},
   "outputs": [],
   "source": [
    "ttp_instance = read_TTP_instance_data(\"../data/a280-n279.txt\")\n",
    "nb_cities = ttp_instance[\"nb_cities\"]\n",
    "nb_items = ttp_instance[\"nb_items\"]\n",
    "Q = ttp_instance[\"Q\"]\n",
    "vmin = ttp_instance[\"v_min\"]\n",
    "vmax = ttp_instance[\"v_max\"]\n",
    "R = ttp_instance[\"R\"]\n",
    "pairwise_distances = ttp_instance[\"pairwise_distances\"]\n",
    "item_to_city_mapping_dict = ttp_instance[\"item_to_city_mapping_dict\"]\n",
    "item_weights = ttp_instance[\"item_weights\"]\n",
    "item_values = ttp_instance[\"item_values\"]\n",
    "value_to_weight_ratio_dict = ttp_instance[\"value_to_weight_ratio_dict\"]"
   ]
  },
  {
   "cell_type": "markdown",
   "metadata": {},
   "source": [
    "Pop size = 100, Random tour packing, pack_optimal, only OX1 crossover, inversion mutation and only 50 children"
   ]
  },
  {
   "cell_type": "code",
   "execution_count": 96,
   "metadata": {},
   "outputs": [],
   "source": [
    "population = generate_initial_population(50, nb_cities, \"pack_random\", \"random\", Q, value_to_weight_ratio_dict, item_weights)"
   ]
  },
  {
   "cell_type": "code",
   "execution_count": 97,
   "metadata": {},
   "outputs": [
    {
     "name": "stdout",
     "output_type": "stream",
     "text": [
      "50\n"
     ]
    }
   ],
   "source": [
    "print(len(pop))"
   ]
  },
  {
   "cell_type": "code",
   "execution_count": 98,
   "metadata": {},
   "outputs": [
    {
     "data": {
      "text/plain": [
       "339549.76263184036"
      ]
     },
     "execution_count": 98,
     "metadata": {},
     "output_type": "execute_result"
    }
   ],
   "source": [
    "tour_cost_pdist(population[0], pairwise_distances, item_to_city_mapping_dict, item_weights, vmax, vmin, Q, R)"
   ]
  },
  {
   "cell_type": "code",
   "execution_count": 99,
   "metadata": {},
   "outputs": [
    {
     "data": {
      "text/plain": [
       "28982"
      ]
     },
     "execution_count": 99,
     "metadata": {},
     "output_type": "execute_result"
    }
   ],
   "source": [
    "knapsack_cost(population[0], item_values)"
   ]
  },
  {
   "cell_type": "code",
   "execution_count": 100,
   "metadata": {},
   "outputs": [],
   "source": [
    "for candidate_solution in population:\n",
    "    evaluate_candidate_solution_cost_pdist(\n",
    "        candidate_solution, \n",
    "        pairwise_distances,\n",
    "        item_to_city_mapping_dict, \n",
    "        item_weights,\n",
    "        item_values,\n",
    "        vmax, \n",
    "        vmin,  \n",
    "        Q,\n",
    "        R\n",
    "    )"
   ]
  },
  {
   "cell_type": "code",
   "execution_count": 101,
   "metadata": {},
   "outputs": [
    {
     "data": {
      "text/plain": [
       "[struct({'tour': [48, 196, 250, 278, 266, 141, 177, 5, 6, 198, 234, 137, 186, 45, 240, 256, 263, 269, 206, 204, 135, 73, 47, 238, 32, 270, 133, 258, 34, 212, 134, 75, 96, 113, 219, 70, 272, 226, 123, 218, 157, 276, 105, 128, 102, 33, 181, 95, 44, 41, 251, 222, 87, 39, 170, 23, 159, 262, 92, 129, 108, 12, 66, 183, 172, 21, 277, 245, 97, 35, 189, 126, 232, 26, 76, 166, 60, 2, 237, 101, 193, 13, 16, 131, 249, 192, 83, 158, 182, 106, 22, 49, 125, 46, 191, 69, 195, 144, 132, 228, 185, 122, 174, 51, 36, 93, 127, 254, 78, 142, 139, 155, 63, 146, 59, 40, 64, 161, 119, 214, 117, 53, 156, 279, 179, 38, 235, 80, 164, 230, 203, 243, 171, 199, 151, 173, 275, 37, 98, 30, 81, 112, 229, 99, 274, 27, 4, 82, 178, 147, 3, 201, 43, 175, 121, 57, 104, 246, 188, 90, 145, 74, 265, 271, 197, 65, 7, 184, 120, 160, 29, 17, 124, 130, 25, 77, 227, 94, 187, 165, 86, 167, 253, 115, 261, 107, 169, 110, 89, 208, 252, 168, 239, 136, 111, 8, 148, 109, 153, 10, 55, 20, 138, 42, 15, 24, 190, 213, 180, 79, 176, 114, 143, 14, 216, 200, 248, 247, 11, 116, 207, 118, 58, 209, 264, 91, 1, 205, 202, 244, 236, 68, 150, 140, 103, 257, 149, 259, 52, 31, 72, 88, 19, 260, 223, 215, 154, 220, 211, 273, 54, 231, 163, 241, 28, 221, 217, 9, 242, 84, 267, 225, 224, 50, 67, 268, 210, 18, 100, 71, 162, 233, 0, 255, 152, 56, 61, 62, 85, 194], 'packing_plan': [0, 0, 0, 0, 0, 0, 0, 0, 0, 0, 0, 0, 0, 0, 0, 1, 0, 0, 0, 0, 0, 0, 0, 0, 0, 0, 0, 1, 0, 0, 0, 0, 0, 0, 0, 0, 0, 0, 0, 0, 0, 1, 0, 0, 0, 0, 0, 0, 0, 0, 0, 0, 0, 1, 0, 0, 0, 0, 0, 0, 0, 0, 0, 0, 0, 0, 0, 0, 0, 0, 0, 0, 0, 1, 1, 0, 0, 0, 0, 0, 0, 0, 0, 0, 0, 0, 0, 0, 0, 0, 0, 0, 0, 0, 0, 0, 0, 0, 0, 0, 0, 0, 0, 0, 0, 0, 0, 0, 0, 0, 0, 0, 0, 1, 0, 1, 0, 0, 0, 0, 0, 0, 0, 0, 0, 0, 0, 0, 0, 0, 0, 0, 0, 0, 0, 0, 0, 0, 0, 0, 0, 0, 0, 0, 0, 1, 0, 0, 0, 1, 0, 0, 0, 0, 0, 0, 1, 0, 0, 0, 0, 0, 0, 0, 0, 0, 0, 0, 0, 0, 0, 0, 0, 0, 0, 0, 0, 0, 0, 0, 0, 0, 0, 0, 0, 0, 1, 0, 0, 1, 0, 0, 0, 1, 0, 0, 0, 0, 0, 0, 1, 0, 1, 0, 1, 0, 0, 0, 0, 1, 0, 0, 0, 0, 0, 0, 0, 0, 0, 0, 0, 0, 0, 0, 0, 0, 1, 0, 0, 0, 0, 0, 1, 0, 0, 0, 0, 0, 0, 0, 0, 0, 0, 0, 0, 0, 0, 0, 0, 0, 1, 0, 0, 0, 0, 0, 0, 0, 0, 0, 0, 0, 0, 1, 0, 0, 0, 0, 0, 0, 0, 0, 0, 1, 0, 0, 0, 0, 0], 'tour_cost': 339549.76263184036, 'packing_plan_cost': 28982, 'rank': 2, 'crowding_distance': 0.6480143813974247}),\n",
       " struct({'tour': [176, 197, 222, 188, 94, 218, 264, 126, 47, 242, 209, 213, 57, 95, 268, 36, 245, 49, 17, 39, 119, 133, 270, 138, 170, 256, 162, 226, 13, 130, 64, 193, 200, 161, 202, 18, 273, 93, 11, 87, 154, 139, 73, 147, 33, 189, 263, 103, 26, 194, 28, 15, 111, 135, 52, 122, 276, 221, 220, 91, 186, 32, 204, 224, 56, 237, 240, 55, 262, 120, 160, 65, 156, 82, 145, 195, 187, 61, 125, 225, 248, 85, 9, 101, 205, 40, 144, 215, 216, 230, 203, 88, 146, 228, 196, 239, 199, 143, 137, 41, 59, 208, 163, 12, 81, 179, 243, 107, 231, 53, 265, 192, 62, 236, 148, 169, 250, 67, 116, 173, 159, 35, 16, 172, 127, 180, 261, 158, 99, 132, 63, 279, 217, 171, 128, 75, 30, 181, 185, 77, 68, 14, 92, 3, 29, 247, 76, 71, 198, 210, 168, 136, 244, 260, 257, 20, 269, 58, 96, 50, 79, 25, 232, 83, 48, 51, 152, 267, 123, 271, 108, 78, 233, 113, 121, 223, 272, 182, 211, 2, 234, 98, 60, 191, 164, 23, 46, 207, 7, 45, 177, 174, 69, 44, 235, 153, 251, 89, 97, 277, 21, 117, 84, 253, 150, 214, 134, 241, 74, 178, 10, 212, 167, 54, 131, 190, 4, 43, 6, 104, 115, 157, 86, 110, 249, 90, 105, 31, 166, 0, 175, 227, 38, 1, 229, 72, 140, 275, 80, 112, 8, 274, 259, 141, 266, 37, 206, 278, 27, 129, 149, 5, 201, 151, 42, 184, 238, 34, 118, 246, 109, 106, 24, 70, 22, 155, 255, 254, 66, 258, 100, 19, 114, 219, 183, 102, 165, 252, 124, 142], 'packing_plan': [0, 0, 1, 0, 0, 0, 0, 0, 0, 0, 0, 0, 0, 0, 0, 0, 0, 0, 0, 0, 0, 0, 0, 0, 0, 0, 0, 1, 0, 0, 0, 0, 0, 1, 0, 0, 0, 0, 0, 0, 0, 1, 0, 1, 0, 0, 0, 0, 0, 0, 0, 0, 1, 0, 0, 0, 0, 0, 0, 0, 0, 0, 0, 0, 0, 0, 0, 1, 1, 0, 0, 0, 0, 0, 0, 0, 0, 0, 0, 0, 0, 0, 0, 0, 0, 0, 0, 0, 0, 0, 0, 0, 0, 1, 0, 0, 0, 0, 0, 0, 0, 0, 0, 0, 0, 0, 0, 0, 0, 0, 0, 0, 0, 0, 0, 0, 0, 0, 0, 0, 0, 0, 0, 0, 0, 0, 0, 0, 0, 0, 0, 0, 0, 0, 0, 0, 0, 0, 0, 0, 0, 0, 0, 0, 0, 0, 0, 0, 0, 0, 0, 0, 0, 0, 0, 1, 0, 0, 1, 0, 0, 0, 0, 0, 0, 0, 0, 0, 0, 0, 0, 0, 0, 0, 0, 0, 1, 0, 1, 0, 0, 1, 0, 0, 0, 0, 0, 0, 0, 0, 0, 0, 0, 0, 0, 0, 0, 0, 0, 0, 0, 1, 0, 0, 0, 0, 0, 0, 0, 0, 0, 0, 0, 0, 0, 0, 0, 0, 1, 0, 0, 0, 0, 0, 0, 0, 0, 0, 0, 0, 0, 1, 0, 0, 0, 0, 0, 0, 0, 0, 0, 0, 0, 0, 0, 0, 0, 1, 0, 0, 0, 0, 1, 0, 0, 1, 0, 0, 0, 0, 0, 0, 0, 0, 0, 0, 1, 0, 0, 0, 0, 0, 0, 0, 0, 0, 0, 0, 0], 'tour_cost': 447392.4535697971, 'packing_plan_cost': 28535, 'rank': 5, 'crowding_distance': 1.0673263172248104}),\n",
       " struct({'tour': [255, 228, 132, 20, 11, 144, 170, 200, 213, 150, 72, 267, 74, 112, 55, 153, 245, 97, 1, 64, 82, 9, 194, 224, 221, 120, 7, 216, 258, 47, 51, 39, 203, 38, 89, 18, 198, 166, 184, 107, 113, 5, 13, 139, 58, 212, 119, 50, 66, 125, 250, 70, 142, 199, 231, 210, 28, 135, 44, 27, 272, 100, 179, 36, 22, 73, 176, 67, 159, 277, 243, 266, 95, 69, 68, 174, 126, 60, 264, 185, 29, 103, 62, 86, 109, 148, 57, 241, 227, 238, 169, 205, 256, 42, 111, 239, 49, 160, 270, 2, 242, 229, 218, 45, 33, 105, 191, 279, 157, 152, 116, 71, 108, 189, 79, 186, 90, 123, 106, 197, 56, 171, 188, 246, 129, 149, 156, 140, 252, 21, 91, 54, 94, 145, 161, 201, 30, 247, 65, 128, 271, 114, 136, 48, 83, 124, 19, 134, 253, 163, 155, 118, 235, 278, 276, 110, 234, 196, 180, 233, 32, 215, 175, 23, 195, 274, 16, 237, 53, 26, 87, 14, 98, 6, 262, 137, 226, 141, 101, 209, 193, 202, 40, 220, 85, 183, 77, 10, 133, 12, 232, 192, 154, 260, 61, 102, 165, 178, 3, 15, 222, 225, 223, 63, 268, 167, 182, 244, 273, 249, 240, 99, 230, 265, 158, 130, 8, 122, 190, 52, 59, 269, 208, 138, 162, 261, 236, 207, 219, 214, 0, 31, 115, 37, 254, 187, 46, 25, 177, 81, 121, 35, 259, 17, 96, 151, 93, 181, 34, 41, 164, 43, 204, 211, 84, 76, 143, 147, 104, 75, 92, 117, 78, 172, 80, 275, 127, 131, 217, 4, 88, 263, 146, 206, 257, 24, 173, 251, 248, 168], 'packing_plan': [1, 1, 0, 0, 1, 0, 0, 0, 0, 0, 0, 1, 1, 0, 0, 0, 0, 0, 0, 1, 0, 0, 1, 0, 0, 0, 0, 0, 0, 0, 0, 0, 1, 0, 0, 0, 0, 0, 0, 0, 0, 0, 0, 0, 0, 0, 0, 0, 1, 0, 0, 1, 0, 0, 0, 0, 0, 0, 0, 0, 1, 0, 0, 0, 1, 0, 0, 0, 1, 0, 0, 0, 0, 0, 0, 0, 1, 0, 0, 0, 0, 0, 0, 0, 0, 1, 0, 1, 1, 0, 0, 1, 0, 0, 0, 0, 0, 0, 0, 0, 0, 0, 0, 0, 0, 0, 0, 0, 0, 0, 0, 0, 0, 0, 0, 0, 0, 0, 0, 0, 0, 1, 0, 0, 0, 0, 0, 1, 1, 0, 0, 0, 0, 1, 0, 0, 0, 0, 0, 0, 0, 0, 0, 0, 0, 0, 0, 0, 1, 1, 0, 0, 0, 0, 0, 0, 0, 0, 0, 1, 0, 0, 0, 0, 0, 1, 0, 0, 0, 0, 0, 0, 0, 0, 0, 1, 1, 0, 0, 0, 0, 0, 0, 0, 0, 0, 0, 0, 0, 0, 0, 0, 0, 0, 0, 0, 0, 0, 0, 0, 0, 0, 0, 0, 0, 0, 0, 0, 0, 0, 0, 0, 0, 0, 0, 0, 0, 0, 0, 0, 0, 0, 0, 0, 0, 0, 0, 0, 1, 0, 0, 0, 1, 0, 0, 0, 0, 0, 1, 0, 0, 0, 0, 0, 0, 0, 0, 0, 0, 0, 0, 0, 0, 1, 0, 0, 0, 0, 0, 0, 0, 0, 0, 0, 0, 0, 0, 0, 0, 0, 0, 0, 0, 0, 0, 0, 0, 0, 0], 'tour_cost': 363458.9628171146, 'packing_plan_cost': 27651, 'rank': 4, 'crowding_distance': inf}),\n",
       " struct({'tour': [213, 153, 60, 253, 22, 196, 143, 100, 116, 114, 121, 192, 235, 201, 38, 91, 183, 226, 154, 216, 11, 268, 136, 52, 115, 51, 160, 156, 219, 81, 107, 185, 202, 177, 6, 179, 119, 161, 193, 178, 125, 172, 27, 171, 18, 162, 69, 19, 132, 230, 68, 131, 169, 78, 34, 111, 163, 105, 233, 146, 144, 129, 220, 180, 97, 32, 208, 244, 55, 227, 278, 117, 236, 191, 118, 140, 150, 195, 137, 157, 12, 238, 9, 229, 76, 249, 247, 16, 56, 139, 25, 130, 3, 215, 221, 211, 155, 24, 7, 167, 266, 181, 128, 239, 43, 84, 251, 252, 40, 90, 148, 33, 190, 246, 94, 50, 262, 255, 138, 158, 28, 88, 67, 93, 83, 31, 65, 152, 203, 48, 142, 89, 45, 232, 145, 206, 234, 46, 273, 261, 151, 149, 86, 21, 274, 109, 199, 272, 35, 8, 20, 96, 223, 63, 250, 217, 5, 240, 228, 15, 77, 248, 126, 59, 113, 277, 1, 265, 123, 186, 168, 259, 44, 135, 39, 210, 134, 271, 231, 189, 71, 187, 108, 87, 64, 49, 276, 70, 225, 256, 62, 184, 269, 92, 0, 124, 112, 122, 23, 13, 2, 164, 95, 54, 79, 197, 243, 270, 36, 14, 82, 53, 241, 175, 258, 260, 165, 101, 200, 80, 72, 224, 42, 275, 237, 198, 104, 245, 188, 133, 30, 174, 267, 120, 170, 176, 74, 173, 159, 147, 141, 29, 166, 279, 204, 110, 58, 212, 37, 209, 205, 61, 214, 264, 17, 41, 85, 263, 218, 10, 106, 102, 99, 254, 47, 194, 242, 73, 103, 98, 222, 207, 182, 127, 257, 4, 57, 26, 75, 66], 'packing_plan': [0, 0, 0, 0, 0, 0, 0, 1, 0, 1, 0, 0, 0, 0, 0, 0, 0, 0, 0, 0, 0, 0, 0, 1, 0, 0, 0, 0, 1, 0, 0, 0, 0, 0, 0, 0, 0, 0, 0, 0, 0, 0, 0, 0, 0, 0, 0, 0, 0, 0, 0, 0, 0, 0, 0, 0, 1, 0, 0, 0, 0, 0, 0, 0, 0, 0, 0, 0, 0, 0, 0, 0, 0, 0, 0, 0, 1, 1, 0, 0, 0, 1, 1, 0, 0, 0, 1, 0, 0, 0, 0, 0, 0, 0, 0, 0, 0, 0, 0, 0, 0, 0, 0, 0, 0, 0, 0, 0, 0, 0, 0, 0, 0, 0, 0, 0, 0, 0, 0, 0, 0, 0, 1, 0, 0, 0, 0, 0, 0, 0, 0, 0, 0, 0, 0, 0, 1, 0, 0, 0, 0, 0, 0, 0, 0, 0, 0, 0, 0, 0, 0, 0, 0, 0, 1, 0, 0, 0, 0, 0, 0, 0, 1, 0, 0, 0, 0, 0, 0, 0, 0, 0, 0, 0, 0, 0, 0, 0, 0, 0, 0, 0, 0, 0, 1, 0, 0, 0, 0, 0, 0, 0, 0, 0, 0, 0, 0, 0, 0, 0, 0, 0, 0, 0, 0, 0, 0, 0, 0, 0, 0, 0, 0, 0, 0, 0, 0, 0, 0, 0, 0, 0, 0, 0, 0, 0, 0, 0, 0, 0, 0, 0, 1, 0, 0, 0, 0, 0, 0, 0, 0, 1, 0, 0, 0, 0, 0, 0, 0, 0, 1, 0, 0, 0, 0, 0, 0, 0, 0, 1, 0, 0, 0, 0, 0, 0, 0, 0, 1, 0, 0, 0, 0, 0, 0, 0, 0, 0, 0], 'tour_cost': 489213.7079713167, 'packing_plan_cost': 29964, 'rank': 7, 'crowding_distance': 0.24492645801904073}),\n",
       " struct({'tour': [166, 277, 99, 73, 57, 264, 127, 113, 15, 211, 83, 64, 111, 156, 60, 185, 229, 236, 115, 270, 50, 128, 110, 137, 232, 126, 129, 12, 221, 108, 35, 123, 32, 19, 44, 49, 87, 102, 30, 247, 4, 241, 262, 79, 105, 34, 16, 159, 21, 152, 195, 0, 133, 29, 149, 24, 259, 112, 41, 141, 74, 80, 234, 228, 272, 269, 20, 276, 118, 177, 14, 101, 84, 239, 6, 51, 178, 93, 181, 114, 184, 182, 176, 62, 124, 171, 215, 274, 186, 82, 78, 142, 46, 146, 140, 72, 121, 227, 23, 97, 216, 134, 217, 155, 187, 279, 56, 58, 42, 68, 116, 98, 263, 266, 208, 106, 65, 36, 85, 25, 194, 202, 153, 37, 7, 53, 71, 100, 76, 222, 240, 88, 157, 5, 119, 96, 45, 77, 190, 223, 33, 233, 164, 200, 201, 40, 135, 66, 160, 230, 192, 8, 22, 275, 143, 250, 193, 120, 224, 258, 59, 204, 246, 154, 11, 70, 151, 17, 147, 183, 253, 81, 145, 252, 237, 163, 254, 249, 273, 130, 13, 168, 43, 245, 90, 199, 213, 165, 91, 212, 225, 220, 170, 175, 139, 207, 267, 271, 191, 104, 48, 89, 265, 231, 173, 205, 131, 27, 248, 188, 107, 256, 92, 278, 38, 167, 67, 55, 103, 268, 26, 31, 174, 117, 244, 144, 148, 75, 219, 226, 95, 10, 2, 209, 210, 3, 94, 52, 196, 238, 218, 122, 39, 161, 180, 255, 206, 54, 257, 136, 198, 243, 18, 61, 86, 138, 203, 28, 214, 63, 242, 179, 132, 158, 260, 261, 189, 125, 47, 162, 251, 9, 150, 197, 235, 69, 169, 109, 1, 172], 'packing_plan': [0, 0, 0, 0, 0, 0, 0, 0, 1, 0, 0, 0, 0, 1, 0, 0, 0, 0, 0, 0, 0, 0, 1, 0, 0, 0, 0, 0, 0, 0, 0, 0, 0, 0, 0, 0, 0, 0, 0, 0, 0, 0, 0, 0, 0, 0, 1, 0, 0, 0, 0, 0, 0, 0, 0, 0, 0, 1, 0, 0, 0, 0, 0, 0, 0, 0, 0, 0, 0, 0, 0, 0, 0, 0, 0, 0, 0, 1, 0, 0, 0, 0, 0, 0, 0, 0, 1, 0, 0, 0, 0, 0, 0, 0, 0, 0, 0, 0, 0, 0, 0, 0, 1, 0, 1, 0, 0, 0, 0, 0, 0, 1, 0, 0, 0, 1, 0, 0, 0, 0, 0, 0, 0, 0, 0, 0, 0, 0, 1, 0, 0, 1, 0, 0, 0, 0, 0, 0, 0, 0, 0, 0, 0, 0, 0, 0, 0, 0, 0, 0, 0, 0, 0, 0, 0, 0, 0, 0, 0, 0, 0, 0, 1, 0, 0, 0, 0, 0, 0, 0, 0, 0, 0, 0, 0, 0, 0, 1, 0, 0, 0, 0, 0, 0, 0, 0, 0, 0, 0, 1, 0, 0, 0, 0, 0, 0, 1, 0, 0, 0, 0, 0, 0, 0, 0, 0, 0, 0, 0, 0, 1, 0, 0, 0, 0, 0, 0, 1, 0, 0, 0, 0, 0, 0, 0, 0, 0, 0, 0, 0, 1, 0, 0, 0, 0, 0, 0, 0, 1, 0, 0, 0, 0, 0, 0, 0, 0, 0, 0, 0, 0, 0, 0, 0, 0, 0, 0, 0, 0, 0, 0, 1, 0, 0, 1, 0, 0, 0, 0, 0, 0, 0, 0, 0, 0, 0, 0, 0, 1], 'tour_cost': 361925.0494233118, 'packing_plan_cost': 28778, 'rank': 3, 'crowding_distance': 0.5880114473492575}),\n",
       " struct({'tour': [244, 72, 136, 137, 19, 243, 235, 55, 8, 100, 229, 107, 269, 43, 217, 267, 48, 113, 146, 13, 110, 129, 56, 35, 46, 164, 197, 76, 5, 274, 105, 33, 97, 185, 228, 150, 24, 241, 10, 151, 207, 195, 99, 121, 194, 177, 175, 38, 67, 140, 98, 162, 199, 101, 240, 62, 230, 112, 213, 26, 16, 37, 54, 15, 160, 122, 57, 64, 264, 2, 9, 96, 49, 144, 52, 167, 187, 250, 186, 277, 130, 161, 63, 270, 109, 145, 6, 198, 88, 29, 12, 23, 93, 248, 59, 36, 18, 252, 42, 227, 179, 191, 276, 209, 44, 118, 142, 85, 65, 148, 196, 226, 28, 126, 225, 27, 220, 176, 231, 222, 60, 149, 114, 278, 181, 212, 254, 117, 271, 258, 169, 82, 61, 273, 7, 203, 131, 53, 174, 153, 262, 268, 134, 83, 128, 215, 30, 92, 116, 170, 223, 124, 205, 69, 71, 89, 204, 201, 39, 275, 266, 208, 192, 152, 34, 90, 263, 81, 120, 183, 3, 238, 143, 233, 31, 166, 1, 173, 202, 265, 236, 79, 17, 189, 200, 104, 157, 272, 188, 156, 135, 210, 171, 214, 245, 234, 163, 41, 154, 106, 139, 125, 123, 95, 216, 74, 259, 68, 75, 58, 77, 133, 178, 87, 0, 158, 221, 91, 84, 239, 94, 66, 261, 155, 249, 14, 21, 242, 86, 51, 115, 50, 251, 132, 78, 184, 257, 70, 246, 20, 224, 4, 219, 255, 102, 206, 45, 147, 32, 253, 80, 232, 279, 138, 237, 172, 108, 218, 119, 247, 190, 193, 168, 25, 73, 256, 165, 159, 22, 40, 103, 141, 180, 11, 47, 127, 260, 182, 211, 111], 'packing_plan': [0, 0, 0, 0, 0, 0, 0, 0, 1, 0, 0, 0, 0, 0, 0, 0, 0, 0, 0, 0, 0, 0, 0, 0, 0, 0, 0, 0, 0, 0, 0, 0, 0, 0, 0, 0, 0, 0, 0, 0, 0, 0, 0, 0, 0, 0, 0, 0, 0, 0, 0, 1, 0, 0, 1, 0, 0, 0, 0, 0, 0, 0, 0, 0, 0, 0, 0, 0, 0, 0, 1, 0, 0, 0, 0, 0, 0, 0, 0, 1, 0, 0, 0, 1, 0, 0, 0, 0, 0, 0, 0, 0, 0, 0, 0, 0, 1, 0, 0, 0, 0, 0, 0, 0, 0, 0, 0, 0, 0, 0, 0, 0, 0, 0, 0, 0, 1, 1, 0, 0, 0, 0, 0, 0, 1, 0, 0, 0, 0, 0, 0, 0, 0, 0, 0, 0, 0, 0, 1, 0, 0, 0, 0, 0, 1, 0, 0, 0, 0, 0, 1, 0, 1, 0, 0, 1, 0, 0, 0, 0, 0, 0, 0, 0, 0, 0, 0, 0, 0, 0, 0, 0, 0, 0, 0, 0, 0, 0, 1, 0, 0, 0, 0, 1, 0, 0, 0, 0, 0, 0, 0, 0, 0, 0, 0, 0, 0, 0, 0, 0, 0, 0, 0, 0, 0, 0, 1, 0, 0, 0, 0, 0, 0, 1, 0, 0, 0, 1, 0, 0, 0, 1, 0, 0, 0, 0, 1, 0, 0, 0, 0, 0, 0, 0, 0, 0, 0, 0, 1, 0, 0, 0, 0, 0, 0, 0, 0, 0, 0, 0, 0, 0, 0, 0, 0, 0, 1, 0, 0, 0, 0, 0, 0, 0, 0, 0, 1, 1, 0, 0, 0, 0, 0, 0, 0, 0, 0, 0, 0], 'tour_cost': 551108.0204768787, 'packing_plan_cost': 30134, 'rank': 7, 'crowding_distance': 1.0192032709034708}),\n",
       " struct({'tour': [257, 92, 125, 79, 64, 212, 19, 77, 120, 137, 185, 15, 128, 66, 177, 25, 113, 147, 275, 163, 122, 154, 182, 225, 84, 190, 39, 37, 45, 38, 244, 242, 109, 254, 118, 217, 130, 4, 119, 103, 153, 26, 65, 136, 215, 226, 156, 201, 76, 95, 22, 251, 229, 256, 135, 83, 210, 62, 142, 171, 63, 173, 268, 189, 36, 264, 140, 150, 271, 42, 88, 194, 28, 187, 35, 239, 237, 82, 32, 49, 195, 149, 170, 222, 204, 159, 106, 127, 162, 186, 220, 274, 161, 50, 191, 166, 205, 80, 123, 238, 259, 98, 209, 131, 175, 178, 17, 216, 265, 75, 235, 101, 3, 12, 260, 104, 208, 188, 47, 233, 115, 52, 252, 165, 169, 44, 249, 236, 114, 59, 9, 24, 23, 248, 227, 196, 124, 221, 144, 5, 213, 116, 99, 198, 48, 93, 57, 29, 262, 276, 245, 214, 60, 277, 143, 206, 223, 112, 71, 269, 200, 139, 273, 16, 230, 8, 126, 43, 69, 174, 68, 87, 145, 121, 2, 172, 100, 192, 0, 90, 157, 202, 250, 253, 141, 193, 72, 232, 70, 247, 241, 13, 183, 81, 231, 240, 211, 266, 53, 67, 160, 179, 181, 108, 33, 56, 102, 96, 54, 184, 180, 129, 30, 134, 261, 86, 107, 203, 207, 40, 6, 258, 146, 155, 246, 21, 199, 61, 132, 263, 152, 11, 148, 46, 41, 31, 279, 197, 168, 218, 270, 55, 73, 267, 138, 1, 20, 110, 10, 158, 7, 27, 74, 176, 85, 18, 224, 105, 14, 89, 164, 51, 78, 167, 58, 111, 255, 97, 34, 278, 243, 117, 151, 234, 133, 91, 228, 219, 272, 94], 'packing_plan': [0, 0, 0, 0, 0, 0, 1, 0, 0, 0, 0, 0, 0, 0, 0, 1, 0, 0, 0, 0, 0, 0, 0, 0, 0, 0, 0, 0, 0, 0, 0, 0, 0, 0, 0, 0, 1, 1, 0, 0, 0, 0, 0, 0, 0, 0, 0, 0, 0, 0, 0, 0, 0, 0, 0, 0, 0, 0, 0, 0, 0, 0, 0, 0, 0, 0, 0, 0, 0, 0, 1, 1, 0, 0, 0, 0, 0, 0, 0, 0, 0, 0, 0, 0, 0, 0, 0, 0, 0, 0, 0, 0, 0, 0, 0, 0, 0, 0, 0, 0, 1, 0, 0, 0, 0, 1, 0, 0, 0, 0, 0, 1, 0, 0, 0, 0, 0, 0, 0, 0, 0, 0, 0, 0, 0, 0, 0, 0, 0, 0, 0, 0, 0, 0, 0, 0, 0, 0, 0, 0, 0, 1, 0, 0, 0, 0, 0, 0, 0, 0, 1, 0, 0, 0, 0, 0, 0, 0, 0, 0, 0, 0, 0, 0, 0, 0, 0, 0, 0, 0, 0, 0, 0, 0, 0, 0, 0, 0, 0, 0, 0, 0, 0, 1, 0, 0, 0, 0, 0, 1, 0, 0, 0, 0, 0, 1, 0, 0, 1, 0, 0, 0, 0, 0, 0, 0, 0, 0, 0, 0, 0, 0, 0, 0, 0, 0, 0, 0, 1, 0, 0, 0, 0, 1, 0, 0, 0, 0, 0, 0, 0, 0, 1, 0, 0, 1, 0, 0, 0, 0, 0, 0, 0, 0, 0, 0, 0, 0, 0, 1, 0, 0, 0, 0, 0, 0, 0, 0, 0, 0, 0, 0, 0, 0, 0, 0, 0, 0, 0, 0, 0, 0, 0, 0, 0, 0, 0, 0, 0], 'tour_cost': 452397.6677764934, 'packing_plan_cost': 30201, 'rank': 4, 'crowding_distance': 0.7402360109537109}),\n",
       " struct({'tour': [7, 250, 197, 261, 96, 254, 248, 94, 14, 52, 266, 205, 240, 63, 126, 246, 44, 243, 147, 43, 223, 252, 194, 32, 235, 72, 146, 37, 221, 139, 85, 101, 92, 42, 195, 58, 100, 121, 123, 53, 152, 47, 107, 187, 151, 9, 276, 157, 206, 177, 262, 220, 232, 113, 204, 239, 41, 84, 155, 188, 91, 89, 167, 77, 3, 124, 67, 263, 12, 78, 138, 162, 192, 272, 251, 225, 114, 40, 129, 31, 163, 10, 224, 28, 66, 173, 26, 71, 24, 68, 153, 226, 171, 182, 135, 245, 164, 110, 127, 6, 142, 64, 56, 141, 209, 79, 120, 76, 227, 143, 268, 193, 270, 128, 159, 211, 131, 170, 54, 0, 216, 203, 1, 81, 274, 191, 212, 74, 230, 174, 23, 60, 229, 175, 145, 196, 185, 237, 273, 2, 117, 39, 5, 179, 48, 267, 34, 45, 256, 198, 156, 134, 275, 178, 57, 13, 27, 103, 165, 19, 218, 199, 213, 35, 104, 133, 214, 93, 87, 59, 241, 269, 17, 279, 38, 215, 70, 168, 172, 65, 95, 75, 130, 118, 111, 33, 119, 238, 166, 258, 278, 154, 249, 219, 184, 22, 190, 83, 108, 260, 73, 21, 189, 160, 16, 207, 244, 208, 62, 231, 136, 61, 102, 20, 36, 140, 222, 86, 233, 217, 82, 149, 137, 25, 228, 247, 202, 277, 15, 69, 90, 11, 200, 97, 257, 115, 259, 18, 109, 210, 46, 181, 242, 253, 180, 88, 106, 105, 8, 55, 51, 236, 122, 80, 169, 201, 50, 99, 29, 265, 186, 176, 234, 98, 49, 264, 132, 30, 150, 4, 255, 116, 158, 161, 112, 148, 125, 271, 144, 183], 'packing_plan': [0, 0, 0, 0, 0, 0, 0, 0, 0, 0, 0, 0, 0, 0, 0, 1, 0, 0, 0, 0, 0, 0, 0, 0, 0, 0, 0, 0, 0, 0, 0, 0, 0, 0, 0, 0, 0, 0, 0, 0, 0, 0, 0, 1, 0, 0, 0, 0, 0, 0, 0, 0, 0, 0, 0, 0, 1, 0, 0, 0, 0, 0, 0, 0, 1, 0, 0, 1, 0, 0, 0, 0, 0, 0, 0, 1, 0, 0, 0, 0, 0, 0, 1, 0, 0, 0, 0, 0, 0, 0, 0, 0, 0, 0, 0, 1, 0, 0, 0, 0, 0, 0, 1, 0, 0, 0, 0, 1, 1, 0, 0, 0, 0, 0, 0, 0, 1, 0, 0, 0, 0, 0, 0, 0, 0, 0, 0, 0, 0, 0, 0, 0, 0, 0, 0, 0, 0, 0, 0, 0, 0, 0, 1, 0, 0, 0, 0, 0, 0, 0, 1, 0, 0, 1, 0, 0, 0, 0, 0, 0, 1, 0, 0, 0, 0, 0, 0, 0, 0, 0, 0, 0, 1, 0, 1, 0, 1, 1, 0, 0, 0, 0, 0, 0, 0, 0, 0, 0, 0, 0, 0, 0, 0, 0, 0, 0, 0, 0, 0, 0, 0, 0, 0, 0, 0, 0, 0, 0, 0, 0, 0, 1, 0, 0, 0, 0, 1, 0, 0, 0, 0, 0, 0, 0, 0, 0, 0, 0, 0, 0, 0, 0, 0, 0, 0, 0, 0, 0, 1, 0, 0, 0, 0, 0, 0, 0, 0, 0, 0, 0, 0, 0, 0, 0, 0, 0, 0, 0, 0, 0, 0, 0, 0, 1, 0, 0, 0, 0, 0, 0, 0, 0, 0, 0, 0, 0, 1, 0, 0], 'tour_cost': 451484.5928652911, 'packing_plan_cost': 27822, 'rank': 6, 'crowding_distance': inf}),\n",
       " struct({'tour': [30, 137, 202, 269, 112, 115, 249, 166, 95, 23, 183, 225, 17, 9, 67, 86, 105, 40, 64, 83, 176, 210, 217, 118, 53, 10, 273, 88, 147, 152, 158, 192, 13, 107, 100, 191, 242, 120, 218, 170, 60, 193, 6, 142, 101, 121, 272, 244, 241, 204, 52, 208, 274, 41, 132, 11, 108, 206, 61, 69, 178, 266, 247, 264, 49, 153, 278, 71, 254, 62, 139, 128, 22, 213, 20, 234, 161, 215, 109, 230, 18, 258, 279, 78, 124, 45, 165, 145, 90, 239, 48, 117, 174, 16, 211, 92, 224, 99, 238, 65, 275, 104, 57, 228, 255, 56, 51, 164, 66, 220, 138, 186, 111, 39, 113, 187, 243, 133, 80, 155, 127, 214, 97, 44, 125, 70, 203, 190, 135, 76, 73, 159, 216, 197, 200, 87, 189, 262, 246, 68, 171, 245, 7, 27, 14, 24, 259, 237, 198, 252, 263, 122, 205, 173, 103, 231, 36, 85, 37, 179, 19, 276, 256, 175, 151, 212, 226, 251, 42, 134, 29, 84, 162, 219, 114, 96, 126, 81, 32, 181, 277, 77, 223, 143, 140, 79, 116, 163, 89, 25, 248, 169, 250, 129, 236, 43, 74, 5, 227, 209, 261, 28, 15, 0, 8, 110, 102, 98, 201, 180, 150, 47, 58, 257, 270, 156, 94, 75, 106, 50, 63, 33, 253, 2, 59, 72, 31, 199, 119, 131, 12, 26, 146, 167, 1, 55, 222, 91, 35, 34, 82, 184, 54, 141, 38, 235, 93, 265, 130, 168, 185, 148, 149, 46, 154, 267, 123, 233, 271, 196, 221, 136, 195, 229, 194, 3, 207, 4, 21, 188, 160, 232, 260, 177, 268, 182, 240, 157, 172, 144], 'packing_plan': [0, 0, 0, 1, 0, 0, 0, 0, 0, 0, 1, 0, 0, 0, 1, 0, 0, 0, 0, 0, 0, 0, 0, 0, 0, 0, 0, 0, 0, 0, 0, 0, 0, 0, 0, 0, 0, 0, 0, 0, 0, 0, 0, 0, 1, 1, 0, 0, 0, 0, 0, 0, 0, 0, 0, 0, 0, 0, 0, 0, 0, 0, 0, 0, 0, 0, 0, 0, 0, 0, 0, 0, 0, 0, 0, 0, 0, 0, 0, 0, 0, 0, 0, 0, 0, 0, 0, 0, 0, 0, 0, 1, 0, 0, 0, 0, 0, 0, 0, 0, 0, 0, 0, 0, 0, 0, 0, 0, 0, 0, 0, 0, 0, 0, 0, 0, 0, 0, 0, 0, 0, 0, 0, 0, 0, 0, 0, 0, 0, 0, 0, 0, 0, 0, 0, 0, 0, 0, 0, 0, 0, 0, 0, 0, 1, 0, 0, 0, 0, 0, 0, 1, 1, 1, 0, 0, 0, 0, 0, 0, 0, 0, 0, 0, 0, 0, 1, 0, 0, 0, 0, 1, 0, 0, 0, 0, 0, 0, 0, 0, 0, 0, 0, 0, 0, 0, 0, 0, 0, 0, 1, 0, 0, 0, 0, 1, 0, 0, 0, 0, 0, 0, 1, 0, 0, 0, 0, 0, 0, 0, 0, 0, 0, 0, 0, 1, 0, 0, 0, 0, 0, 1, 1, 0, 0, 0, 1, 0, 0, 0, 1, 0, 0, 0, 0, 0, 0, 0, 0, 0, 0, 0, 0, 0, 0, 0, 0, 0, 0, 0, 0, 1, 0, 0, 0, 0, 0, 0, 0, 0, 0, 0, 0, 0, 0, 0, 0, 0, 1, 0, 0, 0, 0, 0, 0, 1, 0, 0, 0], 'tour_cost': 336375.2923612258, 'packing_plan_cost': 27269, 'rank': 2, 'crowding_distance': inf}),\n",
       " struct({'tour': [190, 199, 56, 158, 249, 43, 45, 83, 183, 18, 13, 101, 130, 107, 225, 256, 254, 236, 240, 95, 119, 74, 138, 31, 195, 175, 96, 0, 52, 51, 120, 251, 10, 230, 263, 176, 194, 124, 37, 239, 205, 221, 78, 203, 165, 218, 90, 2, 61, 186, 267, 97, 275, 39, 15, 279, 188, 153, 185, 269, 220, 125, 140, 154, 204, 277, 5, 259, 261, 65, 87, 219, 64, 84, 151, 200, 201, 69, 100, 86, 187, 144, 157, 133, 80, 214, 23, 156, 60, 25, 32, 134, 112, 179, 70, 247, 121, 189, 132, 14, 136, 174, 177, 208, 68, 127, 71, 102, 53, 34, 114, 35, 212, 172, 233, 266, 211, 27, 162, 92, 170, 50, 222, 160, 142, 234, 191, 168, 184, 4, 202, 116, 215, 217, 89, 166, 260, 237, 235, 12, 241, 24, 54, 118, 163, 150, 115, 246, 126, 229, 258, 105, 17, 30, 252, 47, 7, 182, 98, 29, 128, 242, 103, 110, 164, 20, 16, 91, 224, 231, 193, 155, 8, 44, 178, 94, 161, 192, 1, 109, 272, 257, 21, 255, 58, 28, 111, 104, 265, 38, 123, 131, 223, 22, 40, 113, 159, 180, 6, 169, 85, 268, 106, 262, 226, 152, 227, 264, 228, 250, 173, 171, 33, 137, 244, 146, 75, 88, 81, 147, 41, 49, 76, 73, 232, 55, 42, 213, 206, 93, 79, 145, 108, 209, 278, 63, 9, 273, 62, 36, 19, 271, 270, 181, 143, 148, 245, 238, 141, 243, 198, 3, 210, 117, 99, 11, 129, 216, 66, 167, 253, 82, 57, 196, 276, 59, 248, 46, 26, 77, 48, 122, 274, 67, 72, 207, 139, 149, 197, 135], 'packing_plan': [0, 0, 0, 0, 0, 0, 0, 0, 0, 0, 0, 1, 0, 0, 0, 0, 0, 0, 0, 0, 0, 0, 0, 0, 0, 0, 1, 0, 0, 0, 0, 0, 0, 0, 0, 1, 0, 0, 0, 0, 0, 0, 0, 1, 0, 0, 0, 0, 0, 0, 0, 0, 0, 0, 0, 1, 0, 0, 0, 0, 0, 0, 0, 1, 0, 0, 0, 0, 0, 0, 0, 0, 0, 0, 0, 0, 0, 0, 0, 0, 0, 0, 0, 0, 0, 0, 0, 1, 0, 0, 0, 0, 0, 0, 0, 0, 1, 0, 1, 0, 0, 0, 0, 0, 0, 0, 0, 0, 0, 0, 0, 0, 0, 0, 0, 0, 0, 0, 0, 1, 0, 0, 0, 0, 0, 0, 1, 0, 0, 0, 0, 0, 0, 0, 0, 0, 0, 0, 0, 0, 0, 0, 0, 0, 0, 0, 0, 0, 0, 0, 0, 0, 0, 0, 1, 0, 1, 0, 0, 0, 0, 0, 0, 0, 0, 0, 0, 0, 0, 0, 0, 0, 0, 0, 0, 0, 0, 0, 0, 0, 0, 0, 1, 0, 1, 1, 1, 0, 0, 0, 0, 0, 0, 0, 0, 0, 0, 0, 0, 0, 0, 0, 0, 0, 0, 0, 0, 0, 0, 0, 0, 0, 0, 0, 0, 0, 0, 0, 0, 0, 0, 0, 0, 0, 0, 0, 0, 0, 0, 0, 1, 0, 1, 0, 0, 0, 0, 0, 0, 0, 0, 0, 0, 0, 0, 0, 1, 0, 0, 0, 0, 0, 1, 1, 0, 0, 0, 0, 0, 0, 0, 0, 0, 0, 0, 0, 0, 1, 1, 0, 0, 0, 0, 1, 0, 0, 0, 0, 0], 'tour_cost': 460899.9648634174, 'packing_plan_cost': 30336, 'rank': 5, 'crowding_distance': 0.5802302867929328}),\n",
       " struct({'tour': [1, 261, 174, 99, 117, 256, 271, 218, 158, 3, 220, 214, 36, 10, 224, 178, 52, 97, 228, 95, 101, 89, 137, 119, 88, 40, 80, 124, 39, 128, 118, 245, 12, 180, 260, 64, 269, 237, 44, 156, 179, 252, 277, 31, 92, 251, 146, 240, 29, 165, 63, 205, 7, 257, 9, 177, 87, 148, 242, 138, 24, 212, 226, 132, 236, 33, 122, 197, 21, 139, 234, 198, 147, 225, 270, 79, 142, 45, 231, 221, 161, 164, 46, 199, 200, 176, 193, 246, 171, 61, 60, 85, 249, 181, 194, 20, 263, 208, 129, 91, 175, 2, 113, 49, 81, 94, 105, 42, 11, 272, 34, 104, 239, 48, 98, 268, 229, 127, 93, 78, 210, 77, 168, 22, 114, 203, 15, 265, 47, 30, 238, 151, 126, 248, 186, 217, 134, 209, 13, 201, 109, 187, 111, 38, 188, 59, 90, 8, 162, 155, 65, 25, 189, 115, 223, 14, 258, 26, 149, 230, 121, 279, 83, 106, 74, 140, 273, 5, 184, 244, 157, 71, 43, 120, 232, 192, 55, 73, 145, 4, 233, 32, 150, 75, 133, 69, 54, 254, 58, 222, 131, 23, 0, 116, 130, 207, 166, 267, 190, 18, 37, 243, 211, 274, 206, 195, 67, 28, 159, 202, 253, 50, 264, 35, 84, 183, 169, 51, 76, 215, 100, 262, 250, 70, 182, 259, 167, 96, 143, 41, 185, 136, 82, 141, 153, 108, 152, 57, 112, 196, 135, 227, 241, 68, 278, 107, 144, 86, 163, 16, 213, 72, 56, 19, 123, 172, 66, 62, 102, 266, 125, 173, 17, 103, 216, 6, 27, 235, 191, 275, 276, 255, 154, 160, 204, 53, 110, 247, 170, 219], 'packing_plan': [0, 0, 0, 0, 0, 1, 0, 0, 0, 0, 0, 0, 0, 0, 0, 0, 0, 0, 0, 0, 1, 1, 0, 0, 0, 0, 0, 0, 1, 0, 1, 0, 0, 0, 0, 0, 0, 0, 0, 0, 0, 0, 0, 0, 0, 1, 0, 1, 0, 0, 0, 0, 0, 0, 1, 0, 0, 0, 0, 0, 0, 0, 0, 0, 0, 0, 0, 0, 0, 1, 0, 0, 0, 0, 0, 0, 0, 0, 0, 0, 0, 0, 0, 0, 0, 0, 1, 0, 0, 0, 0, 0, 0, 0, 0, 0, 1, 0, 0, 0, 0, 0, 0, 0, 0, 0, 0, 0, 0, 0, 0, 0, 0, 0, 0, 0, 0, 0, 0, 0, 0, 0, 0, 0, 0, 0, 0, 0, 0, 1, 0, 0, 0, 0, 0, 0, 0, 0, 0, 0, 1, 0, 0, 0, 0, 0, 1, 0, 0, 0, 0, 0, 0, 0, 0, 0, 1, 0, 1, 0, 0, 0, 0, 0, 0, 0, 0, 0, 0, 0, 0, 0, 0, 0, 0, 0, 0, 0, 0, 0, 0, 0, 0, 0, 0, 0, 0, 0, 0, 0, 0, 0, 1, 0, 0, 0, 0, 0, 0, 1, 0, 0, 0, 0, 1, 0, 0, 0, 0, 0, 0, 0, 0, 0, 0, 0, 0, 0, 0, 0, 0, 0, 0, 0, 0, 0, 0, 0, 0, 0, 0, 0, 1, 0, 0, 1, 0, 0, 0, 0, 0, 0, 0, 0, 0, 0, 0, 0, 0, 0, 0, 0, 0, 0, 0, 0, 0, 0, 0, 0, 0, 0, 0, 0, 0, 0, 0, 0, 0, 0, 0, 0, 0, 1, 0, 0, 0, 0, 0], 'tour_cost': 572166.1478718834, 'packing_plan_cost': 30742, 'rank': 4, 'crowding_distance': inf}),\n",
       " struct({'tour': [212, 104, 183, 26, 13, 35, 71, 57, 260, 22, 270, 95, 17, 274, 164, 1, 107, 158, 247, 80, 85, 99, 167, 66, 185, 269, 184, 115, 201, 246, 221, 65, 174, 149, 28, 61, 96, 5, 277, 42, 242, 150, 103, 148, 7, 220, 20, 67, 49, 101, 160, 252, 198, 267, 238, 177, 4, 278, 176, 19, 230, 241, 190, 131, 40, 77, 151, 254, 60, 225, 141, 64, 56, 21, 214, 126, 119, 189, 271, 130, 199, 179, 11, 53, 224, 197, 110, 218, 192, 195, 227, 162, 194, 249, 25, 229, 78, 34, 48, 171, 153, 217, 27, 102, 108, 182, 163, 46, 2, 70, 166, 39, 170, 114, 213, 111, 265, 88, 142, 147, 134, 93, 239, 38, 45, 24, 232, 157, 187, 146, 262, 59, 16, 154, 100, 223, 132, 152, 208, 54, 211, 259, 137, 30, 105, 138, 123, 181, 207, 204, 140, 52, 33, 18, 90, 68, 155, 37, 127, 62, 200, 253, 203, 87, 210, 205, 261, 75, 6, 92, 144, 63, 233, 169, 180, 165, 159, 196, 118, 268, 124, 51, 175, 145, 251, 94, 55, 143, 255, 243, 0, 272, 276, 209, 69, 47, 191, 74, 202, 86, 84, 244, 9, 135, 58, 44, 112, 125, 236, 133, 186, 98, 256, 257, 215, 50, 122, 29, 97, 275, 72, 139, 226, 264, 117, 219, 23, 235, 116, 245, 173, 156, 12, 31, 32, 91, 43, 120, 248, 81, 128, 240, 36, 109, 263, 82, 237, 83, 228, 113, 41, 188, 73, 8, 279, 14, 216, 129, 79, 172, 250, 193, 234, 178, 3, 168, 222, 258, 89, 273, 15, 206, 76, 161, 266, 121, 106, 136, 10, 231], 'packing_plan': [0, 0, 0, 0, 0, 0, 0, 0, 0, 0, 0, 0, 0, 0, 0, 0, 1, 0, 0, 0, 0, 0, 1, 0, 0, 0, 0, 0, 0, 0, 0, 0, 0, 0, 0, 1, 0, 0, 1, 0, 0, 1, 0, 0, 0, 0, 0, 0, 0, 0, 0, 0, 0, 0, 0, 0, 0, 0, 0, 1, 0, 0, 0, 0, 0, 0, 1, 0, 0, 0, 0, 0, 0, 0, 0, 0, 0, 1, 0, 0, 0, 0, 0, 1, 0, 0, 0, 0, 0, 0, 0, 0, 0, 0, 0, 0, 0, 0, 0, 0, 0, 0, 0, 0, 0, 0, 0, 0, 0, 0, 0, 0, 1, 0, 0, 0, 0, 0, 0, 0, 0, 0, 0, 0, 0, 0, 0, 1, 0, 0, 0, 0, 0, 0, 0, 0, 0, 0, 0, 0, 0, 0, 0, 0, 0, 0, 0, 0, 0, 0, 0, 0, 0, 0, 0, 0, 0, 1, 0, 0, 0, 0, 1, 0, 0, 0, 0, 0, 0, 0, 0, 0, 0, 0, 0, 0, 0, 0, 0, 0, 0, 0, 0, 0, 0, 0, 0, 0, 0, 1, 0, 0, 0, 0, 0, 1, 0, 0, 0, 0, 0, 0, 0, 0, 0, 0, 1, 0, 0, 0, 0, 0, 0, 0, 0, 0, 0, 0, 0, 0, 1, 0, 0, 0, 0, 1, 0, 0, 0, 1, 1, 0, 0, 0, 0, 0, 0, 0, 0, 0, 0, 0, 0, 0, 0, 0, 0, 0, 0, 0, 0, 0, 0, 0, 0, 0, 0, 0, 0, 0, 0, 1, 0, 0, 1, 0, 0, 0, 0, 0, 0, 0, 0, 0, 0, 0, 0, 0, 0], 'tour_cost': 496504.8583159306, 'packing_plan_cost': 30006, 'rank': 7, 'crowding_distance': 0.703372688625173}),\n",
       " struct({'tour': [81, 63, 134, 206, 250, 146, 25, 94, 95, 7, 275, 108, 43, 30, 273, 18, 276, 200, 21, 216, 160, 26, 158, 171, 256, 89, 66, 50, 240, 268, 133, 199, 128, 11, 77, 267, 195, 127, 57, 76, 279, 8, 121, 155, 84, 73, 61, 86, 92, 170, 22, 54, 49, 229, 83, 274, 212, 19, 197, 138, 145, 45, 192, 1, 99, 87, 266, 109, 196, 0, 55, 194, 181, 123, 223, 70, 253, 215, 79, 173, 185, 116, 15, 110, 204, 177, 198, 191, 180, 144, 60, 132, 46, 32, 165, 31, 246, 52, 255, 97, 184, 42, 263, 72, 16, 105, 68, 239, 262, 35, 69, 98, 80, 270, 258, 124, 163, 234, 232, 269, 201, 100, 210, 40, 3, 149, 235, 129, 139, 217, 53, 230, 231, 265, 107, 88, 251, 211, 4, 176, 228, 78, 207, 193, 179, 248, 154, 137, 10, 90, 13, 141, 168, 9, 17, 148, 5, 214, 161, 122, 115, 227, 39, 252, 125, 243, 186, 12, 38, 157, 183, 126, 130, 166, 213, 85, 23, 82, 188, 205, 65, 56, 261, 151, 59, 238, 47, 142, 75, 224, 233, 172, 249, 244, 14, 101, 147, 41, 219, 190, 208, 150, 96, 225, 264, 260, 175, 120, 93, 74, 187, 159, 236, 242, 2, 218, 247, 226, 222, 271, 254, 203, 102, 272, 64, 143, 27, 135, 237, 106, 103, 48, 167, 182, 221, 36, 209, 51, 37, 257, 29, 104, 33, 62, 131, 20, 241, 58, 34, 118, 140, 278, 277, 178, 91, 114, 156, 164, 152, 71, 111, 259, 189, 24, 169, 119, 44, 67, 220, 117, 112, 162, 28, 153, 202, 136, 245, 6, 174, 113], 'packing_plan': [0, 0, 0, 0, 0, 0, 0, 0, 0, 0, 0, 0, 0, 0, 0, 0, 0, 0, 0, 0, 0, 0, 0, 0, 0, 0, 1, 0, 0, 0, 0, 0, 0, 0, 0, 0, 0, 0, 0, 0, 0, 0, 0, 0, 0, 0, 0, 0, 0, 0, 0, 0, 0, 0, 0, 0, 1, 0, 0, 0, 0, 0, 0, 0, 0, 0, 0, 0, 0, 0, 0, 0, 1, 0, 0, 0, 0, 0, 0, 0, 0, 0, 0, 0, 0, 0, 1, 0, 1, 0, 0, 0, 0, 0, 0, 0, 0, 0, 0, 0, 0, 0, 0, 0, 0, 0, 0, 0, 0, 0, 0, 0, 0, 1, 0, 0, 0, 0, 0, 0, 0, 0, 1, 0, 0, 0, 0, 0, 0, 0, 0, 0, 0, 0, 0, 0, 0, 0, 0, 0, 0, 0, 0, 0, 0, 0, 0, 1, 0, 0, 0, 1, 1, 0, 1, 0, 0, 0, 0, 0, 0, 0, 0, 0, 0, 0, 0, 0, 0, 0, 0, 0, 0, 0, 0, 0, 1, 0, 0, 0, 0, 0, 0, 0, 0, 0, 0, 0, 0, 0, 0, 0, 0, 0, 0, 0, 0, 0, 0, 0, 0, 0, 0, 1, 0, 0, 0, 1, 0, 0, 1, 0, 0, 0, 0, 0, 0, 0, 0, 0, 0, 0, 0, 0, 0, 0, 1, 1, 0, 1, 0, 0, 0, 0, 0, 0, 0, 0, 0, 0, 0, 1, 0, 0, 0, 0, 0, 0, 0, 0, 0, 0, 0, 0, 0, 0, 0, 0, 0, 1, 0, 0, 0, 0, 0, 0, 0, 0, 0, 0, 0, 0, 1, 1, 0, 0, 0, 1, 0], 'tour_cost': 499210.6024185917, 'packing_plan_cost': 30248, 'rank': 6, 'crowding_distance': 1.0435245389404209}),\n",
       " struct({'tour': [157, 243, 70, 113, 96, 3, 189, 203, 134, 192, 40, 148, 220, 216, 213, 124, 68, 75, 50, 9, 141, 193, 60, 165, 14, 169, 196, 98, 48, 33, 55, 65, 137, 242, 135, 120, 92, 262, 187, 221, 201, 195, 146, 140, 64, 268, 15, 159, 234, 231, 179, 158, 246, 260, 251, 209, 12, 29, 171, 108, 144, 81, 132, 168, 89, 188, 238, 176, 133, 162, 194, 235, 217, 102, 197, 167, 214, 52, 178, 250, 267, 258, 155, 94, 118, 91, 85, 166, 164, 154, 115, 211, 87, 190, 22, 129, 18, 47, 240, 271, 104, 8, 111, 218, 49, 160, 57, 117, 112, 26, 276, 97, 34, 84, 174, 28, 191, 257, 226, 19, 232, 83, 77, 21, 263, 173, 183, 255, 128, 100, 182, 101, 37, 136, 121, 42, 253, 236, 25, 208, 5, 72, 20, 32, 76, 30, 61, 150, 131, 145, 149, 71, 269, 170, 44, 23, 138, 233, 207, 249, 116, 222, 16, 186, 266, 17, 225, 119, 69, 175, 275, 143, 147, 177, 88, 139, 237, 80, 163, 63, 93, 123, 181, 244, 156, 151, 125, 62, 210, 122, 254, 224, 200, 4, 215, 228, 103, 51, 180, 110, 265, 219, 248, 142, 274, 99, 7, 1, 247, 58, 278, 198, 107, 59, 78, 73, 256, 2, 185, 109, 86, 199, 0, 161, 239, 259, 184, 41, 106, 54, 56, 245, 202, 95, 153, 229, 261, 206, 152, 279, 130, 227, 66, 114, 212, 270, 127, 204, 264, 46, 79, 53, 241, 43, 67, 35, 252, 82, 36, 27, 230, 277, 105, 272, 273, 39, 90, 6, 205, 13, 126, 31, 10, 24, 45, 74, 223, 38, 172, 11], 'packing_plan': [0, 0, 0, 0, 0, 1, 0, 0, 0, 0, 0, 0, 0, 1, 0, 0, 1, 0, 0, 1, 0, 0, 0, 0, 0, 0, 0, 0, 0, 0, 0, 0, 0, 0, 0, 0, 1, 1, 0, 0, 0, 0, 0, 0, 1, 0, 0, 0, 0, 0, 0, 0, 0, 0, 0, 0, 0, 0, 0, 0, 0, 0, 0, 0, 0, 0, 0, 0, 0, 0, 0, 0, 0, 0, 0, 1, 0, 0, 0, 1, 0, 0, 0, 0, 0, 0, 0, 0, 0, 1, 0, 1, 0, 0, 0, 0, 0, 0, 0, 0, 0, 0, 0, 0, 0, 0, 0, 0, 0, 0, 0, 0, 0, 0, 0, 0, 0, 0, 0, 0, 0, 0, 0, 1, 0, 0, 0, 0, 0, 0, 0, 0, 0, 0, 0, 0, 0, 0, 0, 0, 0, 0, 0, 0, 0, 0, 0, 0, 0, 1, 0, 0, 0, 0, 0, 0, 0, 0, 1, 0, 0, 0, 0, 0, 0, 0, 0, 0, 0, 0, 0, 0, 0, 0, 0, 0, 0, 0, 0, 0, 0, 0, 0, 0, 0, 0, 0, 0, 0, 0, 0, 0, 0, 0, 0, 0, 1, 0, 0, 0, 0, 0, 0, 0, 0, 0, 0, 0, 0, 0, 0, 1, 0, 0, 0, 0, 0, 0, 0, 0, 0, 0, 0, 0, 0, 0, 0, 1, 0, 1, 0, 1, 0, 0, 0, 0, 1, 0, 0, 0, 0, 0, 0, 0, 0, 0, 0, 0, 0, 0, 0, 0, 0, 0, 0, 0, 0, 0, 0, 0, 0, 0, 0, 0, 0, 0, 0, 0, 0, 0, 0, 0, 0, 0, 0, 0, 0, 0, 0], 'tour_cost': 401360.43580143084, 'packing_plan_cost': 30493, 'rank': 2, 'crowding_distance': 0.3791187060090273}),\n",
       " struct({'tour': [6, 273, 50, 122, 148, 68, 0, 102, 97, 199, 4, 141, 82, 166, 93, 212, 36, 107, 21, 198, 116, 10, 265, 128, 266, 72, 226, 91, 28, 250, 51, 119, 137, 86, 75, 276, 23, 171, 157, 271, 207, 231, 272, 249, 219, 209, 167, 103, 39, 187, 69, 216, 238, 179, 98, 268, 242, 73, 257, 62, 109, 134, 146, 48, 41, 182, 57, 189, 22, 29, 90, 142, 218, 47, 162, 241, 55, 155, 211, 177, 138, 32, 144, 25, 96, 152, 164, 261, 5, 127, 174, 60, 104, 203, 78, 224, 269, 63, 85, 11, 100, 9, 255, 172, 262, 111, 43, 110, 3, 74, 44, 149, 279, 89, 277, 136, 52, 239, 256, 54, 158, 56, 151, 117, 159, 225, 227, 183, 42, 34, 186, 192, 33, 76, 125, 208, 153, 101, 87, 169, 118, 264, 267, 232, 196, 80, 26, 132, 16, 64, 253, 252, 217, 106, 135, 61, 184, 236, 240, 130, 234, 176, 120, 201, 13, 246, 92, 70, 123, 114, 274, 188, 46, 67, 210, 170, 254, 160, 94, 270, 147, 81, 222, 228, 248, 143, 205, 8, 230, 7, 112, 175, 275, 200, 49, 18, 165, 193, 1, 243, 214, 191, 58, 38, 251, 31, 113, 221, 35, 190, 154, 235, 129, 245, 150, 247, 12, 180, 185, 139, 181, 223, 45, 88, 19, 229, 163, 237, 24, 263, 99, 124, 15, 79, 95, 215, 71, 14, 233, 121, 115, 126, 37, 195, 84, 202, 83, 140, 213, 40, 133, 66, 220, 108, 197, 244, 178, 161, 194, 2, 156, 278, 260, 258, 27, 173, 105, 145, 53, 59, 77, 65, 20, 17, 206, 131, 168, 30, 259, 204], 'packing_plan': [0, 0, 1, 0, 0, 0, 0, 0, 1, 0, 1, 0, 0, 0, 0, 0, 0, 0, 0, 0, 0, 0, 0, 0, 0, 0, 0, 0, 1, 0, 1, 0, 0, 0, 0, 0, 0, 0, 0, 0, 0, 0, 0, 0, 0, 0, 0, 0, 0, 0, 0, 0, 0, 0, 0, 0, 0, 0, 0, 1, 0, 0, 0, 0, 0, 0, 0, 0, 0, 0, 0, 0, 1, 0, 0, 0, 0, 0, 1, 0, 0, 0, 0, 1, 0, 0, 0, 0, 0, 0, 0, 0, 0, 0, 0, 1, 1, 0, 0, 0, 0, 0, 1, 0, 0, 0, 0, 1, 0, 0, 0, 1, 0, 0, 0, 0, 0, 1, 0, 0, 0, 0, 0, 0, 0, 1, 0, 1, 0, 0, 0, 0, 0, 0, 0, 0, 0, 0, 0, 0, 0, 0, 0, 0, 1, 0, 0, 0, 0, 0, 0, 0, 1, 0, 0, 0, 0, 0, 0, 0, 0, 0, 0, 1, 0, 0, 1, 0, 0, 0, 0, 0, 0, 0, 0, 0, 0, 0, 0, 0, 0, 0, 0, 0, 0, 0, 0, 0, 0, 0, 0, 0, 0, 0, 1, 0, 0, 0, 0, 0, 0, 0, 0, 0, 0, 0, 0, 0, 0, 0, 0, 0, 0, 0, 0, 0, 0, 0, 1, 0, 0, 1, 0, 0, 0, 0, 0, 0, 0, 1, 0, 0, 0, 0, 0, 0, 0, 0, 0, 0, 0, 0, 0, 0, 1, 1, 0, 0, 0, 0, 0, 0, 0, 0, 0, 0, 0, 0, 0, 0, 0, 0, 0, 0, 0, 0, 0, 0, 0, 1, 0, 0, 0, 0, 1, 0, 0, 0, 0], 'tour_cost': 479846.4983964932, 'packing_plan_cost': 30944, 'rank': 2, 'crowding_distance': 0.5755735353246039}),\n",
       " struct({'tour': [82, 174, 53, 117, 93, 141, 179, 123, 30, 138, 144, 49, 254, 64, 249, 52, 164, 252, 152, 88, 136, 122, 188, 24, 172, 33, 40, 275, 113, 57, 94, 66, 111, 171, 269, 118, 196, 11, 139, 236, 83, 181, 157, 214, 115, 243, 272, 222, 27, 92, 202, 114, 6, 273, 62, 235, 104, 95, 71, 253, 238, 5, 18, 10, 162, 74, 165, 67, 42, 102, 0, 126, 153, 89, 194, 212, 278, 190, 267, 78, 173, 255, 268, 58, 239, 29, 132, 248, 47, 70, 240, 17, 221, 100, 86, 259, 197, 19, 28, 142, 106, 8, 145, 200, 150, 148, 101, 36, 213, 25, 210, 32, 48, 137, 216, 178, 230, 39, 87, 96, 229, 131, 244, 225, 168, 107, 246, 4, 228, 219, 199, 128, 65, 223, 14, 143, 245, 124, 166, 51, 158, 108, 85, 61, 203, 3, 226, 16, 159, 68, 201, 258, 191, 156, 257, 130, 80, 77, 274, 217, 242, 119, 26, 34, 182, 37, 167, 206, 44, 116, 55, 234, 169, 266, 264, 227, 154, 146, 155, 265, 127, 121, 160, 105, 99, 112, 151, 15, 22, 129, 231, 81, 198, 46, 140, 205, 270, 241, 35, 207, 60, 185, 237, 176, 232, 218, 250, 277, 133, 177, 1, 161, 97, 247, 13, 120, 186, 224, 2, 110, 256, 12, 135, 41, 79, 204, 262, 109, 189, 279, 56, 50, 193, 43, 215, 20, 195, 251, 103, 63, 209, 134, 38, 76, 23, 75, 183, 233, 271, 263, 98, 170, 175, 276, 54, 73, 180, 45, 208, 90, 163, 59, 31, 72, 84, 125, 261, 220, 211, 260, 21, 91, 149, 192, 9, 69, 7, 147, 187, 184], 'packing_plan': [0, 0, 0, 0, 0, 0, 1, 0, 0, 1, 0, 0, 0, 0, 1, 0, 0, 1, 0, 1, 0, 0, 0, 0, 1, 0, 0, 0, 0, 0, 0, 0, 0, 0, 0, 0, 0, 0, 0, 0, 0, 0, 0, 0, 0, 0, 0, 0, 0, 1, 0, 0, 0, 0, 0, 0, 0, 0, 1, 0, 0, 0, 0, 0, 0, 0, 0, 0, 1, 0, 0, 0, 0, 0, 0, 0, 0, 0, 0, 0, 0, 0, 0, 1, 0, 1, 0, 0, 0, 0, 0, 0, 0, 0, 0, 0, 0, 0, 0, 0, 0, 0, 0, 0, 0, 0, 0, 0, 0, 0, 0, 0, 0, 0, 0, 0, 0, 0, 0, 0, 0, 0, 0, 0, 0, 1, 0, 0, 0, 0, 0, 0, 0, 0, 0, 0, 0, 0, 0, 0, 0, 0, 0, 0, 0, 0, 1, 0, 1, 0, 0, 0, 0, 0, 0, 0, 0, 0, 0, 0, 0, 0, 0, 0, 0, 0, 0, 0, 0, 0, 0, 0, 0, 0, 0, 1, 0, 0, 0, 0, 0, 0, 0, 0, 0, 0, 0, 0, 0, 0, 0, 1, 0, 0, 0, 0, 1, 1, 0, 0, 0, 0, 0, 0, 0, 0, 0, 0, 0, 0, 0, 0, 0, 0, 0, 0, 0, 0, 0, 0, 0, 0, 0, 0, 0, 0, 0, 0, 0, 0, 0, 0, 0, 0, 0, 0, 1, 0, 0, 0, 0, 0, 0, 0, 0, 0, 0, 0, 0, 0, 0, 0, 0, 0, 0, 0, 0, 0, 0, 0, 0, 0, 0, 0, 0, 0, 0, 1, 0, 0, 0, 0, 1, 0, 0, 0, 0, 0, 0], 'tour_cost': 273351.1916650791, 'packing_plan_cost': 30407, 'rank': 1, 'crowding_distance': inf}),\n",
       " struct({'tour': [261, 229, 115, 129, 56, 223, 209, 199, 85, 173, 96, 118, 63, 66, 206, 221, 171, 19, 13, 256, 194, 116, 9, 105, 161, 138, 88, 265, 242, 61, 234, 267, 67, 236, 55, 111, 248, 95, 176, 69, 4, 272, 26, 159, 218, 155, 38, 47, 187, 166, 152, 82, 211, 254, 217, 71, 183, 237, 65, 198, 23, 172, 124, 167, 213, 193, 87, 117, 33, 28, 29, 249, 260, 168, 189, 268, 70, 130, 5, 86, 226, 148, 188, 178, 274, 43, 41, 175, 49, 225, 72, 201, 169, 246, 121, 135, 185, 101, 6, 132, 83, 240, 269, 128, 97, 91, 241, 228, 20, 103, 219, 44, 214, 40, 177, 54, 263, 137, 75, 181, 235, 98, 110, 162, 102, 262, 197, 89, 57, 84, 80, 35, 239, 39, 42, 18, 157, 31, 37, 90, 136, 94, 205, 127, 149, 210, 182, 17, 227, 2, 1, 59, 154, 216, 224, 203, 271, 104, 10, 8, 78, 123, 158, 202, 7, 266, 45, 50, 62, 108, 77, 112, 114, 14, 146, 21, 222, 207, 79, 52, 195, 275, 145, 255, 60, 106, 163, 208, 131, 151, 251, 170, 243, 51, 190, 142, 232, 12, 164, 48, 220, 73, 143, 258, 264, 180, 27, 200, 278, 273, 22, 212, 233, 153, 196, 250, 270, 231, 11, 3, 186, 74, 24, 113, 247, 184, 156, 25, 245, 160, 140, 133, 253, 139, 204, 92, 244, 147, 58, 257, 144, 191, 134, 53, 174, 68, 215, 192, 179, 259, 81, 30, 277, 126, 64, 122, 279, 119, 120, 15, 109, 99, 34, 36, 93, 0, 165, 125, 276, 32, 141, 238, 16, 252, 100, 46, 230, 107, 150, 76], 'packing_plan': [0, 0, 0, 0, 0, 0, 0, 0, 0, 0, 0, 0, 0, 0, 0, 0, 0, 0, 0, 0, 0, 0, 0, 0, 0, 0, 0, 0, 0, 0, 0, 0, 0, 0, 0, 0, 0, 0, 0, 0, 1, 0, 0, 0, 0, 0, 0, 0, 0, 0, 0, 0, 0, 0, 0, 0, 0, 0, 0, 0, 0, 0, 0, 0, 0, 0, 0, 0, 0, 0, 0, 1, 0, 0, 0, 0, 0, 0, 0, 1, 0, 0, 0, 0, 0, 1, 0, 0, 0, 0, 0, 0, 0, 0, 0, 0, 0, 1, 0, 0, 0, 0, 0, 0, 0, 0, 0, 0, 0, 0, 0, 0, 0, 0, 0, 1, 0, 0, 0, 0, 0, 1, 0, 0, 0, 0, 0, 1, 0, 0, 0, 0, 1, 0, 0, 0, 0, 0, 0, 0, 0, 0, 0, 1, 0, 0, 0, 0, 0, 0, 0, 1, 0, 0, 0, 0, 1, 0, 0, 0, 0, 0, 0, 0, 0, 0, 0, 0, 0, 0, 1, 0, 0, 0, 0, 0, 0, 0, 0, 0, 0, 0, 0, 0, 0, 0, 0, 0, 0, 0, 1, 0, 0, 0, 0, 1, 0, 0, 0, 0, 0, 0, 0, 0, 0, 0, 0, 0, 0, 0, 0, 0, 0, 0, 0, 0, 0, 0, 0, 0, 0, 0, 1, 0, 0, 0, 0, 1, 0, 0, 0, 0, 0, 0, 0, 0, 1, 0, 0, 0, 0, 0, 0, 0, 0, 0, 0, 0, 0, 0, 1, 0, 0, 0, 0, 0, 0, 0, 0, 0, 1, 0, 0, 1, 0, 0, 0, 0, 0, 0, 0, 0, 0, 1, 0, 0, 0, 0, 0], 'tour_cost': 416043.55714489956, 'packing_plan_cost': 27478, 'rank': 5, 'crowding_distance': inf}),\n",
       " struct({'tour': [93, 9, 19, 114, 115, 20, 107, 51, 113, 157, 21, 122, 175, 241, 225, 7, 247, 191, 50, 266, 14, 182, 245, 39, 134, 71, 260, 244, 101, 214, 132, 73, 106, 205, 80, 220, 233, 144, 206, 213, 5, 104, 141, 37, 160, 133, 103, 187, 169, 100, 91, 59, 56, 147, 89, 102, 60, 22, 203, 256, 35, 227, 111, 11, 88, 136, 193, 164, 72, 110, 10, 139, 137, 209, 237, 0, 201, 124, 261, 207, 202, 199, 251, 31, 234, 259, 243, 33, 176, 171, 119, 168, 130, 156, 145, 149, 127, 48, 254, 68, 166, 95, 96, 190, 278, 26, 84, 105, 217, 152, 167, 255, 86, 34, 181, 1, 253, 109, 212, 63, 76, 4, 204, 262, 177, 92, 57, 248, 58, 211, 226, 232, 117, 246, 270, 69, 153, 279, 121, 87, 159, 116, 277, 53, 49, 129, 70, 274, 269, 42, 62, 150, 197, 170, 64, 6, 47, 67, 223, 94, 161, 108, 38, 43, 184, 46, 78, 275, 185, 231, 268, 118, 30, 188, 66, 250, 271, 54, 174, 257, 252, 238, 3, 173, 154, 27, 216, 128, 75, 158, 112, 138, 146, 41, 28, 198, 179, 99, 2, 249, 222, 44, 239, 61, 55, 120, 219, 272, 36, 77, 236, 97, 65, 135, 196, 90, 17, 264, 125, 79, 81, 276, 16, 178, 267, 162, 15, 224, 195, 40, 23, 82, 210, 52, 215, 273, 18, 265, 183, 258, 126, 83, 235, 218, 24, 263, 131, 12, 189, 123, 242, 8, 13, 165, 192, 142, 85, 143, 208, 180, 200, 140, 172, 240, 229, 230, 45, 221, 74, 155, 194, 163, 228, 151, 148, 186, 29, 25, 32, 98], 'packing_plan': [0, 0, 1, 0, 0, 0, 0, 0, 0, 0, 0, 0, 0, 0, 1, 0, 0, 0, 0, 0, 0, 0, 0, 0, 0, 0, 1, 0, 0, 0, 0, 0, 0, 0, 0, 0, 0, 0, 0, 0, 0, 0, 0, 0, 0, 0, 0, 0, 1, 0, 0, 0, 0, 0, 0, 0, 0, 0, 0, 0, 0, 0, 0, 0, 0, 0, 1, 1, 0, 0, 0, 0, 0, 0, 0, 0, 0, 0, 1, 0, 0, 0, 0, 0, 0, 0, 0, 0, 0, 0, 0, 1, 0, 0, 0, 0, 0, 0, 0, 0, 0, 0, 0, 0, 0, 0, 0, 0, 0, 0, 1, 0, 0, 0, 0, 1, 0, 0, 0, 0, 0, 0, 0, 0, 0, 1, 0, 0, 0, 0, 0, 0, 0, 0, 0, 0, 0, 0, 0, 0, 1, 0, 0, 0, 0, 0, 0, 0, 0, 0, 0, 0, 0, 0, 0, 0, 0, 0, 0, 1, 0, 0, 0, 0, 0, 0, 0, 0, 0, 0, 0, 0, 0, 0, 0, 0, 0, 0, 0, 0, 0, 0, 0, 0, 0, 0, 0, 0, 0, 0, 1, 1, 0, 0, 0, 0, 0, 0, 0, 0, 0, 0, 0, 0, 0, 0, 0, 0, 0, 1, 0, 0, 0, 0, 0, 0, 0, 0, 0, 0, 0, 0, 0, 0, 0, 0, 0, 0, 0, 1, 0, 1, 0, 0, 0, 0, 0, 0, 0, 0, 0, 0, 0, 0, 0, 0, 0, 0, 0, 0, 0, 1, 0, 1, 0, 0, 0, 0, 0, 0, 0, 0, 0, 0, 0, 0, 0, 1, 0, 0, 0, 0, 0, 0, 0, 0, 0, 0, 0], 'tour_cost': 355978.1253607982, 'packing_plan_cost': 28084, 'rank': 3, 'crowding_distance': inf}),\n",
       " struct({'tour': [198, 272, 21, 36, 20, 243, 147, 99, 193, 184, 191, 80, 242, 68, 132, 8, 155, 3, 48, 253, 102, 219, 171, 268, 98, 276, 205, 241, 128, 196, 65, 244, 212, 39, 18, 279, 134, 139, 176, 220, 121, 257, 103, 182, 12, 197, 145, 120, 277, 256, 210, 142, 115, 54, 216, 129, 274, 218, 88, 0, 163, 206, 104, 4, 60, 23, 136, 164, 42, 180, 239, 107, 167, 246, 149, 1, 258, 33, 78, 9, 215, 53, 262, 46, 247, 233, 14, 57, 47, 93, 90, 229, 91, 5, 267, 187, 82, 6, 74, 108, 123, 51, 222, 231, 264, 252, 32, 223, 161, 7, 159, 278, 110, 254, 150, 2, 169, 151, 165, 249, 45, 25, 133, 251, 38, 261, 271, 96, 37, 140, 245, 100, 114, 250, 70, 34, 186, 162, 28, 77, 61, 138, 153, 79, 230, 55, 174, 81, 188, 207, 266, 190, 16, 125, 24, 237, 105, 113, 199, 56, 168, 234, 11, 52, 236, 269, 73, 232, 111, 181, 217, 66, 101, 62, 27, 195, 29, 189, 31, 240, 87, 122, 26, 137, 22, 84, 166, 238, 10, 270, 263, 203, 76, 63, 109, 94, 131, 154, 17, 49, 170, 85, 235, 156, 208, 15, 200, 265, 209, 213, 13, 224, 173, 41, 204, 160, 172, 19, 178, 43, 214, 44, 158, 72, 35, 152, 226, 143, 135, 97, 127, 71, 225, 185, 30, 117, 89, 228, 83, 64, 50, 95, 40, 92, 259, 126, 118, 211, 146, 67, 273, 275, 179, 177, 119, 260, 183, 201, 130, 221, 86, 75, 157, 192, 175, 124, 116, 69, 248, 59, 148, 106, 255, 202, 112, 194, 227, 58, 141, 144], 'packing_plan': [1, 0, 0, 1, 0, 0, 1, 0, 1, 0, 0, 0, 0, 0, 0, 1, 0, 0, 0, 0, 0, 0, 0, 0, 0, 0, 0, 1, 0, 0, 0, 1, 0, 0, 0, 0, 0, 0, 0, 0, 0, 0, 0, 1, 0, 0, 0, 0, 0, 0, 0, 0, 0, 0, 0, 0, 0, 0, 0, 1, 0, 0, 0, 0, 0, 0, 0, 0, 0, 0, 0, 0, 0, 0, 0, 0, 0, 0, 0, 0, 1, 0, 0, 0, 0, 0, 0, 0, 0, 0, 0, 0, 0, 0, 0, 0, 0, 0, 0, 0, 1, 0, 0, 1, 0, 0, 0, 0, 0, 0, 0, 1, 0, 0, 0, 0, 0, 0, 0, 0, 0, 0, 0, 0, 0, 0, 1, 0, 0, 0, 0, 0, 0, 0, 0, 0, 1, 0, 0, 0, 0, 0, 0, 0, 0, 0, 0, 0, 0, 0, 0, 0, 0, 0, 0, 0, 0, 0, 0, 0, 0, 0, 0, 0, 0, 0, 0, 0, 0, 1, 0, 1, 0, 0, 0, 0, 0, 0, 0, 0, 0, 0, 0, 0, 0, 0, 0, 0, 0, 0, 0, 0, 0, 0, 1, 0, 0, 0, 1, 0, 0, 0, 0, 0, 0, 0, 0, 0, 0, 0, 0, 0, 1, 0, 0, 0, 0, 0, 0, 0, 0, 0, 0, 0, 1, 0, 0, 0, 0, 0, 0, 0, 0, 0, 0, 0, 0, 0, 0, 1, 0, 0, 0, 0, 0, 0, 0, 0, 0, 0, 0, 0, 0, 0, 0, 1, 0, 0, 0, 0, 0, 0, 0, 0, 0, 1, 1, 0, 0, 0, 0, 0, 0, 0, 0, 0, 0, 0, 0], 'tour_cost': 556523.3691027842, 'packing_plan_cost': 30457, 'rank': 4, 'crowding_distance': 0.6717343438489523}),\n",
       " struct({'tour': [108, 137, 177, 135, 176, 110, 165, 245, 154, 33, 185, 171, 133, 250, 38, 36, 80, 73, 273, 141, 175, 13, 47, 275, 169, 116, 240, 115, 257, 9, 227, 107, 28, 211, 125, 225, 207, 17, 206, 77, 142, 14, 188, 139, 103, 158, 234, 150, 140, 64, 111, 222, 30, 235, 260, 87, 213, 148, 162, 261, 63, 126, 220, 197, 226, 11, 233, 218, 24, 84, 172, 97, 60, 69, 164, 102, 27, 276, 252, 230, 196, 12, 215, 263, 71, 19, 3, 57, 264, 72, 78, 138, 202, 278, 0, 193, 143, 2, 272, 236, 44, 61, 258, 183, 204, 247, 114, 101, 42, 15, 157, 181, 23, 106, 201, 37, 39, 112, 228, 131, 50, 34, 182, 41, 96, 147, 132, 152, 174, 166, 129, 70, 46, 151, 75, 120, 124, 153, 1, 59, 251, 268, 58, 55, 76, 262, 100, 214, 198, 90, 270, 199, 205, 105, 229, 35, 265, 45, 168, 21, 149, 92, 187, 253, 156, 223, 51, 241, 267, 279, 217, 219, 170, 82, 242, 109, 113, 98, 271, 190, 26, 232, 203, 40, 6, 25, 195, 167, 56, 91, 212, 8, 118, 274, 216, 54, 66, 146, 10, 255, 53, 239, 184, 200, 20, 179, 161, 32, 144, 49, 119, 117, 210, 246, 178, 95, 192, 29, 4, 194, 65, 86, 277, 191, 243, 145, 85, 68, 88, 259, 7, 237, 130, 269, 22, 208, 209, 221, 160, 136, 67, 128, 94, 18, 238, 254, 266, 248, 256, 43, 93, 249, 81, 31, 186, 231, 121, 48, 104, 134, 163, 159, 83, 62, 89, 5, 99, 74, 155, 173, 16, 122, 52, 224, 127, 79, 189, 180, 123, 244], 'packing_plan': [0, 0, 0, 0, 0, 0, 0, 0, 0, 0, 0, 0, 0, 0, 0, 0, 0, 0, 0, 0, 0, 0, 0, 0, 1, 1, 0, 0, 1, 0, 0, 1, 0, 0, 0, 0, 0, 0, 0, 0, 0, 0, 0, 1, 1, 1, 0, 0, 0, 0, 0, 1, 0, 1, 0, 0, 1, 0, 0, 0, 0, 0, 0, 0, 0, 0, 0, 0, 0, 1, 0, 0, 0, 0, 1, 0, 0, 0, 0, 0, 0, 0, 0, 0, 0, 0, 0, 0, 0, 0, 0, 0, 0, 0, 0, 0, 0, 0, 0, 0, 0, 1, 0, 1, 0, 0, 0, 0, 0, 0, 1, 0, 0, 0, 0, 0, 0, 0, 0, 1, 1, 0, 0, 0, 0, 0, 0, 0, 0, 0, 0, 0, 0, 0, 0, 0, 0, 0, 0, 0, 0, 0, 0, 0, 0, 0, 0, 0, 0, 0, 0, 1, 0, 0, 0, 0, 0, 0, 0, 0, 0, 0, 0, 0, 0, 0, 0, 0, 0, 0, 0, 1, 0, 0, 0, 0, 1, 0, 0, 0, 1, 1, 0, 0, 0, 0, 0, 0, 0, 0, 0, 0, 0, 0, 0, 0, 0, 0, 0, 0, 0, 1, 0, 0, 0, 1, 0, 0, 0, 0, 0, 0, 0, 0, 0, 0, 0, 0, 0, 0, 0, 0, 0, 0, 0, 0, 1, 0, 0, 0, 0, 0, 0, 0, 0, 0, 0, 0, 0, 0, 0, 0, 0, 0, 0, 0, 0, 0, 0, 0, 0, 0, 0, 0, 0, 0, 0, 1, 0, 0, 0, 0, 0, 0, 0, 0, 0, 0, 0, 0, 0, 0, 0, 0, 0, 1, 0, 1, 0], 'tour_cost': 548582.2843015543, 'packing_plan_cost': 29673, 'rank': 10, 'crowding_distance': inf}),\n",
       " struct({'tour': [236, 87, 111, 88, 33, 25, 79, 46, 161, 214, 234, 135, 28, 24, 31, 177, 244, 185, 138, 38, 272, 4, 145, 42, 110, 215, 230, 243, 2, 186, 18, 205, 206, 140, 226, 170, 6, 242, 7, 76, 37, 119, 231, 123, 102, 268, 69, 270, 273, 197, 34, 11, 274, 163, 106, 56, 155, 245, 183, 190, 262, 113, 146, 158, 171, 85, 191, 179, 148, 246, 156, 207, 114, 228, 220, 182, 80, 259, 255, 58, 227, 144, 248, 103, 167, 225, 241, 169, 128, 0, 247, 83, 36, 253, 195, 224, 233, 265, 84, 199, 203, 217, 196, 20, 49, 16, 78, 240, 192, 89, 278, 86, 238, 250, 104, 180, 60, 93, 47, 71, 257, 266, 40, 92, 136, 26, 107, 3, 264, 101, 258, 57, 277, 189, 164, 122, 212, 51, 54, 35, 162, 12, 181, 151, 139, 73, 19, 251, 52, 249, 275, 261, 149, 153, 30, 112, 175, 200, 9, 68, 260, 5, 157, 237, 218, 198, 222, 59, 133, 96, 65, 127, 117, 142, 17, 125, 14, 21, 44, 118, 74, 62, 147, 90, 193, 48, 209, 188, 41, 99, 120, 173, 66, 53, 13, 165, 210, 132, 23, 95, 187, 172, 166, 116, 168, 61, 115, 50, 154, 194, 201, 141, 213, 267, 32, 29, 229, 105, 100, 8, 15, 55, 276, 75, 45, 124, 97, 239, 254, 178, 211, 152, 174, 271, 219, 223, 91, 232, 10, 176, 98, 94, 64, 184, 131, 202, 27, 134, 129, 67, 22, 109, 126, 82, 216, 256, 221, 252, 159, 235, 77, 39, 81, 208, 160, 279, 137, 1, 269, 63, 70, 108, 130, 72, 121, 204, 43, 150, 263, 143], 'packing_plan': [0, 0, 0, 0, 1, 0, 0, 0, 0, 0, 0, 0, 0, 0, 0, 0, 1, 0, 0, 0, 0, 0, 0, 0, 0, 0, 0, 0, 0, 0, 0, 0, 0, 0, 0, 0, 0, 0, 0, 0, 1, 0, 0, 0, 0, 0, 1, 1, 0, 0, 0, 0, 0, 0, 1, 0, 0, 0, 0, 1, 0, 0, 1, 0, 0, 0, 0, 0, 0, 0, 0, 0, 0, 0, 0, 0, 0, 0, 0, 0, 0, 0, 1, 0, 0, 0, 0, 0, 0, 0, 0, 0, 0, 0, 0, 0, 0, 0, 0, 0, 0, 0, 0, 0, 0, 0, 0, 0, 0, 0, 0, 1, 0, 0, 0, 0, 0, 0, 0, 0, 0, 0, 0, 0, 1, 0, 0, 0, 0, 1, 0, 0, 0, 0, 0, 0, 0, 1, 0, 0, 0, 0, 0, 0, 0, 0, 0, 0, 0, 1, 0, 0, 0, 0, 0, 0, 0, 0, 0, 0, 0, 0, 0, 0, 0, 0, 0, 0, 0, 0, 0, 0, 0, 0, 1, 0, 1, 0, 0, 0, 0, 0, 0, 0, 0, 0, 0, 0, 0, 0, 1, 0, 0, 0, 0, 0, 0, 0, 0, 0, 0, 1, 0, 0, 0, 0, 0, 0, 0, 1, 0, 0, 0, 0, 0, 0, 0, 0, 0, 1, 0, 0, 0, 0, 0, 0, 0, 0, 0, 0, 0, 0, 0, 0, 0, 0, 0, 0, 0, 0, 0, 0, 0, 0, 0, 0, 1, 0, 0, 1, 0, 0, 0, 0, 0, 0, 0, 0, 0, 0, 0, 0, 0, 0, 0, 0, 0, 0, 0, 1, 0, 0, 0, 1, 0, 0, 0, 0, 1], 'tour_cost': 491188.85113225074, 'packing_plan_cost': 29864, 'rank': 8, 'crowding_distance': inf}),\n",
       " struct({'tour': [276, 220, 63, 215, 3, 49, 178, 17, 219, 138, 173, 209, 158, 141, 268, 123, 229, 83, 48, 93, 232, 241, 170, 156, 44, 55, 58, 23, 73, 122, 40, 162, 185, 95, 124, 251, 225, 131, 42, 9, 224, 66, 249, 237, 151, 19, 119, 264, 41, 79, 174, 133, 115, 136, 34, 51, 171, 230, 166, 106, 234, 203, 257, 278, 130, 254, 128, 216, 7, 99, 165, 206, 223, 0, 159, 262, 109, 240, 199, 8, 103, 29, 78, 248, 244, 176, 198, 207, 259, 270, 260, 71, 77, 169, 11, 4, 196, 10, 272, 218, 37, 266, 88, 197, 132, 108, 32, 142, 267, 192, 228, 45, 146, 28, 222, 76, 193, 134, 139, 180, 129, 145, 26, 97, 25, 38, 69, 62, 231, 67, 148, 212, 101, 233, 90, 214, 238, 187, 56, 72, 279, 263, 75, 80, 14, 265, 182, 86, 246, 221, 33, 81, 213, 15, 36, 157, 2, 47, 5, 27, 22, 208, 186, 112, 183, 226, 201, 24, 74, 82, 16, 61, 143, 271, 247, 114, 243, 274, 31, 164, 59, 269, 135, 127, 13, 126, 195, 155, 117, 121, 125, 96, 153, 64, 30, 20, 116, 205, 236, 235, 167, 46, 120, 92, 6, 194, 239, 189, 161, 54, 102, 98, 113, 227, 39, 35, 104, 140, 52, 60, 179, 261, 202, 256, 277, 160, 144, 100, 91, 70, 150, 147, 273, 168, 152, 137, 188, 12, 87, 172, 89, 105, 181, 163, 250, 154, 110, 245, 252, 211, 111, 84, 242, 217, 253, 107, 191, 118, 177, 50, 210, 204, 57, 275, 255, 68, 21, 53, 43, 65, 175, 184, 1, 258, 94, 149, 200, 190, 85, 18], 'packing_plan': [0, 0, 1, 0, 0, 0, 0, 0, 0, 0, 0, 0, 1, 0, 0, 0, 0, 0, 0, 0, 1, 1, 0, 0, 0, 0, 0, 1, 0, 0, 0, 1, 0, 0, 0, 0, 0, 0, 0, 0, 0, 0, 1, 0, 0, 1, 0, 0, 0, 0, 0, 0, 0, 0, 0, 1, 0, 0, 0, 0, 0, 0, 1, 0, 0, 0, 1, 0, 0, 0, 0, 0, 0, 0, 0, 0, 0, 0, 0, 1, 0, 0, 0, 0, 1, 0, 0, 0, 0, 0, 0, 0, 0, 0, 0, 1, 0, 1, 0, 0, 1, 0, 0, 0, 0, 0, 0, 0, 0, 1, 0, 0, 0, 0, 0, 0, 0, 0, 0, 0, 0, 0, 0, 0, 0, 0, 0, 0, 0, 1, 0, 0, 0, 1, 0, 0, 0, 0, 0, 1, 0, 0, 0, 0, 0, 0, 0, 0, 0, 0, 0, 0, 0, 0, 0, 0, 0, 0, 0, 0, 1, 1, 0, 0, 0, 0, 1, 0, 0, 0, 0, 1, 0, 0, 1, 0, 0, 0, 0, 0, 0, 1, 0, 0, 0, 0, 0, 0, 0, 0, 0, 0, 0, 1, 0, 0, 0, 0, 0, 0, 0, 0, 0, 0, 0, 0, 0, 0, 0, 0, 0, 0, 0, 0, 0, 1, 0, 0, 0, 0, 0, 0, 0, 0, 0, 1, 0, 0, 0, 0, 0, 0, 0, 0, 0, 0, 0, 0, 0, 0, 0, 0, 0, 0, 0, 0, 0, 1, 0, 0, 0, 0, 0, 0, 0, 0, 0, 0, 0, 0, 0, 1, 0, 0, 0, 0, 0, 0, 0, 1, 0, 1, 0, 0, 0, 0, 0, 0, 0], 'tour_cost': 413453.8675583425, 'packing_plan_cost': 32224, 'rank': 1, 'crowding_distance': inf}),\n",
       " struct({'tour': [110, 33, 152, 241, 156, 136, 253, 118, 169, 144, 21, 267, 159, 203, 88, 238, 112, 4, 143, 224, 70, 37, 258, 273, 97, 18, 190, 188, 135, 252, 76, 204, 182, 7, 54, 209, 95, 66, 137, 262, 116, 127, 5, 247, 139, 134, 207, 221, 34, 200, 254, 45, 184, 133, 94, 174, 126, 47, 46, 125, 170, 168, 193, 265, 81, 26, 201, 175, 249, 71, 167, 73, 153, 226, 210, 28, 74, 1, 227, 77, 279, 102, 229, 10, 48, 274, 40, 215, 60, 236, 260, 243, 187, 105, 87, 240, 17, 166, 183, 132, 20, 64, 49, 123, 171, 29, 141, 52, 2, 202, 172, 111, 275, 244, 82, 92, 8, 117, 72, 57, 30, 62, 228, 140, 44, 246, 119, 211, 107, 163, 11, 43, 222, 180, 145, 147, 255, 122, 151, 108, 16, 36, 19, 186, 165, 130, 85, 191, 261, 256, 251, 12, 150, 38, 278, 109, 98, 131, 164, 272, 216, 257, 234, 146, 218, 223, 268, 103, 83, 106, 232, 177, 31, 185, 15, 214, 120, 138, 96, 162, 263, 242, 161, 225, 6, 84, 205, 270, 79, 23, 179, 13, 198, 69, 213, 230, 154, 199, 217, 99, 113, 178, 266, 121, 24, 149, 189, 181, 237, 91, 250, 27, 148, 233, 195, 239, 3, 63, 86, 206, 173, 192, 114, 129, 197, 124, 157, 158, 55, 248, 50, 75, 101, 56, 32, 78, 104, 142, 51, 264, 0, 9, 65, 39, 235, 25, 176, 14, 68, 41, 220, 115, 277, 160, 219, 53, 259, 196, 212, 42, 80, 155, 58, 22, 93, 61, 89, 90, 35, 269, 100, 231, 271, 59, 276, 67, 208, 128, 194, 245], 'packing_plan': [0, 0, 0, 0, 0, 0, 0, 0, 0, 0, 0, 1, 0, 0, 0, 0, 0, 0, 0, 0, 0, 0, 0, 1, 0, 0, 0, 0, 0, 0, 0, 1, 0, 0, 0, 0, 0, 0, 0, 0, 0, 0, 0, 0, 0, 0, 0, 0, 0, 0, 0, 0, 0, 0, 0, 0, 0, 0, 0, 0, 0, 1, 0, 0, 0, 0, 0, 0, 0, 0, 0, 0, 0, 0, 0, 0, 0, 1, 1, 0, 0, 0, 1, 0, 0, 0, 1, 0, 0, 0, 1, 0, 0, 0, 0, 0, 1, 0, 0, 0, 0, 0, 0, 0, 0, 0, 0, 0, 0, 0, 0, 0, 0, 0, 0, 0, 0, 0, 0, 0, 0, 0, 0, 0, 0, 0, 0, 0, 0, 0, 0, 1, 0, 0, 0, 1, 0, 0, 0, 0, 0, 0, 0, 0, 0, 0, 0, 0, 0, 0, 0, 0, 0, 0, 0, 0, 0, 0, 1, 0, 0, 0, 0, 0, 0, 0, 0, 0, 0, 0, 0, 0, 0, 1, 0, 0, 0, 0, 0, 0, 0, 0, 0, 0, 0, 1, 0, 0, 0, 0, 0, 0, 0, 0, 0, 0, 0, 0, 1, 0, 0, 0, 0, 0, 0, 1, 0, 0, 0, 0, 0, 0, 0, 0, 0, 0, 0, 0, 0, 0, 0, 0, 0, 0, 0, 0, 0, 0, 0, 1, 1, 0, 0, 0, 0, 0, 0, 0, 0, 0, 0, 0, 0, 0, 0, 0, 0, 0, 0, 0, 0, 0, 0, 0, 0, 0, 0, 0, 0, 0, 0, 0, 0, 0, 0, 0, 0, 0, 1, 0, 0, 0, 0, 0, 0, 1, 0, 0, 1], 'tour_cost': 386066.1334813012, 'packing_plan_cost': 29195, 'rank': 3, 'crowding_distance': 0.9047660470461419}),\n",
       " struct({'tour': [120, 32, 159, 160, 113, 101, 103, 45, 144, 270, 30, 17, 165, 38, 102, 253, 256, 41, 249, 122, 157, 161, 275, 239, 67, 162, 128, 46, 63, 52, 240, 177, 232, 218, 266, 81, 20, 269, 27, 0, 22, 264, 72, 172, 143, 219, 95, 203, 252, 220, 98, 241, 140, 15, 205, 175, 97, 110, 164, 135, 194, 259, 176, 5, 168, 146, 279, 174, 147, 263, 238, 139, 185, 149, 207, 217, 224, 260, 47, 108, 69, 29, 171, 247, 201, 56, 107, 92, 62, 133, 39, 25, 211, 277, 24, 53, 105, 261, 148, 169, 34, 119, 214, 89, 2, 213, 215, 206, 180, 100, 152, 268, 234, 195, 216, 83, 274, 75, 200, 222, 137, 145, 248, 87, 181, 225, 70, 230, 153, 1, 115, 151, 276, 26, 265, 196, 114, 74, 82, 167, 73, 44, 28, 155, 58, 209, 50, 154, 223, 229, 184, 43, 71, 125, 23, 273, 156, 255, 96, 244, 210, 9, 191, 104, 138, 278, 66, 4, 202, 118, 93, 221, 51, 91, 187, 190, 80, 111, 257, 79, 233, 188, 170, 235, 121, 19, 243, 78, 16, 267, 186, 250, 258, 197, 77, 236, 33, 199, 134, 13, 226, 117, 112, 6, 254, 150, 42, 183, 237, 212, 94, 208, 126, 251, 228, 48, 123, 271, 179, 59, 136, 60, 246, 54, 163, 3, 127, 11, 84, 142, 36, 68, 49, 173, 262, 166, 61, 64, 57, 131, 132, 245, 40, 55, 158, 198, 12, 242, 10, 231, 35, 129, 21, 192, 65, 193, 178, 106, 86, 8, 88, 272, 7, 76, 182, 141, 109, 90, 189, 99, 37, 116, 18, 14, 130, 227, 31, 124, 85, 204], 'packing_plan': [1, 0, 0, 0, 0, 1, 1, 1, 0, 0, 0, 0, 0, 0, 0, 0, 1, 0, 0, 1, 0, 0, 0, 0, 0, 0, 1, 0, 0, 0, 1, 0, 0, 0, 1, 0, 1, 0, 0, 0, 0, 0, 0, 0, 0, 0, 0, 0, 0, 0, 0, 0, 0, 0, 0, 0, 0, 1, 0, 0, 1, 0, 0, 1, 0, 0, 0, 0, 0, 0, 0, 0, 0, 1, 0, 0, 0, 0, 0, 0, 0, 0, 0, 0, 0, 0, 0, 0, 0, 0, 0, 0, 0, 0, 1, 0, 1, 0, 1, 0, 0, 0, 0, 0, 1, 0, 0, 0, 0, 0, 0, 0, 0, 0, 0, 0, 0, 0, 0, 0, 0, 0, 0, 0, 0, 0, 0, 0, 0, 0, 0, 0, 0, 0, 1, 0, 0, 0, 0, 0, 0, 0, 0, 0, 0, 0, 0, 0, 0, 0, 0, 0, 0, 0, 0, 0, 0, 1, 0, 0, 0, 0, 0, 0, 0, 0, 0, 0, 0, 0, 0, 0, 0, 0, 0, 0, 0, 0, 0, 0, 0, 0, 0, 0, 0, 0, 0, 0, 0, 0, 0, 0, 1, 0, 0, 0, 0, 0, 0, 0, 0, 0, 0, 0, 0, 0, 0, 0, 0, 0, 0, 0, 0, 0, 0, 0, 0, 0, 0, 0, 0, 0, 0, 0, 0, 0, 0, 0, 1, 0, 0, 0, 0, 0, 0, 0, 0, 1, 0, 0, 0, 0, 0, 0, 1, 0, 0, 0, 0, 0, 0, 0, 0, 0, 0, 1, 0, 0, 0, 0, 0, 0, 0, 0, 0, 0, 0, 0, 0, 0, 0, 0, 0, 0, 0, 0, 0, 0, 0], 'tour_cost': 344880.2687473269, 'packing_plan_cost': 30740, 'rank': 1, 'crowding_distance': 2.0}),\n",
       " struct({'tour': [223, 24, 26, 10, 249, 27, 276, 269, 62, 242, 128, 9, 46, 39, 216, 49, 118, 51, 80, 4, 35, 116, 91, 100, 171, 63, 192, 229, 25, 92, 34, 71, 110, 19, 69, 111, 96, 162, 262, 163, 199, 81, 77, 275, 141, 16, 265, 168, 182, 98, 139, 83, 261, 227, 213, 247, 225, 82, 41, 129, 101, 201, 106, 8, 165, 97, 150, 237, 179, 195, 60, 197, 258, 124, 250, 160, 23, 68, 38, 22, 208, 260, 61, 88, 3, 84, 119, 126, 56, 234, 222, 202, 255, 204, 50, 200, 127, 183, 175, 30, 2, 53, 104, 198, 154, 174, 1, 108, 142, 169, 135, 5, 140, 232, 233, 59, 93, 17, 107, 138, 158, 114, 42, 211, 74, 214, 239, 254, 228, 123, 52, 21, 14, 218, 184, 120, 273, 205, 66, 152, 112, 230, 0, 207, 32, 187, 133, 156, 151, 29, 278, 181, 136, 12, 28, 209, 18, 132, 173, 189, 274, 36, 257, 33, 212, 65, 277, 37, 7, 117, 86, 243, 220, 267, 40, 48, 122, 31, 43, 177, 70, 219, 231, 272, 245, 248, 194, 193, 131, 79, 145, 217, 268, 144, 55, 103, 279, 252, 186, 170, 253, 270, 178, 115, 64, 149, 13, 73, 153, 241, 85, 203, 238, 47, 121, 226, 72, 210, 271, 251, 15, 172, 89, 259, 215, 244, 263, 235, 196, 134, 167, 180, 161, 78, 54, 95, 90, 148, 159, 143, 113, 45, 11, 76, 190, 105, 137, 75, 185, 44, 236, 87, 109, 188, 6, 206, 164, 147, 102, 191, 130, 99, 155, 67, 246, 57, 146, 264, 256, 240, 221, 176, 94, 157, 125, 266, 224, 166, 58, 20], 'packing_plan': [1, 0, 0, 0, 0, 0, 0, 0, 0, 0, 0, 0, 1, 0, 0, 0, 0, 0, 0, 0, 0, 0, 0, 0, 0, 0, 0, 0, 0, 0, 0, 1, 0, 0, 0, 0, 0, 0, 0, 0, 0, 0, 0, 0, 0, 0, 0, 0, 0, 0, 0, 0, 0, 0, 0, 0, 0, 0, 0, 0, 0, 0, 0, 0, 0, 0, 0, 0, 0, 0, 0, 0, 0, 0, 0, 0, 0, 0, 0, 1, 0, 1, 0, 0, 0, 1, 0, 0, 0, 0, 0, 0, 0, 1, 0, 0, 0, 0, 0, 0, 0, 0, 0, 0, 0, 0, 0, 0, 0, 0, 0, 0, 0, 0, 0, 1, 0, 0, 0, 0, 0, 0, 0, 0, 0, 0, 0, 1, 0, 0, 0, 0, 0, 0, 1, 0, 0, 0, 1, 0, 0, 0, 0, 0, 0, 0, 0, 0, 0, 0, 0, 0, 0, 0, 0, 0, 0, 0, 0, 0, 0, 0, 0, 0, 0, 0, 0, 0, 0, 0, 0, 0, 0, 0, 0, 0, 0, 0, 0, 0, 1, 0, 1, 0, 0, 0, 1, 0, 0, 0, 1, 0, 0, 0, 0, 1, 0, 0, 0, 0, 0, 1, 0, 0, 0, 0, 0, 0, 0, 0, 0, 0, 0, 1, 1, 1, 0, 0, 0, 0, 0, 1, 0, 0, 0, 0, 0, 0, 0, 0, 0, 0, 0, 0, 0, 0, 0, 0, 0, 0, 0, 0, 0, 0, 0, 0, 0, 0, 0, 0, 0, 0, 0, 0, 0, 0, 0, 1, 0, 1, 0, 0, 0, 0, 0, 0, 0, 0, 0, 0, 0, 0, 0, 0, 0, 0, 0, 0, 0], 'tour_cost': 426790.59040622035, 'packing_plan_cost': 30454, 'rank': 3, 'crowding_distance': 0.6742535102137835}),\n",
       " struct({'tour': [15, 130, 69, 72, 210, 104, 196, 239, 229, 4, 246, 112, 214, 277, 132, 237, 3, 249, 80, 273, 267, 50, 177, 225, 195, 128, 232, 42, 53, 91, 37, 176, 98, 82, 137, 163, 194, 159, 105, 203, 44, 199, 259, 127, 275, 248, 260, 164, 256, 226, 59, 99, 166, 107, 30, 16, 149, 271, 165, 170, 66, 122, 274, 58, 89, 75, 84, 185, 258, 228, 179, 101, 40, 93, 141, 257, 63, 144, 140, 224, 95, 87, 78, 109, 212, 61, 5, 200, 208, 241, 253, 227, 14, 74, 111, 235, 236, 172, 270, 191, 123, 276, 186, 216, 178, 202, 234, 189, 115, 52, 134, 102, 254, 125, 135, 251, 88, 264, 181, 34, 211, 65, 100, 6, 108, 278, 22, 71, 2, 143, 24, 106, 47, 68, 56, 55, 215, 147, 11, 142, 265, 184, 76, 209, 138, 117, 19, 156, 36, 25, 32, 269, 255, 183, 86, 26, 262, 7, 162, 94, 41, 155, 220, 18, 119, 70, 79, 146, 48, 151, 197, 217, 67, 120, 160, 158, 148, 174, 145, 187, 83, 35, 81, 171, 205, 252, 77, 85, 21, 198, 213, 204, 223, 1, 238, 103, 247, 97, 169, 96, 116, 268, 28, 206, 242, 168, 207, 10, 38, 136, 279, 219, 12, 90, 153, 43, 17, 192, 193, 222, 23, 230, 129, 45, 152, 64, 31, 263, 33, 261, 46, 13, 180, 8, 139, 157, 57, 233, 175, 167, 188, 113, 114, 54, 154, 245, 190, 231, 39, 133, 124, 60, 9, 221, 173, 49, 161, 240, 218, 62, 250, 0, 118, 150, 92, 126, 131, 121, 201, 244, 29, 73, 182, 266, 27, 20, 272, 51, 110, 243], 'packing_plan': [1, 0, 0, 1, 0, 0, 0, 1, 0, 1, 0, 0, 0, 0, 0, 0, 0, 0, 0, 0, 0, 0, 0, 0, 0, 0, 0, 0, 0, 0, 0, 0, 0, 1, 0, 0, 0, 1, 0, 0, 0, 0, 0, 0, 0, 0, 0, 0, 0, 0, 0, 1, 0, 1, 0, 0, 0, 0, 0, 0, 0, 0, 0, 1, 0, 0, 0, 0, 0, 0, 0, 0, 0, 0, 0, 0, 0, 0, 0, 0, 0, 0, 0, 0, 0, 0, 0, 0, 0, 0, 0, 0, 0, 0, 0, 0, 0, 0, 0, 0, 0, 0, 0, 0, 0, 0, 0, 0, 0, 0, 1, 0, 0, 0, 0, 0, 0, 0, 0, 0, 0, 0, 0, 0, 0, 0, 0, 0, 0, 0, 0, 0, 0, 0, 0, 0, 0, 0, 0, 0, 0, 0, 0, 0, 0, 0, 0, 0, 1, 0, 0, 0, 0, 1, 0, 0, 0, 0, 0, 0, 0, 0, 0, 0, 0, 0, 0, 0, 0, 0, 0, 0, 0, 0, 0, 0, 1, 0, 0, 0, 0, 0, 0, 0, 0, 0, 0, 1, 0, 0, 0, 0, 1, 0, 0, 0, 0, 0, 0, 0, 0, 0, 0, 0, 0, 1, 0, 0, 0, 0, 0, 0, 1, 0, 0, 0, 0, 0, 0, 0, 0, 0, 0, 0, 1, 0, 0, 0, 0, 1, 0, 0, 0, 0, 0, 0, 0, 0, 0, 0, 0, 1, 0, 0, 0, 0, 0, 0, 0, 0, 0, 0, 0, 0, 0, 0, 0, 0, 0, 0, 0, 0, 0, 0, 0, 0, 0, 0, 0, 1, 0, 0, 0, 0, 0, 0, 0, 0, 0], 'tour_cost': 453330.246798565, 'packing_plan_cost': 30255, 'rank': 5, 'crowding_distance': 0.6421138002451345}),\n",
       " struct({'tour': [147, 10, 136, 142, 211, 48, 275, 154, 249, 239, 132, 55, 218, 198, 102, 207, 209, 97, 246, 49, 251, 144, 272, 84, 115, 4, 11, 143, 269, 270, 267, 146, 124, 2, 155, 92, 193, 104, 47, 99, 24, 256, 69, 21, 14, 190, 52, 121, 258, 238, 237, 162, 187, 68, 8, 140, 261, 88, 178, 233, 158, 266, 108, 1, 156, 54, 278, 137, 153, 220, 180, 125, 149, 277, 17, 235, 53, 232, 183, 208, 250, 259, 252, 242, 203, 171, 66, 83, 229, 28, 36, 263, 56, 85, 42, 34, 41, 128, 160, 164, 16, 73, 5, 227, 262, 186, 62, 12, 27, 169, 129, 18, 96, 221, 139, 15, 236, 110, 150, 204, 91, 175, 64, 274, 6, 63, 215, 216, 19, 118, 248, 151, 191, 212, 106, 135, 103, 257, 93, 67, 145, 112, 46, 7, 245, 179, 231, 241, 200, 81, 70, 276, 101, 230, 201, 90, 165, 254, 189, 72, 76, 255, 279, 122, 161, 74, 26, 202, 77, 141, 111, 29, 176, 213, 172, 75, 123, 188, 117, 50, 23, 214, 25, 20, 173, 30, 9, 167, 260, 87, 253, 57, 38, 59, 31, 271, 244, 205, 268, 192, 185, 195, 243, 264, 138, 170, 114, 219, 0, 79, 65, 197, 98, 127, 51, 222, 33, 22, 105, 71, 95, 265, 130, 134, 177, 210, 194, 225, 35, 61, 119, 240, 100, 133, 234, 107, 43, 39, 13, 226, 159, 157, 126, 247, 131, 82, 89, 168, 116, 223, 80, 166, 44, 228, 182, 224, 109, 181, 217, 206, 199, 60, 148, 45, 78, 86, 40, 94, 184, 3, 174, 152, 113, 120, 163, 32, 196, 58, 273, 37], 'packing_plan': [0, 0, 0, 0, 0, 0, 0, 0, 0, 0, 0, 0, 0, 0, 0, 0, 0, 0, 1, 0, 1, 0, 0, 0, 1, 0, 0, 0, 0, 1, 1, 0, 0, 0, 0, 0, 0, 0, 0, 0, 0, 0, 0, 0, 0, 1, 0, 0, 0, 1, 0, 0, 0, 0, 0, 0, 0, 0, 0, 0, 0, 0, 0, 0, 0, 0, 0, 0, 1, 0, 0, 0, 0, 0, 0, 1, 0, 0, 1, 0, 0, 0, 0, 0, 0, 0, 0, 0, 0, 0, 0, 0, 0, 0, 0, 1, 0, 0, 0, 0, 1, 0, 0, 0, 0, 0, 0, 0, 0, 0, 0, 0, 0, 0, 0, 0, 0, 0, 0, 0, 0, 0, 0, 1, 0, 0, 0, 0, 0, 0, 0, 0, 0, 0, 0, 0, 0, 0, 1, 0, 0, 0, 0, 0, 0, 0, 0, 0, 0, 0, 0, 0, 0, 0, 0, 0, 0, 0, 0, 0, 0, 0, 0, 0, 0, 1, 0, 0, 0, 0, 0, 0, 1, 0, 0, 0, 0, 0, 0, 0, 1, 1, 0, 0, 0, 0, 0, 0, 0, 0, 0, 0, 0, 0, 0, 0, 0, 0, 0, 0, 0, 0, 0, 0, 0, 1, 0, 0, 1, 0, 1, 0, 0, 0, 0, 0, 0, 0, 0, 0, 0, 0, 1, 0, 0, 0, 1, 0, 0, 0, 0, 0, 0, 0, 0, 0, 0, 0, 1, 0, 0, 0, 0, 0, 0, 0, 0, 0, 0, 0, 1, 1, 0, 0, 0, 0, 0, 1, 0, 0, 0, 0, 0, 1, 0, 0, 0, 0, 0, 0, 0, 0, 0, 1, 0, 0, 0, 0, 0], 'tour_cost': 523027.5551568656, 'packing_plan_cost': 30494, 'rank': 3, 'crowding_distance': 0.7068577974574064}),\n",
       " struct({'tour': [214, 115, 139, 151, 45, 105, 23, 36, 260, 77, 128, 130, 218, 266, 94, 270, 208, 269, 168, 271, 201, 50, 183, 62, 125, 120, 46, 211, 237, 234, 69, 102, 60, 80, 98, 101, 164, 267, 213, 53, 73, 189, 181, 196, 215, 49, 9, 99, 202, 188, 16, 268, 259, 219, 121, 190, 193, 56, 243, 210, 126, 4, 112, 161, 117, 28, 233, 187, 1, 184, 123, 33, 35, 173, 64, 204, 7, 108, 174, 253, 67, 272, 59, 135, 14, 226, 85, 222, 236, 0, 136, 88, 2, 206, 68, 106, 177, 86, 30, 146, 250, 78, 165, 107, 232, 185, 240, 231, 55, 75, 90, 71, 148, 238, 167, 158, 15, 42, 76, 129, 247, 31, 191, 116, 124, 22, 241, 131, 119, 19, 156, 48, 142, 5, 81, 220, 178, 207, 194, 89, 209, 273, 216, 179, 82, 111, 95, 229, 169, 248, 217, 192, 132, 114, 100, 275, 163, 230, 265, 52, 29, 134, 38, 63, 34, 79, 74, 239, 171, 176, 8, 133, 227, 225, 180, 109, 186, 66, 93, 235, 182, 138, 150, 278, 103, 152, 118, 96, 61, 70, 144, 279, 10, 84, 58, 203, 172, 20, 242, 143, 25, 51, 3, 154, 145, 17, 249, 257, 254, 262, 113, 40, 13, 198, 162, 199, 274, 246, 137, 39, 97, 72, 127, 200, 256, 153, 170, 54, 175, 21, 195, 197, 83, 27, 221, 160, 261, 87, 141, 110, 91, 6, 155, 252, 24, 212, 104, 37, 92, 244, 122, 223, 57, 205, 157, 255, 276, 65, 263, 251, 11, 228, 159, 44, 32, 166, 47, 264, 12, 149, 26, 140, 277, 245, 43, 224, 258, 147, 18, 41], 'packing_plan': [0, 0, 0, 0, 1, 0, 0, 0, 0, 0, 0, 0, 0, 0, 0, 0, 0, 0, 0, 0, 0, 0, 1, 0, 0, 0, 1, 0, 0, 0, 0, 0, 0, 1, 0, 0, 0, 0, 0, 0, 0, 0, 0, 0, 1, 0, 0, 0, 1, 0, 0, 1, 1, 0, 0, 1, 0, 0, 0, 0, 0, 0, 0, 1, 0, 0, 0, 0, 1, 0, 0, 0, 1, 0, 0, 0, 0, 0, 0, 0, 0, 0, 0, 0, 0, 0, 0, 0, 0, 0, 0, 0, 0, 0, 0, 0, 0, 1, 0, 0, 1, 0, 0, 0, 0, 1, 0, 0, 0, 0, 0, 0, 1, 1, 0, 0, 0, 0, 1, 1, 0, 0, 1, 0, 0, 1, 1, 0, 0, 0, 0, 0, 0, 0, 0, 0, 0, 0, 0, 0, 0, 0, 0, 0, 0, 0, 0, 0, 0, 0, 1, 0, 0, 0, 0, 0, 0, 1, 0, 0, 0, 0, 0, 0, 0, 0, 1, 0, 0, 0, 0, 0, 0, 1, 0, 0, 0, 0, 0, 0, 0, 0, 0, 0, 0, 0, 0, 0, 1, 0, 0, 0, 0, 0, 0, 0, 0, 1, 0, 0, 0, 0, 0, 0, 0, 0, 0, 0, 0, 0, 0, 0, 0, 0, 0, 0, 0, 0, 0, 0, 0, 0, 0, 0, 0, 0, 0, 0, 0, 0, 0, 0, 0, 0, 0, 0, 0, 0, 0, 0, 0, 0, 0, 0, 0, 0, 0, 0, 1, 0, 0, 0, 0, 1, 0, 1, 0, 0, 0, 0, 0, 0, 0, 0, 0, 0, 0, 0, 1, 0, 0, 0, 0, 0, 0, 0, 0, 0, 0], 'tour_cost': 714633.2845666861, 'packing_plan_cost': 31196, 'rank': 2, 'crowding_distance': 0.4411174728117624}),\n",
       " struct({'tour': [262, 202, 135, 56, 6, 61, 185, 30, 68, 239, 47, 164, 209, 198, 130, 42, 163, 252, 279, 182, 208, 235, 153, 128, 22, 221, 81, 86, 257, 268, 155, 199, 44, 136, 66, 111, 146, 156, 278, 14, 184, 271, 211, 1, 172, 118, 166, 83, 236, 175, 75, 82, 109, 129, 222, 100, 173, 264, 48, 248, 108, 117, 15, 39, 33, 35, 228, 125, 63, 18, 62, 251, 0, 19, 38, 40, 148, 99, 69, 88, 231, 177, 204, 145, 192, 273, 110, 105, 256, 206, 49, 161, 269, 216, 223, 87, 179, 162, 31, 13, 114, 170, 218, 91, 4, 189, 107, 112, 77, 169, 233, 147, 94, 12, 32, 106, 157, 168, 5, 53, 104, 201, 126, 52, 194, 195, 247, 187, 121, 96, 131, 234, 220, 241, 65, 174, 138, 210, 151, 142, 23, 93, 57, 116, 200, 249, 123, 254, 143, 276, 29, 17, 214, 71, 50, 258, 20, 181, 159, 24, 55, 64, 260, 78, 160, 207, 80, 196, 72, 133, 95, 230, 267, 37, 186, 79, 226, 154, 8, 272, 232, 16, 152, 238, 2, 224, 261, 144, 25, 275, 7, 59, 225, 165, 98, 41, 263, 140, 11, 26, 255, 113, 90, 244, 215, 246, 266, 102, 73, 149, 67, 171, 58, 122, 180, 28, 183, 132, 141, 259, 76, 10, 115, 197, 34, 103, 240, 36, 89, 227, 188, 176, 101, 27, 119, 167, 265, 245, 158, 54, 253, 277, 212, 205, 74, 250, 120, 217, 85, 70, 43, 3, 213, 193, 127, 21, 92, 274, 242, 237, 124, 191, 51, 219, 9, 137, 84, 45, 139, 229, 46, 190, 150, 60, 134, 243, 203, 270, 178, 97], 'packing_plan': [0, 0, 0, 0, 1, 0, 0, 0, 0, 1, 0, 0, 0, 0, 0, 0, 0, 0, 0, 0, 0, 1, 0, 0, 0, 0, 1, 0, 0, 0, 0, 0, 0, 0, 0, 0, 0, 0, 0, 0, 0, 0, 0, 0, 0, 0, 1, 0, 0, 0, 0, 0, 0, 0, 0, 1, 0, 0, 0, 0, 0, 0, 0, 1, 0, 0, 0, 1, 0, 0, 0, 0, 0, 0, 0, 0, 1, 0, 0, 1, 0, 0, 0, 0, 1, 0, 0, 0, 0, 0, 0, 0, 0, 0, 0, 0, 0, 0, 0, 0, 0, 0, 0, 0, 0, 0, 1, 0, 0, 0, 0, 0, 0, 0, 0, 0, 0, 0, 0, 0, 1, 0, 0, 0, 0, 0, 0, 0, 0, 0, 0, 0, 0, 0, 0, 0, 0, 0, 0, 0, 0, 0, 1, 0, 0, 0, 1, 0, 0, 0, 0, 0, 0, 0, 0, 0, 0, 0, 0, 0, 0, 1, 0, 0, 0, 0, 0, 0, 0, 0, 0, 1, 0, 0, 0, 0, 0, 0, 0, 0, 0, 0, 0, 0, 0, 0, 0, 0, 0, 0, 0, 1, 0, 0, 0, 0, 0, 0, 1, 0, 0, 0, 0, 1, 0, 0, 0, 0, 0, 0, 0, 0, 0, 0, 0, 0, 0, 0, 0, 0, 0, 0, 0, 0, 0, 0, 1, 0, 0, 0, 0, 0, 0, 0, 0, 0, 1, 0, 0, 0, 0, 0, 0, 0, 0, 0, 0, 0, 0, 0, 0, 0, 0, 1, 1, 0, 0, 0, 0, 0, 0, 0, 0, 1, 0, 0, 0, 0, 0, 0, 0, 1, 0, 0, 0, 1, 0, 0, 0], 'tour_cost': 597960.3238642938, 'packing_plan_cost': 30179, 'rank': 7, 'crowding_distance': inf}),\n",
       " struct({'tour': [99, 153, 148, 50, 172, 79, 117, 264, 17, 201, 29, 143, 247, 100, 41, 88, 114, 101, 151, 87, 216, 214, 162, 146, 180, 226, 228, 218, 234, 89, 112, 122, 130, 46, 108, 213, 265, 70, 63, 187, 268, 109, 9, 67, 240, 0, 77, 279, 248, 124, 13, 98, 52, 81, 35, 170, 261, 165, 83, 104, 3, 267, 167, 242, 126, 23, 217, 93, 16, 183, 10, 28, 25, 2, 20, 91, 196, 32, 161, 97, 27, 30, 202, 54, 275, 150, 175, 82, 205, 106, 174, 229, 129, 250, 138, 55, 259, 276, 171, 64, 152, 105, 111, 215, 160, 53, 144, 236, 206, 95, 60, 8, 62, 15, 155, 58, 65, 188, 169, 245, 5, 18, 47, 198, 278, 158, 182, 103, 179, 192, 57, 49, 141, 227, 118, 163, 156, 246, 177, 69, 159, 40, 116, 85, 251, 222, 262, 164, 110, 66, 37, 220, 176, 254, 120, 235, 84, 277, 269, 34, 238, 223, 7, 208, 212, 186, 38, 4, 76, 157, 42, 71, 207, 168, 185, 225, 243, 128, 237, 90, 94, 271, 166, 211, 224, 209, 178, 11, 272, 74, 200, 173, 142, 154, 233, 274, 39, 149, 80, 273, 72, 197, 189, 102, 1, 184, 231, 119, 147, 12, 31, 125, 239, 193, 92, 263, 260, 140, 191, 121, 127, 19, 252, 204, 59, 44, 135, 68, 113, 244, 14, 194, 33, 73, 256, 51, 24, 22, 96, 56, 249, 131, 36, 86, 78, 257, 190, 241, 145, 199, 266, 219, 139, 43, 255, 45, 136, 132, 195, 210, 48, 26, 270, 258, 61, 6, 123, 203, 232, 133, 115, 21, 137, 134, 75, 230, 221, 181, 107, 253], 'packing_plan': [0, 0, 0, 0, 0, 0, 1, 0, 0, 0, 0, 0, 0, 0, 0, 1, 0, 0, 0, 0, 0, 0, 0, 0, 0, 0, 0, 0, 0, 0, 0, 0, 0, 0, 0, 1, 0, 0, 0, 0, 0, 0, 0, 0, 1, 0, 0, 0, 0, 0, 0, 0, 0, 0, 0, 0, 0, 0, 0, 0, 0, 0, 0, 0, 0, 0, 0, 0, 0, 0, 0, 0, 0, 0, 0, 0, 0, 0, 0, 0, 0, 0, 0, 0, 0, 0, 0, 0, 0, 0, 0, 0, 0, 0, 1, 0, 0, 0, 0, 0, 0, 0, 0, 0, 0, 0, 0, 0, 0, 0, 0, 0, 0, 0, 0, 0, 0, 0, 0, 0, 0, 0, 0, 0, 0, 0, 0, 0, 0, 0, 0, 0, 0, 0, 0, 1, 0, 0, 0, 0, 0, 0, 0, 0, 0, 0, 0, 1, 0, 0, 0, 0, 0, 1, 0, 0, 0, 0, 0, 0, 0, 0, 0, 0, 0, 0, 0, 0, 0, 0, 0, 0, 1, 0, 0, 0, 0, 1, 0, 0, 0, 0, 1, 0, 0, 0, 0, 0, 0, 0, 0, 0, 0, 0, 0, 0, 0, 0, 0, 0, 0, 0, 0, 0, 0, 0, 0, 0, 0, 0, 0, 0, 0, 0, 0, 0, 0, 1, 1, 0, 0, 0, 0, 0, 0, 0, 0, 0, 0, 0, 0, 0, 1, 0, 0, 0, 0, 0, 0, 0, 0, 0, 0, 0, 0, 0, 1, 0, 0, 0, 0, 1, 0, 0, 1, 0, 0, 0, 0, 0, 0, 1, 0, 0, 0, 0, 1, 1, 0, 0, 0, 0, 0, 0, 0, 0, 0, 0, 0], 'tour_cost': 481068.23088670697, 'packing_plan_cost': 29276, 'rank': 8, 'crowding_distance': inf}),\n",
       " struct({'tour': [44, 75, 246, 14, 76, 93, 255, 148, 111, 157, 74, 178, 165, 131, 236, 186, 276, 3, 86, 183, 38, 50, 279, 112, 130, 9, 121, 220, 256, 48, 228, 10, 159, 176, 57, 249, 272, 71, 115, 204, 250, 198, 56, 119, 46, 182, 263, 11, 58, 90, 27, 66, 16, 278, 91, 52, 142, 185, 120, 225, 222, 35, 219, 252, 241, 37, 188, 29, 240, 210, 259, 32, 87, 5, 227, 248, 144, 79, 104, 264, 163, 116, 143, 80, 84, 271, 172, 216, 158, 31, 177, 156, 117, 217, 243, 39, 155, 20, 162, 233, 45, 23, 232, 205, 118, 262, 161, 83, 273, 68, 218, 235, 127, 244, 61, 266, 207, 197, 214, 141, 145, 17, 251, 103, 238, 24, 268, 107, 81, 21, 63, 258, 77, 136, 138, 201, 206, 175, 109, 4, 41, 2, 70, 128, 43, 184, 221, 196, 237, 113, 62, 69, 269, 208, 95, 137, 122, 13, 25, 275, 114, 73, 230, 194, 180, 126, 199, 102, 88, 213, 168, 187, 152, 153, 139, 257, 140, 200, 42, 110, 209, 82, 18, 167, 193, 254, 226, 261, 0, 106, 30, 89, 98, 92, 170, 6, 65, 267, 190, 202, 270, 247, 125, 129, 146, 26, 151, 28, 231, 12, 101, 94, 169, 242, 191, 49, 51, 85, 224, 229, 96, 260, 277, 40, 67, 166, 53, 1, 8, 133, 54, 223, 108, 134, 239, 192, 59, 245, 15, 253, 171, 55, 34, 174, 154, 36, 72, 211, 203, 274, 164, 147, 181, 234, 135, 64, 22, 100, 149, 195, 132, 47, 173, 97, 124, 99, 60, 160, 215, 265, 7, 212, 105, 78, 150, 123, 189, 179, 19, 33], 'packing_plan': [0, 1, 0, 0, 0, 0, 0, 0, 0, 0, 0, 0, 0, 1, 0, 0, 0, 0, 0, 0, 0, 0, 0, 0, 0, 0, 0, 0, 0, 0, 0, 0, 0, 0, 0, 0, 0, 0, 0, 0, 0, 0, 0, 0, 0, 0, 0, 1, 0, 0, 0, 0, 1, 0, 0, 1, 0, 0, 1, 0, 0, 0, 0, 0, 0, 0, 0, 0, 0, 0, 0, 0, 0, 0, 0, 0, 1, 0, 0, 0, 1, 0, 0, 0, 0, 1, 0, 0, 0, 0, 0, 1, 0, 0, 0, 0, 0, 0, 0, 0, 0, 1, 0, 0, 0, 1, 0, 0, 1, 0, 0, 0, 0, 0, 0, 0, 0, 0, 0, 0, 0, 0, 0, 0, 0, 0, 0, 0, 0, 0, 0, 0, 0, 0, 0, 0, 0, 0, 0, 0, 0, 0, 1, 0, 0, 0, 0, 0, 0, 0, 1, 0, 0, 0, 0, 0, 0, 0, 0, 0, 0, 0, 0, 1, 0, 0, 0, 0, 0, 0, 0, 0, 0, 0, 0, 0, 0, 0, 0, 0, 1, 0, 0, 0, 0, 0, 0, 1, 0, 0, 0, 0, 0, 0, 0, 0, 1, 0, 0, 0, 0, 0, 0, 0, 0, 0, 0, 0, 0, 0, 1, 0, 0, 0, 0, 1, 0, 0, 0, 1, 0, 0, 0, 0, 0, 0, 0, 0, 0, 0, 0, 0, 0, 0, 0, 0, 1, 0, 0, 0, 0, 0, 0, 0, 0, 0, 0, 0, 1, 0, 0, 0, 0, 0, 0, 0, 0, 0, 0, 0, 0, 0, 1, 1, 0, 0, 0, 0, 1, 1, 0, 0, 0, 0, 0, 0, 0, 0, 0], 'tour_cost': 526862.5614612554, 'packing_plan_cost': 30781, 'rank': 3, 'crowding_distance': inf}),\n",
       " struct({'tour': [256, 224, 35, 130, 167, 85, 146, 220, 189, 190, 255, 92, 49, 15, 44, 207, 218, 186, 193, 214, 173, 20, 120, 174, 82, 203, 276, 88, 182, 50, 125, 73, 101, 278, 141, 22, 70, 106, 77, 227, 147, 260, 29, 4, 178, 187, 102, 142, 175, 237, 257, 16, 59, 45, 166, 116, 172, 199, 243, 251, 32, 151, 171, 249, 76, 17, 252, 266, 253, 118, 210, 135, 47, 21, 84, 113, 31, 254, 272, 119, 277, 60, 195, 211, 168, 75, 81, 126, 104, 177, 228, 24, 72, 202, 48, 61, 64, 140, 231, 107, 262, 114, 164, 250, 8, 241, 41, 194, 183, 95, 152, 143, 128, 26, 112, 230, 38, 184, 162, 233, 109, 42, 273, 245, 204, 80, 215, 270, 213, 27, 217, 165, 33, 63, 129, 90, 57, 127, 123, 1, 216, 105, 244, 144, 209, 279, 23, 248, 91, 66, 223, 259, 54, 236, 238, 53, 269, 36, 37, 136, 240, 148, 2, 198, 65, 161, 25, 12, 9, 94, 134, 159, 267, 138, 62, 275, 98, 169, 52, 7, 133, 234, 19, 157, 14, 154, 274, 71, 108, 99, 79, 196, 212, 264, 170, 122, 191, 180, 176, 46, 110, 67, 197, 206, 265, 69, 43, 258, 158, 100, 68, 55, 239, 271, 93, 201, 89, 200, 97, 219, 153, 163, 188, 221, 83, 74, 6, 115, 124, 205, 111, 208, 56, 222, 10, 58, 229, 181, 103, 137, 150, 5, 117, 246, 96, 192, 34, 18, 39, 156, 131, 78, 121, 86, 242, 40, 28, 155, 179, 3, 185, 13, 226, 268, 145, 235, 225, 30, 261, 247, 0, 232, 51, 132, 160, 149, 263, 87, 11, 139], 'packing_plan': [0, 1, 0, 0, 0, 0, 0, 0, 0, 0, 0, 1, 0, 1, 0, 0, 0, 0, 0, 0, 0, 0, 0, 0, 0, 0, 0, 0, 0, 0, 0, 0, 0, 0, 0, 0, 1, 1, 0, 0, 0, 0, 0, 0, 0, 0, 0, 0, 0, 0, 0, 0, 0, 0, 0, 0, 0, 0, 0, 0, 0, 0, 0, 0, 0, 0, 0, 0, 0, 0, 0, 0, 0, 0, 0, 0, 0, 0, 0, 0, 0, 0, 0, 0, 0, 0, 0, 0, 0, 0, 0, 0, 1, 0, 0, 0, 0, 0, 0, 0, 0, 0, 0, 0, 0, 0, 0, 0, 0, 0, 0, 0, 0, 0, 1, 0, 0, 0, 1, 0, 0, 0, 0, 0, 0, 0, 0, 0, 0, 0, 0, 0, 0, 0, 0, 0, 0, 0, 0, 0, 0, 0, 0, 1, 0, 0, 0, 0, 0, 0, 0, 0, 0, 0, 0, 0, 0, 0, 0, 0, 0, 0, 0, 1, 0, 0, 0, 0, 0, 0, 0, 0, 0, 0, 0, 0, 0, 0, 0, 0, 0, 0, 1, 0, 0, 1, 0, 0, 1, 0, 0, 0, 0, 0, 0, 1, 0, 0, 0, 0, 0, 0, 0, 0, 0, 0, 0, 0, 0, 0, 0, 0, 0, 0, 1, 0, 0, 0, 0, 0, 0, 1, 0, 0, 0, 0, 0, 0, 0, 1, 0, 0, 0, 1, 0, 0, 0, 0, 0, 0, 0, 1, 0, 1, 0, 1, 0, 0, 1, 0, 0, 0, 0, 0, 0, 0, 0, 0, 0, 0, 0, 0, 1, 0, 0, 0, 0, 0, 0, 0, 0, 0, 1, 0, 1, 0, 0, 0, 0], 'tour_cost': 419656.61873232445, 'packing_plan_cost': 30307, 'rank': 3, 'crowding_distance': 0.7051307551933361}),\n",
       " struct({'tour': [55, 171, 69, 226, 80, 267, 124, 123, 46, 98, 79, 154, 4, 115, 18, 155, 191, 126, 178, 74, 23, 62, 218, 36, 61, 164, 44, 12, 172, 139, 9, 212, 38, 68, 72, 205, 278, 224, 138, 279, 170, 241, 229, 269, 158, 246, 198, 215, 96, 16, 3, 145, 91, 169, 58, 144, 232, 1, 236, 34, 180, 135, 175, 89, 110, 20, 113, 5, 84, 26, 235, 270, 108, 214, 78, 53, 227, 28, 128, 276, 116, 27, 14, 182, 48, 143, 263, 105, 247, 166, 11, 259, 51, 207, 262, 87, 100, 43, 95, 85, 258, 22, 179, 231, 57, 2, 64, 0, 31, 208, 250, 142, 209, 217, 242, 33, 261, 70, 162, 159, 8, 221, 120, 83, 196, 54, 118, 160, 254, 63, 252, 77, 225, 148, 90, 188, 103, 237, 131, 67, 125, 187, 92, 176, 168, 6, 204, 93, 107, 266, 228, 223, 13, 47, 17, 257, 183, 277, 210, 37, 201, 29, 206, 30, 202, 119, 197, 265, 192, 19, 117, 248, 21, 102, 167, 146, 251, 141, 211, 272, 35, 75, 73, 234, 114, 109, 244, 59, 243, 150, 200, 129, 121, 50, 132, 49, 106, 193, 220, 165, 240, 161, 136, 222, 213, 151, 233, 45, 94, 65, 203, 163, 238, 71, 216, 127, 174, 149, 177, 134, 195, 255, 60, 76, 82, 199, 194, 122, 101, 268, 153, 42, 104, 245, 260, 56, 41, 32, 184, 173, 140, 7, 133, 256, 24, 97, 147, 99, 15, 271, 219, 249, 39, 137, 275, 111, 264, 86, 152, 239, 52, 66, 190, 10, 156, 189, 181, 274, 185, 230, 273, 130, 186, 112, 25, 88, 253, 157, 81, 40], 'packing_plan': [0, 0, 0, 0, 0, 0, 0, 0, 0, 0, 0, 0, 0, 0, 0, 0, 0, 1, 0, 0, 0, 0, 0, 0, 0, 0, 0, 0, 0, 1, 1, 0, 0, 0, 0, 0, 0, 1, 0, 0, 0, 0, 0, 0, 0, 0, 0, 0, 0, 0, 0, 0, 1, 0, 0, 0, 0, 0, 0, 0, 0, 0, 0, 0, 0, 0, 0, 0, 0, 0, 1, 1, 0, 0, 0, 0, 0, 0, 0, 1, 0, 0, 0, 0, 0, 1, 0, 0, 0, 1, 0, 0, 0, 0, 1, 0, 0, 1, 0, 0, 0, 0, 0, 0, 0, 0, 0, 0, 0, 0, 0, 0, 1, 0, 0, 0, 0, 0, 0, 0, 0, 0, 0, 0, 0, 0, 0, 0, 0, 0, 1, 0, 0, 1, 0, 1, 0, 0, 0, 0, 0, 0, 0, 0, 0, 0, 0, 0, 0, 0, 0, 0, 0, 0, 0, 0, 0, 0, 0, 0, 0, 0, 0, 0, 0, 0, 0, 0, 0, 0, 1, 0, 0, 0, 0, 0, 0, 0, 0, 0, 0, 0, 0, 0, 0, 0, 1, 0, 0, 1, 1, 0, 0, 0, 0, 0, 0, 0, 0, 0, 0, 0, 0, 0, 0, 0, 0, 0, 0, 1, 0, 0, 0, 0, 0, 0, 0, 0, 0, 0, 0, 0, 0, 0, 0, 0, 0, 1, 0, 0, 0, 0, 0, 0, 0, 0, 0, 0, 0, 0, 0, 0, 0, 0, 0, 0, 0, 0, 0, 0, 0, 0, 0, 0, 0, 0, 0, 0, 0, 0, 0, 0, 0, 0, 0, 0, 1, 0, 0, 0, 0, 0, 0, 0, 0, 0, 0, 0, 0], 'tour_cost': 656854.5475733466, 'packing_plan_cost': 30287, 'rank': 6, 'crowding_distance': inf}),\n",
       " struct({'tour': [4, 41, 79, 279, 206, 60, 181, 192, 158, 126, 264, 17, 201, 95, 52, 208, 146, 118, 81, 271, 197, 22, 84, 196, 65, 265, 278, 115, 59, 69, 67, 47, 117, 30, 153, 21, 186, 207, 226, 168, 91, 275, 141, 178, 105, 228, 57, 217, 49, 255, 101, 183, 85, 204, 152, 20, 154, 209, 3, 140, 88, 28, 55, 61, 144, 108, 43, 97, 187, 215, 170, 216, 137, 240, 44, 18, 42, 23, 99, 169, 130, 173, 120, 247, 11, 241, 0, 213, 182, 26, 267, 75, 235, 100, 109, 129, 70, 103, 167, 159, 212, 277, 58, 164, 37, 135, 188, 263, 56, 123, 190, 33, 139, 142, 106, 31, 258, 253, 273, 233, 218, 249, 256, 227, 93, 149, 122, 254, 87, 250, 50, 242, 8, 10, 82, 189, 128, 268, 48, 104, 262, 119, 162, 39, 166, 94, 224, 238, 34, 210, 276, 177, 259, 124, 71, 131, 155, 6, 202, 136, 193, 113, 2, 274, 252, 185, 147, 191, 27, 246, 157, 12, 5, 161, 148, 172, 7, 16, 110, 251, 62, 261, 230, 175, 72, 231, 179, 270, 38, 45, 222, 203, 225, 89, 74, 35, 96, 138, 32, 244, 132, 234, 248, 269, 134, 200, 257, 19, 195, 171, 266, 76, 107, 83, 236, 90, 133, 180, 80, 68, 46, 112, 245, 163, 51, 143, 160, 13, 194, 73, 66, 220, 219, 1, 232, 151, 111, 127, 223, 184, 14, 29, 53, 165, 229, 125, 25, 86, 77, 145, 176, 15, 24, 102, 272, 63, 54, 198, 239, 36, 174, 150, 237, 78, 64, 214, 114, 260, 156, 211, 205, 92, 40, 98, 121, 199, 9, 243, 116, 221], 'packing_plan': [0, 0, 0, 0, 0, 0, 0, 0, 0, 1, 0, 0, 0, 0, 0, 0, 0, 0, 0, 1, 0, 0, 0, 0, 0, 0, 0, 0, 1, 0, 0, 0, 0, 0, 0, 0, 0, 0, 0, 0, 0, 0, 0, 0, 0, 0, 0, 0, 0, 0, 0, 0, 0, 0, 0, 0, 0, 0, 0, 0, 0, 0, 1, 0, 0, 1, 0, 0, 0, 0, 0, 1, 0, 0, 0, 0, 1, 0, 0, 0, 0, 0, 0, 0, 0, 0, 0, 0, 0, 0, 0, 0, 1, 0, 0, 0, 0, 0, 0, 0, 0, 0, 1, 0, 0, 0, 0, 0, 0, 1, 0, 0, 0, 0, 0, 0, 0, 0, 1, 0, 0, 0, 0, 1, 0, 0, 0, 0, 0, 0, 0, 0, 0, 0, 0, 0, 0, 0, 0, 0, 0, 0, 0, 0, 0, 0, 0, 0, 0, 0, 0, 0, 1, 0, 0, 0, 1, 0, 1, 0, 0, 0, 0, 0, 0, 0, 0, 0, 0, 0, 0, 0, 0, 0, 1, 0, 0, 1, 0, 0, 0, 0, 0, 0, 0, 0, 0, 0, 0, 1, 0, 0, 0, 0, 0, 0, 0, 0, 0, 0, 0, 0, 0, 0, 0, 0, 0, 0, 0, 0, 0, 0, 0, 0, 0, 0, 0, 0, 0, 0, 0, 1, 0, 0, 0, 0, 0, 0, 0, 0, 0, 0, 0, 0, 0, 0, 0, 0, 0, 0, 0, 0, 0, 0, 0, 0, 0, 0, 1, 0, 0, 0, 1, 0, 0, 0, 0, 0, 0, 1, 0, 0, 0, 0, 0, 0, 0, 0, 0, 1, 0, 0, 0, 0, 0, 0, 0, 0, 1], 'tour_cost': 452631.7674946364, 'packing_plan_cost': 30436, 'rank': 4, 'crowding_distance': 0.5817291751666291}),\n",
       " struct({'tour': [250, 87, 259, 48, 66, 189, 166, 214, 182, 191, 168, 139, 194, 59, 160, 71, 73, 46, 261, 183, 74, 143, 62, 262, 278, 212, 157, 218, 109, 193, 92, 234, 264, 21, 100, 272, 72, 60, 187, 108, 158, 56, 243, 247, 130, 263, 154, 190, 65, 196, 97, 232, 93, 148, 79, 179, 244, 254, 98, 202, 136, 268, 25, 240, 34, 80, 111, 128, 173, 185, 57, 176, 114, 39, 181, 90, 221, 208, 164, 142, 241, 257, 188, 242, 252, 85, 121, 215, 141, 52, 266, 163, 86, 226, 258, 175, 23, 81, 104, 41, 171, 229, 174, 255, 18, 200, 152, 110, 10, 155, 227, 159, 153, 167, 105, 6, 42, 271, 61, 30, 239, 119, 96, 145, 149, 151, 44, 9, 184, 180, 17, 38, 220, 237, 33, 156, 146, 132, 120, 172, 198, 32, 134, 279, 83, 209, 210, 63, 256, 138, 88, 197, 122, 162, 248, 84, 89, 126, 275, 16, 13, 31, 235, 170, 267, 125, 19, 20, 123, 50, 103, 260, 270, 53, 45, 95, 169, 140, 91, 225, 0, 186, 49, 165, 15, 78, 94, 277, 4, 129, 37, 27, 206, 58, 12, 147, 115, 207, 231, 106, 230, 77, 101, 35, 195, 224, 112, 70, 222, 265, 274, 161, 246, 5, 251, 236, 107, 137, 47, 127, 177, 75, 8, 249, 133, 1, 68, 28, 2, 116, 3, 223, 144, 131, 201, 203, 253, 67, 102, 273, 29, 150, 228, 113, 233, 36, 54, 219, 205, 7, 124, 51, 269, 99, 11, 199, 245, 117, 238, 118, 64, 217, 204, 82, 43, 14, 276, 211, 55, 178, 76, 192, 22, 26, 69, 216, 135, 40, 213, 24], 'packing_plan': [0, 0, 0, 0, 0, 0, 0, 1, 0, 0, 0, 0, 1, 1, 0, 0, 0, 0, 0, 0, 0, 1, 0, 0, 0, 0, 0, 1, 1, 0, 0, 0, 0, 0, 0, 0, 1, 0, 0, 0, 0, 0, 0, 0, 0, 0, 1, 0, 0, 0, 0, 0, 0, 0, 1, 0, 0, 0, 0, 0, 1, 0, 0, 0, 0, 0, 0, 0, 0, 0, 0, 0, 0, 0, 0, 0, 0, 0, 0, 0, 0, 0, 0, 0, 0, 1, 0, 0, 0, 0, 0, 0, 0, 0, 0, 0, 0, 0, 0, 1, 0, 0, 0, 0, 0, 0, 0, 0, 0, 1, 0, 0, 0, 0, 0, 0, 0, 0, 0, 1, 0, 0, 0, 0, 0, 0, 0, 0, 0, 1, 0, 0, 0, 0, 0, 0, 0, 0, 0, 0, 0, 0, 0, 0, 0, 0, 0, 0, 0, 0, 0, 0, 0, 0, 0, 0, 0, 0, 0, 0, 1, 0, 0, 0, 0, 0, 0, 0, 0, 0, 0, 0, 0, 0, 0, 0, 0, 0, 0, 0, 0, 0, 0, 0, 0, 0, 0, 0, 0, 0, 0, 0, 0, 0, 0, 0, 0, 0, 0, 0, 0, 0, 0, 0, 0, 0, 0, 0, 0, 0, 0, 0, 0, 0, 0, 0, 0, 1, 0, 0, 0, 0, 0, 0, 1, 0, 0, 1, 0, 0, 0, 0, 0, 0, 0, 0, 0, 0, 0, 0, 0, 0, 0, 0, 1, 0, 0, 0, 0, 0, 0, 0, 1, 0, 0, 0, 0, 0, 0, 1, 0, 0, 0, 0, 0, 0, 0, 1, 0, 0, 0, 0, 1, 0, 0, 0, 0, 0, 0], 'tour_cost': 361040.9120653825, 'packing_plan_cost': 29574, 'rank': 2, 'crowding_distance': 0.4735334740685051}),\n",
       " struct({'tour': [77, 35, 6, 230, 193, 272, 141, 32, 116, 82, 215, 247, 140, 188, 0, 96, 169, 17, 23, 213, 182, 238, 266, 261, 118, 187, 153, 236, 133, 206, 162, 150, 106, 86, 74, 101, 245, 176, 242, 212, 95, 2, 54, 248, 139, 166, 29, 53, 260, 92, 165, 175, 138, 39, 205, 151, 224, 135, 60, 48, 160, 72, 250, 180, 20, 131, 5, 38, 273, 164, 174, 186, 10, 249, 50, 75, 107, 275, 278, 195, 251, 9, 254, 241, 25, 90, 13, 179, 263, 26, 44, 42, 18, 59, 154, 91, 128, 113, 277, 83, 256, 126, 228, 231, 85, 257, 211, 73, 145, 132, 12, 55, 149, 147, 93, 102, 267, 259, 194, 279, 71, 115, 134, 36, 142, 270, 200, 81, 269, 148, 178, 239, 22, 120, 196, 168, 158, 117, 110, 144, 21, 192, 98, 198, 108, 274, 41, 19, 227, 235, 225, 3, 28, 244, 84, 58, 109, 33, 161, 34, 159, 136, 137, 51, 197, 234, 40, 1, 37, 232, 155, 233, 103, 189, 89, 216, 94, 221, 99, 14, 63, 181, 112, 68, 191, 177, 69, 271, 43, 47, 57, 246, 129, 207, 226, 127, 97, 171, 170, 172, 202, 214, 119, 52, 62, 70, 276, 130, 253, 45, 218, 76, 61, 184, 66, 4, 79, 157, 65, 243, 190, 80, 268, 265, 220, 105, 88, 104, 152, 222, 56, 15, 143, 123, 258, 240, 185, 30, 49, 210, 78, 173, 199, 167, 87, 31, 16, 219, 111, 264, 237, 124, 203, 24, 100, 183, 11, 209, 223, 122, 204, 125, 163, 229, 217, 262, 252, 208, 114, 46, 8, 255, 67, 7, 64, 156, 146, 201, 27, 121], 'packing_plan': [0, 0, 0, 0, 0, 0, 0, 0, 0, 0, 1, 0, 0, 0, 0, 1, 0, 0, 0, 0, 0, 0, 0, 0, 0, 0, 0, 0, 0, 0, 1, 0, 0, 0, 0, 0, 0, 0, 0, 0, 0, 0, 0, 1, 0, 0, 0, 0, 0, 0, 0, 1, 0, 0, 0, 0, 0, 0, 0, 0, 0, 0, 0, 0, 0, 0, 0, 0, 0, 0, 0, 0, 0, 0, 0, 0, 0, 0, 0, 0, 0, 0, 0, 0, 0, 0, 1, 0, 0, 0, 0, 0, 0, 0, 0, 1, 0, 0, 0, 0, 0, 0, 1, 0, 0, 0, 0, 0, 0, 0, 0, 0, 1, 0, 0, 0, 0, 0, 0, 0, 0, 0, 0, 0, 1, 0, 0, 1, 0, 0, 0, 0, 0, 0, 0, 0, 0, 0, 0, 0, 0, 0, 0, 0, 0, 0, 0, 1, 0, 0, 0, 0, 0, 0, 0, 0, 0, 0, 0, 0, 0, 0, 0, 0, 0, 0, 1, 0, 0, 0, 0, 0, 0, 0, 0, 0, 0, 0, 0, 0, 0, 0, 0, 0, 0, 0, 0, 0, 0, 0, 0, 1, 0, 0, 0, 0, 0, 0, 1, 0, 0, 1, 0, 1, 0, 0, 0, 0, 0, 0, 0, 0, 0, 0, 0, 0, 0, 0, 0, 0, 0, 0, 1, 0, 0, 0, 1, 0, 0, 0, 0, 0, 0, 1, 1, 0, 0, 0, 0, 0, 0, 0, 0, 0, 0, 1, 0, 0, 0, 0, 0, 0, 0, 0, 0, 0, 0, 0, 0, 0, 0, 0, 0, 0, 0, 0, 0, 1, 0, 1, 0, 0, 0, 0, 0, 1, 0, 0, 0], 'tour_cost': 463957.7567693248, 'packing_plan_cost': 30030, 'rank': 6, 'crowding_distance': 1.2165689166646951}),\n",
       " struct({'tour': [81, 169, 50, 139, 110, 188, 82, 0, 118, 258, 137, 62, 16, 28, 204, 69, 47, 222, 46, 31, 53, 87, 77, 249, 83, 66, 86, 216, 80, 11, 218, 42, 129, 152, 107, 189, 260, 36, 170, 37, 267, 72, 10, 49, 3, 54, 105, 175, 230, 73, 132, 194, 58, 8, 14, 74, 187, 142, 45, 131, 153, 92, 123, 224, 117, 257, 248, 237, 21, 57, 268, 101, 38, 253, 221, 213, 151, 12, 232, 240, 59, 1, 128, 165, 61, 196, 164, 91, 141, 278, 126, 90, 5, 176, 202, 51, 254, 63, 181, 99, 109, 17, 95, 144, 7, 147, 266, 166, 22, 41, 52, 261, 238, 180, 219, 226, 163, 154, 255, 263, 27, 25, 48, 6, 146, 127, 273, 279, 239, 71, 272, 108, 197, 94, 143, 208, 265, 262, 9, 68, 223, 243, 179, 130, 113, 60, 97, 186, 13, 114, 159, 75, 93, 270, 275, 156, 104, 205, 102, 30, 173, 138, 150, 122, 15, 20, 133, 220, 212, 145, 65, 174, 177, 106, 172, 199, 39, 96, 2, 67, 191, 43, 29, 84, 32, 259, 185, 229, 149, 78, 210, 23, 271, 276, 209, 125, 134, 235, 231, 215, 136, 155, 207, 116, 228, 124, 19, 225, 236, 135, 103, 111, 24, 40, 277, 162, 120, 18, 242, 140, 161, 203, 85, 35, 256, 88, 148, 89, 244, 217, 119, 192, 4, 251, 121, 264, 70, 269, 157, 274, 160, 201, 171, 178, 182, 76, 206, 26, 44, 158, 168, 234, 79, 64, 55, 214, 184, 34, 98, 190, 245, 100, 252, 33, 241, 233, 200, 183, 250, 167, 115, 246, 198, 227, 193, 56, 247, 112, 195, 211], 'packing_plan': [0, 0, 0, 0, 0, 0, 0, 0, 0, 0, 0, 0, 0, 0, 0, 0, 0, 0, 0, 0, 0, 0, 0, 0, 0, 0, 0, 0, 0, 0, 0, 0, 0, 0, 0, 0, 1, 0, 1, 0, 0, 0, 0, 0, 0, 0, 0, 0, 0, 0, 0, 0, 0, 0, 0, 0, 0, 0, 0, 0, 1, 0, 0, 0, 0, 0, 0, 0, 0, 0, 0, 0, 0, 0, 0, 0, 0, 0, 0, 0, 0, 0, 1, 0, 0, 0, 0, 0, 0, 1, 0, 0, 0, 0, 0, 0, 0, 0, 0, 0, 0, 0, 0, 0, 1, 1, 0, 0, 0, 0, 0, 0, 0, 0, 0, 0, 0, 0, 0, 0, 0, 1, 0, 0, 0, 0, 0, 0, 0, 0, 0, 0, 0, 0, 0, 0, 0, 0, 0, 0, 0, 0, 0, 0, 0, 0, 1, 0, 0, 0, 0, 0, 0, 1, 0, 0, 0, 0, 0, 1, 0, 0, 0, 0, 0, 0, 0, 0, 0, 0, 0, 0, 0, 0, 1, 0, 0, 0, 0, 0, 0, 0, 0, 0, 0, 0, 0, 0, 0, 0, 0, 0, 0, 0, 1, 0, 0, 0, 0, 0, 1, 1, 0, 0, 0, 0, 1, 0, 0, 0, 0, 0, 0, 0, 0, 0, 0, 0, 0, 0, 1, 0, 0, 0, 0, 0, 0, 0, 0, 0, 0, 1, 0, 0, 0, 0, 0, 0, 0, 0, 0, 0, 0, 0, 0, 0, 0, 0, 0, 0, 0, 0, 0, 0, 0, 0, 0, 0, 0, 0, 0, 0, 0, 0, 0, 0, 0, 0, 0, 0, 1, 0, 0, 0, 0, 0, 0, 1, 0], 'tour_cost': 553031.3146399385, 'packing_plan_cost': 29613, 'rank': 11, 'crowding_distance': inf}),\n",
       " struct({'tour': [11, 252, 38, 34, 195, 10, 71, 207, 265, 142, 146, 134, 214, 155, 50, 14, 169, 229, 154, 111, 133, 151, 228, 62, 184, 35, 60, 21, 165, 234, 239, 3, 80, 46, 233, 258, 180, 144, 97, 246, 185, 211, 226, 248, 39, 173, 51, 86, 256, 145, 54, 74, 238, 254, 186, 128, 83, 118, 235, 143, 221, 127, 120, 156, 105, 196, 66, 27, 114, 61, 224, 135, 163, 271, 136, 37, 194, 183, 150, 182, 257, 164, 20, 245, 190, 53, 274, 85, 70, 159, 204, 32, 209, 129, 189, 93, 138, 140, 139, 162, 170, 215, 90, 42, 82, 36, 95, 206, 33, 174, 115, 109, 94, 277, 153, 47, 124, 122, 125, 112, 92, 152, 9, 220, 264, 24, 23, 237, 132, 278, 5, 236, 279, 98, 2, 81, 68, 103, 198, 25, 88, 7, 91, 157, 181, 148, 216, 106, 107, 227, 78, 202, 212, 79, 276, 250, 223, 267, 59, 199, 266, 272, 40, 251, 77, 268, 240, 149, 210, 262, 187, 116, 137, 225, 0, 29, 22, 49, 89, 121, 219, 64, 231, 242, 193, 63, 253, 178, 188, 117, 16, 96, 57, 6, 28, 208, 270, 232, 104, 192, 203, 217, 247, 205, 26, 87, 110, 241, 108, 101, 179, 73, 177, 147, 176, 30, 123, 269, 55, 113, 172, 201, 218, 56, 213, 158, 263, 45, 15, 130, 167, 67, 261, 84, 18, 244, 43, 200, 141, 13, 168, 65, 126, 102, 99, 260, 41, 171, 259, 249, 100, 75, 72, 69, 160, 52, 58, 4, 191, 31, 44, 48, 76, 230, 197, 175, 166, 12, 161, 8, 273, 119, 275, 131, 243, 19, 255, 17, 1, 222], 'packing_plan': [0, 0, 0, 0, 0, 0, 0, 0, 0, 0, 0, 0, 0, 0, 0, 0, 0, 0, 0, 0, 0, 0, 0, 0, 0, 0, 0, 0, 0, 0, 0, 0, 1, 0, 1, 1, 0, 1, 1, 0, 0, 0, 0, 0, 1, 0, 0, 0, 1, 0, 0, 0, 0, 0, 0, 0, 0, 0, 0, 0, 0, 0, 0, 0, 0, 0, 0, 0, 0, 0, 0, 0, 0, 0, 0, 0, 0, 0, 0, 0, 0, 0, 0, 0, 0, 0, 1, 0, 1, 0, 0, 0, 0, 0, 0, 0, 0, 0, 0, 0, 0, 0, 0, 1, 0, 0, 1, 0, 0, 0, 0, 0, 0, 0, 0, 0, 0, 0, 0, 0, 0, 0, 1, 0, 0, 0, 0, 0, 1, 0, 0, 0, 0, 0, 0, 0, 0, 0, 0, 0, 0, 0, 1, 0, 0, 0, 0, 0, 0, 0, 0, 0, 0, 0, 1, 0, 0, 0, 0, 1, 0, 0, 0, 0, 1, 0, 0, 0, 0, 0, 0, 0, 0, 0, 0, 0, 0, 1, 0, 0, 0, 0, 0, 0, 0, 1, 0, 0, 0, 0, 0, 0, 0, 0, 0, 0, 0, 0, 0, 0, 0, 0, 0, 0, 0, 0, 0, 0, 0, 0, 0, 0, 0, 0, 0, 0, 0, 0, 0, 0, 0, 0, 0, 0, 0, 0, 0, 0, 0, 1, 1, 0, 0, 0, 0, 0, 0, 0, 0, 0, 0, 0, 0, 0, 0, 0, 1, 0, 0, 0, 0, 0, 0, 0, 0, 0, 0, 0, 0, 0, 0, 0, 0, 0, 0, 0, 0, 0, 0, 0, 1, 1, 0, 0, 0, 0, 0, 0, 0], 'tour_cost': 629141.8545831292, 'packing_plan_cost': 30590, 'rank': 5, 'crowding_distance': inf}),\n",
       " struct({'tour': [258, 100, 167, 209, 26, 141, 61, 108, 254, 34, 173, 144, 273, 5, 116, 257, 77, 16, 103, 155, 276, 25, 59, 129, 7, 146, 52, 15, 193, 227, 76, 31, 201, 101, 195, 222, 132, 127, 36, 137, 250, 80, 158, 264, 78, 265, 166, 237, 130, 22, 48, 27, 50, 213, 126, 246, 60, 72, 176, 230, 170, 175, 148, 114, 143, 30, 67, 96, 266, 243, 171, 169, 160, 124, 178, 62, 192, 83, 53, 46, 190, 164, 232, 86, 245, 210, 234, 112, 11, 231, 85, 65, 199, 179, 217, 39, 94, 97, 140, 205, 122, 183, 56, 115, 224, 215, 102, 268, 47, 165, 177, 244, 242, 93, 9, 70, 6, 279, 259, 263, 45, 174, 109, 3, 172, 131, 208, 202, 267, 128, 28, 135, 68, 235, 19, 37, 113, 20, 159, 99, 147, 58, 24, 44, 249, 104, 117, 182, 229, 251, 119, 42, 239, 33, 238, 180, 66, 1, 220, 191, 247, 84, 98, 248, 88, 23, 12, 275, 136, 196, 73, 261, 253, 150, 43, 120, 274, 223, 207, 211, 18, 74, 271, 10, 32, 203, 35, 185, 69, 154, 125, 139, 90, 252, 75, 110, 219, 89, 151, 145, 2, 163, 71, 51, 57, 187, 79, 194, 269, 54, 81, 200, 197, 157, 41, 225, 216, 149, 142, 13, 14, 221, 63, 92, 138, 162, 260, 240, 55, 218, 212, 121, 228, 161, 40, 198, 107, 29, 272, 105, 64, 133, 270, 87, 38, 17, 0, 214, 236, 91, 123, 8, 21, 82, 152, 255, 106, 262, 277, 278, 184, 256, 118, 49, 153, 233, 156, 186, 168, 188, 95, 206, 189, 134, 241, 111, 226, 181, 204, 4], 'packing_plan': [0, 0, 0, 0, 0, 0, 0, 0, 1, 0, 0, 0, 0, 0, 0, 0, 0, 0, 0, 0, 0, 0, 0, 0, 0, 0, 0, 0, 0, 0, 0, 0, 0, 0, 0, 0, 0, 0, 0, 0, 0, 0, 0, 0, 0, 0, 0, 1, 0, 0, 1, 0, 0, 0, 0, 0, 0, 1, 0, 0, 0, 0, 0, 0, 0, 0, 0, 0, 1, 1, 0, 0, 0, 0, 1, 0, 0, 0, 0, 0, 0, 0, 0, 0, 0, 0, 0, 0, 0, 0, 1, 0, 0, 0, 0, 0, 0, 0, 0, 1, 0, 0, 0, 0, 0, 0, 0, 0, 0, 0, 0, 0, 0, 0, 0, 0, 0, 0, 0, 0, 0, 0, 0, 0, 0, 0, 0, 0, 0, 0, 0, 0, 0, 0, 0, 0, 0, 0, 0, 0, 0, 0, 0, 0, 1, 0, 1, 0, 0, 0, 0, 0, 0, 0, 1, 0, 0, 0, 0, 0, 0, 0, 1, 0, 0, 0, 0, 0, 0, 0, 0, 0, 0, 0, 0, 0, 0, 0, 0, 0, 0, 0, 0, 0, 0, 1, 0, 0, 1, 0, 0, 0, 0, 0, 0, 0, 0, 0, 1, 0, 0, 0, 0, 0, 0, 0, 0, 0, 0, 1, 0, 0, 0, 1, 1, 0, 0, 0, 0, 0, 0, 0, 0, 1, 1, 0, 0, 0, 0, 0, 0, 0, 0, 0, 0, 0, 0, 0, 0, 0, 0, 0, 1, 0, 0, 0, 0, 0, 0, 0, 0, 0, 1, 0, 0, 1, 0, 0, 0, 0, 0, 0, 0, 0, 0, 0, 0, 0, 0, 0, 0, 0, 0, 0, 0, 0, 0, 1, 0], 'tour_cost': 407253.01124630746, 'packing_plan_cost': 28820, 'rank': 4, 'crowding_distance': 1.251116814648826}),\n",
       " struct({'tour': [216, 238, 121, 40, 57, 90, 140, 202, 165, 15, 237, 242, 278, 211, 254, 201, 232, 41, 72, 227, 150, 147, 44, 171, 93, 225, 193, 204, 107, 102, 65, 14, 105, 267, 179, 77, 29, 209, 215, 30, 2, 258, 275, 183, 18, 94, 59, 26, 11, 149, 200, 180, 199, 231, 181, 45, 276, 169, 134, 160, 219, 273, 270, 6, 217, 66, 190, 43, 223, 53, 16, 185, 85, 110, 13, 137, 17, 35, 46, 161, 68, 50, 173, 75, 174, 31, 159, 266, 122, 221, 156, 166, 240, 125, 274, 61, 95, 153, 51, 101, 103, 3, 28, 62, 141, 129, 119, 256, 144, 109, 243, 76, 56, 214, 246, 177, 239, 132, 272, 104, 55, 233, 277, 229, 194, 143, 120, 260, 54, 230, 224, 142, 187, 138, 21, 145, 36, 261, 48, 88, 64, 1, 196, 91, 241, 70, 69, 130, 126, 162, 131, 47, 78, 113, 8, 79, 148, 257, 178, 269, 244, 170, 89, 271, 38, 184, 152, 127, 191, 222, 186, 262, 92, 139, 249, 206, 146, 12, 251, 58, 188, 5, 248, 234, 84, 108, 19, 253, 97, 208, 4, 192, 99, 164, 228, 7, 259, 96, 198, 133, 98, 176, 226, 39, 112, 32, 42, 87, 175, 34, 235, 182, 136, 158, 124, 100, 168, 123, 49, 20, 157, 151, 83, 9, 67, 195, 213, 81, 73, 263, 212, 268, 33, 279, 86, 154, 22, 80, 197, 82, 114, 71, 155, 205, 207, 135, 25, 0, 203, 163, 118, 37, 111, 220, 245, 116, 10, 250, 52, 106, 117, 24, 27, 265, 74, 264, 218, 255, 189, 128, 60, 247, 236, 115, 63, 167, 210, 172, 23, 252], 'packing_plan': [0, 0, 0, 1, 0, 0, 0, 0, 0, 0, 1, 1, 1, 1, 0, 0, 0, 0, 0, 0, 0, 0, 0, 0, 0, 0, 0, 0, 0, 0, 0, 0, 0, 0, 0, 0, 0, 0, 0, 1, 0, 0, 0, 0, 0, 0, 0, 0, 0, 0, 1, 0, 0, 0, 0, 0, 0, 0, 1, 0, 0, 0, 0, 0, 1, 0, 0, 0, 0, 0, 0, 0, 0, 0, 0, 0, 0, 0, 0, 0, 0, 0, 0, 0, 0, 0, 0, 0, 0, 0, 0, 0, 0, 0, 0, 0, 0, 0, 0, 0, 1, 0, 0, 0, 1, 0, 0, 0, 0, 0, 0, 1, 0, 0, 0, 0, 0, 1, 0, 1, 0, 0, 0, 0, 0, 0, 0, 0, 1, 0, 0, 0, 0, 0, 0, 1, 1, 0, 0, 0, 0, 0, 0, 0, 0, 0, 0, 0, 0, 0, 0, 0, 0, 0, 0, 0, 0, 0, 0, 0, 0, 0, 0, 1, 0, 0, 0, 0, 0, 0, 0, 0, 0, 0, 0, 0, 0, 0, 0, 0, 0, 0, 0, 1, 0, 0, 1, 0, 0, 0, 0, 0, 0, 0, 0, 0, 0, 0, 0, 0, 0, 0, 0, 0, 0, 0, 0, 0, 1, 0, 0, 0, 0, 1, 0, 0, 1, 0, 0, 0, 0, 0, 0, 0, 0, 0, 0, 0, 0, 0, 0, 0, 0, 0, 0, 0, 0, 1, 0, 0, 0, 0, 0, 0, 0, 0, 0, 0, 0, 0, 0, 0, 0, 0, 0, 0, 1, 0, 0, 0, 0, 0, 1, 0, 0, 0, 0, 0, 1, 0, 0, 0, 0, 0, 0, 0, 0, 0, 0], 'tour_cost': 471175.2126774932, 'packing_plan_cost': 29389, 'rank': 7, 'crowding_distance': inf}),\n",
       " struct({'tour': [224, 178, 11, 135, 273, 126, 6, 49, 152, 110, 71, 78, 40, 204, 269, 86, 23, 231, 54, 21, 38, 89, 12, 80, 247, 58, 119, 134, 265, 154, 72, 96, 182, 5, 122, 77, 66, 121, 2, 264, 168, 28, 83, 124, 107, 211, 127, 212, 261, 39, 85, 142, 268, 203, 274, 61, 84, 171, 74, 254, 230, 193, 157, 30, 241, 129, 90, 137, 218, 81, 19, 220, 43, 147, 115, 216, 165, 233, 228, 270, 45, 31, 257, 155, 199, 192, 160, 235, 91, 82, 75, 242, 69, 140, 16, 10, 169, 146, 99, 189, 210, 188, 104, 213, 164, 223, 255, 27, 18, 162, 13, 105, 131, 125, 246, 144, 100, 106, 217, 215, 32, 22, 138, 149, 206, 244, 57, 243, 55, 275, 52, 200, 17, 271, 260, 191, 219, 1, 148, 167, 214, 258, 97, 184, 248, 151, 180, 253, 133, 183, 159, 101, 53, 111, 186, 56, 7, 181, 179, 14, 41, 201, 65, 24, 102, 262, 33, 198, 44, 209, 166, 51, 279, 194, 87, 136, 88, 73, 46, 225, 95, 202, 256, 76, 132, 8, 63, 227, 92, 172, 114, 128, 237, 48, 67, 4, 197, 161, 60, 176, 36, 277, 37, 117, 156, 251, 64, 158, 50, 47, 234, 185, 113, 250, 108, 94, 278, 112, 139, 196, 232, 98, 187, 195, 3, 229, 240, 141, 62, 109, 252, 208, 266, 236, 15, 123, 25, 120, 238, 68, 245, 207, 20, 79, 34, 267, 35, 263, 116, 226, 29, 174, 42, 0, 59, 103, 272, 173, 70, 130, 145, 163, 249, 26, 222, 9, 205, 153, 118, 170, 177, 175, 221, 259, 190, 276, 150, 143, 239, 93], 'packing_plan': [0, 0, 0, 0, 0, 0, 1, 0, 0, 0, 0, 0, 0, 0, 0, 0, 0, 0, 0, 0, 0, 0, 0, 0, 0, 0, 0, 0, 0, 0, 0, 0, 0, 0, 0, 0, 0, 0, 0, 0, 1, 0, 0, 0, 1, 0, 0, 0, 0, 0, 0, 0, 0, 0, 0, 0, 0, 0, 0, 0, 0, 0, 0, 0, 0, 0, 0, 1, 0, 0, 1, 0, 0, 0, 1, 0, 0, 0, 0, 0, 0, 0, 0, 0, 0, 0, 0, 0, 0, 0, 0, 0, 1, 0, 0, 0, 0, 0, 0, 0, 0, 0, 0, 0, 0, 0, 0, 0, 0, 0, 0, 0, 1, 0, 0, 0, 0, 0, 0, 0, 1, 0, 0, 0, 0, 1, 0, 0, 1, 0, 0, 0, 0, 0, 0, 0, 0, 0, 0, 0, 0, 1, 0, 1, 0, 1, 0, 0, 0, 0, 0, 0, 0, 0, 0, 0, 0, 0, 0, 0, 0, 0, 0, 0, 0, 0, 0, 0, 0, 0, 0, 0, 0, 0, 0, 0, 0, 0, 0, 0, 0, 0, 0, 0, 0, 0, 0, 0, 0, 0, 1, 0, 0, 1, 0, 0, 0, 0, 0, 1, 0, 0, 1, 0, 0, 0, 0, 0, 0, 0, 0, 1, 0, 0, 0, 0, 0, 0, 0, 0, 0, 1, 0, 0, 0, 0, 0, 0, 0, 0, 0, 1, 0, 0, 0, 0, 0, 0, 0, 0, 0, 0, 0, 0, 0, 0, 1, 0, 0, 0, 0, 0, 0, 0, 0, 0, 0, 0, 0, 0, 0, 0, 0, 0, 0, 0, 0, 0, 0, 0, 0, 0, 0, 0, 0, 0, 0, 1, 0], 'tour_cost': 539664.8446308982, 'packing_plan_cost': 29495, 'rank': 10, 'crowding_distance': inf}),\n",
       " struct({'tour': [248, 28, 25, 48, 166, 273, 235, 232, 263, 262, 94, 230, 226, 3, 105, 125, 8, 240, 228, 185, 253, 22, 134, 75, 19, 229, 47, 82, 15, 225, 202, 4, 123, 130, 267, 227, 223, 103, 37, 143, 277, 163, 31, 80, 9, 33, 65, 12, 175, 76, 214, 209, 269, 206, 237, 140, 26, 83, 244, 135, 131, 231, 71, 49, 60, 249, 270, 32, 180, 112, 27, 170, 89, 56, 55, 207, 69, 13, 61, 124, 256, 247, 10, 219, 77, 218, 157, 62, 182, 98, 221, 87, 275, 165, 81, 212, 129, 64, 265, 193, 24, 236, 11, 41, 196, 203, 73, 154, 85, 278, 147, 54, 40, 178, 197, 205, 255, 162, 97, 95, 216, 258, 242, 239, 251, 222, 152, 246, 150, 148, 271, 100, 29, 46, 120, 188, 121, 51, 30, 43, 171, 173, 138, 266, 119, 68, 217, 90, 109, 6, 110, 198, 179, 213, 34, 184, 191, 257, 268, 204, 70, 99, 169, 101, 108, 187, 139, 245, 59, 181, 195, 107, 23, 238, 114, 186, 117, 276, 111, 183, 153, 167, 156, 210, 115, 146, 190, 164, 149, 2, 192, 176, 66, 142, 18, 122, 259, 211, 279, 141, 92, 160, 172, 127, 86, 159, 116, 201, 72, 44, 67, 96, 200, 194, 63, 58, 38, 106, 52, 17, 137, 144, 104, 84, 220, 260, 126, 199, 1, 16, 35, 93, 241, 174, 243, 264, 14, 7, 224, 88, 45, 151, 168, 233, 155, 252, 234, 39, 274, 254, 102, 53, 50, 42, 128, 78, 133, 158, 161, 57, 177, 74, 145, 215, 136, 79, 0, 5, 118, 20, 261, 250, 36, 113, 208, 21, 189, 272, 132, 91], 'packing_plan': [0, 0, 1, 0, 0, 0, 0, 0, 0, 0, 0, 1, 0, 0, 0, 0, 0, 0, 0, 0, 0, 1, 0, 1, 0, 0, 0, 0, 0, 0, 0, 0, 0, 0, 0, 0, 0, 0, 0, 0, 0, 0, 0, 0, 0, 1, 0, 0, 1, 0, 0, 0, 0, 1, 1, 0, 0, 0, 0, 1, 0, 0, 0, 0, 0, 0, 0, 0, 0, 0, 0, 0, 0, 0, 1, 0, 0, 0, 0, 1, 0, 0, 0, 0, 0, 0, 1, 0, 0, 0, 0, 0, 0, 0, 0, 0, 0, 0, 0, 0, 0, 0, 0, 0, 0, 0, 0, 0, 0, 0, 0, 0, 0, 0, 0, 0, 0, 0, 0, 0, 0, 0, 1, 0, 0, 0, 0, 1, 0, 0, 0, 0, 0, 1, 0, 0, 0, 0, 0, 0, 0, 0, 0, 0, 0, 0, 0, 0, 0, 1, 0, 0, 0, 1, 0, 0, 0, 0, 0, 0, 0, 0, 0, 0, 0, 0, 0, 0, 0, 0, 0, 0, 0, 0, 0, 0, 0, 0, 0, 0, 0, 0, 0, 0, 0, 0, 0, 0, 0, 1, 0, 0, 1, 0, 0, 0, 0, 0, 0, 0, 0, 0, 0, 0, 0, 0, 0, 0, 0, 0, 0, 0, 0, 0, 0, 0, 0, 0, 0, 0, 0, 0, 0, 0, 0, 0, 0, 0, 0, 0, 0, 1, 0, 0, 0, 0, 1, 0, 0, 0, 0, 0, 0, 0, 0, 0, 0, 0, 0, 1, 0, 0, 0, 0, 0, 0, 0, 0, 0, 0, 0, 0, 0, 0, 0, 0, 0, 1, 0, 0, 0, 0, 0, 0, 0, 0, 0, 0, 0], 'tour_cost': 549289.1311974032, 'packing_plan_cost': 29218, 'rank': 11, 'crowding_distance': inf}),\n",
       " struct({'tour': [181, 139, 205, 239, 20, 136, 201, 14, 100, 259, 133, 28, 140, 212, 188, 71, 228, 90, 91, 225, 168, 134, 121, 66, 59, 18, 6, 105, 80, 179, 92, 271, 221, 231, 213, 226, 261, 149, 256, 76, 103, 108, 55, 54, 237, 183, 227, 240, 87, 233, 107, 206, 167, 247, 246, 267, 180, 69, 46, 245, 253, 270, 26, 175, 79, 40, 274, 171, 199, 191, 210, 242, 12, 63, 279, 260, 15, 278, 145, 58, 97, 250, 94, 236, 203, 138, 82, 123, 241, 263, 60, 223, 62, 77, 162, 232, 50, 96, 163, 219, 204, 169, 35, 13, 24, 4, 266, 264, 208, 47, 176, 106, 5, 184, 262, 186, 277, 196, 126, 218, 122, 194, 41, 132, 112, 114, 67, 128, 155, 22, 17, 161, 235, 170, 251, 25, 268, 30, 83, 52, 187, 192, 84, 211, 29, 124, 200, 74, 2, 275, 144, 49, 150, 257, 276, 42, 159, 119, 85, 147, 101, 72, 160, 102, 185, 75, 32, 104, 110, 258, 48, 0, 61, 216, 148, 1, 129, 222, 113, 158, 44, 146, 273, 177, 37, 252, 249, 111, 118, 202, 182, 137, 230, 109, 243, 164, 7, 117, 127, 34, 43, 224, 51, 8, 131, 154, 38, 229, 125, 269, 9, 198, 255, 98, 244, 10, 141, 178, 214, 197, 33, 53, 3, 157, 195, 21, 142, 209, 215, 19, 152, 172, 31, 220, 189, 95, 45, 70, 27, 254, 272, 56, 234, 99, 57, 248, 143, 193, 120, 135, 166, 81, 78, 156, 23, 86, 39, 65, 151, 89, 73, 68, 238, 217, 16, 36, 115, 64, 153, 116, 93, 173, 88, 165, 265, 207, 11, 130, 190, 174], 'packing_plan': [0, 0, 0, 0, 0, 0, 1, 0, 0, 0, 0, 0, 1, 1, 0, 0, 0, 0, 0, 0, 0, 0, 0, 0, 0, 0, 0, 0, 0, 0, 0, 0, 0, 0, 0, 0, 1, 0, 0, 1, 0, 0, 0, 0, 0, 0, 0, 0, 0, 0, 0, 0, 0, 0, 0, 0, 0, 0, 0, 0, 0, 0, 0, 0, 0, 0, 0, 0, 0, 0, 0, 0, 0, 0, 0, 0, 1, 0, 0, 0, 0, 0, 0, 0, 0, 0, 0, 0, 0, 0, 1, 0, 0, 0, 0, 0, 0, 0, 0, 0, 0, 0, 0, 0, 0, 0, 1, 0, 0, 0, 0, 0, 0, 0, 0, 0, 0, 0, 0, 1, 0, 0, 0, 0, 0, 0, 0, 0, 0, 0, 0, 0, 0, 0, 1, 0, 0, 0, 0, 1, 0, 0, 0, 0, 0, 0, 0, 0, 0, 0, 0, 1, 0, 0, 0, 0, 0, 0, 0, 1, 0, 0, 0, 0, 0, 1, 0, 0, 0, 0, 0, 0, 0, 0, 0, 0, 0, 0, 0, 0, 0, 0, 0, 0, 0, 0, 0, 0, 0, 0, 0, 0, 0, 0, 0, 1, 0, 0, 0, 0, 0, 0, 0, 0, 0, 0, 0, 0, 0, 0, 0, 0, 0, 0, 0, 0, 1, 0, 0, 0, 0, 0, 0, 0, 1, 0, 0, 0, 0, 0, 0, 0, 0, 0, 0, 0, 0, 0, 1, 0, 0, 0, 0, 0, 1, 0, 0, 0, 0, 0, 0, 0, 0, 0, 1, 0, 0, 0, 0, 1, 0, 0, 0, 0, 0, 0, 1, 0, 0, 0, 0, 0, 0, 0, 0, 0, 0, 0, 1], 'tour_cost': 530851.7968103965, 'packing_plan_cost': 29688, 'rank': 9, 'crowding_distance': inf}),\n",
       " struct({'tour': [30, 135, 109, 113, 148, 197, 265, 40, 102, 96, 241, 162, 3, 247, 253, 216, 123, 121, 137, 218, 255, 232, 231, 237, 194, 19, 57, 8, 191, 51, 244, 177, 210, 90, 271, 260, 69, 181, 110, 153, 242, 38, 89, 267, 157, 173, 53, 248, 243, 145, 14, 17, 42, 60, 83, 39, 164, 1, 190, 213, 272, 78, 45, 116, 63, 80, 85, 29, 99, 18, 202, 118, 263, 125, 262, 256, 155, 246, 23, 245, 95, 144, 234, 239, 261, 251, 6, 166, 117, 141, 62, 187, 258, 49, 133, 199, 28, 180, 54, 270, 81, 149, 127, 159, 91, 236, 25, 71, 203, 167, 26, 214, 221, 170, 114, 259, 15, 124, 186, 27, 168, 12, 41, 274, 100, 129, 273, 223, 139, 240, 22, 136, 188, 276, 126, 165, 120, 87, 106, 257, 208, 108, 79, 11, 269, 20, 52, 233, 179, 92, 226, 59, 238, 151, 37, 56, 176, 2, 154, 183, 36, 74, 5, 103, 250, 76, 254, 266, 75, 212, 13, 193, 112, 224, 227, 252, 122, 222, 33, 16, 207, 107, 205, 140, 31, 204, 46, 249, 174, 198, 134, 184, 143, 115, 7, 264, 220, 161, 196, 93, 201, 61, 182, 111, 34, 86, 84, 156, 119, 98, 217, 130, 138, 146, 104, 169, 131, 70, 206, 225, 230, 275, 105, 50, 77, 65, 9, 66, 158, 142, 94, 200, 55, 128, 21, 67, 82, 4, 10, 277, 195, 64, 43, 152, 47, 268, 132, 72, 209, 32, 101, 175, 278, 147, 35, 44, 97, 58, 68, 185, 88, 235, 150, 178, 228, 73, 160, 172, 48, 279, 24, 192, 215, 171, 219, 229, 0, 211, 163, 189], 'packing_plan': [0, 0, 0, 0, 0, 0, 0, 0, 0, 0, 0, 0, 0, 0, 0, 0, 0, 0, 0, 0, 0, 0, 0, 0, 0, 0, 0, 0, 0, 1, 0, 0, 0, 0, 0, 0, 0, 0, 0, 0, 0, 0, 0, 0, 0, 0, 0, 0, 0, 0, 0, 0, 0, 0, 0, 0, 0, 0, 0, 0, 0, 0, 0, 0, 0, 0, 0, 0, 0, 1, 0, 1, 1, 0, 0, 0, 0, 0, 0, 0, 1, 0, 0, 0, 0, 0, 0, 0, 0, 0, 0, 0, 0, 0, 0, 1, 0, 1, 0, 0, 0, 0, 0, 0, 0, 0, 0, 0, 0, 1, 0, 0, 0, 0, 0, 1, 1, 0, 0, 0, 0, 0, 0, 1, 0, 0, 1, 0, 0, 0, 0, 0, 0, 0, 0, 0, 0, 1, 0, 0, 0, 0, 0, 0, 0, 0, 0, 0, 0, 0, 0, 0, 0, 0, 0, 0, 0, 0, 0, 0, 0, 0, 0, 0, 0, 0, 1, 0, 0, 0, 0, 0, 0, 0, 0, 0, 0, 0, 0, 0, 0, 0, 0, 1, 0, 0, 1, 0, 0, 1, 0, 0, 1, 0, 0, 0, 0, 0, 0, 0, 0, 0, 0, 0, 0, 0, 0, 0, 0, 0, 1, 0, 0, 0, 0, 0, 0, 0, 0, 0, 0, 1, 1, 0, 0, 0, 0, 0, 0, 0, 0, 0, 0, 0, 0, 0, 0, 0, 0, 0, 0, 0, 0, 0, 1, 0, 1, 0, 0, 0, 0, 0, 0, 0, 0, 0, 0, 0, 0, 0, 1, 1, 0, 1, 0, 0, 0, 0, 0, 0, 0, 0, 0, 0, 0, 0, 0, 0, 1], 'tour_cost': 477809.36625704746, 'packing_plan_cost': 29929, 'rank': 7, 'crowding_distance': 0.8701242338887316}),\n",
       " struct({'tour': [218, 214, 223, 191, 53, 205, 227, 129, 234, 140, 154, 118, 142, 26, 8, 133, 87, 18, 232, 88, 220, 175, 158, 66, 219, 213, 63, 228, 166, 225, 11, 181, 115, 9, 130, 259, 170, 1, 273, 233, 91, 35, 90, 254, 25, 93, 160, 247, 180, 119, 56, 84, 70, 3, 157, 264, 236, 135, 44, 128, 167, 132, 202, 212, 216, 99, 49, 162, 74, 20, 159, 204, 64, 75, 174, 48, 237, 23, 156, 176, 104, 126, 165, 55, 275, 108, 208, 203, 172, 31, 17, 109, 106, 39, 42, 230, 24, 206, 198, 149, 207, 116, 182, 150, 209, 257, 110, 15, 138, 21, 270, 251, 12, 148, 59, 67, 105, 68, 62, 151, 100, 76, 51, 224, 215, 169, 112, 144, 117, 139, 277, 137, 152, 226, 136, 145, 266, 173, 146, 199, 155, 95, 19, 245, 249, 190, 253, 47, 124, 71, 243, 27, 244, 41, 189, 186, 242, 102, 222, 32, 231, 168, 268, 256, 82, 85, 147, 272, 197, 171, 131, 38, 120, 0, 221, 238, 65, 97, 269, 98, 188, 240, 193, 241, 192, 16, 58, 262, 279, 250, 52, 248, 50, 258, 89, 164, 14, 177, 13, 274, 196, 61, 46, 127, 36, 40, 43, 271, 187, 210, 4, 78, 194, 123, 252, 134, 103, 122, 2, 239, 211, 86, 217, 33, 6, 57, 121, 276, 83, 261, 30, 125, 161, 69, 77, 278, 195, 79, 107, 113, 265, 80, 178, 28, 201, 5, 73, 153, 200, 81, 114, 54, 255, 163, 263, 229, 267, 179, 111, 60, 235, 34, 96, 141, 29, 260, 10, 184, 143, 94, 185, 7, 22, 246, 183, 72, 45, 101, 92, 37], 'packing_plan': [0, 0, 0, 0, 0, 0, 0, 0, 1, 0, 1, 0, 0, 0, 0, 0, 1, 0, 0, 0, 0, 0, 0, 0, 0, 0, 0, 0, 1, 0, 0, 0, 0, 0, 0, 0, 0, 0, 0, 0, 0, 0, 0, 0, 0, 0, 0, 0, 0, 0, 0, 0, 0, 0, 0, 0, 0, 0, 0, 0, 0, 0, 0, 0, 1, 0, 0, 0, 0, 0, 0, 0, 0, 0, 0, 0, 0, 0, 0, 0, 0, 0, 0, 0, 0, 0, 0, 0, 0, 1, 0, 0, 0, 0, 1, 0, 0, 0, 0, 1, 0, 0, 0, 0, 0, 0, 0, 0, 0, 0, 0, 0, 0, 0, 0, 0, 0, 0, 1, 0, 0, 0, 1, 0, 0, 0, 0, 0, 0, 1, 0, 0, 1, 0, 1, 0, 0, 1, 0, 0, 0, 0, 0, 0, 0, 0, 0, 1, 0, 0, 0, 0, 0, 0, 0, 0, 0, 0, 0, 0, 0, 1, 0, 0, 1, 0, 0, 0, 0, 0, 0, 0, 0, 0, 0, 1, 0, 0, 0, 0, 0, 0, 0, 0, 0, 0, 0, 0, 0, 0, 0, 0, 0, 0, 0, 0, 0, 0, 0, 0, 0, 0, 0, 0, 0, 0, 0, 0, 0, 0, 0, 0, 0, 0, 0, 0, 0, 0, 0, 0, 0, 0, 0, 0, 1, 0, 0, 0, 0, 0, 0, 0, 1, 1, 0, 0, 0, 0, 0, 0, 0, 0, 0, 0, 0, 0, 0, 0, 0, 0, 1, 0, 0, 0, 0, 0, 0, 0, 0, 0, 0, 0, 0, 0, 0, 0, 0, 0, 0, 1, 0, 0, 0, 0, 0, 0, 0, 0, 1], 'tour_cost': 735007.930438247, 'packing_plan_cost': 29509, 'rank': 12, 'crowding_distance': inf}),\n",
       " struct({'tour': [11, 274, 163, 77, 130, 81, 219, 176, 70, 250, 157, 92, 122, 47, 242, 85, 213, 261, 184, 115, 129, 245, 6, 141, 16, 36, 18, 1, 46, 107, 149, 158, 253, 224, 0, 192, 142, 193, 120, 147, 124, 243, 90, 156, 110, 12, 206, 43, 21, 202, 30, 169, 197, 152, 211, 27, 8, 111, 275, 19, 200, 3, 57, 269, 247, 58, 15, 183, 267, 272, 277, 249, 82, 102, 95, 87, 170, 84, 14, 265, 161, 187, 198, 51, 50, 220, 55, 167, 177, 266, 29, 67, 123, 150, 104, 99, 96, 94, 20, 223, 42, 13, 140, 105, 75, 248, 199, 264, 231, 4, 69, 268, 222, 24, 37, 225, 106, 117, 258, 155, 97, 144, 71, 76, 10, 201, 25, 273, 175, 162, 125, 108, 98, 172, 171, 80, 271, 185, 252, 41, 241, 256, 5, 68, 44, 205, 246, 276, 259, 103, 221, 218, 132, 145, 153, 251, 143, 148, 278, 74, 88, 119, 23, 133, 210, 48, 244, 78, 217, 166, 89, 203, 154, 109, 228, 179, 100, 17, 62, 227, 230, 134, 254, 181, 131, 31, 45, 49, 121, 38, 138, 53, 33, 232, 32, 180, 260, 173, 237, 52, 35, 126, 139, 63, 165, 257, 2, 9, 54, 188, 137, 195, 229, 34, 159, 204, 136, 112, 28, 101, 234, 189, 65, 135, 214, 22, 86, 182, 236, 178, 73, 64, 240, 7, 233, 238, 216, 83, 208, 255, 279, 146, 174, 72, 151, 66, 262, 59, 60, 116, 212, 127, 196, 186, 263, 91, 56, 191, 128, 226, 239, 209, 93, 190, 164, 270, 235, 40, 79, 39, 207, 26, 215, 160, 194, 113, 168, 61, 118, 114], 'packing_plan': [0, 0, 0, 1, 1, 0, 0, 0, 0, 1, 0, 0, 0, 0, 0, 0, 0, 0, 0, 0, 0, 0, 0, 0, 0, 0, 0, 0, 0, 0, 0, 0, 0, 0, 0, 0, 0, 0, 0, 0, 0, 0, 0, 0, 0, 1, 0, 0, 0, 0, 0, 0, 1, 0, 0, 0, 0, 0, 0, 0, 1, 1, 0, 0, 0, 1, 1, 0, 0, 0, 0, 0, 0, 0, 0, 0, 0, 0, 0, 0, 0, 0, 0, 0, 0, 0, 0, 0, 0, 0, 0, 0, 0, 0, 0, 0, 0, 0, 0, 0, 0, 0, 0, 0, 0, 0, 1, 0, 0, 0, 0, 0, 0, 0, 0, 0, 0, 0, 0, 0, 0, 0, 0, 0, 0, 0, 0, 0, 0, 0, 0, 0, 0, 0, 0, 0, 0, 1, 0, 0, 0, 0, 0, 0, 0, 0, 0, 0, 0, 0, 0, 0, 0, 0, 0, 0, 0, 0, 0, 0, 0, 0, 0, 0, 0, 0, 0, 0, 0, 1, 1, 0, 1, 0, 0, 0, 0, 0, 0, 0, 0, 0, 0, 0, 0, 0, 0, 0, 0, 0, 0, 1, 0, 0, 0, 0, 0, 0, 1, 0, 0, 0, 0, 0, 0, 0, 0, 1, 0, 1, 1, 0, 0, 0, 0, 0, 0, 0, 0, 0, 0, 0, 0, 0, 0, 0, 1, 0, 0, 0, 0, 0, 0, 0, 0, 0, 0, 0, 0, 0, 0, 0, 0, 1, 0, 1, 0, 0, 0, 0, 1, 0, 0, 0, 0, 1, 0, 0, 0, 0, 1, 0, 0, 0, 0, 0, 0, 1, 0, 0, 0, 0, 0, 1, 1, 0, 1, 0, 0], 'tour_cost': 732637.9055514224, 'packing_plan_cost': 31204, 'rank': 2, 'crowding_distance': inf}),\n",
       " struct({'tour': [127, 108, 152, 138, 62, 232, 272, 95, 166, 11, 104, 19, 229, 47, 233, 25, 183, 261, 88, 115, 77, 174, 81, 0, 16, 135, 87, 185, 265, 91, 84, 223, 159, 182, 243, 196, 37, 63, 141, 86, 139, 227, 175, 258, 119, 111, 69, 172, 85, 215, 236, 89, 116, 73, 133, 134, 1, 103, 112, 39, 169, 65, 48, 274, 162, 168, 96, 68, 71, 217, 75, 266, 198, 18, 216, 199, 27, 15, 36, 167, 173, 256, 151, 125, 263, 78, 218, 17, 184, 202, 140, 210, 98, 235, 278, 240, 120, 200, 190, 244, 13, 9, 242, 241, 24, 60, 163, 212, 76, 132, 194, 249, 130, 201, 40, 61, 161, 181, 222, 109, 251, 147, 118, 38, 54, 14, 231, 144, 90, 260, 221, 239, 58, 26, 35, 191, 67, 8, 246, 146, 179, 197, 226, 42, 97, 180, 22, 145, 225, 105, 106, 178, 188, 247, 276, 237, 107, 252, 149, 113, 148, 211, 94, 7, 248, 83, 253, 44, 164, 267, 21, 82, 255, 207, 57, 254, 6, 12, 189, 33, 275, 234, 186, 23, 259, 101, 4, 187, 270, 262, 70, 5, 29, 123, 142, 79, 228, 214, 193, 124, 74, 114, 50, 52, 43, 156, 110, 100, 177, 137, 80, 93, 30, 264, 20, 153, 165, 219, 158, 257, 157, 41, 102, 136, 31, 230, 121, 117, 192, 208, 203, 170, 72, 171, 224, 238, 56, 64, 122, 34, 99, 154, 277, 131, 150, 155, 126, 273, 53, 195, 269, 205, 206, 176, 45, 66, 3, 245, 92, 143, 2, 49, 209, 213, 128, 32, 160, 51, 250, 28, 10, 220, 129, 204, 59, 271, 268, 279, 46, 55], 'packing_plan': [0, 0, 0, 0, 0, 0, 0, 0, 0, 0, 0, 0, 0, 0, 0, 0, 0, 0, 0, 0, 0, 0, 0, 0, 0, 0, 0, 0, 0, 0, 0, 0, 0, 0, 0, 0, 0, 0, 0, 1, 0, 1, 0, 0, 0, 0, 1, 0, 0, 0, 0, 0, 0, 0, 0, 0, 0, 0, 0, 0, 0, 0, 0, 0, 0, 0, 0, 0, 0, 0, 0, 0, 1, 0, 0, 1, 0, 0, 0, 0, 0, 0, 0, 0, 0, 0, 0, 0, 0, 0, 0, 1, 0, 0, 0, 0, 0, 0, 0, 0, 0, 0, 0, 0, 0, 0, 0, 0, 0, 0, 0, 0, 0, 0, 0, 0, 0, 0, 0, 0, 0, 0, 0, 0, 0, 0, 0, 1, 0, 0, 0, 0, 0, 0, 0, 0, 0, 0, 1, 0, 0, 0, 0, 0, 0, 0, 0, 0, 0, 0, 0, 1, 0, 0, 0, 0, 0, 0, 0, 0, 0, 0, 0, 1, 0, 0, 0, 1, 0, 0, 0, 0, 0, 0, 0, 0, 0, 1, 0, 0, 0, 0, 0, 0, 0, 0, 0, 0, 0, 0, 0, 0, 0, 0, 0, 1, 0, 0, 0, 0, 0, 0, 0, 0, 0, 1, 0, 0, 0, 0, 0, 0, 0, 0, 0, 0, 0, 0, 0, 0, 0, 0, 0, 0, 0, 0, 0, 0, 0, 0, 0, 0, 0, 0, 0, 0, 0, 0, 0, 0, 0, 0, 0, 0, 0, 1, 0, 0, 0, 0, 0, 0, 0, 1, 0, 0, 0, 0, 0, 1, 0, 0, 0, 0, 0, 0, 0, 0, 0, 0, 0, 0, 0, 0, 0, 0, 0, 0, 0], 'tour_cost': 604123.7483144714, 'packing_plan_cost': 29723, 'rank': 9, 'crowding_distance': inf}),\n",
       " struct({'tour': [171, 206, 145, 73, 182, 257, 16, 19, 210, 51, 212, 175, 67, 165, 111, 88, 261, 129, 189, 109, 217, 2, 11, 43, 106, 136, 15, 207, 82, 137, 156, 147, 259, 269, 152, 204, 275, 102, 238, 138, 22, 52, 110, 236, 49, 121, 193, 162, 48, 96, 183, 64, 79, 278, 220, 57, 157, 203, 263, 221, 65, 167, 213, 9, 98, 177, 107, 228, 155, 46, 163, 78, 34, 174, 211, 25, 223, 97, 77, 271, 244, 54, 231, 27, 255, 104, 41, 215, 196, 154, 94, 28, 181, 150, 105, 53, 260, 266, 6, 62, 99, 227, 272, 23, 84, 234, 95, 242, 85, 170, 241, 254, 250, 89, 55, 160, 144, 42, 279, 56, 151, 117, 8, 35, 168, 18, 159, 36, 103, 115, 201, 246, 127, 134, 186, 45, 225, 197, 71, 200, 17, 226, 70, 14, 86, 80, 208, 30, 251, 194, 243, 139, 68, 116, 179, 40, 100, 268, 33, 191, 153, 87, 126, 265, 133, 58, 158, 83, 125, 26, 248, 190, 192, 161, 123, 21, 173, 141, 128, 214, 164, 166, 262, 219, 224, 101, 132, 74, 239, 277, 198, 187, 4, 90, 148, 112, 37, 20, 142, 120, 237, 143, 252, 63, 124, 270, 178, 276, 256, 5, 93, 188, 38, 10, 66, 140, 229, 29, 216, 222, 122, 1, 169, 130, 0, 180, 264, 218, 118, 76, 113, 258, 12, 205, 44, 32, 47, 108, 267, 39, 60, 61, 135, 247, 92, 91, 185, 75, 131, 232, 240, 114, 81, 199, 50, 176, 149, 24, 72, 245, 249, 59, 184, 235, 7, 202, 273, 172, 230, 195, 3, 146, 69, 31, 13, 209, 253, 274, 233, 119], 'packing_plan': [0, 0, 0, 0, 0, 0, 0, 0, 0, 1, 0, 0, 0, 0, 0, 0, 0, 0, 0, 0, 0, 0, 0, 0, 0, 0, 0, 0, 0, 0, 0, 0, 0, 1, 0, 0, 1, 0, 0, 0, 0, 0, 0, 0, 0, 0, 1, 0, 0, 0, 0, 0, 1, 0, 0, 0, 0, 0, 0, 0, 0, 0, 0, 0, 0, 0, 0, 0, 0, 0, 0, 0, 0, 0, 0, 0, 0, 0, 1, 0, 0, 0, 1, 0, 0, 0, 0, 0, 1, 0, 0, 0, 1, 0, 0, 0, 0, 0, 0, 0, 0, 0, 1, 0, 0, 0, 0, 0, 0, 0, 0, 0, 0, 0, 0, 0, 0, 0, 0, 0, 0, 1, 0, 0, 0, 0, 0, 0, 0, 0, 0, 0, 0, 0, 0, 0, 1, 0, 0, 0, 0, 0, 0, 0, 0, 0, 0, 0, 0, 0, 0, 0, 0, 0, 0, 0, 0, 0, 0, 0, 0, 0, 0, 0, 0, 0, 0, 0, 0, 0, 0, 0, 1, 1, 0, 0, 0, 0, 0, 0, 0, 0, 0, 0, 0, 0, 1, 1, 0, 0, 1, 0, 0, 0, 0, 0, 0, 0, 0, 0, 0, 0, 0, 0, 0, 0, 0, 0, 0, 0, 0, 0, 0, 1, 1, 0, 0, 0, 0, 0, 0, 0, 0, 0, 0, 0, 0, 0, 0, 0, 0, 0, 0, 1, 0, 0, 0, 0, 0, 0, 0, 0, 0, 0, 0, 0, 0, 0, 0, 0, 0, 0, 1, 1, 0, 0, 0, 0, 0, 0, 0, 0, 0, 1, 0, 0, 0, 0, 0, 0, 0, 0, 0, 0, 0, 0, 0, 0, 0], 'tour_cost': 399805.2663199449, 'packing_plan_cost': 30247, 'rank': 2, 'crowding_distance': 0.33529461046620906}),\n",
       " struct({'tour': [36, 103, 31, 85, 99, 151, 244, 217, 41, 191, 75, 160, 9, 79, 13, 60, 140, 124, 189, 72, 21, 170, 125, 174, 22, 233, 246, 14, 172, 271, 222, 265, 25, 146, 256, 26, 43, 106, 5, 171, 158, 213, 15, 123, 270, 147, 69, 16, 40, 223, 154, 90, 153, 261, 20, 95, 259, 206, 235, 136, 239, 54, 86, 57, 84, 88, 215, 219, 130, 3, 107, 29, 47, 254, 205, 207, 263, 37, 273, 27, 173, 135, 231, 214, 98, 30, 166, 148, 28, 113, 165, 119, 156, 169, 80, 229, 81, 149, 7, 129, 193, 208, 142, 70, 276, 253, 185, 266, 45, 252, 218, 105, 44, 198, 117, 187, 249, 184, 143, 32, 243, 251, 180, 93, 192, 109, 128, 48, 56, 51, 183, 167, 277, 275, 224, 100, 52, 132, 0, 225, 238, 120, 33, 157, 258, 39, 83, 145, 226, 139, 53, 68, 92, 8, 268, 247, 111, 102, 23, 163, 64, 6, 2, 10, 126, 274, 262, 58, 49, 18, 91, 1, 164, 269, 155, 115, 175, 152, 17, 127, 42, 250, 110, 114, 161, 248, 74, 232, 131, 162, 67, 137, 200, 221, 104, 186, 122, 240, 55, 236, 112, 179, 138, 144, 202, 199, 245, 211, 62, 260, 19, 181, 108, 59, 141, 212, 150, 159, 220, 203, 50, 34, 78, 242, 134, 201, 46, 38, 234, 209, 94, 97, 168, 11, 63, 176, 182, 71, 216, 89, 264, 87, 190, 257, 12, 194, 35, 101, 197, 178, 267, 196, 76, 255, 227, 96, 4, 82, 241, 278, 65, 204, 272, 230, 279, 77, 210, 116, 121, 237, 177, 73, 133, 228, 66, 188, 24, 118, 195, 61], 'packing_plan': [1, 0, 0, 0, 0, 0, 1, 0, 0, 0, 0, 0, 0, 1, 0, 0, 0, 0, 0, 0, 0, 0, 1, 0, 0, 0, 0, 0, 0, 0, 0, 0, 0, 0, 0, 0, 0, 0, 0, 0, 1, 0, 0, 0, 0, 0, 1, 0, 0, 0, 0, 0, 0, 0, 0, 0, 0, 0, 0, 0, 0, 0, 1, 0, 0, 0, 0, 0, 0, 0, 0, 0, 0, 0, 0, 0, 0, 0, 0, 0, 0, 0, 0, 0, 1, 0, 0, 0, 0, 0, 0, 0, 0, 0, 0, 0, 0, 0, 0, 0, 0, 0, 1, 0, 0, 1, 0, 0, 0, 0, 0, 0, 0, 0, 0, 0, 0, 0, 0, 1, 0, 0, 1, 0, 1, 0, 0, 0, 0, 0, 0, 0, 0, 0, 0, 0, 0, 0, 0, 0, 0, 0, 0, 0, 0, 0, 0, 0, 0, 0, 0, 0, 0, 0, 0, 0, 0, 0, 0, 0, 0, 0, 0, 0, 0, 0, 0, 1, 0, 0, 0, 0, 0, 0, 0, 0, 0, 1, 0, 0, 0, 0, 0, 0, 0, 0, 0, 0, 0, 0, 0, 0, 0, 0, 0, 0, 0, 0, 0, 1, 0, 0, 0, 1, 1, 0, 0, 0, 0, 0, 0, 1, 0, 0, 0, 0, 0, 0, 1, 0, 0, 0, 0, 0, 0, 1, 0, 0, 0, 1, 0, 0, 0, 0, 0, 0, 0, 1, 0, 0, 0, 0, 0, 0, 0, 0, 1, 0, 1, 0, 0, 0, 0, 0, 0, 1, 0, 0, 0, 0, 0, 0, 0, 0, 0, 0, 0, 0, 0, 0, 0, 0, 1, 0, 0, 0, 0, 0, 0], 'tour_cost': 563897.3565546466, 'packing_plan_cost': 30446, 'rank': 5, 'crowding_distance': 0.8711232158226592}),\n",
       " struct({'tour': [99, 85, 69, 171, 8, 35, 201, 72, 234, 146, 87, 239, 133, 106, 64, 75, 205, 245, 113, 102, 71, 145, 32, 46, 94, 95, 74, 33, 229, 3, 84, 96, 61, 237, 141, 13, 178, 123, 263, 177, 60, 107, 47, 187, 124, 55, 152, 224, 80, 20, 148, 225, 182, 155, 256, 22, 158, 88, 5, 160, 137, 130, 147, 37, 221, 190, 270, 259, 210, 2, 36, 70, 92, 173, 235, 167, 241, 39, 258, 246, 108, 267, 261, 174, 218, 204, 104, 50, 230, 254, 43, 41, 16, 278, 40, 257, 249, 183, 78, 179, 49, 207, 89, 180, 73, 27, 66, 127, 247, 114, 194, 100, 216, 134, 67, 53, 10, 79, 198, 199, 162, 34, 17, 271, 98, 252, 144, 166, 279, 76, 266, 164, 172, 25, 226, 222, 105, 168, 197, 29, 193, 56, 26, 143, 19, 159, 97, 274, 122, 161, 132, 186, 220, 262, 125, 240, 169, 260, 268, 236, 136, 233, 42, 9, 57, 129, 7, 15, 28, 59, 212, 265, 44, 121, 209, 277, 112, 185, 51, 255, 58, 140, 1, 189, 202, 18, 38, 206, 90, 208, 119, 63, 238, 23, 110, 116, 228, 81, 150, 11, 170, 93, 139, 248, 264, 52, 45, 118, 153, 192, 203, 176, 62, 242, 138, 0, 165, 217, 175, 131, 219, 135, 151, 213, 48, 243, 128, 24, 6, 211, 227, 117, 4, 14, 86, 269, 244, 82, 272, 223, 157, 120, 12, 149, 154, 275, 214, 215, 231, 115, 251, 111, 21, 54, 30, 232, 250, 156, 68, 101, 276, 196, 83, 103, 31, 163, 109, 77, 200, 126, 181, 188, 273, 253, 195, 142, 91, 184, 65, 191], 'packing_plan': [0, 0, 0, 0, 0, 0, 0, 0, 0, 0, 0, 0, 0, 0, 0, 0, 0, 0, 0, 0, 0, 0, 0, 0, 0, 0, 0, 0, 0, 0, 0, 0, 0, 1, 1, 0, 0, 0, 0, 0, 0, 0, 0, 0, 1, 0, 0, 0, 0, 0, 1, 0, 0, 1, 0, 0, 0, 0, 0, 0, 0, 1, 0, 1, 0, 0, 1, 0, 1, 0, 0, 0, 0, 0, 0, 1, 0, 0, 0, 0, 0, 0, 0, 0, 0, 0, 0, 0, 0, 0, 0, 0, 1, 0, 0, 0, 0, 0, 0, 0, 0, 0, 0, 0, 1, 0, 0, 1, 0, 0, 0, 0, 1, 0, 0, 0, 0, 0, 0, 0, 0, 0, 0, 0, 0, 1, 0, 0, 1, 0, 0, 0, 0, 0, 0, 0, 0, 0, 0, 0, 0, 0, 0, 0, 0, 0, 0, 0, 0, 0, 0, 0, 0, 0, 1, 0, 0, 1, 0, 0, 0, 1, 1, 0, 0, 0, 0, 0, 0, 0, 0, 0, 0, 0, 0, 0, 0, 0, 0, 0, 0, 0, 1, 0, 0, 0, 0, 0, 0, 0, 0, 0, 0, 0, 0, 0, 1, 0, 0, 0, 0, 0, 0, 0, 0, 0, 0, 0, 0, 0, 0, 0, 0, 0, 0, 1, 0, 0, 0, 0, 0, 0, 0, 0, 0, 0, 0, 0, 0, 0, 0, 0, 0, 0, 0, 0, 0, 0, 0, 0, 0, 0, 0, 0, 0, 0, 0, 0, 1, 0, 0, 0, 0, 0, 0, 0, 0, 0, 1, 0, 0, 0, 0, 0, 0, 0, 0, 0, 0, 0, 0, 0, 0, 0, 0, 0, 0, 0, 0], 'tour_cost': 560759.902843431, 'packing_plan_cost': 31175, 'rank': 2, 'crowding_distance': 0.6565436583828853})]"
      ]
     },
     "execution_count": 101,
     "metadata": {},
     "output_type": "execute_result"
    }
   ],
   "source": [
    "get_ranks(population)\n",
    "get_crowding_distance(population)"
   ]
  },
  {
   "cell_type": "code",
   "execution_count": 102,
   "metadata": {},
   "outputs": [
    {
     "data": {
      "text/plain": [
       "<matplotlib.collections.PathCollection at 0x17dcfbf9310>"
      ]
     },
     "execution_count": 102,
     "metadata": {},
     "output_type": "execute_result"
    },
    {
     "data": {
      "image/png": "[encoded data removed]",
      "text/plain": [
       "<Figure size 1170x827 with 1 Axes>"
      ]
     },
     "metadata": {},
     "output_type": "display_data"
    }
   ],
   "source": [
    "plt.scatter([sol.tour_cost for sol in population], [-1 * sol.packing_plan_cost for sol in population])\n",
    "plt.scatter([sol.tour_cost for sol in get_pareto_front(population)], [-1 * sol.packing_plan_cost for sol in get_pareto_front(population)])"
   ]
  },
  {
   "cell_type": "code",
   "execution_count": 103,
   "metadata": {},
   "outputs": [
    {
     "name": "stdout",
     "output_type": "stream",
     "text": [
      "0\n",
      "1\n",
      "2\n",
      "3\n",
      "4\n",
      "5\n",
      "6\n",
      "7\n",
      "8\n",
      "9\n",
      "10\n",
      "11\n",
      "12\n",
      "13\n",
      "14\n",
      "15\n",
      "16\n",
      "17\n",
      "18\n",
      "19\n",
      "20\n",
      "21\n",
      "22\n",
      "23\n",
      "24\n",
      "25\n",
      "26\n",
      "27\n",
      "28\n",
      "29\n",
      "30\n",
      "31\n",
      "32\n",
      "33\n",
      "34\n",
      "35\n",
      "36\n",
      "37\n",
      "38\n",
      "39\n",
      "40\n",
      "41\n",
      "42\n",
      "43\n",
      "44\n",
      "45\n",
      "46\n",
      "47\n",
      "48\n",
      "49\n"
     ]
    }
   ],
   "source": [
    "for i in range(50):\n",
    "    print(i)\n",
    "    children = []\n",
    "    for _ in range(50):\n",
    "        parent1 = tournament_selection(population)\n",
    "        parent2 = tournament_selection(population)\n",
    "        child1, child2 = OX1_tour_crossover(parent1, parent2)\n",
    "        child1, child2 = tour_mutation(child1, child2, \"single_swap\")\n",
    "        child1, child2 = packing_plan_mutation(child1, child2, 0.2)\n",
    "        repair_packing_plan(child1, Q, item_weights)\n",
    "        repair_packing_plan(child2, Q, item_weights)\n",
    "        \n",
    "        \n",
    "\n",
    "        children.append(child1)\n",
    "        children.append(child2)\n",
    "    \n",
    "    for child in children:\n",
    "        evaluate_candidate_solution_cost_pdist(\n",
    "            child, \n",
    "            pairwise_distances,\n",
    "            item_to_city_mapping_dict, \n",
    "            item_weights,\n",
    "            item_values,\n",
    "            vmax, \n",
    "            vmin,  \n",
    "            Q,\n",
    "            R\n",
    "        )\n",
    "\n",
    "    population += children\n",
    "    get_ranks(population)\n",
    "    get_crowding_distance(population)\n",
    "    population = replacement(population, 50)\n",
    "    \n",
    "\n"
   ]
  },
  {
   "cell_type": "code",
   "execution_count": 104,
   "metadata": {},
   "outputs": [],
   "source": [
    "p = get_pareto_front(population)"
   ]
  },
  {
   "cell_type": "code",
   "execution_count": 105,
   "metadata": {},
   "outputs": [
    {
     "data": {
      "text/plain": [
       "50"
      ]
     },
     "execution_count": 105,
     "metadata": {},
     "output_type": "execute_result"
    }
   ],
   "source": [
    "len(population)"
   ]
  },
  {
   "cell_type": "code",
   "execution_count": 106,
   "metadata": {},
   "outputs": [
    {
     "data": {
      "text/plain": [
       "13"
      ]
     },
     "execution_count": 106,
     "metadata": {},
     "output_type": "execute_result"
    }
   ],
   "source": [
    "len(p)"
   ]
  },
  {
   "cell_type": "code",
   "execution_count": 107,
   "metadata": {},
   "outputs": [
    {
     "data": {
      "text/plain": [
       "<matplotlib.collections.PathCollection at 0x17dcfc781d0>"
      ]
     },
     "execution_count": 107,
     "metadata": {},
     "output_type": "execute_result"
    },
    {
     "data": {
      "image/png": "[encoded data removed]",
      "text/plain": [
       "<Figure size 1170x827 with 1 Axes>"
      ]
     },
     "metadata": {},
     "output_type": "display_data"
    }
   ],
   "source": [
    "plt.scatter([sol.tour_cost for sol in population], [-1 * sol.packing_plan_cost for sol in population])\n",
    "\n"
   ]
  },
  {
   "cell_type": "code",
   "execution_count": null,
   "metadata": {},
   "outputs": [],
   "source": []
  },
  {
   "cell_type": "code",
   "execution_count": 55,
   "metadata": {},
   "outputs": [
    {
     "data": {
      "text/plain": [
       "dict_keys(['nb_cities', 'nb_items', 'Q', 'v_min', 'v_max', 'R', 'pairwise_distances', 'item_to_city_mapping_dict', 'item_weights', 'item_values', 'value_to_weight_ratio_dict'])"
      ]
     },
     "execution_count": 55,
     "metadata": {},
     "output_type": "execute_result"
    }
   ],
   "source": [
    "a280_n1395.keys()"
   ]
  },
  {
   "cell_type": "code",
   "execution_count": 56,
   "metadata": {},
   "outputs": [],
   "source": [
    "test_instance = read_TTP_instance_data(\"../data/a280-n2790.txt\")"
   ]
  },
  {
   "cell_type": "code",
   "execution_count": 57,
   "metadata": {},
   "outputs": [],
   "source": [
    "init_pop = generate_initial_population(50,\n",
    "                                       test_instance[\"nb_cities\"], \n",
    "                                       \"pack_random\", \n",
    "                                       \"random\", \n",
    "                                       test_instance[\"Q\"], \n",
    "                                       test_instance[\"value_to_weight_ratio_dict\"],\n",
    "                                       test_instance[\"item_weights\"])"
   ]
  },
  {
   "cell_type": "code",
   "execution_count": 58,
   "metadata": {},
   "outputs": [],
   "source": [
    "for candidate_solution in init_pop:\n",
    "    evaluate_candidate_solution_cost_pdist(candidate_solution,\n",
    "                                     test_instance[\"pairwise_distances\"],\n",
    "                                     test_instance[\"item_to_city_mapping_dict\"],\n",
    "                                     test_instance[\"item_weights\"],\n",
    "                                     test_instance[\"item_values\"],\n",
    "                                     test_instance[\"v_max\"],\n",
    "                                     test_instance[\"v_min\"],\n",
    "                                     test_instance[\"Q\"],\n",
    "                                     test_instance[\"R\"])"
   ]
  },
  {
   "cell_type": "code",
   "execution_count": 59,
   "metadata": {},
   "outputs": [
    {
     "ename": "IndexError",
     "evalue": "list index out of range",
     "output_type": "error",
     "traceback": [
      "\u001b[1;31m---------------------------------------------------------------------------\u001b[0m",
      "\u001b[1;31mIndexError\u001b[0m                                Traceback (most recent call last)",
      "\u001b[1;32mc:\\Users\\hpapa\\OneDrive\\Documents\\Data Science Year 4\\ECMM409\\Travelling-Thief-Problem\\code\\solution_representation_and_fitness.ipynb Cell 67\u001b[0m line \u001b[0;36m2\n\u001b[0;32m      <a href='vscode-notebook-cell:/c%3A/Users/hpapa/OneDrive/Documents/Data%20Science%20Year%204/ECMM409/Travelling-Thief-Problem/code/solution_representation_and_fitness.ipynb#Y123sZmlsZQ%3D%3D?line=0'>1</a>\u001b[0m get_ranks(init_pop)\n\u001b[1;32m----> <a href='vscode-notebook-cell:/c%3A/Users/hpapa/OneDrive/Documents/Data%20Science%20Year%204/ECMM409/Travelling-Thief-Problem/code/solution_representation_and_fitness.ipynb#Y123sZmlsZQ%3D%3D?line=1'>2</a>\u001b[0m get_crowding_distance(init_pop)\n",
      "\u001b[1;32mc:\\Users\\hpapa\\OneDrive\\Documents\\Data Science Year 4\\ECMM409\\Travelling-Thief-Problem\\code\\solution_representation_and_fitness.ipynb Cell 67\u001b[0m line \u001b[0;36m3\n\u001b[0;32m     <a href='vscode-notebook-cell:/c%3A/Users/hpapa/OneDrive/Documents/Data%20Science%20Year%204/ECMM409/Travelling-Thief-Problem/code/solution_representation_and_fitness.ipynb#Y123sZmlsZQ%3D%3D?line=29'>30</a>\u001b[0m     \u001b[39mfor\u001b[39;00m j \u001b[39min\u001b[39;00m \u001b[39mrange\u001b[39m(\u001b[39m1\u001b[39m,length\u001b[39m-\u001b[39m\u001b[39m1\u001b[39m):\n\u001b[0;32m     <a href='vscode-notebook-cell:/c%3A/Users/hpapa/OneDrive/Documents/Data%20Science%20Year%204/ECMM409/Travelling-Thief-Problem/code/solution_representation_and_fitness.ipynb#Y123sZmlsZQ%3D%3D?line=30'>31</a>\u001b[0m         dist[i][j] \u001b[39m+\u001b[39m\u001b[39m=\u001b[39m (fronts[i][j\u001b[39m+\u001b[39m\u001b[39m1\u001b[39m]\u001b[39m.\u001b[39mpacking_plan_cost \u001b[39m-\u001b[39m fronts[i][j\u001b[39m-\u001b[39m\u001b[39m1\u001b[39m]\u001b[39m.\u001b[39mpacking_plan_cost)\u001b[39m/\u001b[39m(fronts[i][\u001b[39m-\u001b[39m\u001b[39m1\u001b[39m]\u001b[39m.\u001b[39mpacking_plan_cost \u001b[39m-\u001b[39m fronts[i][\u001b[39m0\u001b[39m]\u001b[39m.\u001b[39mpacking_plan_cost)\n\u001b[1;32m---> <a href='vscode-notebook-cell:/c%3A/Users/hpapa/OneDrive/Documents/Data%20Science%20Year%204/ECMM409/Travelling-Thief-Problem/code/solution_representation_and_fitness.ipynb#Y123sZmlsZQ%3D%3D?line=31'>32</a>\u001b[0m \u001b[39mprint\u001b[39m(\u001b[39mlen\u001b[39m(dist[\u001b[39m9\u001b[39;49m]))\n\u001b[0;32m     <a href='vscode-notebook-cell:/c%3A/Users/hpapa/OneDrive/Documents/Data%20Science%20Year%204/ECMM409/Travelling-Thief-Problem/code/solution_representation_and_fitness.ipynb#Y123sZmlsZQ%3D%3D?line=32'>33</a>\u001b[0m \u001b[39mprint\u001b[39m(\u001b[39mlen\u001b[39m(fronts[\u001b[39m9\u001b[39m]))\n\u001b[0;32m     <a href='vscode-notebook-cell:/c%3A/Users/hpapa/OneDrive/Documents/Data%20Science%20Year%204/ECMM409/Travelling-Thief-Problem/code/solution_representation_and_fitness.ipynb#Y123sZmlsZQ%3D%3D?line=33'>34</a>\u001b[0m \u001b[39mfor\u001b[39;00m i \u001b[39min\u001b[39;00m \u001b[39mrange\u001b[39m(\u001b[39mlen\u001b[39m(fronts)):\n",
      "\u001b[1;31mIndexError\u001b[0m: list index out of range"
     ]
    }
   ],
   "source": [
    "get_ranks(init_pop)\n",
    "get_crowding_distance(init_pop)"
   ]
  },
  {
   "cell_type": "code",
   "execution_count": null,
   "metadata": {},
   "outputs": [],
   "source": [
    "for _ in range(25):\n",
    "    parent1 = tournament_selection(init_pop)"
   ]
  },
  {
   "cell_type": "code",
   "execution_count": null,
   "metadata": {},
   "outputs": [],
   "source": []
  },
  {
   "cell_type": "code",
   "execution_count": null,
   "metadata": {},
   "outputs": [],
   "source": []
  },
  {
   "cell_type": "code",
   "execution_count": 51,
   "metadata": {},
   "outputs": [
    {
     "name": "stdout",
     "output_type": "stream",
     "text": [
      "Nadir Point: [10555348.54159382  -660411.        ]\n"
     ]
    }
   ],
   "source": [
    "fitness1 = [sol.tour_cost for sol in evaled_pop]\n",
    "fitness2 = [-1 * sol.packing_plan_cost for sol in evaled_pop]\n",
    "objectives = np.column_stack((fitness1, fitness2))\n",
    "\n",
    "# Find the Nadir point\n",
    "nadir_point = np.max(objectives, axis=0)\n",
    "\n",
    "print(\"Nadir Point:\", nadir_point)"
   ]
  },
  {
   "cell_type": "code",
   "execution_count": null,
   "metadata": {},
   "outputs": [],
   "source": []
  },
  {
   "cell_type": "code",
   "execution_count": null,
   "metadata": {},
   "outputs": [],
   "source": []
  },
  {
   "cell_type": "code",
   "execution_count": null,
   "metadata": {},
   "outputs": [],
   "source": []
  },
  {
   "cell_type": "code",
   "execution_count": null,
   "metadata": {},
   "outputs": [],
   "source": []
  },
  {
   "cell_type": "code",
   "execution_count": null,
   "metadata": {},
   "outputs": [],
   "source": []
  },
  {
   "cell_type": "code",
   "execution_count": null,
   "metadata": {},
   "outputs": [],
   "source": []
  },
  {
   "cell_type": "code",
   "execution_count": 52,
   "metadata": {},
   "outputs": [
    {
     "data": {
      "text/plain": [
       "[]"
      ]
     },
     "execution_count": 52,
     "metadata": {},
     "output_type": "execute_result"
    }
   ],
   "source": [
    "estimated_ideal_point_tour = np.min([sol.tour_cost for sol in evaled_pop])\n",
    "estimated_ideal_packing_plan = np.min([-1 * sol.packing_plan_cost for sol in evaled_pop])\n",
    "\n",
    "nadir_point = [sol.packing_plan_cost for sol in evaled_pop if sol.tour_cost == np.min([sol.tour for sol in evaled_pop])]\n",
    "nadir_point"
   ]
  },
  {
   "cell_type": "code",
   "execution_count": 53,
   "metadata": {},
   "outputs": [
    {
     "data": {
      "text/plain": [
       "[]"
      ]
     },
     "execution_count": 53,
     "metadata": {},
     "output_type": "execute_result"
    }
   ],
   "source": [
    "nadir_point "
   ]
  },
  {
   "cell_type": "code",
   "execution_count": 54,
   "metadata": {},
   "outputs": [
    {
     "data": {
      "text/plain": [
       "<matplotlib.collections.PathCollection at 0x204c93ed750>"
      ]
     },
     "execution_count": 54,
     "metadata": {},
     "output_type": "execute_result"
    },
    {
     "data": {
      "image/png": "[encoded data removed]",
      "text/plain": [
       "<Figure size 800x500 with 1 Axes>"
      ]
     },
     "metadata": {},
     "output_type": "display_data"
    }
   ],
   "source": [
    "fig, ax  = plt.subplots(figsize = (8, 5))\n",
    "plt.scatter([sol.tour_cost for sol in evaled_pop], [-1 * sol.packing_plan_cost for sol in evaled_pop])\n",
    "plt.scatter(estimated_ideal_point_tour, estimated_ideal_packing_plan)\n",
    "# plt.scatter(nadir_point[0], nadir_point[1])"
   ]
  },
  {
   "cell_type": "code",
   "execution_count": 55,
   "metadata": {},
   "outputs": [],
   "source": [
    "def get_hyper_volume(pareto_front): # Just an example of how to do it.\n",
    "    reference_point = (max(pareto_front, key=lambda x: x[0])[0] + 1, max(pareto_front, key=lambda x: x[1])[1] + 1) # nadir point\n",
    "    sorted_pareto_front = sorted(pareto_front, key=lambda x: x[0])\n",
    "\n",
    "    hypervolume = 0\n",
    "    for i in range(len(sorted_pareto_front) - 1):\n",
    "        x, y = sorted_pareto_front[i]\n",
    "        x_next, y_next = sorted_pareto_front[i + 1]\n",
    "        hypervolume += (x_next - x) * (y_next - y)\n",
    "\n",
    "    return hypervolume\n"
   ]
  },
  {
   "cell_type": "code",
   "execution_count": null,
   "metadata": {},
   "outputs": [],
   "source": []
  },
  {
   "cell_type": "code",
   "execution_count": 56,
   "metadata": {},
   "outputs": [],
   "source": [
    "def find_min_indices_in_row(matrix, row_index):\n",
    "    row = matrix[row_index, :]\n",
    "    min_value = np.min(row)\n",
    "    min_indices = np.where(row == min_value)\n",
    "\n",
    "    if len(min_indices[0]) == 1:\n",
    "        # If there's a single minimum value, return only its index in the specified row\n",
    "        return [min_indices[0][0]]\n",
    "    else:\n",
    "        # If there are duplicates, return all occurrences within the specified row\n",
    "        return [col_index for col_index in min_indices[0]]\n"
   ]
  },
  {
   "cell_type": "code",
   "execution_count": 57,
   "metadata": {},
   "outputs": [],
   "source": [
    "def nearest_neighbour(distance_matrix):\n",
    "    dist_matrix = distance_matrix.copy()\n",
    "    num_cities = dist_matrix.shape[0]\n",
    "    start_city = random.sample(list(range(num_cities)), k = 1)\n",
    "    dist_matrix[:, start_city[0]] = np.inf\n",
    "\n",
    "    for _ in range(1, num_cities):\n",
    "        current_city = start_city[-1]\n",
    "        next_city = random.sample(find_min_indices_in_row(dist_matrix, current_city), k = 1)[0]\n",
    "        start_city.append(next_city)\n",
    "        dist_matrix[:, next_city] = np.inf\n",
    "    \n",
    "    return start_city\n",
    "\n",
    "        "
   ]
  },
  {
   "cell_type": "code",
   "execution_count": 58,
   "metadata": {},
   "outputs": [],
   "source": [
    "def tour_length(tour, distance_matrix: list[list]) -> float:\n",
    "    \n",
    "    # cost of going from last city in the chromosme back to the starting chromosome\n",
    "    return_to_start_length = distance_matrix[len(distance_matrix)-1][tour[0]]\n",
    "    # calculate the cost for the rest of the tour\n",
    "    travel_length = 0\n",
    "    for i in range(0, len(distance_matrix)-1, 1):\n",
    "        travel_length += distance_matrix[tour[i]][tour[i+1]]\n",
    "\n",
    "    return travel_length + return_to_start_length\n"
   ]
  },
  {
   "cell_type": "code",
   "execution_count": 59,
   "metadata": {},
   "outputs": [],
   "source": [
    "def nearest_neighbour_2opt(distance_matrix):\n",
    "    tour = nearest_neighbour(distance_matrix=distance_matrix)\n",
    "    number_of_cities = distance_matrix.shape[0]\n",
    "    max_2opt_moves = (number_of_cities) * (number_of_cities - 1) / 2\n",
    "    made_moves = []\n",
    "    length = tour_length(tour, distance_matrix)\n",
    "    better = False\n",
    "    i = 0 \n",
    "\n",
    "    while not better and i < max_2opt_moves:\n",
    "        i += 1\n",
    "        idx = range(len(tour))\n",
    "        made_move = False\n",
    "        i1, i2 = (None, None)\n",
    "        while not made_move:\n",
    "            i1_test, i2_test = random.sample(idx, 2)\n",
    "            if (i1_test, i2_test) in made_moves or (i2_test, i1_test) in made_moves:\n",
    "                continue\n",
    "            else:\n",
    "                i1, i2 = i1_test, i2_test\n",
    "                made_move = True\n",
    "        made_moves.append((i1, i2))\n",
    "        made_moves.append((i2, i1))\n",
    "        new_tour = tour.copy()\n",
    "        new_tour[i1], new_tour[i2] = new_tour[i2], new_tour[i1]\n",
    "        if tour_length(new_tour, distance_matrix) < length:\n",
    "            better = True\n",
    "            tour = new_tour\n",
    "    return tour\n",
    "\n",
    "\n",
    "   "
   ]
  }
 ],
 "metadata": {
  "kernelspec": {
   "display_name": "working130323",
   "language": "python",
   "name": "working130323"
  },
  "language_info": {
   "codemirror_mode": {
    "name": "ipython",
    "version": 3
   },
   "file_extension": ".py",
   "mimetype": "text/x-python",
   "name": "python",
   "nbconvert_exporter": "python",
   "pygments_lexer": "ipython3",
   "version": "3.11.0"
  }
 },
 "nbformat": 4,
 "nbformat_minor": 2
}
