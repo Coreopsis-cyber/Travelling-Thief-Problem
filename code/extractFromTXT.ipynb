{
 "cells": [
  {
   "cell_type": "code",
   "execution_count": 17,
   "metadata": {},
   "outputs": [],
   "source": [
    "import pandas as pd\n",
    "import numpy as np"
   ]
  },
  {
   "cell_type": "code",
   "execution_count": 18,
   "metadata": {},
   "outputs": [],
   "source": [
    "city_count = 280"
   ]
  },
  {
   "cell_type": "code",
   "execution_count": 19,
   "metadata": {},
   "outputs": [
    {
     "data": {
      "text/plain": [
       "<bound method DataFrame.info of      NODE_COORD_SECTION    X    Y\n",
       "0                     1  288  149\n",
       "1                     2  288  129\n",
       "2                     3  270  133\n",
       "3                     4  256  141\n",
       "4                     5  256  157\n",
       "..                  ...  ...  ...\n",
       "275                 276  236  145\n",
       "276                 277  246  141\n",
       "277                 278  252  125\n",
       "278                 279  260  129\n",
       "279                 280  280  133\n",
       "\n",
       "[280 rows x 3 columns]>"
      ]
     },
     "execution_count": 19,
     "metadata": {},
     "output_type": "execute_result"
    }
   ],
   "source": [
    "node_info = pd.read_table('D:/workspace/EA-TTP/a280-n1395_city.txt', delim_whitespace=True)\n",
    "node_info.info"
   ]
  },
  {
   "cell_type": "code",
   "execution_count": 20,
   "metadata": {},
   "outputs": [
    {
     "data": {
      "text/plain": [
       "4.0"
      ]
     },
     "execution_count": 20,
     "metadata": {},
     "output_type": "execute_result"
    }
   ],
   "source": [
    "test = np.power(4,2)\n",
    "test = np.sqrt(test)\n",
    "test"
   ]
  },
  {
   "cell_type": "code",
   "execution_count": 21,
   "metadata": {},
   "outputs": [
    {
     "data": {
      "text/plain": [
       "20.0"
      ]
     },
     "execution_count": 21,
     "metadata": {},
     "output_type": "execute_result"
    }
   ],
   "source": [
    "x = np.power(node_info['X'][1]-node_info['X'][0],2)\n",
    "y = np.power(node_info['Y'][1]-node_info['Y'][0],2)\n",
    "distance = np.sqrt(x+y)\n",
    "distance"
   ]
  },
  {
   "cell_type": "code",
   "execution_count": 22,
   "metadata": {},
   "outputs": [
    {
     "data": {
      "text/plain": [
       "array([[ 0.        , 20.        , 24.08318916, ..., 43.26661531,\n",
       "        34.40930107, 17.88854382],\n",
       "       [20.        ,  0.        , 18.43908891, ..., 36.22154055,\n",
       "        28.        ,  8.94427191],\n",
       "       [24.08318916, 18.43908891,  0.        , ..., 19.6977156 ,\n",
       "        10.77032961, 10.        ],\n",
       "       ...,\n",
       "       [43.26661531, 36.22154055, 19.6977156 , ...,  0.        ,\n",
       "         8.94427191, 29.12043956],\n",
       "       [34.40930107, 28.        , 10.77032961, ...,  8.94427191,\n",
       "         0.        , 20.39607805],\n",
       "       [17.88854382,  8.94427191, 10.        , ..., 29.12043956,\n",
       "        20.39607805,  0.        ]])"
      ]
     },
     "execution_count": 22,
     "metadata": {},
     "output_type": "execute_result"
    }
   ],
   "source": [
    "distanceMatrix = np.zeros((city_count,city_count))\n",
    "for i in range(city_count):\n",
    "    for j in range(city_count):\n",
    "        x = np.power(node_info['X'][i]-node_info['X'][j],2)\n",
    "        y = np.power(node_info['Y'][i]-node_info['Y'][j],2)\n",
    "        distance = np.sqrt(x+y)\n",
    "        distanceMatrix[i][j] = distance\n",
    "distanceMatrix\n"
   ]
  }
 ],
 "metadata": {
  "kernelspec": {
   "display_name": "base",
   "language": "python",
   "name": "python3"
  },
  "language_info": {
   "codemirror_mode": {
    "name": "ipython",
    "version": 3
   },
   "file_extension": ".py",
   "mimetype": "text/x-python",
   "name": "python",
   "nbconvert_exporter": "python",
   "pygments_lexer": "ipython3",
   "version": "3.11.5"
  }
 },
 "nbformat": 4,
 "nbformat_minor": 2
}
