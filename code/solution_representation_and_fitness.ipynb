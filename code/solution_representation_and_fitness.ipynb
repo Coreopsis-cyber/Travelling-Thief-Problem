{
 "cells": [
  {
   "cell_type": "code",
   "execution_count": 1,
   "metadata": {},
   "outputs": [],
   "source": [
    "# Imports\n",
    "from ypstruct import structure\n",
    "import numpy as np\n",
    "import random\n",
    "import math\n",
    "import matplotlib.pyplot as plt"
   ]
  },
  {
   "cell_type": "markdown",
   "metadata": {},
   "source": [
    "#### Replicating the example evaluation of a candidate solution found in as found https://link.springer.com/chapter/10.1007/978-3-319-54157-0_4"
   ]
  },
  {
   "cell_type": "markdown",
   "metadata": {},
   "source": [
    "Setting up the problem example"
   ]
  },
  {
   "cell_type": "code",
   "execution_count": 2,
   "metadata": {},
   "outputs": [],
   "source": [
    "item_values = np.array([30, 34, 40, 25])\n",
    "item_weights = np.array([25, 30, 40, 21])\n",
    "\n",
    "item_to_city_mapping = np.array(\n",
    "    [\n",
    "    [1, 0, 0, 0],\n",
    "    [0, 1, 0, 0],\n",
    "    [0, 0, 1, 0],\n",
    "    [0, 0, 0, 1]\n",
    "    ]\n",
    ").astype(float)\n",
    "item_to_city_mapping_dict = {0:[0], 1:[1], 2:[2], 3:[3]}\n",
    "distance_matrix = np.array(\n",
    "    [\n",
    "    [0, 4, 9, 3],\n",
    "    [4, 0, 5, 5],\n",
    "    [9, 5, 0, 8],\n",
    "    [3, 5, 8, 0]\n",
    "    ]\n",
    ").astype(float)\n",
    "\n",
    "vmax = 1.0\n",
    "vmin = 0.1\n",
    "Q = 80"
   ]
  },
  {
   "cell_type": "markdown",
   "metadata": {},
   "source": [
    "Cost function for the knapsack, as given by:\n",
    "$$\n",
    "  \\sum^m_{j = 1} z_j * b_j\n",
    "$$\n",
    "where $z_j$ is the a binary vector where each index corresponds to an item and is 0 if the item is not picked and 1 if it is and $b_j$ is the values vector."
   ]
  },
  {
   "cell_type": "code",
   "execution_count": 3,
   "metadata": {},
   "outputs": [],
   "source": [
    "def knapsack_cost(candidate_solution, item_values):\n",
    "    return np.sum(candidate_solution.packing_plan * item_values)"
   ]
  },
  {
   "cell_type": "markdown",
   "metadata": {},
   "source": [
    "Cost function for the tour, taking into account velocity, as given by:\n",
    "$$\n",
    "    f(\\pi, z) = \\frac{d_{\\pi_1, \\pi_{n}} * R}{v(w(\\pi_{n}))} + \\sum^{n-1}_{i = 1} \\frac{d_{\\pi_i, \\pi_{i+1}} * R}{v(w(\\pi_{i}))}\n",
    "$$ \n",
    "where \n",
    "$$\n",
    "    w(\\pi_i) = \\sum^{i}_{k=1}\\sum^{m}_{j=1} z_j * b_j * a_{j, \\pi_i}\n",
    "$$ \n",
    "\n",
    "and \n",
    "$$\n",
    "    v(q) = v_{max} - \\frac{q}{Q} * (v_{max} - v_{min})\n",
    "$$ \n",
    "\n",
    "where $d_{\\pi_i, \\pi_{i+1}}$ is the distance between city $i$ and $i+1$, obtained from the distance matrix $d$ and $a$ is the item mapping matrix and R is the renting ratio"
   ]
  },
  {
   "cell_type": "code",
   "execution_count": 18,
   "metadata": {},
   "outputs": [],
   "source": [
    "def tour_cost(candidate_solution, distance_matrix, item_to_city_mapping_dict, item_weights, renting_ratio):\n",
    "    tour = candidate_solution.tour\n",
    "    \n",
    "    # calculate the weight picked up at each city\n",
    "    weight_at_city_i = []\n",
    "    for j in range(0, len(tour)):\n",
    "        # Create a row filled with zeros for the selected item\n",
    "        item_city_row = np.zeros(len(distance_matrix), dtype=int)\n",
    "        # Fill in the row based on the item to city mapping for the selected item\n",
    "        item_city_row[item_to_city_mapping_dict.get(tour[j]-1, [])] = 1\n",
    "        weight_at_city_i.append(sum(item_city_row * candidate_solution.packing_plan * item_weights))\n",
    "    # calculate the total weight that the thief has when leaving each city using the cumulative sum \n",
    "    weight_at_city_i = np.array(np.cumsum(weight_at_city_i))\n",
    "\n",
    "    # calculate the velocity of the thief when leaving each city\n",
    "    velocity_at_city_i = vmax - weight_at_city_i / Q * (vmax - vmin)\n",
    "\n",
    "    # retrieve the distance between the cities \n",
    "    distance_between_cities = []\n",
    "    for i in range(0, len(tour)-1):\n",
    "        distance_between_cities.append(distance_matrix[tour[i]-1][tour[i+1]-1])\n",
    "    distance_between_cities.append(distance_matrix[tour[0]-1][tour[-1]-1])\n",
    "    distance_matrix = np.array(distance_between_cities)\n",
    "    \n",
    "    # return the total completion time\n",
    "    return np.sum(distance_between_cities / velocity_at_city_i) * renting_ratio"
   ]
  },
  {
   "cell_type": "markdown",
   "metadata": {},
   "source": [
    "Setting up the candidate solution and evaluating it using the previously defined function"
   ]
  },
  {
   "cell_type": "code",
   "execution_count": 21,
   "metadata": {},
   "outputs": [
    {
     "name": "stdout",
     "output_type": "stream",
     "text": [
      "20.927986906710313\n",
      "25\n"
     ]
    }
   ],
   "source": [
    "candidate_solution = structure()\n",
    "\n",
    "candidate_solution.tour = np.array([1, 2, 3, 4]) # 4 cities\n",
    "candidate_solution.packing_plan = np.array([0, 0, 0, 1]) # 4 items\n",
    "candidate_solution.tour_cost = tour_cost(candidate_solution, distance_matrix, item_to_city_mapping_dict, item_weights, 1)\n",
    "candidate_solution.packing_plan_cost = knapsack_cost(candidate_solution, item_values)\n",
    "print(candidate_solution.tour_cost)\n",
    "print(candidate_solution.packing_plan_cost)\n",
    "\n"
   ]
  },
  {
   "cell_type": "code",
   "execution_count": 81,
   "metadata": {},
   "outputs": [],
   "source": [
    "def random_tour(distance_matrix):\n",
    "    return np.array(random.sample(list(range(distance_matrix.shape[0])), k = distance_matrix.shape[0]))"
   ]
  },
  {
   "cell_type": "code",
   "execution_count": 82,
   "metadata": {},
   "outputs": [],
   "source": [
    "def find_min_indices_in_row(matrix, row_index):\n",
    "    row = matrix[row_index, :]\n",
    "    min_value = np.min(row)\n",
    "    min_indices = np.where(row == min_value)\n",
    "\n",
    "    if len(min_indices[0]) == 1:\n",
    "        # If there's a single minimum value, return only its index in the specified row\n",
    "        return [min_indices[0][0]]\n",
    "    else:\n",
    "        # If there are duplicates, return all occurrences within the specified row\n",
    "        return [col_index for col_index in min_indices[0]]\n"
   ]
  },
  {
   "cell_type": "code",
   "execution_count": 83,
   "metadata": {},
   "outputs": [],
   "source": [
    "def nearest_neighbour(distance_matrix):\n",
    "    dist_matrix = distance_matrix.copy()\n",
    "    num_cities = dist_matrix.shape[0]\n",
    "    start_city = random.sample(list(range(num_cities)), k = 1)\n",
    "    dist_matrix[:, start_city[0]] = np.inf\n",
    "\n",
    "    for _ in range(1, num_cities):\n",
    "        current_city = start_city[-1]\n",
    "        next_city = random.sample(find_min_indices_in_row(dist_matrix, current_city), k = 1)[0]\n",
    "        start_city.append(next_city)\n",
    "        dist_matrix[:, next_city] = np.inf\n",
    "    \n",
    "    return np.array(start_city)\n",
    "\n",
    "        "
   ]
  },
  {
   "cell_type": "code",
   "execution_count": 84,
   "metadata": {},
   "outputs": [],
   "source": [
    "def tour_length(tour, distance_matrix: list[list]) -> float:\n",
    "\n",
    "    \"\"\"\n",
    "    Calculate the length of a tour for the TTP.\n",
    "\n",
    "    Args:\n",
    "    candidate_solution (structure): A candidate solution represented as a \"structure\" object from the ypstruct library with a \n",
    "    \"chromosome\" attribute and a \"fitness\" attribute.\n",
    "    distance_matrix (list[list]): A 2D list representing the distance matrix where each element at position [i, j] contains the distance\n",
    "    from city i to city j.\n",
    "\n",
    "    Returns:\n",
    "    float: The total cost of the candidate solution, which represents the length of the TSP tour.\n",
    "\n",
    "    The function calculates the length of a TTP tour solution by summing up the distances between consecutive cities in the\n",
    "    candidate solution's chromosome. It also includes the cost of returning to the starting city. It does not take into account velocity. It is\n",
    "    only used for 2opt purposes.\n",
    "    \"\"\"\n",
    "\n",
    "    # cost of going from last city in the chromosme back to the starting chromosome\n",
    "    return_to_start_length = distance_matrix[len(distance_matrix)-1][tour[0]]\n",
    "    # calculate the cost for the rest of the tour\n",
    "    travel_length = 0\n",
    "    for i in range(0, len(distance_matrix)-1, 1):\n",
    "        travel_length += distance_matrix[tour[i]][tour[i+1]]\n",
    "\n",
    "    return travel_length + return_to_start_length\n"
   ]
  },
  {
   "cell_type": "code",
   "execution_count": 85,
   "metadata": {},
   "outputs": [],
   "source": [
    "def nearest_neighbour_2opt(distance_matrix):\n",
    "    tour = nearest_neighbour(distance_matrix=distance_matrix)\n",
    "    number_of_cities = distance_matrix.shape[0]\n",
    "    max_2opt_moves = (number_of_cities) * (number_of_cities - 1) / 2\n",
    "    made_moves = []\n",
    "    length = tour_length(tour, distance_matrix)\n",
    "    better = False\n",
    "    i = 0 \n",
    "\n",
    "    while not better and i < max_2opt_moves:\n",
    "        i += 1\n",
    "        idx = range(len(tour))\n",
    "        made_move = False\n",
    "        i1, i2 = (None, None)\n",
    "        while not made_move:\n",
    "            i1_test, i2_test = random.sample(idx, 2)\n",
    "            if (i1_test, i2_test) in made_moves or (i2_test, i1_test) in made_moves:\n",
    "                continue\n",
    "            else:\n",
    "                i1, i2 = i1_test, i2_test\n",
    "                made_move = True\n",
    "        made_moves.append((i1, i2))\n",
    "        made_moves.append((i2, i1))\n",
    "        new_tour = tour.copy()\n",
    "        new_tour[i1], new_tour[i2] = new_tour[i2], new_tour[i1]\n",
    "        if tour_length(new_tour, distance_matrix) < length:\n",
    "            better = True\n",
    "            tour = new_tour\n",
    "    return np.array(tour)\n",
    "\n",
    "\n",
    "   "
   ]
  },
  {
   "cell_type": "code",
   "execution_count": 86,
   "metadata": {},
   "outputs": [
    {
     "name": "stdout",
     "output_type": "stream",
     "text": [
      "[struct({'tour': array([2, 1, 0, 3], dtype=int64)}), struct({'tour': array([1, 0, 3, 2], dtype=int64)}), struct({'tour': array([2, 1, 0, 3], dtype=int64)}), struct({'tour': array([2, 1, 0, 3], dtype=int64)}), struct({'tour': array([2, 1, 0, 3], dtype=int64)}), struct({'tour': array([3, 0, 1, 2], dtype=int64)}), struct({'tour': array([1, 0, 3, 2], dtype=int64)}), struct({'tour': array([2, 1, 0, 3], dtype=int64)}), struct({'tour': array([2, 1, 0, 3], dtype=int64)}), struct({'tour': array([2, 1, 0, 3], dtype=int64)})]\n"
     ]
    }
   ],
   "source": [
    "init_pop = []\n",
    "for _ in range(10):\n",
    "    candidate_solution = structure()\n",
    "    candidate_solution.tour = nearest_neighbour(distance_matrix=distance_matrix)\n",
    "    init_pop.append(candidate_solution)\n",
    "print(init_pop)"
   ]
  },
  {
   "cell_type": "code",
   "execution_count": 87,
   "metadata": {},
   "outputs": [
    {
     "name": "stdout",
     "output_type": "stream",
     "text": [
      "[struct({'tour': array([3, 0, 1, 2], dtype=int64)}), struct({'tour': array([3, 0, 1, 2], dtype=int64)}), struct({'tour': array([3, 0, 1, 2], dtype=int64)}), struct({'tour': array([3, 0, 1, 2], dtype=int64)}), struct({'tour': array([3, 0, 1, 2], dtype=int64)}), struct({'tour': array([3, 1, 0, 2], dtype=int64)}), struct({'tour': array([3, 0, 1, 2], dtype=int64)}), struct({'tour': array([3, 0, 1, 2], dtype=int64)}), struct({'tour': array([3, 1, 0, 2], dtype=int64)}), struct({'tour': array([3, 0, 1, 2], dtype=int64)})]\n"
     ]
    }
   ],
   "source": [
    "init_pop = []\n",
    "for _ in range(10):\n",
    "    candidate_solution = structure()\n",
    "    candidate_solution.tour = nearest_neighbour_2opt(distance_matrix=distance_matrix)\n",
    "    init_pop.append(candidate_solution)\n",
    "print(init_pop)\n"
   ]
  },
  {
   "cell_type": "code",
   "execution_count": 88,
   "metadata": {},
   "outputs": [],
   "source": [
    "def pack_one(init_pop, item_to_city_mapping):\n",
    "    number_of_items = item_to_city_mapping.shape[0]\n",
    "    for candidate_solution in init_pop:\n",
    "        packing_plan = np.zeros(number_of_items)\n",
    "        chosen_item = random.sample(list(range(number_of_items)), k = 1)\n",
    "        packing_plan[chosen_item] = 1\n",
    "        candidate_solution.packing_plan = np.array(packing_plan)\n",
    "    return init_pop"
   ]
  },
  {
   "cell_type": "code",
   "execution_count": 89,
   "metadata": {},
   "outputs": [
    {
     "data": {
      "text/plain": [
       "[struct({'tour': array([3, 0, 1, 2], dtype=int64), 'packing_plan': array([0., 1., 0., 0.])}),\n",
       " struct({'tour': array([3, 0, 1, 2], dtype=int64), 'packing_plan': array([0., 1., 0., 0.])}),\n",
       " struct({'tour': array([3, 0, 1, 2], dtype=int64), 'packing_plan': array([0., 0., 0., 1.])}),\n",
       " struct({'tour': array([3, 0, 1, 2], dtype=int64), 'packing_plan': array([0., 0., 1., 0.])}),\n",
       " struct({'tour': array([3, 0, 1, 2], dtype=int64), 'packing_plan': array([0., 1., 0., 0.])}),\n",
       " struct({'tour': array([3, 1, 0, 2], dtype=int64), 'packing_plan': array([1., 0., 0., 0.])}),\n",
       " struct({'tour': array([3, 0, 1, 2], dtype=int64), 'packing_plan': array([1., 0., 0., 0.])}),\n",
       " struct({'tour': array([3, 0, 1, 2], dtype=int64), 'packing_plan': array([0., 1., 0., 0.])}),\n",
       " struct({'tour': array([3, 1, 0, 2], dtype=int64), 'packing_plan': array([0., 0., 0., 1.])}),\n",
       " struct({'tour': array([3, 0, 1, 2], dtype=int64), 'packing_plan': array([1., 0., 0., 0.])})]"
      ]
     },
     "execution_count": 89,
     "metadata": {},
     "output_type": "execute_result"
    }
   ],
   "source": [
    "pack_one(init_pop, item_to_city_mapping)"
   ]
  },
  {
   "cell_type": "code",
   "execution_count": 90,
   "metadata": {},
   "outputs": [],
   "source": [
    "def pack_random(init_pop, item_to_city_mapping):\n",
    "    number_of_items = item_to_city_mapping.shape[0]\n",
    "    for candidate_solution in init_pop:\n",
    "        packing_plan = np.array([random.choice(list(range(2))) for _ in range(number_of_items)])\n",
    "        candidate_solution.packing_plan = np.array(packing_plan)\n",
    "    return init_pop"
   ]
  },
  {
   "cell_type": "code",
   "execution_count": 91,
   "metadata": {},
   "outputs": [
    {
     "data": {
      "text/plain": [
       "[struct({'tour': array([3, 0, 1, 2], dtype=int64), 'packing_plan': array([0, 1, 0, 1])}),\n",
       " struct({'tour': array([3, 0, 1, 2], dtype=int64), 'packing_plan': array([0, 1, 0, 0])}),\n",
       " struct({'tour': array([3, 0, 1, 2], dtype=int64), 'packing_plan': array([0, 1, 0, 0])}),\n",
       " struct({'tour': array([3, 0, 1, 2], dtype=int64), 'packing_plan': array([1, 0, 1, 0])}),\n",
       " struct({'tour': array([3, 0, 1, 2], dtype=int64), 'packing_plan': array([0, 0, 1, 0])}),\n",
       " struct({'tour': array([3, 1, 0, 2], dtype=int64), 'packing_plan': array([0, 0, 0, 0])}),\n",
       " struct({'tour': array([3, 0, 1, 2], dtype=int64), 'packing_plan': array([0, 0, 0, 0])}),\n",
       " struct({'tour': array([3, 0, 1, 2], dtype=int64), 'packing_plan': array([1, 0, 0, 0])}),\n",
       " struct({'tour': array([3, 1, 0, 2], dtype=int64), 'packing_plan': array([1, 1, 0, 0])}),\n",
       " struct({'tour': array([3, 0, 1, 2], dtype=int64), 'packing_plan': array([0, 1, 0, 0])})]"
      ]
     },
     "execution_count": 91,
     "metadata": {},
     "output_type": "execute_result"
    }
   ],
   "source": [
    "pack_random(init_pop, item_to_city_mapping)"
   ]
  },
  {
   "cell_type": "code",
   "execution_count": 92,
   "metadata": {},
   "outputs": [
    {
     "data": {
      "text/plain": [
       "{0: 1.2, 3: 1.1904761904761905, 1: 1.1333333333333333, 2: 1.0}"
      ]
     },
     "execution_count": 92,
     "metadata": {},
     "output_type": "execute_result"
    }
   ],
   "source": [
    "value_to_weight_ratio = item_values / item_weights\n",
    "value_to_weight_ratio_dict = {}\n",
    "for i in range(len(value_to_weight_ratio)):\n",
    "    value_to_weight_ratio_dict[i] = value_to_weight_ratio[i]\n",
    "sorted_value_to_weight_ratio_dict = dict(sorted(value_to_weight_ratio_dict.items(), key=lambda x:x[1], reverse = True))\n",
    "sorted_value_to_weight_ratio_dict"
   ]
  },
  {
   "cell_type": "code",
   "execution_count": 93,
   "metadata": {},
   "outputs": [],
   "source": [
    "def pack_optimal(init_pop, item_to_city_mapping, Q, value_to_weight_ratio_dict, item_weights):\n",
    "    number_of_items = item_to_city_mapping.shape[0]\n",
    "    \n",
    "    sorted_value_to_weight_ratio_dict = dict(sorted(value_to_weight_ratio_dict.items(), key=lambda x:x[1], reverse = True))\n",
    "\n",
    "    for candidate_solution in init_pop:\n",
    "        Q_prime = np.random.randint(low = 0, high = Q, size = 1)\n",
    "        packing_plan = np.zeros(number_of_items)\n",
    "        weight  = 0\n",
    "        for i in range(number_of_items):\n",
    "            if weight + item_weights[list(sorted_value_to_weight_ratio_dict.keys())[i]] < Q_prime:\n",
    "                packing_plan[list(sorted_value_to_weight_ratio_dict.keys())[i]] = 1\n",
    "                weight += item_weights[list(sorted_value_to_weight_ratio_dict.keys())[i]]\n",
    "        candidate_solution.packing_plan = np.array(packing_plan)\n",
    "    return init_pop"
   ]
  },
  {
   "cell_type": "code",
   "execution_count": 94,
   "metadata": {},
   "outputs": [
    {
     "data": {
      "text/plain": [
       "[struct({'tour': array([3, 0, 1, 2], dtype=int64), 'packing_plan': array([1., 0., 0., 0.])}),\n",
       " struct({'tour': array([3, 0, 1, 2], dtype=int64), 'packing_plan': array([1., 0., 0., 1.])}),\n",
       " struct({'tour': array([3, 0, 1, 2], dtype=int64), 'packing_plan': array([0., 0., 0., 0.])}),\n",
       " struct({'tour': array([3, 0, 1, 2], dtype=int64), 'packing_plan': array([0., 0., 0., 0.])}),\n",
       " struct({'tour': array([3, 0, 1, 2], dtype=int64), 'packing_plan': array([1., 0., 0., 1.])}),\n",
       " struct({'tour': array([3, 1, 0, 2], dtype=int64), 'packing_plan': array([1., 0., 0., 0.])}),\n",
       " struct({'tour': array([3, 0, 1, 2], dtype=int64), 'packing_plan': array([1., 1., 0., 1.])}),\n",
       " struct({'tour': array([3, 0, 1, 2], dtype=int64), 'packing_plan': array([1., 0., 0., 0.])}),\n",
       " struct({'tour': array([3, 1, 0, 2], dtype=int64), 'packing_plan': array([0., 0., 0., 1.])}),\n",
       " struct({'tour': array([3, 0, 1, 2], dtype=int64), 'packing_plan': array([1., 0., 0., 0.])})]"
      ]
     },
     "execution_count": 94,
     "metadata": {},
     "output_type": "execute_result"
    }
   ],
   "source": [
    "pack_optimal(init_pop, item_to_city_mapping, 110, value_to_weight_ratio_dict, item_weights)"
   ]
  },
  {
   "cell_type": "code",
   "execution_count": 95,
   "metadata": {},
   "outputs": [],
   "source": [
    "def generate_initial_population(pop_size, distance_matrix, item_to_city_mapping_matrix, tour_init_method, pack_init_method, Q = None, value_to_weight_ratio_dict = None, item_weights = None): # Jack\n",
    "\n",
    "    init_pop = []\n",
    "\n",
    "    if tour_init_method == \"random\":\n",
    "        for _ in range(pop_size):\n",
    "            candidate_solution = structure()\n",
    "            candidate_solution.tour = random_tour(distance_matrix=distance_matrix)\n",
    "            init_pop.append(candidate_solution)\n",
    "    elif tour_init_method == \"nearest_neighbour\":\n",
    "        for _ in range(pop_size):\n",
    "            candidate_solution = structure()\n",
    "            candidate_solution.tour = nearest_neighbour(distance_matrix=distance_matrix)\n",
    "            init_pop.append(candidate_solution)\n",
    "    elif tour_init_method == \"2opt_nearest_neighbour\":\n",
    "        for _ in range(pop_size):\n",
    "            candidate_solution = structure()\n",
    "            candidate_solution.tour = nearest_neighbour_2opt(distance_matrix=distance_matrix)\n",
    "            init_pop.append(candidate_solution)\n",
    "\n",
    "    if pack_init_method == \"random\":\n",
    "        pack_random(init_pop, item_to_city_mapping_matrix)\n",
    "    elif pack_init_method == \"pack_one\":\n",
    "        pack_one(init_pop, item_to_city_mapping_matrix)\n",
    "    elif pack_init_method == \"pack_optimal\":\n",
    "        pack_optimal(init_pop, item_to_city_mapping_matrix, Q, value_to_weight_ratio_dict, item_weights)\n",
    "\n",
    "    return init_pop"
   ]
  },
  {
   "cell_type": "code",
   "execution_count": 112,
   "metadata": {},
   "outputs": [],
   "source": [
    "init_pop = generate_initial_population(50, \n",
    "                                       distance_matrix, \n",
    "                                       item_to_city_mapping, \n",
    "                                       \"nearest_neighbour\", \n",
    "                                       \"pack_optimal\", \n",
    "                                       80, \n",
    "                                       value_to_weight_ratio_dict, \n",
    "                                       item_weights)"
   ]
  },
  {
   "cell_type": "code",
   "execution_count": 114,
   "metadata": {},
   "outputs": [
    {
     "name": "stdout",
     "output_type": "stream",
     "text": [
      "[[0, 3, 1, 2], [1, 0, 3, 2], [2, 1, 0, 3], [3, 0, 1, 2]]\n"
     ]
    }
   ],
   "source": [
    "tours = []\n",
    "for candidate_solution in init_pop:\n",
    "    if list(candidate_solution.tour) not in tours:\n",
    "        tours.append(list(candidate_solution.tour))\n",
    "print(tours)"
   ]
  },
  {
   "cell_type": "code",
   "execution_count": 115,
   "metadata": {},
   "outputs": [],
   "source": [
    "def evaluate_candidate_solution_cost(candidate_solution, distance_matrix, item_to_city_mapping_matrix, item_weights, item_values, renting_ratio):\n",
    "    candidate_solution.tour_cost = tour_cost(candidate_solution, distance_matrix, item_to_city_mapping_matrix, item_weights, renting_ratio)\n",
    "    candidate_solution.packing_plan_cost = knapsack_cost(candidate_solution, item_values)\n",
    "    return candidate_solution"
   ]
  },
  {
   "cell_type": "code",
   "execution_count": 116,
   "metadata": {},
   "outputs": [],
   "source": [
    "def evaluate_init_pop_cost(init_pop, distance_matrix, item_to_city_mapping_matrix, item_weights, item_values, renting_ratio):\n",
    "    for candidate_solution in init_pop:\n",
    "        candidate_solution.tour_cost = tour_cost(candidate_solution, distance_matrix, item_to_city_mapping_matrix, item_weights, renting_ratio)\n",
    "        candidate_solution.packing_plan_cost = knapsack_cost(candidate_solution, item_values)\n",
    "    return init_pop"
   ]
  },
  {
   "cell_type": "code",
   "execution_count": 117,
   "metadata": {},
   "outputs": [
    {
     "data": {
      "text/plain": [
       "[struct({'tour': array([0, 3, 1, 2], dtype=int64), 'packing_plan': array([1., 0., 0., 0.]), 'tour_cost': 29.52173913043478, 'packing_plan_cost': 30.0}),\n",
       " struct({'tour': array([0, 3, 1, 2], dtype=int64), 'packing_plan': array([1., 0., 0., 0.]), 'tour_cost': 29.52173913043478, 'packing_plan_cost': 30.0}),\n",
       " struct({'tour': array([0, 3, 1, 2], dtype=int64), 'packing_plan': array([0., 0., 0., 0.]), 'tour_cost': 26.0, 'packing_plan_cost': 0.0}),\n",
       " struct({'tour': array([1, 0, 3, 2], dtype=int64), 'packing_plan': array([1., 0., 0., 1.]), 'tour_cost': 39.40707366523992, 'packing_plan_cost': 55.0}),\n",
       " struct({'tour': array([1, 0, 3, 2], dtype=int64), 'packing_plan': array([1., 0., 0., 0.]), 'tour_cost': 27.82608695652174, 'packing_plan_cost': 30.0}),\n",
       " struct({'tour': array([2, 1, 0, 3], dtype=int64), 'packing_plan': array([1., 0., 0., 0.]), 'tour_cost': 26.26086956521739, 'packing_plan_cost': 30.0}),\n",
       " struct({'tour': array([3, 0, 1, 2], dtype=int64), 'packing_plan': array([0., 0., 0., 0.]), 'tour_cost': 20.0, 'packing_plan_cost': 0.0}),\n",
       " struct({'tour': array([2, 1, 0, 3], dtype=int64), 'packing_plan': array([1., 0., 0., 1.]), 'tour_cost': 35.11691822482541, 'packing_plan_cost': 55.0}),\n",
       " struct({'tour': array([0, 3, 1, 2], dtype=int64), 'packing_plan': array([0., 0., 0., 0.]), 'tour_cost': 26.0, 'packing_plan_cost': 0.0}),\n",
       " struct({'tour': array([0, 3, 1, 2], dtype=int64), 'packing_plan': array([1., 0., 0., 1.]), 'tour_cost': 40.91144221229108, 'packing_plan_cost': 55.0}),\n",
       " struct({'tour': array([2, 1, 0, 3], dtype=int64), 'packing_plan': array([0., 0., 0., 1.]), 'tour_cost': 24.021276595744684, 'packing_plan_cost': 25.0}),\n",
       " struct({'tour': array([2, 1, 0, 3], dtype=int64), 'packing_plan': array([1., 0., 0., 1.]), 'tour_cost': 35.11691822482541, 'packing_plan_cost': 55.0}),\n",
       " struct({'tour': array([1, 0, 3, 2], dtype=int64), 'packing_plan': array([0., 0., 0., 0.]), 'tour_cost': 20.0, 'packing_plan_cost': 0.0}),\n",
       " struct({'tour': array([3, 0, 1, 2], dtype=int64), 'packing_plan': array([1., 0., 0., 1.]), 'tour_cost': 30.580836647642954, 'packing_plan_cost': 55.0}),\n",
       " struct({'tour': array([1, 0, 3, 2], dtype=int64), 'packing_plan': array([0., 0., 0., 0.]), 'tour_cost': 20.0, 'packing_plan_cost': 0.0}),\n",
       " struct({'tour': array([1, 0, 3, 2], dtype=int64), 'packing_plan': array([1., 0., 0., 1.]), 'tour_cost': 39.40707366523992, 'packing_plan_cost': 55.0}),\n",
       " struct({'tour': array([3, 0, 1, 2], dtype=int64), 'packing_plan': array([1., 0., 0., 1.]), 'tour_cost': 30.580836647642954, 'packing_plan_cost': 55.0}),\n",
       " struct({'tour': array([0, 3, 1, 2], dtype=int64), 'packing_plan': array([1., 0., 0., 1.]), 'tour_cost': 40.91144221229108, 'packing_plan_cost': 55.0}),\n",
       " struct({'tour': array([3, 0, 1, 2], dtype=int64), 'packing_plan': array([1., 0., 0., 1.]), 'tour_cost': 30.580836647642954, 'packing_plan_cost': 55.0}),\n",
       " struct({'tour': array([2, 1, 0, 3], dtype=int64), 'packing_plan': array([0., 0., 0., 0.]), 'tour_cost': 20.0, 'packing_plan_cost': 0.0}),\n",
       " struct({'tour': array([0, 3, 1, 2], dtype=int64), 'packing_plan': array([1., 0., 0., 0.]), 'tour_cost': 29.52173913043478, 'packing_plan_cost': 30.0}),\n",
       " struct({'tour': array([2, 1, 0, 3], dtype=int64), 'packing_plan': array([0., 0., 0., 0.]), 'tour_cost': 20.0, 'packing_plan_cost': 0.0}),\n",
       " struct({'tour': array([0, 3, 1, 2], dtype=int64), 'packing_plan': array([1., 0., 0., 0.]), 'tour_cost': 29.52173913043478, 'packing_plan_cost': 30.0}),\n",
       " struct({'tour': array([3, 0, 1, 2], dtype=int64), 'packing_plan': array([1., 0., 0., 1.]), 'tour_cost': 30.580836647642954, 'packing_plan_cost': 55.0}),\n",
       " struct({'tour': array([2, 1, 0, 3], dtype=int64), 'packing_plan': array([1., 0., 0., 1.]), 'tour_cost': 35.11691822482541, 'packing_plan_cost': 55.0}),\n",
       " struct({'tour': array([2, 1, 0, 3], dtype=int64), 'packing_plan': array([1., 0., 0., 0.]), 'tour_cost': 26.26086956521739, 'packing_plan_cost': 30.0}),\n",
       " struct({'tour': array([0, 3, 1, 2], dtype=int64), 'packing_plan': array([1., 0., 0., 0.]), 'tour_cost': 29.52173913043478, 'packing_plan_cost': 30.0}),\n",
       " struct({'tour': array([2, 1, 0, 3], dtype=int64), 'packing_plan': array([1., 0., 0., 0.]), 'tour_cost': 26.26086956521739, 'packing_plan_cost': 30.0}),\n",
       " struct({'tour': array([1, 0, 3, 2], dtype=int64), 'packing_plan': array([1., 0., 0., 1.]), 'tour_cost': 39.40707366523992, 'packing_plan_cost': 55.0}),\n",
       " struct({'tour': array([0, 3, 1, 2], dtype=int64), 'packing_plan': array([1., 0., 0., 1.]), 'tour_cost': 40.91144221229108, 'packing_plan_cost': 55.0}),\n",
       " struct({'tour': array([1, 0, 3, 2], dtype=int64), 'packing_plan': array([1., 0., 0., 0.]), 'tour_cost': 27.82608695652174, 'packing_plan_cost': 30.0}),\n",
       " struct({'tour': array([1, 0, 3, 2], dtype=int64), 'packing_plan': array([1., 0., 0., 1.]), 'tour_cost': 39.40707366523992, 'packing_plan_cost': 55.0}),\n",
       " struct({'tour': array([2, 1, 0, 3], dtype=int64), 'packing_plan': array([1., 0., 0., 0.]), 'tour_cost': 26.26086956521739, 'packing_plan_cost': 30.0}),\n",
       " struct({'tour': array([2, 1, 0, 3], dtype=int64), 'packing_plan': array([0., 0., 0., 0.]), 'tour_cost': 20.0, 'packing_plan_cost': 0.0}),\n",
       " struct({'tour': array([2, 1, 0, 3], dtype=int64), 'packing_plan': array([0., 0., 0., 0.]), 'tour_cost': 20.0, 'packing_plan_cost': 0.0}),\n",
       " struct({'tour': array([3, 0, 1, 2], dtype=int64), 'packing_plan': array([1., 0., 0., 0.]), 'tour_cost': 23.52173913043478, 'packing_plan_cost': 30.0}),\n",
       " struct({'tour': array([2, 1, 0, 3], dtype=int64), 'packing_plan': array([1., 1., 0., 1.]), 'tour_cost': 103.5617607218661, 'packing_plan_cost': 89.0}),\n",
       " struct({'tour': array([2, 1, 0, 3], dtype=int64), 'packing_plan': array([0., 0., 0., 1.]), 'tour_cost': 24.021276595744684, 'packing_plan_cost': 25.0}),\n",
       " struct({'tour': array([1, 0, 3, 2], dtype=int64), 'packing_plan': array([1., 0., 0., 0.]), 'tour_cost': 27.82608695652174, 'packing_plan_cost': 30.0}),\n",
       " struct({'tour': array([1, 0, 3, 2], dtype=int64), 'packing_plan': array([0., 0., 0., 0.]), 'tour_cost': 20.0, 'packing_plan_cost': 0.0}),\n",
       " struct({'tour': array([0, 3, 1, 2], dtype=int64), 'packing_plan': array([1., 0., 0., 1.]), 'tour_cost': 40.91144221229108, 'packing_plan_cost': 55.0}),\n",
       " struct({'tour': array([3, 0, 1, 2], dtype=int64), 'packing_plan': array([1., 0., 0., 0.]), 'tour_cost': 23.52173913043478, 'packing_plan_cost': 30.0}),\n",
       " struct({'tour': array([2, 1, 0, 3], dtype=int64), 'packing_plan': array([1., 0., 0., 1.]), 'tour_cost': 35.11691822482541, 'packing_plan_cost': 55.0}),\n",
       " struct({'tour': array([3, 0, 1, 2], dtype=int64), 'packing_plan': array([1., 0., 0., 1.]), 'tour_cost': 30.580836647642954, 'packing_plan_cost': 55.0}),\n",
       " struct({'tour': array([2, 1, 0, 3], dtype=int64), 'packing_plan': array([0., 0., 0., 0.]), 'tour_cost': 20.0, 'packing_plan_cost': 0.0}),\n",
       " struct({'tour': array([1, 0, 3, 2], dtype=int64), 'packing_plan': array([1., 0., 0., 1.]), 'tour_cost': 39.40707366523992, 'packing_plan_cost': 55.0}),\n",
       " struct({'tour': array([0, 3, 1, 2], dtype=int64), 'packing_plan': array([1., 1., 0., 1.]), 'tour_cost': 65.0315065324626, 'packing_plan_cost': 89.0}),\n",
       " struct({'tour': array([2, 1, 0, 3], dtype=int64), 'packing_plan': array([1., 0., 0., 1.]), 'tour_cost': 35.11691822482541, 'packing_plan_cost': 55.0}),\n",
       " struct({'tour': array([1, 0, 3, 2], dtype=int64), 'packing_plan': array([0., 0., 0., 0.]), 'tour_cost': 20.0, 'packing_plan_cost': 0.0}),\n",
       " struct({'tour': array([3, 0, 1, 2], dtype=int64), 'packing_plan': array([1., 0., 0., 0.]), 'tour_cost': 23.52173913043478, 'packing_plan_cost': 30.0})]"
      ]
     },
     "execution_count": 117,
     "metadata": {},
     "output_type": "execute_result"
    }
   ],
   "source": [
    "evaluate_init_pop_cost(init_pop, distance_matrix, item_to_city_mapping, item_weights, item_values, 1)"
   ]
  },
  {
   "cell_type": "code",
   "execution_count": 120,
   "metadata": {},
   "outputs": [
    {
     "data": {
      "text/plain": [
       "<matplotlib.collections.PathCollection at 0x26b75714410>"
      ]
     },
     "execution_count": 120,
     "metadata": {},
     "output_type": "execute_result"
    },
    {
     "data": {
      "image/png": "[encoded data removed]",
      "text/plain": [
       "<Figure size 640x480 with 1 Axes>"
      ]
     },
     "metadata": {},
     "output_type": "display_data"
    }
   ],
   "source": [
    "plt.scatter(x = np.array([sol.tour_cost for sol in init_pop]), y = -np.array([sol.packing_plan_cost for sol in init_pop]), alpha = 0.5)"
   ]
  },
  {
   "cell_type": "code",
   "execution_count": 207,
   "metadata": {},
   "outputs": [
    {
     "data": {
      "text/plain": [
       "array([[ 0.        , 20.        , 24.08318916, ..., 43.26661531,\n",
       "        34.40930107, 17.88854382],\n",
       "       [20.        ,  0.        , 18.43908891, ..., 36.22154055,\n",
       "        28.        ,  8.94427191],\n",
       "       [24.08318916, 18.43908891,  0.        , ..., 19.6977156 ,\n",
       "        10.77032961, 10.        ],\n",
       "       ...,\n",
       "       [43.26661531, 36.22154055, 19.6977156 , ...,  0.        ,\n",
       "         8.94427191, 29.12043956],\n",
       "       [34.40930107, 28.        , 10.77032961, ...,  8.94427191,\n",
       "         0.        , 20.39607805],\n",
       "       [17.88854382,  8.94427191, 10.        , ..., 29.12043956,\n",
       "        20.39607805,  0.        ]])"
      ]
     },
     "execution_count": 207,
     "metadata": {},
     "output_type": "execute_result"
    }
   ],
   "source": [
    "import pandas as pd\n",
    "import numpy as np\n",
    "city_count = 280\n",
    "node_info = pd.read_table('a280-n1395_city.txt', delim_whitespace=True)\n",
    "node_info.info\n",
    "test = np.power(4,2)\n",
    "test = np.sqrt(test)\n",
    "test\n",
    "x = np.power(node_info['X'][1]-node_info['X'][0],2)\n",
    "y = np.power(node_info['Y'][1]-node_info['Y'][0],2)\n",
    "distance = np.sqrt(x+y)\n",
    "distance\n",
    "distanceMatrix = np.zeros((city_count,city_count))\n",
    "for i in range(city_count):\n",
    "    for j in range(city_count):\n",
    "        x = np.power(node_info['X'][i]-node_info['X'][j],2)\n",
    "        y = np.power(node_info['Y'][i]-node_info['Y'][j],2)\n",
    "        distance = np.sqrt(x+y)\n",
    "        distanceMatrix[i][j] = distance\n",
    "distanceMatrix"
   ]
  },
  {
   "cell_type": "code",
   "execution_count": 218,
   "metadata": {},
   "outputs": [
    {
     "name": "stdout",
     "output_type": "stream",
     "text": [
      "0\n",
      "10\n",
      "20\n",
      "30\n",
      "40\n",
      "50\n",
      "60\n",
      "70\n",
      "80\n",
      "90\n"
     ]
    }
   ],
   "source": [
    "init_pop = []\n",
    "for i in range(100):\n",
    "    if i % 10 == 0:\n",
    "        print(i)\n",
    "    candidate_solution = structure()\n",
    "    candidate_solution.tour = nearest_neighbour_2opt(distanceMatrix)\n",
    "    init_pop.append(candidate_solution)"
   ]
  },
  {
   "cell_type": "code",
   "execution_count": 220,
   "metadata": {},
   "outputs": [
    {
     "name": "stdout",
     "output_type": "stream",
     "text": [
      "3070.68242425079\n"
     ]
    }
   ],
   "source": [
    "print(min([tour_length(init_pop[i].tour, distanceMatrix) for i in range(len(init_pop))]))"
   ]
  },
  {
   "cell_type": "code",
   "execution_count": null,
   "metadata": {},
   "outputs": [],
   "source": []
  }
 ],
 "metadata": {
  "kernelspec": {
   "display_name": "working130323",
   "language": "python",
   "name": "working130323"
  },
  "language_info": {
   "codemirror_mode": {
    "name": "ipython",
    "version": 3
   },
   "file_extension": ".py",
   "mimetype": "text/x-python",
   "name": "python",
   "nbconvert_exporter": "python",
   "pygments_lexer": "ipython3",
   "version": "3.11.0"
  }
 },
 "nbformat": 4,
 "nbformat_minor": 2
}
